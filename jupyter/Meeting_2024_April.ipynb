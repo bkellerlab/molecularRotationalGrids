{
 "cells": [
  {
   "cell_type": "markdown",
   "id": "ddc13c20",
   "metadata": {
    "toc": true
   },
   "source": [
    "<h1>Table of Contents<span class=\"tocSkip\"></span></h1>\n",
    "<div class=\"toc\"><ul class=\"toc-item\"><li><span><a href=\"#MSM\" data-toc-modified-id=\"MSM-1\"><span class=\"toc-item-num\">1&nbsp;&nbsp;</span>MSM</a></span></li><li><span><a href=\"#SQRA\" data-toc-modified-id=\"SQRA-2\"><span class=\"toc-item-num\">2&nbsp;&nbsp;</span>SQRA</a></span></li><li><span><a href=\"#Geometrical-properties-of-FullGrid\" data-toc-modified-id=\"Geometrical-properties-of-FullGrid-3\"><span class=\"toc-item-num\">3&nbsp;&nbsp;</span>Geometrical properties of FullGrid</a></span></li><li><span><a href=\"#Timing\" data-toc-modified-id=\"Timing-4\"><span class=\"toc-item-num\">4&nbsp;&nbsp;</span>Timing</a></span></li></ul></div>"
   ]
  },
  {
   "cell_type": "code",
   "execution_count": 1,
   "id": "959ed62d",
   "metadata": {
    "ExecuteTime": {
     "end_time": "2024-04-25T10:25:58.749344Z",
     "start_time": "2024-04-25T10:25:58.745744Z"
    }
   },
   "outputs": [],
   "source": [
    "import sys\n",
    "import os\n",
    "\n",
    "try:\n",
    "    os.chdir(r\"/home/hanaz63/PAPER_MOLECULAR_ROTATIONS_2022/nobackup/molgri\")\n",
    "    sys.path.append(r\"/home/hanaz63/PAPER_MOLECULAR_ROTATIONS_2022/nobackup\")\n",
    "except FileNotFoundError:\n",
    "    os.chdir(r\"D:\\HANA\\phD\\PAPER_2022\\molecularRotationalGrids\")\n",
    "    sys.path.append(r\"D:\\HANA\\phD\\PAPER_2022\\molecularRotationalGrids\")\n",
    "    \n",
    "import warnings\n",
    "warnings.filterwarnings(\"ignore\")"
   ]
  },
  {
   "cell_type": "code",
   "execution_count": 2,
   "id": "b86bb224",
   "metadata": {
    "ExecuteTime": {
     "end_time": "2024-04-25T10:26:02.098206Z",
     "start_time": "2024-04-25T10:25:59.146555Z"
    }
   },
   "outputs": [
    {
     "data": {
      "application/vnd.jupyter.widget-view+json": {
       "model_id": "9de34603c9e54bd3bf8d35264bc59d47",
       "version_major": 2,
       "version_minor": 0
      },
      "text/plain": []
     },
     "metadata": {},
     "output_type": "display_data"
    }
   ],
   "source": [
    "import numpy as np\n",
    "import matplotlib.pyplot as plt\n",
    "import seaborn as sns\n",
    "\n",
    "from molgri.plotting.widgets import ViewManager\n",
    "from molgri.space.fullgrid import FullGrid\n",
    "from molgri.molecules.transitions import MSM, SimulationHistogram, SQRA\n",
    "from molgri.space.utils import k_argmax_in_array\n",
    "from molgri.plotting.transition_plots import TransitionPlot\n",
    "from molgri.paths import PATH_OUTPUT_LOGGING\n",
    "\n",
    "sns.set_context(\"notebook\")"
   ]
  },
  {
   "cell_type": "code",
   "execution_count": 3,
   "id": "a97b1142",
   "metadata": {
    "ExecuteTime": {
     "end_time": "2024-04-25T10:26:02.105870Z",
     "start_time": "2024-04-25T10:26:02.099655Z"
    },
    "code_folding": []
   },
   "outputs": [],
   "source": [
    "# view functions adapted for eigenvectors\n",
    "\n",
    "def view_most_populated_eigenv(my_sh, model, eigenvector_i=0, num_extremes=20, tau_i=0):\n",
    "    vm = ViewManager(my_sh.trajectory_universe)\n",
    "    vm.fresh_view()\n",
    "    my_sh.use_saved = True\n",
    "\n",
    "    evalu, evec = model.get_eigenval_eigenvec()\n",
    "    magnitudes = evec[tau_i].T[eigenvector_i]\n",
    "\n",
    "    most_positive = k_argmax_in_array(np.abs(magnitudes), num_extremes)\n",
    "\n",
    "    print(f\"In 0th eigenvector {num_extremes} most positive cells are {list(most_positive)}.\")\n",
    "    # now assign these to trajectory frames\n",
    "    assigned_frames = []\n",
    "    for one_argmax in most_positive:\n",
    "        all_assigned = my_sh.get_indices_same_cell(one_argmax)\n",
    "        assigned_frames.extend(all_assigned)\n",
    "\n",
    "    # for gromacs\n",
    "    print(list(np.random.choice(assigned_frames, 300)))\n",
    "    vm.plot_frames_overlapping(np.random.choice(assigned_frames, 50))\n",
    "    return vm\n",
    "\n",
    "def view_most_pos_neg_eigenv(my_sh, model, eigenvector_i=1, num_extremes=20, tau_i=0):\n",
    "    vm = ViewManager(my_sh.trajectory_universe)\n",
    "    vm.fresh_view()\n",
    "    my_sh.use_saved = True\n",
    "\n",
    "    evalu, evec = model.get_eigenval_eigenvec()\n",
    "    magnitudes = evec[tau_i].T[eigenvector_i]\n",
    "\n",
    "    most_positive = k_argmax_in_array(magnitudes, num_extremes)\n",
    "    most_negative = k_argmax_in_array(-magnitudes, num_extremes)\n",
    "\n",
    "\n",
    "    print(f\"In 1st eigenvector {num_extremes} most positive cells are {list(most_positive)} and most negative {list(most_negative)}.\")\n",
    "    # now assign these to trajectory frames\n",
    "\n",
    "    assigned_frames_p = []\n",
    "    for one_argmax in most_positive:\n",
    "        all_assigned = my_sh.get_indices_same_cell(one_argmax)\n",
    "        assigned_frames_p.extend(all_assigned)\n",
    "    assigned_frames_n = []\n",
    "    for one_argmax in most_negative:\n",
    "        all_assigned = my_sh.get_indices_same_cell(one_argmax)\n",
    "        assigned_frames_n.extend(all_assigned)\n",
    "\n",
    "    colors = [\"blue\",]*25\n",
    "    colors.extend([\"red\",]*25)\n",
    "\n",
    "    assigned_frames = list(np.random.choice(assigned_frames_p, 25))\n",
    "    assigned_frames.extend(list(np.random.choice(assigned_frames_n, 25)))\n",
    "    # for gromacs\n",
    "    print(list(assigned_frames))\n",
    "    vm.plot_frames_overlapping(assigned_frames, colors=colors)\n",
    "    return vm"
   ]
  },
  {
   "cell_type": "markdown",
   "id": "64507003",
   "metadata": {},
   "source": [
    "## MSM"
   ]
  },
  {
   "cell_type": "code",
   "execution_count": 4,
   "id": "67e3cc82",
   "metadata": {
    "ExecuteTime": {
     "end_time": "2024-04-23T13:04:08.846106Z",
     "start_time": "2024-04-23T13:04:08.058699Z"
    }
   },
   "outputs": [],
   "source": [
    "# input parameters\n",
    "msm_name = \"H2O_H2O_0095_50000000\"\n",
    "msm_fullgrid = full_grid=FullGrid(b_grid_name=\"20\", o_grid_name=\"20\",\n",
    "                                  t_grid_name=\"linspace(0.2, 0.6, 10)\")\n",
    "\n",
    "#o_grid=40, b_grid=42, t_grid=linspace(0.2, 0.7, 20)\n",
    "msm_use_saved = True\n",
    "tau_array = np.array([1, 2, 3, 5, 7, 10, 15, 20, 30, 40, 50, 70, 80, 90, 100, 110, 130, 150, 180, 200, 220,\n",
    "                      250, 270, 300])\n",
    "index_tau = 17"
   ]
  },
  {
   "cell_type": "code",
   "execution_count": 5,
   "id": "574e6f16",
   "metadata": {
    "ExecuteTime": {
     "end_time": "2024-04-23T14:16:27.102416Z",
     "start_time": "2024-04-23T13:04:12.155556Z"
    }
   },
   "outputs": [],
   "source": [
    "water_msm_sh = SimulationHistogram(msm_name, \"H2O\", is_pt=False, full_grid=msm_fullgrid,\n",
    "                                   second_molecule_selection=\"bynum 4:6\", use_saved=msm_use_saved)\n",
    "msm = MSM(water_msm_sh, tau_array=tau_array, use_saved=msm_use_saved)"
   ]
  },
  {
   "cell_type": "code",
   "execution_count": null,
   "id": "0df59156",
   "metadata": {
    "ExecuteTime": {
     "end_time": "2024-04-23T22:58:23.736431Z",
     "start_time": "2024-04-23T22:58:23.736423Z"
    }
   },
   "outputs": [],
   "source": [
    "msm_tp = TransitionPlot(water_msm_sh, tau_array=tau_array)\n",
    "msm_tp.transition_obj = msm\n",
    "msm_tp.simulation_histogram.use_saved = True\n",
    "msm_tp.transition_obj.use_saved=True\n",
    "fig, ax = plt.subplots(1, 2, sharex=False, sharey=False, figsize=(10, 5))\n",
    "msm_tp.plot_eigenvalues(num_eigenv=6, index_tau=index_tau, save=False, fig=fig, ax=ax[0])\n",
    "msm_tp.plot_its(6, as_line=False, save=False, fig=fig, ax=ax[1])\n",
    "plt.show()"
   ]
  },
  {
   "cell_type": "code",
   "execution_count": null,
   "id": "2d6a9bd6",
   "metadata": {
    "ExecuteTime": {
     "end_time": "2024-04-23T14:16:28.196410Z",
     "start_time": "2024-04-23T14:16:28.196401Z"
    }
   },
   "outputs": [],
   "source": [
    "fig, ax = plt.subplots(5, sharex=True, sharey=True, figsize=(5, 12.5))\n",
    "for i in range(5):\n",
    "    tp.plot_one_eigenvector_flat(i, save=False, fig=fig, ax=ax[i], index_tau=index_tau)\n",
    "plt.show()"
   ]
  },
  {
   "cell_type": "code",
   "execution_count": null,
   "id": "5e2b9784",
   "metadata": {},
   "outputs": [],
   "source": [
    "# MSM eigenvector 0\n",
    "my_vm = view_most_populated_eigenv(water_msm_sh, 0, num_extremes=20, tau_i=index_tau)\n",
    "my_vm.view"
   ]
  },
  {
   "cell_type": "code",
   "execution_count": null,
   "id": "604adf1e",
   "metadata": {},
   "outputs": [],
   "source": [
    "# MSM view eigenvector 1\n",
    "my_vm = view_most_pos_neg_eigenv(water_msm_sh, 1, num_extremes=20, tau_i=index_tau)\n",
    "my_vm.view"
   ]
  },
  {
   "cell_type": "code",
   "execution_count": null,
   "id": "f38aae4e",
   "metadata": {},
   "outputs": [],
   "source": [
    "# MSM view eigenvector 2\n",
    "my_vm = view_most_pos_neg_eigenv(water_msm_sh, 2, num_extremes=20, tau_i=index_tau)\n",
    "my_vm.view"
   ]
  },
  {
   "cell_type": "code",
   "execution_count": null,
   "id": "b320e0cb",
   "metadata": {},
   "outputs": [],
   "source": [
    "# MSM view eigenvector 3\n",
    "my_vm = view_most_pos_neg_eigenv(water_msm_sh, 3, num_extremes=20, tau_iS=index_tau)\n",
    "my_vm.view"
   ]
  },
  {
   "cell_type": "markdown",
   "id": "19fea0af",
   "metadata": {},
   "source": [
    "## SQRA"
   ]
  },
  {
   "cell_type": "code",
   "execution_count": 32,
   "id": "e1b5fad8",
   "metadata": {
    "ExecuteTime": {
     "end_time": "2024-04-25T12:47:35.728650Z",
     "start_time": "2024-04-25T12:47:35.725615Z"
    }
   },
   "outputs": [],
   "source": [
    "# input parameters\n",
    "# FUNCTIONS: H2O_H2O_0543\n",
    "# it is redone as 0577\n",
    "# try 81, \n",
    "sqra_name = \"H2O_H2O_0582\"\n",
    "sqra_use_saved = False"
   ]
  },
  {
   "cell_type": "code",
   "execution_count": 33,
   "id": "eef83079",
   "metadata": {
    "ExecuteTime": {
     "end_time": "2024-04-25T12:47:45.853385Z",
     "start_time": "2024-04-25T12:47:36.225224Z"
    }
   },
   "outputs": [
    {
     "name": "stderr",
     "output_type": "stream",
     "text": [
      "Exception ignored in: <function ReaderBase.__del__ at 0x7f6d80eb4220>\n",
      "Traceback (most recent call last):\n",
      "  File \"/home/hanaz63/miniconda3/lib/python3.11/site-packages/MDAnalysis/coordinates/base.py\", line 1532, in __del__\n",
      "    self.close()\n",
      "  File \"/home/hanaz63/miniconda3/lib/python3.11/site-packages/MDAnalysis/coordinates/XDR.py\", line 186, in close\n",
      "    self._xdr.close()\n",
      "    ^^^^^^^^^\n",
      "AttributeError: 'TRRReader' object has no attribute '_xdr'\n"
     ]
    },
    {
     "name": "stdout",
     "output_type": "stream",
     "text": [
      "[2.43818897e+01 8.63091308e+02 1.73521979e+05 ... 2.89400180e+00\n",
      " 3.94383396e+00 2.90871270e+00]\n",
      "[   0    1    2 ... 2397 2398 2399]\n"
     ]
    },
    {
     "name": "stderr",
     "output_type": "stream",
     "text": [
      "100%|████████████████████████████████████████████████████████████████████████████████████████████████████████████████████████████████████████████████████████████████████████████████████████████████████████████████████████████████████████| 1/1 [00:00<00:00,  3.75it/s]\n"
     ]
    },
    {
     "data": {
      "text/plain": [
       "(array([[ 2.53699370e-16, -2.86061882e-03, -3.18921468e-03,\n",
       "         -8.79087239e-03, -1.02703558e-02, -1.65067953e-02]]),\n",
       " array([[[ 1.49203174e-07,  1.14771354e-06, -1.60916237e-06,\n",
       "          -3.46360554e-06,  2.60872632e-06, -5.36633851e-07],\n",
       "         [ 1.82633578e-11,  1.81862406e-05, -2.59059228e-05,\n",
       "          -5.27327882e-05,  3.65482471e-05, -5.68433382e-06],\n",
       "         [ 3.05597753e-17, -1.65964260e-06,  2.35733346e-06,\n",
       "           4.81517289e-06, -3.32321522e-06,  5.19955243e-07],\n",
       "         ...,\n",
       "         [ 2.62140363e-04,  2.83533820e-04, -1.33511525e-04,\n",
       "          -3.45360107e-04, -1.52981734e-04, -1.26488829e-04],\n",
       "         [ 1.66943884e-04,  1.84405833e-04, -7.24868111e-05,\n",
       "          -2.34745735e-04, -2.16500963e-04, -5.71839406e-05],\n",
       "         [ 3.74689511e-04,  4.06075767e-04, -1.89334062e-04,\n",
       "          -7.92144757e-04, -2.28982728e-04, -3.05178092e-05]]]))"
      ]
     },
     "execution_count": 33,
     "metadata": {},
     "output_type": "execute_result"
    }
   ],
   "source": [
    "full_grid = FullGrid(b_grid_name=\"20\", o_grid_name=\"12\", t_grid_name=\"linspace(0.25, 0.6, 10)\",\n",
    "                     use_saved=True)\n",
    "\n",
    "water_sqra_sh = SimulationHistogram(sqra_name, \"H2O\", is_pt=True, full_grid=full_grid,\n",
    "                second_molecule_selection=\"bynum 4:6\", use_saved=sqra_use_saved)\n",
    "\n",
    "sqra = SQRA(water_sqra_sh, use_saved=sqra_use_saved)\n",
    "sqra.get_eigenval_eigenvec(6, sigma = 0, which = \"LM\")"
   ]
  },
  {
   "cell_type": "code",
   "execution_count": 34,
   "id": "427de43f",
   "metadata": {
    "ExecuteTime": {
     "end_time": "2024-04-25T12:47:45.860522Z",
     "start_time": "2024-04-25T12:47:45.855691Z"
    }
   },
   "outputs": [
    {
     "name": "stdout",
     "output_type": "stream",
     "text": [
      "Input parameters of FullGrid: o_grid=12, b_grid=20, t_grid=linspace(0.25, 0.6, 10)\n"
     ]
    }
   ],
   "source": [
    "# print out the information on this fullgrid\n",
    "with open(f\"{PATH_OUTPUT_LOGGING}{sqra_name}.log\") as f:\n",
    "    for line in f.readlines():\n",
    "        if line.startswith(\"INFO:PtLogger:input grid parameters:\"):\n",
    "            all_param = line.split(':')[-1]\n",
    "            split_param = all_param.split()\n",
    "            t_grid = \" \".join(split_param[2:])\n",
    "            print(f\"Input parameters of FullGrid: o_grid={split_param[0]}, b_grid={split_param[1]}, t_grid={t_grid}\")\n",
    "            break"
   ]
  },
  {
   "cell_type": "code",
   "execution_count": 35,
   "id": "7b457a6a",
   "metadata": {
    "ExecuteTime": {
     "end_time": "2024-04-25T12:47:46.090026Z",
     "start_time": "2024-04-25T12:47:45.862893Z"
    }
   },
   "outputs": [
    {
     "data": {
      "image/png": "[encoded data removed]",
      "text/plain": [
       "<Figure size 1000x500 with 2 Axes>"
      ]
     },
     "metadata": {},
     "output_type": "display_data"
    }
   ],
   "source": [
    "sqra_tp = TransitionPlot((water_sqra_sh, sqra))\n",
    "fig, ax = plt.subplots(1, 2, sharex=False, sharey=False, figsize=(10, 5))\n",
    "sqra_tp.simulation_histogram.use_saved = True\n",
    "sqra_tp.transition_obj.use_saved = True\n",
    "sqra_tp.plot_its(6, as_line=True, save=False, fig=fig, ax=ax[1])\n",
    "sqra_tp.plot_eigenvalues(num_eigenv=6, save=False, fig=fig, ax=ax[0])\n",
    "# x-values are irrelevant, they are just horizontal lines\n",
    "ax[1].set_xlabel(\"\")\n",
    "ax[1].set_xticks([])\n",
    "plt.show()"
   ]
  },
  {
   "cell_type": "code",
   "execution_count": 36,
   "id": "557daf2b",
   "metadata": {
    "ExecuteTime": {
     "end_time": "2024-04-25T12:47:47.902706Z",
     "start_time": "2024-04-25T12:47:46.093089Z"
    },
    "scrolled": false
   },
   "outputs": [
    {
     "data": {
      "image/png": "[encoded data removed]",
      "text/plain": [
       "<Figure size 500x1250 with 5 Axes>"
      ]
     },
     "metadata": {},
     "output_type": "display_data"
    }
   ],
   "source": [
    "fig, ax = plt.subplots(5, sharex=True, sharey=True, figsize=(5, 12.5))\n",
    "for i in range(5):\n",
    "    sqra_tp.plot_one_eigenvector_flat(i, save=False, fig=fig, ax=ax[i])\n",
    "plt.show()"
   ]
  },
  {
   "cell_type": "code",
   "execution_count": 38,
   "id": "e974567a",
   "metadata": {
    "ExecuteTime": {
     "end_time": "2024-04-25T12:49:59.918647Z",
     "start_time": "2024-04-25T12:49:27.898561Z"
    }
   },
   "outputs": [
    {
     "name": "stdout",
     "output_type": "stream",
     "text": [
      "In 0th eigenvector 20 most positive cells are [543, 601, 344, 528, 361, 283, 254, 288, 298, 303, 312, 315, 401, 396, 384, 613, 373, 370, 366, 459].\n",
      "[613, 401, 366, 373, 401, 315, 613, 528, 543, 315, 344, 459, 288, 528, 396, 344, 254, 298, 312, 315, 312, 613, 366, 373, 528, 396, 254, 361, 361, 288, 312, 344, 459, 613, 298, 459, 254, 543, 601, 303, 298, 613, 601, 254, 344, 373, 543, 370, 283, 459, 401, 254, 370, 370, 459, 401, 283, 312, 396, 298, 288, 254, 528, 384, 312, 303, 315, 613, 373, 370, 303, 459, 344, 613, 366, 303, 459, 396, 384, 303, 303, 283, 361, 283, 613, 283, 384, 315, 613, 373, 361, 459, 366, 288, 254, 543, 401, 459, 303, 384, 370, 459, 528, 254, 303, 283, 366, 401, 283, 384, 288, 283, 601, 613, 303, 601, 298, 373, 315, 283, 366, 298, 344, 370, 396, 312, 312, 396, 288, 312, 315, 303, 315, 613, 459, 315, 344, 254, 528, 312, 396, 370, 366, 613, 370, 366, 613, 528, 370, 298, 288, 298, 373, 312, 315, 384, 459, 366, 366, 373, 370, 613, 543, 303, 384, 288, 254, 298, 283, 370, 396, 303, 370, 315, 254, 543, 370, 298, 370, 344, 288, 312, 344, 344, 613, 283, 298, 543, 601, 283, 396, 401, 315, 254, 315, 344, 543, 613, 283, 254, 370, 543, 312, 384, 288, 613, 366, 459, 283, 312, 613, 315, 283, 613, 344, 401, 543, 283, 396, 601, 613, 384, 396, 254, 373, 528, 370, 303, 283, 543, 366, 401, 312, 384, 528, 303, 312, 459, 315, 370, 366, 373, 373, 613, 254, 361, 396, 298, 459, 543, 543, 543, 283, 459, 361, 613, 613, 459, 298, 283, 303, 543, 361, 528, 254, 543, 401, 303, 298, 361, 384, 366, 366, 315, 401, 361, 361, 315, 401, 298, 283, 254, 254, 315, 613, 543, 613, 459, 366, 370, 613, 298, 396, 613, 528, 303, 288, 543, 613, 315]\n"
     ]
    },
    {
     "data": {
      "application/vnd.jupyter.widget-view+json": {
       "model_id": "a5f35650a25540b9bc779f437c08487d",
       "version_major": 2,
       "version_minor": 0
      },
      "text/plain": [
       "NGLWidget()"
      ]
     },
     "metadata": {},
     "output_type": "display_data"
    }
   ],
   "source": [
    "# view eigenvector 0\n",
    "my_vm = view_most_populated_eigenv(water_sqra_sh, sqra, 0, num_extremes=20)\n",
    "my_vm.view"
   ]
  },
  {
   "cell_type": "code",
   "execution_count": 39,
   "id": "752f8de6",
   "metadata": {
    "ExecuteTime": {
     "end_time": "2024-04-25T12:52:16.335429Z",
     "start_time": "2024-04-25T12:51:45.490167Z"
    }
   },
   "outputs": [
    {
     "name": "stdout",
     "output_type": "stream",
     "text": [
      "In 1st eigenvector 5 most positive cells are [396, 401, 303, 384, 312] and most negative [366, 370, 613, 361, 373].\n",
      "[396, 312, 312, 401, 303, 303, 401, 303, 312, 312, 401, 384, 396, 401, 312, 396, 303, 303, 303, 396, 312, 401, 303, 384, 384, 361, 370, 361, 613, 370, 373, 613, 361, 361, 613, 361, 361, 613, 370, 373, 370, 366, 613, 613, 613, 366, 613, 370, 361, 361]\n"
     ]
    },
    {
     "data": {
      "application/vnd.jupyter.widget-view+json": {
       "model_id": "45d0e29b28a04697bcc02136d87ee300",
       "version_major": 2,
       "version_minor": 0
      },
      "text/plain": [
       "NGLWidget()"
      ]
     },
     "metadata": {},
     "output_type": "display_data"
    }
   ],
   "source": [
    "# view eigenvector 1\n",
    "my_vm = view_most_pos_neg_eigenv(water_sqra_sh, sqra, 1, num_extremes=5)\n",
    "my_vm.view"
   ]
  },
  {
   "cell_type": "code",
   "execution_count": 40,
   "id": "0a39a93e",
   "metadata": {
    "ExecuteTime": {
     "end_time": "2024-04-25T12:53:59.306500Z",
     "start_time": "2024-04-25T12:53:37.483957Z"
    }
   },
   "outputs": [
    {
     "name": "stdout",
     "output_type": "stream",
     "text": [
      "In 1st eigenvector 5 most positive cells are [344, 288, 298, 283, 528] and most negative [361, 384, 312, 303, 373].\n",
      "[344, 283, 298, 344, 344, 283, 288, 283, 288, 344, 528, 288, 528, 344, 288, 283, 528, 283, 344, 344, 344, 288, 528, 298, 344, 373, 361, 361, 384, 373, 373, 361, 303, 312, 312, 373, 361, 384, 303, 303, 361, 373, 312, 373, 312, 361, 361, 361, 303, 361]\n"
     ]
    },
    {
     "data": {
      "application/vnd.jupyter.widget-view+json": {
       "model_id": "3d9bde00dc6a4f3db36849febe403eb7",
       "version_major": 2,
       "version_minor": 0
      },
      "text/plain": [
       "NGLWidget()"
      ]
     },
     "metadata": {},
     "output_type": "display_data"
    }
   ],
   "source": [
    "# view eigenvector 2\n",
    "my_vm = view_most_pos_neg_eigenv(water_sqra_sh, sqra, 2, num_extremes=5)\n",
    "my_vm.view"
   ]
  },
  {
   "cell_type": "code",
   "execution_count": 41,
   "id": "da4eb1fa",
   "metadata": {
    "ExecuteTime": {
     "end_time": "2024-04-25T12:55:00.181111Z",
     "start_time": "2024-04-25T12:54:29.546189Z"
    }
   },
   "outputs": [
    {
     "name": "stdout",
     "output_type": "stream",
     "text": [
      "In 1st eigenvector 5 most positive cells are [288, 396, 384, 624, 373] and most negative [543, 315, 312, 303, 459].\n",
      "[624, 396, 288, 288, 373, 288, 373, 373, 384, 396, 384, 288, 384, 624, 384, 373, 384, 384, 396, 396, 384, 288, 288, 384, 288, 315, 303, 315, 459, 303, 312, 459, 315, 315, 543, 312, 543, 459, 303, 315, 303, 315, 303, 315, 315, 303, 312, 303, 459, 303]\n"
     ]
    },
    {
     "data": {
      "application/vnd.jupyter.widget-view+json": {
       "model_id": "cefd45a9f39a47f49f9b20bc74841297",
       "version_major": 2,
       "version_minor": 0
      },
      "text/plain": [
       "NGLWidget()"
      ]
     },
     "metadata": {},
     "output_type": "display_data"
    }
   ],
   "source": [
    "# view eigenvector 3\n",
    "my_vm = view_most_pos_neg_eigenv(water_sqra_sh, sqra, 3, num_extremes=5)\n",
    "my_vm.view"
   ]
  },
  {
   "cell_type": "code",
   "execution_count": 17,
   "id": "dbd027e6",
   "metadata": {
    "ExecuteTime": {
     "end_time": "2024-04-25T11:34:06.656799Z",
     "start_time": "2024-04-25T11:33:44.041446Z"
    }
   },
   "outputs": [
    {
     "name": "stdout",
     "output_type": "stream",
     "text": [
      "In 1st eigenvector 5 most positive cells are [6582, 6358, 5791, 6560, 5305] and most negative [6630, 6608, 6115, 5492, 7172].\n",
      "[6358, 5305, 6358, 6582, 5791, 5791, 5791, 6582, 5791, 6358, 6560, 6560, 6582, 6560, 5791, 6582, 6582, 6560, 6358, 6560, 6358, 6582, 5305, 6358, 5305, 6630, 6608, 5492, 7172, 5492, 6630, 6630, 6630, 6608, 7172, 6115, 6630, 7172, 6630, 6630, 6608, 7172, 7172, 6630, 5492, 6115, 6115, 7172, 6630, 6608]\n"
     ]
    },
    {
     "data": {
      "application/vnd.jupyter.widget-view+json": {
       "model_id": "704a91aa9d004d08bc090b03f13e892d",
       "version_major": 2,
       "version_minor": 0
      },
      "text/plain": [
       "NGLWidget()"
      ]
     },
     "metadata": {},
     "output_type": "display_data"
    }
   ],
   "source": [
    "my_vm = view_most_pos_neg_eigenv(water_sqra_sh, sqra, 4, num_extremes=5)\n",
    "my_vm.view"
   ]
  },
  {
   "cell_type": "code",
   "execution_count": null,
   "id": "babc519b",
   "metadata": {
    "ExecuteTime": {
     "end_time": "2024-04-19T13:21:11.962925Z",
     "start_time": "2024-04-19T13:21:11.962917Z"
    },
    "scrolled": false
   },
   "outputs": [],
   "source": [
    "# smol example\n",
    "#sqra_name = \"H2O_H2O_0395\"\n",
    "sqra_name = \"H2O_H2O_0543\"\n",
    "sqra_use_saved = True\n",
    "water_sqra_sh = SimulationHistogram(sqra_name, \"H2O\", is_pt=True,\n",
    "                second_molecule_selection=\"bynum 4:6\", use_saved=sqra_use_saved)\n",
    "\n",
    "sqra = SQRA(water_sqra_sh, use_saved=sqra_use_saved)\n",
    "# eigenvectors \n",
    "k = 8\n",
    "sqra_eigenval, sqra_eigenvec = sqra.get_eigenval_eigenvec(num_eigenv=k)\n",
    "sqra_eigenvec = sqra_eigenvec.squeeze()\n",
    "sqra_eigenvec = sqra_eigenvec[:, :k]\n",
    "#print(sqra_eigenvec.shape)\n",
    "#plt.scatter(*sqra_eigenvec.T)\n",
    "\n",
    "# spectral clustering\n",
    "from sklearn.cluster import KMeans, SpectralClustering\n",
    "from sklearn.decomposition import PCA\n",
    "\n",
    "#clustering = KMeans(n_clusters=5)\n",
    "#clustering.fit(sqra_eigenvec)\n",
    "\n",
    "sc = SpectralClustering(n_clusters=14)\n",
    "sc.fit(sqra.get_transitions_matrix())\n",
    "\n",
    "# plot on PCA-reduced data\n",
    "\n",
    "reduced_data = PCA(n_components=2).fit_transform(sqra_eigenvec)\n",
    "kmeans = KMeans(init=\"k-means++\", n_clusters=6, n_init=10)\n",
    "kmeans.fit(reduced_data)\n",
    "\n",
    "# Step size of the mesh. Decrease to increase the quality of the VQ.\n",
    "h = 0.02  # point in the mesh [x_min, x_max]x[y_min, y_max].\n",
    "\n",
    "# Plot the decision boundary. For that, we will assign a color to each\n",
    "x_min, x_max = reduced_data[:, 0].min() - 1, reduced_data[:, 0].max() + 1\n",
    "y_min, y_max = reduced_data[:, 1].min() - 1, reduced_data[:, 1].max() + 1\n",
    "xx, yy = np.meshgrid(np.arange(x_min, x_max, h), np.arange(y_min, y_max, h))\n",
    "\n",
    "# Obtain labels for each point in mesh. Use last trained model.\n",
    "Z = kmeans.predict(np.c_[xx.ravel(), yy.ravel()])\n",
    "\n",
    "# Put the result into a color plot\n",
    "Z = Z.reshape(xx.shape)\n",
    "plt.figure(1)\n",
    "plt.clf()\n",
    "plt.imshow(\n",
    "    Z,\n",
    "    interpolation=\"nearest\",\n",
    "    extent=(xx.min(), xx.max(), yy.min(), yy.max()),\n",
    "    cmap=plt.cm.Paired,\n",
    "    aspect=\"auto\",\n",
    "    origin=\"lower\",\n",
    ")\n",
    "\n",
    "plt.plot(reduced_data[:, 0], reduced_data[:, 1], \"k.\", markersize=2)\n",
    "plt.xlim(x_min, x_max)\n",
    "plt.ylim(y_min, y_max)\n",
    "plt.xticks(())\n",
    "plt.yticks(())\n",
    "plt.show()\n"
   ]
  },
  {
   "cell_type": "markdown",
   "id": "56f4602f",
   "metadata": {},
   "source": [
    "## Geometrical properties of FullGrid"
   ]
  },
  {
   "cell_type": "code",
   "execution_count": 73,
   "id": "18bc85b1",
   "metadata": {
    "ExecuteTime": {
     "end_time": "2024-04-16T12:20:19.692916Z",
     "start_time": "2024-04-16T12:20:06.572435Z"
    }
   },
   "outputs": [],
   "source": [
    "my_full_grid =  #linspace(0.2, 0.6, 20)"
   ]
  },
  {
   "cell_type": "code",
   "execution_count": 90,
   "id": "df314ebe",
   "metadata": {
    "ExecuteTime": {
     "end_time": "2024-04-16T13:04:36.717178Z",
     "start_time": "2024-04-16T13:04:31.967442Z"
    },
    "scrolled": false
   },
   "outputs": [
    {
     "name": "stdout",
     "output_type": "stream",
     "text": [
      "Warning! For <=4 points, volumes, areas etc are only estimated.\n",
      "Warning! For <=4 points, volumes, areas etc are only estimated.\n",
      "Warning! For <=4 points, volumes, areas etc are only estimated.\n",
      "Warning! For <=4 points, volumes, areas etc are only estimated.\n",
      "  (0, 15)\t0.7839643375528704\n",
      "  (0, 20)\t0.7839643375528705\n",
      "  (0, 26)\t0.7839643375528705\n",
      "  (0, 27)\t0.7839643375528708\n",
      "  (0, 30)\t0.7839643375528702\n",
      "  (1, 24)\t0.7839643375528713\n",
      "  (1, 29)\t0.7839643375528711\n",
      "  (1, 32)\t0.7839643375528713\n",
      "  (1, 34)\t0.7839643375528702\n",
      "  (1, 37)\t0.7839643375528697\n",
      "  (2, 25)\t0.7839643375528719\n",
      "  (2, 28)\t0.7839643375528704\n",
      "  (2, 30)\t0.7839643375528708\n",
      "  (2, 34)\t0.7839643375528704\n",
      "  (2, 39)\t0.7839643375528708\n",
      "  (3, 21)\t0.7839643375528708\n",
      "  (3, 35)\t0.7839643375528708\n",
      "  (3, 36)\t0.7839643375528719\n",
      "  (3, 38)\t0.7839643375528704\n",
      "  (3, 41)\t0.7839643375528708\n",
      "  (4, 16)\t0.7839643375528708\n",
      "  (4, 31)\t0.7839643375528705\n",
      "  (4, 33)\t0.7839643375528705\n",
      "  (4, 40)\t0.7839643375528704\n",
      "  (4, 41)\t0.7839643375528715\n",
      "  :\t:\n",
      "  (37, 29)\t0.6293343860363342\n",
      "  (38, 3)\t0.7839643375528704\n",
      "  (38, 10)\t0.7839643375528708\n",
      "  (38, 18)\t0.6293343860363334\n",
      "  (38, 36)\t0.6293343860363335\n",
      "  (38, 40)\t0.6293343860363328\n",
      "  (38, 41)\t0.6293343860363335\n",
      "  (39, 2)\t0.7839643375528708\n",
      "  (39, 9)\t0.7839643375528702\n",
      "  (39, 20)\t0.6293343860363334\n",
      "  (39, 24)\t0.629334386036334\n",
      "  (39, 30)\t0.6293343860363341\n",
      "  (39, 34)\t0.6293343860363321\n",
      "  (40, 4)\t0.7839643375528704\n",
      "  (40, 10)\t0.783964337552871\n",
      "  (40, 16)\t0.6293343860363351\n",
      "  (40, 17)\t0.6293343860363335\n",
      "  (40, 38)\t0.6293343860363328\n",
      "  (40, 41)\t0.6293343860363341\n",
      "  (41, 3)\t0.7839643375528708\n",
      "  (41, 4)\t0.7839643375528715\n",
      "  (41, 33)\t0.6293343860363334\n",
      "  (41, 35)\t0.6293343860363342\n",
      "  (41, 38)\t0.6293343860363335\n",
      "  (41, 40)\t0.6293343860363341\n",
      "In 4D, only approximate calculation of Voronoi cells is possible. Proceeding numerically.\n",
      "\n",
      "  (0, 1)\t55.695825437603\n",
      "  (1, 0)\t55.695825437603\n",
      "  (1, 2)\t67.39194877949961\n",
      "  (2, 1)\t67.39194877949961\n",
      "  (2, 3)\t80.20198863014828\n",
      "  (3, 2)\t80.20198863014828\n",
      "  (3, 4)\t94.12594498954904\n",
      "  (4, 3)\t94.12594498954904\n",
      "  (4, 5)\t109.16381785770187\n",
      "  (5, 4)\t109.16381785770187\n",
      "  (5, 6)\t125.31560723460672\n",
      "  (6, 5)\t125.31560723460672\n",
      "  (6, 7)\t142.58131312026362\n",
      "  (7, 6)\t142.58131312026362\n",
      "  (7, 8)\t160.96093551467263\n",
      "  (8, 7)\t160.96093551467263\n",
      "  (8, 9)\t180.45447441783367\n",
      "  (9, 8)\t180.45447441783367\n",
      "  (9, 10)\t201.06192982974676\n",
      "  (10, 9)\t201.06192982974676\n",
      "  (10, 11)\t222.783301750412\n",
      "  (11, 10)\t222.783301750412\n",
      "  (11, 12)\t245.61859017982908\n",
      "  (12, 11)\t245.61859017982908\n",
      "  (12, 13)\t269.56779511799846\n",
      "  (13, 12)\t269.56779511799846\n",
      "  (13, 14)\t294.63091656491986\n",
      "  (14, 13)\t294.63091656491986\n",
      "  (14, 15)\t320.8079545205932\n",
      "  (15, 14)\t320.8079545205932\n",
      "  (15, 16)\t348.0989089850187\n",
      "  (16, 15)\t348.0989089850187\n",
      "  (16, 17)\t376.50377995819605\n",
      "  (17, 16)\t376.50377995819605\n",
      "  (17, 18)\t406.0225674401257\n",
      "  (18, 17)\t406.0225674401257\n",
      "  (18, 19)\t436.6552714308075\n",
      "  (19, 18)\t436.6552714308075\n"
     ]
    },
    {
     "data": {
      "image/png": "[encoded data removed]",
      "text/plain": [
       "<Figure size 1500x1500 with 9 Axes>"
      ]
     },
     "metadata": {},
     "output_type": "display_data"
    }
   ],
   "source": [
    "available_fgs = [FullGrid(o_grid_name=\"42\", b_grid_name=\"1\", t_grid_name=\"[0.1]\"),\n",
    "                FullGrid(o_grid_name=\"1\", b_grid_name=\"40\", t_grid_name=\"[0.1]\"),\n",
    "                FullGrid(o_grid_name=\"1\", b_grid_name=\"1\", t_grid_name=\"linspace(0.2, 0.6, 20)\")]\n",
    "\n",
    "fig, ax = plt.subplots(len(available_fgs), 3, figsize=(15, len(available_fgs)*5))\n",
    "for i, my_full_grid in enumerate(available_fgs):\n",
    "    all_volumes = my_full_grid.get_total_volumes()\n",
    "    sns.histplot(all_volumes, ax=ax[i][0])\n",
    "    all_borders = my_full_grid.get_full_borders()\n",
    "    print(my_full_grid.position_grid.get_borders_of_position_grid())\n",
    "    sns.histplot(all_borders.data, ax=ax[i][1])\n",
    "    all_dist = my_full_grid.get_full_distances()\n",
    "    sns.histplot(all_dist.data, ax=ax[i][2])\n",
    "    ax[0][0].set_title(\"Volumes\")\n",
    "    ax[0][1].set_title(\"Border areas\")\n",
    "    ax[0][2].set_title(\"Center distances\")\n",
    "plt.show()"
   ]
  },
  {
   "cell_type": "markdown",
   "id": "3ff2b65c",
   "metadata": {},
   "source": [
    "## Timing\n",
    "\n",
    "\n",
    "SQRA\n",
    "generating a pseudotrajectory based on two water molecules and FullGrid(o_grid=\"42\", b_grid=\"40\", t_grid=\"linspace(0.2, 0.6, 20)\") as well as calculating all volumes, areas, distances: cca 1min\n",
    "\n",
    "\n",
    "MSM\n",
    "assigning to FullGrid(o_grid=\"42\", b_grid=\"40\", t_grid=\"linspace(0.2, 0.6, 20)\") + getting eigenvectors for a 50000000-step trajectory (check ausschreibefrequenz)  cca 2hours 30min"
   ]
  }
 ],
 "metadata": {
  "kernelspec": {
   "display_name": "Python 3 (ipykernel)",
   "language": "python",
   "name": "python3"
  },
  "language_info": {
   "codemirror_mode": {
    "name": "ipython",
    "version": 3
   },
   "file_extension": ".py",
   "mimetype": "text/x-python",
   "name": "python",
   "nbconvert_exporter": "python",
   "pygments_lexer": "ipython3",
   "version": "3.11.5"
  },
  "toc": {
   "base_numbering": 1,
   "nav_menu": {},
   "number_sections": true,
   "sideBar": false,
   "skip_h1_title": true,
   "title_cell": "Table of Contents",
   "title_sidebar": "Contents",
   "toc_cell": true,
   "toc_position": {},
   "toc_section_display": true,
   "toc_window_display": true
  }
 },
 "nbformat": 4,
 "nbformat_minor": 5
}
