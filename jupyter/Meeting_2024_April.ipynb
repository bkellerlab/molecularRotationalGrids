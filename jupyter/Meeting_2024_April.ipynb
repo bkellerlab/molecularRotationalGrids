{
 "cells": [
  {
   "cell_type": "markdown",
   "id": "dd66275e",
   "metadata": {
    "toc": true
   },
   "source": [
    "<h1>Table of Contents<span class=\"tocSkip\"></span></h1>\n",
    "<div class=\"toc\"><ul class=\"toc-item\"><li><span><a href=\"#MSM\" data-toc-modified-id=\"MSM-1\"><span class=\"toc-item-num\">1&nbsp;&nbsp;</span>MSM</a></span></li><li><span><a href=\"#SQRA\" data-toc-modified-id=\"SQRA-2\"><span class=\"toc-item-num\">2&nbsp;&nbsp;</span>SQRA</a></span></li><li><span><a href=\"#Geometrical-properties-of-FullGrid\" data-toc-modified-id=\"Geometrical-properties-of-FullGrid-3\"><span class=\"toc-item-num\">3&nbsp;&nbsp;</span>Geometrical properties of FullGrid</a></span></li><li><span><a href=\"#Timing\" data-toc-modified-id=\"Timing-4\"><span class=\"toc-item-num\">4&nbsp;&nbsp;</span>Timing</a></span></li></ul></div>"
   ]
  },
  {
   "cell_type": "code",
   "execution_count": 1,
   "id": "c82e1ede",
   "metadata": {
    "ExecuteTime": {
     "end_time": "2024-04-29T11:57:34.036856Z",
     "start_time": "2024-04-29T11:57:34.024857Z"
    }
   },
   "outputs": [],
   "source": [
    "import sys\n",
    "import os\n",
    "\n",
    "try:\n",
    "    os.chdir(r\"/home/hanaz63/PAPER_MOLECULAR_ROTATIONS_2022/nobackup/molgri\")\n",
    "    sys.path.append(r\"/home/hanaz63/PAPER_MOLECULAR_ROTATIONS_2022/nobackup\")\n",
    "except FileNotFoundError:\n",
    "    os.chdir(r\"D:\\HANA\\phD\\PAPER_2022\\molecularRotationalGrids\")\n",
    "    sys.path.append(r\"D:\\HANA\\phD\\PAPER_2022\\molecularRotationalGrids\")\n",
    "    \n",
    "import warnings\n",
    "warnings.filterwarnings(\"ignore\")"
   ]
  },
  {
   "cell_type": "code",
   "execution_count": 2,
   "id": "7690cfdc",
   "metadata": {
    "ExecuteTime": {
     "end_time": "2024-04-29T11:57:36.409490Z",
     "start_time": "2024-04-29T11:57:34.240351Z"
    }
   },
   "outputs": [
    {
     "data": {
      "application/vnd.jupyter.widget-view+json": {
       "model_id": "b66aa35c7ddc4d8f8f08dce9efcf5bf4",
       "version_major": 2,
       "version_minor": 0
      },
      "text/plain": []
     },
     "metadata": {},
     "output_type": "display_data"
    }
   ],
   "source": [
    "import numpy as np\n",
    "import matplotlib.pyplot as plt\n",
    "import seaborn as sns\n",
    "\n",
    "from molgri.plotting.widgets import ViewManager\n",
    "from molgri.space.fullgrid import FullGrid\n",
    "from molgri.molecules.transitions import MSM, SimulationHistogram, SQRA\n",
    "from molgri.space.utils import k_argmax_in_array\n",
    "from molgri.plotting.transition_plots import TransitionPlot\n",
    "from molgri.paths import PATH_OUTPUT_LOGGING\n",
    "\n",
    "sns.set_context(\"notebook\")"
   ]
  },
  {
   "cell_type": "code",
   "execution_count": 3,
   "id": "74fdd0b4",
   "metadata": {
    "ExecuteTime": {
     "end_time": "2024-04-29T11:57:36.424482Z",
     "start_time": "2024-04-29T11:57:36.412511Z"
    },
    "code_folding": []
   },
   "outputs": [],
   "source": [
    "# view functions adapted for eigenvectors\n",
    "\n",
    "def view_most_populated_eigenv(my_sh, model, eigenvector_i=0, num_extremes=20, tau_i=0):\n",
    "    vm = ViewManager(my_sh.trajectory_universe)\n",
    "    vm.fresh_view()\n",
    "    my_sh.use_saved = True\n",
    "\n",
    "    evalu, evec = model.get_eigenval_eigenvec()\n",
    "    magnitudes = evec[tau_i].T[eigenvector_i]\n",
    "\n",
    "    most_positive = k_argmax_in_array(np.abs(magnitudes), num_extremes)\n",
    "\n",
    "    print(f\"In 0th eigenvector {num_extremes} most positive cells are {list(most_positive)}.\")\n",
    "    # now assign these to trajectory frames\n",
    "    assigned_frames = []\n",
    "    for one_argmax in most_positive:\n",
    "        all_assigned = my_sh.get_indices_same_cell(one_argmax)\n",
    "        assigned_frames.extend(all_assigned)\n",
    "\n",
    "    # for gromacs\n",
    "    print(list(np.random.choice(assigned_frames, 300)))\n",
    "    vm.plot_frames_overlapping(np.random.choice(assigned_frames, 50))\n",
    "    return vm\n",
    "\n",
    "def view_most_pos_neg_eigenv(my_sh, model, eigenvector_i=1, num_extremes=20, tau_i=0):\n",
    "    vm = ViewManager(my_sh.trajectory_universe)\n",
    "    vm.fresh_view()\n",
    "    my_sh.use_saved = True\n",
    "\n",
    "    evalu, evec = model.get_eigenval_eigenvec()\n",
    "    magnitudes = evec[tau_i].T[eigenvector_i]\n",
    "\n",
    "    most_positive = k_argmax_in_array(magnitudes, num_extremes)\n",
    "    most_negative = k_argmax_in_array(-magnitudes, num_extremes)\n",
    "\n",
    "\n",
    "    print(f\"In 1st eigenvector {num_extremes} most positive cells are {list(most_positive)} and most negative {list(most_negative)}.\")\n",
    "    # now assign these to trajectory frames\n",
    "\n",
    "    assigned_frames_p = []\n",
    "    for one_argmax in most_positive:\n",
    "        all_assigned = my_sh.get_indices_same_cell(one_argmax)\n",
    "        assigned_frames_p.extend(all_assigned)\n",
    "    assigned_frames_n = []\n",
    "    for one_argmax in most_negative:\n",
    "        all_assigned = my_sh.get_indices_same_cell(one_argmax)\n",
    "        assigned_frames_n.extend(all_assigned)\n",
    "\n",
    "    colors = [\"blue\",]*25\n",
    "    colors.extend([\"red\",]*25)\n",
    "\n",
    "    assigned_frames = list(np.random.choice(assigned_frames_p, 25))\n",
    "    assigned_frames.extend(list(np.random.choice(assigned_frames_n, 25)))\n",
    "    # for gromacs\n",
    "    print(list(assigned_frames))\n",
    "    vm.plot_frames_overlapping(assigned_frames, colors=colors)\n",
    "    return vm"
   ]
  },
  {
   "cell_type": "markdown",
   "id": "fc645685",
   "metadata": {},
   "source": [
    "## MSM"
   ]
  },
  {
   "cell_type": "code",
   "execution_count": 4,
   "id": "fa70688e",
   "metadata": {
    "ExecuteTime": {
     "end_time": "2024-04-23T13:04:08.846106Z",
     "start_time": "2024-04-23T13:04:08.058699Z"
    }
   },
   "outputs": [],
   "source": [
    "# input parameters\n",
    "msm_name = \"H2O_H2O_0095_50000000\"\n",
    "msm_fullgrid = full_grid=FullGrid(b_grid_name=\"20\", o_grid_name=\"20\",\n",
    "                                  t_grid_name=\"linspace(0.2, 0.6, 10)\")\n",
    "\n",
    "#o_grid=40, b_grid=42, t_grid=linspace(0.2, 0.7, 20)\n",
    "msm_use_saved = True\n",
    "tau_array = np.array([1, 2, 3, 5, 7, 10, 15, 20, 30, 40, 50, 70, 80, 90, 100, 110, 130, 150, 180, 200, 220,\n",
    "                      250, 270, 300])\n",
    "index_tau = 17"
   ]
  },
  {
   "cell_type": "code",
   "execution_count": 5,
   "id": "551c5534",
   "metadata": {
    "ExecuteTime": {
     "end_time": "2024-04-23T14:16:27.102416Z",
     "start_time": "2024-04-23T13:04:12.155556Z"
    }
   },
   "outputs": [],
   "source": [
    "water_msm_sh = SimulationHistogram(msm_name, \"H2O\", is_pt=False, full_grid=msm_fullgrid,\n",
    "                                   second_molecule_selection=\"bynum 4:6\", use_saved=msm_use_saved)\n",
    "msm = MSM(water_msm_sh, tau_array=tau_array, use_saved=msm_use_saved)"
   ]
  },
  {
   "cell_type": "code",
   "execution_count": null,
   "id": "ea4c6c3f",
   "metadata": {
    "ExecuteTime": {
     "end_time": "2024-04-23T22:58:23.736431Z",
     "start_time": "2024-04-23T22:58:23.736423Z"
    }
   },
   "outputs": [],
   "source": [
    "msm_tp = TransitionPlot(water_msm_sh, tau_array=tau_array)\n",
    "msm_tp.transition_obj = msm\n",
    "msm_tp.simulation_histogram.use_saved = True\n",
    "msm_tp.transition_obj.use_saved=True\n",
    "fig, ax = plt.subplots(1, 2, sharex=False, sharey=False, figsize=(10, 5))\n",
    "msm_tp.plot_eigenvalues(num_eigenv=6, index_tau=index_tau, save=False, fig=fig, ax=ax[0])\n",
    "msm_tp.plot_its(6, as_line=False, save=False, fig=fig, ax=ax[1])\n",
    "plt.show()"
   ]
  },
  {
   "cell_type": "code",
   "execution_count": null,
   "id": "d0225a77",
   "metadata": {
    "ExecuteTime": {
     "end_time": "2024-04-23T14:16:28.196410Z",
     "start_time": "2024-04-23T14:16:28.196401Z"
    }
   },
   "outputs": [],
   "source": [
    "fig, ax = plt.subplots(5, sharex=True, sharey=True, figsize=(5, 12.5))\n",
    "for i in range(5):\n",
    "    tp.plot_one_eigenvector_flat(i, save=False, fig=fig, ax=ax[i], index_tau=index_tau)\n",
    "plt.show()"
   ]
  },
  {
   "cell_type": "code",
   "execution_count": null,
   "id": "c606a16e",
   "metadata": {},
   "outputs": [],
   "source": [
    "# MSM eigenvector 0\n",
    "my_vm = view_most_populated_eigenv(water_msm_sh, 0, num_extremes=20, tau_i=index_tau)\n",
    "my_vm.view"
   ]
  },
  {
   "cell_type": "code",
   "execution_count": null,
   "id": "6b16d381",
   "metadata": {},
   "outputs": [],
   "source": [
    "# MSM view eigenvector 1\n",
    "my_vm = view_most_pos_neg_eigenv(water_msm_sh, 1, num_extremes=20, tau_i=index_tau)\n",
    "my_vm.view"
   ]
  },
  {
   "cell_type": "code",
   "execution_count": null,
   "id": "f5ef3720",
   "metadata": {},
   "outputs": [],
   "source": [
    "# MSM view eigenvector 2\n",
    "my_vm = view_most_pos_neg_eigenv(water_msm_sh, 2, num_extremes=20, tau_i=index_tau)\n",
    "my_vm.view"
   ]
  },
  {
   "cell_type": "code",
   "execution_count": null,
   "id": "21b9d860",
   "metadata": {},
   "outputs": [],
   "source": [
    "# MSM view eigenvector 3\n",
    "my_vm = view_most_pos_neg_eigenv(water_msm_sh, 3, num_extremes=20, tau_iS=index_tau)\n",
    "my_vm.view"
   ]
  },
  {
   "cell_type": "markdown",
   "id": "a101face",
   "metadata": {},
   "source": [
    "## SQRA"
   ]
  },
  {
   "cell_type": "code",
   "execution_count": 4,
   "id": "2d9d6dc7",
   "metadata": {
    "ExecuteTime": {
     "end_time": "2024-04-29T11:57:36.820074Z",
     "start_time": "2024-04-29T11:57:36.807108Z"
    }
   },
   "outputs": [],
   "source": [
    "# input parameters\n",
    "# FUNCTIONS: H2O_H2O_0543\n",
    "# it is redone as 0577\n",
    "# try 81 82, \n",
    "sqra_name = \"H2O_H2O_0577\"\n",
    "sqra_use_saved = False"
   ]
  },
  {
   "cell_type": "code",
   "execution_count": 5,
   "id": "81d5f81e",
   "metadata": {
    "ExecuteTime": {
     "end_time": "2024-04-29T11:57:36.986361Z",
     "start_time": "2024-04-29T11:57:36.963912Z"
    }
   },
   "outputs": [
    {
     "name": "stdout",
     "output_type": "stream",
     "text": [
      "Input parameters of FullGrid: o_grid=40, b_grid=42, t_grid=linspace(0.2, 0.7, 20)\n"
     ]
    }
   ],
   "source": [
    "# print out the information on this fullgrid\n",
    "with open(f\"{PATH_OUTPUT_LOGGING}{sqra_name}.log\") as f:\n",
    "    for line in f.readlines():\n",
    "        if line.startswith(\"INFO:PtLogger:input grid parameters:\"):\n",
    "            all_param = line.split(':')[-1]\n",
    "            split_param = all_param.split()\n",
    "            t_grid = \" \".join(split_param[2:])\n",
    "            print(f\"Input parameters of FullGrid: o_grid={split_param[0]}, b_grid={split_param[1]}, t_grid={t_grid}\")\n",
    "            break"
   ]
  },
  {
   "cell_type": "code",
   "execution_count": 6,
   "id": "a8c032e9",
   "metadata": {
    "ExecuteTime": {
     "end_time": "2024-04-29T12:05:38.183175Z",
     "start_time": "2024-04-29T11:57:37.175940Z"
    }
   },
   "outputs": [
    {
     "name": "stderr",
     "output_type": "stream",
     "text": [
      "Exception ignored in: <function ReaderBase.__del__ at 0x000001D6A0693700>\n",
      "Traceback (most recent call last):\n",
      "  File \"C:\\Users\\Hana\\AppData\\Local\\Programs\\Python\\Python39\\lib\\site-packages\\MDAnalysis\\coordinates\\base.py\", line 1512, in __del__\n",
      "    self.close()\n",
      "  File \"C:\\Users\\Hana\\AppData\\Local\\Programs\\Python\\Python39\\lib\\site-packages\\MDAnalysis\\coordinates\\XDR.py\", line 187, in close\n",
      "    self._xdr.close()\n",
      "AttributeError: 'TRRReader' object has no attribute '_xdr'\n"
     ]
    },
    {
     "name": "stdout",
     "output_type": "stream",
     "text": [
      "area 12.566370614359162 [2.13157895 2.39473684 2.65789474 2.92105263 3.18421053 3.44736842\n",
      " 3.71052632 3.97368421 4.23684211 4.5        4.76315789 5.02631579\n",
      " 5.28947368 5.55263158 5.81578947 6.07894737 6.34210526 6.60526316\n",
      " 6.86842105 7.13157895] [0.         2.13157895 2.39473684 2.65789474 2.92105263 3.18421053\n",
      " 3.44736842 3.71052632 3.97368421 4.23684211 4.5        4.76315789\n",
      " 5.02631579 5.28947368 5.55263158 5.81578947 6.07894737 6.34210526\n",
      " 6.60526316 6.86842105]\n",
      "In 4D, only approximate calculation of Voronoi cells is possible. Proceeding numerically.\n",
      "(33600, 33600) (33600, 33600)\n",
      "all_tsm (33600, 33600)\n"
     ]
    },
    {
     "name": "stderr",
     "output_type": "stream",
     "text": [
      "\r",
      "  0%|                                                                                                                                                                                                        | 0/1 [00:00<?, ?it/s]"
     ]
    },
    {
     "name": "stdout",
     "output_type": "stream",
     "text": [
      "tm (33600, 33600)\n"
     ]
    },
    {
     "name": "stderr",
     "output_type": "stream",
     "text": [
      "100%|███████████████████████████████████████████████████████████████████████████████████████████████████████████████████████████████████████████████████████████████████████████████████████████████| 1/1 [06:04<00:00, 364.37s/it]\n"
     ]
    },
    {
     "data": {
      "text/plain": [
       "(array([[-5.18894335e-15, -8.55768576e-03, -3.47163933e-02,\n",
       "         -6.03553538e-02, -7.57382549e-02, -8.68428119e-02]]),\n",
       " array([[[-1.32552812e-19,  1.06748302e-07, -1.25727590e-06,\n",
       "          -8.16414570e-07,  4.42368079e-07,  1.29541080e-06],\n",
       "         [-7.16923350e-22,  2.49848757e-10, -2.80202203e-09,\n",
       "          -1.79045397e-09,  1.01464511e-09,  2.81766420e-09],\n",
       "         [ 8.16854441e-19, -2.49363440e-07,  2.96346156e-06,\n",
       "           1.78041969e-06, -1.04767022e-06, -2.99631592e-06],\n",
       "         ...,\n",
       "         [ 3.27542839e-05,  1.78852698e-05,  4.36740344e-06,\n",
       "          -1.49046237e-05, -2.81678673e-05, -1.72512215e-04],\n",
       "         [ 2.99962183e-05,  1.67978242e-05,  1.49343372e-06,\n",
       "          -1.66981933e-05, -2.37297641e-05, -1.39600035e-04],\n",
       "         [ 2.69026709e-05,  7.42154088e-06,  4.82355533e-06,\n",
       "          -8.31233083e-06, -2.27668242e-05, -1.13637551e-04]]]))"
      ]
     },
     "execution_count": 6,
     "metadata": {},
     "output_type": "execute_result"
    }
   ],
   "source": [
    "full_grid = FullGrid(b_grid_name=\"42\", o_grid_name=\"40\", t_grid_name=\"linspace(0.2, 0.7, 20)\",\n",
    "                     use_saved=False)\n",
    "\n",
    "water_sqra_sh = SimulationHistogram(sqra_name, \"H2O\", is_pt=True, full_grid=full_grid,\n",
    "                second_molecule_selection=\"bynum 4:6\", use_saved=sqra_use_saved)\n",
    "\n",
    "sqra = SQRA(water_sqra_sh, use_saved=sqra_use_saved)\n",
    "sqra.get_transitions_matrix()\n",
    "sqra.get_eigenval_eigenvec(6, sigma = 0, which = \"LM\")"
   ]
  },
  {
   "cell_type": "code",
   "execution_count": 7,
   "id": "4be9a17e",
   "metadata": {
    "ExecuteTime": {
     "end_time": "2024-04-29T12:06:15.416604Z",
     "start_time": "2024-04-29T12:06:15.037964Z"
    }
   },
   "outputs": [
    {
     "data": {
      "image/png": "[encoded data removed]",
      "text/plain": [
       "<Figure size 1000x500 with 2 Axes>"
      ]
     },
     "metadata": {},
     "output_type": "display_data"
    }
   ],
   "source": [
    "sqra_tp = TransitionPlot((water_sqra_sh, sqra))\n",
    "fig, ax = plt.subplots(1, 2, sharex=False, sharey=False, figsize=(10, 5))\n",
    "sqra_tp.simulation_histogram.use_saved = True\n",
    "sqra_tp.transition_obj.use_saved = True\n",
    "sqra_tp.plot_its(6, as_line=True, save=False, fig=fig, ax=ax[1])\n",
    "sqra_tp.plot_eigenvalues(num_eigenv=6, save=False, fig=fig, ax=ax[0])\n",
    "# x-values are irrelevant, they are just horizontal lines\n",
    "ax[1].set_xlabel(\"\")\n",
    "ax[1].set_xticks([])\n",
    "plt.show()"
   ]
  },
  {
   "cell_type": "code",
   "execution_count": 8,
   "id": "24de85df",
   "metadata": {
    "ExecuteTime": {
     "end_time": "2024-04-29T12:06:26.303273Z",
     "start_time": "2024-04-29T12:06:24.808595Z"
    },
    "scrolled": false
   },
   "outputs": [
    {
     "data": {
      "image/png": "[encoded data removed]",
      "text/plain": [
       "<Figure size 500x1250 with 5 Axes>"
      ]
     },
     "metadata": {},
     "output_type": "display_data"
    }
   ],
   "source": [
    "fig, ax = plt.subplots(5, sharex=True, sharey=True, figsize=(5, 12.5))\n",
    "for i in range(5):\n",
    "    sqra_tp.plot_one_eigenvector_flat(i, save=False, fig=fig, ax=ax[i])\n",
    "plt.show()"
   ]
  },
  {
   "cell_type": "code",
   "execution_count": 10,
   "id": "216c8c7d",
   "metadata": {
    "ExecuteTime": {
     "end_time": "2024-04-29T12:13:41.879801Z",
     "start_time": "2024-04-29T12:13:07.407400Z"
    }
   },
   "outputs": [
    {
     "name": "stdout",
     "output_type": "stream",
     "text": [
      "In 0th eigenvector 20 most positive cells are [7919, 7300, 6339, 6560, 5492, 6358, 5132, 6631, 6239, 5305, 5791, 5620, 6630, 6608, 6115, 6607, 8310, 8287, 8288, 7795].\n",
      "[7795, 5132, 7919, 7300, 5305, 6239, 6607, 7300, 5132, 6339, 8310, 7919, 8287, 6358, 7795, 6630, 5132, 8287, 8287, 7795, 6630, 6358, 5791, 6608, 6239, 6631, 5132, 6560, 6115, 5791, 5305, 5620, 6607, 8310, 8287, 5305, 7795, 6339, 6607, 8288, 5305, 7795, 6608, 6115, 5305, 5305, 6358, 5492, 6358, 6607, 6358, 6115, 5620, 6607, 8310, 5492, 7795, 8288, 6631, 5132, 7919, 6630, 7795, 5305, 6115, 8287, 7795, 6560, 5132, 5305, 6358, 8288, 6630, 6358, 6115, 6631, 6358, 7300, 6607, 5305, 7300, 6239, 8310, 5620, 6358, 8288, 6239, 6339, 8287, 6608, 5791, 5791, 6608, 6631, 5791, 5620, 5305, 5620, 6607, 7795, 5620, 6339, 5132, 6560, 5791, 6608, 8287, 8288, 6607, 8287, 8288, 6607, 6560, 8287, 6239, 6631, 6239, 8310, 5791, 5620, 6115, 7795, 8288, 8288, 8310, 8287, 6607, 7919, 5305, 6115, 6631, 5132, 6239, 6358, 8287, 6608, 5305, 8287, 5620, 5132, 7919, 8287, 6239, 8287, 6339, 6631, 5791, 6339, 6339, 6607, 6358, 6239, 7919, 7300, 6358, 6608, 6630, 5620, 5132, 5620, 6339, 7919, 6607, 6358, 5132, 8287, 7919, 5791, 6115, 6631, 6607, 8288, 7795, 6358, 5791, 6607, 5620, 6358, 6607, 6339, 6630, 7919, 6358, 6608, 7300, 6607, 6115, 6608, 5132, 8310, 6560, 8287, 5305, 6358, 7919, 8288, 6630, 5791, 6115, 6560, 5305, 5791, 7795, 5620, 8287, 8288, 8310, 8310, 6607, 5132, 5492, 6608, 6239, 7795, 7919, 7919, 7919, 6358, 7795, 5492, 6607, 6607, 7795, 6239, 6358, 5305, 7919, 5492, 6560, 5132, 7919, 6630, 5305, 6239, 5492, 6115, 8288, 8288, 5620, 6630, 5492, 5492, 5620, 6630, 6239, 6358, 5132, 5132, 5620, 6607, 7919, 6607, 7795, 8288, 8287, 6607, 6239, 6608, 6607, 6560, 5305, 6631, 7919, 6607, 5620, 8287, 6607, 8310, 6608, 6115, 6358, 6560, 6358, 6339, 6630, 6607, 6339, 7919, 8287, 6630, 6560, 5132, 8288, 6608, 5620, 5620, 5305, 8310, 5620, 6631, 7795, 6560, 5791, 7300, 6631, 6631, 5492, 5492, 6239, 8288]\n"
     ]
    },
    {
     "data": {
      "application/vnd.jupyter.widget-view+json": {
       "model_id": "56a800881dfe45d281a2c97fd795af40",
       "version_major": 2,
       "version_minor": 0
      },
      "text/plain": [
       "NGLWidget()"
      ]
     },
     "metadata": {},
     "output_type": "display_data"
    }
   ],
   "source": [
    "# view eigenvector 0\n",
    "my_vm = view_most_populated_eigenv(water_sqra_sh, sqra, 0, num_extremes=20)\n",
    "my_vm.view"
   ]
  },
  {
   "cell_type": "code",
   "execution_count": 12,
   "id": "33ad0e2b",
   "metadata": {
    "ExecuteTime": {
     "end_time": "2024-04-29T12:16:07.495463Z",
     "start_time": "2024-04-29T12:15:35.019216Z"
    }
   },
   "outputs": [
    {
     "name": "stdout",
     "output_type": "stream",
     "text": [
      "In 1st eigenvector 20 most positive cells are [7471, 5740, 6093, 6120, 6123, 6112, 6985, 7919, 5305, 6239, 5132, 7300, 6358, 5620, 6115, 7795, 6094, 5277, 5791, 6339] and most negative [6579, 5410, 6608, 6607, 5396, 8287, 6600, 6595, 8310, 6630, 6560, 8311, 7079, 7090, 6585, 8288, 6574, 6631, 6582, 5399].\n",
      "[5791, 6093, 6239, 6115, 6339, 6339, 5305, 6358, 6115, 5791, 6358, 6093, 7471, 5305, 7471, 7300, 5305, 6239, 7471, 7919, 5305, 7471, 6985, 6093, 6115, 6579, 6595, 8287, 8311, 6585, 5396, 6560, 6560, 6585, 6630, 7090, 6608, 8310, 8310, 6600, 6608, 6630, 6607, 7090, 6631, 7079, 8311, 6608, 7079, 5410]\n"
     ]
    },
    {
     "data": {
      "application/vnd.jupyter.widget-view+json": {
       "model_id": "0fa824c08f5645408fc107720a1dc7ab",
       "version_major": 2,
       "version_minor": 0
      },
      "text/plain": [
       "NGLWidget()"
      ]
     },
     "metadata": {},
     "output_type": "display_data"
    }
   ],
   "source": [
    "# view eigenvector 1\n",
    "my_vm = view_most_pos_neg_eigenv(water_sqra_sh, sqra, 1, num_extremes=20)\n",
    "my_vm.view"
   ]
  },
  {
   "cell_type": "code",
   "execution_count": 21,
   "id": "5a643d0a",
   "metadata": {
    "ExecuteTime": {
     "end_time": "2024-04-29T13:04:24.224813Z",
     "start_time": "2024-04-29T13:03:46.867057Z"
    }
   },
   "outputs": [
    {
     "name": "stdout",
     "output_type": "stream",
     "text": [
      "In 1st eigenvector 20 most positive cells are [4950, 4928, 9967, 6094, 9990, 9968, 5277, 5132, 6600, 7795, 8311, 6595, 6631, 6115, 6630, 6607, 8287, 8310, 8288, 6608] and most negative [6586, 6575, 6676, 6636, 6645, 8240, 6582, 6579, 6675, 6574, 6573, 6560, 5479, 5492, 7172, 5825, 8265, 5798, 8262, 6585].\n",
      "[4950, 6600, 8288, 5132, 6630, 8287, 6608, 6094, 7795, 9990, 5277, 6607, 6608, 6600, 8287, 6115, 6094, 8311, 5277, 6631, 6607, 6600, 6607, 7795, 5277, 6573, 7172, 8240, 8265, 5492, 6575, 6645, 8262, 5798, 8265, 6645, 5798, 8262, 6560, 6636, 5798, 6579, 5492, 6645, 6574, 6676, 7172, 7172, 7172, 6676]\n"
     ]
    },
    {
     "data": {
      "application/vnd.jupyter.widget-view+json": {
       "model_id": "154354024c304023a5e016f56b4bcd33",
       "version_major": 2,
       "version_minor": 0
      },
      "text/plain": [
       "NGLWidget()"
      ]
     },
     "metadata": {},
     "output_type": "display_data"
    }
   ],
   "source": [
    "# view eigenvector 2\n",
    "my_vm = view_most_pos_neg_eigenv(water_sqra_sh, sqra, 2, num_extremes=20)\n",
    "my_vm.view"
   ]
  },
  {
   "cell_type": "code",
   "execution_count": 20,
   "id": "1fe1a492",
   "metadata": {
    "ExecuteTime": {
     "end_time": "2024-04-29T13:03:46.856982Z",
     "start_time": "2024-04-29T13:03:16.858870Z"
    }
   },
   "outputs": [
    {
     "name": "stdout",
     "output_type": "stream",
     "text": [
      "In 1st eigenvector 20 most positive cells are [6200, 8288, 7402, 7172, 5313, 6189, 6993, 6239, 5722, 5620, 5244, 5492, 5740, 6985, 7471, 6607, 6630, 5791, 5305, 6608] and most negative [6585, 6560, 7800, 7792, 7774, 6957, 6582, 7803, 9475, 5277, 6812, 6093, 6094, 6123, 6111, 6112, 6120, 5132, 6115, 7795].\n",
      "[7172, 5244, 6239, 6608, 7471, 6607, 5313, 5791, 6189, 6608, 6993, 6189, 6607, 5620, 6200, 7172, 6239, 5305, 7471, 6608, 6607, 5313, 6189, 6608, 6630, 6093, 7803, 7795, 6093, 5277, 6115, 9475, 6585, 6120, 6560, 6957, 7774, 6812, 6585, 7792, 5132, 7800, 7795, 7792, 7803, 6812, 6585, 6812, 7774, 6560]\n"
     ]
    },
    {
     "data": {
      "application/vnd.jupyter.widget-view+json": {
       "model_id": "1c130b182aae4a9fb30b9ad8522ea5e2",
       "version_major": 2,
       "version_minor": 0
      },
      "text/plain": [
       "NGLWidget()"
      ]
     },
     "metadata": {},
     "output_type": "display_data"
    }
   ],
   "source": [
    "# view eigenvector 3\n",
    "my_vm = view_most_pos_neg_eigenv(water_sqra_sh, sqra, 3, num_extremes=20)\n",
    "my_vm.view"
   ]
  },
  {
   "cell_type": "code",
   "execution_count": 15,
   "id": "a2a00e6b",
   "metadata": {
    "ExecuteTime": {
     "end_time": "2024-04-29T12:19:42.582113Z",
     "start_time": "2024-04-29T12:19:10.503887Z"
    }
   },
   "outputs": [
    {
     "name": "stdout",
     "output_type": "stream",
     "text": [
      "In 1st eigenvector 5 most positive cells are [6582, 6358, 5791, 5305, 6560] and most negative [6608, 6630, 6115, 7172, 5492].\n",
      "[6560, 6560, 5305, 6560, 5305, 5791, 6560, 6560, 6358, 6358, 5791, 6560, 6358, 5305, 6560, 6582, 5305, 6560, 5305, 6582, 6358, 5791, 6582, 6582, 6358, 6630, 5492, 6630, 6608, 6608, 6608, 6115, 6115, 6608, 6630, 7172, 5492, 7172, 6608, 7172, 6630, 6608, 5492, 6115, 7172, 6115, 7172, 6115, 6115, 5492]\n"
     ]
    },
    {
     "data": {
      "application/vnd.jupyter.widget-view+json": {
       "model_id": "28aba0ff064e43678674264b050c5ca0",
       "version_major": 2,
       "version_minor": 0
      },
      "text/plain": [
       "NGLWidget()"
      ]
     },
     "metadata": {},
     "output_type": "display_data"
    }
   ],
   "source": [
    "my_vm = view_most_pos_neg_eigenv(water_sqra_sh, sqra, 4, num_extremes=5)\n",
    "my_vm.view"
   ]
  },
  {
   "cell_type": "markdown",
   "id": "7286b47f",
   "metadata": {},
   "source": [
    "$Q_{i j}=\\frac{\\mathbf{D}}{h_{i j}} \\frac{\\mathcal{S}_{i j}}{\\mathcal{V}_i} \\sqrt{\\frac{\\pi_j}{\\pi_i}} = \\mathbf{D} \\cdot h_{i j} \\cdot \\frac{1}{\\mathcal{S}_{i j}} \\cdot \\frac{1}{\\mathcal{V}_{i}} \\cdot \\sqrt{\\pi_j} \\cdot \\frac{1}{\\sqrt{\\pi_i}}$"
   ]
  },
  {
   "cell_type": "code",
   "execution_count": 24,
   "id": "7b788a6b",
   "metadata": {
    "ExecuteTime": {
     "end_time": "2024-04-29T13:11:26.239563Z",
     "start_time": "2024-04-29T13:11:09.856879Z"
    }
   },
   "outputs": [
    {
     "name": "stdout",
     "output_type": "stream",
     "text": [
      "area 12.566370614359162 [2.13157895 2.39473684 2.65789474 2.92105263 3.18421053 3.44736842\n",
      " 3.71052632 3.97368421 4.23684211 4.5        4.76315789 5.02631579\n",
      " 5.28947368 5.55263158 5.81578947 6.07894737 6.34210526 6.60526316\n",
      " 6.86842105 7.13157895] [0.         2.13157895 2.39473684 2.65789474 2.92105263 3.18421053\n",
      " 3.44736842 3.71052632 3.97368421 4.23684211 4.5        4.76315789\n",
      " 5.02631579 5.28947368 5.55263158 5.81578947 6.07894737 6.34210526\n",
      " 6.60526316 6.86842105]\n",
      "In 4D, only approximate calculation of Voronoi cells is possible. Proceeding numerically.\n"
     ]
    },
    {
     "ename": "TypeError",
     "evalue": "only integer scalar arrays can be converted to a scalar index",
     "output_type": "error",
     "traceback": [
      "\u001b[1;31m---------------------------------------------------------------------------\u001b[0m",
      "\u001b[1;31mTypeError\u001b[0m                                 Traceback (most recent call last)",
      "Cell \u001b[1;32mIn[24], line 13\u001b[0m\n\u001b[0;32m     11\u001b[0m sns\u001b[38;5;241m.\u001b[39mscatterplot(h_ij\u001b[38;5;241m.\u001b[39mdata, ax\u001b[38;5;241m=\u001b[39max[\u001b[38;5;241m0\u001b[39m])\n\u001b[0;32m     12\u001b[0m sns\u001b[38;5;241m.\u001b[39mscatterplot(\u001b[38;5;241m1\u001b[39m\u001b[38;5;241m/\u001b[39mS_ij\u001b[38;5;241m.\u001b[39mdata, ax\u001b[38;5;241m=\u001b[39max[\u001b[38;5;241m1\u001b[39m])\n\u001b[1;32m---> 13\u001b[0m sns\u001b[38;5;241m.\u001b[39mscatterplot(\u001b[38;5;241m1\u001b[39m\u001b[38;5;241m/\u001b[39m\u001b[43mV_i\u001b[49m\u001b[43m[\u001b[49m\u001b[43mnp\u001b[49m\u001b[38;5;241;43m.\u001b[39;49m\u001b[43marray\u001b[49m\u001b[43m(\u001b[49m\u001b[43mh_ij\u001b[49m\u001b[38;5;241;43m.\u001b[39;49m\u001b[43mrow\u001b[49m\u001b[43m,\u001b[49m\u001b[43m \u001b[49m\u001b[43mdtype\u001b[49m\u001b[38;5;241;43m=\u001b[39;49m\u001b[38;5;28;43mint\u001b[39;49m\u001b[43m)\u001b[49m\u001b[43m]\u001b[49m, ax\u001b[38;5;241m=\u001b[39max[\u001b[38;5;241m2\u001b[39m])\n\u001b[0;32m     14\u001b[0m plt\u001b[38;5;241m.\u001b[39mshow()\n",
      "\u001b[1;31mTypeError\u001b[0m: only integer scalar arrays can be converted to a scalar index"
     ]
    }
   ],
   "source": [
    "# print components of sqra\n",
    "from scipy.constants import kB, N_A\n",
    "T = 300\n",
    "\n",
    "h_ij =  water_sqra_sh.full_grid.get_full_distances().tocoo()\n",
    "\n",
    "row_indices = h_ij.row\n",
    "\n",
    "\n",
    "S_ij =  water_sqra_sh.full_grid.get_full_borders()\n",
    "\n",
    "V_i  = water_sqra_sh.full_grid.get_total_volumes()\n",
    "\n",
    "pi_j = np.exp((obtained_energies[self.transition_matrix.row])*1000/(2*kB*N_A*T))\n",
    "\n",
    "obtained_energies = self.sim_hist.get_magnitude_energy(energy_type=self.energy_type)\n",
    "\n",
    "\n",
    "fig, ax = plt.subplots(1, 3, figsize=(15, 5))\n",
    "sns.scatterplot(h_ij.data, ax=ax[0])\n",
    "sns.scatterplot(1/S_ij.data, ax=ax[1])\n",
    "sns.scatterplot()\n",
    "#sns.scatterplot(1/V_i[np.array(h_ij.row, dtype=int)], ax=ax[2])\n",
    "plt.show()"
   ]
  },
  {
   "cell_type": "code",
   "execution_count": null,
   "id": "b70dbc14",
   "metadata": {
    "ExecuteTime": {
     "end_time": "2024-04-19T13:21:11.962925Z",
     "start_time": "2024-04-19T13:21:11.962917Z"
    },
    "scrolled": false
   },
   "outputs": [],
   "source": [
    "# smol example\n",
    "#sqra_name = \"H2O_H2O_0395\"\n",
    "sqra_name = \"H2O_H2O_0577\"\n",
    "sqra_use_saved = True\n",
    "water_sqra_sh = SimulationHistogram(sqra_name, \"H2O\", is_pt=True,\n",
    "                second_molecule_selection=\"bynum 4:6\", use_saved=sqra_use_saved)\n",
    "\n",
    "sqra = SQRA(water_sqra_sh, use_saved=sqra_use_saved)\n",
    "# eigenvectors \n",
    "k = 8\n",
    "sqra_eigenval, sqra_eigenvec = sqra.get_eigenval_eigenvec(num_eigenv=k)\n",
    "sqra_eigenvec = sqra_eigenvec.squeeze()\n",
    "sqra_eigenvec = sqra_eigenvec[:, :k]\n",
    "#print(sqra_eigenvec.shape)\n",
    "#plt.scatter(*sqra_eigenvec.T)\n",
    "\n",
    "# spectral clustering\n",
    "from sklearn.cluster import KMeans, SpectralClustering\n",
    "from sklearn.decomposition import PCA\n",
    "\n",
    "#clustering = KMeans(n_clusters=5)\n",
    "#clustering.fit(sqra_eigenvec)\n",
    "\n",
    "sc = SpectralClustering(n_clusters=14)\n",
    "sc.fit(sqra.get_transitions_matrix())\n",
    "\n",
    "# plot on PCA-reduced data\n",
    "\n",
    "reduced_data = PCA(n_components=2).fit_transform(sqra_eigenvec)\n",
    "kmeans = KMeans(init=\"k-means++\", n_clusters=6, n_init=10)\n",
    "kmeans.fit(reduced_data)\n",
    "\n",
    "# Step size of the mesh. Decrease to increase the quality of the VQ.\n",
    "h = 0.02  # point in the mesh [x_min, x_max]x[y_min, y_max].\n",
    "\n",
    "# Plot the decision boundary. For that, we will assign a color to each\n",
    "x_min, x_max = reduced_data[:, 0].min() - 1, reduced_data[:, 0].max() + 1\n",
    "y_min, y_max = reduced_data[:, 1].min() - 1, reduced_data[:, 1].max() + 1\n",
    "xx, yy = np.meshgrid(np.arange(x_min, x_max, h), np.arange(y_min, y_max, h))\n",
    "\n",
    "# Obtain labels for each point in mesh. Use last trained model.\n",
    "Z = kmeans.predict(np.c_[xx.ravel(), yy.ravel()])\n",
    "\n",
    "# Put the result into a color plot\n",
    "Z = Z.reshape(xx.shape)\n",
    "plt.figure(1)\n",
    "plt.clf()\n",
    "plt.imshow(\n",
    "    Z,\n",
    "    interpolation=\"nearest\",\n",
    "    extent=(xx.min(), xx.max(), yy.min(), yy.max()),\n",
    "    cmap=plt.cm.Paired,\n",
    "    aspect=\"auto\",\n",
    "    origin=\"lower\",\n",
    ")\n",
    "\n",
    "plt.plot(reduced_data[:, 0], reduced_data[:, 1], \"k.\", markersize=2)\n",
    "plt.xlim(x_min, x_max)\n",
    "plt.ylim(y_min, y_max)\n",
    "plt.xticks(())\n",
    "plt.yticks(())\n",
    "plt.show()\n"
   ]
  },
  {
   "cell_type": "markdown",
   "id": "1d1d5691",
   "metadata": {},
   "source": [
    "## Geometrical properties of FullGrid"
   ]
  },
  {
   "cell_type": "code",
   "execution_count": 73,
   "id": "bb4b0550",
   "metadata": {
    "ExecuteTime": {
     "end_time": "2024-04-16T12:20:19.692916Z",
     "start_time": "2024-04-16T12:20:06.572435Z"
    }
   },
   "outputs": [],
   "source": [
    "my_full_grid =  #linspace(0.2, 0.6, 20)"
   ]
  },
  {
   "cell_type": "code",
   "execution_count": 90,
   "id": "0728e7bd",
   "metadata": {
    "ExecuteTime": {
     "end_time": "2024-04-16T13:04:36.717178Z",
     "start_time": "2024-04-16T13:04:31.967442Z"
    },
    "scrolled": false
   },
   "outputs": [
    {
     "name": "stdout",
     "output_type": "stream",
     "text": [
      "Warning! For <=4 points, volumes, areas etc are only estimated.\n",
      "Warning! For <=4 points, volumes, areas etc are only estimated.\n",
      "Warning! For <=4 points, volumes, areas etc are only estimated.\n",
      "Warning! For <=4 points, volumes, areas etc are only estimated.\n",
      "  (0, 15)\t0.7839643375528704\n",
      "  (0, 20)\t0.7839643375528705\n",
      "  (0, 26)\t0.7839643375528705\n",
      "  (0, 27)\t0.7839643375528708\n",
      "  (0, 30)\t0.7839643375528702\n",
      "  (1, 24)\t0.7839643375528713\n",
      "  (1, 29)\t0.7839643375528711\n",
      "  (1, 32)\t0.7839643375528713\n",
      "  (1, 34)\t0.7839643375528702\n",
      "  (1, 37)\t0.7839643375528697\n",
      "  (2, 25)\t0.7839643375528719\n",
      "  (2, 28)\t0.7839643375528704\n",
      "  (2, 30)\t0.7839643375528708\n",
      "  (2, 34)\t0.7839643375528704\n",
      "  (2, 39)\t0.7839643375528708\n",
      "  (3, 21)\t0.7839643375528708\n",
      "  (3, 35)\t0.7839643375528708\n",
      "  (3, 36)\t0.7839643375528719\n",
      "  (3, 38)\t0.7839643375528704\n",
      "  (3, 41)\t0.7839643375528708\n",
      "  (4, 16)\t0.7839643375528708\n",
      "  (4, 31)\t0.7839643375528705\n",
      "  (4, 33)\t0.7839643375528705\n",
      "  (4, 40)\t0.7839643375528704\n",
      "  (4, 41)\t0.7839643375528715\n",
      "  :\t:\n",
      "  (37, 29)\t0.6293343860363342\n",
      "  (38, 3)\t0.7839643375528704\n",
      "  (38, 10)\t0.7839643375528708\n",
      "  (38, 18)\t0.6293343860363334\n",
      "  (38, 36)\t0.6293343860363335\n",
      "  (38, 40)\t0.6293343860363328\n",
      "  (38, 41)\t0.6293343860363335\n",
      "  (39, 2)\t0.7839643375528708\n",
      "  (39, 9)\t0.7839643375528702\n",
      "  (39, 20)\t0.6293343860363334\n",
      "  (39, 24)\t0.629334386036334\n",
      "  (39, 30)\t0.6293343860363341\n",
      "  (39, 34)\t0.6293343860363321\n",
      "  (40, 4)\t0.7839643375528704\n",
      "  (40, 10)\t0.783964337552871\n",
      "  (40, 16)\t0.6293343860363351\n",
      "  (40, 17)\t0.6293343860363335\n",
      "  (40, 38)\t0.6293343860363328\n",
      "  (40, 41)\t0.6293343860363341\n",
      "  (41, 3)\t0.7839643375528708\n",
      "  (41, 4)\t0.7839643375528715\n",
      "  (41, 33)\t0.6293343860363334\n",
      "  (41, 35)\t0.6293343860363342\n",
      "  (41, 38)\t0.6293343860363335\n",
      "  (41, 40)\t0.6293343860363341\n",
      "In 4D, only approximate calculation of Voronoi cells is possible. Proceeding numerically.\n",
      "\n",
      "  (0, 1)\t55.695825437603\n",
      "  (1, 0)\t55.695825437603\n",
      "  (1, 2)\t67.39194877949961\n",
      "  (2, 1)\t67.39194877949961\n",
      "  (2, 3)\t80.20198863014828\n",
      "  (3, 2)\t80.20198863014828\n",
      "  (3, 4)\t94.12594498954904\n",
      "  (4, 3)\t94.12594498954904\n",
      "  (4, 5)\t109.16381785770187\n",
      "  (5, 4)\t109.16381785770187\n",
      "  (5, 6)\t125.31560723460672\n",
      "  (6, 5)\t125.31560723460672\n",
      "  (6, 7)\t142.58131312026362\n",
      "  (7, 6)\t142.58131312026362\n",
      "  (7, 8)\t160.96093551467263\n",
      "  (8, 7)\t160.96093551467263\n",
      "  (8, 9)\t180.45447441783367\n",
      "  (9, 8)\t180.45447441783367\n",
      "  (9, 10)\t201.06192982974676\n",
      "  (10, 9)\t201.06192982974676\n",
      "  (10, 11)\t222.783301750412\n",
      "  (11, 10)\t222.783301750412\n",
      "  (11, 12)\t245.61859017982908\n",
      "  (12, 11)\t245.61859017982908\n",
      "  (12, 13)\t269.56779511799846\n",
      "  (13, 12)\t269.56779511799846\n",
      "  (13, 14)\t294.63091656491986\n",
      "  (14, 13)\t294.63091656491986\n",
      "  (14, 15)\t320.8079545205932\n",
      "  (15, 14)\t320.8079545205932\n",
      "  (15, 16)\t348.0989089850187\n",
      "  (16, 15)\t348.0989089850187\n",
      "  (16, 17)\t376.50377995819605\n",
      "  (17, 16)\t376.50377995819605\n",
      "  (17, 18)\t406.0225674401257\n",
      "  (18, 17)\t406.0225674401257\n",
      "  (18, 19)\t436.6552714308075\n",
      "  (19, 18)\t436.6552714308075\n"
     ]
    },
    {
     "data": {
      "image/png": "[encoded data removed]",
      "text/plain": [
       "<Figure size 1500x1500 with 9 Axes>"
      ]
     },
     "metadata": {},
     "output_type": "display_data"
    }
   ],
   "source": [
    "available_fgs = [FullGrid(o_grid_name=\"42\", b_grid_name=\"1\", t_grid_name=\"[0.1]\"),\n",
    "                FullGrid(o_grid_name=\"1\", b_grid_name=\"40\", t_grid_name=\"[0.1]\"),\n",
    "                FullGrid(o_grid_name=\"1\", b_grid_name=\"1\", t_grid_name=\"linspace(0.2, 0.6, 20)\")]\n",
    "\n",
    "fig, ax = plt.subplots(len(available_fgs), 3, figsize=(15, len(available_fgs)*5))\n",
    "for i, my_full_grid in enumerate(available_fgs):\n",
    "    all_volumes = my_full_grid.get_total_volumes()\n",
    "    sns.histplot(all_volumes, ax=ax[i][0])\n",
    "    all_borders = my_full_grid.get_full_borders()\n",
    "    print(my_full_grid.position_grid.get_borders_of_position_grid())\n",
    "    sns.histplot(all_borders.data, ax=ax[i][1])\n",
    "    all_dist = my_full_grid.get_full_distances()\n",
    "    sns.histplot(all_dist.data, ax=ax[i][2])\n",
    "    ax[0][0].set_title(\"Volumes\")\n",
    "    ax[0][1].set_title(\"Border areas\")\n",
    "    ax[0][2].set_title(\"Center distances\")\n",
    "plt.show()"
   ]
  },
  {
   "cell_type": "markdown",
   "id": "e852c276",
   "metadata": {},
   "source": [
    "## Timing\n",
    "\n",
    "\n",
    "SQRA\n",
    "generating a pseudotrajectory based on two water molecules and FullGrid(o_grid=\"42\", b_grid=\"40\", t_grid=\"linspace(0.2, 0.6, 20)\") as well as calculating all volumes, areas, distances: cca 1min\n",
    "\n",
    "\n",
    "MSM\n",
    "assigning to FullGrid(o_grid=\"42\", b_grid=\"40\", t_grid=\"linspace(0.2, 0.6, 20)\") + getting eigenvectors for a 50000000-step trajectory (check ausschreibefrequenz)  cca 2hours 30min"
   ]
  }
 ],
 "metadata": {
  "kernelspec": {
   "display_name": "Python 3 (ipykernel)",
   "language": "python",
   "name": "python3"
  },
  "language_info": {
   "codemirror_mode": {
    "name": "ipython",
    "version": 3
   },
   "file_extension": ".py",
   "mimetype": "text/x-python",
   "name": "python",
   "nbconvert_exporter": "python",
   "pygments_lexer": "ipython3",
   "version": "3.9.13"
  },
  "toc": {
   "base_numbering": 1,
   "nav_menu": {},
   "number_sections": true,
   "sideBar": false,
   "skip_h1_title": true,
   "title_cell": "Table of Contents",
   "title_sidebar": "Contents",
   "toc_cell": true,
   "toc_position": {},
   "toc_section_display": true,
   "toc_window_display": true
  }
 },
 "nbformat": 4,
 "nbformat_minor": 5
}
