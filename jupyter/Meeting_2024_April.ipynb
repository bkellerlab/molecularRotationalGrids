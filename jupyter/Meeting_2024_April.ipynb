{
 "cells": [
  {
   "cell_type": "markdown",
   "id": "04555201",
   "metadata": {
    "toc": true
   },
   "source": [
    "<h1>Table of Contents<span class=\"tocSkip\"></span></h1>\n",
    "<div class=\"toc\"><ul class=\"toc-item\"><li><span><a href=\"#MSM\" data-toc-modified-id=\"MSM-1\"><span class=\"toc-item-num\">1&nbsp;&nbsp;</span>MSM</a></span></li><li><span><a href=\"#SQRA\" data-toc-modified-id=\"SQRA-2\"><span class=\"toc-item-num\">2&nbsp;&nbsp;</span>SQRA</a></span></li><li><span><a href=\"#Geometrical-properties-of-FullGrid\" data-toc-modified-id=\"Geometrical-properties-of-FullGrid-3\"><span class=\"toc-item-num\">3&nbsp;&nbsp;</span>Geometrical properties of FullGrid</a></span></li><li><span><a href=\"#Timing\" data-toc-modified-id=\"Timing-4\"><span class=\"toc-item-num\">4&nbsp;&nbsp;</span>Timing</a></span></li></ul></div>"
   ]
  },
  {
   "cell_type": "code",
   "execution_count": 3,
   "id": "26413463",
   "metadata": {
    "ExecuteTime": {
     "end_time": "2024-04-24T14:55:46.839545Z",
     "start_time": "2024-04-24T14:55:46.836989Z"
    }
   },
   "outputs": [],
   "source": [
    "import sys\n",
    "import os\n",
    "\n",
    "try:\n",
    "    os.chdir(r\"/home/hanaz63/PAPER_MOLECULAR_ROTATIONS_2022/nobackup/molgri\")\n",
    "    sys.path.append(r\"/home/hanaz63/PAPER_MOLECULAR_ROTATIONS_2022/nobackup\")\n",
    "except FileNotFoundError:\n",
    "    os.chdir(r\"D:\\HANA\\phD\\PAPER_2022\\molecularRotationalGrids\")\n",
    "    sys.path.append(r\"D:\\HANA\\phD\\PAPER_2022\\molecularRotationalGrids\")\n",
    "    \n",
    "import warnings\n",
    "warnings.filterwarnings(\"ignore\")"
   ]
  },
  {
   "cell_type": "code",
   "execution_count": 4,
   "id": "6788b188",
   "metadata": {
    "ExecuteTime": {
     "end_time": "2024-04-24T14:55:50.701798Z",
     "start_time": "2024-04-24T14:55:47.347970Z"
    }
   },
   "outputs": [
    {
     "data": {
      "application/vnd.jupyter.widget-view+json": {
       "model_id": "c65d68cbdd5c46dc8721de34070ac089",
       "version_major": 2,
       "version_minor": 0
      },
      "text/plain": []
     },
     "metadata": {},
     "output_type": "display_data"
    }
   ],
   "source": [
    "import numpy as np\n",
    "import matplotlib.pyplot as plt\n",
    "import seaborn as sns\n",
    "\n",
    "from molgri.plotting.widgets import ViewManager\n",
    "from molgri.space.fullgrid import FullGrid\n",
    "from molgri.molecules.transitions import MSM, SimulationHistogram, SQRA\n",
    "from molgri.space.utils import k_argmax_in_array\n",
    "from molgri.plotting.transition_plots import TransitionPlot\n",
    "from molgri.paths import PATH_OUTPUT_LOGGING\n",
    "\n",
    "sns.set_context(\"notebook\")"
   ]
  },
  {
   "cell_type": "code",
   "execution_count": 5,
   "id": "96420a7a",
   "metadata": {
    "ExecuteTime": {
     "end_time": "2024-04-24T14:55:50.708792Z",
     "start_time": "2024-04-24T14:55:50.703209Z"
    },
    "code_folding": []
   },
   "outputs": [],
   "source": [
    "# view functions adapted for eigenvectors\n",
    "\n",
    "def view_most_populated_eigenv(my_sh, eigenvector_i=0, num_extremes=20, tau_i=0):\n",
    "    vm = ViewManager(my_sh.trajectory_universe)\n",
    "    vm.fresh_view()\n",
    "    my_sh.use_saved = True\n",
    "\n",
    "    evalu, evec = my_sh.get_transition_model().get_eigenval_eigenvec()\n",
    "    magnitudes = evec[tau_i].T[eigenvector_i]\n",
    "\n",
    "    most_positive = k_argmax_in_array(np.abs(magnitudes), num_extremes)\n",
    "\n",
    "    print(f\"In 0th eigenvector {num_extremes} most positive cells are {list(most_positive)}.\")\n",
    "    # now assign these to trajectory frames\n",
    "    assigned_frames = []\n",
    "    for one_argmax in most_positive:\n",
    "        all_assigned = my_sh.get_indices_same_cell(one_argmax)\n",
    "        assigned_frames.extend(all_assigned)\n",
    "\n",
    "    # for gromacs\n",
    "    print(list(np.random.choice(assigned_frames, 300)))\n",
    "    vm.plot_frames_overlapping(np.random.choice(assigned_frames, 50))\n",
    "    return vm\n",
    "\n",
    "def view_most_pos_neg_eigenv(my_sh, eigenvector_i=1, num_extremes=20, tau_i=0):\n",
    "    vm = ViewManager(my_sh.trajectory_universe)\n",
    "    vm.fresh_view()\n",
    "    my_sh.use_saved = True\n",
    "\n",
    "    evalu, evec = my_sh.get_transition_model().get_eigenval_eigenvec()\n",
    "    magnitudes = evec[tau_i].T[eigenvector_i]\n",
    "\n",
    "    most_positive = k_argmax_in_array(magnitudes, num_extremes)\n",
    "    most_negative = k_argmax_in_array(-magnitudes, num_extremes)\n",
    "\n",
    "\n",
    "    print(f\"In 1st eigenvector {num_extremes} most positive cells are {list(most_positive)} and most negative {list(most_negative)}.\")\n",
    "    # now assign these to trajectory frames\n",
    "\n",
    "    assigned_frames_p = []\n",
    "    for one_argmax in most_positive:\n",
    "        all_assigned = my_sh.get_indices_same_cell(one_argmax)\n",
    "        assigned_frames_p.extend(all_assigned)\n",
    "    assigned_frames_n = []\n",
    "    for one_argmax in most_negative:\n",
    "        all_assigned = my_sh.get_indices_same_cell(one_argmax)\n",
    "        assigned_frames_n.extend(all_assigned)\n",
    "\n",
    "    colors = [\"blue\",]*25\n",
    "    colors.extend([\"red\",]*25)\n",
    "\n",
    "    assigned_frames = list(np.random.choice(assigned_frames_p, 25))\n",
    "    assigned_frames.extend(list(np.random.choice(assigned_frames_n, 25)))\n",
    "    # for gromacs\n",
    "    print(list(assigned_frames))\n",
    "    vm.plot_frames_overlapping(assigned_frames, colors=colors)\n",
    "    return vm"
   ]
  },
  {
   "cell_type": "markdown",
   "id": "e31806e0",
   "metadata": {},
   "source": [
    "## MSM"
   ]
  },
  {
   "cell_type": "code",
   "execution_count": 4,
   "id": "d4749d49",
   "metadata": {
    "ExecuteTime": {
     "end_time": "2024-04-23T13:04:08.846106Z",
     "start_time": "2024-04-23T13:04:08.058699Z"
    }
   },
   "outputs": [],
   "source": [
    "# input parameters\n",
    "msm_name = \"H2O_H2O_0095_50000000\"\n",
    "msm_fullgrid = full_grid=FullGrid(b_grid_name=\"20\", o_grid_name=\"20\",\n",
    "                                  t_grid_name=\"linspace(0.2, 0.6, 10)\")\n",
    "\n",
    "#o_grid=40, b_grid=42, t_grid=linspace(0.2, 0.7, 20)\n",
    "msm_use_saved = True\n",
    "tau_array = np.array([1, 2, 3, 5, 7, 10, 15, 20, 30, 40, 50, 70, 80, 90, 100, 110, 130, 150, 180, 200, 220,\n",
    "                      250, 270, 300])\n",
    "index_tau = 17"
   ]
  },
  {
   "cell_type": "code",
   "execution_count": 5,
   "id": "a5be7c5b",
   "metadata": {
    "ExecuteTime": {
     "end_time": "2024-04-23T14:16:27.102416Z",
     "start_time": "2024-04-23T13:04:12.155556Z"
    }
   },
   "outputs": [],
   "source": [
    "water_msm_sh = SimulationHistogram(msm_name, \"H2O\", is_pt=False, full_grid=msm_fullgrid,\n",
    "                                   second_molecule_selection=\"bynum 4:6\", use_saved=msm_use_saved)\n",
    "msm = MSM(water_msm_sh, tau_array=tau_array, use_saved=msm_use_saved)"
   ]
  },
  {
   "cell_type": "code",
   "execution_count": null,
   "id": "9f50c3fb",
   "metadata": {
    "ExecuteTime": {
     "end_time": "2024-04-23T22:58:23.736431Z",
     "start_time": "2024-04-23T22:58:23.736423Z"
    }
   },
   "outputs": [],
   "source": [
    "msm_tp = TransitionPlot(water_msm_sh, tau_array=tau_array)\n",
    "msm_tp.transition_obj = msm\n",
    "msm_tp.simulation_histogram.use_saved = True\n",
    "msm_tp.transition_obj.use_saved=True\n",
    "fig, ax = plt.subplots(1, 2, sharex=False, sharey=False, figsize=(10, 5))\n",
    "msm_tp.plot_eigenvalues(num_eigenv=6, index_tau=index_tau, save=False, fig=fig, ax=ax[0])\n",
    "msm_tp.plot_its(6, as_line=False, save=False, fig=fig, ax=ax[1])\n",
    "plt.show()"
   ]
  },
  {
   "cell_type": "code",
   "execution_count": null,
   "id": "26210da1",
   "metadata": {
    "ExecuteTime": {
     "end_time": "2024-04-23T14:16:28.196410Z",
     "start_time": "2024-04-23T14:16:28.196401Z"
    }
   },
   "outputs": [],
   "source": [
    "fig, ax = plt.subplots(5, sharex=True, sharey=True, figsize=(5, 12.5))\n",
    "for i in range(5):\n",
    "    tp.plot_one_eigenvector_flat(i, save=False, fig=fig, ax=ax[i], index_tau=index_tau)\n",
    "plt.show()"
   ]
  },
  {
   "cell_type": "code",
   "execution_count": null,
   "id": "85d9a289",
   "metadata": {},
   "outputs": [],
   "source": [
    "# MSM eigenvector 0\n",
    "my_vm = view_most_populated_eigenv(water_msm_sh, 0, num_extremes=20, tau_i=index_tau)\n",
    "my_vm.view"
   ]
  },
  {
   "cell_type": "code",
   "execution_count": null,
   "id": "0ae23abb",
   "metadata": {},
   "outputs": [],
   "source": [
    "# MSM view eigenvector 1\n",
    "my_vm = view_most_pos_neg_eigenv(water_msm_sh, 1, num_extremes=20, tau_i=index_tau)\n",
    "my_vm.view"
   ]
  },
  {
   "cell_type": "code",
   "execution_count": null,
   "id": "f67e1c7d",
   "metadata": {},
   "outputs": [],
   "source": [
    "# MSM view eigenvector 2\n",
    "my_vm = view_most_pos_neg_eigenv(water_msm_sh, 2, num_extremes=20, tau_i=index_tau)\n",
    "my_vm.view"
   ]
  },
  {
   "cell_type": "code",
   "execution_count": null,
   "id": "cad2847b",
   "metadata": {},
   "outputs": [],
   "source": [
    "# MSM view eigenvector 3\n",
    "my_vm = view_most_pos_neg_eigenv(water_msm_sh, 3, num_extremes=20, tau_iS=index_tau)\n",
    "my_vm.view"
   ]
  },
  {
   "cell_type": "markdown",
   "id": "bfd14ee8",
   "metadata": {},
   "source": [
    "## SQRA"
   ]
  },
  {
   "cell_type": "code",
   "execution_count": 6,
   "id": "cf3a9094",
   "metadata": {
    "ExecuteTime": {
     "end_time": "2024-04-24T14:55:55.034326Z",
     "start_time": "2024-04-24T14:55:55.029884Z"
    }
   },
   "outputs": [],
   "source": [
    "# input parameters\n",
    "# FUNCTIONS: H2O_H2O_0543\n",
    "# it is redone as 0577\n",
    "sqra_name = \"H2O_H2O_0577\"\n",
    "sqra_use_saved = True"
   ]
  },
  {
   "cell_type": "code",
   "execution_count": 7,
   "id": "0fbbc7f5",
   "metadata": {
    "ExecuteTime": {
     "end_time": "2024-04-24T14:56:06.485489Z",
     "start_time": "2024-04-24T14:55:55.465157Z"
    }
   },
   "outputs": [
    {
     "name": "stderr",
     "output_type": "stream",
     "text": [
      "Exception ignored in: <function ReaderBase.__del__ at 0x7f8cb8958360>\n",
      "Traceback (most recent call last):\n",
      "  File \"/home/hanaz63/miniconda3/lib/python3.11/site-packages/MDAnalysis/coordinates/base.py\", line 1532, in __del__\n",
      "    self.close()\n",
      "  File \"/home/hanaz63/miniconda3/lib/python3.11/site-packages/MDAnalysis/coordinates/XDR.py\", line 186, in close\n",
      "    self._xdr.close()\n",
      "    ^^^^^^^^^\n",
      "AttributeError: 'TRRReader' object has no attribute '_xdr'\n"
     ]
    },
    {
     "data": {
      "text/plain": [
       "(array([[-5.14403971e-15, -8.55494935e-03, -3.45577157e-02,\n",
       "         -6.02477623e-02, -7.58806540e-02, -8.68361934e-02]]),\n",
       " array([[[-9.25551446e-19,  2.69271085e-07, -4.32844120e-06,\n",
       "          -3.60042342e-07,  7.05383023e-07,  5.34232740e-06],\n",
       "         [-2.45717054e-21,  5.88674008e-10, -9.47946959e-09,\n",
       "          -8.28001215e-10,  1.44856574e-09,  1.17170676e-08],\n",
       "         [ 2.67583308e-18, -6.27310966e-07,  1.00530555e-05,\n",
       "           9.01859175e-07, -1.55920392e-06, -1.25272494e-05],\n",
       "         ...,\n",
       "         [ 3.27542839e-05,  1.78433459e-05,  5.28550642e-06,\n",
       "          -1.38443269e-05, -2.74130248e-05, -1.76053410e-04],\n",
       "         [ 2.99962183e-05,  1.70044446e-05, -4.51368452e-06,\n",
       "          -1.50240370e-05, -2.35026483e-05, -1.33621452e-04],\n",
       "         [ 2.69026709e-05,  7.06063982e-06,  1.03862093e-05,\n",
       "          -8.76711991e-06, -2.30552883e-05, -1.22174303e-04]]]))"
      ]
     },
     "execution_count": 7,
     "metadata": {},
     "output_type": "execute_result"
    }
   ],
   "source": [
    "#full_grid = FullGrid(b_grid_name=\"40\", o_grid_name=\"42\", t_grid_name=\"linspace(0.2, 1, 20)\",\n",
    "#                     use_saved=sqra_use_saved)\n",
    "\n",
    "water_sqra_sh = SimulationHistogram(sqra_name, \"H2O\", is_pt=True,\n",
    "                second_molecule_selection=\"bynum 4:6\", use_saved=sqra_use_saved)\n",
    "\n",
    "sqra = SQRA(water_sqra_sh, use_saved=sqra_use_saved)\n",
    "sqra.get_eigenval_eigenvec(6, sigma = 0, which = \"LM\")"
   ]
  },
  {
   "cell_type": "code",
   "execution_count": 8,
   "id": "183532df",
   "metadata": {
    "ExecuteTime": {
     "end_time": "2024-04-24T14:56:06.490293Z",
     "start_time": "2024-04-24T14:56:06.486953Z"
    }
   },
   "outputs": [
    {
     "name": "stdout",
     "output_type": "stream",
     "text": [
      "Input parameters of FullGrid: o_grid=40, b_grid=42, t_grid=linspace(0.2, 0.7, 20)\n"
     ]
    }
   ],
   "source": [
    "# print out the information on this fullgrid\n",
    "with open(f\"{PATH_OUTPUT_LOGGING}{sqra_name}.log\") as f:\n",
    "    for line in f.readlines():\n",
    "        if line.startswith(\"INFO:PtLogger:input grid parameters:\"):\n",
    "            all_param = line.split(':')[-1]\n",
    "            split_param = all_param.split()\n",
    "            t_grid = \" \".join(split_param[2:])\n",
    "            print(f\"Input parameters of FullGrid: o_grid={split_param[0]}, b_grid={split_param[1]}, t_grid={t_grid}\")\n",
    "            break"
   ]
  },
  {
   "cell_type": "code",
   "execution_count": 9,
   "id": "de0635f0",
   "metadata": {
    "ExecuteTime": {
     "end_time": "2024-04-24T14:56:06.657596Z",
     "start_time": "2024-04-24T14:56:06.491406Z"
    }
   },
   "outputs": [
    {
     "data": {
      "image/png": "[encoded data removed]",
      "text/plain": [
       "<Figure size 1000x500 with 2 Axes>"
      ]
     },
     "metadata": {},
     "output_type": "display_data"
    }
   ],
   "source": [
    "sqra_tp = TransitionPlot(water_sqra_sh)\n",
    "sqra_tp.transition_obj = sqra\n",
    "sqra_tp.transition_obj.use_saved = True\n",
    "sqra_tp.simulation_histogram.use_saved = True\n",
    "fig, ax = plt.subplots(1, 2, sharex=False, sharey=False, figsize=(10, 5))\n",
    "sqra_tp.plot_its(6, as_line=True, save=False, fig=fig, ax=ax[1])\n",
    "sqra_tp.plot_eigenvalues(num_eigenv=6, save=False, fig=fig, ax=ax[0])\n",
    "# x-values are irrelevant, they are just horizontal lines\n",
    "ax[1].set_xlabel(\"\")\n",
    "ax[1].set_xticks([])\n",
    "plt.show()"
   ]
  },
  {
   "cell_type": "code",
   "execution_count": 10,
   "id": "55ca5574",
   "metadata": {
    "ExecuteTime": {
     "end_time": "2024-04-24T14:56:07.337295Z",
     "start_time": "2024-04-24T14:56:06.659045Z"
    },
    "scrolled": false
   },
   "outputs": [
    {
     "data": {
      "image/png": "[encoded data removed]",
      "text/plain": [
       "<Figure size 500x1250 with 5 Axes>"
      ]
     },
     "metadata": {},
     "output_type": "display_data"
    }
   ],
   "source": [
    "fig, ax = plt.subplots(5, sharex=True, sharey=True, figsize=(5, 12.5))\n",
    "for i in range(5):\n",
    "    sqra_tp.plot_one_eigenvector_flat(i, save=False, fig=fig, ax=ax[i])\n",
    "plt.show()"
   ]
  },
  {
   "cell_type": "code",
   "execution_count": 11,
   "id": "e49ee248",
   "metadata": {
    "ExecuteTime": {
     "end_time": "2024-04-24T14:56:38.414190Z",
     "start_time": "2024-04-24T14:56:15.114347Z"
    }
   },
   "outputs": [
    {
     "name": "stdout",
     "output_type": "stream",
     "text": [
      "In 0th eigenvector 20 most positive cells are [7919, 7300, 6339, 6560, 5492, 6358, 5132, 6631, 6239, 5305, 5791, 5620, 6630, 6608, 6115, 6607, 8310, 8287, 8288, 7795].\n",
      "[6631, 5492, 6358, 8310, 5132, 5132, 6358, 8287, 5305, 7300, 5791, 6560, 6339, 5132, 7795, 8287, 6115, 6358, 5791, 5305, 6239, 6239, 8310, 7300, 5305, 8288, 6631, 6630, 6358, 6631, 6630, 8310, 8288, 6115, 5791, 6631, 6115, 7919, 5620, 6339, 7919, 5305, 5305, 5132, 6560, 8288, 6631, 6607, 6560, 5132, 6358, 6339, 6239, 5305, 7919, 7300, 5791, 6607, 6339, 5305, 8287, 6358, 6631, 8310, 6608, 6608, 6607, 7300, 6358, 5791, 6239, 5791, 6339, 6239, 8310, 7300, 6607, 6630, 5791, 5305, 7795, 6115, 5132, 5791, 8310, 8287, 6115, 7919, 6631, 8288, 6115, 8288, 6560, 6339, 5791, 6115, 7300, 6607, 7300, 6358, 8287, 6239, 6560, 8287, 6608, 6560, 6607, 7795, 7795, 8288, 6239, 6239, 6630, 8287, 6630, 5132, 6239, 5791, 5132, 5492, 8288, 6560, 6239, 6608, 6339, 8287, 6339, 6630, 5620, 6631, 5620, 7795, 6358, 6608, 7919, 6339, 5620, 5132, 8287, 5305, 5132, 8310, 6339, 5305, 6239, 7795, 6630, 5791, 6339, 6608, 7795, 5620, 5620, 7919, 7795, 5305, 6239, 5492, 8310, 7795, 6239, 5305, 6115, 8287, 8287, 5620, 6630, 5620, 5791, 8310, 8310, 5492, 8288, 5791, 8288, 6607, 8310, 6607, 6339, 8310, 6358, 6608, 6630, 6239, 8287, 8287, 7795, 7300, 6630, 5492, 7919, 5132, 8288, 6631, 5132, 5132, 5791, 6358, 5305, 6358, 5132, 5791, 6608, 8287, 7795, 6358, 6631, 5620, 8310, 5305, 7300, 7795, 6631, 6630, 6115, 5132, 6339, 6560, 7919, 6358, 5620, 6631, 8287, 6630, 8287, 6631, 5791, 5132, 7919, 6339, 6560, 6239, 6630, 8288, 6339, 6115, 6358, 6630, 5132, 8288, 5305, 7919, 7919, 8288, 5305, 8287, 5492, 6339, 7300, 5620, 6339, 6560, 7300, 7919, 6607, 7919, 8288, 6358, 6358, 6608, 8287, 7795, 7300, 5132, 5305, 7795, 5305, 8288, 7919, 6630, 6630, 7919, 7919, 5492, 8310, 6631, 5132, 6608, 6239, 8287, 8288, 5132, 6631, 5492, 7300, 8287, 5620, 5791, 6339, 8287, 6560, 6630, 5132, 6115, 8287, 6358, 8310, 5492, 6608, 8310]\n"
     ]
    },
    {
     "data": {
      "application/vnd.jupyter.widget-view+json": {
       "model_id": "fe6a32aaf1f14cc29feb5f2c2e14835c",
       "version_major": 2,
       "version_minor": 0
      },
      "text/plain": [
       "NGLWidget()"
      ]
     },
     "metadata": {},
     "output_type": "display_data"
    }
   ],
   "source": [
    "# view eigenvector 0\n",
    "my_vm = view_most_populated_eigenv(water_sqra_sh, 0, num_extremes=20)\n",
    "my_vm.view"
   ]
  },
  {
   "cell_type": "code",
   "execution_count": 12,
   "id": "47e075f0",
   "metadata": {
    "ExecuteTime": {
     "end_time": "2024-04-24T14:57:22.578662Z",
     "start_time": "2024-04-24T14:56:59.586002Z"
    }
   },
   "outputs": [
    {
     "name": "stdout",
     "output_type": "stream",
     "text": [
      "In 1st eigenvector 20 most positive cells are [7471, 5740, 6123, 6112, 7919, 6339, 7300, 6120, 6093, 6094, 5277, 6985, 6358, 5132, 5305, 6239, 5791, 6115, 5620, 7795] and most negative [6579, 8311, 7079, 6585, 6582, 5396, 6574, 6560, 7090, 5399, 8310, 5410, 8287, 8288, 6595, 6600, 6607, 6608, 6631, 6630].\n",
      "[7795, 7300, 7471, 5740, 6094, 6093, 6239, 5740, 7300, 6123, 5791, 7471, 6115, 6339, 7795, 6358, 7300, 6115, 6115, 7795, 6358, 6339, 5277, 5132, 6093, 6560, 6574, 6585, 6595, 8310, 5399, 5410, 6600, 6607, 6608, 5399, 6630, 7079, 6600, 6631, 5399, 6630, 8288, 6595, 5399, 5399, 5396, 6582, 5396, 6600]\n"
     ]
    },
    {
     "data": {
      "application/vnd.jupyter.widget-view+json": {
       "model_id": "67c50125f5d449b2b4b1458e997c11e2",
       "version_major": 2,
       "version_minor": 0
      },
      "text/plain": [
       "NGLWidget()"
      ]
     },
     "metadata": {},
     "output_type": "display_data"
    }
   ],
   "source": [
    "# view eigenvector 1\n",
    "my_vm = view_most_pos_neg_eigenv(water_sqra_sh, 1, num_extremes=20)\n",
    "my_vm.view"
   ]
  },
  {
   "cell_type": "code",
   "execution_count": 14,
   "id": "416a4d9b",
   "metadata": {
    "ExecuteTime": {
     "end_time": "2024-04-24T14:59:12.711502Z",
     "start_time": "2024-04-24T14:58:49.882070Z"
    }
   },
   "outputs": [
    {
     "name": "stdout",
     "output_type": "stream",
     "text": [
      "In 1st eigenvector 20 most positive cells are [4950, 9967, 9968, 6595, 5277, 9990, 6607, 7795, 6630, 6631, 6094, 8288, 6608, 8311, 4928, 8287, 8310, 6600, 6115, 5132] and most negative [6676, 6575, 6675, 6586, 6573, 5479, 6579, 6574, 5825, 5492, 6636, 8240, 6560, 8265, 5798, 6645, 7172, 8262, 6582, 6585].\n",
      "[8288, 9968, 6607, 6595, 6094, 8311, 6600, 6115, 8287, 6600, 6115, 8287, 6595, 6600, 6630, 7795, 6630, 8310, 6094, 8288, 4928, 5132, 6115, 6115, 8310, 8262, 6645, 6676, 5492, 5798, 6574, 6579, 5825, 5479, 8262, 8265, 5492, 8262, 8240, 6579, 6676, 8262, 5825, 8262, 6675, 6574, 6636, 6675, 6675, 6645]\n"
     ]
    },
    {
     "data": {
      "application/vnd.jupyter.widget-view+json": {
       "model_id": "9eba65fa4f22401ca2c42178d8bbbd5e",
       "version_major": 2,
       "version_minor": 0
      },
      "text/plain": [
       "NGLWidget()"
      ]
     },
     "metadata": {},
     "output_type": "display_data"
    }
   ],
   "source": [
    "# view eigenvector 2\n",
    "my_vm = view_most_pos_neg_eigenv(water_sqra_sh, 2, num_extremes=20)\n",
    "my_vm.view"
   ]
  },
  {
   "cell_type": "code",
   "execution_count": 15,
   "id": "bed195d4",
   "metadata": {
    "ExecuteTime": {
     "end_time": "2024-04-24T15:00:26.885940Z",
     "start_time": "2024-04-24T15:00:04.407873Z"
    }
   },
   "outputs": [
    {
     "name": "stdout",
     "output_type": "stream",
     "text": [
      "In 1st eigenvector 20 most positive cells are [8288, 6200, 7402, 7172, 6239, 6189, 6993, 5722, 5313, 5620, 5244, 5740, 6985, 5492, 6630, 6608, 5305, 7471, 6607, 5791] and most negative [6585, 7774, 7800, 7792, 6582, 6957, 7803, 6120, 9475, 6812, 6123, 6112, 6111, 6560, 6094, 6093, 5277, 5132, 6115, 7795].\n",
      "[6189, 5313, 8288, 6200, 6189, 5492, 6985, 5740, 6993, 5740, 7402, 8288, 6608, 6189, 6993, 7471, 8288, 5244, 6630, 5722, 6608, 6607, 5791, 6189, 5244, 6093, 6112, 6957, 6093, 7800, 6111, 6585, 6957, 6560, 7774, 6093, 6094, 6560, 7803, 5277, 7792, 5132, 6812, 6957, 6585, 6115, 6111, 6123, 6094, 7792]\n"
     ]
    },
    {
     "data": {
      "application/vnd.jupyter.widget-view+json": {
       "model_id": "53c4266838f54374a3d160a2a1ec0ff7",
       "version_major": 2,
       "version_minor": 0
      },
      "text/plain": [
       "NGLWidget()"
      ]
     },
     "metadata": {},
     "output_type": "display_data"
    }
   ],
   "source": [
    "# view eigenvector 3\n",
    "my_vm = view_most_pos_neg_eigenv(water_sqra_sh, 3, num_extremes=20)\n",
    "my_vm.view"
   ]
  },
  {
   "cell_type": "code",
   "execution_count": 14,
   "id": "16f05803",
   "metadata": {
    "ExecuteTime": {
     "end_time": "2024-04-24T14:15:14.296598Z",
     "start_time": "2024-04-24T14:14:52.886366Z"
    }
   },
   "outputs": [
    {
     "name": "stdout",
     "output_type": "stream",
     "text": [
      "In 1st eigenvector 20 most positive cells are [4466, 3703, 4010, 3714, 4455, 3701, 4834, 4830, 4028, 3621, 4822, 4821, 4503, 4823, 4833, 4827, 4808, 3914, 3613, 4077] and most negative [5672, 6065, 4432, 4992, 3992, 4877, 5032, 3771, 3792, 4853, 4385, 4411, 4854, 4876, 3779, 3777, 5472, 3587, 3448, 5017].\n",
      "[3701, 4028, 4466, 3703, 3701, 4823, 4503, 4821, 4834, 4821, 4010, 4466, 4827, 3701, 4834, 3914, 4466, 4822, 4833, 4830, 4827, 3613, 4077, 3701, 4822, 3777, 4411, 4877, 3777, 4432, 4854, 5672, 4877, 4876, 6065, 3777, 3779, 4876, 5032, 5472, 4992, 3587, 4853, 4877, 5672, 3448, 4854, 4385, 3779, 4992]\n"
     ]
    },
    {
     "data": {
      "application/vnd.jupyter.widget-view+json": {
       "model_id": "fb1cf1059e544e6e90bd636f74ef6346",
       "version_major": 2,
       "version_minor": 0
      },
      "text/plain": [
       "NGLWidget()"
      ]
     },
     "metadata": {},
     "output_type": "display_data"
    }
   ],
   "source": [
    "my_vm = view_most_pos_neg_eigenv(water_sqra_sh, 4, num_extremes=20)\n",
    "my_vm.view"
   ]
  },
  {
   "cell_type": "code",
   "execution_count": null,
   "id": "b2838e55",
   "metadata": {
    "ExecuteTime": {
     "end_time": "2024-04-19T13:21:11.962925Z",
     "start_time": "2024-04-19T13:21:11.962917Z"
    },
    "scrolled": false
   },
   "outputs": [],
   "source": [
    "# smol example\n",
    "#sqra_name = \"H2O_H2O_0395\"\n",
    "sqra_name = \"H2O_H2O_0543\"\n",
    "sqra_use_saved = True\n",
    "water_sqra_sh = SimulationHistogram(sqra_name, \"H2O\", is_pt=True,\n",
    "                second_molecule_selection=\"bynum 4:6\", use_saved=sqra_use_saved)\n",
    "\n",
    "sqra = SQRA(water_sqra_sh, use_saved=sqra_use_saved)\n",
    "# eigenvectors \n",
    "k = 8\n",
    "sqra_eigenval, sqra_eigenvec = sqra.get_eigenval_eigenvec(num_eigenv=k)\n",
    "sqra_eigenvec = sqra_eigenvec.squeeze()\n",
    "sqra_eigenvec = sqra_eigenvec[:, :k]\n",
    "#print(sqra_eigenvec.shape)\n",
    "#plt.scatter(*sqra_eigenvec.T)\n",
    "\n",
    "# spectral clustering\n",
    "from sklearn.cluster import KMeans, SpectralClustering\n",
    "from sklearn.decomposition import PCA\n",
    "\n",
    "#clustering = KMeans(n_clusters=5)\n",
    "#clustering.fit(sqra_eigenvec)\n",
    "\n",
    "sc = SpectralClustering(n_clusters=14)\n",
    "sc.fit(sqra.get_transitions_matrix())\n",
    "\n",
    "# plot on PCA-reduced data\n",
    "\n",
    "reduced_data = PCA(n_components=2).fit_transform(sqra_eigenvec)\n",
    "kmeans = KMeans(init=\"k-means++\", n_clusters=6, n_init=10)\n",
    "kmeans.fit(reduced_data)\n",
    "\n",
    "# Step size of the mesh. Decrease to increase the quality of the VQ.\n",
    "h = 0.02  # point in the mesh [x_min, x_max]x[y_min, y_max].\n",
    "\n",
    "# Plot the decision boundary. For that, we will assign a color to each\n",
    "x_min, x_max = reduced_data[:, 0].min() - 1, reduced_data[:, 0].max() + 1\n",
    "y_min, y_max = reduced_data[:, 1].min() - 1, reduced_data[:, 1].max() + 1\n",
    "xx, yy = np.meshgrid(np.arange(x_min, x_max, h), np.arange(y_min, y_max, h))\n",
    "\n",
    "# Obtain labels for each point in mesh. Use last trained model.\n",
    "Z = kmeans.predict(np.c_[xx.ravel(), yy.ravel()])\n",
    "\n",
    "# Put the result into a color plot\n",
    "Z = Z.reshape(xx.shape)\n",
    "plt.figure(1)\n",
    "plt.clf()\n",
    "plt.imshow(\n",
    "    Z,\n",
    "    interpolation=\"nearest\",\n",
    "    extent=(xx.min(), xx.max(), yy.min(), yy.max()),\n",
    "    cmap=plt.cm.Paired,\n",
    "    aspect=\"auto\",\n",
    "    origin=\"lower\",\n",
    ")\n",
    "\n",
    "plt.plot(reduced_data[:, 0], reduced_data[:, 1], \"k.\", markersize=2)\n",
    "plt.xlim(x_min, x_max)\n",
    "plt.ylim(y_min, y_max)\n",
    "plt.xticks(())\n",
    "plt.yticks(())\n",
    "plt.show()\n"
   ]
  },
  {
   "cell_type": "markdown",
   "id": "1224b3da",
   "metadata": {},
   "source": [
    "## Geometrical properties of FullGrid"
   ]
  },
  {
   "cell_type": "code",
   "execution_count": 73,
   "id": "f0277be7",
   "metadata": {
    "ExecuteTime": {
     "end_time": "2024-04-16T12:20:19.692916Z",
     "start_time": "2024-04-16T12:20:06.572435Z"
    }
   },
   "outputs": [],
   "source": [
    "my_full_grid =  #linspace(0.2, 0.6, 20)"
   ]
  },
  {
   "cell_type": "code",
   "execution_count": 90,
   "id": "01491501",
   "metadata": {
    "ExecuteTime": {
     "end_time": "2024-04-16T13:04:36.717178Z",
     "start_time": "2024-04-16T13:04:31.967442Z"
    },
    "scrolled": false
   },
   "outputs": [
    {
     "name": "stdout",
     "output_type": "stream",
     "text": [
      "Warning! For <=4 points, volumes, areas etc are only estimated.\n",
      "Warning! For <=4 points, volumes, areas etc are only estimated.\n",
      "Warning! For <=4 points, volumes, areas etc are only estimated.\n",
      "Warning! For <=4 points, volumes, areas etc are only estimated.\n",
      "  (0, 15)\t0.7839643375528704\n",
      "  (0, 20)\t0.7839643375528705\n",
      "  (0, 26)\t0.7839643375528705\n",
      "  (0, 27)\t0.7839643375528708\n",
      "  (0, 30)\t0.7839643375528702\n",
      "  (1, 24)\t0.7839643375528713\n",
      "  (1, 29)\t0.7839643375528711\n",
      "  (1, 32)\t0.7839643375528713\n",
      "  (1, 34)\t0.7839643375528702\n",
      "  (1, 37)\t0.7839643375528697\n",
      "  (2, 25)\t0.7839643375528719\n",
      "  (2, 28)\t0.7839643375528704\n",
      "  (2, 30)\t0.7839643375528708\n",
      "  (2, 34)\t0.7839643375528704\n",
      "  (2, 39)\t0.7839643375528708\n",
      "  (3, 21)\t0.7839643375528708\n",
      "  (3, 35)\t0.7839643375528708\n",
      "  (3, 36)\t0.7839643375528719\n",
      "  (3, 38)\t0.7839643375528704\n",
      "  (3, 41)\t0.7839643375528708\n",
      "  (4, 16)\t0.7839643375528708\n",
      "  (4, 31)\t0.7839643375528705\n",
      "  (4, 33)\t0.7839643375528705\n",
      "  (4, 40)\t0.7839643375528704\n",
      "  (4, 41)\t0.7839643375528715\n",
      "  :\t:\n",
      "  (37, 29)\t0.6293343860363342\n",
      "  (38, 3)\t0.7839643375528704\n",
      "  (38, 10)\t0.7839643375528708\n",
      "  (38, 18)\t0.6293343860363334\n",
      "  (38, 36)\t0.6293343860363335\n",
      "  (38, 40)\t0.6293343860363328\n",
      "  (38, 41)\t0.6293343860363335\n",
      "  (39, 2)\t0.7839643375528708\n",
      "  (39, 9)\t0.7839643375528702\n",
      "  (39, 20)\t0.6293343860363334\n",
      "  (39, 24)\t0.629334386036334\n",
      "  (39, 30)\t0.6293343860363341\n",
      "  (39, 34)\t0.6293343860363321\n",
      "  (40, 4)\t0.7839643375528704\n",
      "  (40, 10)\t0.783964337552871\n",
      "  (40, 16)\t0.6293343860363351\n",
      "  (40, 17)\t0.6293343860363335\n",
      "  (40, 38)\t0.6293343860363328\n",
      "  (40, 41)\t0.6293343860363341\n",
      "  (41, 3)\t0.7839643375528708\n",
      "  (41, 4)\t0.7839643375528715\n",
      "  (41, 33)\t0.6293343860363334\n",
      "  (41, 35)\t0.6293343860363342\n",
      "  (41, 38)\t0.6293343860363335\n",
      "  (41, 40)\t0.6293343860363341\n",
      "In 4D, only approximate calculation of Voronoi cells is possible. Proceeding numerically.\n",
      "\n",
      "  (0, 1)\t55.695825437603\n",
      "  (1, 0)\t55.695825437603\n",
      "  (1, 2)\t67.39194877949961\n",
      "  (2, 1)\t67.39194877949961\n",
      "  (2, 3)\t80.20198863014828\n",
      "  (3, 2)\t80.20198863014828\n",
      "  (3, 4)\t94.12594498954904\n",
      "  (4, 3)\t94.12594498954904\n",
      "  (4, 5)\t109.16381785770187\n",
      "  (5, 4)\t109.16381785770187\n",
      "  (5, 6)\t125.31560723460672\n",
      "  (6, 5)\t125.31560723460672\n",
      "  (6, 7)\t142.58131312026362\n",
      "  (7, 6)\t142.58131312026362\n",
      "  (7, 8)\t160.96093551467263\n",
      "  (8, 7)\t160.96093551467263\n",
      "  (8, 9)\t180.45447441783367\n",
      "  (9, 8)\t180.45447441783367\n",
      "  (9, 10)\t201.06192982974676\n",
      "  (10, 9)\t201.06192982974676\n",
      "  (10, 11)\t222.783301750412\n",
      "  (11, 10)\t222.783301750412\n",
      "  (11, 12)\t245.61859017982908\n",
      "  (12, 11)\t245.61859017982908\n",
      "  (12, 13)\t269.56779511799846\n",
      "  (13, 12)\t269.56779511799846\n",
      "  (13, 14)\t294.63091656491986\n",
      "  (14, 13)\t294.63091656491986\n",
      "  (14, 15)\t320.8079545205932\n",
      "  (15, 14)\t320.8079545205932\n",
      "  (15, 16)\t348.0989089850187\n",
      "  (16, 15)\t348.0989089850187\n",
      "  (16, 17)\t376.50377995819605\n",
      "  (17, 16)\t376.50377995819605\n",
      "  (17, 18)\t406.0225674401257\n",
      "  (18, 17)\t406.0225674401257\n",
      "  (18, 19)\t436.6552714308075\n",
      "  (19, 18)\t436.6552714308075\n"
     ]
    },
    {
     "data": {
      "image/png": "[encoded data removed]",
      "text/plain": [
       "<Figure size 1500x1500 with 9 Axes>"
      ]
     },
     "metadata": {},
     "output_type": "display_data"
    }
   ],
   "source": [
    "available_fgs = [FullGrid(o_grid_name=\"42\", b_grid_name=\"1\", t_grid_name=\"[0.1]\"),\n",
    "                FullGrid(o_grid_name=\"1\", b_grid_name=\"40\", t_grid_name=\"[0.1]\"),\n",
    "                FullGrid(o_grid_name=\"1\", b_grid_name=\"1\", t_grid_name=\"linspace(0.2, 0.6, 20)\")]\n",
    "\n",
    "fig, ax = plt.subplots(len(available_fgs), 3, figsize=(15, len(available_fgs)*5))\n",
    "for i, my_full_grid in enumerate(available_fgs):\n",
    "    all_volumes = my_full_grid.get_total_volumes()\n",
    "    sns.histplot(all_volumes, ax=ax[i][0])\n",
    "    all_borders = my_full_grid.get_full_borders()\n",
    "    print(my_full_grid.position_grid.get_borders_of_position_grid())\n",
    "    sns.histplot(all_borders.data, ax=ax[i][1])\n",
    "    all_dist = my_full_grid.get_full_distances()\n",
    "    sns.histplot(all_dist.data, ax=ax[i][2])\n",
    "    ax[0][0].set_title(\"Volumes\")\n",
    "    ax[0][1].set_title(\"Border areas\")\n",
    "    ax[0][2].set_title(\"Center distances\")\n",
    "plt.show()"
   ]
  },
  {
   "cell_type": "markdown",
   "id": "bac689bf",
   "metadata": {},
   "source": [
    "## Timing\n",
    "\n",
    "\n",
    "SQRA\n",
    "generating a pseudotrajectory based on two water molecules and FullGrid(o_grid=\"42\", b_grid=\"40\", t_grid=\"linspace(0.2, 0.6, 20)\") as well as calculating all volumes, areas, distances: cca 1min\n",
    "\n",
    "\n",
    "MSM\n",
    "assigning to FullGrid(o_grid=\"42\", b_grid=\"40\", t_grid=\"linspace(0.2, 0.6, 20)\") + getting eigenvectors for a 50000000-step trajectory (check ausschreibefrequenz)  cca 2hours 30min"
   ]
  }
 ],
 "metadata": {
  "kernelspec": {
   "display_name": "Python 3 (ipykernel)",
   "language": "python",
   "name": "python3"
  },
  "language_info": {
   "codemirror_mode": {
    "name": "ipython",
    "version": 3
   },
   "file_extension": ".py",
   "mimetype": "text/x-python",
   "name": "python",
   "nbconvert_exporter": "python",
   "pygments_lexer": "ipython3",
   "version": "3.11.5"
  },
  "toc": {
   "base_numbering": 1,
   "nav_menu": {},
   "number_sections": true,
   "sideBar": false,
   "skip_h1_title": true,
   "title_cell": "Table of Contents",
   "title_sidebar": "Contents",
   "toc_cell": true,
   "toc_position": {},
   "toc_section_display": true,
   "toc_window_display": true
  }
 },
 "nbformat": 4,
 "nbformat_minor": 5
}
