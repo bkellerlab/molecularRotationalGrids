{
 "cells": [
  {
   "cell_type": "markdown",
   "id": "f0c03d85",
   "metadata": {
    "toc": true
   },
   "source": [
    "<h1>Table of Contents<span class=\"tocSkip\"></span></h1>\n",
    "<div class=\"toc\"><ul class=\"toc-item\"><li><span><a href=\"#Position-space\" data-toc-modified-id=\"Position-space-1\"><span class=\"toc-item-num\">1&nbsp;&nbsp;</span>Position space</a></span><ul class=\"toc-item\"><li><span><a href=\"#Translation-of-COM-instead-of-rotation-around-origin\" data-toc-modified-id=\"Translation-of-COM-instead-of-rotation-around-origin-1.1\"><span class=\"toc-item-num\">1.1&nbsp;&nbsp;</span>Translation of COM instead of rotation around origin</a></span></li><li><span><a href=\"#Determine-position-index\" data-toc-modified-id=\"Determine-position-index-1.2\"><span class=\"toc-item-num\">1.2&nbsp;&nbsp;</span>Determine position index</a></span></li></ul></li><li><span><a href=\"#Determine-internal-coordinate-system-(principal-axes)\" data-toc-modified-id=\"Determine-internal-coordinate-system-(principal-axes)-2\"><span class=\"toc-item-num\">2&nbsp;&nbsp;</span>Determine internal coordinate system (principal axes)</a></span></li><li><span><a href=\"#Full-conversion-3N-coordinates-<->-7D-gridpoint\" data-toc-modified-id=\"Full-conversion-3N-coordinates-<->-7D-gridpoint-3\"><span class=\"toc-item-num\">3&nbsp;&nbsp;</span>Full conversion 3N coordinates &lt;-&gt; 7D gridpoint</a></span></li></ul></div>"
   ]
  },
  {
   "cell_type": "code",
   "execution_count": 1,
   "id": "9d07d464",
   "metadata": {
    "ExecuteTime": {
     "end_time": "2024-02-06T17:46:43.278513Z",
     "start_time": "2024-02-06T17:46:43.262891Z"
    }
   },
   "outputs": [],
   "source": [
    "import sys\n",
    "import os\n",
    "\n",
    "try:\n",
    "    os.chdir(r\"/home/hanaz63/PAPER_MOLECULAR_ROTATIONS_2022/nobackup/molgri\")\n",
    "    sys.path.append(r\"/home/hanaz63/PAPER_MOLECULAR_ROTATIONS_2022/nobackup\")\n",
    "except FileNotFoundError:\n",
    "    os.chdir(r\"D:\\HANA\\phD\\PAPER_2022\\molecularRotationalGrids\")\n",
    "    sys.path.append(r\"D:\\HANA\\phD\\PAPER_2022\\molecularRotationalGrids\")\n",
    "    \n",
    "import warnings\n",
    "warnings.filterwarnings(\"ignore\")"
   ]
  },
  {
   "cell_type": "code",
   "execution_count": 14,
   "id": "3a8bfc4d",
   "metadata": {
    "ExecuteTime": {
     "end_time": "2024-02-06T18:21:12.703612Z",
     "start_time": "2024-02-06T18:21:12.692610Z"
    }
   },
   "outputs": [],
   "source": [
    "import numpy as np\n",
    "from numpy.typing import NDArray\n",
    "import MDAnalysis as mda\n",
    "from scipy.spatial.distance import cdist\n",
    "from MDAnalysis.analysis.base import AnalysisFromFunction\n",
    "\n",
    "from molgri.plotting.widgets import ViewManager\n",
    "from molgri.paths import PATH_OUTPUT_PT\n",
    "from molgri.space.fullgrid import FullGrid"
   ]
  },
  {
   "cell_type": "markdown",
   "id": "c239f07b",
   "metadata": {},
   "source": [
    "## Position space\n"
   ]
  },
  {
   "cell_type": "markdown",
   "id": "d43569cd",
   "metadata": {},
   "source": [
    "\n",
    "### Translation of COM instead of rotation around origin"
   ]
  },
  {
   "cell_type": "code",
   "execution_count": 3,
   "id": "21683817",
   "metadata": {
    "ExecuteTime": {
     "end_time": "2024-02-06T17:46:45.414166Z",
     "start_time": "2024-02-06T17:46:44.440642Z"
    }
   },
   "outputs": [
    {
     "name": "stdout",
     "output_type": "stream",
     "text": [
      "[0, 8, 16, 24, 32, 40, 48, 56, 64, 72, 80, 88, 96, 104, 112, 120, 128, 136, 144, 152, 160, 168, 176, 184, 192, 200, 208, 216, 224, 232, 240, 248, 256, 264, 272, 280, 288, 296, 304, 312, 320, 328, 336, 344, 352, 360, 368, 376, 384, 392, 400, 408, 416, 424, 432, 440, 448, 456, 464, 472]\n"
     ]
    },
    {
     "data": {
      "application/vnd.jupyter.widget-view+json": {
       "model_id": "afaeda91e9e84c56a543d1c2ce085a51",
       "version_major": 2,
       "version_minor": 0
      },
      "text/plain": [
       "NGLWidget()"
      ]
     },
     "metadata": {},
     "output_type": "display_data"
    }
   ],
   "source": [
    "# generated a file with\n",
    "# python -m molgri.scripts.generate_pt -m1 H2O -m2 H2O -o \"12\" -b \"8\" -t \"linspace(0.2, 1, 5)\" --recal\n",
    "\n",
    "pt_name = \"H2O_H2O_0482\"\n",
    "pt_universe = mda.Universe(f\"{PATH_OUTPUT_PT}{pt_name}.gro\",\n",
    "                           f\"{PATH_OUTPUT_PT}{pt_name}.xtc\")\n",
    "len_pt = len(pt_universe.trajectory)\n",
    "\n",
    "vm = ViewManager(pt_universe)\n",
    "# plot every 8th frame\n",
    "# because we have 8 orientations, every 8th structure should be translated version of each other\n",
    "every_eighth_0 = np.arange(0, len_pt, 8)\n",
    "print(list(every_eighth_0))\n",
    "vm.plot_frames_overlapping(every_eighth_0[20:30])"
   ]
  },
  {
   "cell_type": "code",
   "execution_count": 4,
   "id": "a1cbc4e6",
   "metadata": {
    "ExecuteTime": {
     "end_time": "2024-02-06T17:46:46.388034Z",
     "start_time": "2024-02-06T17:46:45.414166Z"
    }
   },
   "outputs": [
    {
     "name": "stdout",
     "output_type": "stream",
     "text": [
      "[3, 11, 19, 27, 35, 43, 51, 59, 67, 75, 83, 91, 99, 107, 115, 123, 131, 139, 147, 155, 163, 171, 179, 187, 195, 203, 211, 219, 227, 235, 243, 251, 259, 267, 275, 283, 291, 299, 307, 315, 323, 331, 339, 347, 355, 363, 371, 379, 387, 395, 403, 411, 419, 427, 435, 443, 451, 459, 467, 475]\n"
     ]
    },
    {
     "data": {
      "application/vnd.jupyter.widget-view+json": {
       "model_id": "314308f250f84722bf7cd4001a7c7485",
       "version_major": 2,
       "version_minor": 0
      },
      "text/plain": [
       "NGLWidget()"
      ]
     },
     "metadata": {},
     "output_type": "display_data"
    }
   ],
   "source": [
    "vm.fresh_view()\n",
    "every_eighth_3 = np.arange(3, len_pt, 8)\n",
    "print(list(every_eighth_3))\n",
    "vm.plot_frames_overlapping(every_eighth_3[20:30])"
   ]
  },
  {
   "cell_type": "markdown",
   "id": "c6be872d",
   "metadata": {},
   "source": [
    "### Determine position index"
   ]
  },
  {
   "cell_type": "code",
   "execution_count": 21,
   "id": "b0e94414",
   "metadata": {
    "ExecuteTime": {
     "end_time": "2024-02-06T18:25:22.046036Z",
     "start_time": "2024-02-06T18:25:21.794923Z"
    }
   },
   "outputs": [
    {
     "name": "stdout",
     "output_type": "stream",
     "text": [
      "[0 0 0 0 0 0 0 0 0 0 0 0 0 0 0 0 0 0 0 0 0 0 0 0 0 0 0 0 0 0 0 0 0 0 0 0 0\n",
      " 0 0 0 0 0 0 0 0 0 0 0 0 0 0 0 0 0 0 0 0 0 0 0 0 0 0 0 0 0 0 0 0 0 0 0 0 0\n",
      " 0 0 0 0 0 0 0 0 0 0 0 0 0 0 0 0 0 0 0 0 0 0 1 1 1 1 1 1 1 1 1 1 1 1 1 1 1\n",
      " 1 1 1 1 1 1 1 1 1 1 1 1 1 1 1 1 1 1 1 1 1 1 1 1 1 1 1 1 1 1 1 1 1 1 1 1 1\n",
      " 1 1 1 1 1 1 1 1 1 1 1 1 1 1 1 1 1 1 1 1 1 1 1 1 1 1 1 1 1 1 1 1 1 1 1 1 1\n",
      " 1 1 1 1 1 1 1 2 2 2 2 2 2 2 2 2 2 2 2 2 2 2 2 2 2 2 2 2 2 2 2 2 2 2 2 2 2\n",
      " 2 2 2 2 2 2 2 2 2 2 2 2 2 2 2 2 2 2 2 2 2 2 2 2 2 2 2 2 2 2 2 2 2 2 2 2 2\n",
      " 2 2 2 2 2 2 2 2 2 2 2 2 2 2 2 2 2 2 2 2 2 2 2 2 2 2 2 2 2 3 3 3 3 3 3 3 3\n",
      " 3 3 3 3 3 3 3 3 3 3 3 3 3 3 3 3 3 3 3 3 3 3 3 3 3 3 3 3 3 3 3 3 3 3 3 3 3\n",
      " 3 3 3 3 3 3 3 3 3 3 3 3 3 3 3 3 3 3 3 3 3 3 3 3 3 3 3 3 3 3 3 3 3 3 3 3 3\n",
      " 3 3 3 3 3 3 3 3 3 3 3 3 3 3 4 4 4 4 4 4 4 4 4 4 4 4 4 4 4 4 4 4 4 4 4 4 4\n",
      " 4 4 4 4 4 4 4 4 4 4 4 4 4 4 4 4 4 4 4 4 4 4 4 4 4 4 4 4 4 4 4 4 4 4 4 4 4\n",
      " 4 4 4 4 4 4 4 4 4 4 4 4 4 4 4 4 4 4 4 4 4 4 4 4 4 4 4 4 4 4 4 4 4 4 4 4]\n"
     ]
    }
   ],
   "source": [
    "def _assing_2_closest_point(points_trajectory, points_grid, metric):\n",
    "    pass\n",
    "\n",
    "def assign_2_position_grid(my_trajectory: mda.Universe, position_grid_points: NDArray, second_molecule: str) -> NDArray:\n",
    "    \"\"\"\n",
    "    Assign every frame of the trajectory (or PT) to the best fitting point of position grid\n",
    "\n",
    "    Returns:\n",
    "        an array of position grid indices\n",
    "    \"\"\"\n",
    "    # step 1: determine the radial layer index from norm of the COM\n",
    "    norm_coms = AnalysisFromFunction(lambda ag: np.linalg.norm(ag.center_of_mass()),\n",
    "                         my_trajectory.trajectory,\n",
    "                         my_trajectory.select_atoms(second_molecule))\n",
    "    norm_coms.run()\n",
    "    norms_along_trajectory = norm_coms.results['timeseries']\n",
    "    # find available grid radii\n",
    "    coms_available = np.linalg.norm(position_grid_points, axis=1)\n",
    "    grid_radii = np.unique(coms_available)\n",
    "    # find closest available grid radius\n",
    "    t_selection = AnalysisFromFunction(lambda ag: np.argmin(np.abs(grid_radii-np.linalg.norm(ag.center_of_mass())), axis=0),\n",
    "                                     my_trajectory.trajectory,\n",
    "                                     my_trajectory.select_atoms(second_molecule))\n",
    "    t_selection.run()\n",
    "    t_indices = t_selection.results['timeseries'].flatten()\n",
    "    # step 2: now using a normalized com and a metric on a sphere, determine which of self.o_grid is closest\n",
    "    o_grid_points = self.full_grid.position_grid.get_o_grid().get_grid_as_array()\n",
    "    o_selection = AnalysisFromFunction(lambda ag: np.argmin(cdist(o_grid_points, normalise_vectors(\n",
    "        ag.center_of_mass())[np.newaxis, :], metric=\"cos\"), axis=0),\n",
    "                                     self.trajectory_universe.trajectory,\n",
    "                                     self.trajectory_universe.select_atoms(self.second_molecule_selection))\n",
    "    o_selection.run()\n",
    "    o_indices = o_selection.results['timeseries'].flatten()\n",
    "\n",
    "    # step 3: sum up the layer index and o index correctly\n",
    "    n_orientations = len(position_grid_points) // len(grid_radii)\n",
    "    return np.array(layer_indices * n_orientations + o_indices, dtype=int)\n",
    "    \n",
    "\n",
    "my_full_grid = FullGrid(b_grid_name=\"8\", o_grid_name=\"12\", t_grid_name=\"linspace(0.2, 1, 5)\")\n",
    "my_position_grid = my_full_grid.get_position_grid_as_array()\n",
    "\n",
    "assign_2_position_grid(pt_universe, my_position_grid, second_molecule)"
   ]
  },
  {
   "cell_type": "code",
   "execution_count": null,
   "id": "e2fc7457",
   "metadata": {},
   "outputs": [],
   "source": [
    "    # Return the indices of the bins to which each value in input array belongs.\n",
    "    # If larger than the last bin, last bin index will still be given\n",
    "    norms_along_trajectory[norms_along_trajectory > vor_radii[-1]] = vor_radii[-1]\n",
    "    layer_indices = np.digitize(norms_along_trajectory, vor_radii, right=True)\n",
    "\n",
    "    "
   ]
  },
  {
   "cell_type": "markdown",
   "id": "99b81cbf",
   "metadata": {},
   "source": [
    "## Determine internal coordinate system (principal axes)"
   ]
  },
  {
   "cell_type": "code",
   "execution_count": 6,
   "id": "97f8c8ca",
   "metadata": {
    "ExecuteTime": {
     "end_time": "2024-02-06T17:47:08.913706Z",
     "start_time": "2024-02-06T17:47:08.850776Z"
    }
   },
   "outputs": [
    {
     "name": "stdout",
     "output_type": "stream",
     "text": [
      "[[ 0.     1.     0.   ]\n",
      " [-0.599  0.    -0.8  ]\n",
      " [-0.8    0.     0.599]]\n",
      "[-1.70130157  1.          1.05146214]\n"
     ]
    },
    {
     "data": {
      "application/vnd.jupyter.widget-view+json": {
       "model_id": "fb29f92d44f44c6e9565df240411c470",
       "version_major": 2,
       "version_minor": 0
      },
      "text/plain": [
       "NGLWidget()"
      ]
     },
     "metadata": {},
     "output_type": "display_data"
    }
   ],
   "source": [
    "# determine principal axes\n",
    "\n",
    "# consider only the moving molecule\n",
    "second_molecule = \"bynum 4:6\"\n",
    "\n",
    "# principal axes of the first frame\n",
    "pa_zero = pt_universe.select_atoms(second_molecule).principal_axes()\n",
    "com_zero = pt_universe.select_atoms(second_molecule).center_of_mass()\n",
    "print(np.round(pa_zero, 3))\n",
    "print(com_zero+pa_zero[0])\n",
    "\n",
    "# display principal axes of first frame\n",
    "vm.fresh_view()\n",
    "vm.plot_ith_frame(0)\n",
    "vm.add_principal_axes(com_zero, pa_zero)\n",
    "vm.view\n",
    "\n"
   ]
  },
  {
   "cell_type": "code",
   "execution_count": 8,
   "id": "6b778e1c",
   "metadata": {
    "ExecuteTime": {
     "end_time": "2024-02-06T17:52:23.641719Z",
     "start_time": "2024-02-06T17:52:23.249251Z"
    }
   },
   "outputs": [
    {
     "name": "stdout",
     "output_type": "stream",
     "text": [
      "[[ 0.     0.     1.   ]\n",
      " [ 0.8   -0.599  0.   ]\n",
      " [ 0.599  0.8    0.   ]]\n",
      "[[ 0.     0.     1.   ]\n",
      " [ 0.8    0.599  0.   ]\n",
      " [-0.599  0.8    0.   ]]\n",
      "[[ 0.     0.     1.   ]\n",
      " [ 0.8   -0.599  0.   ]\n",
      " [ 0.599  0.8    0.   ]]\n"
     ]
    },
    {
     "data": {
      "application/vnd.jupyter.widget-view+json": {
       "model_id": "40677a8e0e0e4c12b8ba496f8f0564aa",
       "version_major": 2,
       "version_minor": 0
      },
      "text/plain": [
       "NGLWidget()"
      ]
     },
     "metadata": {},
     "output_type": "display_data"
    }
   ],
   "source": [
    "vm.fresh_view()\n",
    "\n",
    "# principal axes change in relation to the stationary coordinate system when the molecule is re-oriented\n",
    "# but they remain the same in relation to the molecule itself\n",
    "\n",
    "# using some selected PT frames for demonstration\n",
    "for i in [20, 63, 284]:\n",
    "    pt_universe.trajectory[i]\n",
    "    pa_current = pt_universe.select_atoms(second_molecule).principal_axes()\n",
    "    com_current = pt_universe.select_atoms(second_molecule).center_of_mass()\n",
    "    print(np.round(pa_current, 3))\n",
    "\n",
    "    # display this\n",
    "    vm.plot_ith_frame(i)\n",
    "    vm.add_principal_axes(com_current, pa_current)\n",
    "vm.view"
   ]
  },
  {
   "cell_type": "markdown",
   "id": "497bf961",
   "metadata": {},
   "source": [
    "## Full conversion 3N coordinates <-> 7D gridpoint"
   ]
  },
  {
   "cell_type": "code",
   "execution_count": null,
   "id": "ef2949ca",
   "metadata": {},
   "outputs": [],
   "source": [
    "# -> direction: INPUT start coordinates (3N), 7D gridpoint; OUTPUT end coordinates (3N)\n",
    "# <- direction: INPUT end coordinates (3N), start coordinates (3N); OUTPUT 7D gridpoint"
   ]
  }
 ],
 "metadata": {
  "kernelspec": {
   "display_name": "Python 3 (ipykernel)",
   "language": "python",
   "name": "python3"
  },
  "language_info": {
   "codemirror_mode": {
    "name": "ipython",
    "version": 3
   },
   "file_extension": ".py",
   "mimetype": "text/x-python",
   "name": "python",
   "nbconvert_exporter": "python",
   "pygments_lexer": "ipython3",
   "version": "3.9.13"
  },
  "toc": {
   "base_numbering": 1,
   "nav_menu": {},
   "number_sections": true,
   "sideBar": true,
   "skip_h1_title": true,
   "title_cell": "Table of Contents",
   "title_sidebar": "Contents",
   "toc_cell": true,
   "toc_position": {},
   "toc_section_display": true,
   "toc_window_display": false
  }
 },
 "nbformat": 4,
 "nbformat_minor": 5
}
