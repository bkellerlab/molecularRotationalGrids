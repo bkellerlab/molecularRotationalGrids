{
 "cells": [
  {
   "cell_type": "markdown",
   "id": "b7409532",
   "metadata": {
    "toc": true
   },
   "source": [
    "<h1>Table of Contents<span class=\"tocSkip\"></span></h1>\n",
    "<div class=\"toc\"><ul class=\"toc-item\"><li><span><a href=\"#Position-space\" data-toc-modified-id=\"Position-space-1\"><span class=\"toc-item-num\">1&nbsp;&nbsp;</span>Position space</a></span><ul class=\"toc-item\"><li><span><a href=\"#Translation-of-COM-instead-of-rotation-around-origin\" data-toc-modified-id=\"Translation-of-COM-instead-of-rotation-around-origin-1.1\"><span class=\"toc-item-num\">1.1&nbsp;&nbsp;</span>Translation of COM instead of rotation around origin</a></span></li><li><span><a href=\"#Determine-position-index\" data-toc-modified-id=\"Determine-position-index-1.2\"><span class=\"toc-item-num\">1.2&nbsp;&nbsp;</span>Determine position index</a></span></li></ul></li><li><span><a href=\"#Orientation-space\" data-toc-modified-id=\"Orientation-space-2\"><span class=\"toc-item-num\">2&nbsp;&nbsp;</span>Orientation space</a></span><ul class=\"toc-item\"><li><span><a href=\"#Determine-internal-coordinate-system-(principal-axes)\" data-toc-modified-id=\"Determine-internal-coordinate-system-(principal-axes)-2.1\"><span class=\"toc-item-num\">2.1&nbsp;&nbsp;</span>Determine internal coordinate system (principal axes)</a></span></li><li><span><a href=\"#Realize-that-determining-principal-axes-isn't-sufficient\" data-toc-modified-id=\"Realize-that-determining-principal-axes-isn't-sufficient-2.2\"><span class=\"toc-item-num\">2.2&nbsp;&nbsp;</span>Realize that determining principal axes isn't sufficient</a></span></li><li><span><a href=\"#Quaternion-index\" data-toc-modified-id=\"Quaternion-index-2.3\"><span class=\"toc-item-num\">2.3&nbsp;&nbsp;</span>Quaternion index</a></span></li></ul></li><li><span><a href=\"#Full-conversion-3N-coordinates-<->-7D-gridpoint\" data-toc-modified-id=\"Full-conversion-3N-coordinates-<->-7D-gridpoint-3\"><span class=\"toc-item-num\">3&nbsp;&nbsp;</span>Full conversion 3N coordinates &lt;-&gt; 7D gridpoint</a></span></li></ul></div>"
   ]
  },
  {
   "cell_type": "code",
   "execution_count": 1,
   "id": "2145f65b",
   "metadata": {
    "ExecuteTime": {
     "end_time": "2024-02-09T10:02:52.098417Z",
     "start_time": "2024-02-09T10:02:52.066856Z"
    }
   },
   "outputs": [],
   "source": [
    "import sys\n",
    "import os\n",
    "\n",
    "try:\n",
    "    os.chdir(r\"/home/hanaz63/PAPER_MOLECULAR_ROTATIONS_2022/nobackup/molgri\")\n",
    "    sys.path.append(r\"/home/hanaz63/PAPER_MOLECULAR_ROTATIONS_2022/nobackup\")\n",
    "except FileNotFoundError:\n",
    "    os.chdir(r\"D:\\HANA\\phD\\PAPER_2022\\molecularRotationalGrids\")\n",
    "    sys.path.append(r\"D:\\HANA\\phD\\PAPER_2022\\molecularRotationalGrids\")\n",
    "    \n",
    "import warnings\n",
    "warnings.filterwarnings(\"ignore\")"
   ]
  },
  {
   "cell_type": "code",
   "execution_count": 2,
   "id": "1dc1506e",
   "metadata": {
    "ExecuteTime": {
     "end_time": "2024-02-09T10:03:01.716374Z",
     "start_time": "2024-02-09T10:02:55.298815Z"
    }
   },
   "outputs": [
    {
     "data": {
      "application/vnd.jupyter.widget-view+json": {
       "model_id": "f901d710e91749d4ae30a85ddc222bc6",
       "version_major": 2,
       "version_minor": 0
      },
      "text/plain": []
     },
     "metadata": {},
     "output_type": "display_data"
    }
   ],
   "source": [
    "import numpy as np\n",
    "from numpy.typing import NDArray\n",
    "import MDAnalysis as mda\n",
    "from scipy.spatial.distance import cdist\n",
    "from MDAnalysis.analysis.base import AnalysisFromFunction\n",
    "import seaborn as sns\n",
    "\n",
    "from molgri.plotting.widgets import ViewManager\n",
    "from molgri.paths import PATH_OUTPUT_PT, PATH_INPUT_BASEGRO\n",
    "from molgri.space.fullgrid import FullGrid\n",
    "from molgri.space.utils import normalise_vectors, k_argmax_in_array, distance_between_quaternions, q_in_upper_sphere\n",
    "\n",
    "sns.set_context(\"notebook\")"
   ]
  },
  {
   "cell_type": "markdown",
   "id": "1c1fb98a",
   "metadata": {},
   "source": [
    "## Position space\n"
   ]
  },
  {
   "cell_type": "markdown",
   "id": "f82eaadf",
   "metadata": {},
   "source": [
    "\n",
    "### Translation of COM instead of rotation around origin"
   ]
  },
  {
   "cell_type": "code",
   "execution_count": 4,
   "id": "cce52429",
   "metadata": {
    "ExecuteTime": {
     "end_time": "2024-02-09T10:03:20.872370Z",
     "start_time": "2024-02-09T10:03:19.805359Z"
    }
   },
   "outputs": [
    {
     "name": "stdout",
     "output_type": "stream",
     "text": [
      "[0, 8, 16, 24, 32, 40, 48, 56, 64, 72, 80, 88, 96, 104, 112, 120, 128, 136, 144, 152, 160, 168, 176, 184, 192, 200, 208, 216, 224, 232, 240, 248, 256, 264, 272, 280, 288, 296, 304, 312, 320, 328, 336, 344, 352, 360, 368, 376, 384, 392, 400, 408, 416, 424, 432, 440, 448, 456, 464, 472]\n"
     ]
    },
    {
     "data": {
      "application/vnd.jupyter.widget-view+json": {
       "model_id": "aa36e286c72b498f8113ff5a21dc4256",
       "version_major": 2,
       "version_minor": 0
      },
      "text/plain": [
       "NGLWidget()"
      ]
     },
     "metadata": {},
     "output_type": "display_data"
    }
   ],
   "source": [
    "# generated a file with\n",
    "# python -m molgri.scripts.generate_pt -m1 H2O -m2 H2O -o \"12\" -b \"8\" -t \"linspace(0.2, 1, 5)\" --recal\n",
    "pt_name = \"H2O_H2O_0528\"\n",
    "pt_universe = mda.Universe(f\"{PATH_OUTPUT_PT}{pt_name}.gro\",\n",
    "                           f\"{PATH_OUTPUT_PT}{pt_name}.trr\")\n",
    "len_pt = len(pt_universe.trajectory)\n",
    "\n",
    "vm = ViewManager(pt_universe)\n",
    "# plot every 8th frame\n",
    "# because we have 8 orientations, every 8th structure should be translated version of each other\n",
    "every_eighth_0 = np.arange(0, len_pt, 8)\n",
    "print(list(every_eighth_0))\n",
    "vm.plot_frames_overlapping(every_eighth_0[20:30])"
   ]
  },
  {
   "cell_type": "code",
   "execution_count": 5,
   "id": "682a0a16",
   "metadata": {
    "ExecuteTime": {
     "end_time": "2024-02-09T10:03:33.524397Z",
     "start_time": "2024-02-09T10:03:32.300771Z"
    }
   },
   "outputs": [
    {
     "name": "stdout",
     "output_type": "stream",
     "text": [
      "[3, 11, 19, 27, 35, 43, 51, 59, 67, 75, 83, 91, 99, 107, 115, 123, 131, 139, 147, 155, 163, 171, 179, 187, 195, 203, 211, 219, 227, 235, 243, 251, 259, 267, 275, 283, 291, 299, 307, 315, 323, 331, 339, 347, 355, 363, 371, 379, 387, 395, 403, 411, 419, 427, 435, 443, 451, 459, 467, 475]\n"
     ]
    },
    {
     "data": {
      "application/vnd.jupyter.widget-view+json": {
       "model_id": "5759d6b70ff74e3cbdd1482c8aa36688",
       "version_major": 2,
       "version_minor": 0
      },
      "text/plain": [
       "NGLWidget()"
      ]
     },
     "metadata": {},
     "output_type": "display_data"
    }
   ],
   "source": [
    "vm.fresh_view()\n",
    "every_eighth_3 = np.arange(3, len_pt, 8)\n",
    "# similar thing for another class of identical orientations\n",
    "print(list(every_eighth_3))\n",
    "vm.plot_frames_overlapping(every_eighth_3[20:30])"
   ]
  },
  {
   "cell_type": "markdown",
   "id": "6adcce27",
   "metadata": {},
   "source": [
    "### Determine position index"
   ]
  },
  {
   "cell_type": "code",
   "execution_count": 6,
   "id": "12315a5b",
   "metadata": {
    "ExecuteTime": {
     "end_time": "2024-02-09T10:03:43.203990Z",
     "start_time": "2024-02-09T10:03:43.172348Z"
    }
   },
   "outputs": [],
   "source": [
    "# separately determine index in the radial direction and on the sphere, then combine\n",
    "\n",
    "def assign_2_t_grid(my_trajectory: mda.Universe, t_grid_points: NDArray,\n",
    "                         second_molecule: str) -> NDArray:\n",
    "    \"\"\"\n",
    "    Given a trajectoryand an array of available radial (t-grid) points, assign each frame of the trajectory\n",
    "    to the closest radial point.\n",
    "    \n",
    "    Args:\n",
    "        my_trajectory: a Universe of two molecules\n",
    "        radial_grid_points: a sorted array of available radial grid distances in A like [2, 4, 6]\n",
    "        second_molecule: a string that tdefines which part of the Universe is a moving molecule\n",
    "    \n",
    "    Returns:\n",
    "        an integer array as long as the trajectory, each element an index of the closest point of the radial grid\n",
    "        like [0, 0, 0, 1, 1, 1, 2 ...] (for a PT with 3 orientations)\n",
    "    \"\"\"\n",
    "    t_selection = AnalysisFromFunction(lambda ag: np.argmin(np.abs(t_grid_points-np.linalg.norm(ag.center_of_mass())), axis=0),\n",
    "                                     my_trajectory.trajectory,\n",
    "                                     my_trajectory.select_atoms(second_molecule))\n",
    "    t_selection.run()\n",
    "    t_indices = t_selection.results['timeseries'].flatten()\n",
    "    return t_indices\n",
    "\n",
    "def assign_2_o_grid(my_trajectory: mda.Universe, o_grid_points: NDArray, \n",
    "                           second_molecule: str) -> NDArray:\n",
    "    \"\"\"\n",
    "    Assign every frame of the trajectory (or PT) to the best fitting point of position grid\n",
    "\n",
    "    Returns:\n",
    "        an array of position grid indices\n",
    "    \"\"\"\n",
    "    # now using a normalized com and a metric on a sphere, determine which of o_grid_points is closest\n",
    "    o_selection = AnalysisFromFunction(lambda ag: np.argmin(cdist(o_grid_points, normalise_vectors(\n",
    "        ag.center_of_mass())[np.newaxis, :], metric=\"cos\"), axis=0),\n",
    "                                     my_trajectory.trajectory,\n",
    "                                     my_trajectory.select_atoms(second_molecule))\n",
    "    o_selection.run()\n",
    "    o_indices = o_selection.results['timeseries'].flatten()\n",
    "    return o_indices\n",
    "\n",
    "def assign_2_position_grid(my_trajectory: mda.Universe, o_grid_points: NDArray, t_grid_points: NDArray,\n",
    "                         second_molecule: str):\n",
    "    \"\"\"\n",
    "    Combine assigning to t_grid and o_grid.\n",
    "    \"\"\"\n",
    "    t_assignments = assign_2_t_grid(my_trajectory=my_trajectory, t_grid_points=t_grid_points, \n",
    "                                    second_molecule=second_molecule)\n",
    "    o_assignments = assign_2_o_grid(my_trajectory=my_trajectory, o_grid_points=o_grid_points,\n",
    "                                   second_molecule=second_molecule)\n",
    "    # sum up the layer index and o index correctly\n",
    "    return np.array(t_assignments * len(o_grid_points) + o_assignments, dtype=int)\n"
   ]
  },
  {
   "cell_type": "code",
   "execution_count": 7,
   "id": "0cf96704",
   "metadata": {
    "ExecuteTime": {
     "end_time": "2024-02-09T10:03:45.982768Z",
     "start_time": "2024-02-09T10:03:45.653367Z"
    }
   },
   "outputs": [
    {
     "name": "stdout",
     "output_type": "stream",
     "text": [
      "[ 0  0  0  0  0  0  0  0  1  1  1  1  1  1  1  1  2  2  2  2  2  2  2  2\n",
      "  3  3  3  3  3  3  3  3  4  4  4  4  4  4  4  4  5  5  5  5  5  5  5  5\n",
      "  6  6  6  6  6  6  6  6  7  7  7  7  7  7  7  7  8  8  8  8  8  8  8  8\n",
      "  9  9  9  9  9  9  9  9 10 10 10 10 10 10 10 10 11 11 11 11 11 11 11 11\n",
      " 12 12 12 12 12 12 12 12 13 13 13 13 13 13 13 13 14 14 14 14 14 14 14 14\n",
      " 15 15 15 15 15 15 15 15 16 16 16 16 16 16 16 16 17 17 17 17 17 17 17 17\n",
      " 18 18 18 18 18 18 18 18 19 19 19 19 19 19 19 19 20 20 20 20 20 20 20 20\n",
      " 21 21 21 21 21 21 21 21 22 22 22 22 22 22 22 22 23 23 23 23 23 23 23 23\n",
      " 24 24 24 24 24 24 24 24 25 25 25 25 25 25 25 25 26 26 26 26 26 26 26 26\n",
      " 27 27 27 27 27 27 27 27 28 28 28 28 28 28 28 28 29 29 29 29 29 29 29 29\n",
      " 30 30 30 30 30 30 30 30 31 31 31 31 31 31 31 31 32 32 32 32 32 32 32 32\n",
      " 33 33 33 33 33 33 33 33 34 34 34 34 34 34 34 34 35 35 35 35 35 35 35 35\n",
      " 36 36 36 36 36 36 36 36 37 37 37 37 37 37 37 37 38 38 38 38 38 38 38 38\n",
      " 39 39 39 39 39 39 39 39 40 40 40 40 40 40 40 40 41 41 41 41 41 41 41 41\n",
      " 42 42 42 42 42 42 42 42 43 43 43 43 43 43 43 43 44 44 44 44 44 44 44 44\n",
      " 45 45 45 45 45 45 45 45 46 46 46 46 46 46 46 46 47 47 47 47 47 47 47 47\n",
      " 48 48 48 48 48 48 48 48 49 49 49 49 49 49 49 49 50 50 50 50 50 50 50 50\n",
      " 51 51 51 51 51 51 51 51 52 52 52 52 52 52 52 52 53 53 53 53 53 53 53 53\n",
      " 54 54 54 54 54 54 54 54 55 55 55 55 55 55 55 55 56 56 56 56 56 56 56 56\n",
      " 57 57 57 57 57 57 57 57 58 58 58 58 58 58 58 58 59 59 59 59 59 59 59 59]\n"
     ]
    }
   ],
   "source": [
    "# test with a PT\n",
    "\n",
    "my_second_molecule = \"bynum 4:6\"\n",
    "my_full_grid = FullGrid(b_grid_name=\"8\", o_grid_name=\"12\", t_grid_name=\"linspace(0.2, 1, 5)\")\n",
    "position_assignments = assign_2_position_grid(pt_universe, my_full_grid.get_o_grid().get_grid_as_array(), \n",
    "                       my_full_grid.get_radii(), my_second_molecule)\n",
    "print(position_assignments)\n",
    "# test: a PT should have the first 8 elements in position 0, then 8 in position 1 ...\n",
    "expected_assignments = np.repeat(np.arange(12*5), 8)\n",
    "assert np.all(position_assignments == expected_assignments)"
   ]
  },
  {
   "cell_type": "code",
   "execution_count": 8,
   "id": "4698c7d3",
   "metadata": {
    "ExecuteTime": {
     "end_time": "2024-02-09T10:03:59.621718Z",
     "start_time": "2024-02-09T10:03:53.507223Z"
    }
   },
   "outputs": [
    {
     "name": "stdout",
     "output_type": "stream",
     "text": [
      "Assigning 25000 frames to 25x20=500 positions\n"
     ]
    }
   ],
   "source": [
    "# test with a real trajectory: see how long it takes\n",
    "gro_name = \"H2O_H2O_0095\"\n",
    "traj_name = \"H2O_H2O_0095_25000\"\n",
    "traj_universe = mda.Universe(f\"{PATH_OUTPUT_PT}{gro_name}.gro\", f\"{PATH_OUTPUT_PT}{traj_name}.xtc\")\n",
    "\n",
    "print(f\"Assigning 25000 frames to 25x20={25*20} positions\")\n",
    "traj_full_grid = FullGrid(b_grid_name=\"20\", o_grid_name=\"25\", t_grid_name=\"linspace(0.2, 1.5, 20)\")\n",
    "position_assignments = assign_2_position_grid(traj_universe, traj_full_grid.get_o_grid().get_grid_as_array(), \n",
    "                       traj_full_grid.get_radii(), my_second_molecule)"
   ]
  },
  {
   "cell_type": "code",
   "execution_count": 9,
   "id": "adc5c704",
   "metadata": {
    "ExecuteTime": {
     "end_time": "2024-02-09T10:04:04.458457Z",
     "start_time": "2024-02-09T10:04:03.704800Z"
    }
   },
   "outputs": [
    {
     "name": "stdout",
     "output_type": "stream",
     "text": [
      "Most popular assignments are [477  68  28  27  48  31  38  26  33  51] with population [328 336 350 384 350 407 392 457 344 350]\n"
     ]
    },
    {
     "data": {
      "image/png": "[encoded data removed]",
      "text/plain": [
       "<Figure size 640x480 with 1 Axes>"
      ]
     },
     "metadata": {},
     "output_type": "display_data"
    }
   ],
   "source": [
    "# make a histogram of most populated positions\n",
    "sns.histplot(position_assignments, stat=\"count\", bins=np.arange(501))\n",
    "\n",
    "popular, counts = np.unique(position_assignments, return_counts=True)\n",
    "max_counts = k_argmax_in_array(counts, 10)\n",
    "print(f\"Most popular assignments are {popular[max_counts]} with population {counts[max_counts]}\")"
   ]
  },
  {
   "cell_type": "code",
   "execution_count": 10,
   "id": "8ce2aed7",
   "metadata": {
    "ExecuteTime": {
     "end_time": "2024-02-09T10:04:19.250410Z",
     "start_time": "2024-02-09T10:04:09.174293Z"
    }
   },
   "outputs": [
    {
     "name": "stdout",
     "output_type": "stream",
     "text": [
      "[854, 855, 856, 857, 858, 859, 860, 861, 862, 863, 864, 865, 866, 867, 868, 869, 870, 871, 872, 873, 874, 875, 876, 877, 878, 879, 880, 1962, 1963, 1964, 1965, 1966, 1967, 1968, 1969, 1970, 1971, 1972, 1973, 1974, 1975, 1976, 1977, 2265, 2266, 2267, 2268, 2269, 2270, 2271, 2272, 2273, 2274, 2275, 2276, 2277, 2278, 2279, 2280, 2281, 2282, 2283, 2284, 2285, 2286, 2287, 2312, 2313, 2314, 2315, 2316, 2317, 2318, 2319, 2320, 2321, 2632, 2650, 2651, 2652, 2653, 2654, 2655, 2656, 2657, 2658, 2659, 2660, 2661, 2662, 2663, 2664, 2665, 2666, 2667, 4032, 4033, 4034, 4035, 4036, 4037, 4038, 4039, 4040, 4041, 4042, 4043, 4044, 4045, 4046, 4047, 4048, 4049, 4050, 4051, 4602, 4603, 4604, 4605, 4606, 4971, 4972, 4973, 4974, 4975, 4976, 4977, 4978, 4979, 4980, 4981, 4982, 4983, 4984, 4985, 4986, 4987, 4988, 4989, 4990, 4991, 4992, 4993, 4994, 4995, 4996, 4997, 4998, 4999, 5000, 5001, 5002, 5003, 5004, 5005, 5006, 5007, 5008, 5009, 5010, 5011, 5012, 5013, 5014, 5015, 5016, 5017, 5018, 5019, 5020, 5021, 5022, 5023, 5024, 5025, 5026, 5027, 5028, 5029, 5030, 5031, 5032, 5033, 5034, 5035, 5036, 5037, 5038, 5039, 5040, 5041, 5042, 5043, 5044, 5045, 5046, 5047, 5048, 5049, 5050, 5051, 5052, 5053, 5054, 5055, 5056, 5057, 5058, 5059, 5060, 5061, 5062, 5063, 5064, 5065, 5066, 5067, 5068, 5069, 5070, 6046, 6047, 6048, 6049, 6050, 6051, 6052, 6053, 6198, 6199, 6200, 6201, 6202, 6203, 6204, 6205, 6206, 6207, 6208, 6209, 6210, 6211, 6212, 6213, 6214, 6215, 6216, 6217, 6218, 6219, 6220, 6221, 6222, 6223, 6224, 6225, 6226, 6227, 6228, 6229, 6230, 6231, 6232, 6233, 6234, 6235, 6318, 6319, 6320, 6321, 6322, 6323, 6324, 6325, 6326, 6327, 6328, 6329, 6330, 6331, 6332, 6333, 6334, 6335, 6336, 6337, 6338, 6339, 6340, 6341, 6342, 6343, 6344, 6345, 6346, 6347, 6348, 6349, 6350, 6351, 6352, 6353, 6354, 6355, 6356, 6357, 6358, 6359, 6360, 6361, 6362, 6363, 6364, 6365, 6366, 6367, 6368, 6369, 6370, 6371, 6372, 6373, 6374, 6375, 6376, 6377, 6378, 6379, 6380, 6381, 6382, 6383, 6384, 6385, 6386, 6387, 6388, 6389, 6390, 6391, 6392, 6393, 6394, 6395, 6396, 6397, 6398, 6399, 6400, 6401, 6402, 6403, 6404, 6405, 6406, 6407, 7209, 7210, 7211, 7212, 7213, 7214, 7215, 7216, 7217, 7218, 7219, 7220, 7221, 7222, 7223, 7315, 7316, 7317, 7318, 7319, 7320, 7321, 7322, 7323, 7324, 7325, 7326, 7327, 7328, 7329, 7330, 7331, 7332, 7333, 7334, 7335, 7336, 7337, 7338, 7339, 7340, 7341, 7342, 7343, 7344, 7345, 7346, 7347, 7348, 7349, 7350, 7351, 7352, 7353, 7354, 7355, 7356, 7357, 7358, 7856, 7857, 7858, 7859, 7860, 7861, 7862, 7863, 7864, 7865, 7866, 7867, 7868, 7869, 7870, 7871, 7872, 7873, 7874, 7875, 7876, 7877, 7878, 24402, 24403, 24404, 24405, 24406, 24407, 24408, 24409, 24410, 24411, 24412, 24413, 24414, 24415, 24416, 24417, 24418, 24419, 24420]\n"
     ]
    },
    {
     "data": {
      "application/vnd.jupyter.widget-view+json": {
       "model_id": "0bb9767985c74c229c57452f61ca6845",
       "version_major": 2,
       "version_minor": 0
      },
      "text/plain": [
       "NGLWidget()"
      ]
     },
     "metadata": {},
     "output_type": "display_data"
    }
   ],
   "source": [
    "# plot some frames of a real trajectory that belong to the same position grid point\n",
    "vm = ViewManager(traj_universe)\n",
    "# plot a selection (because too many) that are all assigned to grid point 26\n",
    "assigned_to_26 = np.where(position_assignments == 26)[0]\n",
    "# show in VMD for a better view\n",
    "print(list(assigned_to_26))\n",
    "vm.plot_frames_overlapping(np.random.choice(assigned_to_26, 30))"
   ]
  },
  {
   "cell_type": "code",
   "execution_count": 12,
   "id": "ebf47808",
   "metadata": {
    "ExecuteTime": {
     "end_time": "2024-02-09T10:05:16.070211Z",
     "start_time": "2024-02-09T10:05:06.538442Z"
    }
   },
   "outputs": [
    {
     "name": "stdout",
     "output_type": "stream",
     "text": [
      "[16795, 16796, 16797, 16798, 16799, 16800, 16801, 16802, 16803, 16804, 16805, 16806, 16807, 16808, 16809, 16810, 16811, 16812, 16813, 16814, 16815, 16816, 16817, 16818, 16819, 16820, 16821, 16822, 16823, 16824, 16825, 16826, 16827, 16828, 16829, 16830, 16831, 16832, 16833, 16834, 16835, 16836, 16837, 16838, 16839, 16840, 16841, 16842, 16843, 16844, 16845, 16846, 16847, 16848, 16849, 16850, 16851, 16852, 16853, 16854, 16855, 16856, 16857, 16858, 16859, 16860, 16861, 16862, 16863, 16864, 16865, 16866, 16867, 16868, 16869, 16870, 16871, 16872, 16873, 16874, 16875, 16876, 16877, 16878, 16879, 16880, 16881, 16882, 16883, 16884, 16885, 16886, 16887, 16888, 16889, 16890, 16891, 16892, 16893, 16894, 16895, 16896, 16897, 16898, 16899, 16900, 16901, 16902, 16903, 16904, 16905, 16906, 16907, 16908, 16909, 17106, 17107, 17108, 17109, 17110, 17111, 17112, 17113, 17114, 17115, 17116, 17117, 17118, 17119, 17120, 17121, 17122, 17123, 17124, 17342, 17343, 17344, 17345, 17346, 17347, 17348, 17349, 17350, 17351, 17352, 17353, 17354, 17355, 17356, 17357, 17358, 17359, 17360, 17361, 17362, 17363, 17364, 17365, 17366, 17367, 17368, 17369, 17370, 17371, 17372, 17373, 17374, 17375, 17376, 17377, 17378, 17379, 17380, 17381, 17382, 17383, 17384, 17385, 17386, 17387, 17388, 17389, 17390, 17391, 17392, 17393, 17394, 17395, 17396, 17397, 17398, 17399, 17400, 17401, 17402, 17403, 17404, 17405, 17406, 17407, 17408, 17409, 17410, 17411, 17412, 17413, 17414, 17415, 17416, 17417, 17418, 17419, 17420, 17421, 17422, 17423, 17424, 17425, 17426, 17745, 17746, 17747, 17748, 17749, 17750, 17751, 17752, 17753, 17754, 17755, 17756, 17757, 17758, 17759, 17760, 17761, 17762, 17763, 17764, 17765, 17766, 17767, 17768, 17769, 17770, 17771, 17772, 17773, 17774, 17775, 17776, 17777, 17778, 17779, 17780, 17781, 17782, 17783, 17784, 17785, 17786, 17787, 17788, 17789, 17790, 17791, 17792, 17793, 17794, 17795, 17796, 17797, 17798, 17799, 17800, 17801, 17802, 17803, 17804, 17805, 17806, 17807, 17808, 17809, 17810, 17811, 17812, 17813, 17814, 17815, 17816, 17817, 17818, 17819, 17820, 17821, 17822, 17823, 22515, 22516, 22517, 22518, 22519, 22520, 22521, 22522, 22523, 22524, 22525, 22526, 22527, 22528, 22529, 22530, 22531, 22532, 22533, 22534, 22535, 22536, 22537, 22538, 22539, 22540, 22541, 22542, 22543, 22544]\n"
     ]
    },
    {
     "data": {
      "application/vnd.jupyter.widget-view+json": {
       "model_id": "f2deede2f4a74466b73f9ffa22cc2ddd",
       "version_major": 2,
       "version_minor": 0
      },
      "text/plain": [
       "NGLWidget()"
      ]
     },
     "metadata": {},
     "output_type": "display_data"
    }
   ],
   "source": [
    "# try another one\n",
    "vm.fresh_view()\n",
    "# plot a selection (because too many) that are all assigned to grid point 477\n",
    "assigned_to_477 = np.where(position_assignments == 477)[0]\n",
    "# show in VMD for a better view\n",
    "print(list(assigned_to_477))\n",
    "vm.plot_frames_overlapping(np.random.choice(assigned_to_477, 30))"
   ]
  },
  {
   "cell_type": "markdown",
   "id": "36a1dfe3",
   "metadata": {},
   "source": [
    "## Orientation space"
   ]
  },
  {
   "cell_type": "markdown",
   "id": "c2568971",
   "metadata": {},
   "source": [
    "### Determine internal coordinate system (principal axes)"
   ]
  },
  {
   "cell_type": "code",
   "execution_count": 14,
   "id": "039d74bf",
   "metadata": {
    "ExecuteTime": {
     "end_time": "2024-02-09T10:06:06.146314Z",
     "start_time": "2024-02-09T10:06:05.895504Z"
    }
   },
   "outputs": [
    {
     "name": "stdout",
     "output_type": "stream",
     "text": [
      "[[ 0.     1.     0.   ]\n",
      " [-0.599  0.    -0.8  ]\n",
      " [-0.8    0.     0.599]]\n",
      "[-1.70130157  1.          1.05146214]\n"
     ]
    },
    {
     "data": {
      "application/vnd.jupyter.widget-view+json": {
       "model_id": "1ef8f196697b4fe7baa22d215aede8d2",
       "version_major": 2,
       "version_minor": 0
      },
      "text/plain": [
       "NGLWidget()"
      ]
     },
     "metadata": {},
     "output_type": "display_data"
    }
   ],
   "source": [
    "# determine principal axes\n",
    "second_molecule = \"bynum 4:6\"\n",
    "\n",
    "# principal axes of the first frame\n",
    "pa_zero = pt_universe.select_atoms(second_molecule).principal_axes()\n",
    "com_zero = pt_universe.select_atoms(second_molecule).center_of_mass()\n",
    "print(np.round(pa_zero, 3))\n",
    "print(com_zero+pa_zero[0])\n",
    "\n",
    "# display principal axes of first frame\n",
    "vm = ViewManager(pt_universe)\n",
    "vm.fresh_view()\n",
    "vm.plot_ith_frame(0)\n",
    "vm.add_principal_axes(com_zero, pa_zero)\n",
    "vm.view\n",
    "\n"
   ]
  },
  {
   "cell_type": "code",
   "execution_count": 15,
   "id": "27c90c5c",
   "metadata": {
    "ExecuteTime": {
     "end_time": "2024-02-09T10:06:22.870016Z",
     "start_time": "2024-02-09T10:06:22.525187Z"
    }
   },
   "outputs": [
    {
     "name": "stdout",
     "output_type": "stream",
     "text": [
      "[[ 0.     0.     1.   ]\n",
      " [ 0.8   -0.599  0.   ]\n",
      " [ 0.599  0.8    0.   ]]\n",
      "[[ 0.     0.     1.   ]\n",
      " [ 0.8    0.599  0.   ]\n",
      " [-0.599  0.8    0.   ]]\n",
      "[[ 0.     0.     1.   ]\n",
      " [ 0.8   -0.599  0.   ]\n",
      " [ 0.599  0.8    0.   ]]\n"
     ]
    },
    {
     "data": {
      "application/vnd.jupyter.widget-view+json": {
       "model_id": "7cf28f310d4c4dd2bedfff3e896daec8",
       "version_major": 2,
       "version_minor": 0
      },
      "text/plain": [
       "NGLWidget()"
      ]
     },
     "metadata": {},
     "output_type": "display_data"
    }
   ],
   "source": [
    "vm.fresh_view()\n",
    "\n",
    "# principal axes change in relation to the stationary coordinate system when the molecule is re-oriented\n",
    "# but they remain the same in relation to the molecule itself\n",
    "\n",
    "# using some selected PT frames for demonstration\n",
    "for i in [20, 63, 284]:\n",
    "    pt_universe.trajectory[i]\n",
    "    pa_current = pt_universe.select_atoms(second_molecule).principal_axes()\n",
    "    com_current = pt_universe.select_atoms(second_molecule).center_of_mass()\n",
    "    print(np.round(pa_current, 3))\n",
    "\n",
    "    # display this\n",
    "    vm.plot_ith_frame(i)\n",
    "    vm.add_principal_axes(com_current, pa_current)\n",
    "vm.view"
   ]
  },
  {
   "cell_type": "markdown",
   "id": "b1fdb16c",
   "metadata": {},
   "source": [
    "... well, almost the same\n",
    "\n",
    "### Realize that determining principal axes isn't sufficient"
   ]
  },
  {
   "cell_type": "code",
   "execution_count": 17,
   "id": "aa9f7af1",
   "metadata": {
    "ExecuteTime": {
     "end_time": "2024-02-09T10:07:42.878624Z",
     "start_time": "2024-02-09T10:07:41.827350Z"
    }
   },
   "outputs": [
    {
     "name": "stdout",
     "output_type": "stream",
     "text": [
      "my R @ ref [[ 0.     0.    -1.   ]\n",
      " [-0.599  0.8    0.   ]\n",
      " [ 0.8    0.599  0.   ]]\n",
      "end_pa [[ 0.    -0.     1.   ]\n",
      " [ 0.599 -0.8   -0.   ]\n",
      " [ 0.8    0.599 -0.   ]]\n"
     ]
    },
    {
     "data": {
      "application/vnd.jupyter.widget-view+json": {
       "model_id": "d80c9eb3eeb0431794016c68a1344e67",
       "version_major": 2,
       "version_minor": 0
      },
      "text/plain": [
       "NGLWidget()"
      ]
     },
     "metadata": {},
     "output_type": "display_data"
    }
   ],
   "source": [
    "# LESSION LEARNED: principal axes are axes and NOT vectors - their direction is NOT clearly defined\n",
    "# see also: https://math.stackexchange.com/questions/145023/rotation-matrix-from-an-inertia-tensor\n",
    "\n",
    "# python -m molgri.scripts.generate_pt -m1 H2O -m2 H2O -o \"1\" -b \"20\" -t \"1\" --recal\n",
    "from molgri.space.rotobj import SphereGrid4DFactory\n",
    "b_selection = SphereGrid4DFactory().create(alg_name=\"cube4D\", N=20).get_grid_as_array()\n",
    "b_universe = mda.Universe(f\"{PATH_OUTPUT_PT}H2O_H2O_0407.gro\", f\"{PATH_OUTPUT_PT}H2O_H2O_0407.xtc\")\n",
    "\n",
    "vm = ViewManager(b_universe)\n",
    "vm.fresh_view()\n",
    "reference_structure = mda.Universe(f\"{PATH_INPUT_BASEGRO}H2O.gro\")\n",
    "reference_principal_axes = reference_structure.atoms.principal_axes()\n",
    "\n",
    "for i in range(17, 18):\n",
    "    b_universe.trajectory[i]\n",
    "    reference_structure = mda.Universe(f\"{PATH_INPUT_BASEGRO}H2O.gro\")\n",
    "    reference_principal_axes = reference_structure.atoms.principal_axes()\n",
    "    my_R = Rotation(b_selection[i]).as_matrix()\n",
    "    expected_pa = Rotation(b_selection[i]).apply(reference_principal_axes)\n",
    "    #expected_pa = (my_R @ reference_principal_axes.T).T\n",
    "\n",
    "    print(\"my R @ ref\", np.round(expected_pa, 3))\n",
    "\n",
    "    current_principal_axes = b_universe.select_atoms(second_molecule).principal_axes()\n",
    "    com_current = b_universe.select_atoms(second_molecule).center_of_mass()\n",
    "    print(\"end_pa\", np.round(current_principal_axes, 3))\n",
    "    vm.plot_ith_frame(i)\n",
    "    vm.add_principal_axes(com_current, expected_pa)\n",
    "    vm.add_principal_axes(com_current, current_principal_axes)\n",
    "vm.view"
   ]
  },
  {
   "cell_type": "code",
   "execution_count": 29,
   "id": "fa304c94",
   "metadata": {
    "ExecuteTime": {
     "end_time": "2024-02-09T10:41:32.387235Z",
     "start_time": "2024-02-09T10:41:31.444063Z"
    }
   },
   "outputs": [
    {
     "name": "stdout",
     "output_type": "stream",
     "text": [
      "[-1.  1. -1.]\n",
      "True [ 0.5 -0.5 -0.5  0.5] [ 0.5 -0.5 -0.5  0.5]\n",
      "[1. 1. 1.]\n",
      "True [ 0.5 -0.5  0.5 -0.5] [ 0.5 -0.5  0.5 -0.5]\n",
      "[ 1. -1. -1.]\n",
      "True [0.5 0.5 0.5 0.5] [0.5 0.5 0.5 0.5]\n",
      "[1. 1. 1.]\n",
      "True [ 0.5  0.5 -0.5  0.5] [ 0.5  0.5 -0.5  0.5]\n",
      "[-1. -1.  1.]\n",
      "True [ 0.5 -0.5  0.5  0.5] [ 0.5 -0.5  0.5  0.5]\n",
      "[ 1. -1. -1.]\n",
      "True [ 0.5  0.5  0.5 -0.5] [ 0.5  0.5  0.5 -0.5]\n",
      "[-1. -1.  1.]\n",
      "True [ 0.5  0.5 -0.5 -0.5] [ 0.5  0.5 -0.5 -0.5]\n",
      "[-1.  1. -1.]\n",
      "True [ 0.5 -0.5 -0.5 -0.5] [ 0.5 -0.5 -0.5 -0.5]\n",
      "[ 1. -1. -1.]\n",
      "True [ 0.57735027 -0.57735027  0.          0.57735027] [ 0.57735 -0.57735  0.       0.57735]\n",
      "[1. 1. 1.]\n",
      "True [0.70710678 0.70710678 0.         0.        ] [ 0.707107  0.707107  0.       -0.      ]\n",
      "[-1. -1.  1.]\n",
      "True [0.         0.         0.70710678 0.70710678] [-0.        0.        0.707107  0.707107]\n",
      "[1. 1. 1.]\n",
      "True [0.70710678 0.         0.70710678 0.        ] [0.707107 0.       0.707107 0.      ]\n",
      "[1. 1. 1.]\n",
      "True [ 0.          0.57735027  0.57735027 -0.57735027] [ 0.       0.57735  0.57735 -0.57735]\n",
      "[-1. -1.  1.]\n",
      "True [ 0.70710678  0.          0.         -0.70710678] [ 0.707107 -0.       -0.       -0.707107]\n",
      "[-1.  1. -1.]\n",
      "True [ 0.57735027  0.          0.57735027 -0.57735027] [ 0.57735  0.       0.57735 -0.57735]\n",
      "[-1. -1.  1.]\n",
      "True [ 0.57735027  0.57735027  0.         -0.57735027] [ 0.57735  0.57735 -0.      -0.57735]\n",
      "[-1. -1.  1.]\n",
      "True [0.57735027 0.         0.57735027 0.57735027] [ 0.57735 -0.       0.57735  0.57735]\n",
      "[-1.  1. -1.]\n",
      "True [ 0.70710678  0.         -0.70710678  0.        ] [ 0.707107  0.       -0.707107 -0.      ]\n",
      "[ 1. -1. -1.]\n",
      "True [ 0.57735027  0.57735027 -0.57735027  0.        ] [ 0.57735  0.57735 -0.57735 -0.     ]\n",
      "[ 1. -1. -1.]\n",
      "True [0.         0.70710678 0.70710678 0.        ] [ 0.        0.707107  0.707107 -0.      ]\n"
     ]
    }
   ],
   "source": [
    "# LESSONS LEARNED\n",
    "# 1. symmetry of water is a problem\n",
    "# 2. need to save in a higher precision file trr\n",
    "# 3. need to round structures read from files otherwise values very close to zero can throw off \n",
    "#    quaternion projection to correct hemisphere\n",
    "\n",
    "def determine_positive_directions(current_universe, second_molecule):\n",
    "    pas = current_universe.select_atoms(second_molecule).principal_axes()\n",
    "    com = current_universe.select_atoms(second_molecule).center_of_mass()\n",
    "    directions = [0, 0, 0]\n",
    "    for atom_pos in current_universe.select_atoms(second_molecule).positions:\n",
    "        for i, pa in enumerate(pas):\n",
    "            # need to round to avoid problems - assigning direction with atoms very close to 0\n",
    "            cosalpha = np.round(pa.dot(atom_pos-com), 6)\n",
    "            directions[i] = np.sign(cosalpha)\n",
    "        if not np.any(np.isclose(directions,0)):\n",
    "            break\n",
    "    # TODO: if exactly one unknown use the other two and properties of righthanded systems to get third\n",
    "    if np.sum(np.isclose(directions,0)) == 1:\n",
    "        # only these combinations of directions are possible in righthanded coordinate systems\n",
    "        allowed_righthanded = [[1, 1, 1], [-1, 1, -1], [1, -1, -1], [-1, -1, 1]]\n",
    "        for ar in allowed_righthanded:\n",
    "            # exactly two identical (and the third is zero)\n",
    "            if np.sum(np.isclose(ar, directions)) == 2:\n",
    "                directions = ar\n",
    "                break\n",
    "    # if two (or three - that would just be an atom) unknowns raise an error\n",
    "    elif np.sum(np.isclose(directions,0)) > 1:\n",
    "        raise ValueError(\"All atoms perpendicular to at least one of principal axes, can´t determine direction.\")\n",
    "    return np.array(directions)\n",
    "\n",
    "# saved PT\n",
    "my_new_u = mda.Universe(f\"{PATH_OUTPUT_PT}glucose_glucose_0025.gro\", f\"{PATH_OUTPUT_PT}glucose_glucose_0025.trr\")\n",
    "b_selection = SphereGrid4DFactory().create(alg_name=\"cube4D\", N=20).get_grid_as_array()\n",
    "second_molecule_glu = \"bynum 13:24\"\n",
    "\n",
    "# reference structure\n",
    "reference_structure = mda.Universe(f\"{PATH_INPUT_BASEGRO}glucose.xyz\")\n",
    "second_molecule_ref = \"bynum 1:12\"\n",
    "reference_principal_axes = reference_structure.atoms.principal_axes().T\n",
    "inverse_pa = np.linalg.inv(reference_principal_axes)\n",
    "reference_direction = determine_positive_directions(reference_structure, second_molecule_ref)\n",
    "\n",
    "# frame 0: q3 in direction C-O, frame 1: q3 in direction O\n",
    "for i in range(20):\n",
    "    my_new_u.trajectory[i]\n",
    "    com_current = my_new_u.select_atoms(second_molecule_glu).center_of_mass()\n",
    "    current_principal_axes = my_new_u.select_atoms(second_molecule_glu).principal_axes().T\n",
    "    current_directions = determine_positive_directions(my_new_u, second_molecule_glu)\n",
    "    direction = current_directions * reference_direction\n",
    "    produkt = np.multiply(current_principal_axes, np.tile(direction, (3, 1))) @ inverse_pa\n",
    "    calc_quat = np.round(Rotation.from_matrix(produkt).as_quat(), 6) \n",
    "    if not q_in_upper_sphere(calc_quat):\n",
    "        calc_quat = -calc_quat\n",
    "    print(current_directions)\n",
    "    print(np.allclose(b_selection[i], calc_quat, atol=1e-5, rtol=1e-5), b_selection[i], calc_quat)"
   ]
  },
  {
   "cell_type": "code",
   "execution_count": 31,
   "id": "d1798803",
   "metadata": {
    "ExecuteTime": {
     "end_time": "2024-02-09T10:42:13.070379Z",
     "start_time": "2024-02-09T10:42:12.145018Z"
    }
   },
   "outputs": [
    {
     "name": "stdout",
     "output_type": "stream",
     "text": [
      "True [ 0.5 -0.5 -0.5  0.5] [ 0.5 -0.5 -0.5  0.5]\n",
      "True [ 0.5 -0.5  0.5 -0.5] [ 0.5 -0.5  0.5 -0.5]\n",
      "True [0.5 0.5 0.5 0.5] [0.5 0.5 0.5 0.5]\n",
      "True [ 0.5  0.5 -0.5  0.5] [ 0.5  0.5 -0.5  0.5]\n",
      "True [ 0.5 -0.5  0.5  0.5] [ 0.5 -0.5  0.5  0.5]\n",
      "True [ 0.5  0.5  0.5 -0.5] [ 0.5  0.5  0.5 -0.5]\n",
      "True [ 0.5  0.5 -0.5 -0.5] [ 0.5  0.5 -0.5 -0.5]\n",
      "True [ 0.5 -0.5 -0.5 -0.5] [ 0.5 -0.5 -0.5 -0.5]\n",
      "True [ 0.57735027 -0.57735027  0.          0.57735027] [ 0.57735 -0.57735  0.       0.57735]\n",
      "True [0.70710678 0.70710678 0.         0.        ] [ 0.707107  0.707107 -0.       -0.      ]\n",
      "True [0.         0.         0.70710678 0.70710678] [-0.       -0.        0.707107  0.707107]\n",
      "True [0.70710678 0.         0.70710678 0.        ] [ 0.707107 -0.        0.707107 -0.      ]\n",
      "True [ 0.          0.57735027  0.57735027 -0.57735027] [ 0.       0.57735  0.57735 -0.57735]\n",
      "True [ 0.70710678  0.          0.         -0.70710678] [ 0.707107 -0.       -0.       -0.707107]\n",
      "True [ 0.57735027  0.          0.57735027 -0.57735027] [ 0.57735  0.       0.57735 -0.57735]\n",
      "True [ 0.57735027  0.57735027  0.         -0.57735027] [ 0.57735  0.57735  0.      -0.57735]\n",
      "True [0.57735027 0.         0.57735027 0.57735027] [ 0.57735 -0.       0.57735  0.57735]\n",
      "True [ 0.70710678  0.         -0.70710678  0.        ] [ 0.707107 -0.       -0.707107  0.      ]\n",
      "True [ 0.57735027  0.57735027 -0.57735027  0.        ] [ 0.57735  0.57735 -0.57735  0.     ]\n",
      "True [0.         0.70710678 0.70710678 0.        ] [ 0.        0.707107  0.707107 -0.      ]\n"
     ]
    }
   ],
   "source": [
    "#python -m molgri.scripts.generate_pt -m1 H2O_a -m2 H2O_a -o \"1\" -b \"20\" -t \"0.3\" --recal --extension_structure gro --extension_trajectory trr\n",
    "\n",
    "\n",
    "# saved PT\n",
    "my_new_u = mda.Universe(f\"{PATH_OUTPUT_PT}H2O_a_H2O_a_0000.gro\", f\"{PATH_OUTPUT_PT}H2O_a_H2O_a_0000.trr\")\n",
    "b_selection = SphereGrid4DFactory().create(alg_name=\"cube4D\", N=20).get_grid_as_array()\n",
    "second_molecule_glu = \"bynum 4:6\"\n",
    "\n",
    "# reference structure\n",
    "reference_structure = mda.Universe(f\"{PATH_INPUT_BASEGRO}H2O_a.gro\")\n",
    "second_molecule_ref = \"bynum 1:3\"\n",
    "reference_principal_axes = reference_structure.atoms.principal_axes().T\n",
    "inverse_pa = np.linalg.inv(reference_principal_axes)\n",
    "reference_direction = determine_positive_directions(reference_structure, second_molecule_ref)\n",
    "\n",
    "# frame 0: q3 in direction C-O, frame 1: q3 in direction O\n",
    "for i in range(20):\n",
    "    my_new_u.trajectory[i]\n",
    "    com_current = my_new_u.select_atoms(second_molecule_glu).center_of_mass()\n",
    "    current_principal_axes = my_new_u.select_atoms(second_molecule_glu).principal_axes().T\n",
    "    current_directions = determine_positive_directions(my_new_u, second_molecule_glu)\n",
    "    direction = current_directions * reference_direction\n",
    "    produkt = np.multiply(current_principal_axes, np.tile(direction, (3, 1))) @ inverse_pa\n",
    "    calc_quat = np.round(Rotation.from_matrix(produkt).as_quat(), 6) \n",
    "    if not q_in_upper_sphere(calc_quat):\n",
    "        calc_quat = -calc_quat\n",
    "    print(np.allclose(b_selection[i], calc_quat, atol=1e-6, rtol=1e-5), b_selection[i], calc_quat)"
   ]
  },
  {
   "cell_type": "markdown",
   "id": "24ce94a3",
   "metadata": {},
   "source": [
    "In summary:\n",
    "- save and use (pseudo)trajectories in high-precision TRR format\n",
    "- determine principal axes of the reference structure and every frame of the PT\n",
    "- determine direction of each PA from the coordinates of the first atom that isn't perpendicular to it\n",
    "- if a molecule is planar, you can still determine directions from right-handedness of PAs\n",
    "\n",
    "TODO:\n",
    "- now assign to gridpoints\n",
    "- need a better symmetry handling for linear molecules"
   ]
  },
  {
   "cell_type": "markdown",
   "id": "6c486044",
   "metadata": {},
   "source": [
    "### Quaternion index"
   ]
  },
  {
   "cell_type": "code",
   "execution_count": 72,
   "id": "6703c214",
   "metadata": {
    "ExecuteTime": {
     "end_time": "2024-02-09T11:41:14.071783Z",
     "start_time": "2024-02-09T11:40:59.990418Z"
    },
    "scrolled": true
   },
   "outputs": [
    {
     "name": "stdout",
     "output_type": "stream",
     "text": [
      "[1 0 6 7 5 4 2 3 1 0 6 7 5 4 2 3 1 0 6 7 5 4 2 3 1 0 6 7 5 4 2 3 1 0 6 7 5\n",
      " 4 2 3 1 0 6 7 5 4 2 3 1 0 6 7 5 4 2 3 1 0 6 7 5 4 2 3 1 0 6 7 5 4 2 3 1 0\n",
      " 6 7 5 4 2 3 1 0 6 7 5 4 2 3 1 0 6 7 5 4 2 3 1 0 6 7 5 4 2 3 1 0 6 7 5 4 2\n",
      " 3 1 0 6 7 5 4 2 3 1 0 6 7 5 4 2 3 1 0 6 7 5 4 2 3 1 0 6 7 5 4 2 3 1 0 6 7\n",
      " 5 4 2 3 1 0 6 7 5 4 2 3 1 0 6 7 5 4 2 3 1 0 6 7 5 4 2 3 1 0 6 7 5 4 2 3 1\n",
      " 0 6 7 5 4 2 3 1 0 6 7 5 4 2 3 1 0 6 7 5 4 2 3 1 0 6 7 5 4 2 3 1 0 6 7 5 4\n",
      " 2 3 1 0 6 7 5 4 2 3 1 0 6 7 5 4 2 3 1 0 6 7 5 4 2 3 1 0 6 7 5 4 2 3 1 0 6\n",
      " 7 5 4 2 3 1 0 6 7 5 4 2 3 1 0 6 7 5 4 2 3 1 0 6 7 5 4 2 3 1 0 6 7 5 4 2 3\n",
      " 1 0 6 7 5 4 2 3 1 0 6 7 5 4 2 3 1 0 6 7 5 4 2 3 1 0 6 7 5 4 2 3 1 0 6 7 5\n",
      " 4 2 3 1 0 6 7 5 4 2 3 1 0 6 7 5 4 2 3 1 0 6 7 5 4 2 3 1 0 6 7 5 4 2 3 1 0\n",
      " 6 7 5 4 2 3 1 0 6 7 5 4 2 3 1 0 6 7 5 4 2 3 1 0 6 7 5 4 2 3 1 0 6 7 5 4 2\n",
      " 3 1 0 6 7 5 4 2 3 1 0 6 7 5 4 2 3 1 0 6 7 5 4 2 3 1 0 6 7 5 4 2 3 1 0 6 7\n",
      " 5 4 2 3 1 0 6 7 5 4 2 3 1 0 6 7 5 4 2 3 1 0 6 7 5 4 2 3 1 0 6 7 5 4 2 3]\n",
      "[0, 8, 16, 24, 32, 40, 48, 56, 64, 72, 80, 88, 96, 104, 112, 120, 128, 136, 144, 152, 160, 168, 176, 184, 192, 200, 208, 216, 224, 232, 240, 248, 256, 264, 272, 280, 288, 296, 304, 312, 320, 328, 336, 344, 352, 360, 368, 376, 384, 392, 400, 408, 416, 424, 432, 440, 448, 456, 464, 472]\n"
     ]
    },
    {
     "data": {
      "application/vnd.jupyter.widget-view+json": {
       "model_id": "c402e628317e474fb9687e76af1bc620",
       "version_major": 2,
       "version_minor": 0
      },
      "text/plain": [
       "NGLWidget()"
      ]
     },
     "metadata": {},
     "output_type": "display_data"
    }
   ],
   "source": [
    "def assign_2_b_grid(my_trajectory: mda.Universe, b_grid_points: NDArray, reference_universe: mda.Universe,\n",
    "                           second_molecule: str) -> NDArray:\n",
    "    \"\"\"\n",
    "    Assign every frame of the trajectory to the closest quaternion from the b_grid_points.\n",
    "    \n",
    "    Args:\n",
    "        my_trajectory: consists of two molecules and multiple frames\n",
    "        b_grid_points: a (N, 4) array of unit quaternions\n",
    "        reference_universe: consists of only one molecule in a single frame\n",
    "        second_molecule: defines which molecule interests us in my_trajectory\n",
    "    \"\"\"\n",
    "    # find PA and direction of reference structure\n",
    "    reference_principal_axes = reference_universe.atoms.principal_axes().T\n",
    "    inverse_pa = np.linalg.inv(reference_principal_axes)\n",
    "    reference_direction = determine_positive_directions(reference_universe, \"all\")\n",
    "    \n",
    "    # find PA and direction along trajectory\n",
    "    pa_frames =  AnalysisFromFunction(lambda ag: ag.principal_axes().T, my_trajectory.trajectory,\n",
    "                                     my_trajectory.select_atoms(second_molecule))\n",
    "    pa_frames.run()\n",
    "    pa_frames = pa_frames.results['timeseries']\n",
    "    \n",
    "    direction_frames = AnalysisFromFunction(lambda ag: np.tile(determine_positive_directions(ag, \"all\"), (3, 1)), \n",
    "                                            my_trajectory.trajectory,\n",
    "                                            my_trajectory.select_atoms(second_molecule))\n",
    "    direction_frames.run()\n",
    "    direction_frames = direction_frames.results['timeseries']\n",
    "    directed_pas = np.multiply(pa_frames, direction_frames)\n",
    "    produkt = np.matmul(directed_pas, inverse_pa)\n",
    "    # get the quaternions that caused the rotation from reference to each frame\n",
    "    calc_quat = np.round(Rotation.from_matrix(produkt).as_quat(), 6)\n",
    "    # now using a quaternion metric, determine which of b_grid_points is closest\n",
    "\n",
    "    b_indices = np.argmin(cdist(b_grid_points, calc_quat, metric=distance_between_quaternions), axis=0)\n",
    "    # almost everything correct but the order is somehow mixed???\n",
    "    return b_indices\n",
    "\n",
    "# water PT example\n",
    "H2O_pt_name = \"H2O_H2O_0528\"\n",
    "H2O_pt_universe = mda.Universe(f\"{PATH_OUTPUT_PT}{H2O_pt_name}.gro\",\n",
    "                           f\"{PATH_OUTPUT_PT}{H2O_pt_name}.trr\")\n",
    "H2O_second_mol = \"bynum 4:6\"\n",
    "H2O_reference_universe = mda.Universe(f\"{PATH_INPUT_BASEGRO}H2O.gro\")\n",
    "H2O_full_grid = FullGrid(b_grid_name=\"8\", o_grid_name=\"12\", t_grid_name=\"linspace(0.2, 1, 5)\", use_saved=False)\n",
    "H2O_b_grid = my_full_grid.b_rotations.get_grid_as_array()\n",
    "                                      \n",
    "assignments_quaternion_pt = assign_2_b_grid(H2O_pt_universe, H2O_b_grid, H2O_reference_universe, H2O_second_mol)\n",
    "print(assignments_quaternion_pt)\n",
    "vm = ViewManager(H2O_pt_universe)\n",
    "# plot a selection (because too many) that are all assigned to grid point 21\n",
    "assigned_to_26 = np.where(assignments_quaternion_pt == 1)[0]\n",
    "# show in VMD for a better view\n",
    "print(list(assigned_to_26))\n",
    "vm.plot_frames_overlapping(np.random.choice(assigned_to_26, 30))"
   ]
  },
  {
   "cell_type": "code",
   "execution_count": 73,
   "id": "0b2c8d32",
   "metadata": {
    "ExecuteTime": {
     "end_time": "2024-02-09T11:46:37.092117Z",
     "start_time": "2024-02-09T11:43:45.316018Z"
    }
   },
   "outputs": [
    {
     "name": "stdout",
     "output_type": "stream",
     "text": [
      "Assigning 25000 frames to 80 quaternions\n",
      "[[ 0.5        -0.5        -0.5         0.5       ]\n",
      " [ 0.5        -0.5         0.5        -0.5       ]\n",
      " [ 0.5         0.5         0.5         0.5       ]\n",
      " [ 0.5         0.5        -0.5         0.5       ]\n",
      " [ 0.5        -0.5         0.5         0.5       ]\n",
      " [ 0.5         0.5         0.5        -0.5       ]\n",
      " [ 0.5         0.5        -0.5        -0.5       ]\n",
      " [ 0.5        -0.5        -0.5        -0.5       ]\n",
      " [ 0.57735027 -0.57735027  0.          0.57735027]\n",
      " [ 0.70710678  0.70710678  0.          0.        ]\n",
      " [ 0.          0.          0.70710678  0.70710678]\n",
      " [ 0.70710678  0.          0.70710678  0.        ]\n",
      " [ 0.          0.57735027  0.57735027 -0.57735027]\n",
      " [ 0.70710678  0.          0.         -0.70710678]\n",
      " [ 0.57735027  0.          0.57735027 -0.57735027]\n",
      " [ 0.57735027  0.57735027  0.         -0.57735027]\n",
      " [ 0.57735027  0.          0.57735027  0.57735027]\n",
      " [ 0.70710678  0.         -0.70710678  0.        ]\n",
      " [ 0.57735027  0.57735027 -0.57735027  0.        ]\n",
      " [ 0.          0.70710678  0.70710678  0.        ]\n",
      " [ 0.          0.70710678 -0.70710678  0.        ]\n",
      " [ 0.          0.          0.          1.        ]\n",
      " [ 0.          0.70710678  0.          0.70710678]\n",
      " [ 0.          0.57735027 -0.57735027 -0.57735027]\n",
      " [ 0.57735027  0.57735027  0.57735027  0.        ]\n",
      " [ 0.70710678  0.          0.          0.70710678]\n",
      " [ 0.          0.          0.70710678 -0.70710678]\n",
      " [ 0.57735027  0.57735027  0.          0.57735027]\n",
      " [ 0.57735027 -0.57735027  0.         -0.57735027]\n",
      " [ 0.70710678 -0.70710678  0.          0.        ]\n",
      " [ 0.          0.70710678  0.         -0.70710678]\n",
      " [ 0.          0.57735027  0.57735027  0.57735027]\n",
      " [ 1.          0.          0.          0.        ]\n",
      " [ 0.          1.          0.          0.        ]\n",
      " [ 0.          0.57735027 -0.57735027  0.57735027]\n",
      " [ 0.57735027 -0.57735027 -0.57735027  0.        ]\n",
      " [ 0.57735027  0.         -0.57735027 -0.57735027]\n",
      " [ 0.          0.          1.          0.        ]\n",
      " [ 0.57735027 -0.57735027  0.57735027  0.        ]\n",
      " [ 0.57735027  0.         -0.57735027  0.57735027]\n",
      " [ 0.66666667  0.66666667  0.          0.33333333]\n",
      " [ 0.33333333 -0.66666667 -0.66666667  0.        ]\n",
      " [ 0.5547002   0.5547002   0.5547002  -0.2773501 ]\n",
      " [ 0.          0.89442719  0.4472136   0.        ]\n",
      " [ 0.33333333  0.66666667 -0.66666667  0.        ]\n",
      " [ 0.          0.          0.89442719 -0.4472136 ]\n",
      " [ 0.2773501   0.5547002   0.5547002   0.5547002 ]\n",
      " [ 0.37796447  0.75592895  0.37796447 -0.37796447]\n",
      " [ 0.63245553 -0.31622777 -0.31622777 -0.63245553]\n",
      " [ 0.66666667 -0.33333333  0.          0.66666667]\n",
      " [ 0.          0.4472136   0.         -0.89442719]\n",
      " [ 0.75592895 -0.37796447 -0.37796447  0.37796447]\n",
      " [ 0.33333333  0.         -0.66666667  0.66666667]\n",
      " [ 0.          0.40824829 -0.40824829  0.81649658]\n",
      " [ 0.33333333  0.66666667  0.66666667  0.        ]\n",
      " [ 0.40824829 -0.40824829  0.          0.81649658]\n",
      " [ 0.31622777  0.63245553 -0.63245553 -0.31622777]\n",
      " [ 0.40824829  0.          0.81649658  0.40824829]\n",
      " [ 0.33333333  0.          0.66666667  0.66666667]\n",
      " [ 0.          0.40824829  0.81649658  0.40824829]\n",
      " [ 0.40824829  0.         -0.40824829 -0.81649658]\n",
      " [ 0.66666667  0.          0.66666667 -0.33333333]\n",
      " [ 0.40824829  0.         -0.81649658 -0.40824829]\n",
      " [ 0.5547002  -0.5547002   0.5547002  -0.2773501 ]\n",
      " [ 0.37796447  0.75592895 -0.37796447 -0.37796447]\n",
      " [ 0.          0.81649658 -0.40824829 -0.40824829]\n",
      " [ 0.75592895 -0.37796447 -0.37796447 -0.37796447]\n",
      " [ 0.31622777 -0.63245553 -0.31622777  0.63245553]\n",
      " [ 0.5547002  -0.5547002  -0.2773501  -0.5547002 ]\n",
      " [ 0.63245553  0.31622777  0.31622777  0.63245553]\n",
      " [ 0.63245553  0.31622777  0.63245553 -0.31622777]\n",
      " [ 0.2773501  -0.5547002   0.5547002  -0.5547002 ]\n",
      " [ 0.66666667  0.         -0.66666667  0.33333333]\n",
      " [ 0.40824829  0.40824829  0.         -0.81649658]\n",
      " [ 0.75592895  0.37796447 -0.37796447  0.37796447]\n",
      " [ 0.37796447 -0.75592895 -0.37796447  0.37796447]\n",
      " [ 0.66666667  0.          0.33333333 -0.66666667]\n",
      " [ 0.37796447 -0.75592895 -0.37796447 -0.37796447]\n",
      " [ 0.          0.40824829  0.40824829  0.81649658]\n",
      " [ 0.81649658 -0.40824829  0.          0.40824829]]\n"
     ]
    }
   ],
   "source": [
    "# test with a real trajectory: see how long it takes\n",
    "gro_name = \"H2O_H2O_0095\"\n",
    "traj_name = \"H2O_H2O_0095_25000\"\n",
    "b_selection = SphereGrid4DFactory().create(alg_name=\"cube4D\", N=80).get_grid_as_array()\n",
    "traj_universe = mda.Universe(f\"{PATH_OUTPUT_PT}H2O_H2O_0095.gro\", f\"{PATH_OUTPUT_PT}H2O_H2O_0095_25000.xtc\")\n",
    "\n",
    "print(f\"Assigning 25000 frames to 80 quaternions\")\n",
    "print(b_selection)\n",
    "\n",
    "quaternion_assignments = assign_2_b_grid(traj_universe, b_selection, H2O_reference_universe, H2O_second_mol)"
   ]
  },
  {
   "cell_type": "code",
   "execution_count": 74,
   "id": "67d49c82",
   "metadata": {
    "ExecuteTime": {
     "end_time": "2024-02-09T11:47:36.221293Z",
     "start_time": "2024-02-09T11:47:35.923102Z"
    }
   },
   "outputs": [
    {
     "name": "stdout",
     "output_type": "stream",
     "text": [
      "Most popular assignments are [20 33 32] with population [ 644  817 1103]\n"
     ]
    },
    {
     "data": {
      "image/png": "[encoded data removed]",
      "text/plain": [
       "<Figure size 640x480 with 1 Axes>"
      ]
     },
     "metadata": {},
     "output_type": "display_data"
    }
   ],
   "source": [
    "# make a histogram of most populated quaternions\n",
    "sns.histplot(quaternion_assignments, stat=\"count\", bins=np.arange(81))\n",
    "\n",
    "popular, counts = np.unique(quaternion_assignments, return_counts=True)\n",
    "max_counts = k_argmax_in_array(counts, 3)\n",
    "print(f\"Most popular assignments are {popular[max_counts]} with population {counts[max_counts]}\")"
   ]
  },
  {
   "cell_type": "code",
   "execution_count": 75,
   "id": "3ae814e3",
   "metadata": {
    "ExecuteTime": {
     "end_time": "2024-02-09T11:47:56.187710Z",
     "start_time": "2024-02-09T11:47:44.275771Z"
    },
    "scrolled": false
   },
   "outputs": [
    {
     "name": "stdout",
     "output_type": "stream",
     "text": [
      "[1372, 1373, 1374, 1375, 1376, 1377, 1378, 1379, 1380, 1381, 1382, 1383, 1384, 1385, 1386, 1387, 1388, 1389, 1390, 1391, 1392, 1393, 1394, 1395, 1396, 1397, 1398, 1399, 1400, 1401, 1402, 3087, 3088, 3089, 3090, 3091, 3092, 3093, 3094, 3095, 3096, 3097, 3098, 3099, 3100, 3101, 3102, 3103, 3104, 3105, 4055, 4056, 4057, 4058, 4059, 4060, 4061, 4062, 4063, 4064, 4065, 4066, 4067, 4068, 4069, 4438, 4439, 4440, 4441, 4442, 4443, 4444, 4445, 4446, 4447, 4448, 4449, 4450, 5702, 5703, 5704, 5705, 5706, 6892, 6893, 6894, 6895, 6896, 6897, 6898, 7018, 7019, 7020, 7021, 7022, 7023, 7024, 7025, 7026, 7027, 7028, 7228, 7229, 7230, 7231, 7232, 7233, 7234, 7235, 7236, 7237, 7238, 7239, 7240, 7241, 9658, 9659, 9660, 9661, 9662, 9663, 9664, 9665, 9956, 9957, 9958, 9959, 9960, 9961, 9962, 9963, 9964, 9965, 9966, 9967, 9968, 9969, 9970, 9971, 9972, 11750, 11751, 11752, 11753, 11754, 11755, 11756, 11757, 11758, 11759, 11760, 11761, 11762, 11763, 12324, 12325, 12326, 12327, 12328, 12329, 12330, 12331, 12332, 12333, 12334, 14724, 14725, 14726, 14727, 14728, 14729, 14730, 14731, 14732, 14733, 14734, 14735, 14736, 14737, 14738, 14739, 14740, 14741, 14742, 14743, 14744, 14745, 14746, 14747, 14748, 14749, 14750, 14751, 14752, 14753, 14754, 14755, 14756, 14757, 14758, 19511, 19512, 19513, 19514, 19515, 19516, 19517, 19518, 20953, 20954, 20955, 20956, 20957, 20958, 20959, 20960, 20961, 20962, 20963, 20964, 20965, 20966, 20967, 20968, 20969, 20970, 20971, 20972, 23106, 23107, 23108, 23109, 23110, 23111, 23112, 23113, 23114, 23115, 23116, 23117, 23118, 23119, 23120, 23121, 23122]\n"
     ]
    },
    {
     "data": {
      "application/vnd.jupyter.widget-view+json": {
       "model_id": "a7230a358f794fa5b1b56d8c12931f2a",
       "version_major": 2,
       "version_minor": 0
      },
      "text/plain": [
       "NGLWidget()"
      ]
     },
     "metadata": {},
     "output_type": "display_data"
    }
   ],
   "source": [
    "# plot some frames of a real trajectory that belong to the same quaternion grid point\n",
    "vm = ViewManager(traj_universe)\n",
    "# plot a selection (because too many) that are all assigned to grid point 21\n",
    "assigned_to_26 = np.where(quaternion_assignments == 15)[0]\n",
    "# show in VMD for a better view\n",
    "print(list(assigned_to_26))\n",
    "vm.plot_frames_overlapping(np.random.choice(assigned_to_26, 30))"
   ]
  },
  {
   "cell_type": "markdown",
   "id": "052a1d0b",
   "metadata": {},
   "source": [
    "## Full conversion 3N coordinates <-> 7D gridpoint"
   ]
  },
  {
   "cell_type": "code",
   "execution_count": null,
   "id": "861c4148",
   "metadata": {},
   "outputs": [],
   "source": []
  },
  {
   "cell_type": "code",
   "execution_count": null,
   "id": "0f06fba6",
   "metadata": {
    "ExecuteTime": {
     "end_time": "2024-02-09T10:02:48.484228Z",
     "start_time": "2024-02-09T10:02:48.484228Z"
    }
   },
   "outputs": [],
   "source": [
    "# -> direction: INPUT start coordinates (3N), 7D gridpoint; OUTPUT end coordinates (3N)\n",
    "# <- direction: INPUT end coordinates (3N), start coordinates (3N); OUTPUT 7D gridpoint"
   ]
  }
 ],
 "metadata": {
  "kernelspec": {
   "display_name": "Python 3 (ipykernel)",
   "language": "python",
   "name": "python3"
  },
  "language_info": {
   "codemirror_mode": {
    "name": "ipython",
    "version": 3
   },
   "file_extension": ".py",
   "mimetype": "text/x-python",
   "name": "python",
   "nbconvert_exporter": "python",
   "pygments_lexer": "ipython3",
   "version": "3.9.13"
  },
  "toc": {
   "base_numbering": 1,
   "nav_menu": {},
   "number_sections": true,
   "sideBar": true,
   "skip_h1_title": true,
   "title_cell": "Table of Contents",
   "title_sidebar": "Contents",
   "toc_cell": true,
   "toc_position": {},
   "toc_section_display": true,
   "toc_window_display": false
  }
 },
 "nbformat": 4,
 "nbformat_minor": 5
}
