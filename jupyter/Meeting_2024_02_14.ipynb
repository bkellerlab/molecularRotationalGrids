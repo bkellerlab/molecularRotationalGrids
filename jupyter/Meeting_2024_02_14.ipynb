{
 "cells": [
  {
   "cell_type": "markdown",
   "id": "6c92e500",
   "metadata": {
    "toc": true
   },
   "source": [
    "<h1>Table of Contents<span class=\"tocSkip\"></span></h1>\n",
    "<div class=\"toc\"><ul class=\"toc-item\"><li><span><a href=\"#Position-space\" data-toc-modified-id=\"Position-space-1\"><span class=\"toc-item-num\">1&nbsp;&nbsp;</span>Position space</a></span><ul class=\"toc-item\"><li><span><a href=\"#Translation-of-COM-instead-of-rotation-around-origin\" data-toc-modified-id=\"Translation-of-COM-instead-of-rotation-around-origin-1.1\"><span class=\"toc-item-num\">1.1&nbsp;&nbsp;</span>Translation of COM instead of rotation around origin</a></span></li><li><span><a href=\"#Determine-position-index\" data-toc-modified-id=\"Determine-position-index-1.2\"><span class=\"toc-item-num\">1.2&nbsp;&nbsp;</span>Determine position index</a></span></li></ul></li><li><span><a href=\"#Orientation-space\" data-toc-modified-id=\"Orientation-space-2\"><span class=\"toc-item-num\">2&nbsp;&nbsp;</span>Orientation space</a></span><ul class=\"toc-item\"><li><span><a href=\"#Determine-internal-coordinate-system-(principal-axes)\" data-toc-modified-id=\"Determine-internal-coordinate-system-(principal-axes)-2.1\"><span class=\"toc-item-num\">2.1&nbsp;&nbsp;</span>Determine internal coordinate system (principal axes)</a></span></li><li><span><a href=\"#Realize-that-determining-principal-axes-isn't-sufficient\" data-toc-modified-id=\"Realize-that-determining-principal-axes-isn't-sufficient-2.2\"><span class=\"toc-item-num\">2.2&nbsp;&nbsp;</span>Realize that determining principal axes isn't sufficient</a></span></li><li><span><a href=\"#Quaternion-index\" data-toc-modified-id=\"Quaternion-index-2.3\"><span class=\"toc-item-num\">2.3&nbsp;&nbsp;</span>Quaternion index</a></span></li></ul></li><li><span><a href=\"#Full-conversion-3N-coordinates-<->-7D-gridpoint\" data-toc-modified-id=\"Full-conversion-3N-coordinates-<->-7D-gridpoint-3\"><span class=\"toc-item-num\">3&nbsp;&nbsp;</span>Full conversion 3N coordinates &lt;-&gt; 7D gridpoint</a></span></li><li><span><a href=\"#MSM\" data-toc-modified-id=\"MSM-4\"><span class=\"toc-item-num\">4&nbsp;&nbsp;</span>MSM</a></span></li></ul></div>"
   ]
  },
  {
   "cell_type": "code",
   "execution_count": 1,
   "id": "dc192f96",
   "metadata": {
    "ExecuteTime": {
     "end_time": "2024-02-09T13:36:31.297920Z",
     "start_time": "2024-02-09T13:36:31.289911Z"
    }
   },
   "outputs": [],
   "source": [
    "import sys\n",
    "import os\n",
    "\n",
    "try:\n",
    "    os.chdir(r\"/home/hanaz63/PAPER_MOLECULAR_ROTATIONS_2022/nobackup/molgri\")\n",
    "    sys.path.append(r\"/home/hanaz63/PAPER_MOLECULAR_ROTATIONS_2022/nobackup\")\n",
    "except FileNotFoundError:\n",
    "    os.chdir(r\"D:\\HANA\\phD\\PAPER_2022\\molecularRotationalGrids\")\n",
    "    sys.path.append(r\"D:\\HANA\\phD\\PAPER_2022\\molecularRotationalGrids\")\n",
    "    \n",
    "import warnings\n",
    "warnings.filterwarnings(\"ignore\")"
   ]
  },
  {
   "cell_type": "code",
   "execution_count": 14,
   "id": "9ed51bac",
   "metadata": {
    "ExecuteTime": {
     "end_time": "2024-02-09T13:39:36.314136Z",
     "start_time": "2024-02-09T13:39:36.299595Z"
    }
   },
   "outputs": [],
   "source": [
    "import numpy as np\n",
    "from numpy.typing import NDArray\n",
    "import MDAnalysis as mda\n",
    "from scipy.spatial.distance import cdist\n",
    "from scipy.spatial.transform import Rotation\n",
    "from MDAnalysis.analysis.base import AnalysisFromFunction\n",
    "import seaborn as sns\n",
    "\n",
    "from molgri.plotting.widgets import ViewManager\n",
    "from molgri.paths import PATH_OUTPUT_PT, PATH_INPUT_BASEGRO\n",
    "from molgri.space.fullgrid import FullGrid\n",
    "from molgri.space.utils import normalise_vectors, k_argmax_in_array, distance_between_quaternions, q_in_upper_sphere\n",
    "\n",
    "sns.set_context(\"notebook\")"
   ]
  },
  {
   "cell_type": "markdown",
   "id": "9ccda853",
   "metadata": {},
   "source": [
    "## Position space\n"
   ]
  },
  {
   "cell_type": "markdown",
   "id": "90cd94eb",
   "metadata": {},
   "source": [
    "\n",
    "### Translation of COM instead of rotation around origin"
   ]
  },
  {
   "cell_type": "code",
   "execution_count": 15,
   "id": "9bc46965",
   "metadata": {
    "ExecuteTime": {
     "end_time": "2024-02-09T13:39:40.555617Z",
     "start_time": "2024-02-09T13:39:39.283321Z"
    }
   },
   "outputs": [],
   "source": [
    "# generated a file with\n",
    "# python -m molgri.scripts.generate_pt -m1 H2O -m2 H2O -o \"12\" -b \"8\" -t \"linspace(0.2, 1, 5)\" --recal\n",
    "pt_name = \"H2O_H2O_0528\"\n",
    "pt_universe = mda.Universe(f\"{PATH_OUTPUT_PT}{pt_name}.gro\",\n",
    "                           f\"{PATH_OUTPUT_PT}{pt_name}.trr\")\n",
    "len_pt = len(pt_universe.trajectory)\n",
    "\n",
    "vm = ViewManager(pt_universe)\n",
    "# plot every 8th frame\n",
    "# because we have 8 orientations, every 8th structure should be translated version of each other\n",
    "every_eighth_0 = np.arange(0, len_pt, 8)\n",
    "print(list(every_eighth_0))\n",
    "vm.plot_frames_overlapping(every_eighth_0[20:30])"
   ]
  },
  {
   "cell_type": "code",
   "execution_count": 16,
   "id": "51b144b3",
   "metadata": {
    "ExecuteTime": {
     "end_time": "2024-02-09T13:39:41.751979Z",
     "start_time": "2024-02-09T13:39:40.555617Z"
    }
   },
   "outputs": [],
   "source": [
    "vm.fresh_view()\n",
    "every_eighth_3 = np.arange(3, len_pt, 8)\n",
    "# similar thing for another class of identical orientations\n",
    "print(list(every_eighth_3))\n",
    "vm.plot_frames_overlapping(every_eighth_3[20:30])"
   ]
  },
  {
   "cell_type": "markdown",
   "id": "17bc6a0e",
   "metadata": {},
   "source": [
    "### Determine position index"
   ]
  },
  {
   "cell_type": "code",
   "execution_count": 17,
   "id": "0e151882",
   "metadata": {
    "ExecuteTime": {
     "end_time": "2024-02-09T13:39:41.767866Z",
     "start_time": "2024-02-09T13:39:41.751979Z"
    }
   },
   "outputs": [],
   "source": [
    "# separately determine index in the radial direction and on the sphere, then combine\n",
    "\n",
    "def assign_2_t_grid(my_trajectory: mda.Universe, t_grid_points: NDArray,\n",
    "                         second_molecule: str) -> NDArray:\n",
    "    \"\"\"\n",
    "    Given a trajectoryand an array of available radial (t-grid) points, assign each frame of the trajectory\n",
    "    to the closest radial point.\n",
    "    \n",
    "    Args:\n",
    "        my_trajectory: a Universe of two molecules\n",
    "        radial_grid_points: a sorted array of available radial grid distances in A like [2, 4, 6]\n",
    "        second_molecule: a string that tdefines which part of the Universe is a moving molecule\n",
    "    \n",
    "    Returns:\n",
    "        an integer array as long as the trajectory, each element an index of the closest point of the radial grid\n",
    "        like [0, 0, 0, 1, 1, 1, 2 ...] (for a PT with 3 orientations)\n",
    "    \"\"\"\n",
    "    t_selection = AnalysisFromFunction(lambda ag: np.argmin(np.abs(t_grid_points-np.linalg.norm(ag.center_of_mass())), axis=0),\n",
    "                                     my_trajectory.trajectory,\n",
    "                                     my_trajectory.select_atoms(second_molecule))\n",
    "    t_selection.run()\n",
    "    t_indices = t_selection.results['timeseries'].flatten()\n",
    "    return t_indices\n",
    "\n",
    "def assign_2_o_grid(my_trajectory: mda.Universe, o_grid_points: NDArray, \n",
    "                           second_molecule: str) -> NDArray:\n",
    "    \"\"\"\n",
    "    Assign every frame of the trajectory (or PT) to the best fitting point of position grid\n",
    "\n",
    "    Returns:\n",
    "        an array of position grid indices\n",
    "    \"\"\"\n",
    "    # now using a normalized com and a metric on a sphere, determine which of o_grid_points is closest\n",
    "    o_selection = AnalysisFromFunction(lambda ag: np.argmin(cdist(o_grid_points, normalise_vectors(\n",
    "        ag.center_of_mass())[np.newaxis, :], metric=\"cos\"), axis=0),\n",
    "                                     my_trajectory.trajectory,\n",
    "                                     my_trajectory.select_atoms(second_molecule))\n",
    "    o_selection.run()\n",
    "    o_indices = o_selection.results['timeseries'].flatten()\n",
    "    return o_indices\n",
    "\n",
    "def assign_2_position_grid(my_trajectory: mda.Universe, o_grid_points: NDArray, t_grid_points: NDArray,\n",
    "                         second_molecule: str):\n",
    "    \"\"\"\n",
    "    Combine assigning to t_grid and o_grid.\n",
    "    \"\"\"\n",
    "    t_assignments = assign_2_t_grid(my_trajectory=my_trajectory, t_grid_points=t_grid_points, \n",
    "                                    second_molecule=second_molecule)\n",
    "    o_assignments = assign_2_o_grid(my_trajectory=my_trajectory, o_grid_points=o_grid_points,\n",
    "                                   second_molecule=second_molecule)\n",
    "    # sum up the layer index and o index correctly\n",
    "    return np.array(t_assignments * len(o_grid_points) + o_assignments, dtype=int)\n"
   ]
  },
  {
   "cell_type": "code",
   "execution_count": 18,
   "id": "c91be9ed",
   "metadata": {
    "ExecuteTime": {
     "end_time": "2024-02-09T13:39:42.083042Z",
     "start_time": "2024-02-09T13:39:41.767866Z"
    }
   },
   "outputs": [],
   "source": [
    "# test with a PT\n",
    "\n",
    "my_second_molecule = \"bynum 4:6\"\n",
    "my_full_grid = FullGrid(b_grid_name=\"8\", o_grid_name=\"12\", t_grid_name=\"linspace(0.2, 1, 5)\")\n",
    "position_assignments = assign_2_position_grid(pt_universe, my_full_grid.get_o_grid().get_grid_as_array(), \n",
    "                       my_full_grid.get_radii(), my_second_molecule)\n",
    "print(position_assignments)\n",
    "# test: a PT should have the first 8 elements in position 0, then 8 in position 1 ...\n",
    "expected_assignments = np.repeat(np.arange(12*5), 8)\n",
    "assert np.all(position_assignments == expected_assignments)"
   ]
  },
  {
   "cell_type": "code",
   "execution_count": 19,
   "id": "2ce6cdcb",
   "metadata": {
    "ExecuteTime": {
     "end_time": "2024-02-09T13:39:48.596443Z",
     "start_time": "2024-02-09T13:39:42.083042Z"
    }
   },
   "outputs": [],
   "source": [
    "# test with a real trajectory: see how long it takes\n",
    "gro_name = \"H2O_H2O_0095\"\n",
    "traj_name = \"H2O_H2O_0095_25000\"\n",
    "traj_universe = mda.Universe(f\"{PATH_OUTPUT_PT}{gro_name}.gro\", f\"{PATH_OUTPUT_PT}{traj_name}.xtc\")\n",
    "\n",
    "print(f\"Assigning 25000 frames to 25x20={25*20} positions\")\n",
    "traj_full_grid = FullGrid(b_grid_name=\"20\", o_grid_name=\"25\", t_grid_name=\"linspace(0.2, 1.5, 20)\")\n",
    "position_assignments = assign_2_position_grid(traj_universe, traj_full_grid.get_o_grid().get_grid_as_array(), \n",
    "                       traj_full_grid.get_radii(), my_second_molecule)"
   ]
  },
  {
   "cell_type": "code",
   "execution_count": 20,
   "id": "6808ca88",
   "metadata": {
    "ExecuteTime": {
     "end_time": "2024-02-09T13:39:49.365907Z",
     "start_time": "2024-02-09T13:39:48.596443Z"
    }
   },
   "outputs": [],
   "source": [
    "# make a histogram of most populated positions\n",
    "sns.histplot(position_assignments, stat=\"count\", bins=np.arange(501))\n",
    "\n",
    "popular, counts = np.unique(position_assignments, return_counts=True)\n",
    "max_counts = k_argmax_in_array(counts, 10)\n",
    "print(f\"Most popular assignments are {popular[max_counts]} with population {counts[max_counts]}\")"
   ]
  },
  {
   "cell_type": "code",
   "execution_count": 21,
   "id": "e85df31c",
   "metadata": {
    "ExecuteTime": {
     "end_time": "2024-02-09T13:39:58.863852Z",
     "start_time": "2024-02-09T13:39:49.365907Z"
    }
   },
   "outputs": [],
   "source": [
    "# plot some frames of a real trajectory that belong to the same position grid point\n",
    "vm = ViewManager(traj_universe)\n",
    "# plot a selection (because too many) that are all assigned to grid point 26\n",
    "assigned_to_26 = np.where(position_assignments == 26)[0]\n",
    "# show in VMD for a better view\n",
    "print(list(assigned_to_26))\n",
    "vm.plot_frames_overlapping(np.random.choice(assigned_to_26, 30))"
   ]
  },
  {
   "cell_type": "code",
   "execution_count": 22,
   "id": "0b23e4cb",
   "metadata": {
    "ExecuteTime": {
     "end_time": "2024-02-09T13:40:08.223082Z",
     "start_time": "2024-02-09T13:39:58.863852Z"
    }
   },
   "outputs": [],
   "source": [
    "# try another one\n",
    "vm.fresh_view()\n",
    "# plot a selection (because too many) that are all assigned to grid point 477\n",
    "assigned_to_477 = np.where(position_assignments == 477)[0]\n",
    "# show in VMD for a better view\n",
    "print(list(assigned_to_477))\n",
    "vm.plot_frames_overlapping(np.random.choice(assigned_to_477, 30))"
   ]
  },
  {
   "cell_type": "markdown",
   "id": "67e7eabf",
   "metadata": {},
   "source": [
    "## Orientation space"
   ]
  },
  {
   "cell_type": "markdown",
   "id": "efc8a18b",
   "metadata": {},
   "source": [
    "### Determine internal coordinate system (principal axes)"
   ]
  },
  {
   "cell_type": "code",
   "execution_count": 23,
   "id": "5387e393",
   "metadata": {
    "ExecuteTime": {
     "end_time": "2024-02-09T13:40:08.286147Z",
     "start_time": "2024-02-09T13:40:08.223082Z"
    }
   },
   "outputs": [],
   "source": [
    "# determine principal axes\n",
    "second_molecule = \"bynum 4:6\"\n",
    "\n",
    "# principal axes of the first frame\n",
    "pa_zero = pt_universe.select_atoms(second_molecule).principal_axes()\n",
    "com_zero = pt_universe.select_atoms(second_molecule).center_of_mass()\n",
    "print(np.round(pa_zero, 3))\n",
    "print(com_zero+pa_zero[0])\n",
    "\n",
    "# display principal axes of first frame\n",
    "vm = ViewManager(pt_universe)\n",
    "vm.fresh_view()\n",
    "vm.plot_ith_frame(0)\n",
    "vm.add_principal_axes(com_zero, pa_zero)\n",
    "vm.view\n",
    "\n"
   ]
  },
  {
   "cell_type": "code",
   "execution_count": 24,
   "id": "e934db98",
   "metadata": {
    "ExecuteTime": {
     "end_time": "2024-02-09T13:40:08.725602Z",
     "start_time": "2024-02-09T13:40:08.286147Z"
    }
   },
   "outputs": [],
   "source": [
    "vm.fresh_view()\n",
    "\n",
    "# principal axes change in relation to the stationary coordinate system when the molecule is re-oriented\n",
    "# but they remain the same in relation to the molecule itself\n",
    "\n",
    "# using some selected PT frames for demonstration\n",
    "for i in [20, 63, 284]:\n",
    "    pt_universe.trajectory[i]\n",
    "    pa_current = pt_universe.select_atoms(second_molecule).principal_axes()\n",
    "    com_current = pt_universe.select_atoms(second_molecule).center_of_mass()\n",
    "    print(np.round(pa_current, 3))\n",
    "\n",
    "    # display this\n",
    "    vm.plot_ith_frame(i)\n",
    "    vm.add_principal_axes(com_current, pa_current)\n",
    "vm.view"
   ]
  },
  {
   "cell_type": "markdown",
   "id": "5c5a99bb",
   "metadata": {},
   "source": [
    "... well, almost the same\n",
    "\n",
    "### Realize that determining principal axes isn't sufficient"
   ]
  },
  {
   "cell_type": "code",
   "execution_count": 25,
   "id": "e39e808d",
   "metadata": {
    "ExecuteTime": {
     "end_time": "2024-02-09T13:40:09.821860Z",
     "start_time": "2024-02-09T13:40:08.725602Z"
    }
   },
   "outputs": [],
   "source": [
    "# LESSION LEARNED: principal axes are axes and NOT vectors - their direction is NOT clearly defined\n",
    "# see also: https://math.stackexchange.com/questions/145023/rotation-matrix-from-an-inertia-tensor\n",
    "\n",
    "# python -m molgri.scripts.generate_pt -m1 H2O -m2 H2O -o \"1\" -b \"20\" -t \"1\" --recal\n",
    "from molgri.space.rotobj import SphereGrid4DFactory\n",
    "b_selection = SphereGrid4DFactory().create(alg_name=\"cube4D\", N=20).get_grid_as_array()\n",
    "b_universe = mda.Universe(f\"{PATH_OUTPUT_PT}H2O_H2O_0407.gro\", f\"{PATH_OUTPUT_PT}H2O_H2O_0407.xtc\")\n",
    "\n",
    "vm = ViewManager(b_universe)\n",
    "vm.fresh_view()\n",
    "reference_structure = mda.Universe(f\"{PATH_INPUT_BASEGRO}H2O.gro\")\n",
    "reference_principal_axes = reference_structure.atoms.principal_axes()\n",
    "\n",
    "for i in range(17, 18):\n",
    "    b_universe.trajectory[i]\n",
    "    reference_structure = mda.Universe(f\"{PATH_INPUT_BASEGRO}H2O.gro\")\n",
    "    reference_principal_axes = reference_structure.atoms.principal_axes()\n",
    "    my_R = Rotation(b_selection[i]).as_matrix()\n",
    "    expected_pa = Rotation(b_selection[i]).apply(reference_principal_axes)\n",
    "    #expected_pa = (my_R @ reference_principal_axes.T).T\n",
    "\n",
    "    print(\"my R @ ref\", np.round(expected_pa, 3))\n",
    "\n",
    "    current_principal_axes = b_universe.select_atoms(second_molecule).principal_axes()\n",
    "    com_current = b_universe.select_atoms(second_molecule).center_of_mass()\n",
    "    print(\"end_pa\", np.round(current_principal_axes, 3))\n",
    "    vm.plot_ith_frame(i)\n",
    "    vm.add_principal_axes(com_current, expected_pa)\n",
    "    vm.add_principal_axes(com_current, current_principal_axes)\n",
    "vm.view"
   ]
  },
  {
   "cell_type": "code",
   "execution_count": 26,
   "id": "740f0c3b",
   "metadata": {
    "ExecuteTime": {
     "end_time": "2024-02-09T13:40:11.097668Z",
     "start_time": "2024-02-09T13:40:09.821860Z"
    }
   },
   "outputs": [],
   "source": [
    "# LESSONS LEARNED\n",
    "# 1. symmetry of water is a problem\n",
    "# 2. need to save in a higher precision file trr\n",
    "# 3. need to round structures read from files otherwise values very close to zero can throw off \n",
    "#    quaternion projection to correct hemisphere\n",
    "\n",
    "def determine_positive_directions(current_universe, second_molecule):\n",
    "    pas = current_universe.select_atoms(second_molecule).principal_axes()\n",
    "    com = current_universe.select_atoms(second_molecule).center_of_mass()\n",
    "    directions = [0, 0, 0]\n",
    "    for atom_pos in current_universe.select_atoms(second_molecule).positions:\n",
    "        for i, pa in enumerate(pas):\n",
    "            # need to round to avoid problems - assigning direction with atoms very close to 0\n",
    "            cosalpha = np.round(pa.dot(atom_pos-com), 6)\n",
    "            directions[i] = np.sign(cosalpha)\n",
    "        if not np.any(np.isclose(directions,0)):\n",
    "            break\n",
    "    # TODO: if exactly one unknown use the other two and properties of righthanded systems to get third\n",
    "    if np.sum(np.isclose(directions,0)) == 1:\n",
    "        # only these combinations of directions are possible in righthanded coordinate systems\n",
    "        allowed_righthanded = [[1, 1, 1], [-1, 1, -1], [1, -1, -1], [-1, -1, 1]]\n",
    "        for ar in allowed_righthanded:\n",
    "            # exactly two identical (and the third is zero)\n",
    "            if np.sum(np.isclose(ar, directions)) == 2:\n",
    "                directions = ar\n",
    "                break\n",
    "    # if two (or three - that would just be an atom) unknowns raise an error\n",
    "    elif np.sum(np.isclose(directions,0)) > 1:\n",
    "        raise ValueError(\"All atoms perpendicular to at least one of principal axes, can´t determine direction.\")\n",
    "    return np.array(directions)\n",
    "\n",
    "# saved PT\n",
    "my_new_u = mda.Universe(f\"{PATH_OUTPUT_PT}glucose_glucose_0025.gro\", f\"{PATH_OUTPUT_PT}glucose_glucose_0025.trr\")\n",
    "b_selection = SphereGrid4DFactory().create(alg_name=\"cube4D\", N=20).get_grid_as_array()\n",
    "second_molecule_glu = \"bynum 13:24\"\n",
    "\n",
    "# reference structure\n",
    "reference_structure = mda.Universe(f\"{PATH_INPUT_BASEGRO}glucose.xyz\")\n",
    "second_molecule_ref = \"bynum 1:12\"\n",
    "reference_principal_axes = reference_structure.atoms.principal_axes().T\n",
    "inverse_pa = np.linalg.inv(reference_principal_axes)\n",
    "reference_direction = determine_positive_directions(reference_structure, second_molecule_ref)\n",
    "\n",
    "# frame 0: q3 in direction C-O, frame 1: q3 in direction O\n",
    "for i in range(20):\n",
    "    my_new_u.trajectory[i]\n",
    "    com_current = my_new_u.select_atoms(second_molecule_glu).center_of_mass()\n",
    "    current_principal_axes = my_new_u.select_atoms(second_molecule_glu).principal_axes().T\n",
    "    current_directions = determine_positive_directions(my_new_u, second_molecule_glu)\n",
    "    direction = current_directions * reference_direction\n",
    "    produkt = np.multiply(current_principal_axes, np.tile(direction, (3, 1))) @ inverse_pa\n",
    "    calc_quat = np.round(Rotation.from_matrix(produkt).as_quat(), 6) \n",
    "    if not q_in_upper_sphere(calc_quat):\n",
    "        calc_quat = -calc_quat\n",
    "    print(current_directions)\n",
    "    print(np.allclose(b_selection[i], calc_quat, atol=1e-5, rtol=1e-5), b_selection[i], calc_quat)"
   ]
  },
  {
   "cell_type": "code",
   "execution_count": 27,
   "id": "f5a02c66",
   "metadata": {
    "ExecuteTime": {
     "end_time": "2024-02-09T13:40:12.089072Z",
     "start_time": "2024-02-09T13:40:11.097668Z"
    }
   },
   "outputs": [],
   "source": [
    "#python -m molgri.scripts.generate_pt -m1 H2O_a -m2 H2O_a -o \"1\" -b \"20\" -t \"0.3\" --recal --extension_structure gro --extension_trajectory trr\n",
    "\n",
    "\n",
    "# saved PT\n",
    "my_new_u = mda.Universe(f\"{PATH_OUTPUT_PT}H2O_a_H2O_a_0000.gro\", f\"{PATH_OUTPUT_PT}H2O_a_H2O_a_0000.trr\")\n",
    "b_selection = SphereGrid4DFactory().create(alg_name=\"cube4D\", N=20).get_grid_as_array()\n",
    "second_molecule_glu = \"bynum 4:6\"\n",
    "\n",
    "# reference structure\n",
    "reference_structure = mda.Universe(f\"{PATH_INPUT_BASEGRO}H2O_a.gro\")\n",
    "second_molecule_ref = \"bynum 1:3\"\n",
    "reference_principal_axes = reference_structure.atoms.principal_axes().T\n",
    "inverse_pa = np.linalg.inv(reference_principal_axes)\n",
    "reference_direction = determine_positive_directions(reference_structure, second_molecule_ref)\n",
    "\n",
    "# frame 0: q3 in direction C-O, frame 1: q3 in direction O\n",
    "for i in range(20):\n",
    "    my_new_u.trajectory[i]\n",
    "    com_current = my_new_u.select_atoms(second_molecule_glu).center_of_mass()\n",
    "    current_principal_axes = my_new_u.select_atoms(second_molecule_glu).principal_axes().T\n",
    "    current_directions = determine_positive_directions(my_new_u, second_molecule_glu)\n",
    "    direction = current_directions * reference_direction\n",
    "    produkt = np.multiply(current_principal_axes, np.tile(direction, (3, 1))) @ inverse_pa\n",
    "    calc_quat = np.round(Rotation.from_matrix(produkt).as_quat(), 6) \n",
    "    if not q_in_upper_sphere(calc_quat):\n",
    "        calc_quat = -calc_quat\n",
    "    print(np.allclose(b_selection[i], calc_quat, atol=1e-6, rtol=1e-5), b_selection[i], calc_quat)"
   ]
  },
  {
   "cell_type": "markdown",
   "id": "2b8e0ece",
   "metadata": {},
   "source": [
    "In summary:\n",
    "- save and use (pseudo)trajectories in high-precision TRR format\n",
    "- determine principal axes of the reference structure and every frame of the PT\n",
    "- determine direction of each PA from the coordinates of the first atom that isn't perpendicular to it\n",
    "- if a molecule is planar, you can still determine directions from right-handedness of PAs\n",
    "\n",
    "TODO:\n",
    "- now assign to gridpoints\n",
    "- need a better symmetry handling for linear molecules"
   ]
  },
  {
   "cell_type": "markdown",
   "id": "9397555b",
   "metadata": {},
   "source": [
    "### Quaternion index"
   ]
  },
  {
   "cell_type": "code",
   "execution_count": 28,
   "id": "cb928652",
   "metadata": {
    "ExecuteTime": {
     "end_time": "2024-02-09T13:40:22.191078Z",
     "start_time": "2024-02-09T13:40:12.089072Z"
    },
    "scrolled": true
   },
   "outputs": [],
   "source": [
    "def assign_2_b_grid(my_trajectory: mda.Universe, b_grid_points: NDArray, reference_universe: mda.Universe,\n",
    "                           second_molecule: str) -> NDArray:\n",
    "    \"\"\"\n",
    "    Assign every frame of the trajectory to the closest quaternion from the b_grid_points.\n",
    "    \n",
    "    Args:\n",
    "        my_trajectory: consists of two molecules and multiple frames\n",
    "        b_grid_points: a (N, 4) array of unit quaternions\n",
    "        reference_universe: consists of only one molecule in a single frame\n",
    "        second_molecule: defines which molecule interests us in my_trajectory\n",
    "    \"\"\"\n",
    "    # find PA and direction of reference structure\n",
    "    reference_principal_axes = reference_universe.atoms.principal_axes().T\n",
    "    inverse_pa = np.linalg.inv(reference_principal_axes)\n",
    "    reference_direction = determine_positive_directions(reference_universe, \"all\")\n",
    "    \n",
    "    # find PA and direction along trajectory\n",
    "    pa_frames =  AnalysisFromFunction(lambda ag: ag.principal_axes().T, my_trajectory.trajectory,\n",
    "                                     my_trajectory.select_atoms(second_molecule))\n",
    "    pa_frames.run()\n",
    "    pa_frames = pa_frames.results['timeseries']\n",
    "    \n",
    "    direction_frames = AnalysisFromFunction(lambda ag: np.tile(determine_positive_directions(ag, \"all\"), (3, 1)), \n",
    "                                            my_trajectory.trajectory,\n",
    "                                            my_trajectory.select_atoms(second_molecule))\n",
    "    direction_frames.run()\n",
    "    direction_frames = direction_frames.results['timeseries']\n",
    "    directed_pas = np.multiply(pa_frames, direction_frames)\n",
    "    produkt = np.matmul(directed_pas, inverse_pa)\n",
    "    # get the quaternions that caused the rotation from reference to each frame\n",
    "    calc_quat = np.round(Rotation.from_matrix(produkt).as_quat(), 6)\n",
    "    # now using a quaternion metric, determine which of b_grid_points is closest\n",
    "\n",
    "    b_indices = np.argmin(cdist(b_grid_points, calc_quat, metric=distance_between_quaternions), axis=0)\n",
    "    # almost everything correct but the order is somehow mixed???\n",
    "    return b_indices\n",
    "\n",
    "# water PT example\n",
    "H2O_pt_name = \"H2O_H2O_0528\"\n",
    "H2O_pt_universe = mda.Universe(f\"{PATH_OUTPUT_PT}{H2O_pt_name}.gro\",\n",
    "                           f\"{PATH_OUTPUT_PT}{H2O_pt_name}.trr\")\n",
    "H2O_second_mol = \"bynum 4:6\"\n",
    "H2O_reference_universe = mda.Universe(f\"{PATH_INPUT_BASEGRO}H2O.gro\")\n",
    "H2O_full_grid = FullGrid(b_grid_name=\"8\", o_grid_name=\"12\", t_grid_name=\"linspace(0.2, 1, 5)\", use_saved=False)\n",
    "H2O_b_grid = my_full_grid.b_rotations.get_grid_as_array()\n",
    "                                      \n",
    "assignments_quaternion_pt = assign_2_b_grid(H2O_pt_universe, H2O_b_grid, H2O_reference_universe, H2O_second_mol)\n",
    "print(assignments_quaternion_pt)\n",
    "vm = ViewManager(H2O_pt_universe)\n",
    "# plot a selection (because too many) that are all assigned to grid point 21\n",
    "assigned_to_26 = np.where(assignments_quaternion_pt == 1)[0]\n",
    "# show in VMD for a better view\n",
    "print(list(assigned_to_26))\n",
    "vm.plot_frames_overlapping(np.random.choice(assigned_to_26, 30))"
   ]
  },
  {
   "cell_type": "code",
   "execution_count": 29,
   "id": "2ccddfd1",
   "metadata": {
    "ExecuteTime": {
     "end_time": "2024-02-09T13:42:25.525396Z",
     "start_time": "2024-02-09T13:40:22.191078Z"
    }
   },
   "outputs": [],
   "source": [
    "# test with a real trajectory: see how long it takes\n",
    "gro_name = \"H2O_H2O_0095\"\n",
    "traj_name = \"H2O_H2O_0095_25000\"\n",
    "b_selection = SphereGrid4DFactory().create(alg_name=\"cube4D\", N=80).get_grid_as_array()\n",
    "traj_universe = mda.Universe(f\"{PATH_OUTPUT_PT}H2O_H2O_0095.gro\", f\"{PATH_OUTPUT_PT}H2O_H2O_0095_25000.xtc\")\n",
    "\n",
    "print(f\"Assigning 25000 frames to 80 quaternions\")\n",
    "print(b_selection)\n",
    "\n",
    "quaternion_assignments = assign_2_b_grid(traj_universe, b_selection, H2O_reference_universe, H2O_second_mol)"
   ]
  },
  {
   "cell_type": "code",
   "execution_count": 30,
   "id": "4ec5bd50",
   "metadata": {
    "ExecuteTime": {
     "end_time": "2024-02-09T13:42:25.969657Z",
     "start_time": "2024-02-09T13:42:25.526906Z"
    }
   },
   "outputs": [],
   "source": [
    "# make a histogram of most populated quaternions\n",
    "sns.histplot(quaternion_assignments, stat=\"count\", bins=np.arange(81))\n",
    "\n",
    "popular, counts = np.unique(quaternion_assignments, return_counts=True)\n",
    "max_counts = k_argmax_in_array(counts, 3)\n",
    "print(f\"Most popular assignments are {popular[max_counts]} with population {counts[max_counts]}\")"
   ]
  },
  {
   "cell_type": "code",
   "execution_count": 31,
   "id": "f2be0439",
   "metadata": {
    "ExecuteTime": {
     "end_time": "2024-02-09T13:42:36.396174Z",
     "start_time": "2024-02-09T13:42:25.969657Z"
    },
    "scrolled": false
   },
   "outputs": [],
   "source": [
    "# plot some frames of a real trajectory that belong to the same quaternion grid point\n",
    "vm = ViewManager(traj_universe)\n",
    "# plot a selection (because too many) that are all assigned to grid point 21\n",
    "assigned_to_26 = np.where(quaternion_assignments == 15)[0]\n",
    "# show in VMD for a better view\n",
    "print(list(assigned_to_26))\n",
    "vm.plot_frames_overlapping(np.random.choice(assigned_to_26, 30))"
   ]
  },
  {
   "cell_type": "markdown",
   "id": "63c443d3",
   "metadata": {},
   "source": [
    "## Full conversion 3N coordinates <-> 7D gridpoint"
   ]
  },
  {
   "cell_type": "code",
   "execution_count": null,
   "id": "d5f14e19",
   "metadata": {
    "ExecuteTime": {
     "start_time": "2024-02-09T13:39:43.769Z"
    }
   },
   "outputs": [],
   "source": [
    "def full_assignment(position_assignment, quaternion_assignment, num_quaternions):\n",
    "    return position_assignment*num_quaternions + quaternion_assignment\n",
    "\n",
    "fg = FullGrid(b_grid_name=\"40\", o_grid_name=\"42\", t_grid_name=\"linspace(0.2, 1, 20)\")\n",
    "b_grid = fg.b_rotations.get_grid_as_array()\n",
    "o_grid = fg.get_o_grid().get_grid_as_array()\n",
    "t_grid = fg.get_radii()\n",
    "\n",
    "position_assignments = assign_2_position_grid(traj_universe, o_grid, \n",
    "                       t_grid, H2O_second_mol)\n",
    "quaternion_assignments = assign_2_b_grid(traj_universe, b_grid, H2O_reference_universe, H2O_second_mol)\n",
    "\n",
    "full_assignments = full_assignment(position_assignments, quaternion_assignments, len(b_grid))"
   ]
  },
  {
   "cell_type": "code",
   "execution_count": null,
   "id": "7c72d105",
   "metadata": {
    "ExecuteTime": {
     "start_time": "2024-02-09T13:39:43.980Z"
    }
   },
   "outputs": [],
   "source": [
    "# make a histogram of most populated full grid cells\n",
    "sns.histplot(full_assignments, stat=\"count\", bins=np.arange(len(fg)+1))\n",
    "\n",
    "popular, counts = np.unique(full_assignments, return_counts=True)\n",
    "max_counts = k_argmax_in_array(counts, 10)\n",
    "print(f\"Most popular assignments are {popular[max_counts]} with population {counts[max_counts]}\")"
   ]
  },
  {
   "cell_type": "code",
   "execution_count": null,
   "id": "91476abc",
   "metadata": {
    "ExecuteTime": {
     "start_time": "2024-02-09T13:39:44.347Z"
    }
   },
   "outputs": [],
   "source": [
    "vm = ViewManager(traj_universe)\n",
    "# plot a selection (because too many) that are all assigned to same grid point\n",
    "assigned_to_cell = np.where(full_assignments == 3550)[0]\n",
    "# show in VMD for a better view\n",
    "print(list(assigned_to_cell))\n",
    "vm.plot_frames_overlapping(np.random.choice(assigned_to_cell, 30))"
   ]
  },
  {
   "cell_type": "code",
   "execution_count": null,
   "id": "4ef2fd38",
   "metadata": {
    "ExecuteTime": {
     "start_time": "2024-02-09T13:39:44.572Z"
    }
   },
   "outputs": [],
   "source": [
    "vm = ViewManager(traj_universe)\n",
    "# plot a selection (because too many) that are all assigned to same grid point\n",
    "assigned_to_cell = np.where(full_assignments == 4811)[0]\n",
    "# show in VMD for a better view\n",
    "print(list(assigned_to_cell))\n",
    "vm.plot_frames_overlapping(np.random.choice(assigned_to_cell, 30))\n",
    "\n"
   ]
  },
  {
   "cell_type": "markdown",
   "id": "43ac7496",
   "metadata": {},
   "source": [
    "## MSM"
   ]
  },
  {
   "cell_type": "code",
   "execution_count": null,
   "id": "fa5aeda8",
   "metadata": {
    "ExecuteTime": {
     "start_time": "2024-02-09T13:39:45.434Z"
    }
   },
   "outputs": [],
   "source": [
    "from molgri.molecules.transitions import MSM, SimulationHistogram\n",
    "\n",
    "water_sh = SimulationHistogram(trajectory_name=\"H2O_H2O_0095_25000\", is_pt=False, \n",
    "                               second_molecule_selection=H2O_second_mol, \n",
    "                               full_grid = fg, use_saved=False)\n",
    "\n",
    "water_MSM = MSM(water_sh)\n",
    "water_MSM.assignments = full_assignments\n",
    "water_MSM.get_transitions_matrix()"
   ]
  },
  {
   "cell_type": "code",
   "execution_count": 83,
   "id": "e42dde5b",
   "metadata": {
    "ExecuteTime": {
     "end_time": "2024-02-09T13:21:37.325430Z",
     "start_time": "2024-02-09T13:21:37.309834Z"
    }
   },
   "outputs": [],
   "source": [
    "# -> direction: INPUT start coordinates (3N), 7D gridpoint; OUTPUT end coordinates (3N)\n",
    "# <- direction: INPUT end coordinates (3N), start coordinates (3N); OUTPUT 7D gridpoint"
   ]
  },
  {
   "cell_type": "code",
   "execution_count": null,
   "id": "faaaac4c",
   "metadata": {},
   "outputs": [],
   "source": []
  }
 ],
 "metadata": {
  "kernelspec": {
   "display_name": "Python 3 (ipykernel)",
   "language": "python",
   "name": "python3"
  },
  "language_info": {
   "codemirror_mode": {
    "name": "ipython",
    "version": 3
   },
   "file_extension": ".py",
   "mimetype": "text/x-python",
   "name": "python",
   "nbconvert_exporter": "python",
   "pygments_lexer": "ipython3",
   "version": "3.9.13"
  },
  "toc": {
   "base_numbering": 1,
   "nav_menu": {},
   "number_sections": true,
   "sideBar": true,
   "skip_h1_title": true,
   "title_cell": "Table of Contents",
   "title_sidebar": "Contents",
   "toc_cell": true,
   "toc_position": {},
   "toc_section_display": true,
   "toc_window_display": false
  }
 },
 "nbformat": 4,
 "nbformat_minor": 5
}
