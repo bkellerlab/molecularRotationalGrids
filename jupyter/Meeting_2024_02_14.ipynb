{
 "cells": [
  {
   "cell_type": "markdown",
   "id": "22854720",
   "metadata": {
    "toc": true
   },
   "source": [
    "<h1>Table of Contents<span class=\"tocSkip\"></span></h1>\n",
    "<div class=\"toc\"><ul class=\"toc-item\"><li><span><a href=\"#Position-space\" data-toc-modified-id=\"Position-space-1\"><span class=\"toc-item-num\">1&nbsp;&nbsp;</span>Position space</a></span><ul class=\"toc-item\"><li><span><a href=\"#Translation-of-COM-instead-of-rotation-around-origin\" data-toc-modified-id=\"Translation-of-COM-instead-of-rotation-around-origin-1.1\"><span class=\"toc-item-num\">1.1&nbsp;&nbsp;</span>Translation of COM instead of rotation around origin</a></span></li><li><span><a href=\"#Determine-position-index\" data-toc-modified-id=\"Determine-position-index-1.2\"><span class=\"toc-item-num\">1.2&nbsp;&nbsp;</span>Determine position index</a></span></li></ul></li><li><span><a href=\"#Orientation-space\" data-toc-modified-id=\"Orientation-space-2\"><span class=\"toc-item-num\">2&nbsp;&nbsp;</span>Orientation space</a></span><ul class=\"toc-item\"><li><span><a href=\"#Determine-internal-coordinate-system-(principal-axes)\" data-toc-modified-id=\"Determine-internal-coordinate-system-(principal-axes)-2.1\"><span class=\"toc-item-num\">2.1&nbsp;&nbsp;</span>Determine internal coordinate system (principal axes)</a></span></li><li><span><a href=\"#Realize-that-determining-principal-axes-isn't-sufficient\" data-toc-modified-id=\"Realize-that-determining-principal-axes-isn't-sufficient-2.2\"><span class=\"toc-item-num\">2.2&nbsp;&nbsp;</span>Realize that determining principal axes isn't sufficient</a></span></li><li><span><a href=\"#Quaternion-index\" data-toc-modified-id=\"Quaternion-index-2.3\"><span class=\"toc-item-num\">2.3&nbsp;&nbsp;</span>Quaternion index</a></span></li></ul></li><li><span><a href=\"#Full-conversion-3N-coordinates-<->-7D-gridpoint\" data-toc-modified-id=\"Full-conversion-3N-coordinates-<->-7D-gridpoint-3\"><span class=\"toc-item-num\">3&nbsp;&nbsp;</span>Full conversion 3N coordinates &lt;-&gt; 7D gridpoint</a></span></li><li><span><a href=\"#MSM\" data-toc-modified-id=\"MSM-4\"><span class=\"toc-item-num\">4&nbsp;&nbsp;</span>MSM</a></span></li></ul></div>"
   ]
  },
  {
   "cell_type": "code",
   "execution_count": 1,
   "id": "6dc873ce",
   "metadata": {
    "ExecuteTime": {
     "end_time": "2024-02-09T14:23:35.833849Z",
     "start_time": "2024-02-09T14:23:35.802871Z"
    }
   },
   "outputs": [],
   "source": [
    "import sys\n",
    "import os\n",
    "\n",
    "try:\n",
    "    os.chdir(r\"/home/hanaz63/PAPER_MOLECULAR_ROTATIONS_2022/nobackup/molgri\")\n",
    "    sys.path.append(r\"/home/hanaz63/PAPER_MOLECULAR_ROTATIONS_2022/nobackup\")\n",
    "except FileNotFoundError:\n",
    "    os.chdir(r\"D:\\HANA\\phD\\PAPER_2022\\molecularRotationalGrids\")\n",
    "    sys.path.append(r\"D:\\HANA\\phD\\PAPER_2022\\molecularRotationalGrids\")\n",
    "    \n",
    "import warnings\n",
    "warnings.filterwarnings(\"ignore\")"
   ]
  },
  {
   "cell_type": "code",
   "execution_count": 3,
   "id": "e36d56d1",
   "metadata": {
    "ExecuteTime": {
     "end_time": "2024-02-09T14:23:49.360184Z",
     "start_time": "2024-02-09T14:23:49.328720Z"
    }
   },
   "outputs": [],
   "source": [
    "import numpy as np\n",
    "from numpy.typing import NDArray\n",
    "import MDAnalysis as mda\n",
    "from scipy.spatial.distance import cdist\n",
    "from scipy.spatial.transform import Rotation\n",
    "from MDAnalysis.analysis.base import AnalysisFromFunction\n",
    "import seaborn as sns\n",
    "\n",
    "from molgri.plotting.widgets import ViewManager\n",
    "from molgri.paths import PATH_OUTPUT_PT, PATH_INPUT_BASEGRO\n",
    "from molgri.space.fullgrid import FullGrid\n",
    "from molgri.space.utils import normalise_vectors, k_argmax_in_array, distance_between_quaternions, q_in_upper_sphere\n",
    "from molgri.molecules.transitions import MSM, SimulationHistogram\n",
    "from molgri.plotting.transition_plots import TransitionPlot\n",
    "\n",
    "sns.set_context(\"notebook\")"
   ]
  },
  {
   "cell_type": "markdown",
   "id": "252f78cc",
   "metadata": {},
   "source": [
    "## Position space\n"
   ]
  },
  {
   "cell_type": "markdown",
   "id": "ca19af83",
   "metadata": {},
   "source": [
    "\n",
    "### Translation of COM instead of rotation around origin"
   ]
  },
  {
   "cell_type": "code",
   "execution_count": 4,
   "id": "82fe6181",
   "metadata": {
    "ExecuteTime": {
     "end_time": "2024-02-09T14:23:54.928445Z",
     "start_time": "2024-02-09T14:23:53.681655Z"
    }
   },
   "outputs": [
    {
     "name": "stdout",
     "output_type": "stream",
     "text": [
      "[0, 8, 16, 24, 32, 40, 48, 56, 64, 72, 80, 88, 96, 104, 112, 120, 128, 136, 144, 152, 160, 168, 176, 184, 192, 200, 208, 216, 224, 232, 240, 248, 256, 264, 272, 280, 288, 296, 304, 312, 320, 328, 336, 344, 352, 360, 368, 376, 384, 392, 400, 408, 416, 424, 432, 440, 448, 456, 464, 472]\n"
     ]
    },
    {
     "data": {
      "application/vnd.jupyter.widget-view+json": {
       "model_id": "74cedb6f59554a619af2fbbbb06606d5",
       "version_major": 2,
       "version_minor": 0
      },
      "text/plain": [
       "NGLWidget()"
      ]
     },
     "metadata": {},
     "output_type": "display_data"
    }
   ],
   "source": [
    "# generated a file with\n",
    "# python -m molgri.scripts.generate_pt -m1 H2O -m2 H2O -o \"12\" -b \"8\" -t \"linspace(0.2, 1, 5)\" --recal\n",
    "pt_name = \"H2O_H2O_0528\"\n",
    "pt_universe = mda.Universe(f\"{PATH_OUTPUT_PT}{pt_name}.gro\",\n",
    "                           f\"{PATH_OUTPUT_PT}{pt_name}.trr\")\n",
    "len_pt = len(pt_universe.trajectory)\n",
    "\n",
    "vm = ViewManager(pt_universe)\n",
    "# plot every 8th frame\n",
    "# because we have 8 orientations, every 8th structure should be translated version of each other\n",
    "every_eighth_0 = np.arange(0, len_pt, 8)\n",
    "print(list(every_eighth_0))\n",
    "vm.plot_frames_overlapping(every_eighth_0[20:30])"
   ]
  },
  {
   "cell_type": "code",
   "execution_count": 5,
   "id": "7efb7797",
   "metadata": {
    "ExecuteTime": {
     "end_time": "2024-02-09T14:23:56.313666Z",
     "start_time": "2024-02-09T14:23:54.928445Z"
    }
   },
   "outputs": [
    {
     "name": "stdout",
     "output_type": "stream",
     "text": [
      "[3, 11, 19, 27, 35, 43, 51, 59, 67, 75, 83, 91, 99, 107, 115, 123, 131, 139, 147, 155, 163, 171, 179, 187, 195, 203, 211, 219, 227, 235, 243, 251, 259, 267, 275, 283, 291, 299, 307, 315, 323, 331, 339, 347, 355, 363, 371, 379, 387, 395, 403, 411, 419, 427, 435, 443, 451, 459, 467, 475]\n"
     ]
    },
    {
     "data": {
      "application/vnd.jupyter.widget-view+json": {
       "model_id": "ac22ce4b79e0457abc2f14ef76b86327",
       "version_major": 2,
       "version_minor": 0
      },
      "text/plain": [
       "NGLWidget()"
      ]
     },
     "metadata": {},
     "output_type": "display_data"
    }
   ],
   "source": [
    "vm.fresh_view()\n",
    "every_eighth_3 = np.arange(3, len_pt, 8)\n",
    "# similar thing for another class of identical orientations\n",
    "print(list(every_eighth_3))\n",
    "vm.plot_frames_overlapping(every_eighth_3[20:30])"
   ]
  },
  {
   "cell_type": "markdown",
   "id": "d2ad19cb",
   "metadata": {},
   "source": [
    "### Determine position index"
   ]
  },
  {
   "cell_type": "code",
   "execution_count": 6,
   "id": "60e33265",
   "metadata": {
    "ExecuteTime": {
     "end_time": "2024-02-09T14:23:56.329286Z",
     "start_time": "2024-02-09T14:23:56.313666Z"
    }
   },
   "outputs": [],
   "source": [
    "# separately determine index in the radial direction and on the sphere, then combine\n",
    "\n",
    "def assign_2_t_grid(my_trajectory: mda.Universe, t_grid_points: NDArray,\n",
    "                         second_molecule: str) -> NDArray:\n",
    "    \"\"\"\n",
    "    Given a trajectoryand an array of available radial (t-grid) points, assign each frame of the trajectory\n",
    "    to the closest radial point.\n",
    "    \n",
    "    Args:\n",
    "        my_trajectory: a Universe of two molecules\n",
    "        radial_grid_points: a sorted array of available radial grid distances in A like [2, 4, 6]\n",
    "        second_molecule: a string that tdefines which part of the Universe is a moving molecule\n",
    "    \n",
    "    Returns:\n",
    "        an integer array as long as the trajectory, each element an index of the closest point of the radial grid\n",
    "        like [0, 0, 0, 1, 1, 1, 2 ...] (for a PT with 3 orientations)\n",
    "    \"\"\"\n",
    "    t_selection = AnalysisFromFunction(lambda ag: np.argmin(np.abs(t_grid_points-np.linalg.norm(ag.center_of_mass())), axis=0),\n",
    "                                     my_trajectory.trajectory,\n",
    "                                     my_trajectory.select_atoms(second_molecule))\n",
    "    t_selection.run()\n",
    "    t_indices = t_selection.results['timeseries'].flatten()\n",
    "    return t_indices\n",
    "\n",
    "def assign_2_o_grid(my_trajectory: mda.Universe, o_grid_points: NDArray, \n",
    "                           second_molecule: str) -> NDArray:\n",
    "    \"\"\"\n",
    "    Assign every frame of the trajectory (or PT) to the best fitting point of position grid\n",
    "\n",
    "    Returns:\n",
    "        an array of position grid indices\n",
    "    \"\"\"\n",
    "    # now using a normalized com and a metric on a sphere, determine which of o_grid_points is closest\n",
    "    o_selection = AnalysisFromFunction(lambda ag: np.argmin(cdist(o_grid_points, normalise_vectors(\n",
    "        ag.center_of_mass())[np.newaxis, :], metric=\"cos\"), axis=0),\n",
    "                                     my_trajectory.trajectory,\n",
    "                                     my_trajectory.select_atoms(second_molecule))\n",
    "    o_selection.run()\n",
    "    o_indices = o_selection.results['timeseries'].flatten()\n",
    "    return o_indices\n",
    "\n",
    "def assign_2_position_grid(my_trajectory: mda.Universe, o_grid_points: NDArray, t_grid_points: NDArray,\n",
    "                         second_molecule: str):\n",
    "    \"\"\"\n",
    "    Combine assigning to t_grid and o_grid.\n",
    "    \"\"\"\n",
    "    t_assignments = assign_2_t_grid(my_trajectory=my_trajectory, t_grid_points=t_grid_points, \n",
    "                                    second_molecule=second_molecule)\n",
    "    o_assignments = assign_2_o_grid(my_trajectory=my_trajectory, o_grid_points=o_grid_points,\n",
    "                                   second_molecule=second_molecule)\n",
    "    # sum up the layer index and o index correctly\n",
    "    return np.array(t_assignments * len(o_grid_points) + o_assignments, dtype=int)\n"
   ]
  },
  {
   "cell_type": "code",
   "execution_count": 7,
   "id": "17b4ba0c",
   "metadata": {
    "ExecuteTime": {
     "end_time": "2024-02-09T14:23:56.644982Z",
     "start_time": "2024-02-09T14:23:56.329286Z"
    }
   },
   "outputs": [
    {
     "name": "stdout",
     "output_type": "stream",
     "text": [
      "[ 0  0  0  0  0  0  0  0  1  1  1  1  1  1  1  1  2  2  2  2  2  2  2  2\n",
      "  3  3  3  3  3  3  3  3  4  4  4  4  4  4  4  4  5  5  5  5  5  5  5  5\n",
      "  6  6  6  6  6  6  6  6  7  7  7  7  7  7  7  7  8  8  8  8  8  8  8  8\n",
      "  9  9  9  9  9  9  9  9 10 10 10 10 10 10 10 10 11 11 11 11 11 11 11 11\n",
      " 12 12 12 12 12 12 12 12 13 13 13 13 13 13 13 13 14 14 14 14 14 14 14 14\n",
      " 15 15 15 15 15 15 15 15 16 16 16 16 16 16 16 16 17 17 17 17 17 17 17 17\n",
      " 18 18 18 18 18 18 18 18 19 19 19 19 19 19 19 19 20 20 20 20 20 20 20 20\n",
      " 21 21 21 21 21 21 21 21 22 22 22 22 22 22 22 22 23 23 23 23 23 23 23 23\n",
      " 24 24 24 24 24 24 24 24 25 25 25 25 25 25 25 25 26 26 26 26 26 26 26 26\n",
      " 27 27 27 27 27 27 27 27 28 28 28 28 28 28 28 28 29 29 29 29 29 29 29 29\n",
      " 30 30 30 30 30 30 30 30 31 31 31 31 31 31 31 31 32 32 32 32 32 32 32 32\n",
      " 33 33 33 33 33 33 33 33 34 34 34 34 34 34 34 34 35 35 35 35 35 35 35 35\n",
      " 36 36 36 36 36 36 36 36 37 37 37 37 37 37 37 37 38 38 38 38 38 38 38 38\n",
      " 39 39 39 39 39 39 39 39 40 40 40 40 40 40 40 40 41 41 41 41 41 41 41 41\n",
      " 42 42 42 42 42 42 42 42 43 43 43 43 43 43 43 43 44 44 44 44 44 44 44 44\n",
      " 45 45 45 45 45 45 45 45 46 46 46 46 46 46 46 46 47 47 47 47 47 47 47 47\n",
      " 48 48 48 48 48 48 48 48 49 49 49 49 49 49 49 49 50 50 50 50 50 50 50 50\n",
      " 51 51 51 51 51 51 51 51 52 52 52 52 52 52 52 52 53 53 53 53 53 53 53 53\n",
      " 54 54 54 54 54 54 54 54 55 55 55 55 55 55 55 55 56 56 56 56 56 56 56 56\n",
      " 57 57 57 57 57 57 57 57 58 58 58 58 58 58 58 58 59 59 59 59 59 59 59 59]\n"
     ]
    }
   ],
   "source": [
    "# test with a PT\n",
    "\n",
    "my_second_molecule = \"bynum 4:6\"\n",
    "my_full_grid = FullGrid(b_grid_name=\"8\", o_grid_name=\"12\", t_grid_name=\"linspace(0.2, 1, 5)\")\n",
    "position_assignments = assign_2_position_grid(pt_universe, my_full_grid.get_o_grid().get_grid_as_array(), \n",
    "                       my_full_grid.get_radii(), my_second_molecule)\n",
    "print(position_assignments)\n",
    "# test: a PT should have the first 8 elements in position 0, then 8 in position 1 ...\n",
    "expected_assignments = np.repeat(np.arange(12*5), 8)\n",
    "assert np.all(position_assignments == expected_assignments)"
   ]
  },
  {
   "cell_type": "code",
   "execution_count": 8,
   "id": "7f2049a1",
   "metadata": {
    "ExecuteTime": {
     "end_time": "2024-02-09T14:24:02.997291Z",
     "start_time": "2024-02-09T14:23:56.644982Z"
    }
   },
   "outputs": [
    {
     "name": "stdout",
     "output_type": "stream",
     "text": [
      "Assigning 25000 frames to 25x20=500 positions\n"
     ]
    }
   ],
   "source": [
    "# test with a real trajectory: see how long it takes\n",
    "gro_name = \"H2O_H2O_0095\"\n",
    "traj_name = \"H2O_H2O_0095_25000\"\n",
    "traj_universe = mda.Universe(f\"{PATH_OUTPUT_PT}{gro_name}.gro\", f\"{PATH_OUTPUT_PT}{traj_name}.xtc\")\n",
    "\n",
    "print(f\"Assigning 25000 frames to 25x20={25*20} positions\")\n",
    "traj_full_grid = FullGrid(b_grid_name=\"20\", o_grid_name=\"25\", t_grid_name=\"linspace(0.2, 1.5, 20)\")\n",
    "position_assignments = assign_2_position_grid(traj_universe, traj_full_grid.get_o_grid().get_grid_as_array(), \n",
    "                       traj_full_grid.get_radii(), my_second_molecule)"
   ]
  },
  {
   "cell_type": "code",
   "execution_count": 9,
   "id": "4ef84760",
   "metadata": {
    "ExecuteTime": {
     "end_time": "2024-02-09T14:24:03.782582Z",
     "start_time": "2024-02-09T14:24:02.997291Z"
    }
   },
   "outputs": [
    {
     "name": "stdout",
     "output_type": "stream",
     "text": [
      "Most popular assignments are [477  68  28  27  48  31  38  26  33  51] with population [328 336 350 384 350 407 392 457 344 350]\n"
     ]
    },
    {
     "data": {
      "image/png": "[encoded data removed]",
      "text/plain": [
       "<Figure size 640x480 with 1 Axes>"
      ]
     },
     "metadata": {},
     "output_type": "display_data"
    }
   ],
   "source": [
    "# make a histogram of most populated positions\n",
    "sns.histplot(position_assignments, stat=\"count\", bins=np.arange(501))\n",
    "\n",
    "popular, counts = np.unique(position_assignments, return_counts=True)\n",
    "max_counts = k_argmax_in_array(counts, 10)\n",
    "print(f\"Most popular assignments are {popular[max_counts]} with population {counts[max_counts]}\")"
   ]
  },
  {
   "cell_type": "code",
   "execution_count": 10,
   "id": "7b8b4090",
   "metadata": {
    "ExecuteTime": {
     "end_time": "2024-02-09T14:24:13.970005Z",
     "start_time": "2024-02-09T14:24:03.782582Z"
    }
   },
   "outputs": [
    {
     "name": "stdout",
     "output_type": "stream",
     "text": [
      "[854, 855, 856, 857, 858, 859, 860, 861, 862, 863, 864, 865, 866, 867, 868, 869, 870, 871, 872, 873, 874, 875, 876, 877, 878, 879, 880, 1962, 1963, 1964, 1965, 1966, 1967, 1968, 1969, 1970, 1971, 1972, 1973, 1974, 1975, 1976, 1977, 2265, 2266, 2267, 2268, 2269, 2270, 2271, 2272, 2273, 2274, 2275, 2276, 2277, 2278, 2279, 2280, 2281, 2282, 2283, 2284, 2285, 2286, 2287, 2312, 2313, 2314, 2315, 2316, 2317, 2318, 2319, 2320, 2321, 2632, 2650, 2651, 2652, 2653, 2654, 2655, 2656, 2657, 2658, 2659, 2660, 2661, 2662, 2663, 2664, 2665, 2666, 2667, 4032, 4033, 4034, 4035, 4036, 4037, 4038, 4039, 4040, 4041, 4042, 4043, 4044, 4045, 4046, 4047, 4048, 4049, 4050, 4051, 4602, 4603, 4604, 4605, 4606, 4971, 4972, 4973, 4974, 4975, 4976, 4977, 4978, 4979, 4980, 4981, 4982, 4983, 4984, 4985, 4986, 4987, 4988, 4989, 4990, 4991, 4992, 4993, 4994, 4995, 4996, 4997, 4998, 4999, 5000, 5001, 5002, 5003, 5004, 5005, 5006, 5007, 5008, 5009, 5010, 5011, 5012, 5013, 5014, 5015, 5016, 5017, 5018, 5019, 5020, 5021, 5022, 5023, 5024, 5025, 5026, 5027, 5028, 5029, 5030, 5031, 5032, 5033, 5034, 5035, 5036, 5037, 5038, 5039, 5040, 5041, 5042, 5043, 5044, 5045, 5046, 5047, 5048, 5049, 5050, 5051, 5052, 5053, 5054, 5055, 5056, 5057, 5058, 5059, 5060, 5061, 5062, 5063, 5064, 5065, 5066, 5067, 5068, 5069, 5070, 6046, 6047, 6048, 6049, 6050, 6051, 6052, 6053, 6198, 6199, 6200, 6201, 6202, 6203, 6204, 6205, 6206, 6207, 6208, 6209, 6210, 6211, 6212, 6213, 6214, 6215, 6216, 6217, 6218, 6219, 6220, 6221, 6222, 6223, 6224, 6225, 6226, 6227, 6228, 6229, 6230, 6231, 6232, 6233, 6234, 6235, 6318, 6319, 6320, 6321, 6322, 6323, 6324, 6325, 6326, 6327, 6328, 6329, 6330, 6331, 6332, 6333, 6334, 6335, 6336, 6337, 6338, 6339, 6340, 6341, 6342, 6343, 6344, 6345, 6346, 6347, 6348, 6349, 6350, 6351, 6352, 6353, 6354, 6355, 6356, 6357, 6358, 6359, 6360, 6361, 6362, 6363, 6364, 6365, 6366, 6367, 6368, 6369, 6370, 6371, 6372, 6373, 6374, 6375, 6376, 6377, 6378, 6379, 6380, 6381, 6382, 6383, 6384, 6385, 6386, 6387, 6388, 6389, 6390, 6391, 6392, 6393, 6394, 6395, 6396, 6397, 6398, 6399, 6400, 6401, 6402, 6403, 6404, 6405, 6406, 6407, 7209, 7210, 7211, 7212, 7213, 7214, 7215, 7216, 7217, 7218, 7219, 7220, 7221, 7222, 7223, 7315, 7316, 7317, 7318, 7319, 7320, 7321, 7322, 7323, 7324, 7325, 7326, 7327, 7328, 7329, 7330, 7331, 7332, 7333, 7334, 7335, 7336, 7337, 7338, 7339, 7340, 7341, 7342, 7343, 7344, 7345, 7346, 7347, 7348, 7349, 7350, 7351, 7352, 7353, 7354, 7355, 7356, 7357, 7358, 7856, 7857, 7858, 7859, 7860, 7861, 7862, 7863, 7864, 7865, 7866, 7867, 7868, 7869, 7870, 7871, 7872, 7873, 7874, 7875, 7876, 7877, 7878, 24402, 24403, 24404, 24405, 24406, 24407, 24408, 24409, 24410, 24411, 24412, 24413, 24414, 24415, 24416, 24417, 24418, 24419, 24420]\n"
     ]
    },
    {
     "data": {
      "application/vnd.jupyter.widget-view+json": {
       "model_id": "f4911574716f4588aba5a498cb7ffa3d",
       "version_major": 2,
       "version_minor": 0
      },
      "text/plain": [
       "NGLWidget()"
      ]
     },
     "metadata": {},
     "output_type": "display_data"
    }
   ],
   "source": [
    "# plot some frames of a real trajectory that belong to the same position grid point\n",
    "vm = ViewManager(traj_universe)\n",
    "# plot a selection (because too many) that are all assigned to grid point 26\n",
    "assigned_to_26 = np.where(position_assignments == 26)[0]\n",
    "# show in VMD for a better view\n",
    "print(list(assigned_to_26))\n",
    "vm.plot_frames_overlapping(np.random.choice(assigned_to_26, 30))"
   ]
  },
  {
   "cell_type": "code",
   "execution_count": 11,
   "id": "6bbf62e3",
   "metadata": {
    "ExecuteTime": {
     "end_time": "2024-02-09T14:24:24.570657Z",
     "start_time": "2024-02-09T14:24:13.970005Z"
    }
   },
   "outputs": [
    {
     "name": "stdout",
     "output_type": "stream",
     "text": [
      "[16795, 16796, 16797, 16798, 16799, 16800, 16801, 16802, 16803, 16804, 16805, 16806, 16807, 16808, 16809, 16810, 16811, 16812, 16813, 16814, 16815, 16816, 16817, 16818, 16819, 16820, 16821, 16822, 16823, 16824, 16825, 16826, 16827, 16828, 16829, 16830, 16831, 16832, 16833, 16834, 16835, 16836, 16837, 16838, 16839, 16840, 16841, 16842, 16843, 16844, 16845, 16846, 16847, 16848, 16849, 16850, 16851, 16852, 16853, 16854, 16855, 16856, 16857, 16858, 16859, 16860, 16861, 16862, 16863, 16864, 16865, 16866, 16867, 16868, 16869, 16870, 16871, 16872, 16873, 16874, 16875, 16876, 16877, 16878, 16879, 16880, 16881, 16882, 16883, 16884, 16885, 16886, 16887, 16888, 16889, 16890, 16891, 16892, 16893, 16894, 16895, 16896, 16897, 16898, 16899, 16900, 16901, 16902, 16903, 16904, 16905, 16906, 16907, 16908, 16909, 17106, 17107, 17108, 17109, 17110, 17111, 17112, 17113, 17114, 17115, 17116, 17117, 17118, 17119, 17120, 17121, 17122, 17123, 17124, 17342, 17343, 17344, 17345, 17346, 17347, 17348, 17349, 17350, 17351, 17352, 17353, 17354, 17355, 17356, 17357, 17358, 17359, 17360, 17361, 17362, 17363, 17364, 17365, 17366, 17367, 17368, 17369, 17370, 17371, 17372, 17373, 17374, 17375, 17376, 17377, 17378, 17379, 17380, 17381, 17382, 17383, 17384, 17385, 17386, 17387, 17388, 17389, 17390, 17391, 17392, 17393, 17394, 17395, 17396, 17397, 17398, 17399, 17400, 17401, 17402, 17403, 17404, 17405, 17406, 17407, 17408, 17409, 17410, 17411, 17412, 17413, 17414, 17415, 17416, 17417, 17418, 17419, 17420, 17421, 17422, 17423, 17424, 17425, 17426, 17745, 17746, 17747, 17748, 17749, 17750, 17751, 17752, 17753, 17754, 17755, 17756, 17757, 17758, 17759, 17760, 17761, 17762, 17763, 17764, 17765, 17766, 17767, 17768, 17769, 17770, 17771, 17772, 17773, 17774, 17775, 17776, 17777, 17778, 17779, 17780, 17781, 17782, 17783, 17784, 17785, 17786, 17787, 17788, 17789, 17790, 17791, 17792, 17793, 17794, 17795, 17796, 17797, 17798, 17799, 17800, 17801, 17802, 17803, 17804, 17805, 17806, 17807, 17808, 17809, 17810, 17811, 17812, 17813, 17814, 17815, 17816, 17817, 17818, 17819, 17820, 17821, 17822, 17823, 22515, 22516, 22517, 22518, 22519, 22520, 22521, 22522, 22523, 22524, 22525, 22526, 22527, 22528, 22529, 22530, 22531, 22532, 22533, 22534, 22535, 22536, 22537, 22538, 22539, 22540, 22541, 22542, 22543, 22544]\n"
     ]
    },
    {
     "data": {
      "application/vnd.jupyter.widget-view+json": {
       "model_id": "c0926144827e4451b1fcd832031742de",
       "version_major": 2,
       "version_minor": 0
      },
      "text/plain": [
       "NGLWidget()"
      ]
     },
     "metadata": {},
     "output_type": "display_data"
    }
   ],
   "source": [
    "# try another one\n",
    "vm.fresh_view()\n",
    "# plot a selection (because too many) that are all assigned to grid point 477\n",
    "assigned_to_477 = np.where(position_assignments == 477)[0]\n",
    "# show in VMD for a better view\n",
    "print(list(assigned_to_477))\n",
    "vm.plot_frames_overlapping(np.random.choice(assigned_to_477, 30))"
   ]
  },
  {
   "cell_type": "markdown",
   "id": "6c4384e9",
   "metadata": {},
   "source": [
    "## Orientation space"
   ]
  },
  {
   "cell_type": "markdown",
   "id": "249cfcfb",
   "metadata": {},
   "source": [
    "### Determine internal coordinate system (principal axes)"
   ]
  },
  {
   "cell_type": "code",
   "execution_count": 12,
   "id": "d9495d44",
   "metadata": {
    "ExecuteTime": {
     "end_time": "2024-02-09T14:24:24.664520Z",
     "start_time": "2024-02-09T14:24:24.570657Z"
    }
   },
   "outputs": [
    {
     "name": "stdout",
     "output_type": "stream",
     "text": [
      "[[ 0.     1.     0.   ]\n",
      " [-0.599  0.    -0.8  ]\n",
      " [-0.8    0.     0.599]]\n",
      "[-1.70130157  1.          1.0514622 ]\n"
     ]
    },
    {
     "data": {
      "application/vnd.jupyter.widget-view+json": {
       "model_id": "27c5a20f893b4604ad25bf1ba17481b9",
       "version_major": 2,
       "version_minor": 0
      },
      "text/plain": [
       "NGLWidget()"
      ]
     },
     "metadata": {},
     "output_type": "display_data"
    }
   ],
   "source": [
    "# determine principal axes\n",
    "second_molecule = \"bynum 4:6\"\n",
    "\n",
    "# principal axes of the first frame\n",
    "pa_zero = pt_universe.select_atoms(second_molecule).principal_axes()\n",
    "com_zero = pt_universe.select_atoms(second_molecule).center_of_mass()\n",
    "print(np.round(pa_zero, 3))\n",
    "print(com_zero+pa_zero[0])\n",
    "\n",
    "# display principal axes of first frame\n",
    "vm = ViewManager(pt_universe)\n",
    "vm.fresh_view()\n",
    "vm.plot_ith_frame(0)\n",
    "vm.add_principal_axes(com_zero, pa_zero)\n",
    "vm.view\n",
    "\n"
   ]
  },
  {
   "cell_type": "code",
   "execution_count": 13,
   "id": "979f787b",
   "metadata": {
    "ExecuteTime": {
     "end_time": "2024-02-09T14:24:24.982020Z",
     "start_time": "2024-02-09T14:24:24.664520Z"
    }
   },
   "outputs": [
    {
     "name": "stdout",
     "output_type": "stream",
     "text": [
      "[[-0.     0.     1.   ]\n",
      " [ 0.8   -0.599  0.   ]\n",
      " [ 0.599  0.8    0.   ]]\n",
      "[[-0.    -0.     1.   ]\n",
      " [ 0.8    0.599  0.   ]\n",
      " [-0.599  0.8    0.   ]]\n",
      "[[ 0.     0.     1.   ]\n",
      " [ 0.8   -0.599  0.   ]\n",
      " [ 0.599  0.8    0.   ]]\n"
     ]
    },
    {
     "data": {
      "application/vnd.jupyter.widget-view+json": {
       "model_id": "fe443d126f6b4cbb9f9c6e086aa9d4bc",
       "version_major": 2,
       "version_minor": 0
      },
      "text/plain": [
       "NGLWidget()"
      ]
     },
     "metadata": {},
     "output_type": "display_data"
    }
   ],
   "source": [
    "vm.fresh_view()\n",
    "\n",
    "# principal axes change in relation to the stationary coordinate system when the molecule is re-oriented\n",
    "# but they remain the same in relation to the molecule itself\n",
    "\n",
    "# using some selected PT frames for demonstration\n",
    "for i in [20, 63, 284]:\n",
    "    pt_universe.trajectory[i]\n",
    "    pa_current = pt_universe.select_atoms(second_molecule).principal_axes()\n",
    "    com_current = pt_universe.select_atoms(second_molecule).center_of_mass()\n",
    "    print(np.round(pa_current, 3))\n",
    "\n",
    "    # display this\n",
    "    vm.plot_ith_frame(i)\n",
    "    vm.add_principal_axes(com_current, pa_current)\n",
    "vm.view"
   ]
  },
  {
   "cell_type": "markdown",
   "id": "8db1308e",
   "metadata": {},
   "source": [
    "... well, almost the same\n",
    "\n",
    "### Realize that determining principal axes isn't sufficient"
   ]
  },
  {
   "cell_type": "code",
   "execution_count": 14,
   "id": "9bbf5097",
   "metadata": {
    "ExecuteTime": {
     "end_time": "2024-02-09T14:24:26.191383Z",
     "start_time": "2024-02-09T14:24:24.982020Z"
    }
   },
   "outputs": [
    {
     "name": "stdout",
     "output_type": "stream",
     "text": [
      "my R @ ref [[ 0.     0.    -1.   ]\n",
      " [-0.599  0.8    0.   ]\n",
      " [ 0.8    0.599  0.   ]]\n",
      "end_pa [[ 0.    -0.     1.   ]\n",
      " [ 0.599 -0.8   -0.   ]\n",
      " [ 0.8    0.599 -0.   ]]\n"
     ]
    },
    {
     "data": {
      "application/vnd.jupyter.widget-view+json": {
       "model_id": "ba1f78002c84486f9252710f51fff51c",
       "version_major": 2,
       "version_minor": 0
      },
      "text/plain": [
       "NGLWidget()"
      ]
     },
     "metadata": {},
     "output_type": "display_data"
    }
   ],
   "source": [
    "# LESSION LEARNED: principal axes are axes and NOT vectors - their direction is NOT clearly defined\n",
    "# see also: https://math.stackexchange.com/questions/145023/rotation-matrix-from-an-inertia-tensor\n",
    "\n",
    "# python -m molgri.scripts.generate_pt -m1 H2O -m2 H2O -o \"1\" -b \"20\" -t \"1\" --recal\n",
    "from molgri.space.rotobj import SphereGrid4DFactory\n",
    "b_selection = SphereGrid4DFactory().create(alg_name=\"cube4D\", N=20).get_grid_as_array()\n",
    "b_universe = mda.Universe(f\"{PATH_OUTPUT_PT}H2O_H2O_0407.gro\", f\"{PATH_OUTPUT_PT}H2O_H2O_0407.xtc\")\n",
    "\n",
    "vm = ViewManager(b_universe)\n",
    "vm.fresh_view()\n",
    "reference_structure = mda.Universe(f\"{PATH_INPUT_BASEGRO}H2O.gro\")\n",
    "reference_principal_axes = reference_structure.atoms.principal_axes()\n",
    "\n",
    "for i in range(17, 18):\n",
    "    b_universe.trajectory[i]\n",
    "    reference_structure = mda.Universe(f\"{PATH_INPUT_BASEGRO}H2O.gro\")\n",
    "    reference_principal_axes = reference_structure.atoms.principal_axes()\n",
    "    my_R = Rotation(b_selection[i]).as_matrix()\n",
    "    expected_pa = Rotation(b_selection[i]).apply(reference_principal_axes)\n",
    "    #expected_pa = (my_R @ reference_principal_axes.T).T\n",
    "\n",
    "    print(\"my R @ ref\", np.round(expected_pa, 3))\n",
    "\n",
    "    current_principal_axes = b_universe.select_atoms(second_molecule).principal_axes()\n",
    "    com_current = b_universe.select_atoms(second_molecule).center_of_mass()\n",
    "    print(\"end_pa\", np.round(current_principal_axes, 3))\n",
    "    vm.plot_ith_frame(i)\n",
    "    vm.add_principal_axes(com_current, expected_pa)\n",
    "    vm.add_principal_axes(com_current, current_principal_axes)\n",
    "vm.view"
   ]
  },
  {
   "cell_type": "code",
   "execution_count": 15,
   "id": "5555931d",
   "metadata": {
    "ExecuteTime": {
     "end_time": "2024-02-09T14:24:27.305067Z",
     "start_time": "2024-02-09T14:24:26.301225Z"
    }
   },
   "outputs": [
    {
     "name": "stdout",
     "output_type": "stream",
     "text": [
      "[-1.  1. -1.]\n",
      "True [ 0.5 -0.5 -0.5  0.5] [ 0.5 -0.5 -0.5  0.5]\n",
      "[1. 1. 1.]\n",
      "True [ 0.5 -0.5  0.5 -0.5] [ 0.5 -0.5  0.5 -0.5]\n",
      "[ 1. -1. -1.]\n",
      "True [0.5 0.5 0.5 0.5] [0.5 0.5 0.5 0.5]\n",
      "[1. 1. 1.]\n",
      "True [ 0.5  0.5 -0.5  0.5] [ 0.5  0.5 -0.5  0.5]\n",
      "[-1. -1.  1.]\n",
      "True [ 0.5 -0.5  0.5  0.5] [ 0.5 -0.5  0.5  0.5]\n",
      "[ 1. -1. -1.]\n",
      "True [ 0.5  0.5  0.5 -0.5] [ 0.5  0.5  0.5 -0.5]\n",
      "[-1. -1.  1.]\n",
      "True [ 0.5  0.5 -0.5 -0.5] [ 0.5  0.5 -0.5 -0.5]\n",
      "[-1.  1. -1.]\n",
      "True [ 0.5 -0.5 -0.5 -0.5] [ 0.5 -0.5 -0.5 -0.5]\n",
      "[ 1. -1. -1.]\n",
      "True [ 0.57735027 -0.57735027  0.          0.57735027] [ 0.57735 -0.57735  0.       0.57735]\n",
      "[1. 1. 1.]\n",
      "True [0.70710678 0.70710678 0.         0.        ] [ 0.707107  0.707107  0.       -0.      ]\n",
      "[-1. -1.  1.]\n",
      "True [0.         0.         0.70710678 0.70710678] [-0.        0.        0.707107  0.707107]\n",
      "[1. 1. 1.]\n",
      "True [0.70710678 0.         0.70710678 0.        ] [0.707107 0.       0.707107 0.      ]\n",
      "[1. 1. 1.]\n",
      "True [ 0.          0.57735027  0.57735027 -0.57735027] [ 0.       0.57735  0.57735 -0.57735]\n",
      "[-1. -1.  1.]\n",
      "True [ 0.70710678  0.          0.         -0.70710678] [ 0.707107 -0.       -0.       -0.707107]\n",
      "[-1.  1. -1.]\n",
      "True [ 0.57735027  0.          0.57735027 -0.57735027] [ 0.57735  0.       0.57735 -0.57735]\n",
      "[-1. -1.  1.]\n",
      "True [ 0.57735027  0.57735027  0.         -0.57735027] [ 0.57735  0.57735 -0.      -0.57735]\n",
      "[-1. -1.  1.]\n",
      "True [0.57735027 0.         0.57735027 0.57735027] [ 0.57735 -0.       0.57735  0.57735]\n",
      "[-1.  1. -1.]\n",
      "True [ 0.70710678  0.         -0.70710678  0.        ] [ 0.707107  0.       -0.707107 -0.      ]\n",
      "[ 1. -1. -1.]\n",
      "True [ 0.57735027  0.57735027 -0.57735027  0.        ] [ 0.57735  0.57735 -0.57735 -0.     ]\n",
      "[ 1. -1. -1.]\n",
      "True [0.         0.70710678 0.70710678 0.        ] [ 0.        0.707107  0.707107 -0.      ]\n"
     ]
    }
   ],
   "source": [
    "# LESSONS LEARNED\n",
    "# 1. symmetry of water is a problem\n",
    "# 2. need to save in a higher precision file trr\n",
    "# 3. need to round structures read from files otherwise values very close to zero can throw off \n",
    "#    quaternion projection to correct hemisphere\n",
    "\n",
    "def determine_positive_directions(current_universe, second_molecule):\n",
    "    pas = current_universe.select_atoms(second_molecule).principal_axes()\n",
    "    com = current_universe.select_atoms(second_molecule).center_of_mass()\n",
    "    directions = [0, 0, 0]\n",
    "    for atom_pos in current_universe.select_atoms(second_molecule).positions:\n",
    "        for i, pa in enumerate(pas):\n",
    "            # need to round to avoid problems - assigning direction with atoms very close to 0\n",
    "            cosalpha = np.round(pa.dot(atom_pos-com), 6)\n",
    "            directions[i] = np.sign(cosalpha)\n",
    "        if not np.any(np.isclose(directions,0)):\n",
    "            break\n",
    "    # TODO: if exactly one unknown use the other two and properties of righthanded systems to get third\n",
    "    if np.sum(np.isclose(directions,0)) == 1:\n",
    "        # only these combinations of directions are possible in righthanded coordinate systems\n",
    "        allowed_righthanded = [[1, 1, 1], [-1, 1, -1], [1, -1, -1], [-1, -1, 1]]\n",
    "        for ar in allowed_righthanded:\n",
    "            # exactly two identical (and the third is zero)\n",
    "            if np.sum(np.isclose(ar, directions)) == 2:\n",
    "                directions = ar\n",
    "                break\n",
    "    # if two (or three - that would just be an atom) unknowns raise an error\n",
    "    elif np.sum(np.isclose(directions,0)) > 1:\n",
    "        raise ValueError(\"All atoms perpendicular to at least one of principal axes, can´t determine direction.\")\n",
    "    return np.array(directions)\n",
    "\n",
    "# saved PT\n",
    "my_new_u = mda.Universe(f\"{PATH_OUTPUT_PT}glucose_glucose_0025.gro\", f\"{PATH_OUTPUT_PT}glucose_glucose_0025.trr\")\n",
    "b_selection = SphereGrid4DFactory().create(alg_name=\"cube4D\", N=20).get_grid_as_array()\n",
    "second_molecule_glu = \"bynum 13:24\"\n",
    "\n",
    "# reference structure\n",
    "reference_structure = mda.Universe(f\"{PATH_INPUT_BASEGRO}glucose.xyz\")\n",
    "second_molecule_ref = \"bynum 1:12\"\n",
    "reference_principal_axes = reference_structure.atoms.principal_axes().T\n",
    "inverse_pa = np.linalg.inv(reference_principal_axes)\n",
    "reference_direction = determine_positive_directions(reference_structure, second_molecule_ref)\n",
    "\n",
    "# frame 0: q3 in direction C-O, frame 1: q3 in direction O\n",
    "for i in range(20):\n",
    "    my_new_u.trajectory[i]\n",
    "    com_current = my_new_u.select_atoms(second_molecule_glu).center_of_mass()\n",
    "    current_principal_axes = my_new_u.select_atoms(second_molecule_glu).principal_axes().T\n",
    "    current_directions = determine_positive_directions(my_new_u, second_molecule_glu)\n",
    "    direction = current_directions * reference_direction\n",
    "    produkt = np.multiply(current_principal_axes, np.tile(direction, (3, 1))) @ inverse_pa\n",
    "    calc_quat = np.round(Rotation.from_matrix(produkt).as_quat(), 6) \n",
    "    if not q_in_upper_sphere(calc_quat):\n",
    "        calc_quat = -calc_quat\n",
    "    print(current_directions)\n",
    "    print(np.allclose(b_selection[i], calc_quat, atol=1e-5, rtol=1e-5), b_selection[i], calc_quat)"
   ]
  },
  {
   "cell_type": "code",
   "execution_count": 16,
   "id": "d0759e02",
   "metadata": {
    "ExecuteTime": {
     "end_time": "2024-02-09T14:24:28.324974Z",
     "start_time": "2024-02-09T14:24:27.305067Z"
    }
   },
   "outputs": [
    {
     "name": "stdout",
     "output_type": "stream",
     "text": [
      "True [ 0.5 -0.5 -0.5  0.5] [ 0.5 -0.5 -0.5  0.5]\n",
      "True [ 0.5 -0.5  0.5 -0.5] [ 0.5 -0.5  0.5 -0.5]\n",
      "True [0.5 0.5 0.5 0.5] [0.5 0.5 0.5 0.5]\n",
      "True [ 0.5  0.5 -0.5  0.5] [ 0.5  0.5 -0.5  0.5]\n",
      "True [ 0.5 -0.5  0.5  0.5] [ 0.5 -0.5  0.5  0.5]\n",
      "True [ 0.5  0.5  0.5 -0.5] [ 0.5  0.5  0.5 -0.5]\n",
      "True [ 0.5  0.5 -0.5 -0.5] [ 0.5  0.5 -0.5 -0.5]\n",
      "True [ 0.5 -0.5 -0.5 -0.5] [ 0.5 -0.5 -0.5 -0.5]\n",
      "True [ 0.57735027 -0.57735027  0.          0.57735027] [ 0.57735 -0.57735  0.       0.57735]\n",
      "True [0.70710678 0.70710678 0.         0.        ] [ 0.707107  0.707107 -0.       -0.      ]\n",
      "True [0.         0.         0.70710678 0.70710678] [-0.       -0.        0.707107  0.707107]\n",
      "True [0.70710678 0.         0.70710678 0.        ] [ 0.707107 -0.        0.707107 -0.      ]\n",
      "True [ 0.          0.57735027  0.57735027 -0.57735027] [ 0.       0.57735  0.57735 -0.57735]\n",
      "True [ 0.70710678  0.          0.         -0.70710678] [ 0.707107 -0.       -0.       -0.707107]\n",
      "True [ 0.57735027  0.          0.57735027 -0.57735027] [ 0.57735  0.       0.57735 -0.57735]\n",
      "True [ 0.57735027  0.57735027  0.         -0.57735027] [ 0.57735  0.57735  0.      -0.57735]\n",
      "True [0.57735027 0.         0.57735027 0.57735027] [ 0.57735 -0.       0.57735  0.57735]\n",
      "True [ 0.70710678  0.         -0.70710678  0.        ] [ 0.707107 -0.       -0.707107  0.      ]\n",
      "True [ 0.57735027  0.57735027 -0.57735027  0.        ] [ 0.57735  0.57735 -0.57735  0.     ]\n",
      "True [0.         0.70710678 0.70710678 0.        ] [ 0.        0.707107  0.707107 -0.      ]\n"
     ]
    }
   ],
   "source": [
    "#python -m molgri.scripts.generate_pt -m1 H2O_a -m2 H2O_a -o \"1\" -b \"20\" -t \"0.3\" --recal --extension_structure gro --extension_trajectory trr\n",
    "\n",
    "\n",
    "# saved PT\n",
    "my_new_u = mda.Universe(f\"{PATH_OUTPUT_PT}H2O_a_H2O_a_0000.gro\", f\"{PATH_OUTPUT_PT}H2O_a_H2O_a_0000.trr\")\n",
    "b_selection = SphereGrid4DFactory().create(alg_name=\"cube4D\", N=20).get_grid_as_array()\n",
    "second_molecule_glu = \"bynum 4:6\"\n",
    "\n",
    "# reference structure\n",
    "reference_structure = mda.Universe(f\"{PATH_INPUT_BASEGRO}H2O_a.gro\")\n",
    "second_molecule_ref = \"bynum 1:3\"\n",
    "reference_principal_axes = reference_structure.atoms.principal_axes().T\n",
    "inverse_pa = np.linalg.inv(reference_principal_axes)\n",
    "reference_direction = determine_positive_directions(reference_structure, second_molecule_ref)\n",
    "\n",
    "# frame 0: q3 in direction C-O, frame 1: q3 in direction O\n",
    "for i in range(20):\n",
    "    my_new_u.trajectory[i]\n",
    "    com_current = my_new_u.select_atoms(second_molecule_glu).center_of_mass()\n",
    "    current_principal_axes = my_new_u.select_atoms(second_molecule_glu).principal_axes().T\n",
    "    current_directions = determine_positive_directions(my_new_u, second_molecule_glu)\n",
    "    direction = current_directions * reference_direction\n",
    "    produkt = np.multiply(current_principal_axes, np.tile(direction, (3, 1))) @ inverse_pa\n",
    "    calc_quat = np.round(Rotation.from_matrix(produkt).as_quat(), 6) \n",
    "    if not q_in_upper_sphere(calc_quat):\n",
    "        calc_quat = -calc_quat\n",
    "    print(np.allclose(b_selection[i], calc_quat, atol=1e-6, rtol=1e-5), b_selection[i], calc_quat)"
   ]
  },
  {
   "cell_type": "markdown",
   "id": "57be6bda",
   "metadata": {},
   "source": [
    "In summary:\n",
    "- save and use (pseudo)trajectories in high-precision TRR format\n",
    "- determine principal axes of the reference structure and every frame of the PT\n",
    "- determine direction of each PA from the coordinates of the first atom that isn't perpendicular to it\n",
    "- if a molecule is planar, you can still determine directions from right-handedness of PAs\n",
    "\n",
    "TODO:\n",
    "- now assign to gridpoints\n",
    "- need a better symmetry handling for linear molecules"
   ]
  },
  {
   "cell_type": "markdown",
   "id": "c85e21f3",
   "metadata": {},
   "source": [
    "### Quaternion index"
   ]
  },
  {
   "cell_type": "code",
   "execution_count": 17,
   "id": "216a2e94",
   "metadata": {
    "ExecuteTime": {
     "end_time": "2024-02-09T14:24:38.743908Z",
     "start_time": "2024-02-09T14:24:28.324974Z"
    },
    "scrolled": true
   },
   "outputs": [
    {
     "name": "stdout",
     "output_type": "stream",
     "text": [
      "[1 0 6 7 5 4 2 3 1 0 6 7 5 4 2 3 1 0 6 7 5 4 2 3 1 0 6 7 5 4 2 3 1 0 6 7 5\n",
      " 4 2 3 1 0 6 7 5 4 2 3 1 0 6 7 5 4 2 3 1 0 6 7 5 4 2 3 1 0 6 7 5 4 2 3 1 0\n",
      " 6 7 5 4 2 3 1 0 6 7 5 4 2 3 1 0 6 7 5 4 2 3 1 0 6 7 5 4 2 3 1 0 6 7 5 4 2\n",
      " 3 1 0 6 7 5 4 2 3 1 0 6 7 5 4 2 3 1 0 6 7 5 4 2 3 1 0 6 7 5 4 2 3 1 0 6 7\n",
      " 5 4 2 3 1 0 6 7 5 4 2 3 1 0 6 7 5 4 2 3 1 0 6 7 5 4 2 3 1 0 6 7 5 4 2 3 1\n",
      " 0 6 7 5 4 2 3 1 0 6 7 5 4 2 3 1 0 6 7 5 4 2 3 1 0 6 7 5 4 2 3 1 0 6 7 5 4\n",
      " 2 3 1 0 6 7 5 4 2 3 1 0 6 7 5 4 2 3 1 0 6 7 5 4 2 3 1 0 6 7 5 4 2 3 1 0 6\n",
      " 7 5 4 2 3 1 0 6 7 5 4 2 3 1 0 6 7 5 4 2 3 1 0 6 7 5 4 2 3 1 0 6 7 5 4 2 3\n",
      " 1 0 6 7 5 4 2 3 1 0 6 7 5 4 2 3 1 0 6 7 5 4 2 3 1 0 6 7 5 4 2 3 1 0 6 7 5\n",
      " 4 2 3 1 0 6 7 5 4 2 3 1 0 6 7 5 4 2 3 1 0 6 7 5 4 2 3 1 0 6 7 5 4 2 3 1 0\n",
      " 6 7 5 4 2 3 1 0 6 7 5 4 2 3 1 0 6 7 5 4 2 3 1 0 6 7 5 4 2 3 1 0 6 7 5 4 2\n",
      " 3 1 0 6 7 5 4 2 3 1 0 6 7 5 4 2 3 1 0 6 7 5 4 2 3 1 0 6 7 5 4 2 3 1 0 6 7\n",
      " 5 4 2 3 1 0 6 7 5 4 2 3 1 0 6 7 5 4 2 3 1 0 6 7 5 4 2 3 1 0 6 7 5 4 2 3]\n",
      "[0, 8, 16, 24, 32, 40, 48, 56, 64, 72, 80, 88, 96, 104, 112, 120, 128, 136, 144, 152, 160, 168, 176, 184, 192, 200, 208, 216, 224, 232, 240, 248, 256, 264, 272, 280, 288, 296, 304, 312, 320, 328, 336, 344, 352, 360, 368, 376, 384, 392, 400, 408, 416, 424, 432, 440, 448, 456, 464, 472]\n"
     ]
    },
    {
     "data": {
      "application/vnd.jupyter.widget-view+json": {
       "model_id": "9dd06f162cbb4034827be3c621123a15",
       "version_major": 2,
       "version_minor": 0
      },
      "text/plain": [
       "NGLWidget()"
      ]
     },
     "metadata": {},
     "output_type": "display_data"
    }
   ],
   "source": [
    "def assign_2_b_grid(my_trajectory: mda.Universe, b_grid_points: NDArray, reference_universe: mda.Universe,\n",
    "                           second_molecule: str) -> NDArray:\n",
    "    \"\"\"\n",
    "    Assign every frame of the trajectory to the closest quaternion from the b_grid_points.\n",
    "    \n",
    "    Args:\n",
    "        my_trajectory: consists of two molecules and multiple frames\n",
    "        b_grid_points: a (N, 4) array of unit quaternions\n",
    "        reference_universe: consists of only one molecule in a single frame\n",
    "        second_molecule: defines which molecule interests us in my_trajectory\n",
    "    \"\"\"\n",
    "    # find PA and direction of reference structure\n",
    "    reference_principal_axes = reference_universe.atoms.principal_axes().T\n",
    "    inverse_pa = np.linalg.inv(reference_principal_axes)\n",
    "    reference_direction = determine_positive_directions(reference_universe, \"all\")\n",
    "    \n",
    "    # find PA and direction along trajectory\n",
    "    pa_frames =  AnalysisFromFunction(lambda ag: ag.principal_axes().T, my_trajectory.trajectory,\n",
    "                                     my_trajectory.select_atoms(second_molecule))\n",
    "    pa_frames.run()\n",
    "    pa_frames = pa_frames.results['timeseries']\n",
    "    \n",
    "    direction_frames = AnalysisFromFunction(lambda ag: np.tile(determine_positive_directions(ag, \"all\"), (3, 1)), \n",
    "                                            my_trajectory.trajectory,\n",
    "                                            my_trajectory.select_atoms(second_molecule))\n",
    "    direction_frames.run()\n",
    "    direction_frames = direction_frames.results['timeseries']\n",
    "    directed_pas = np.multiply(pa_frames, direction_frames)\n",
    "    produkt = np.matmul(directed_pas, inverse_pa)\n",
    "    # get the quaternions that caused the rotation from reference to each frame\n",
    "    calc_quat = np.round(Rotation.from_matrix(produkt).as_quat(), 6)\n",
    "    # now using a quaternion metric, determine which of b_grid_points is closest\n",
    "\n",
    "    b_indices = np.argmin(cdist(b_grid_points, calc_quat, metric=distance_between_quaternions), axis=0)\n",
    "    # almost everything correct but the order is somehow mixed???\n",
    "    return b_indices\n",
    "\n",
    "# water PT example\n",
    "H2O_pt_name = \"H2O_H2O_0528\"\n",
    "H2O_pt_universe = mda.Universe(f\"{PATH_OUTPUT_PT}{H2O_pt_name}.gro\",\n",
    "                           f\"{PATH_OUTPUT_PT}{H2O_pt_name}.trr\")\n",
    "H2O_second_mol = \"bynum 4:6\"\n",
    "H2O_reference_universe = mda.Universe(f\"{PATH_INPUT_BASEGRO}H2O.gro\")\n",
    "H2O_full_grid = FullGrid(b_grid_name=\"8\", o_grid_name=\"12\", t_grid_name=\"linspace(0.2, 1, 5)\", use_saved=False)\n",
    "H2O_b_grid = my_full_grid.b_rotations.get_grid_as_array()\n",
    "                                      \n",
    "assignments_quaternion_pt = assign_2_b_grid(H2O_pt_universe, H2O_b_grid, H2O_reference_universe, H2O_second_mol)\n",
    "print(assignments_quaternion_pt)\n",
    "vm = ViewManager(H2O_pt_universe)\n",
    "# plot a selection (because too many) that are all assigned to grid point 21\n",
    "assigned_to_26 = np.where(assignments_quaternion_pt == 1)[0]\n",
    "# show in VMD for a better view\n",
    "print(list(assigned_to_26))\n",
    "vm.plot_frames_overlapping(np.random.choice(assigned_to_26, 30))"
   ]
  },
  {
   "cell_type": "code",
   "execution_count": 18,
   "id": "e44d0e50",
   "metadata": {
    "ExecuteTime": {
     "end_time": "2024-02-09T14:26:35.095077Z",
     "start_time": "2024-02-09T14:24:38.743908Z"
    }
   },
   "outputs": [
    {
     "name": "stdout",
     "output_type": "stream",
     "text": [
      "Assigning 25000 frames to 80 quaternions\n",
      "[[ 0.5        -0.5        -0.5         0.5       ]\n",
      " [ 0.5        -0.5         0.5        -0.5       ]\n",
      " [ 0.5         0.5         0.5         0.5       ]\n",
      " [ 0.5         0.5        -0.5         0.5       ]\n",
      " [ 0.5        -0.5         0.5         0.5       ]\n",
      " [ 0.5         0.5         0.5        -0.5       ]\n",
      " [ 0.5         0.5        -0.5        -0.5       ]\n",
      " [ 0.5        -0.5        -0.5        -0.5       ]\n",
      " [ 0.57735027 -0.57735027  0.          0.57735027]\n",
      " [ 0.70710678  0.70710678  0.          0.        ]\n",
      " [ 0.          0.          0.70710678  0.70710678]\n",
      " [ 0.70710678  0.          0.70710678  0.        ]\n",
      " [ 0.          0.57735027  0.57735027 -0.57735027]\n",
      " [ 0.70710678  0.          0.         -0.70710678]\n",
      " [ 0.57735027  0.          0.57735027 -0.57735027]\n",
      " [ 0.57735027  0.57735027  0.         -0.57735027]\n",
      " [ 0.57735027  0.          0.57735027  0.57735027]\n",
      " [ 0.70710678  0.         -0.70710678  0.        ]\n",
      " [ 0.57735027  0.57735027 -0.57735027  0.        ]\n",
      " [ 0.          0.70710678  0.70710678  0.        ]\n",
      " [ 0.          0.70710678 -0.70710678  0.        ]\n",
      " [ 0.          0.          0.          1.        ]\n",
      " [ 0.          0.70710678  0.          0.70710678]\n",
      " [ 0.          0.57735027 -0.57735027 -0.57735027]\n",
      " [ 0.57735027  0.57735027  0.57735027  0.        ]\n",
      " [ 0.70710678  0.          0.          0.70710678]\n",
      " [ 0.          0.          0.70710678 -0.70710678]\n",
      " [ 0.57735027  0.57735027  0.          0.57735027]\n",
      " [ 0.57735027 -0.57735027  0.         -0.57735027]\n",
      " [ 0.70710678 -0.70710678  0.          0.        ]\n",
      " [ 0.          0.70710678  0.         -0.70710678]\n",
      " [ 0.          0.57735027  0.57735027  0.57735027]\n",
      " [ 1.          0.          0.          0.        ]\n",
      " [ 0.          1.          0.          0.        ]\n",
      " [ 0.          0.57735027 -0.57735027  0.57735027]\n",
      " [ 0.57735027 -0.57735027 -0.57735027  0.        ]\n",
      " [ 0.57735027  0.         -0.57735027 -0.57735027]\n",
      " [ 0.          0.          1.          0.        ]\n",
      " [ 0.57735027 -0.57735027  0.57735027  0.        ]\n",
      " [ 0.57735027  0.         -0.57735027  0.57735027]\n",
      " [ 0.66666667  0.66666667  0.          0.33333333]\n",
      " [ 0.33333333 -0.66666667 -0.66666667  0.        ]\n",
      " [ 0.5547002   0.5547002   0.5547002  -0.2773501 ]\n",
      " [ 0.          0.89442719  0.4472136   0.        ]\n",
      " [ 0.33333333  0.66666667 -0.66666667  0.        ]\n",
      " [ 0.          0.          0.89442719 -0.4472136 ]\n",
      " [ 0.2773501   0.5547002   0.5547002   0.5547002 ]\n",
      " [ 0.37796447  0.75592895  0.37796447 -0.37796447]\n",
      " [ 0.63245553 -0.31622777 -0.31622777 -0.63245553]\n",
      " [ 0.66666667 -0.33333333  0.          0.66666667]\n",
      " [ 0.          0.4472136   0.         -0.89442719]\n",
      " [ 0.75592895 -0.37796447 -0.37796447  0.37796447]\n",
      " [ 0.33333333  0.         -0.66666667  0.66666667]\n",
      " [ 0.          0.40824829 -0.40824829  0.81649658]\n",
      " [ 0.33333333  0.66666667  0.66666667  0.        ]\n",
      " [ 0.40824829 -0.40824829  0.          0.81649658]\n",
      " [ 0.31622777  0.63245553 -0.63245553 -0.31622777]\n",
      " [ 0.40824829  0.          0.81649658  0.40824829]\n",
      " [ 0.33333333  0.          0.66666667  0.66666667]\n",
      " [ 0.          0.40824829  0.81649658  0.40824829]\n",
      " [ 0.40824829  0.         -0.40824829 -0.81649658]\n",
      " [ 0.66666667  0.          0.66666667 -0.33333333]\n",
      " [ 0.40824829  0.         -0.81649658 -0.40824829]\n",
      " [ 0.5547002  -0.5547002   0.5547002  -0.2773501 ]\n",
      " [ 0.37796447  0.75592895 -0.37796447 -0.37796447]\n",
      " [ 0.          0.81649658 -0.40824829 -0.40824829]\n",
      " [ 0.75592895 -0.37796447 -0.37796447 -0.37796447]\n",
      " [ 0.31622777 -0.63245553 -0.31622777  0.63245553]\n",
      " [ 0.5547002  -0.5547002  -0.2773501  -0.5547002 ]\n",
      " [ 0.63245553  0.31622777  0.31622777  0.63245553]\n",
      " [ 0.63245553  0.31622777  0.63245553 -0.31622777]\n",
      " [ 0.2773501  -0.5547002   0.5547002  -0.5547002 ]\n",
      " [ 0.66666667  0.         -0.66666667  0.33333333]\n",
      " [ 0.40824829  0.40824829  0.         -0.81649658]\n",
      " [ 0.75592895  0.37796447 -0.37796447  0.37796447]\n",
      " [ 0.37796447 -0.75592895 -0.37796447  0.37796447]\n",
      " [ 0.66666667  0.          0.33333333 -0.66666667]\n",
      " [ 0.37796447 -0.75592895 -0.37796447 -0.37796447]\n",
      " [ 0.          0.40824829  0.40824829  0.81649658]\n",
      " [ 0.81649658 -0.40824829  0.          0.40824829]]\n"
     ]
    }
   ],
   "source": [
    "# test with a real trajectory: see how long it takes\n",
    "gro_name = \"H2O_H2O_0095\"\n",
    "traj_name = \"H2O_H2O_0095_25000\"\n",
    "b_selection = SphereGrid4DFactory().create(alg_name=\"cube4D\", N=80).get_grid_as_array()\n",
    "traj_universe = mda.Universe(f\"{PATH_OUTPUT_PT}H2O_H2O_0095.gro\", f\"{PATH_OUTPUT_PT}H2O_H2O_0095_25000.xtc\")\n",
    "\n",
    "print(f\"Assigning 25000 frames to 80 quaternions\")\n",
    "print(b_selection)\n",
    "\n",
    "quaternion_assignments = assign_2_b_grid(traj_universe, b_selection, H2O_reference_universe, H2O_second_mol)"
   ]
  },
  {
   "cell_type": "code",
   "execution_count": 19,
   "id": "162ef4cd",
   "metadata": {
    "ExecuteTime": {
     "end_time": "2024-02-09T14:26:35.424786Z",
     "start_time": "2024-02-09T14:26:35.095077Z"
    }
   },
   "outputs": [
    {
     "name": "stdout",
     "output_type": "stream",
     "text": [
      "Most popular assignments are [20 33 32] with population [ 644  817 1103]\n"
     ]
    },
    {
     "data": {
      "image/png": "[encoded data removed]",
      "text/plain": [
       "<Figure size 640x480 with 1 Axes>"
      ]
     },
     "metadata": {},
     "output_type": "display_data"
    }
   ],
   "source": [
    "# make a histogram of most populated quaternions\n",
    "sns.histplot(quaternion_assignments, stat=\"count\", bins=np.arange(81))\n",
    "\n",
    "popular, counts = np.unique(quaternion_assignments, return_counts=True)\n",
    "max_counts = k_argmax_in_array(counts, 3)\n",
    "print(f\"Most popular assignments are {popular[max_counts]} with population {counts[max_counts]}\")"
   ]
  },
  {
   "cell_type": "code",
   "execution_count": 20,
   "id": "54947116",
   "metadata": {
    "ExecuteTime": {
     "end_time": "2024-02-09T14:26:45.932373Z",
     "start_time": "2024-02-09T14:26:35.424786Z"
    },
    "scrolled": false
   },
   "outputs": [
    {
     "name": "stdout",
     "output_type": "stream",
     "text": [
      "[1372, 1373, 1374, 1375, 1376, 1377, 1378, 1379, 1380, 1381, 1382, 1383, 1384, 1385, 1386, 1387, 1388, 1389, 1390, 1391, 1392, 1393, 1394, 1395, 1396, 1397, 1398, 1399, 1400, 1401, 1402, 3087, 3088, 3089, 3090, 3091, 3092, 3093, 3094, 3095, 3096, 3097, 3098, 3099, 3100, 3101, 3102, 3103, 3104, 3105, 4055, 4056, 4057, 4058, 4059, 4060, 4061, 4062, 4063, 4064, 4065, 4066, 4067, 4068, 4069, 4438, 4439, 4440, 4441, 4442, 4443, 4444, 4445, 4446, 4447, 4448, 4449, 4450, 5702, 5703, 5704, 5705, 5706, 6892, 6893, 6894, 6895, 6896, 6897, 6898, 7018, 7019, 7020, 7021, 7022, 7023, 7024, 7025, 7026, 7027, 7028, 7228, 7229, 7230, 7231, 7232, 7233, 7234, 7235, 7236, 7237, 7238, 7239, 7240, 7241, 9658, 9659, 9660, 9661, 9662, 9663, 9664, 9665, 9956, 9957, 9958, 9959, 9960, 9961, 9962, 9963, 9964, 9965, 9966, 9967, 9968, 9969, 9970, 9971, 9972, 11750, 11751, 11752, 11753, 11754, 11755, 11756, 11757, 11758, 11759, 11760, 11761, 11762, 11763, 12324, 12325, 12326, 12327, 12328, 12329, 12330, 12331, 12332, 12333, 12334, 14724, 14725, 14726, 14727, 14728, 14729, 14730, 14731, 14732, 14733, 14734, 14735, 14736, 14737, 14738, 14739, 14740, 14741, 14742, 14743, 14744, 14745, 14746, 14747, 14748, 14749, 14750, 14751, 14752, 14753, 14754, 14755, 14756, 14757, 14758, 19511, 19512, 19513, 19514, 19515, 19516, 19517, 19518, 20953, 20954, 20955, 20956, 20957, 20958, 20959, 20960, 20961, 20962, 20963, 20964, 20965, 20966, 20967, 20968, 20969, 20970, 20971, 20972, 23106, 23107, 23108, 23109, 23110, 23111, 23112, 23113, 23114, 23115, 23116, 23117, 23118, 23119, 23120, 23121, 23122]\n"
     ]
    },
    {
     "data": {
      "application/vnd.jupyter.widget-view+json": {
       "model_id": "ce949817367f4ac99ff96cb9e4509aef",
       "version_major": 2,
       "version_minor": 0
      },
      "text/plain": [
       "NGLWidget()"
      ]
     },
     "metadata": {},
     "output_type": "display_data"
    }
   ],
   "source": [
    "# plot some frames of a real trajectory that belong to the same quaternion grid point\n",
    "vm = ViewManager(traj_universe)\n",
    "# plot a selection (because too many) that are all assigned to grid point 21\n",
    "assigned_to_26 = np.where(quaternion_assignments == 15)[0]\n",
    "# show in VMD for a better view\n",
    "print(list(assigned_to_26))\n",
    "vm.plot_frames_overlapping(np.random.choice(assigned_to_26, 30))"
   ]
  },
  {
   "cell_type": "markdown",
   "id": "fa79597b",
   "metadata": {},
   "source": [
    "## Full conversion 3N coordinates <-> 7D gridpoint"
   ]
  },
  {
   "cell_type": "code",
   "execution_count": 21,
   "id": "a896473f",
   "metadata": {
    "ExecuteTime": {
     "end_time": "2024-02-09T14:28:02.120983Z",
     "start_time": "2024-02-09T14:26:45.932373Z"
    }
   },
   "outputs": [],
   "source": [
    "def full_assignment(position_assignment, quaternion_assignment, num_quaternions):\n",
    "    return position_assignment*num_quaternions + quaternion_assignment\n",
    "\n",
    "fg = FullGrid(b_grid_name=\"40\", o_grid_name=\"42\", t_grid_name=\"linspace(0.2, 1, 20)\")\n",
    "b_grid = fg.b_rotations.get_grid_as_array()\n",
    "o_grid = fg.get_o_grid().get_grid_as_array()\n",
    "t_grid = fg.get_radii()\n",
    "\n",
    "position_assignments = assign_2_position_grid(traj_universe, o_grid, \n",
    "                       t_grid, H2O_second_mol)\n",
    "quaternion_assignments = assign_2_b_grid(traj_universe, b_grid, H2O_reference_universe, H2O_second_mol)\n",
    "\n",
    "full_assignments = full_assignment(position_assignments, quaternion_assignments, len(b_grid))"
   ]
  },
  {
   "cell_type": "code",
   "execution_count": 22,
   "id": "fcfe25dc",
   "metadata": {
    "ExecuteTime": {
     "end_time": "2024-02-09T14:28:43.654924Z",
     "start_time": "2024-02-09T14:28:02.120983Z"
    }
   },
   "outputs": [
    {
     "name": "stdout",
     "output_type": "stream",
     "text": [
      "Most popular assignments are [ 3550  3715  4472 32780 32270 32786 33182 32146 32143  4811] with population [58 59 66 62 62 72 73 76 80 85]\n"
     ]
    },
    {
     "data": {
      "image/png": "[encoded data removed]",
      "text/plain": [
       "<Figure size 640x480 with 1 Axes>"
      ]
     },
     "metadata": {},
     "output_type": "display_data"
    }
   ],
   "source": [
    "# make a histogram of most populated full grid cells\n",
    "sns.histplot(full_assignments, stat=\"count\", bins=np.arange(len(fg)+1))\n",
    "\n",
    "popular, counts = np.unique(full_assignments, return_counts=True)\n",
    "max_counts = k_argmax_in_array(counts, 10)\n",
    "print(f\"Most popular assignments are {popular[max_counts]} with population {counts[max_counts]}\")"
   ]
  },
  {
   "cell_type": "code",
   "execution_count": 23,
   "id": "b7a52568",
   "metadata": {
    "ExecuteTime": {
     "end_time": "2024-02-09T14:28:56.123334Z",
     "start_time": "2024-02-09T14:28:43.654924Z"
    }
   },
   "outputs": [
    {
     "name": "stdout",
     "output_type": "stream",
     "text": [
      "[1568, 1569, 1570, 1571, 1572, 1573, 1574, 1575, 1576, 1577, 1578, 1579, 1580, 1581, 1582, 1583, 1584, 1585, 1586, 1587, 1588, 1589, 1727, 1728, 1729, 1730, 1731, 1732, 1733, 1734, 1735, 1736, 1737, 1738, 1739, 1740, 1741, 1742, 1743, 1744, 1745, 1746, 1747, 1748, 1749, 1750, 1751, 1752, 5352, 5353, 5354, 5355, 5356, 5357, 5358, 5359, 5360, 5361]\n"
     ]
    },
    {
     "data": {
      "application/vnd.jupyter.widget-view+json": {
       "model_id": "5ded851a576f4d6baa0111c1d65b46a1",
       "version_major": 2,
       "version_minor": 0
      },
      "text/plain": [
       "NGLWidget()"
      ]
     },
     "metadata": {},
     "output_type": "display_data"
    }
   ],
   "source": [
    "vm = ViewManager(traj_universe)\n",
    "# plot a selection (because too many) that are all assigned to same grid point\n",
    "assigned_to_cell = np.where(full_assignments == 3550)[0]\n",
    "# show in VMD for a better view\n",
    "print(list(assigned_to_cell))\n",
    "vm.plot_frames_overlapping(np.random.choice(assigned_to_cell, 30))"
   ]
  },
  {
   "cell_type": "code",
   "execution_count": 24,
   "id": "c25d43c9",
   "metadata": {
    "ExecuteTime": {
     "end_time": "2024-02-09T14:29:05.285437Z",
     "start_time": "2024-02-09T14:28:56.123334Z"
    }
   },
   "outputs": [
    {
     "name": "stdout",
     "output_type": "stream",
     "text": [
      "[1198, 1199, 1200, 1201, 1202, 1203, 1204, 1205, 1206, 1207, 1208, 1209, 1210, 1211, 1212, 1213, 1214, 1215, 1216, 1217, 1218, 2120, 2121, 2122, 2123, 2124, 2125, 2126, 2127, 2128, 2129, 2130, 2131, 2132, 2133, 2134, 2135, 2136, 2137, 2138, 2139, 2140, 2141, 2142, 3217, 3218, 3219, 3220, 3221, 3222, 3223, 3224, 3225, 3226, 3227, 3228, 3229, 3230, 3231, 3232, 3233, 3234, 3235, 7605, 7606, 7607, 7608, 7609, 7610, 7611, 7612, 7613, 7614, 7615, 7616, 7617, 7618, 7619, 7620, 7621, 7622, 7638, 7639, 7640, 7641]\n"
     ]
    },
    {
     "data": {
      "application/vnd.jupyter.widget-view+json": {
       "model_id": "0620289826a34b77a7aa3703f01cc486",
       "version_major": 2,
       "version_minor": 0
      },
      "text/plain": [
       "NGLWidget()"
      ]
     },
     "metadata": {},
     "output_type": "display_data"
    }
   ],
   "source": [
    "vm = ViewManager(traj_universe)\n",
    "# plot a selection (because too many) that are all assigned to same grid point\n",
    "assigned_to_cell = np.where(full_assignments == 4811)[0]\n",
    "# show in VMD for a better view\n",
    "print(list(assigned_to_cell))\n",
    "vm.plot_frames_overlapping(np.random.choice(assigned_to_cell, 30))\n",
    "\n"
   ]
  },
  {
   "cell_type": "markdown",
   "id": "2c509342",
   "metadata": {},
   "source": [
    "## MSM"
   ]
  },
  {
   "cell_type": "code",
   "execution_count": 25,
   "id": "440a38ee",
   "metadata": {
    "ExecuteTime": {
     "end_time": "2024-02-09T14:30:52.992353Z",
     "start_time": "2024-02-09T14:29:05.285437Z"
    }
   },
   "outputs": [
    {
     "name": "stderr",
     "output_type": "stream",
     "text": [
      "100%|██████████████████████████████████████████████████████████████████████████████████████████████████████████████| 18/18 [00:20<00:00,  1.16s/it]\n",
      "100%|██████████████████████████████████████████████████████████████████████████████████████████████████████████████| 18/18 [00:16<00:00,  1.08it/s]\n"
     ]
    },
    {
     "data": {
      "text/plain": [
       "(array([[ 1.        ,  0.99999695,  0.99995686,  0.99994505,  0.9999342 ,\n",
       "          0.99990768,  0.99978042,  0.99976704],\n",
       "        [ 1.        ,  0.99999111,  0.99987588,  0.99983756,  0.99980777,\n",
       "          0.9997298 ,  0.99937132,  0.99936168],\n",
       "        [ 1.        ,  0.99998626,  0.99980666,  0.99975116,  0.99970499,\n",
       "          0.99957234,  0.99903902,  0.99903457],\n",
       "        [ 1.        ,  0.99997765,  0.99968181,  0.9995914 ,  0.99953119,\n",
       "          0.99929455,  0.99845274,  0.99843474],\n",
       "        [ 1.        ,  0.99993114,  0.99906618,  0.9987856 ,  0.99860773,\n",
       "          0.99781378,  0.99553266,  0.995496  ],\n",
       "        [ 1.        ,  0.99985574,  0.99809531,  0.99761011,  0.99718509,\n",
       "          0.99548467,  0.99148525,  0.99123535],\n",
       "        [ 1.        ,  0.99975342,  0.9968646 ,  0.99611738,  0.99537869,\n",
       "          0.99245794,  0.98749967,  0.98620031],\n",
       "        [ 1.        ,  0.99962445,  0.99531314,  0.9943603 ,  0.9930355 ,\n",
       "          0.98911528,  0.98334049,  0.98090863],\n",
       "        [ 1.        ,  0.99947574,  0.99350594,  0.99236192,  0.99040359,\n",
       "          0.98576812,  0.97991989,  0.97500132],\n",
       "        [ 1.        ,  0.99930597,  0.99169343,  0.99019389,  0.98767779,\n",
       "          0.98188787,  0.97701091,  0.96873853],\n",
       "        [ 1.        ,  0.99912029,  0.98955909,  0.98716999,  0.98454492,\n",
       "          0.97855705,  0.97215181, -0.96814827],\n",
       "        [ 1.        ,  0.99891775,  0.98734268,  0.98450646,  0.98155063,\n",
       "          0.97584066, -0.97090516, -0.97095919],\n",
       "        [ 1.        ,  0.99870282,  0.98500313,  0.98197866,  0.97865029,\n",
       "          0.97325343, -0.96860018, -0.97014489],\n",
       "        [ 1.        ,  0.99848739,  0.98287951,  0.97905994,  0.97644446,\n",
       "          0.97240227, -0.9732733 , -0.97438147],\n",
       "        [ 1.        ,  0.99802315,  0.97928453,  0.97347845,  0.97278523,\n",
       "          0.96649227, -0.9725905 , -0.97512404],\n",
       "        [ 1.        ,  0.99765292,  0.98273179,  0.97379524,  0.96574612,\n",
       "         -0.96444779, -0.97276194, -0.98326939],\n",
       "        [ 1.        ,  0.99676775,  0.97337033,  0.9655575 ,  0.96025422,\n",
       "         -0.96117738, -0.9677548 , -0.97431115],\n",
       "        [ 1.        ,  0.99649703,  0.97844488,  0.9676505 ,  0.9620055 ,\n",
       "         -0.96669004, -0.96785116, -0.97914956]]),\n",
       " array([[[-1.35143635e-19,  2.85038581e-19, -1.09999220e-19, ...,\n",
       "          -1.10506903e-19, -1.14226574e-19,  7.76749477e-21],\n",
       "         [-3.97237560e-22,  4.42502826e-22, -1.64017109e-23, ...,\n",
       "          -3.78301583e-22, -2.36781069e-22, -9.72670853e-23],\n",
       "         [ 9.75242823e-20, -6.33743537e-19,  1.70350187e-19, ...,\n",
       "           5.52743049e-19,  4.87825624e-19,  2.12929231e-19],\n",
       "         ...,\n",
       "         [ 1.62519960e-02,  1.36916075e-02, -9.73214886e-03, ...,\n",
       "           4.70415179e-03, -7.44763787e-03, -1.00399279e-03],\n",
       "         [-2.13553513e-19,  4.22030559e-19, -1.00604897e-19, ...,\n",
       "          -2.65434376e-19, -1.94818603e-19, -9.35018288e-20],\n",
       "         [ 1.35433300e-02,  1.14024055e-02, -8.03362118e-03, ...,\n",
       "           3.84842011e-03, -5.91083275e-03, -8.07472657e-04]],\n",
       " \n",
       "        [[ 4.30576054e-19, -2.80227721e-19,  2.49237370e-19, ...,\n",
       "           1.01867579e-19,  3.21820352e-20, -3.00169000e-19],\n",
       "         [-3.52374355e-19,  2.50396514e-19, -2.09996525e-19, ...,\n",
       "          -9.65123590e-20, -2.70104766e-20,  2.59489982e-19],\n",
       "         [-8.13660859e-20,  5.75262922e-20, -4.77578554e-20, ...,\n",
       "          -2.12994981e-20, -6.49727532e-21,  5.92810445e-20],\n",
       "         ...,\n",
       "         [ 1.62541428e-02,  1.36648763e-02,  9.67479203e-03, ...,\n",
       "           4.89984281e-03, -6.21961672e-03, -4.33041636e-03],\n",
       "         [-1.01285918e-19,  6.90099738e-20, -5.98684685e-20, ...,\n",
       "          -2.72653144e-20, -8.11187513e-21,  7.32590718e-20],\n",
       "         [ 1.35451190e-02,  1.13826772e-02,  8.01251257e-03, ...,\n",
       "           4.03269602e-03, -5.00595893e-03, -3.48732516e-03]],\n",
       " \n",
       "        [[-3.25583418e-21, -1.63577317e-20, -9.52128032e-22, ...,\n",
       "           8.49386331e-21, -3.00470705e-20,  2.29666080e-21],\n",
       "         [-7.61637488e-21, -5.54666763e-20, -2.40372466e-21, ...,\n",
       "           2.28689285e-20, -8.29904822e-20, -2.62930971e-21],\n",
       "         [ 5.40104692e-21, -7.60496927e-20, -1.15782675e-20, ...,\n",
       "           5.87667038e-20, -1.53771348e-19,  1.51763890e-20],\n",
       "         ...,\n",
       "         [ 1.62554998e-02,  1.36526115e-02, -9.63890811e-03, ...,\n",
       "           4.93536938e-03, -5.57187101e-03,  4.87020224e-03],\n",
       "         [ 6.20303798e-23,  8.05308536e-21,  9.20553253e-22, ...,\n",
       "          -5.02396430e-21,  1.37003843e-20, -1.30087540e-21],\n",
       "         [ 1.35462499e-02,  1.13773962e-02, -8.03694725e-03, ...,\n",
       "           4.10799206e-03, -4.61576372e-03,  4.05403586e-03]],\n",
       " \n",
       "        ...,\n",
       " \n",
       "        [[-5.58605778e-20,  3.38166148e-20, -2.72056284e-20, ...,\n",
       "           1.33142642e-19,  2.90109568e-20,  2.60597534e-19],\n",
       "         [ 5.23934366e-20, -3.17172777e-20,  4.32176463e-20, ...,\n",
       "          -1.66460386e-19, -3.02050742e-20, -2.96814293e-19],\n",
       "         [-3.91874490e-20,  1.51048084e-20, -2.69843422e-20, ...,\n",
       "           8.85483505e-20,  2.34183357e-20,  1.76788503e-19],\n",
       "         ...,\n",
       "         [ 1.63313909e-02, -1.34608103e-02, -4.44009339e-03, ...,\n",
       "           9.52819294e-05,  2.07421911e-04, -4.60142219e-05],\n",
       "         [-5.21255876e-20,  1.55273729e-20, -2.35939883e-20, ...,\n",
       "           1.08311986e-19,  1.84748678e-20,  2.00512476e-19],\n",
       "         [ 1.36094924e-02, -1.13940018e-02, -4.22822671e-03, ...,\n",
       "          -8.01591430e-03, -8.14677488e-03, -1.86675386e-03]],\n",
       " \n",
       "        [[-2.66933942e-20,  5.03618419e-21,  3.61461526e-21, ...,\n",
       "          -7.18764541e-21, -3.47956683e-20, -3.34493639e-21],\n",
       "         [-5.81232244e-20,  2.54561025e-20,  1.94135161e-21, ...,\n",
       "           1.19786224e-20, -7.47597832e-20,  2.18746310e-21],\n",
       "         [ 2.57584062e-19, -1.23678343e-19,  1.69505042e-20, ...,\n",
       "           1.69627953e-20,  4.20069973e-19,  1.07403285e-20],\n",
       "         ...,\n",
       "         [-1.63496919e-02,  1.34542716e-02,  3.64233965e-03, ...,\n",
       "           4.52177686e-05, -2.06006691e-03, -5.59389018e-04],\n",
       "         [ 2.57538288e-19, -1.25281630e-19,  1.09837085e-20, ...,\n",
       "           1.54717254e-20,  3.98077264e-19,  3.77250340e-20],\n",
       "         [-1.36247432e-02,  1.14840960e-02, -5.60020678e-04, ...,\n",
       "           2.95149135e-03,  3.61397554e-03,  5.01859710e-03]],\n",
       " \n",
       "        [[ 9.01531701e-20,  3.74363245e-20, -1.44095952e-19, ...,\n",
       "           4.33457717e-21,  9.36994738e-20, -2.92706303e-19],\n",
       "         [-1.35767641e-19, -1.62301718e-20,  2.56474613e-19, ...,\n",
       "           8.60884455e-20, -2.01695893e-19,  4.97998244e-19],\n",
       "         [-1.28459385e-19, -2.77725260e-20,  2.23658914e-19, ...,\n",
       "           4.33878932e-20, -1.32196412e-19,  4.30936431e-19],\n",
       "         ...,\n",
       "         [-1.63595951e-02, -1.33090884e-02, -6.54320972e-03, ...,\n",
       "          -2.44310153e-03,  1.08954465e-03,  4.73047877e-04],\n",
       "         [-2.04891375e-19, -2.82880392e-20,  3.82051580e-19, ...,\n",
       "           3.24525111e-20, -1.99171834e-19,  7.59092116e-19],\n",
       "         [-1.36329959e-02, -1.14940119e-02, -7.26153902e-03, ...,\n",
       "           8.89916633e-04,  1.09555358e-03, -3.27216745e-04]]]))"
      ]
     },
     "execution_count": 25,
     "metadata": {},
     "output_type": "execute_result"
    }
   ],
   "source": [
    "fg = FullGrid(b_grid_name=\"40\", o_grid_name=\"42\", t_grid_name=\"linspace(0.2, 1, 20)\")\n",
    "water_sh = SimulationHistogram(trajectory_name=\"H2O_H2O_0095_25000\", is_pt=False,\n",
    "                               reference_name=\"H2O\",\n",
    "                               second_molecule_selection=\"bynum 4:6\",\n",
    "                               full_grid=fg, use_saved=False)\n",
    "\n",
    "water_MSM = MSM(water_sh)\n",
    "water_MSM.get_transitions_matrix()\n",
    "water_MSM.get_eigenval_eigenvec(8)"
   ]
  },
  {
   "cell_type": "code",
   "execution_count": 29,
   "id": "23e19ae9",
   "metadata": {
    "ExecuteTime": {
     "end_time": "2024-02-09T14:35:34.583444Z",
     "start_time": "2024-02-09T14:35:01.652693Z"
    }
   },
   "outputs": [
    {
     "name": "stderr",
     "output_type": "stream",
     "text": [
      "100%|██████████████████████████████████████████████████████████████████████████████████████████████████████████████| 18/18 [00:14<00:00,  1.22it/s]\n",
      "100%|██████████████████████████████████████████████████████████████████████████████████████████████████████████████| 18/18 [00:17<00:00,  1.02it/s]\n"
     ]
    },
    {
     "data": {
      "image/png": "[encoded data removed]",
      "text/plain": [
       "<Figure size 1000x500 with 2 Axes>"
      ]
     },
     "metadata": {},
     "output_type": "display_data"
    }
   ],
   "source": [
    "import matplotlib.pyplot as plt\n",
    "tp = TransitionPlot(water_sh)\n",
    "fig, ax = plt.subplots(1, 2, sharex=False, sharey=False, figsize=(10, 5))\n",
    "tp.plot_eigenvalues(num_eigenv=5, index_tau=14, save=False, fig=fig, ax=ax[0])\n",
    "tp.plot_its(5, as_line=False, save=False, fig=fig, ax=ax[1])\n",
    "plt.show()"
   ]
  },
  {
   "cell_type": "code",
   "execution_count": 30,
   "id": "efdf6e11",
   "metadata": {
    "ExecuteTime": {
     "end_time": "2024-02-09T14:36:11.134231Z",
     "start_time": "2024-02-09T14:35:34.583444Z"
    }
   },
   "outputs": [
    {
     "name": "stderr",
     "output_type": "stream",
     "text": [
      "100%|██████████████████████████████████████████████████████████████████████████████████████████████████████████████| 18/18 [00:11<00:00,  1.53it/s]\n",
      "100%|██████████████████████████████████████████████████████████████████████████████████████████████████████████████| 18/18 [00:11<00:00,  1.57it/s]\n",
      "100%|██████████████████████████████████████████████████████████████████████████████████████████████████████████████| 18/18 [00:12<00:00,  1.45it/s]\n"
     ]
    },
    {
     "data": {
      "image/png": "[encoded data removed]",
      "text/plain": [
       "<Figure size 640x480 with 3 Axes>"
      ]
     },
     "metadata": {},
     "output_type": "display_data"
    }
   ],
   "source": [
    "fig, ax = plt.subplots(3, sharex=True, sharey=True)\n",
    "for i in range(3):\n",
    "    tp.plot_one_eigenvector_flat(i, save=False, fig=fig, ax=ax[i], index_tau=14)\n",
    "plt.show()"
   ]
  },
  {
   "cell_type": "code",
   "execution_count": 35,
   "id": "fb997cab",
   "metadata": {
    "ExecuteTime": {
     "end_time": "2024-02-09T14:43:03.683827Z",
     "start_time": "2024-02-09T14:42:35.582797Z"
    }
   },
   "outputs": [
    {
     "name": "stderr",
     "output_type": "stream",
     "text": [
      "100%|██████████████████████████████████████████████████████████████████████████████████████████████████████████████| 18/18 [00:10<00:00,  1.65it/s]\n"
     ]
    },
    {
     "name": "stdout",
     "output_type": "stream",
     "text": [
      "(33600,)\n",
      "2nd position eigenvector has most negative cell 4811 and most positive cell 32143.\n",
      "[1198, 1199, 1200, 1201, 1202, 1203, 1204, 1205, 1206, 1207, 1208, 1209, 1210, 1211, 1212, 1213, 1214, 1215, 1216, 1217, 1218, 2120, 2121, 2122, 2123, 2124, 2125, 2126, 2127, 2128, 2129, 2130, 2131, 2132, 2133, 2134, 2135, 2136, 2137, 2138, 2139, 2140, 2141, 2142, 3217, 3218, 3219, 3220, 3221, 3222, 3223, 3224, 3225, 3226, 3227, 3228, 3229, 3230, 3231, 3232, 3233, 3234, 3235, 7605, 7606, 7607, 7608, 7609, 7610, 7611, 7612, 7613, 7614, 7615, 7616, 7617, 7618, 7619, 7620, 7621, 7622, 7638, 7639, 7640, 7641, 14862, 14863, 14864, 14865, 14866, 14867, 14868, 14869, 14870, 14871, 14872, 14873, 14874, 14875, 14876, 14877, 14878, 14879, 14880, 14881, 14882, 14883, 14884, 14885, 14886, 14887, 14888, 14889, 14890, 14891, 14892, 14893, 14894, 14895, 14896, 14897, 14898, 14899, 14900, 14901, 14902, 14903, 15542, 15543, 15544, 15545, 15546, 15547, 15548, 15549, 15550, 15551, 15552, 15553, 15554, 15555, 15556, 15557, 15558, 15559, 15560, 15561, 15562, 16093, 16094, 16095, 16096, 16097, 16098, 16099, 16100, 16101, 16102, 16103, 16104, 16105, 16106, 16107, 16108, 16109]\n"
     ]
    },
    {
     "data": {
      "application/vnd.jupyter.widget-view+json": {
       "model_id": "201083d2161949b2ad1ebd7f9b1cbb5b",
       "version_major": 2,
       "version_minor": 0
      },
      "text/plain": [
       "NGLWidget()"
      ]
     },
     "metadata": {},
     "output_type": "display_data"
    }
   ],
   "source": [
    "vm = ViewManager(water_sh.trajectory_universe)\n",
    "vm.fresh_view()\n",
    "\n",
    "magnitudes = water_sh.get_magnitude_ith_eigenvector(1)\n",
    "vm.set_color_magnitude(magnitudes, )\n",
    "print(magnitudes.shape)\n",
    "\n",
    "# \n",
    "num_extremes = 2\n",
    "most_positive = np.argmax(magnitudes)\n",
    "most_negative = np.argmin(magnitudes)\n",
    "print(f\"2nd position eigenvector has most negative cell {most_negative} and most positive cell {most_positive}.\")\n",
    "# now assign these to trajectory frames\n",
    "assigned_frames = []\n",
    "colors = []\n",
    "for one_argmax in [most_negative, most_positive]:\n",
    "    all_assigned = water_sh.get_indices_same_cell(one_argmax)\n",
    "    assigned_frames.extend(all_assigned)\n",
    "    colors.extend([vm.current_magnitudes[one_argmax]])\n",
    "vm.current_magnitudes = None\n",
    "print(assigned_frames)\n",
    "\n",
    "vm.plot_frames_overlapping(np.random.choice(assigned_frames, 30))\n",
    "vm.view"
   ]
  },
  {
   "cell_type": "code",
   "execution_count": 83,
   "id": "77e76438",
   "metadata": {
    "ExecuteTime": {
     "end_time": "2024-02-09T13:21:37.325430Z",
     "start_time": "2024-02-09T13:21:37.309834Z"
    }
   },
   "outputs": [],
   "source": [
    "# -> direction: INPUT start coordinates (3N), 7D gridpoint; OUTPUT end coordinates (3N)\n",
    "# <- direction: INPUT end coordinates (3N), start coordinates (3N); OUTPUT 7D gridpoint"
   ]
  },
  {
   "cell_type": "code",
   "execution_count": null,
   "id": "c312a648",
   "metadata": {},
   "outputs": [],
   "source": []
  }
 ],
 "metadata": {
  "kernelspec": {
   "display_name": "Python 3 (ipykernel)",
   "language": "python",
   "name": "python3"
  },
  "language_info": {
   "codemirror_mode": {
    "name": "ipython",
    "version": 3
   },
   "file_extension": ".py",
   "mimetype": "text/x-python",
   "name": "python",
   "nbconvert_exporter": "python",
   "pygments_lexer": "ipython3",
   "version": "3.9.13"
  },
  "toc": {
   "base_numbering": 1,
   "nav_menu": {},
   "number_sections": true,
   "sideBar": true,
   "skip_h1_title": true,
   "title_cell": "Table of Contents",
   "title_sidebar": "Contents",
   "toc_cell": true,
   "toc_position": {},
   "toc_section_display": true,
   "toc_window_display": false
  }
 },
 "nbformat": 4,
 "nbformat_minor": 5
}
