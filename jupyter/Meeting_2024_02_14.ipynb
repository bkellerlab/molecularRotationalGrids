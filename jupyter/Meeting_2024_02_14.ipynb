{
 "cells": [
  {
   "cell_type": "markdown",
   "id": "4c46c943",
   "metadata": {
    "toc": true
   },
   "source": [
    "<h1>Table of Contents<span class=\"tocSkip\"></span></h1>\n",
    "<div class=\"toc\"><ul class=\"toc-item\"><li><span><a href=\"#Position-space\" data-toc-modified-id=\"Position-space-1\"><span class=\"toc-item-num\">1&nbsp;&nbsp;</span>Position space</a></span><ul class=\"toc-item\"><li><span><a href=\"#Translation-of-COM-instead-of-rotation-around-origin\" data-toc-modified-id=\"Translation-of-COM-instead-of-rotation-around-origin-1.1\"><span class=\"toc-item-num\">1.1&nbsp;&nbsp;</span>Translation of COM instead of rotation around origin</a></span></li><li><span><a href=\"#Determine-position-index\" data-toc-modified-id=\"Determine-position-index-1.2\"><span class=\"toc-item-num\">1.2&nbsp;&nbsp;</span>Determine position index</a></span></li></ul></li><li><span><a href=\"#Orientation-space\" data-toc-modified-id=\"Orientation-space-2\"><span class=\"toc-item-num\">2&nbsp;&nbsp;</span>Orientation space</a></span><ul class=\"toc-item\"><li><span><a href=\"#Determine-internal-coordinate-system-(principal-axes)\" data-toc-modified-id=\"Determine-internal-coordinate-system-(principal-axes)-2.1\"><span class=\"toc-item-num\">2.1&nbsp;&nbsp;</span>Determine internal coordinate system (principal axes)</a></span></li><li><span><a href=\"#Realize-that-determining-principal-axes-isn't-sufficient\" data-toc-modified-id=\"Realize-that-determining-principal-axes-isn't-sufficient-2.2\"><span class=\"toc-item-num\">2.2&nbsp;&nbsp;</span>Realize that determining principal axes isn't sufficient</a></span></li><li><span><a href=\"#Determine-quaternion-index\" data-toc-modified-id=\"Determine-quaternion-index-2.3\"><span class=\"toc-item-num\">2.3&nbsp;&nbsp;</span>Determine quaternion index</a></span></li></ul></li><li><span><a href=\"#Full-conversion-3N-coordinates-<->-7D-gridpoint\" data-toc-modified-id=\"Full-conversion-3N-coordinates-<->-7D-gridpoint-3\"><span class=\"toc-item-num\">3&nbsp;&nbsp;</span>Full conversion 3N coordinates &lt;-&gt; 7D gridpoint</a></span></li><li><span><a href=\"#MSM\" data-toc-modified-id=\"MSM-4\"><span class=\"toc-item-num\">4&nbsp;&nbsp;</span>MSM</a></span></li></ul></div>"
   ]
  },
  {
   "cell_type": "code",
   "execution_count": 1,
   "id": "060932ea",
   "metadata": {
    "ExecuteTime": {
     "end_time": "2024-02-21T14:00:21.512594Z",
     "start_time": "2024-02-21T14:00:21.508595Z"
    }
   },
   "outputs": [],
   "source": [
    "import sys\n",
    "import os\n",
    "\n",
    "try:\n",
    "    os.chdir(r\"/home/hanaz63/PAPER_MOLECULAR_ROTATIONS_2022/nobackup/molgri\")\n",
    "    sys.path.append(r\"/home/hanaz63/PAPER_MOLECULAR_ROTATIONS_2022/nobackup\")\n",
    "except FileNotFoundError:\n",
    "    os.chdir(r\"D:\\HANA\\phD\\PAPER_2022\\molecularRotationalGrids\")\n",
    "    sys.path.append(r\"D:\\HANA\\phD\\PAPER_2022\\molecularRotationalGrids\")\n",
    "    \n",
    "import warnings\n",
    "warnings.filterwarnings(\"ignore\")"
   ]
  },
  {
   "cell_type": "code",
   "execution_count": 2,
   "id": "3b810021",
   "metadata": {
    "ExecuteTime": {
     "end_time": "2024-02-21T14:00:26.084304Z",
     "start_time": "2024-02-21T14:00:22.155476Z"
    }
   },
   "outputs": [
    {
     "data": {
      "application/vnd.jupyter.widget-view+json": {
       "model_id": "61a90ae39771402fbbf036d7475a5252",
       "version_major": 2,
       "version_minor": 0
      },
      "text/plain": []
     },
     "metadata": {},
     "output_type": "display_data"
    }
   ],
   "source": [
    "import numpy as np\n",
    "import matplotlib.pyplot as plt\n",
    "from numpy.typing import NDArray\n",
    "import MDAnalysis as mda\n",
    "from scipy.spatial.distance import cdist\n",
    "from scipy.spatial.transform import Rotation\n",
    "from MDAnalysis.analysis.base import AnalysisFromFunction\n",
    "import seaborn as sns\n",
    "\n",
    "from molgri.plotting.widgets import ViewManager\n",
    "from molgri.paths import PATH_OUTPUT_PT, PATH_INPUT_BASEGRO\n",
    "from molgri.space.fullgrid import FullGrid\n",
    "from molgri.space.utils import normalise_vectors, k_argmax_in_array, distance_between_quaternions, q_in_upper_sphere\n",
    "from molgri.molecules.transitions import MSM, SimulationHistogram\n",
    "from molgri.plotting.transition_plots import TransitionPlot\n",
    "from molgri.space.translations import get_between_radii\n",
    "\n",
    "sns.set_context(\"notebook\")"
   ]
  },
  {
   "cell_type": "markdown",
   "id": "fd8cfc87",
   "metadata": {},
   "source": [
    "## Position space\n",
    "\n",
    "In a PT, the order is as following:\n",
    "- position 1, orientation 1,\n",
    "- position 1, orientation 2,\n",
    "- ...\n",
    "- position 1, orientation $N_b$,\n",
    "- position 2, orientation 1,\n",
    "- position 2, orientation 2,\n",
    "- ...\n",
    "- ...\n",
    "- position $N_p$, orientation $N_b$"
   ]
  },
  {
   "cell_type": "markdown",
   "id": "8b6f647d",
   "metadata": {},
   "source": [
    "\n",
    "### Translation of COM instead of rotation around origin\n",
    "\n",
    "See: every $N_b$-th frame of PT has the exact same orientation."
   ]
  },
  {
   "cell_type": "code",
   "execution_count": 9,
   "id": "1de6ed09",
   "metadata": {
    "ExecuteTime": {
     "end_time": "2024-02-21T10:01:09.843760Z",
     "start_time": "2024-02-21T10:01:09.582789Z"
    }
   },
   "outputs": [
    {
     "data": {
      "application/vnd.jupyter.widget-view+json": {
       "model_id": "877c1cb628d949dc9a746ff45f54f111",
       "version_major": 2,
       "version_minor": 0
      },
      "text/plain": [
       "Box(children=(NGLWidget(layout=Layout(width='200px')), NGLWidget(layout=Layout(width='200px')), NGLWidget(layo…"
      ]
     },
     "metadata": {},
     "output_type": "display_data"
    }
   ],
   "source": [
    "# generated a file with\n",
    "# python -m molgri.scripts.generate_pt -m1 H2O -m2 H2O -o \"12\" -b \"8\" -t \"linspace(0.2, 1, 5)\" --recal\n",
    "pt_name = \"H2O_H2O_0528\"\n",
    "pt_universe = mda.Universe(f\"{PATH_OUTPUT_PT}{pt_name}.gro\",\n",
    "                           f\"{PATH_OUTPUT_PT}{pt_name}.trr\")\n",
    "len_pt = len(pt_universe.trajectory)\n",
    "\n",
    "vm = ViewManager(pt_universe)\n",
    "# plot every 8th frame\n",
    "# because we have 8 orientations, every 8th structure should be translated version of each other\n",
    "\n",
    "vm.plot_frames_sequential(list(range(0, 8)))"
   ]
  },
  {
   "cell_type": "code",
   "execution_count": 3,
   "id": "50f7348f",
   "metadata": {
    "ExecuteTime": {
     "end_time": "2024-02-21T09:46:21.265109Z",
     "start_time": "2024-02-21T09:46:20.452686Z"
    }
   },
   "outputs": [
    {
     "name": "stdout",
     "output_type": "stream",
     "text": [
      "[0, 8, 16, 24, 32, 40, 48, 56, 64, 72, 80, 88, 96, 104, 112, 120, 128, 136, 144, 152, 160, 168, 176, 184, 192, 200, 208, 216, 224, 232, 240, 248, 256, 264, 272, 280, 288, 296, 304, 312, 320, 328, 336, 344, 352, 360, 368, 376, 384, 392, 400, 408, 416, 424, 432, 440, 448, 456, 464, 472]\n"
     ]
    },
    {
     "data": {
      "application/vnd.jupyter.widget-view+json": {
       "model_id": "23e30a5590174bc0a3a8fcbe4c363ca6",
       "version_major": 2,
       "version_minor": 0
      },
      "text/plain": [
       "NGLWidget()"
      ]
     },
     "metadata": {},
     "output_type": "display_data"
    }
   ],
   "source": [
    "# generated a file with\n",
    "# python -m molgri.scripts.generate_pt -m1 H2O -m2 H2O -o \"12\" -b \"8\" -t \"linspace(0.2, 1, 5)\" --recal\n",
    "pt_name = \"H2O_H2O_0528\"\n",
    "pt_universe = mda.Universe(f\"{PATH_OUTPUT_PT}{pt_name}.gro\",\n",
    "                           f\"{PATH_OUTPUT_PT}{pt_name}.trr\")\n",
    "len_pt = len(pt_universe.trajectory)\n",
    "\n",
    "vm = ViewManager(pt_universe)\n",
    "# plot every 8th frame\n",
    "# because we have 8 orientations, every 8th structure should be translated version of each other\n",
    "every_eighth_0 = np.arange(0, len_pt, 8)\n",
    "print(list(every_eighth_0))\n",
    "vm.plot_frames_overlapping(every_eighth_0[20:30])"
   ]
  },
  {
   "cell_type": "code",
   "execution_count": 4,
   "id": "edb4dda2",
   "metadata": {
    "ExecuteTime": {
     "end_time": "2024-02-21T09:46:29.526614Z",
     "start_time": "2024-02-21T09:46:28.713738Z"
    }
   },
   "outputs": [
    {
     "name": "stdout",
     "output_type": "stream",
     "text": [
      "[3, 11, 19, 27, 35, 43, 51, 59, 67, 75, 83, 91, 99, 107, 115, 123, 131, 139, 147, 155, 163, 171, 179, 187, 195, 203, 211, 219, 227, 235, 243, 251, 259, 267, 275, 283, 291, 299, 307, 315, 323, 331, 339, 347, 355, 363, 371, 379, 387, 395, 403, 411, 419, 427, 435, 443, 451, 459, 467, 475]\n"
     ]
    },
    {
     "data": {
      "application/vnd.jupyter.widget-view+json": {
       "model_id": "c498c9f9817946aab788dc9ab53e8dae",
       "version_major": 2,
       "version_minor": 0
      },
      "text/plain": [
       "NGLWidget()"
      ]
     },
     "metadata": {},
     "output_type": "display_data"
    }
   ],
   "source": [
    "vm.fresh_view()\n",
    "every_eighth_3 = np.arange(3, len_pt, 8)\n",
    "# similar thing for another class of identical orientations\n",
    "print(list(every_eighth_3))\n",
    "vm.plot_frames_overlapping(every_eighth_3[20:30])"
   ]
  },
  {
   "cell_type": "markdown",
   "id": "a13e65c6",
   "metadata": {},
   "source": [
    "### Determine position index\n",
    "\n",
    "- radial index: calculate the norm of COM for each frame, assign to the closest radius (Euclidean distance)\n",
    "- direction (o_grid) index: normalise the COM for each frame, assign to the closest point on unit sphere (cosinus distance)\n",
    "- position index: radial_index * num_directions + direction_index"
   ]
  },
  {
   "cell_type": "code",
   "execution_count": 5,
   "id": "37e235ac",
   "metadata": {
    "ExecuteTime": {
     "end_time": "2024-02-13T09:28:21.117816Z",
     "start_time": "2024-02-13T09:28:21.113241Z"
    }
   },
   "outputs": [],
   "source": [
    "# separately determine index in the radial direction and on the sphere, then combine\n",
    "\n",
    "def assign_2_t_grid(my_trajectory: mda.Universe, t_grid_points: NDArray,\n",
    "                         second_molecule: str) -> NDArray:\n",
    "    \"\"\"\n",
    "    Given a trajectoryand an array of available radial (t-grid) points, assign each frame of the trajectory\n",
    "    to the closest radial point.\n",
    "    \n",
    "    Args:\n",
    "        my_trajectory: a Universe of two molecules\n",
    "        radial_grid_points: a sorted array of available radial grid distances in A like [2, 4, 6]\n",
    "        second_molecule: a string that tdefines which part of the Universe is a moving molecule\n",
    "    \n",
    "    Returns:\n",
    "        an integer array as long as the trajectory, each element an index of the closest point of the radial grid\n",
    "        like [0, 0, 0, 1, 1, 1, 2 ...] (for a PT with 3 orientations)\n",
    "    \"\"\"\n",
    "    t_selection = AnalysisFromFunction(lambda ag: np.argmin(np.abs(t_grid_points-np.linalg.norm(ag.center_of_mass())), axis=0),\n",
    "                                     my_trajectory.trajectory,\n",
    "                                     my_trajectory.select_atoms(second_molecule))\n",
    "    t_selection.run()\n",
    "    t_indices = t_selection.results['timeseries'].flatten()\n",
    "    return t_indices\n",
    "\n",
    "def assign_2_o_grid(my_trajectory: mda.Universe, o_grid_points: NDArray, \n",
    "                           second_molecule: str) -> NDArray:\n",
    "    \"\"\"\n",
    "    Assign every frame of the trajectory (or PT) to the best fitting point of position grid\n",
    "\n",
    "    Returns:\n",
    "        an array of position grid indices\n",
    "    \"\"\"\n",
    "    # now using a normalized com and a metric on a sphere, determine which of o_grid_points is closest\n",
    "    o_selection = AnalysisFromFunction(lambda ag: np.argmin(cdist(o_grid_points, normalise_vectors(\n",
    "        ag.center_of_mass())[np.newaxis, :], metric=\"cos\"), axis=0),\n",
    "                                     my_trajectory.trajectory,\n",
    "                                     my_trajectory.select_atoms(second_molecule))\n",
    "    o_selection.run()\n",
    "    o_indices = o_selection.results['timeseries'].flatten()\n",
    "    return o_indices\n",
    "\n",
    "def assign_2_position_grid(my_trajectory: mda.Universe, o_grid_points: NDArray, t_grid_points: NDArray,\n",
    "                         second_molecule: str):\n",
    "    \"\"\"\n",
    "    Combine assigning to t_grid and o_grid.\n",
    "    \"\"\"\n",
    "    t_assignments = assign_2_t_grid(my_trajectory=my_trajectory, t_grid_points=t_grid_points, \n",
    "                                    second_molecule=second_molecule)\n",
    "    o_assignments = assign_2_o_grid(my_trajectory=my_trajectory, o_grid_points=o_grid_points,\n",
    "                                   second_molecule=second_molecule)\n",
    "    # sum up the layer index and o index correctly\n",
    "    return np.array(t_assignments * len(o_grid_points) + o_assignments, dtype=int)\n"
   ]
  },
  {
   "cell_type": "code",
   "execution_count": 5,
   "id": "0998bb14",
   "metadata": {
    "ExecuteTime": {
     "end_time": "2024-02-13T13:10:08.882386Z",
     "start_time": "2024-02-13T13:10:08.610959Z"
    }
   },
   "outputs": [
    {
     "name": "stdout",
     "output_type": "stream",
     "text": [
      "[ 0  0  0  0  0  0  0  0  1  1  1  1  1  1  1  1  2  2  2  2  2  2  2  2\n",
      "  3  3  3  3  3  3  3  3  4  4  4  4  4  4  4  4  5  5  5  5  5  5  5  5\n",
      "  6  6  6  6  6  6  6  6  7  7  7  7  7  7  7  7  8  8  8  8  8  8  8  8\n",
      "  9  9  9  9  9  9  9  9 10 10 10 10 10 10 10 10 11 11 11 11 11 11 11 11\n",
      " 12 12 12 12 12 12 12 12 13 13 13 13 13 13 13 13 14 14 14 14 14 14 14 14\n",
      " 15 15 15 15 15 15 15 15 16 16 16 16 16 16 16 16 17 17 17 17 17 17 17 17\n",
      " 18 18 18 18 18 18 18 18 19 19 19 19 19 19 19 19 20 20 20 20 20 20 20 20\n",
      " 21 21 21 21 21 21 21 21 22 22 22 22 22 22 22 22 23 23 23 23 23 23 23 23\n",
      " 24 24 24 24 24 24 24 24 25 25 25 25 25 25 25 25 26 26 26 26 26 26 26 26\n",
      " 27 27 27 27 27 27 27 27 28 28 28 28 28 28 28 28 29 29 29 29 29 29 29 29\n",
      " 30 30 30 30 30 30 30 30 31 31 31 31 31 31 31 31 32 32 32 32 32 32 32 32\n",
      " 33 33 33 33 33 33 33 33 34 34 34 34 34 34 34 34 35 35 35 35 35 35 35 35\n",
      " 36 36 36 36 36 36 36 36 37 37 37 37 37 37 37 37 38 38 38 38 38 38 38 38\n",
      " 39 39 39 39 39 39 39 39 40 40 40 40 40 40 40 40 41 41 41 41 41 41 41 41\n",
      " 42 42 42 42 42 42 42 42 43 43 43 43 43 43 43 43 44 44 44 44 44 44 44 44\n",
      " 45 45 45 45 45 45 45 45 46 46 46 46 46 46 46 46 47 47 47 47 47 47 47 47\n",
      " 48 48 48 48 48 48 48 48 49 49 49 49 49 49 49 49 50 50 50 50 50 50 50 50\n",
      " 51 51 51 51 51 51 51 51 52 52 52 52 52 52 52 52 53 53 53 53 53 53 53 53\n",
      " 54 54 54 54 54 54 54 54 55 55 55 55 55 55 55 55 56 56 56 56 56 56 56 56\n",
      " 57 57 57 57 57 57 57 57 58 58 58 58 58 58 58 58 59 59 59 59 59 59 59 59]\n"
     ]
    }
   ],
   "source": [
    "# test with a PT\n",
    "sh_water_small = SimulationHistogram(\"H2O_H2O_0528\", \"H2O\", is_pt=True, second_molecule_selection=\"bynum 4:6\",\n",
    "                                    use_saved=False)\n",
    "position_assignments_ws = sh_water_small.get_position_assignments()\n",
    "\n",
    "print(position_assignments_ws)\n",
    "# test: a PT should have the first 8 elements in position 0, then 8 in position 1 ...\n",
    "expected_assignments = np.repeat(np.arange(12*5), 8)\n",
    "assert np.all(position_assignments_ws == expected_assignments)"
   ]
  },
  {
   "cell_type": "code",
   "execution_count": 7,
   "id": "8b3c5eb0",
   "metadata": {
    "ExecuteTime": {
     "end_time": "2024-02-13T13:10:28.479053Z",
     "start_time": "2024-02-13T13:10:21.374796Z"
    }
   },
   "outputs": [
    {
     "name": "stdout",
     "output_type": "stream",
     "text": [
      "Assigning 25000 frames to 25x20=500 positions\n"
     ]
    }
   ],
   "source": [
    "# test with a real trajectory: see how long it takes\n",
    "traj_full_grid = FullGrid(b_grid_name=\"20\", o_grid_name=\"25\", t_grid_name=\"linspace(0.2, 0.9, 20)\")\n",
    "sh_water_traj = SimulationHistogram(\"H2O_H2O_0095_30000\", \"H2O\", is_pt=False, full_grid=traj_full_grid,\n",
    "                                    second_molecule_selection=\"bynum 4:6\", use_saved=False)\n",
    "position_assignments_wt = sh_water_traj.get_position_assignments()\n",
    "\n",
    "print(f\"Assigning 25000 frames to 25x20={25*20} positions\")"
   ]
  },
  {
   "cell_type": "code",
   "execution_count": 10,
   "id": "1c665a9d",
   "metadata": {
    "ExecuteTime": {
     "end_time": "2024-02-13T13:10:50.875615Z",
     "start_time": "2024-02-13T13:10:50.388042Z"
    }
   },
   "outputs": [
    {
     "name": "stdout",
     "output_type": "stream",
     "text": [
      "Most popular assignments are [57 77 52 63 82 88 93 78 68 53] with population [ 912  920  995  933  929  926 1253 1286 2218 1730]\n"
     ]
    },
    {
     "data": {
      "image/png": "[encoded data removed]",
      "text/plain": [
       "<Figure size 640x480 with 1 Axes>"
      ]
     },
     "metadata": {},
     "output_type": "display_data"
    }
   ],
   "source": [
    "# make a histogram of most populated positions\n",
    "sns.histplot(position_assignments_wt, stat=\"count\", bins=np.arange(501))\n",
    "\n",
    "popular, counts = np.unique(position_assignments_wt, return_counts=True)\n",
    "max_counts = k_argmax_in_array(counts, 10)\n",
    "print(f\"Most popular assignments are {popular[max_counts]} with population {counts[max_counts]}\")\n",
    "plt.show()"
   ]
  },
  {
   "cell_type": "code",
   "execution_count": 14,
   "id": "c037fa48",
   "metadata": {
    "ExecuteTime": {
     "end_time": "2024-02-13T13:12:50.420391Z",
     "start_time": "2024-02-13T13:12:41.022693Z"
    }
   },
   "outputs": [
    {
     "name": "stdout",
     "output_type": "stream",
     "text": [
      "[7247, 20312, 22097, 29234, 24064, 5486, 27533, 27093, 26617, 19727, 3463, 28391, 28136, 20718, 21714, 26605, 5467, 28557, 26426, 3481, 24139, 24515, 5178, 21701, 19766, 6078, 3104, 7346, 27041, 5180, 15577, 657, 647, 21686, 27529, 18770, 26610, 29234, 20015, 20030, 5182, 28120, 22065, 19949, 18870, 20063, 6045, 28369, 6067, 20168, 25889, 28561, 19560, 3108, 20075, 28571, 10288, 22102, 27538, 28327, 5523, 7250, 20191, 18762, 28562, 27993, 5300, 17710, 3100, 19551, 15798, 5374, 26560, 5385, 5392, 19733, 5873, 6067, 2834, 13505, 8100, 19056, 7303, 18779, 28154, 25682, 5510, 21814, 27710, 3213, 21839, 5667, 5480, 27519, 2847, 6042, 18781, 28334, 655, 19528]\n"
     ]
    },
    {
     "data": {
      "application/vnd.jupyter.widget-view+json": {
       "model_id": "ec6509c6e6db40a082c36bdef845277b",
       "version_major": 2,
       "version_minor": 0
      },
      "text/plain": [
       "NGLWidget()"
      ]
     },
     "metadata": {},
     "output_type": "display_data"
    }
   ],
   "source": [
    "# plot some frames of a real trajectory that belong to the same position grid point\n",
    "vm = ViewManager(sh_water_traj.trajectory_universe)\n",
    "# plot a selection (because too many) that are all assigned to grid point 26\n",
    "assigned_to_26 = np.where(position_assignments_wt == 68)[0]\n",
    "# show in VMD for a better view\n",
    "print(list(np.random.choice(assigned_to_26, 100)))\n",
    "vm.plot_frames_overlapping(np.random.choice(assigned_to_26, 30))"
   ]
  },
  {
   "cell_type": "code",
   "execution_count": 22,
   "id": "d364c7e3",
   "metadata": {
    "ExecuteTime": {
     "end_time": "2024-02-13T13:17:00.166755Z",
     "start_time": "2024-02-13T13:16:51.339252Z"
    }
   },
   "outputs": [
    {
     "name": "stdout",
     "output_type": "stream",
     "text": [
      "[14374, 9340, 1929, 9330, 9069, 9063, 1936, 9064, 1937, 1933, 2113, 2115, 9070, 1931, 9064, 1936, 2105, 14363, 9341, 2109, 9060, 9083, 2107, 14368, 14370, 14361, 14363, 9338, 2112, 9345, 9062, 1932, 14363, 9082, 9080, 9081, 14368, 2116, 9336, 9078, 1939, 9061, 1930, 9333, 14353, 9344, 9064, 9080, 9336, 9344, 9342, 2107, 1937, 1931, 2108, 14361, 2112, 1936, 9331, 9076, 9074, 2114, 14364, 14355, 2116, 14367, 9068, 2112, 9343, 14355, 2114, 1932, 14374, 9332, 14371, 14374, 9069, 9069, 14356, 1939, 9073, 2110, 1932, 9345, 9339, 14373, 9073, 2115, 14355, 9060, 14361, 9343, 9068, 9333, 9339, 9330, 9066, 2116, 9343, 9332]\n"
     ]
    },
    {
     "data": {
      "application/vnd.jupyter.widget-view+json": {
       "model_id": "de3b7cc5c4664518aca48dc17d3985dc",
       "version_major": 2,
       "version_minor": 0
      },
      "text/plain": [
       "NGLWidget()"
      ]
     },
     "metadata": {},
     "output_type": "display_data"
    }
   ],
   "source": [
    "# try another one\n",
    "vm.fresh_view()\n",
    "# plot a selection (because too many) that are all assigned to grid point 477\n",
    "assigned_to_477 = np.where(position_assignments_wt == 100)[0]\n",
    "# show in VMD for a better view\n",
    "print(list(np.random.choice(assigned_to_477, 100)))\n",
    "vm.plot_frames_overlapping(np.random.choice(assigned_to_477, 30))"
   ]
  },
  {
   "cell_type": "code",
   "execution_count": 23,
   "id": "ccdca7a3",
   "metadata": {
    "ExecuteTime": {
     "end_time": "2024-02-13T13:17:30.843124Z",
     "start_time": "2024-02-13T13:17:26.858422Z"
    }
   },
   "outputs": [
    {
     "data": {
      "image/png": "[encoded data removed]",
      "text/plain": [
       "<Figure size 1500x1000 with 1 Axes>"
      ]
     },
     "metadata": {},
     "output_type": "display_data"
    }
   ],
   "source": [
    "# only radial distribution\n",
    "fig, ax = plt.subplots(1, 1, figsize=(15, 10))\n",
    "r_dist = sh_water_traj._assign_trajectory_2_t_grid()\n",
    "sns.histplot(r_dist, stat=\"count\", bins=np.arange(sh_water_traj.full_grid.get_t_N()+1), ax=ax)\n",
    "radii = get_between_radii(sh_water_traj.full_grid.get_radii(), include_zero=True)\n",
    "plt.gca().set_xticks(np.arange(sh_water_traj.full_grid.get_t_N()+1))\n",
    "plt.gca().set_xticklabels([f\"{r:.2}\" for r in radii])\n",
    "plt.gca().set_xlabel(\"Approximate radii [A]\")\n",
    "plt.show()"
   ]
  },
  {
   "cell_type": "code",
   "execution_count": 24,
   "id": "c960dcb1",
   "metadata": {
    "ExecuteTime": {
     "end_time": "2024-02-13T13:17:40.934536Z",
     "start_time": "2024-02-13T13:17:35.778785Z"
    }
   },
   "outputs": [
    {
     "data": {
      "image/png": "[encoded data removed]",
      "text/plain": [
       "<Figure size 1500x1000 with 1 Axes>"
      ]
     },
     "metadata": {},
     "output_type": "display_data"
    }
   ],
   "source": [
    "fig, ax = plt.subplots(1, 1, figsize=(15, 10))\n",
    "o_dist = sh_water_traj._assign_trajectory_2_o_grid()\n",
    "sns.histplot(o_dist, stat=\"count\", bins=np.arange(sh_water_traj.full_grid.get_o_N()+1), ax=ax)\n",
    "#radii = get_between_radii(sh_water_traj.full_grid.get_radii(), include_zero=True)\n",
    "#print(radii, sh_water_traj.full_grid.get_t_N()+1)\n",
    "plt.gca().set_xticks([0.5 + i for i in np.arange(sh_water_traj.full_grid.get_o_N())])\n",
    "plt.gca().set_xticklabels(np.arange(sh_water_traj.full_grid.get_o_N()))\n",
    "plt.gca().set_xlabel(\"Population of each direction index\")\n",
    "plt.show()"
   ]
  },
  {
   "cell_type": "markdown",
   "id": "72088fc1",
   "metadata": {},
   "source": [
    "## Orientation space"
   ]
  },
  {
   "cell_type": "markdown",
   "id": "e0d2118f",
   "metadata": {},
   "source": [
    "### Determine internal coordinate system (principal axes)\n",
    "\n",
    "For each frame and any molecule we need to have a consistent way to determine internal coordinate system. The first step to this are principal axes."
   ]
  },
  {
   "cell_type": "code",
   "execution_count": 26,
   "id": "d8219515",
   "metadata": {
    "ExecuteTime": {
     "end_time": "2024-02-13T13:17:57.179320Z",
     "start_time": "2024-02-13T13:17:57.115038Z"
    }
   },
   "outputs": [
    {
     "name": "stdout",
     "output_type": "stream",
     "text": [
      "[[ 0.     1.     0.   ]\n",
      " [-0.599  0.    -0.8  ]\n",
      " [-0.8    0.     0.599]]\n",
      "[-1.70130157  1.          1.0514622 ]\n"
     ]
    },
    {
     "data": {
      "application/vnd.jupyter.widget-view+json": {
       "model_id": "4b51680c4f11415eb327625d3f209023",
       "version_major": 2,
       "version_minor": 0
      },
      "text/plain": [
       "NGLWidget()"
      ]
     },
     "metadata": {},
     "output_type": "display_data"
    }
   ],
   "source": [
    "# determine principal axes\n",
    "second_molecule = \"bynum 4:6\"\n",
    "\n",
    "# principal axes of the first frame\n",
    "pa_zero = pt_universe.select_atoms(second_molecule).principal_axes()\n",
    "com_zero = pt_universe.select_atoms(second_molecule).center_of_mass()\n",
    "print(np.round(pa_zero, 3))\n",
    "print(com_zero+pa_zero[0])\n",
    "\n",
    "# display principal axes of first frame\n",
    "vm = ViewManager(pt_universe)\n",
    "vm.fresh_view()\n",
    "vm.plot_ith_frame(0)\n",
    "vm.add_principal_axes(com_zero, pa_zero)\n",
    "vm.view\n",
    "\n"
   ]
  },
  {
   "cell_type": "code",
   "execution_count": 27,
   "id": "980188fb",
   "metadata": {
    "ExecuteTime": {
     "end_time": "2024-02-13T13:18:05.036580Z",
     "start_time": "2024-02-13T13:18:04.656926Z"
    }
   },
   "outputs": [
    {
     "name": "stdout",
     "output_type": "stream",
     "text": [
      "[[-0.     0.     1.   ]\n",
      " [ 0.8   -0.599  0.   ]\n",
      " [ 0.599  0.8    0.   ]]\n",
      "[[-0.    -0.     1.   ]\n",
      " [ 0.8    0.599  0.   ]\n",
      " [-0.599  0.8    0.   ]]\n",
      "[[ 0.     0.     1.   ]\n",
      " [ 0.8   -0.599  0.   ]\n",
      " [ 0.599  0.8    0.   ]]\n"
     ]
    },
    {
     "data": {
      "application/vnd.jupyter.widget-view+json": {
       "model_id": "a380c99d9a7d495ba1e280194b9b66a0",
       "version_major": 2,
       "version_minor": 0
      },
      "text/plain": [
       "NGLWidget()"
      ]
     },
     "metadata": {},
     "output_type": "display_data"
    }
   ],
   "source": [
    "vm.fresh_view()\n",
    "\n",
    "# principal axes change in relation to the stationary coordinate system when the molecule is re-oriented\n",
    "# but they remain the same in relation to the molecule itself\n",
    "\n",
    "# using some selected PT frames for demonstration\n",
    "for i in [20, 63, 284]:\n",
    "    pt_universe.trajectory[i]\n",
    "    pa_current = pt_universe.select_atoms(second_molecule).principal_axes()\n",
    "    com_current = pt_universe.select_atoms(second_molecule).center_of_mass()\n",
    "    print(np.round(pa_current, 3))\n",
    "\n",
    "    # display this\n",
    "    vm.plot_ith_frame(i)\n",
    "    vm.add_principal_axes(com_current, pa_current)\n",
    "vm.view"
   ]
  },
  {
   "cell_type": "markdown",
   "id": "91cca4ec",
   "metadata": {},
   "source": [
    "... well, almost the same\n",
    "\n",
    "### Realize that determining principal axes isn't sufficient\n",
    "\n",
    "What we attempt to do in this cell:\n",
    "\n",
    "    a) calculate PA of a PT frame as above (where all atoms have been rotated with a rotation matrix)\n",
    "    b) calculate PA as product of initial PA and a rotation matrix\n",
    "\n",
    "The results are the same UP TO A SIGN (direction of the vectors)"
   ]
  },
  {
   "cell_type": "code",
   "execution_count": 28,
   "id": "01493538",
   "metadata": {
    "ExecuteTime": {
     "end_time": "2024-02-13T13:18:18.297260Z",
     "start_time": "2024-02-13T13:18:17.422504Z"
    }
   },
   "outputs": [
    {
     "name": "stdout",
     "output_type": "stream",
     "text": [
      "my R @ ref PA\n",
      " [[ 0.    -0.599  0.8  ]\n",
      " [ 0.     0.8    0.599]\n",
      " [-1.     0.     0.   ]]\n",
      "frame PA\n",
      " [[ 0.     0.599  0.8  ]\n",
      " [-0.    -0.8    0.599]\n",
      " [ 1.    -0.    -0.   ]]\n"
     ]
    },
    {
     "data": {
      "application/vnd.jupyter.widget-view+json": {
       "model_id": "7b8ee560946f47b6a6731694d3254f2c",
       "version_major": 2,
       "version_minor": 0
      },
      "text/plain": [
       "NGLWidget()"
      ]
     },
     "metadata": {},
     "output_type": "display_data"
    }
   ],
   "source": [
    "# LESSION LEARNED: principal axes are axes and NOT vectors - their direction is NOT clearly defined\n",
    "# see also: https://math.stackexchange.com/questions/145023/rotation-matrix-from-an-inertia-tensor\n",
    "\n",
    "# python -m molgri.scripts.generate_pt -m1 H2O -m2 H2O -o \"1\" -b \"20\" -t \"1\" --recal\n",
    "from molgri.space.rotobj import SphereGrid4DFactory\n",
    "b_selection = SphereGrid4DFactory().create(alg_name=\"cube4D\", N=20).get_grid_as_array()\n",
    "b_universe = mda.Universe(f\"{PATH_OUTPUT_PT}H2O_H2O_0407.gro\", f\"{PATH_OUTPUT_PT}H2O_H2O_0407.xtc\")\n",
    "\n",
    "vm = ViewManager(b_universe)\n",
    "vm.fresh_view()\n",
    "reference_structure = mda.Universe(f\"{PATH_INPUT_BASEGRO}H2O.gro\")\n",
    "reference_principal_axes = reference_structure.atoms.principal_axes()\n",
    "\n",
    "for i in range(17, 18):\n",
    "    b_universe.trajectory[i]\n",
    "    reference_structure = mda.Universe(f\"{PATH_INPUT_BASEGRO}H2O.gro\")\n",
    "    reference_principal_axes = reference_structure.atoms.principal_axes()\n",
    "    my_R = Rotation(b_selection[i]).as_matrix()\n",
    "    expected_pa = Rotation(b_selection[i]).apply(reference_principal_axes)\n",
    "    #expected_pa = (my_R @ reference_principal_axes.T).T\n",
    "\n",
    "    print(\"my R @ ref PA\\n\", np.round(expected_pa.T, 3))\n",
    "\n",
    "    current_principal_axes = b_universe.select_atoms(second_molecule).principal_axes()\n",
    "    com_current = b_universe.select_atoms(second_molecule).center_of_mass()\n",
    "    print(\"frame PA\\n\", np.round(current_principal_axes.T, 3))\n",
    "    vm.plot_ith_frame(i)\n",
    "    vm.add_principal_axes(com_current, expected_pa)\n",
    "    vm.add_principal_axes(com_current, current_principal_axes)\n",
    "vm.view"
   ]
  },
  {
   "cell_type": "markdown",
   "id": "8b7bbd2e",
   "metadata": {},
   "source": [
    "How to solve this: in addition to principal axes, determine positive direction along each PA\n",
    "\n",
    "Simple idea: take the first atom that isn't perpendicular to that axis and calculate the angle ATOM-COM-PA. The smaller of the angles defines the + direction of this PA.\n",
    "\n",
    "Some caveats:\n",
    "- need to take care of round-off errors (save files in high precision, round to the given precision)\n",
    "- in planar molecules, all atoms are perpendicular to one axis -> solution, use right-handedness of the coordinate axes\n",
    "- in linear molecules, all atoms are perpendicular to two axes -> still a problem\n",
    "\n",
    "Given the definitions:\n",
    "\n",
    "$PA_i$ = initial principal axes as column vectors, $D_i$ = initial direction\n",
    "\n",
    "$PA_c$ = current principal axes as column vectors, $D_c$ = current direction\n",
    "\n",
    "$R$ rotation matrix applied on initial to get current\n",
    "\n",
    "The formula to re-construct the rotation matrix (and from it quaternion) only from the frames of the trajectory and the reference/initial structure is:\n",
    "\n",
    "($D_c \\cdot PA_c$) = $ R @ (D_i \\cdot PA_i)$\n",
    "\n",
    "$R$ = $(\\frac{D_c}{D_i} \\cdot PA_c) @ (PA_i)^{-1}$"
   ]
  },
  {
   "cell_type": "code",
   "execution_count": 29,
   "id": "1f6e4c0e",
   "metadata": {
    "ExecuteTime": {
     "end_time": "2024-02-13T13:18:39.046392Z",
     "start_time": "2024-02-13T13:18:38.163499Z"
    }
   },
   "outputs": [
    {
     "name": "stdout",
     "output_type": "stream",
     "text": [
      "[-1.  1. -1.]\n",
      "True [ 0.5 -0.5 -0.5  0.5] [ 0.5 -0.5 -0.5  0.5]\n",
      "[1. 1. 1.]\n",
      "True [ 0.5 -0.5  0.5 -0.5] [ 0.5 -0.5  0.5 -0.5]\n",
      "[ 1. -1. -1.]\n",
      "True [0.5 0.5 0.5 0.5] [0.5 0.5 0.5 0.5]\n",
      "[1. 1. 1.]\n",
      "True [ 0.5  0.5 -0.5  0.5] [ 0.5  0.5 -0.5  0.5]\n",
      "[-1. -1.  1.]\n",
      "True [ 0.5 -0.5  0.5  0.5] [ 0.5 -0.5  0.5  0.5]\n",
      "[ 1. -1. -1.]\n",
      "True [ 0.5  0.5  0.5 -0.5] [ 0.5  0.5  0.5 -0.5]\n",
      "[-1. -1.  1.]\n",
      "True [ 0.5  0.5 -0.5 -0.5] [ 0.5  0.5 -0.5 -0.5]\n",
      "[-1.  1. -1.]\n",
      "True [ 0.5 -0.5 -0.5 -0.5] [ 0.5 -0.5 -0.5 -0.5]\n",
      "[ 1. -1. -1.]\n",
      "True [ 0.57735027 -0.57735027  0.          0.57735027] [ 0.57735 -0.57735  0.       0.57735]\n",
      "[1. 1. 1.]\n",
      "True [0.70710678 0.70710678 0.         0.        ] [ 0.707107  0.707107  0.       -0.      ]\n",
      "[-1. -1.  1.]\n",
      "True [0.         0.         0.70710678 0.70710678] [-0.        0.        0.707107  0.707107]\n",
      "[1. 1. 1.]\n",
      "True [0.70710678 0.         0.70710678 0.        ] [0.707107 0.       0.707107 0.      ]\n",
      "[1. 1. 1.]\n",
      "True [ 0.          0.57735027  0.57735027 -0.57735027] [ 0.       0.57735  0.57735 -0.57735]\n",
      "[-1. -1.  1.]\n",
      "True [ 0.70710678  0.          0.         -0.70710678] [ 0.707107 -0.       -0.       -0.707107]\n",
      "[-1.  1. -1.]\n",
      "True [ 0.57735027  0.          0.57735027 -0.57735027] [ 0.57735  0.       0.57735 -0.57735]\n",
      "[-1. -1.  1.]\n",
      "True [ 0.57735027  0.57735027  0.         -0.57735027] [ 0.57735  0.57735 -0.      -0.57735]\n",
      "[-1. -1.  1.]\n",
      "True [0.57735027 0.         0.57735027 0.57735027] [ 0.57735 -0.       0.57735  0.57735]\n",
      "[-1.  1. -1.]\n",
      "True [ 0.70710678  0.         -0.70710678  0.        ] [ 0.707107  0.       -0.707107 -0.      ]\n",
      "[ 1. -1. -1.]\n",
      "True [ 0.57735027  0.57735027 -0.57735027  0.        ] [ 0.57735  0.57735 -0.57735 -0.     ]\n",
      "[ 1. -1. -1.]\n",
      "True [0.         0.70710678 0.70710678 0.        ] [ 0.        0.707107  0.707107 -0.      ]\n"
     ]
    }
   ],
   "source": [
    "# example: nonplanar molecule (glucose)\n",
    "\n",
    "def determine_positive_directions(current_universe, second_molecule):\n",
    "    pas = current_universe.select_atoms(second_molecule).principal_axes()\n",
    "    com = current_universe.select_atoms(second_molecule).center_of_mass()\n",
    "    directions = [0, 0, 0]\n",
    "    for atom_pos in current_universe.select_atoms(second_molecule).positions:\n",
    "        for i, pa in enumerate(pas):\n",
    "            # need to round to avoid problems - assigning direction with atoms very close to 0\n",
    "            cosalpha = np.round(pa.dot(atom_pos-com), 6)\n",
    "            directions[i] = np.sign(cosalpha)\n",
    "        if not np.any(np.isclose(directions,0)):\n",
    "            break\n",
    "    # TODO: if exactly one unknown use the other two and properties of righthanded systems to get third\n",
    "    if np.sum(np.isclose(directions,0)) == 1:\n",
    "        # only these combinations of directions are possible in righthanded coordinate systems\n",
    "        allowed_righthanded = [[1, 1, 1], [-1, 1, -1], [1, -1, -1], [-1, -1, 1]]\n",
    "        for ar in allowed_righthanded:\n",
    "            # exactly two identical (and the third is zero)\n",
    "            if np.sum(np.isclose(ar, directions)) == 2:\n",
    "                directions = ar\n",
    "                break\n",
    "    # if two (or three - that would just be an atom) unknowns raise an error\n",
    "    elif np.sum(np.isclose(directions,0)) > 1:\n",
    "        raise ValueError(\"All atoms perpendicular to at least one of principal axes, can´t determine direction.\")\n",
    "    return np.array(directions)\n",
    "\n",
    "# saved PT\n",
    "my_new_u = mda.Universe(f\"{PATH_OUTPUT_PT}glucose_glucose_0025.gro\", f\"{PATH_OUTPUT_PT}glucose_glucose_0025.trr\")\n",
    "b_selection = SphereGrid4DFactory().create(alg_name=\"cube4D\", N=20).get_grid_as_array()\n",
    "second_molecule_glu = \"bynum 13:24\"\n",
    "\n",
    "# reference structure\n",
    "reference_structure = mda.Universe(f\"{PATH_INPUT_BASEGRO}glucose.xyz\")\n",
    "second_molecule_ref = \"bynum 1:12\"\n",
    "reference_principal_axes = reference_structure.atoms.principal_axes().T\n",
    "inverse_pa = np.linalg.inv(reference_principal_axes)\n",
    "reference_direction = determine_positive_directions(reference_structure, second_molecule_ref)\n",
    "\n",
    "# frame 0: q3 in direction C-O, frame 1: q3 in direction O\n",
    "for i in range(20):\n",
    "    my_new_u.trajectory[i]\n",
    "    com_current = my_new_u.select_atoms(second_molecule_glu).center_of_mass()\n",
    "    current_principal_axes = my_new_u.select_atoms(second_molecule_glu).principal_axes().T\n",
    "    current_directions = determine_positive_directions(my_new_u, second_molecule_glu)\n",
    "    direction = current_directions / reference_direction\n",
    "    produkt = np.multiply(current_principal_axes, np.tile(direction, (3, 1))) @ inverse_pa\n",
    "    calc_quat = np.round(Rotation.from_matrix(produkt).as_quat(), 6) \n",
    "    if not q_in_upper_sphere(calc_quat):\n",
    "        calc_quat = -calc_quat\n",
    "    print(current_directions)\n",
    "    print(np.allclose(b_selection[i], calc_quat, atol=1e-5, rtol=1e-5), b_selection[i], calc_quat)"
   ]
  },
  {
   "cell_type": "code",
   "execution_count": 30,
   "id": "b2c20372",
   "metadata": {
    "ExecuteTime": {
     "end_time": "2024-02-13T13:18:43.307607Z",
     "start_time": "2024-02-13T13:18:42.425907Z"
    }
   },
   "outputs": [
    {
     "name": "stdout",
     "output_type": "stream",
     "text": [
      "True [ 0.5 -0.5 -0.5  0.5] [ 0.5 -0.5 -0.5  0.5]\n",
      "True [ 0.5 -0.5  0.5 -0.5] [ 0.5 -0.5  0.5 -0.5]\n",
      "True [0.5 0.5 0.5 0.5] [0.5 0.5 0.5 0.5]\n",
      "True [ 0.5  0.5 -0.5  0.5] [ 0.5  0.5 -0.5  0.5]\n",
      "True [ 0.5 -0.5  0.5  0.5] [ 0.5 -0.5  0.5  0.5]\n",
      "True [ 0.5  0.5  0.5 -0.5] [ 0.5  0.5  0.5 -0.5]\n",
      "True [ 0.5  0.5 -0.5 -0.5] [ 0.5  0.5 -0.5 -0.5]\n",
      "True [ 0.5 -0.5 -0.5 -0.5] [ 0.5 -0.5 -0.5 -0.5]\n",
      "True [ 0.57735027 -0.57735027  0.          0.57735027] [ 0.57735 -0.57735  0.       0.57735]\n",
      "True [0.70710678 0.70710678 0.         0.        ] [ 0.707107  0.707107 -0.       -0.      ]\n",
      "True [0.         0.         0.70710678 0.70710678] [-0.       -0.        0.707107  0.707107]\n",
      "True [0.70710678 0.         0.70710678 0.        ] [ 0.707107 -0.        0.707107 -0.      ]\n",
      "True [ 0.          0.57735027  0.57735027 -0.57735027] [ 0.       0.57735  0.57735 -0.57735]\n",
      "True [ 0.70710678  0.          0.         -0.70710678] [ 0.707107 -0.       -0.       -0.707107]\n",
      "True [ 0.57735027  0.          0.57735027 -0.57735027] [ 0.57735  0.       0.57735 -0.57735]\n",
      "True [ 0.57735027  0.57735027  0.         -0.57735027] [ 0.57735  0.57735  0.      -0.57735]\n",
      "True [0.57735027 0.         0.57735027 0.57735027] [ 0.57735 -0.       0.57735  0.57735]\n",
      "True [ 0.70710678  0.         -0.70710678  0.        ] [ 0.707107 -0.       -0.707107  0.      ]\n",
      "True [ 0.57735027  0.57735027 -0.57735027  0.        ] [ 0.57735  0.57735 -0.57735  0.     ]\n",
      "True [0.         0.70710678 0.70710678 0.        ] [ 0.        0.707107  0.707107 -0.      ]\n"
     ]
    }
   ],
   "source": [
    "# example: planar molecule (water)\n",
    "#python -m molgri.scripts.generate_pt -m1 H2O_a -m2 H2O_a -o \"1\" -b \"20\" -t \"0.3\" --recal --extension_structure gro --extension_trajectory trr\n",
    "\n",
    "\n",
    "# saved PT\n",
    "my_new_u = mda.Universe(f\"{PATH_OUTPUT_PT}H2O_a_H2O_a_0000.gro\", f\"{PATH_OUTPUT_PT}H2O_a_H2O_a_0000.trr\")\n",
    "b_selection = SphereGrid4DFactory().create(alg_name=\"cube4D\", N=20).get_grid_as_array()\n",
    "second_molecule_glu = \"bynum 4:6\"\n",
    "\n",
    "# reference structure\n",
    "reference_structure = mda.Universe(f\"{PATH_INPUT_BASEGRO}H2O_a.gro\")\n",
    "second_molecule_ref = \"bynum 1:3\"\n",
    "reference_principal_axes = reference_structure.atoms.principal_axes().T\n",
    "inverse_pa = np.linalg.inv(reference_principal_axes)\n",
    "reference_direction = determine_positive_directions(reference_structure, second_molecule_ref)\n",
    "\n",
    "# frame 0: q3 in direction C-O, frame 1: q3 in direction O\n",
    "for i in range(20):\n",
    "    my_new_u.trajectory[i]\n",
    "    com_current = my_new_u.select_atoms(second_molecule_glu).center_of_mass()\n",
    "    current_principal_axes = my_new_u.select_atoms(second_molecule_glu).principal_axes().T\n",
    "    current_directions = determine_positive_directions(my_new_u, second_molecule_glu)\n",
    "    direction = current_directions * reference_direction\n",
    "    produkt = np.multiply(current_principal_axes, np.tile(direction, (3, 1))) @ inverse_pa\n",
    "    calc_quat = np.round(Rotation.from_matrix(produkt).as_quat(), 6) \n",
    "    if not q_in_upper_sphere(calc_quat):\n",
    "        calc_quat = -calc_quat\n",
    "    print(np.allclose(b_selection[i], calc_quat, atol=1e-6, rtol=1e-5), b_selection[i], calc_quat)"
   ]
  },
  {
   "cell_type": "markdown",
   "id": "915ca2e4",
   "metadata": {},
   "source": [
    "In summary:\n",
    "- save and use (pseudo)trajectories in high-precision TRR format\n",
    "- determine principal axes of the reference structure and every frame of the PT\n",
    "- determine direction of each PA from the coordinates of the first atom that isn't perpendicular to it\n",
    "- if a molecule is planar, you can still determine directions from right-handedness of PAs\n",
    "- it doesn't make much sense to compare to PAs alone, since you'd need to make sure that the calculation of direction is defined the same way in both cases\n",
    "\n",
    "TODO:\n",
    "- need a better symmetry handling for linear molecules"
   ]
  },
  {
   "cell_type": "markdown",
   "id": "6aabe70a",
   "metadata": {},
   "source": [
    "### Determine quaternion index\n",
    "\n",
    "1) determine the quaternion that rotates the reference structure to the current structure (see above)\n",
    "2) calculate distance (quaternion metric) to all quaternion grid points and select the closest one"
   ]
  },
  {
   "cell_type": "code",
   "execution_count": 31,
   "id": "533c08f0",
   "metadata": {
    "ExecuteTime": {
     "end_time": "2024-02-13T13:18:58.643035Z",
     "start_time": "2024-02-13T13:18:48.230157Z"
    },
    "scrolled": true
   },
   "outputs": [
    {
     "name": "stdout",
     "output_type": "stream",
     "text": [
      "[ 0  1  2  3  4  5  6  7  8  9 10 11 12 13 14 15 16 17 18 19 20 21 22 23\n",
      " 24  0  1  2  3  4  5  6  7  8  9 10 11 12 13 14 15 16 17 18 19 20 21 22\n",
      " 23 24  0  1  2  3  4  5  6  7  8  9 10 11 12 13 14 15 16 17 18 19 20 21\n",
      " 22 23 24  0  1  2  3  4  5  6  7  8  9 10 11 12 13 14 15 16 17 18 19 20\n",
      " 21 22 23 24  0  1  2  3  4  5  6  7  8  9 10 11 12 13 14 15 16 17 18 19\n",
      " 20 21 22 23 24  0  1  2  3  4  5  6  7  8  9 10 11 12 13 14 15 16 17 18\n",
      " 19 20 21 22 23 24  0  1  2  3  4  5  6  7  8  9 10 11 12 13 14 15 16 17\n",
      " 18 19 20 21 22 23 24  0  1  2  3  4  5  6  7  8  9 10 11 12 13 14 15 16\n",
      " 17 18 19 20 21 22 23 24  0  1  2  3  4  5  6  7  8  9 10 11 12 13 14 15\n",
      " 16 17 18 19 20 21 22 23 24  0  1  2  3  4  5  6  7  8  9 10 11 12 13 14\n",
      " 15 16 17 18 19 20 21 22 23 24]\n",
      "[1, 26, 51, 76, 101, 126, 151, 176, 201, 226]\n"
     ]
    },
    {
     "data": {
      "application/vnd.jupyter.widget-view+json": {
       "model_id": "44879e52ec074cbbaba1563601ec97e8",
       "version_major": 2,
       "version_minor": 0
      },
      "text/plain": [
       "NGLWidget()"
      ]
     },
     "metadata": {},
     "output_type": "display_data"
    }
   ],
   "source": [
    "# example: PT\n",
    "# python -m molgri.scripts.generate_pt -m1 H2O -m2 H2O -o 5 -t \"[0.3, 0.6]\" -b 25 --extension_traj trr --recal\n",
    "sh = SimulationHistogram(\"H2O_H2O_0529\", \"H2O\", is_pt=True, full_grid=None,\n",
    "                                 second_molecule_selection=\"bynum 4:6\", use_saved=False)\n",
    "quat_assignents = sh.get_quaternion_assignments()\n",
    "print(quat_assignents)\n",
    "\n",
    "# assert assignments exactly 0, 1, 2 ...N_b, 0, 1, 2 ... N_b, 0, 1, ... \n",
    "assert np.all(quat_assignents == sh.full_grid.get_quaternion_index())\n",
    "\n",
    "# now let's view this\n",
    "vm = ViewManager(sh.trajectory_universe)\n",
    "# plot a selection (because too many) that are all assigned to grid point 1\n",
    "assigned_to_cell = np.where(quat_assignents == 1)[0]\n",
    "# show in VMD for a better view\n",
    "print(list(assigned_to_cell))\n",
    "vm.plot_frames_overlapping(np.random.choice(assigned_to_cell, 30))"
   ]
  },
  {
   "cell_type": "code",
   "execution_count": 32,
   "id": "aa1a349c",
   "metadata": {
    "ExecuteTime": {
     "end_time": "2024-02-13T13:20:17.024074Z",
     "start_time": "2024-02-13T13:19:06.947955Z"
    }
   },
   "outputs": [
    {
     "name": "stdout",
     "output_type": "stream",
     "text": [
      "Assigning 30001 frames to 40 quaternions\n"
     ]
    }
   ],
   "source": [
    "# test with a real trajectory: see how long it takes\n",
    "H2O_full_grid = FullGrid(b_grid_name=\"40\", o_grid_name=\"42\", t_grid_name=\"linspace(0.2, 0.9, 20)\",\n",
    "                        use_saved=False)\n",
    "\n",
    "# H2O_H2O_0095_25000\n",
    "sh = SimulationHistogram(\"H2O_H2O_0095_30000\", \"H2O\", is_pt=False,\n",
    "                             full_grid=H2O_full_grid,\n",
    "                             second_molecule_selection=\"bynum 4:6\",\n",
    "                         use_saved=False)\n",
    "\n",
    "print(f\"Assigning {len(sh.trajectory_universe.trajectory)} frames to {sh.full_grid.get_b_N()} quaternions\")\n",
    "\n",
    "quaternion_assignments = sh.get_quaternion_assignments()"
   ]
  },
  {
   "cell_type": "code",
   "execution_count": 33,
   "id": "533a290b",
   "metadata": {
    "ExecuteTime": {
     "end_time": "2024-02-13T13:20:19.818666Z",
     "start_time": "2024-02-13T13:20:19.592806Z"
    }
   },
   "outputs": [
    {
     "name": "stdout",
     "output_type": "stream",
     "text": [
      "[21 21 21 ... 20 20 20]\n",
      "Most popular assignments are [25 21 33] with population [1567 1821 2189]\n"
     ]
    },
    {
     "data": {
      "image/png": "[encoded data removed]",
      "text/plain": [
       "<Figure size 640x480 with 1 Axes>"
      ]
     },
     "metadata": {},
     "output_type": "display_data"
    }
   ],
   "source": [
    "# make a histogram of most populated quaternions\n",
    "print(quaternion_assignments)\n",
    "sns.histplot(quaternion_assignments, stat=\"count\", bins=np.arange(1+sh.full_grid.get_b_N()))\n",
    "\n",
    "popular, counts = np.unique(quaternion_assignments, return_counts=True)\n",
    "max_counts = k_argmax_in_array(counts, 3)\n",
    "print(f\"Most popular assignments are {popular[max_counts]} with population {counts[max_counts]}\")"
   ]
  },
  {
   "cell_type": "code",
   "execution_count": 36,
   "id": "2d985941",
   "metadata": {
    "ExecuteTime": {
     "end_time": "2024-02-13T13:26:31.281727Z",
     "start_time": "2024-02-13T13:25:45.701657Z"
    }
   },
   "outputs": [
    {
     "name": "stdout",
     "output_type": "stream",
     "text": [
      "[28276, 13827, 27464, 4886, 27495, 29149, 26764, 29068, 23516, 11083, 21696, 26072, 29015, 27809, 26507, 11056, 8319, 21710, 26933, 28302, 8124, 13783, 27157, 21361, 29156, 27472, 19200, 20180, 21132, 26930, 28096, 3216, 21140, 28264, 28273, 2831, 19617, 21694, 3232, 22921, 22290, 10212, 26950, 21944, 13846, 5795, 21150, 9212, 29066, 29142, 13821, 26996, 10979, 13845, 28088, 20260, 27401, 8327, 26519, 27478, 24729, 27467, 26915, 27506, 19529, 20158, 5197, 21244, 29042, 27847, 22297, 28270, 26499, 25859, 20256, 21211, 5588, 25849, 21136, 26088, 3244, 27472, 13834, 20241, 26019, 21936, 25992, 19528, 3234, 27477, 9213, 25846, 19192, 28067, 21914, 29028, 22491, 27005, 21139, 26997]\n",
      "Reference [0. 1. 0. 0.]\n",
      "[-0.090371  0.907147 -0.277277  0.303372]\n",
      "[ 0.232604  0.971948 -0.025152 -0.024099]\n",
      "[-0.190345  0.914187 -0.088067 -0.346806]\n",
      "[ 0.295813  0.884066 -0.219297 -0.287803]\n",
      "[-0.140087  0.984911 -0.036586 -0.094806]\n",
      "[-0.172521  0.983154  0.007748  0.059866]\n",
      "[ 0.33608   0.900674 -0.074899 -0.265002]\n",
      "[-0.228825  0.918928  0.258499  0.190756]\n",
      "[ 0.054184  0.989488 -0.115035  0.068889]\n",
      "[-0.26795   0.937169 -0.175702 -0.13801 ]\n",
      "[-0.227496  0.932935  0.18746  -0.206728]\n",
      "[-0.035238  0.95608  -0.254521  0.141029]\n",
      "[ 0.130135  0.973927  0.169709 -0.075696]\n",
      "[ 0.235283  0.950238  0.201636 -0.032148]\n",
      "[ 0.178588  0.96112  -0.158333 -0.13887 ]\n",
      "[ 0.073427  0.920036  0.168602 -0.346   ]\n",
      "[ 0.202385  0.974661 -0.089412 -0.032881]\n",
      "[ 0.076968  0.986217 -0.132895 -0.06157 ]\n",
      "[-0.318846  0.941972  0.001081  0.104998]\n",
      "[ 0.299645  0.923865 -0.066238  0.228691]\n",
      "[-0.028883  0.933405 -0.259397  0.246239]\n",
      "[-0.121357  0.974762 -0.029146 -0.185102]\n",
      "[-0.115305  0.984045  0.121816 -0.059339]\n",
      "[ 0.266277  0.932987  0.207624 -0.124598]\n",
      "[-0.037203  0.976907 -0.123272  0.170504]\n",
      "[-0.282508  0.865907  0.350239  0.218464]\n",
      "[-0.315058  0.923132 -0.212244  0.05931 ]\n",
      "[ 0.0694    0.938768 -0.293429  0.166724]\n",
      "[0.094303 0.987642 0.090512 0.086479]\n",
      "[ 0.254324  0.952399 -0.164233  0.035815]\n"
     ]
    },
    {
     "data": {
      "application/vnd.jupyter.widget-view+json": {
       "model_id": "93148922848e42348a18f829f611d946",
       "version_major": 2,
       "version_minor": 0
      },
      "text/plain": [
       "NGLWidget()"
      ]
     },
     "metadata": {},
     "output_type": "display_data"
    }
   ],
   "source": [
    "# plot some frames of a real trajectory that belong to the same quaternion grid point\n",
    "vm = ViewManager(sh.trajectory_universe)\n",
    "# plot a selection (because too many) that are all assigned to grid point\n",
    "assigned_to_37 = np.where(quaternion_assignments == 33)[0]\n",
    "# show in VMD for a better view\n",
    "print(list(np.random.choice(assigned_to_37, 100)))\n",
    "\n",
    "\n",
    "print(\"Reference\", sh.full_grid.b_rotations.get_grid_as_array()[33])\n",
    "det_quats = sh._determine_quaternions()\n",
    "\n",
    "subset = np.random.choice(assigned_to_37, 30)\n",
    "for my_frame in subset:\n",
    "    print(det_quats[my_frame])\n",
    "\n",
    "vm.plot_frames_overlapping(subset)"
   ]
  },
  {
   "cell_type": "code",
   "execution_count": 35,
   "id": "7d1f7435",
   "metadata": {
    "ExecuteTime": {
     "end_time": "2024-02-13T13:24:56.021827Z",
     "start_time": "2024-02-13T13:24:47.365661Z"
    },
    "scrolled": false
   },
   "outputs": [
    {
     "name": "stdout",
     "output_type": "stream",
     "text": [
      "[24843, 15006, 15921, 11786, 2626, 17606, 24365, 14989, 4122, 12736, 25238, 4658, 2633, 14973, 11788, 11789, 4123, 2626, 15011, 18161, 25237, 11789, 10021, 14223, 17607, 18159, 11790, 12739, 4143, 10051, 16470, 15008, 18162, 10040, 18151, 10011, 14971, 8503, 9001, 18170, 24385, 10026, 18481, 18169, 10037, 14220, 8506, 8503, 18465, 18463, 10047, 10017, 10026, 14221, 24368, 8516, 18155, 24375, 10038, 2626, 12738, 18399, 24392, 18482, 4654, 15009, 14985, 17604, 4136, 4656, 14996, 12743, 24400, 14967, 14974, 10041, 24403, 18168, 4136, 24384, 15012, 14986, 10038, 10014, 9005, 8515, 18153, 17605, 4650, 24392, 9006, 8516, 15000, 18487, 10032, 15013, 15931, 4588, 18481, 8997]\n"
     ]
    },
    {
     "data": {
      "application/vnd.jupyter.widget-view+json": {
       "model_id": "32d5892a63ea451ab0cf30f8e38086b0",
       "version_major": 2,
       "version_minor": 0
      },
      "text/plain": [
       "NGLWidget()"
      ]
     },
     "metadata": {},
     "output_type": "display_data"
    }
   ],
   "source": [
    "# plot some frames of a real trajectory that belong to the same quaternion grid point\n",
    "vm = ViewManager(sh.trajectory_universe)\n",
    "# plot a selection (because too many) that are all assigned to grid point 21\n",
    "assigned_to_14 = np.where(quaternion_assignments == 14)[0]\n",
    "# show in VMD for a better view\n",
    "print(list(np.random.choice(assigned_to_14, 100)))\n",
    "vm.plot_frames_overlapping(np.random.choice(assigned_to_14, 30))"
   ]
  },
  {
   "cell_type": "code",
   "execution_count": 37,
   "id": "e966beed",
   "metadata": {
    "ExecuteTime": {
     "end_time": "2024-02-13T13:26:52.274541Z",
     "start_time": "2024-02-13T13:26:52.066094Z"
    }
   },
   "outputs": [
    {
     "name": "stdout",
     "output_type": "stream",
     "text": [
      "Assigning PT frames of a linear molecule.\n"
     ]
    },
    {
     "ename": "ValueError",
     "evalue": "All atoms perpendicular to at least one of principal axes, can´t determine direction.",
     "output_type": "error",
     "traceback": [
      "\u001b[0;31m---------------------------------------------------------------------------\u001b[0m",
      "\u001b[0;31mValueError\u001b[0m                                Traceback (most recent call last)",
      "Cell \u001b[0;32mIn[37], line 10\u001b[0m\n\u001b[1;32m      4\u001b[0m HF_HF_SH  \u001b[38;5;241m=\u001b[39m SimulationHistogram(\u001b[38;5;124m\"\u001b[39m\u001b[38;5;124mts_symmetric_ts_symmetric_0000\u001b[39m\u001b[38;5;124m\"\u001b[39m, \u001b[38;5;124m\"\u001b[39m\u001b[38;5;124mts_symmetric\u001b[39m\u001b[38;5;124m\"\u001b[39m, is_pt\u001b[38;5;241m=\u001b[39m\u001b[38;5;28;01mTrue\u001b[39;00m,\n\u001b[1;32m      5\u001b[0m                              full_grid\u001b[38;5;241m=\u001b[39m\u001b[38;5;28;01mNone\u001b[39;00m,\n\u001b[1;32m      6\u001b[0m                              second_molecule_selection\u001b[38;5;241m=\u001b[39m\u001b[38;5;124m\"\u001b[39m\u001b[38;5;124mbynum 4:6\u001b[39m\u001b[38;5;124m\"\u001b[39m)\n\u001b[1;32m      8\u001b[0m \u001b[38;5;28mprint\u001b[39m(\u001b[38;5;124mf\u001b[39m\u001b[38;5;124m\"\u001b[39m\u001b[38;5;124mAssigning PT frames of a linear molecule.\u001b[39m\u001b[38;5;124m\"\u001b[39m)\n\u001b[0;32m---> 10\u001b[0m hf_ass \u001b[38;5;241m=\u001b[39m \u001b[43mHF_HF_SH\u001b[49m\u001b[38;5;241;43m.\u001b[39;49m\u001b[43mget_quaternion_assignments\u001b[49m\u001b[43m(\u001b[49m\u001b[43m)\u001b[49m\n",
      "File \u001b[0;32m~/PAPER_MOLECULAR_ROTATIONS_2022/nobackup/molgri/molgri/molecules/transitions.py:204\u001b[0m, in \u001b[0;36mSimulationHistogram.get_quaternion_assignments\u001b[0;34m(self)\u001b[0m\n\u001b[1;32m    202\u001b[0m \u001b[38;5;28;01mdef\u001b[39;00m \u001b[38;5;21mget_quaternion_assignments\u001b[39m(\u001b[38;5;28mself\u001b[39m):\n\u001b[1;32m    203\u001b[0m     \u001b[38;5;28;01mif\u001b[39;00m \u001b[38;5;28mself\u001b[39m\u001b[38;5;241m.\u001b[39mquaternion_assignments \u001b[38;5;129;01mis\u001b[39;00m \u001b[38;5;28;01mNone\u001b[39;00m:\n\u001b[0;32m--> 204\u001b[0m         \u001b[38;5;28mself\u001b[39m\u001b[38;5;241m.\u001b[39mquaternion_assignments \u001b[38;5;241m=\u001b[39m \u001b[38;5;28;43mself\u001b[39;49m\u001b[38;5;241;43m.\u001b[39;49m\u001b[43m_assign_trajectory_2_quaternion_grid\u001b[49m\u001b[43m(\u001b[49m\u001b[43m)\u001b[49m\n\u001b[1;32m    205\u001b[0m     \u001b[38;5;28;01mreturn\u001b[39;00m \u001b[38;5;28mself\u001b[39m\u001b[38;5;241m.\u001b[39mquaternion_assignments\n",
      "File \u001b[0;32m~/PAPER_MOLECULAR_ROTATIONS_2022/nobackup/molgri/molgri/molecules/transitions.py:249\u001b[0m, in \u001b[0;36mSimulationHistogram._assign_trajectory_2_quaternion_grid\u001b[0;34m(self)\u001b[0m\n\u001b[1;32m    245\u001b[0m \u001b[38;5;250m\u001b[39m\u001b[38;5;124;03m\"\"\"\u001b[39;00m\n\u001b[1;32m    246\u001b[0m \u001b[38;5;124;03mAssign every frame of the trajectory to the closest quaternion from the b_grid_points.\u001b[39;00m\n\u001b[1;32m    247\u001b[0m \u001b[38;5;124;03m\"\"\"\u001b[39;00m\n\u001b[1;32m    248\u001b[0m \u001b[38;5;66;03m# find PA and direction of reference structure\u001b[39;00m\n\u001b[0;32m--> 249\u001b[0m calc_quat\u001b[38;5;241m=\u001b[39m\u001b[38;5;28;43mself\u001b[39;49m\u001b[38;5;241;43m.\u001b[39;49m\u001b[43m_determine_quaternions\u001b[49m\u001b[43m(\u001b[49m\u001b[43m)\u001b[49m\n\u001b[1;32m    251\u001b[0m b_grid_points \u001b[38;5;241m=\u001b[39m \u001b[38;5;28mself\u001b[39m\u001b[38;5;241m.\u001b[39mfull_grid\u001b[38;5;241m.\u001b[39mb_rotations\u001b[38;5;241m.\u001b[39mget_grid_as_array()\n\u001b[1;32m    252\u001b[0m b_indices \u001b[38;5;241m=\u001b[39m np\u001b[38;5;241m.\u001b[39margmin(cdist(b_grid_points, calc_quat, metric\u001b[38;5;241m=\u001b[39mdistance_between_quaternions), axis\u001b[38;5;241m=\u001b[39m\u001b[38;5;241m0\u001b[39m)\n",
      "File \u001b[0;32m~/PAPER_MOLECULAR_ROTATIONS_2022/nobackup/molgri/molgri/molecules/transitions.py:223\u001b[0m, in \u001b[0;36mSimulationHistogram._determine_quaternions\u001b[0;34m(self)\u001b[0m\n\u001b[1;32m    221\u001b[0m reference_principal_axes \u001b[38;5;241m=\u001b[39m \u001b[38;5;28mself\u001b[39m\u001b[38;5;241m.\u001b[39mreference_universe\u001b[38;5;241m.\u001b[39matoms\u001b[38;5;241m.\u001b[39mprincipal_axes()\u001b[38;5;241m.\u001b[39mT\n\u001b[1;32m    222\u001b[0m inverse_pa \u001b[38;5;241m=\u001b[39m np\u001b[38;5;241m.\u001b[39mlinalg\u001b[38;5;241m.\u001b[39minv(reference_principal_axes)\n\u001b[0;32m--> 223\u001b[0m reference_direction \u001b[38;5;241m=\u001b[39m \u001b[43mdetermine_positive_directions\u001b[49m\u001b[43m(\u001b[49m\u001b[38;5;28;43mself\u001b[39;49m\u001b[38;5;241;43m.\u001b[39;49m\u001b[43mreference_universe\u001b[49m\u001b[43m,\u001b[49m\u001b[43m \u001b[49m\u001b[38;5;124;43m\"\u001b[39;49m\u001b[38;5;124;43mall\u001b[39;49m\u001b[38;5;124;43m\"\u001b[39;49m\u001b[43m)\u001b[49m\n\u001b[1;32m    225\u001b[0m \u001b[38;5;66;03m# find PA and direction along trajectory\u001b[39;00m\n\u001b[1;32m    226\u001b[0m pa_frames \u001b[38;5;241m=\u001b[39m AnalysisFromFunction(\u001b[38;5;28;01mlambda\u001b[39;00m ag: ag\u001b[38;5;241m.\u001b[39mprincipal_axes()\u001b[38;5;241m.\u001b[39mT, \u001b[38;5;28mself\u001b[39m\u001b[38;5;241m.\u001b[39mtrajectory_universe\u001b[38;5;241m.\u001b[39mtrajectory,\n\u001b[1;32m    227\u001b[0m                                  \u001b[38;5;28mself\u001b[39m\u001b[38;5;241m.\u001b[39mtrajectory_universe\u001b[38;5;241m.\u001b[39mselect_atoms(\u001b[38;5;28mself\u001b[39m\u001b[38;5;241m.\u001b[39msecond_molecule_selection))\n",
      "File \u001b[0;32m~/PAPER_MOLECULAR_ROTATIONS_2022/nobackup/molgri/molgri/molecules/transitions.py:52\u001b[0m, in \u001b[0;36mdetermine_positive_directions\u001b[0;34m(current_universe, second_molecule)\u001b[0m\n\u001b[1;32m     50\u001b[0m \u001b[38;5;66;03m# if two (or three - that would just be an atom) unknowns raise an error\u001b[39;00m\n\u001b[1;32m     51\u001b[0m \u001b[38;5;28;01melif\u001b[39;00m np\u001b[38;5;241m.\u001b[39msum(np\u001b[38;5;241m.\u001b[39misclose(directions,\u001b[38;5;241m0\u001b[39m)) \u001b[38;5;241m>\u001b[39m \u001b[38;5;241m1\u001b[39m:\n\u001b[0;32m---> 52\u001b[0m     \u001b[38;5;28;01mraise\u001b[39;00m \u001b[38;5;167;01mValueError\u001b[39;00m(\u001b[38;5;124m\"\u001b[39m\u001b[38;5;124mAll atoms perpendicular to at least one of principal axes, can´t determine direction.\u001b[39m\u001b[38;5;124m\"\u001b[39m)\n\u001b[1;32m     53\u001b[0m \u001b[38;5;28;01mreturn\u001b[39;00m np\u001b[38;5;241m.\u001b[39marray(directions)\n",
      "\u001b[0;31mValueError\u001b[0m: All atoms perpendicular to at least one of principal axes, can´t determine direction."
     ]
    }
   ],
   "source": [
    "# What happens for linear molecules? HF assigned to 8 quaternions\n",
    "\n",
    "\n",
    "HF_HF_SH  = SimulationHistogram(\"ts_symmetric_ts_symmetric_0000\", \"ts_symmetric\", is_pt=True,\n",
    "                             full_grid=None,\n",
    "                             second_molecule_selection=\"bynum 4:6\")\n",
    "\n",
    "print(f\"Assigning PT frames of a linear molecule.\")\n",
    "\n",
    "hf_ass = HF_HF_SH.get_quaternion_assignments()"
   ]
  },
  {
   "cell_type": "markdown",
   "id": "347b125d",
   "metadata": {},
   "source": [
    "## Full conversion 3N coordinates <-> 7D gridpoint\n",
    "\n",
    "Full index = position_index * num_quaternions + quaternion_index"
   ]
  },
  {
   "cell_type": "code",
   "execution_count": 38,
   "id": "73058cc1",
   "metadata": {
    "ExecuteTime": {
     "end_time": "2024-02-13T13:27:08.167172Z",
     "start_time": "2024-02-13T13:26:58.792236Z"
    }
   },
   "outputs": [],
   "source": [
    "full_assignments = sh.get_full_assignments()"
   ]
  },
  {
   "cell_type": "code",
   "execution_count": 39,
   "id": "e19b6687",
   "metadata": {
    "ExecuteTime": {
     "end_time": "2024-02-13T13:27:48.051007Z",
     "start_time": "2024-02-13T13:27:10.338265Z"
    }
   },
   "outputs": [
    {
     "name": "stdout",
     "output_type": "stream",
     "text": [
      "Most popular assignments are [6501 4825 6593 4830 4905 6513 4808 4822 4827 4833] with population [169 173 175 178 189 337 204 213 278 270]\n"
     ]
    },
    {
     "data": {
      "image/png": "[encoded data removed]",
      "text/plain": [
       "<Figure size 640x480 with 1 Axes>"
      ]
     },
     "metadata": {},
     "output_type": "display_data"
    }
   ],
   "source": [
    "# make a histogram of most populated full grid cells\n",
    "sns.histplot(full_assignments, stat=\"count\", bins=np.arange(len(H2O_full_grid)+1))\n",
    "\n",
    "popular, counts = np.unique(full_assignments, return_counts=True)\n",
    "max_counts = k_argmax_in_array(counts, 10)\n",
    "print(f\"Most popular assignments are {popular[max_counts]} with population {counts[max_counts]}\")"
   ]
  },
  {
   "cell_type": "code",
   "execution_count": 40,
   "id": "b58009cb",
   "metadata": {
    "ExecuteTime": {
     "end_time": "2024-02-13T13:28:02.105165Z",
     "start_time": "2024-02-13T13:27:51.920283Z"
    }
   },
   "outputs": [
    {
     "name": "stdout",
     "output_type": "stream",
     "text": [
      "[2884, 2885, 2886, 2887, 2888, 2889, 2890, 2891, 2892, 2893, 2894, 2895, 2896, 2897, 2898, 2899, 2900, 3072, 3073, 3074, 3075, 3076, 3077, 3078, 3079, 5423, 5424, 5425, 5434, 5435, 5436, 5437, 5438, 5439, 5440, 5441, 5442, 5443, 5444, 5445, 5446, 5447, 5448, 5449, 5450, 5451, 5452, 5453, 5454, 5840, 5841, 16550, 16551, 16552, 16553, 16554, 16555, 16556, 16557, 16558, 16559, 16560, 16561, 16578, 16579, 16580, 16581, 17731, 17732, 17733, 17734, 17735, 17736, 17737, 17738, 17739, 17740, 17741, 17742, 17743, 17744, 17745, 17746, 17747, 17748, 17749, 17750, 17751, 17752, 17753, 17754, 17755, 17756, 17757, 17758, 17759, 17760, 17761, 17762, 17763, 17764, 17765, 17766, 18677, 18678, 18679, 18680, 18681, 18712, 18713, 18714, 18951, 18952, 18953, 18954, 18955, 18956, 18987, 18988, 18989, 18990, 18991, 19100, 19101, 19102, 19103, 19104, 19105, 19106, 19107, 19281, 19282, 19283, 19579, 19580, 20512, 20513, 20514, 20515, 20516, 20517, 20518, 20519, 20520, 20521, 20522, 20523, 20524, 20533, 20534, 20535, 20536, 20537, 20538, 20539, 20540, 21731, 21732, 21733, 21734, 21735, 21736, 21737, 21738, 21739, 21740, 21741, 21742, 21743, 21744, 21745, 21746, 21747, 21748, 24142, 24143, 27310, 27311, 27312, 27313, 27314, 27315, 27316, 27317, 27318, 27319, 27320, 27321, 27322, 27327, 27328, 27329, 27330, 27331, 27332, 27333, 27334, 27335, 27336, 27337, 27338, 27339, 27340, 27341, 27342, 27363, 27364, 27365, 27366, 27367, 27368, 27369, 27370]\n"
     ]
    },
    {
     "data": {
      "application/vnd.jupyter.widget-view+json": {
       "model_id": "d9c7785b2cdd4c688743c832f091bcb6",
       "version_major": 2,
       "version_minor": 0
      },
      "text/plain": [
       "NGLWidget()"
      ]
     },
     "metadata": {},
     "output_type": "display_data"
    }
   ],
   "source": [
    "vm = ViewManager(sh.trajectory_universe)\n",
    "# plot a selection (because too many) that are all assigned to same grid point\n",
    "assigned_to_cell = np.where(full_assignments == 4822)[0]\n",
    "# show in VMD for a better view\n",
    "print(list(assigned_to_cell))\n",
    "vm.plot_frames_overlapping(np.random.choice(assigned_to_cell, 30))"
   ]
  },
  {
   "cell_type": "code",
   "execution_count": 50,
   "id": "c7b62244",
   "metadata": {
    "ExecuteTime": {
     "end_time": "2024-02-13T13:32:19.663917Z",
     "start_time": "2024-02-13T13:32:11.330886Z"
    }
   },
   "outputs": [
    {
     "name": "stdout",
     "output_type": "stream",
     "text": [
      "[16581 16861 17381 17821 18181 18301 18741 19181 19501 19621] [30 43  3  5 20 30 36 21 39 29]\n",
      "[57, 58, 59, 60, 61, 62, 63, 64, 65, 66, 67, 68, 69, 70, 71, 72, 73, 74, 75, 76, 77, 78, 79, 80, 81, 82, 83, 84, 85]\n"
     ]
    },
    {
     "data": {
      "application/vnd.jupyter.widget-view+json": {
       "model_id": "1d6817644e3d4d4cb8fd6ce19ca4f2cf",
       "version_major": 2,
       "version_minor": 0
      },
      "text/plain": [
       "NGLWidget()"
      ]
     },
     "metadata": {},
     "output_type": "display_data"
    }
   ],
   "source": [
    "vm = ViewManager(sh.trajectory_universe)\n",
    "# plot a selection (because too many) that are all assigned to same grid point\n",
    "assigned_to_cell = np.where(full_assignments == 19621)[0]\n",
    "\n",
    "# show in VMD for a better view\n",
    "print(list(assigned_to_cell))\n",
    "vm.plot_frames_overlapping(np.random.choice(assigned_to_cell, 30))\n",
    "\n"
   ]
  },
  {
   "cell_type": "markdown",
   "id": "d0bbe37b",
   "metadata": {},
   "source": [
    "## MSM"
   ]
  },
  {
   "cell_type": "code",
   "execution_count": 63,
   "id": "18e9d045",
   "metadata": {
    "ExecuteTime": {
     "end_time": "2024-02-29T13:52:26.502067Z",
     "start_time": "2024-02-29T13:52:25.698901Z"
    }
   },
   "outputs": [],
   "source": [
    "water_sh = SimulationHistogram(\"H2O_H2O_0095_2000008\", \"H2O\", is_pt=False,\n",
    "                                   full_grid=FullGrid(b_grid_name=\"20\", o_grid_name=\"20\",\n",
    "                                                      t_grid_name=\"linspace(0.2, 0.6, 10)\"),\n",
    "                                   second_molecule_selection=\"bynum 4:6\", use_saved=False)"
   ]
  },
  {
   "cell_type": "code",
   "execution_count": 66,
   "id": "1a12eea3",
   "metadata": {
    "ExecuteTime": {
     "end_time": "2024-02-29T16:55:02.287787Z",
     "start_time": "2024-02-29T15:59:35.217210Z"
    }
   },
   "outputs": [
    {
     "name": "stderr",
     "output_type": "stream",
     "text": [
      "100%|█████████████████████████████████████████████████████████████████████████████████████████████████████████████████████████████████████████████████████████████████████████████████████████████████████████████████████████████████████| 29/29 [54:14<00:00, 112.23s/it]\n",
      "100%|██████████████████████████████████████████████████████████████████████████████████████████████████████████████████████████████████████████████████████████████████████████████████████████████████████████████████████████████████████| 29/29 [01:10<00:00,  2.43s/it]\n"
     ]
    },
    {
     "data": {
      "image/png": "[encoded data removed]",
      "text/plain": [
       "<Figure size 1000x500 with 2 Axes>"
      ]
     },
     "metadata": {},
     "output_type": "display_data"
    }
   ],
   "source": [
    "tau_array = np.array([70, 80, 90, 100, 110, 130, 150, 180, 200, 220,\n",
    "                                                250, 270, 300, 400, 600, 700, 850, 1000\n",
    "                      , 1100, 1200, 1300, 1400, 1500, \n",
    "                      2000, 3000, 4000, 5000, 7000, 10000])\n",
    "msm = MSM(water_sh, tau_array=tau_array, use_saved=False)\n",
    "msm.get_eigenval_eigenvec(12, which=\"LR\")\n",
    "\n",
    "tp = TransitionPlot(water_sh, tau_array=tau_array)\n",
    "tp.transition_obj = msm\n",
    "tp.transition_obj.use_saved=True\n",
    "fig, ax = plt.subplots(1, 2, sharex=False, sharey=False, figsize=(10, 5))\n",
    "ax[1].set_ylim(0, 20000)\n",
    "tp.plot_eigenvalues(num_eigenv=6, index_tau=17, save=False, fig=fig, ax=ax[0])\n",
    "tp.plot_its(6, as_line=False, save=False, fig=fig, ax=ax[1])\n",
    "plt.show()"
   ]
  },
  {
   "cell_type": "code",
   "execution_count": 65,
   "id": "2a15e8a4",
   "metadata": {
    "ExecuteTime": {
     "end_time": "2024-02-29T15:58:47.983083Z",
     "start_time": "2024-02-29T15:58:47.458847Z"
    }
   },
   "outputs": [
    {
     "data": {
      "image/png": "[encoded data removed]",
      "text/plain": [
       "<Figure size 640x480 with 5 Axes>"
      ]
     },
     "metadata": {},
     "output_type": "display_data"
    }
   ],
   "source": [
    "fig, ax = plt.subplots(5, sharex=True, sharey=True)\n",
    "for i in range(5):\n",
    "    tp.plot_one_eigenvector_flat(i, save=False, fig=fig, ax=ax[i], index_tau=17)\n",
    "plt.show()"
   ]
  },
  {
   "cell_type": "code",
   "execution_count": 35,
   "id": "12b41b87",
   "metadata": {
    "ExecuteTime": {
     "end_time": "2024-02-21T15:59:58.461998Z",
     "start_time": "2024-02-21T15:58:23.274970Z"
    }
   },
   "outputs": [
    {
     "name": "stderr",
     "output_type": "stream",
     "text": [
      "100%|██████████████████████████████████████████████████████████████████████████████████████████████████████████████████████████████████████████████████████████████████████████████████████████████████████████████████████████████████████| 27/27 [01:21<00:00,  3.02s/it]\n",
      "100%|██████████████████████████████████████████████████████████████████████████████████████████████████████████████████████████████████████████████████████████████████████████████████████████████████████████████████████████████████████| 27/27 [00:01<00:00, 15.50it/s]\n"
     ]
    },
    {
     "name": "stdout",
     "output_type": "stream",
     "text": [
      "(10560,)\n",
      "2nd position eigenvector has most negative cell 6392 and most positive cell 7901.\n"
     ]
    },
    {
     "data": {
      "application/vnd.jupyter.widget-view+json": {
       "model_id": "ae6c5bb349fc4cfdba2323ff028178e1",
       "version_major": 2,
       "version_minor": 0
      },
      "text/plain": [
       "NGLWidget()"
      ]
     },
     "metadata": {},
     "output_type": "display_data"
    }
   ],
   "source": [
    "vm = ViewManager(water_sh.trajectory_universe)\n",
    "vm.fresh_view()\n",
    "water_sh.use_saved = True\n",
    "magnitudes = water_sh.get_magnitude_ith_eigenvector(2)\n",
    "vm.set_color_magnitude(magnitudes, )\n",
    "print(magnitudes.shape)\n",
    "\n",
    "# \n",
    "num_extremes = 2\n",
    "most_positive = np.argmax(magnitudes)\n",
    "most_negative = np.argmin(magnitudes)\n",
    "print(f\"2nd position eigenvector has most negative cell {most_negative} and most positive cell {most_positive}.\")\n",
    "# now assign these to trajectory frames\n",
    "assigned_frames = []\n",
    "colors = []\n",
    "for one_argmax in [most_negative, most_positive]:\n",
    "    all_assigned = water_sh.get_indices_same_cell(one_argmax)\n",
    "    assigned_frames.extend(all_assigned)\n",
    "    colors.extend([vm.current_magnitudes[one_argmax]])\n",
    "vm.current_magnitudes = None\n",
    "#print(assigned_frames)\n",
    "\n",
    "vm.plot_frames_overlapping(np.random.choice(assigned_frames, 30))\n",
    "vm.view"
   ]
  },
  {
   "cell_type": "code",
   "execution_count": 31,
   "id": "d0d23251",
   "metadata": {
    "ExecuteTime": {
     "end_time": "2024-02-13T09:38:11.499648Z",
     "start_time": "2024-02-13T09:38:11.497990Z"
    }
   },
   "outputs": [],
   "source": [
    "# -> direction: INPUT start coordinates (3N), 7D gridpoint; OUTPUT end coordinates (3N)\n",
    "# <- direction: INPUT end coordinates (3N), start coordinates (3N); OUTPUT 7D gridpoint"
   ]
  },
  {
   "cell_type": "code",
   "execution_count": null,
   "id": "a25697dd",
   "metadata": {},
   "outputs": [],
   "source": []
  },
  {
   "cell_type": "code",
   "execution_count": null,
   "id": "e1ac41a5",
   "metadata": {},
   "outputs": [],
   "source": []
  }
 ],
 "metadata": {
  "kernelspec": {
   "display_name": "Python 3 (ipykernel)",
   "language": "python",
   "name": "python3"
  },
  "language_info": {
   "codemirror_mode": {
    "name": "ipython",
    "version": 3
   },
   "file_extension": ".py",
   "mimetype": "text/x-python",
   "name": "python",
   "nbconvert_exporter": "python",
   "pygments_lexer": "ipython3",
   "version": "3.11.5"
  },
  "toc": {
   "base_numbering": 1,
   "nav_menu": {},
   "number_sections": true,
   "sideBar": true,
   "skip_h1_title": true,
   "title_cell": "Table of Contents",
   "title_sidebar": "Contents",
   "toc_cell": true,
   "toc_position": {
    "height": "698px",
    "left": "25px",
    "top": "161px",
    "width": "165px"
   },
   "toc_section_display": true,
   "toc_window_display": true
  }
 },
 "nbformat": 4,
 "nbformat_minor": 5
}
