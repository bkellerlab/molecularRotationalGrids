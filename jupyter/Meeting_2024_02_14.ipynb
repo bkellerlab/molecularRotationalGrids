{
 "cells": [
  {
   "cell_type": "markdown",
   "id": "5915e36e",
   "metadata": {
    "toc": true
   },
   "source": [
    "<h1>Table of Contents<span class=\"tocSkip\"></span></h1>\n",
    "<div class=\"toc\"><ul class=\"toc-item\"><li><span><a href=\"#Position-space\" data-toc-modified-id=\"Position-space-1\"><span class=\"toc-item-num\">1&nbsp;&nbsp;</span>Position space</a></span><ul class=\"toc-item\"><li><span><a href=\"#Translation-of-COM-instead-of-rotation-around-origin\" data-toc-modified-id=\"Translation-of-COM-instead-of-rotation-around-origin-1.1\"><span class=\"toc-item-num\">1.1&nbsp;&nbsp;</span>Translation of COM instead of rotation around origin</a></span></li><li><span><a href=\"#Determine-position-index\" data-toc-modified-id=\"Determine-position-index-1.2\"><span class=\"toc-item-num\">1.2&nbsp;&nbsp;</span>Determine position index</a></span></li></ul></li><li><span><a href=\"#Orientation-space\" data-toc-modified-id=\"Orientation-space-2\"><span class=\"toc-item-num\">2&nbsp;&nbsp;</span>Orientation space</a></span><ul class=\"toc-item\"><li><span><a href=\"#Determine-internal-coordinate-system-(principal-axes)\" data-toc-modified-id=\"Determine-internal-coordinate-system-(principal-axes)-2.1\"><span class=\"toc-item-num\">2.1&nbsp;&nbsp;</span>Determine internal coordinate system (principal axes)</a></span></li><li><span><a href=\"#Orientation-index-from-reference-principal-axes-and-trajectory\" data-toc-modified-id=\"Orientation-index-from-reference-principal-axes-and-trajectory-2.2\"><span class=\"toc-item-num\">2.2&nbsp;&nbsp;</span>Orientation index from reference principal axes and trajectory</a></span></li></ul></li><li><span><a href=\"#Full-conversion-3N-coordinates-<->-7D-gridpoint\" data-toc-modified-id=\"Full-conversion-3N-coordinates-<->-7D-gridpoint-3\"><span class=\"toc-item-num\">3&nbsp;&nbsp;</span>Full conversion 3N coordinates &lt;-&gt; 7D gridpoint</a></span></li></ul></div>"
   ]
  },
  {
   "cell_type": "code",
   "execution_count": 16,
   "id": "14951180",
   "metadata": {
    "ExecuteTime": {
     "end_time": "2024-02-07T09:59:29.198105Z",
     "start_time": "2024-02-07T09:59:29.195483Z"
    }
   },
   "outputs": [],
   "source": [
    "import sys\n",
    "import os\n",
    "\n",
    "try:\n",
    "    os.chdir(r\"/home/hanaz63/PAPER_MOLECULAR_ROTATIONS_2022/nobackup/molgri\")\n",
    "    sys.path.append(r\"/home/hanaz63/PAPER_MOLECULAR_ROTATIONS_2022/nobackup\")\n",
    "except FileNotFoundError:\n",
    "    os.chdir(r\"D:\\HANA\\phD\\PAPER_2022\\molecularRotationalGrids\")\n",
    "    sys.path.append(r\"D:\\HANA\\phD\\PAPER_2022\\molecularRotationalGrids\")\n",
    "    \n",
    "import warnings\n",
    "warnings.filterwarnings(\"ignore\")"
   ]
  },
  {
   "cell_type": "code",
   "execution_count": 67,
   "id": "fbdfa410",
   "metadata": {
    "ExecuteTime": {
     "end_time": "2024-02-07T11:01:27.782790Z",
     "start_time": "2024-02-07T11:01:27.772152Z"
    }
   },
   "outputs": [],
   "source": [
    "import numpy as np\n",
    "from numpy.typing import NDArray\n",
    "import MDAnalysis as mda\n",
    "from scipy.spatial.distance import cdist\n",
    "from MDAnalysis.analysis.base import AnalysisFromFunction\n",
    "import seaborn as sns\n",
    "\n",
    "from molgri.plotting.widgets import ViewManager\n",
    "from molgri.paths import PATH_OUTPUT_PT, PATH_INPUT_BASEGRO\n",
    "from molgri.space.fullgrid import FullGrid\n",
    "from molgri.space.utils import normalise_vectors, k_argmax_in_array, distance_between_quaternions, q_in_upper_sphere\n",
    "\n",
    "sns.set_context(\"notebook\")"
   ]
  },
  {
   "cell_type": "markdown",
   "id": "e51bc839",
   "metadata": {},
   "source": [
    "## Position space\n"
   ]
  },
  {
   "cell_type": "markdown",
   "id": "17726427",
   "metadata": {},
   "source": [
    "\n",
    "### Translation of COM instead of rotation around origin"
   ]
  },
  {
   "cell_type": "code",
   "execution_count": 18,
   "id": "1cf529a5",
   "metadata": {
    "ExecuteTime": {
     "end_time": "2024-02-07T09:59:38.115889Z",
     "start_time": "2024-02-07T09:59:36.952758Z"
    }
   },
   "outputs": [
    {
     "name": "stdout",
     "output_type": "stream",
     "text": [
      "[0, 8, 16, 24, 32, 40, 48, 56, 64, 72, 80, 88, 96, 104, 112, 120, 128, 136, 144, 152, 160, 168, 176, 184, 192, 200, 208, 216, 224, 232, 240, 248, 256, 264, 272, 280, 288, 296, 304, 312, 320, 328, 336, 344, 352, 360, 368, 376, 384, 392, 400, 408, 416, 424, 432, 440, 448, 456, 464, 472]\n"
     ]
    },
    {
     "data": {
      "application/vnd.jupyter.widget-view+json": {
       "model_id": "54c60714353f441591d6bfb010ff348c",
       "version_major": 2,
       "version_minor": 0
      },
      "text/plain": [
       "NGLWidget()"
      ]
     },
     "metadata": {},
     "output_type": "display_data"
    }
   ],
   "source": [
    "# generated a file with\n",
    "# python -m molgri.scripts.generate_pt -m1 H2O -m2 H2O -o \"12\" -b \"8\" -t \"linspace(0.2, 1, 5)\" --recal\n",
    "pt_name = \"H2O_H2O_0403\"\n",
    "pt_universe = mda.Universe(f\"{PATH_OUTPUT_PT}{pt_name}.gro\",\n",
    "                           f\"{PATH_OUTPUT_PT}{pt_name}.xtc\")\n",
    "len_pt = len(pt_universe.trajectory)\n",
    "\n",
    "vm = ViewManager(pt_universe)\n",
    "# plot every 8th frame\n",
    "# because we have 8 orientations, every 8th structure should be translated version of each other\n",
    "every_eighth_0 = np.arange(0, len_pt, 8)\n",
    "print(list(every_eighth_0))\n",
    "vm.plot_frames_overlapping(every_eighth_0[20:30])"
   ]
  },
  {
   "cell_type": "code",
   "execution_count": 19,
   "id": "580a8965",
   "metadata": {
    "ExecuteTime": {
     "end_time": "2024-02-07T09:59:42.634425Z",
     "start_time": "2024-02-07T09:59:41.379213Z"
    }
   },
   "outputs": [
    {
     "name": "stdout",
     "output_type": "stream",
     "text": [
      "[3, 11, 19, 27, 35, 43, 51, 59, 67, 75, 83, 91, 99, 107, 115, 123, 131, 139, 147, 155, 163, 171, 179, 187, 195, 203, 211, 219, 227, 235, 243, 251, 259, 267, 275, 283, 291, 299, 307, 315, 323, 331, 339, 347, 355, 363, 371, 379, 387, 395, 403, 411, 419, 427, 435, 443, 451, 459, 467, 475]\n"
     ]
    },
    {
     "data": {
      "application/vnd.jupyter.widget-view+json": {
       "model_id": "780b81fba94f4f9bb56374d73a2ab2e0",
       "version_major": 2,
       "version_minor": 0
      },
      "text/plain": [
       "NGLWidget()"
      ]
     },
     "metadata": {},
     "output_type": "display_data"
    }
   ],
   "source": [
    "vm.fresh_view()\n",
    "every_eighth_3 = np.arange(3, len_pt, 8)\n",
    "# similar thing for another class of identical orientations\n",
    "print(list(every_eighth_3))\n",
    "vm.plot_frames_overlapping(every_eighth_3[20:30])"
   ]
  },
  {
   "cell_type": "markdown",
   "id": "90c1ef6e",
   "metadata": {},
   "source": [
    "### Determine position index"
   ]
  },
  {
   "cell_type": "code",
   "execution_count": 25,
   "id": "c59bcca9",
   "metadata": {
    "ExecuteTime": {
     "end_time": "2024-02-07T10:19:35.772740Z",
     "start_time": "2024-02-07T10:19:35.767545Z"
    }
   },
   "outputs": [],
   "source": [
    "# separately determine index in the radial direction and on the sphere, then combine\n",
    "\n",
    "def assign_2_t_grid(my_trajectory: mda.Universe, t_grid_points: NDArray,\n",
    "                         second_molecule: str) -> NDArray:\n",
    "    \"\"\"\n",
    "    Given a trajectoryand an array of available radial (t-grid) points, assign each frame of the trajectory\n",
    "    to the closest radial point.\n",
    "    \n",
    "    Args:\n",
    "        my_trajectory: a Universe of two molecules\n",
    "        radial_grid_points: a sorted array of available radial grid distances in A like [2, 4, 6]\n",
    "        second_molecule: a string that tdefines which part of the Universe is a moving molecule\n",
    "    \n",
    "    Returns:\n",
    "        an integer array as long as the trajectory, each element an index of the closest point of the radial grid\n",
    "        like [0, 0, 0, 1, 1, 1, 2 ...] (for a PT with 3 orientations)\n",
    "    \"\"\"\n",
    "    t_selection = AnalysisFromFunction(lambda ag: np.argmin(np.abs(t_grid_points-np.linalg.norm(ag.center_of_mass())), axis=0),\n",
    "                                     my_trajectory.trajectory,\n",
    "                                     my_trajectory.select_atoms(second_molecule))\n",
    "    t_selection.run()\n",
    "    t_indices = t_selection.results['timeseries'].flatten()\n",
    "    return t_indices\n",
    "\n",
    "def assign_2_o_grid(my_trajectory: mda.Universe, o_grid_points: NDArray, \n",
    "                           second_molecule: str) -> NDArray:\n",
    "    \"\"\"\n",
    "    Assign every frame of the trajectory (or PT) to the best fitting point of position grid\n",
    "\n",
    "    Returns:\n",
    "        an array of position grid indices\n",
    "    \"\"\"\n",
    "    # now using a normalized com and a metric on a sphere, determine which of o_grid_points is closest\n",
    "    o_selection = AnalysisFromFunction(lambda ag: np.argmin(cdist(o_grid_points, normalise_vectors(\n",
    "        ag.center_of_mass())[np.newaxis, :], metric=\"cos\"), axis=0),\n",
    "                                     my_trajectory.trajectory,\n",
    "                                     my_trajectory.select_atoms(second_molecule))\n",
    "    o_selection.run()\n",
    "    o_indices = o_selection.results['timeseries'].flatten()\n",
    "    return o_indices\n",
    "\n",
    "def assign_2_position_grid(my_trajectory: mda.Universe, o_grid_points: NDArray, t_grid_points: NDArray,\n",
    "                         second_molecule: str):\n",
    "    \"\"\"\n",
    "    Combine assigning to t_grid and o_grid.\n",
    "    \"\"\"\n",
    "    t_assignments = assign_2_t_grid(my_trajectory=my_trajectory, t_grid_points=t_grid_points, \n",
    "                                    second_molecule=second_molecule)\n",
    "    o_assignments = assign_2_o_grid(my_trajectory=my_trajectory, o_grid_points=o_grid_points,\n",
    "                                   second_molecule=second_molecule)\n",
    "    # sum up the layer index and o index correctly\n",
    "    return np.array(t_assignments * len(o_grid_points) + o_assignments, dtype=int)\n"
   ]
  },
  {
   "cell_type": "code",
   "execution_count": 26,
   "id": "5d33bac1",
   "metadata": {
    "ExecuteTime": {
     "end_time": "2024-02-07T10:19:36.598244Z",
     "start_time": "2024-02-07T10:19:36.355049Z"
    }
   },
   "outputs": [
    {
     "name": "stdout",
     "output_type": "stream",
     "text": [
      "[ 0  0  0  0  0  0  0  0  1  1  1  1  1  1  1  1  2  2  2  2  2  2  2  2\n",
      "  3  3  3  3  3  3  3  3  4  4  4  4  4  4  4  4  5  5  5  5  5  5  5  5\n",
      "  6  6  6  6  6  6  6  6  7  7  7  7  7  7  7  7  8  8  8  8  8  8  8  8\n",
      "  9  9  9  9  9  9  9  9 10 10 10 10 10 10 10 10 11 11 11 11 11 11 11 11\n",
      " 12 12 12 12 12 12 12 12 13 13 13 13 13 13 13 13 14 14 14 14 14 14 14 14\n",
      " 15 15 15 15 15 15 15 15 16 16 16 16 16 16 16 16 17 17 17 17 17 17 17 17\n",
      " 18 18 18 18 18 18 18 18 19 19 19 19 19 19 19 19 20 20 20 20 20 20 20 20\n",
      " 21 21 21 21 21 21 21 21 22 22 22 22 22 22 22 22 23 23 23 23 23 23 23 23\n",
      " 24 24 24 24 24 24 24 24 25 25 25 25 25 25 25 25 26 26 26 26 26 26 26 26\n",
      " 27 27 27 27 27 27 27 27 28 28 28 28 28 28 28 28 29 29 29 29 29 29 29 29\n",
      " 30 30 30 30 30 30 30 30 31 31 31 31 31 31 31 31 32 32 32 32 32 32 32 32\n",
      " 33 33 33 33 33 33 33 33 34 34 34 34 34 34 34 34 35 35 35 35 35 35 35 35\n",
      " 36 36 36 36 36 36 36 36 37 37 37 37 37 37 37 37 38 38 38 38 38 38 38 38\n",
      " 39 39 39 39 39 39 39 39 40 40 40 40 40 40 40 40 41 41 41 41 41 41 41 41\n",
      " 42 42 42 42 42 42 42 42 43 43 43 43 43 43 43 43 44 44 44 44 44 44 44 44\n",
      " 45 45 45 45 45 45 45 45 46 46 46 46 46 46 46 46 47 47 47 47 47 47 47 47\n",
      " 48 48 48 48 48 48 48 48 49 49 49 49 49 49 49 49 50 50 50 50 50 50 50 50\n",
      " 51 51 51 51 51 51 51 51 52 52 52 52 52 52 52 52 53 53 53 53 53 53 53 53\n",
      " 54 54 54 54 54 54 54 54 55 55 55 55 55 55 55 55 56 56 56 56 56 56 56 56\n",
      " 57 57 57 57 57 57 57 57 58 58 58 58 58 58 58 58 59 59 59 59 59 59 59 59]\n"
     ]
    }
   ],
   "source": [
    "# test with a PT\n",
    "\n",
    "my_second_molecule = \"bynum 4:6\"\n",
    "my_full_grid = FullGrid(b_grid_name=\"8\", o_grid_name=\"12\", t_grid_name=\"linspace(0.2, 1, 5)\")\n",
    "position_assignments = assign_2_position_grid(pt_universe, my_full_grid.get_o_grid().get_grid_as_array(), \n",
    "                       my_full_grid.get_radii(), my_second_molecule)\n",
    "print(position_assignments)\n",
    "# test: a PT should have the first 8 elements in position 0, then 8 in position 1 ...\n",
    "expected_assignments = np.repeat(np.arange(12*5), 8)\n",
    "assert np.all(position_assignments == expected_assignments)"
   ]
  },
  {
   "cell_type": "code",
   "execution_count": 37,
   "id": "ec0878cf",
   "metadata": {
    "ExecuteTime": {
     "end_time": "2024-02-07T10:27:24.830300Z",
     "start_time": "2024-02-07T10:27:18.913218Z"
    }
   },
   "outputs": [
    {
     "name": "stdout",
     "output_type": "stream",
     "text": [
      "Assigning 25000 frames to 25x20=500 positions\n"
     ]
    }
   ],
   "source": [
    "# test with a real trajectory: see how long it takes\n",
    "gro_name = \"H2O_H2O_0095\"\n",
    "traj_name = \"H2O_H2O_0095_25000\"\n",
    "traj_universe = mda.Universe(f\"{PATH_OUTPUT_PT}{gro_name}.gro\", f\"{PATH_OUTPUT_PT}{traj_name}.xtc\")\n",
    "\n",
    "print(f\"Assigning 25000 frames to 25x20={25*20} positions\")\n",
    "traj_full_grid = FullGrid(b_grid_name=\"20\", o_grid_name=\"25\", t_grid_name=\"linspace(0.2, 1.5, 20)\")\n",
    "position_assignments = assign_2_position_grid(traj_universe, traj_full_grid.get_o_grid().get_grid_as_array(), \n",
    "                       traj_full_grid.get_radii(), my_second_molecule)"
   ]
  },
  {
   "cell_type": "code",
   "execution_count": 45,
   "id": "c7ce138d",
   "metadata": {
    "ExecuteTime": {
     "end_time": "2024-02-07T10:32:15.826111Z",
     "start_time": "2024-02-07T10:32:15.289532Z"
    }
   },
   "outputs": [
    {
     "name": "stdout",
     "output_type": "stream",
     "text": [
      "Most popular assignments are [477  68  28  27  48  31  38  26  33  51] with population [328 336 350 384 350 407 392 457 344 350]\n"
     ]
    },
    {
     "data": {
      "image/png": "[encoded data removed]",
      "text/plain": [
       "<Figure size 640x480 with 1 Axes>"
      ]
     },
     "metadata": {},
     "output_type": "display_data"
    }
   ],
   "source": [
    "# make a histogram of most populated positions\n",
    "sns.histplot(position_assignments, stat=\"count\", bins=np.arange(500))\n",
    "\n",
    "popular, counts = np.unique(position_assignments, return_counts=True)\n",
    "max_counts = k_argmax_in_array(counts, 10)\n",
    "print(f\"Most popular assignments are {popular[max_counts]} with population {counts[max_counts]}\")"
   ]
  },
  {
   "cell_type": "code",
   "execution_count": 48,
   "id": "2597e249",
   "metadata": {
    "ExecuteTime": {
     "end_time": "2024-02-07T10:38:24.549460Z",
     "start_time": "2024-02-07T10:38:13.826680Z"
    }
   },
   "outputs": [
    {
     "name": "stdout",
     "output_type": "stream",
     "text": [
      "[854, 855, 856, 857, 858, 859, 860, 861, 862, 863, 864, 865, 866, 867, 868, 869, 870, 871, 872, 873, 874, 875, 876, 877, 878, 879, 880, 1962, 1963, 1964, 1965, 1966, 1967, 1968, 1969, 1970, 1971, 1972, 1973, 1974, 1975, 1976, 1977, 2265, 2266, 2267, 2268, 2269, 2270, 2271, 2272, 2273, 2274, 2275, 2276, 2277, 2278, 2279, 2280, 2281, 2282, 2283, 2284, 2285, 2286, 2287, 2312, 2313, 2314, 2315, 2316, 2317, 2318, 2319, 2320, 2321, 2632, 2650, 2651, 2652, 2653, 2654, 2655, 2656, 2657, 2658, 2659, 2660, 2661, 2662, 2663, 2664, 2665, 2666, 2667, 4032, 4033, 4034, 4035, 4036, 4037, 4038, 4039, 4040, 4041, 4042, 4043, 4044, 4045, 4046, 4047, 4048, 4049, 4050, 4051, 4602, 4603, 4604, 4605, 4606, 4971, 4972, 4973, 4974, 4975, 4976, 4977, 4978, 4979, 4980, 4981, 4982, 4983, 4984, 4985, 4986, 4987, 4988, 4989, 4990, 4991, 4992, 4993, 4994, 4995, 4996, 4997, 4998, 4999, 5000, 5001, 5002, 5003, 5004, 5005, 5006, 5007, 5008, 5009, 5010, 5011, 5012, 5013, 5014, 5015, 5016, 5017, 5018, 5019, 5020, 5021, 5022, 5023, 5024, 5025, 5026, 5027, 5028, 5029, 5030, 5031, 5032, 5033, 5034, 5035, 5036, 5037, 5038, 5039, 5040, 5041, 5042, 5043, 5044, 5045, 5046, 5047, 5048, 5049, 5050, 5051, 5052, 5053, 5054, 5055, 5056, 5057, 5058, 5059, 5060, 5061, 5062, 5063, 5064, 5065, 5066, 5067, 5068, 5069, 5070, 6046, 6047, 6048, 6049, 6050, 6051, 6052, 6053, 6198, 6199, 6200, 6201, 6202, 6203, 6204, 6205, 6206, 6207, 6208, 6209, 6210, 6211, 6212, 6213, 6214, 6215, 6216, 6217, 6218, 6219, 6220, 6221, 6222, 6223, 6224, 6225, 6226, 6227, 6228, 6229, 6230, 6231, 6232, 6233, 6234, 6235, 6318, 6319, 6320, 6321, 6322, 6323, 6324, 6325, 6326, 6327, 6328, 6329, 6330, 6331, 6332, 6333, 6334, 6335, 6336, 6337, 6338, 6339, 6340, 6341, 6342, 6343, 6344, 6345, 6346, 6347, 6348, 6349, 6350, 6351, 6352, 6353, 6354, 6355, 6356, 6357, 6358, 6359, 6360, 6361, 6362, 6363, 6364, 6365, 6366, 6367, 6368, 6369, 6370, 6371, 6372, 6373, 6374, 6375, 6376, 6377, 6378, 6379, 6380, 6381, 6382, 6383, 6384, 6385, 6386, 6387, 6388, 6389, 6390, 6391, 6392, 6393, 6394, 6395, 6396, 6397, 6398, 6399, 6400, 6401, 6402, 6403, 6404, 6405, 6406, 6407, 7209, 7210, 7211, 7212, 7213, 7214, 7215, 7216, 7217, 7218, 7219, 7220, 7221, 7222, 7223, 7315, 7316, 7317, 7318, 7319, 7320, 7321, 7322, 7323, 7324, 7325, 7326, 7327, 7328, 7329, 7330, 7331, 7332, 7333, 7334, 7335, 7336, 7337, 7338, 7339, 7340, 7341, 7342, 7343, 7344, 7345, 7346, 7347, 7348, 7349, 7350, 7351, 7352, 7353, 7354, 7355, 7356, 7357, 7358, 7856, 7857, 7858, 7859, 7860, 7861, 7862, 7863, 7864, 7865, 7866, 7867, 7868, 7869, 7870, 7871, 7872, 7873, 7874, 7875, 7876, 7877, 7878, 24402, 24403, 24404, 24405, 24406, 24407, 24408, 24409, 24410, 24411, 24412, 24413, 24414, 24415, 24416, 24417, 24418, 24419, 24420]\n"
     ]
    },
    {
     "data": {
      "application/vnd.jupyter.widget-view+json": {
       "model_id": "81bf598eadb8408cbb51ae3961fdf4a4",
       "version_major": 2,
       "version_minor": 0
      },
      "text/plain": [
       "NGLWidget()"
      ]
     },
     "metadata": {},
     "output_type": "display_data"
    }
   ],
   "source": [
    "# plot some frames of a real trajectory that belong to the same position grid point\n",
    "vm = ViewManager(traj_universe)\n",
    "# plot a selection (because too many) that are all assigned to grid point 26\n",
    "assigned_to_26 = np.where(position_assignments == 26)[0]\n",
    "# show in VMD for a better view\n",
    "print(list(assigned_to_26))\n",
    "vm.plot_frames_overlapping(np.random.choice(assigned_to_26, 30))"
   ]
  },
  {
   "cell_type": "code",
   "execution_count": 49,
   "id": "49b3a332",
   "metadata": {
    "ExecuteTime": {
     "end_time": "2024-02-07T10:39:50.944605Z",
     "start_time": "2024-02-07T10:39:40.952554Z"
    }
   },
   "outputs": [
    {
     "name": "stdout",
     "output_type": "stream",
     "text": [
      "[16795, 16796, 16797, 16798, 16799, 16800, 16801, 16802, 16803, 16804, 16805, 16806, 16807, 16808, 16809, 16810, 16811, 16812, 16813, 16814, 16815, 16816, 16817, 16818, 16819, 16820, 16821, 16822, 16823, 16824, 16825, 16826, 16827, 16828, 16829, 16830, 16831, 16832, 16833, 16834, 16835, 16836, 16837, 16838, 16839, 16840, 16841, 16842, 16843, 16844, 16845, 16846, 16847, 16848, 16849, 16850, 16851, 16852, 16853, 16854, 16855, 16856, 16857, 16858, 16859, 16860, 16861, 16862, 16863, 16864, 16865, 16866, 16867, 16868, 16869, 16870, 16871, 16872, 16873, 16874, 16875, 16876, 16877, 16878, 16879, 16880, 16881, 16882, 16883, 16884, 16885, 16886, 16887, 16888, 16889, 16890, 16891, 16892, 16893, 16894, 16895, 16896, 16897, 16898, 16899, 16900, 16901, 16902, 16903, 16904, 16905, 16906, 16907, 16908, 16909, 17106, 17107, 17108, 17109, 17110, 17111, 17112, 17113, 17114, 17115, 17116, 17117, 17118, 17119, 17120, 17121, 17122, 17123, 17124, 17342, 17343, 17344, 17345, 17346, 17347, 17348, 17349, 17350, 17351, 17352, 17353, 17354, 17355, 17356, 17357, 17358, 17359, 17360, 17361, 17362, 17363, 17364, 17365, 17366, 17367, 17368, 17369, 17370, 17371, 17372, 17373, 17374, 17375, 17376, 17377, 17378, 17379, 17380, 17381, 17382, 17383, 17384, 17385, 17386, 17387, 17388, 17389, 17390, 17391, 17392, 17393, 17394, 17395, 17396, 17397, 17398, 17399, 17400, 17401, 17402, 17403, 17404, 17405, 17406, 17407, 17408, 17409, 17410, 17411, 17412, 17413, 17414, 17415, 17416, 17417, 17418, 17419, 17420, 17421, 17422, 17423, 17424, 17425, 17426, 17745, 17746, 17747, 17748, 17749, 17750, 17751, 17752, 17753, 17754, 17755, 17756, 17757, 17758, 17759, 17760, 17761, 17762, 17763, 17764, 17765, 17766, 17767, 17768, 17769, 17770, 17771, 17772, 17773, 17774, 17775, 17776, 17777, 17778, 17779, 17780, 17781, 17782, 17783, 17784, 17785, 17786, 17787, 17788, 17789, 17790, 17791, 17792, 17793, 17794, 17795, 17796, 17797, 17798, 17799, 17800, 17801, 17802, 17803, 17804, 17805, 17806, 17807, 17808, 17809, 17810, 17811, 17812, 17813, 17814, 17815, 17816, 17817, 17818, 17819, 17820, 17821, 17822, 17823, 22515, 22516, 22517, 22518, 22519, 22520, 22521, 22522, 22523, 22524, 22525, 22526, 22527, 22528, 22529, 22530, 22531, 22532, 22533, 22534, 22535, 22536, 22537, 22538, 22539, 22540, 22541, 22542, 22543, 22544]\n"
     ]
    },
    {
     "data": {
      "application/vnd.jupyter.widget-view+json": {
       "model_id": "c8039deeecdf4c50a37437e5889b9b95",
       "version_major": 2,
       "version_minor": 0
      },
      "text/plain": [
       "NGLWidget()"
      ]
     },
     "metadata": {},
     "output_type": "display_data"
    }
   ],
   "source": [
    "# try another one\n",
    "vm.fresh_view()\n",
    "# plot a selection (because too many) that are all assigned to grid point 477\n",
    "assigned_to_477 = np.where(position_assignments == 477)[0]\n",
    "# show in VMD for a better view\n",
    "print(list(assigned_to_477))\n",
    "vm.plot_frames_overlapping(np.random.choice(assigned_to_477, 30))"
   ]
  },
  {
   "cell_type": "markdown",
   "id": "50f02356",
   "metadata": {},
   "source": [
    "## Orientation space"
   ]
  },
  {
   "cell_type": "markdown",
   "id": "0fd14db3",
   "metadata": {},
   "source": [
    "### Determine internal coordinate system (principal axes)"
   ]
  },
  {
   "cell_type": "code",
   "execution_count": 51,
   "id": "20ce9104",
   "metadata": {
    "ExecuteTime": {
     "end_time": "2024-02-07T10:43:15.791931Z",
     "start_time": "2024-02-07T10:43:15.725664Z"
    }
   },
   "outputs": [
    {
     "name": "stdout",
     "output_type": "stream",
     "text": [
      "[[ 0.     1.     0.   ]\n",
      " [-0.599  0.    -0.8  ]\n",
      " [-0.8    0.     0.599]]\n",
      "[-1.70130157  1.          1.05146214]\n"
     ]
    },
    {
     "data": {
      "application/vnd.jupyter.widget-view+json": {
       "model_id": "5f024304ec1246c3ad506b0ad36891fb",
       "version_major": 2,
       "version_minor": 0
      },
      "text/plain": [
       "NGLWidget()"
      ]
     },
     "metadata": {},
     "output_type": "display_data"
    }
   ],
   "source": [
    "# determine principal axes\n",
    "\n",
    "# principal axes of the first frame\n",
    "pa_zero = pt_universe.select_atoms(second_molecule).principal_axes()\n",
    "com_zero = pt_universe.select_atoms(second_molecule).center_of_mass()\n",
    "print(np.round(pa_zero, 3))\n",
    "print(com_zero+pa_zero[0])\n",
    "\n",
    "# display principal axes of first frame\n",
    "vm = ViewManager(pt_universe)\n",
    "vm.fresh_view()\n",
    "vm.plot_ith_frame(0)\n",
    "vm.add_principal_axes(com_zero, pa_zero)\n",
    "vm.view\n",
    "\n"
   ]
  },
  {
   "cell_type": "code",
   "execution_count": 52,
   "id": "b99495a9",
   "metadata": {
    "ExecuteTime": {
     "end_time": "2024-02-07T10:43:27.875197Z",
     "start_time": "2024-02-07T10:43:27.368370Z"
    }
   },
   "outputs": [
    {
     "name": "stdout",
     "output_type": "stream",
     "text": [
      "[[ 0.     0.     1.   ]\n",
      " [ 0.8   -0.599  0.   ]\n",
      " [ 0.599  0.8    0.   ]]\n",
      "[[ 0.     0.     1.   ]\n",
      " [ 0.8    0.599  0.   ]\n",
      " [-0.599  0.8    0.   ]]\n",
      "[[ 0.     0.     1.   ]\n",
      " [ 0.8   -0.599  0.   ]\n",
      " [ 0.599  0.8    0.   ]]\n"
     ]
    },
    {
     "data": {
      "application/vnd.jupyter.widget-view+json": {
       "model_id": "4e7e383a5c3f4c63b61f50b0f9bed8eb",
       "version_major": 2,
       "version_minor": 0
      },
      "text/plain": [
       "NGLWidget()"
      ]
     },
     "metadata": {},
     "output_type": "display_data"
    }
   ],
   "source": [
    "vm.fresh_view()\n",
    "\n",
    "# principal axes change in relation to the stationary coordinate system when the molecule is re-oriented\n",
    "# but they remain the same in relation to the molecule itself\n",
    "\n",
    "# using some selected PT frames for demonstration\n",
    "for i in [20, 63, 284]:\n",
    "    pt_universe.trajectory[i]\n",
    "    pa_current = pt_universe.select_atoms(second_molecule).principal_axes()\n",
    "    com_current = pt_universe.select_atoms(second_molecule).center_of_mass()\n",
    "    print(np.round(pa_current, 3))\n",
    "\n",
    "    # display this\n",
    "    vm.plot_ith_frame(i)\n",
    "    vm.add_principal_axes(com_current, pa_current)\n",
    "vm.view"
   ]
  },
  {
   "cell_type": "markdown",
   "id": "77772d7d",
   "metadata": {},
   "source": [
    "### Orientation index from reference principal axes and trajectory"
   ]
  },
  {
   "cell_type": "code",
   "execution_count": null,
   "id": "b06c58ba",
   "metadata": {},
   "outputs": [],
   "source": []
  },
  {
   "cell_type": "code",
   "execution_count": 125,
   "id": "e7005c3e",
   "metadata": {
    "ExecuteTime": {
     "end_time": "2024-02-07T13:59:35.386240Z",
     "start_time": "2024-02-07T13:59:35.214215Z"
    },
    "scrolled": true
   },
   "outputs": [
    {
     "name": "stdout",
     "output_type": "stream",
     "text": [
      "[[ 0.    -0.8   -0.599]\n",
      " [-0.599 -0.48   0.641]\n",
      " [-0.8    0.359 -0.48 ]]\n",
      "current [[ 0.  0. -1.]\n",
      " [-1.  0.  0.]\n",
      " [ 0.  1.  0.]]\n",
      "[[ 0.    -0.8   -0.599]\n",
      " [-0.599 -0.48   0.641]\n",
      " [-0.8    0.359 -0.48 ]]\n",
      "current [[ 0.  0.  1.]\n",
      " [-1.  0.  0.]\n",
      " [ 0. -1.  0.]]\n",
      "[[ 0.    -0.8   -0.599]\n",
      " [ 0.599 -0.48   0.641]\n",
      " [-0.8   -0.359  0.48 ]]\n",
      "current [[0. 0. 1.]\n",
      " [1. 0. 0.]\n",
      " [0. 1. 0.]]\n",
      "[[ 0.    -0.599  0.8  ]\n",
      " [-0.8    0.48   0.359]\n",
      " [-0.599 -0.641 -0.48 ]]\n",
      "current [[ 0.  1.  0.]\n",
      " [ 0.  0. -1.]\n",
      " [-1.  0.  0.]]\n",
      "[[ 0.    -0.599  0.8  ]\n",
      " [-0.8   -0.48  -0.359]\n",
      " [ 0.599 -0.641 -0.48 ]]\n",
      "current [[ 0. -1.  0.]\n",
      " [ 0.  0. -1.]\n",
      " [ 1.  0.  0.]]\n",
      "[[-0.    -0.599  0.8  ]\n",
      " [-0.8   -0.48  -0.359]\n",
      " [ 0.599 -0.641 -0.48 ]]\n",
      "current [[0. 1. 0.]\n",
      " [0. 0. 1.]\n",
      " [1. 0. 0.]]\n",
      "[[ 0.    -0.8   -0.599]\n",
      " [ 0.599 -0.48   0.641]\n",
      " [-0.8   -0.359  0.48 ]]\n",
      "current [[ 0.  0. -1.]\n",
      " [ 1.  0.  0.]\n",
      " [ 0. -1.  0.]]\n",
      "[[ 0.    -0.599  0.8  ]\n",
      " [-0.8    0.48   0.359]\n",
      " [-0.599 -0.641 -0.48 ]]\n",
      "current [[ 0. -1.  0.]\n",
      " [ 0.  0.  1.]\n",
      " [-1.  0.  0.]]\n"
     ]
    }
   ],
   "source": [
    "def assign_2_b_grid(my_trajectory: mda.Universe, b_grid_points: NDArray, reference_principal_axes: NDArray,\n",
    "                           second_molecule: str) -> NDArray:\n",
    "    \"\"\"\n",
    "    b grid points are quaternions\n",
    "    \"\"\"\n",
    "    # now using a normalized com and a metric on a sphere, determine which of o_grid_points is closest\n",
    "    b_selection = AnalysisFromFunction(lambda ag: np.argmin(cdist(b_grid_points, normalise_vectors(\n",
    "        ag.center_of_mass())[np.newaxis, :], metric=distance_between_quaternions), axis=0),\n",
    "                                     my_trajectory.trajectory,\n",
    "                                     my_trajectory.select_atoms(second_molecule))\n",
    "    b_selection.run()\n",
    "    b_indices = o_selection.results['timeseries'].flatten()\n",
    "    return o_indices\n",
    "\n",
    "\n",
    "\n",
    "from scipy.spatial.transform.rotation import Rotation\n",
    "from MDAnalysis.analysis import align\n",
    "\n",
    "my_full_grid = FullGrid(b_grid_name=\"8\", o_grid_name=\"12\", t_grid_name=\"linspace(0.2, 1, 5)\")\n",
    "b_grid = my_full_grid.b_rotations.get_grid_as_array()\n",
    "\n",
    "\n",
    "reference_structure = mda.Universe(f\"{PATH_INPUT_BASEGRO}H2O.gro\")\n",
    "reference_principal_axes = reference_structure.atoms.principal_axes()\n",
    "\n",
    "inertia = np.diagonal(reference_structure.atoms.moment_of_inertia())\n",
    "#reference_principal_axes = np.eye(3)\n",
    "\n",
    "\n",
    "\n",
    "for i in range(0, 8):\n",
    "    pt_universe.trajectory[i]\n",
    "    pa_current = pt_universe.select_atoms(second_molecule).principal_axes()\n",
    "    \n",
    "    current_b = Rotation(b_grid[i]).as_matrix()\n",
    "    print(np.round(pa_current @ np.linalg.inv(reference_principal_axes), 3))\n",
    "    print(\"current\", np.round(current_b, 3))\n",
    "    \n",
    "    md_matrix = align.rotation_matrix(reference_principal_axes, pa_current)\n",
    "    #print(\"MD\", np.round(md_matrix[0], 3))\n",
    "    quat = Rotation.from_matrix(md_matrix[0]).as_quat()\n",
    "    if not q_in_upper_sphere(quat):\n",
    "        quat = -quat\n",
    "    #print(np.round(quat, 3))"
   ]
  },
  {
   "cell_type": "code",
   "execution_count": 185,
   "id": "774bd3bc",
   "metadata": {
    "ExecuteTime": {
     "end_time": "2024-02-07T15:12:16.479714Z",
     "start_time": "2024-02-07T15:12:15.580382Z"
    }
   },
   "outputs": [
    {
     "name": "stdout",
     "output_type": "stream",
     "text": [
      "[[ 0.5        -0.5        -0.5         0.5       ]\n",
      " [ 0.5        -0.5         0.5        -0.5       ]\n",
      " [ 0.5         0.5         0.5         0.5       ]\n",
      " [ 0.5         0.5        -0.5         0.5       ]\n",
      " [ 0.5        -0.5         0.5         0.5       ]\n",
      " [ 0.5         0.5         0.5        -0.5       ]\n",
      " [ 0.5         0.5        -0.5        -0.5       ]\n",
      " [ 0.5        -0.5        -0.5        -0.5       ]\n",
      " [ 0.57735027 -0.57735027  0.          0.57735027]\n",
      " [ 0.70710678  0.70710678  0.          0.        ]\n",
      " [ 0.          0.          0.70710678  0.70710678]\n",
      " [ 0.70710678  0.          0.70710678  0.        ]\n",
      " [ 0.          0.57735027  0.57735027 -0.57735027]\n",
      " [ 0.70710678  0.          0.         -0.70710678]\n",
      " [ 0.57735027  0.          0.57735027 -0.57735027]\n",
      " [ 0.57735027  0.57735027  0.         -0.57735027]\n",
      " [ 0.57735027  0.          0.57735027  0.57735027]\n",
      " [ 0.70710678  0.         -0.70710678  0.        ]\n",
      " [ 0.57735027  0.57735027 -0.57735027  0.        ]\n",
      " [ 0.          0.70710678  0.70710678  0.        ]]\n",
      "my R @ ref [[ 0.     0.    -1.   ]\n",
      " [-0.599  0.8    0.   ]\n",
      " [ 0.8    0.599  0.   ]]\n",
      "end_pa [[ 0.    -0.     1.   ]\n",
      " [ 0.599 -0.8   -0.   ]\n",
      " [ 0.8    0.599 -0.   ]]\n"
     ]
    },
    {
     "data": {
      "application/vnd.jupyter.widget-view+json": {
       "model_id": "abf5af9c1e544effaf98e2fe50631ae3",
       "version_major": 2,
       "version_minor": 0
      },
      "text/plain": [
       "NGLWidget()"
      ]
     },
     "metadata": {},
     "output_type": "display_data"
    }
   ],
   "source": [
    "# LESSION LEARNED: principal axes are axes and NOT vectors - their direction is NOT clearly defined\n",
    "# see also: https://math.stackexchange.com/questions/145023/rotation-matrix-from-an-inertia-tensor\n",
    "\n",
    "# python -m molgri.scripts.generate_pt -m1 H2O -m2 H2O -o \"1\" -b \"20\" -t \"1\" --recal\n",
    "from molgri.space.rotobj import SphereGrid4DFactory\n",
    "b_selection = SphereGrid4DFactory().create(alg_name=\"cube4D\", N=20).get_grid_as_array()\n",
    "b_universe = mda.Universe(f\"{PATH_OUTPUT_PT}H2O_H2O_0407.gro\", f\"{PATH_OUTPUT_PT}H2O_H2O_0407.xtc\")\n",
    "\n",
    "vm = ViewManager(b_universe)\n",
    "vm.fresh_view()\n",
    "reference_structure = mda.Universe(f\"{PATH_INPUT_BASEGRO}H2O.gro\")\n",
    "reference_principal_axes = reference_structure.atoms.principal_axes()\n",
    "\n",
    "for i in range(17, 18):\n",
    "    b_universe.trajectory[i]\n",
    "    reference_structure = mda.Universe(f\"{PATH_INPUT_BASEGRO}H2O.gro\")\n",
    "    reference_principal_axes = reference_structure.atoms.principal_axes()\n",
    "    my_R = Rotation(b_selection[i]).as_matrix()\n",
    "    expected_pa = Rotation(b_selection[i]).apply(reference_principal_axes)\n",
    "    #expected_pa = (my_R @ reference_principal_axes.T).T\n",
    "\n",
    "    print(\"my R @ ref\", np.round(expected_pa, 3))\n",
    "\n",
    "    current_principal_axes = b_universe.select_atoms(second_molecule).principal_axes()\n",
    "    com_current = b_universe.select_atoms(second_molecule).center_of_mass()\n",
    "    print(\"end_pa\", np.round(current_principal_axes, 3))\n",
    "    vm.plot_ith_frame(i)\n",
    "    vm.add_principal_axes(com_current, expected_pa)\n",
    "    vm.add_principal_axes(com_current, current_principal_axes)\n",
    "vm.view"
   ]
  },
  {
   "cell_type": "code",
   "execution_count": 228,
   "id": "208ccd52",
   "metadata": {
    "ExecuteTime": {
     "end_time": "2024-02-08T16:35:01.699344Z",
     "start_time": "2024-02-08T16:35:00.836963Z"
    }
   },
   "outputs": [
    {
     "name": "stdout",
     "output_type": "stream",
     "text": [
      "True [ 0.5 -0.5 -0.5  0.5] [ 0.5 -0.5 -0.5  0.5]\n",
      "True [ 0.5 -0.5  0.5 -0.5] [ 0.5 -0.5  0.5 -0.5]\n",
      "True [0.5 0.5 0.5 0.5] [0.5 0.5 0.5 0.5]\n",
      "True [ 0.5  0.5 -0.5  0.5] [ 0.5  0.5 -0.5  0.5]\n",
      "True [ 0.5 -0.5  0.5  0.5] [ 0.5 -0.5  0.5  0.5]\n",
      "True [ 0.5  0.5  0.5 -0.5] [ 0.5  0.5  0.5 -0.5]\n",
      "True [ 0.5  0.5 -0.5 -0.5] [ 0.5  0.5 -0.5 -0.5]\n",
      "True [ 0.5 -0.5 -0.5 -0.5] [ 0.5 -0.5 -0.5 -0.5]\n",
      "True [ 0.57735027 -0.57735027  0.          0.57735027] [ 0.57735 -0.57735  0.       0.57735]\n",
      "True [0.70710678 0.70710678 0.         0.        ] [ 0.707107  0.707107  0.       -0.      ]\n",
      "True [0.         0.         0.70710678 0.70710678] [-0.        0.        0.707107  0.707107]\n",
      "True [0.70710678 0.         0.70710678 0.        ] [0.707107 0.       0.707107 0.      ]\n",
      "True [ 0.          0.57735027  0.57735027 -0.57735027] [ 0.       0.57735  0.57735 -0.57735]\n",
      "True [ 0.70710678  0.          0.         -0.70710678] [ 0.707107 -0.       -0.       -0.707107]\n",
      "True [ 0.57735027  0.          0.57735027 -0.57735027] [ 0.57735  0.       0.57735 -0.57735]\n",
      "True [ 0.57735027  0.57735027  0.         -0.57735027] [ 0.57735  0.57735 -0.      -0.57735]\n",
      "True [0.57735027 0.         0.57735027 0.57735027] [ 0.57735 -0.       0.57735  0.57735]\n",
      "True [ 0.70710678  0.         -0.70710678  0.        ] [ 0.707107  0.       -0.707107 -0.      ]\n",
      "True [ 0.57735027  0.57735027 -0.57735027  0.        ] [ 0.57735  0.57735 -0.57735 -0.     ]\n",
      "True [0.         0.70710678 0.70710678 0.        ] [ 0.        0.707107  0.707107 -0.      ]\n"
     ]
    }
   ],
   "source": [
    "# LESSONS LEARNED\n",
    "# 1. symmetry of water is a problem\n",
    "# 2. need to save in a higher precision file trr\n",
    "# 3. need to round structures read from files otherwise values very close to zero can throw off \n",
    "#    quaternion projection to correct hemisphere\n",
    "\n",
    "my_new_u = mda.Universe(f\"{PATH_OUTPUT_PT}glucose_glucose_0025.gro\", f\"{PATH_OUTPUT_PT}glucose_glucose_0025.trr\")\n",
    "b_selection = SphereGrid4DFactory().create(alg_name=\"cube4D\", N=20).get_grid_as_array()\n",
    "\n",
    "\n",
    "\n",
    "def determine_positive_directions(current_universe, second_molecule):\n",
    "    pas = current_universe.select_atoms(second_molecule).principal_axes()\n",
    "    com = current_universe.select_atoms(second_molecule).center_of_mass()\n",
    "    directions = [0, 0, 0]\n",
    "    for atom_pos in current_universe.select_atoms(second_molecule).positions:\n",
    "        for i, pa in enumerate(pas):\n",
    "            cosalpha = pa.dot(atom_pos-com) #/np.linalg.norm(pa)/np.linalg.norm(atom_pos-com)\n",
    "            directions[i] = np.sign(cosalpha)\n",
    "        if not np.any(np.isclose(directions,0)):\n",
    "            break\n",
    "    return np.array(directions)\n",
    "\n",
    "second_molecule_glu = \"bynum 13:24\"\n",
    "\n",
    "# reference structure\n",
    "reference_structure = mda.Universe(f\"{PATH_INPUT_BASEGRO}glucose.xyz\")\n",
    "second_molecule_ref = \"bynum 1:12\"\n",
    "reference_principal_axes = reference_structure.atoms.principal_axes().T\n",
    "inverse_pa = np.linalg.inv(reference_principal_axes)\n",
    "reference_direction = determine_positive_directions(reference_structure, second_molecule_ref)\n",
    "\n",
    "# frame 0: q3 in direction C-O, frame 1: q3 in direction O\n",
    "for i in range(20):\n",
    "    my_new_u.trajectory[i]\n",
    "    com_current = my_new_u.select_atoms(second_molecule_glu).center_of_mass()\n",
    "    current_principal_axes = my_new_u.select_atoms(second_molecule_glu).principal_axes().T\n",
    "    #print(current_principal_axes)\n",
    "    current_directions = determine_positive_directions(my_new_u, second_molecule_glu)\n",
    "    direction = current_directions * reference_direction\n",
    "    # i get a pretty significant numerical error, where?\n",
    "    # it is already there at the point of calculating principal directions\n",
    "    produkt = np.multiply(current_principal_axes, np.tile(direction, (3, 1))) @ inverse_pa\n",
    "    # need to round otherwise assignment to hemisphere can be incorrect\n",
    "    calc_quat = np.round(Rotation.from_matrix(produkt).as_quat(), 6) \n",
    "    if not q_in_upper_sphere(calc_quat):\n",
    "        calc_quat = -calc_quat\n",
    "    print(np.allclose(b_selection[i], calc_quat, atol=1e-3, rtol=1e-2), b_selection[i], calc_quat)"
   ]
  },
  {
   "cell_type": "markdown",
   "id": "237a60d7",
   "metadata": {},
   "source": [
    "## Full conversion 3N coordinates <-> 7D gridpoint"
   ]
  },
  {
   "cell_type": "code",
   "execution_count": null,
   "id": "f370d357",
   "metadata": {},
   "outputs": [],
   "source": [
    "# -> direction: INPUT start coordinates (3N), 7D gridpoint; OUTPUT end coordinates (3N)\n",
    "# <- direction: INPUT end coordinates (3N), start coordinates (3N); OUTPUT 7D gridpoint"
   ]
  }
 ],
 "metadata": {
  "kernelspec": {
   "display_name": "Python 3 (ipykernel)",
   "language": "python",
   "name": "python3"
  },
  "language_info": {
   "codemirror_mode": {
    "name": "ipython",
    "version": 3
   },
   "file_extension": ".py",
   "mimetype": "text/x-python",
   "name": "python",
   "nbconvert_exporter": "python",
   "pygments_lexer": "ipython3",
   "version": "3.11.5"
  },
  "toc": {
   "base_numbering": 1,
   "nav_menu": {},
   "number_sections": true,
   "sideBar": true,
   "skip_h1_title": true,
   "title_cell": "Table of Contents",
   "title_sidebar": "Contents",
   "toc_cell": true,
   "toc_position": {},
   "toc_section_display": true,
   "toc_window_display": false
  }
 },
 "nbformat": 4,
 "nbformat_minor": 5
}
