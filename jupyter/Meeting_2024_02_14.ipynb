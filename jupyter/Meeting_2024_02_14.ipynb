{
 "cells": [
  {
   "cell_type": "markdown",
   "id": "3b8aab6d",
   "metadata": {
    "toc": true
   },
   "source": [
    "<h1>Table of Contents<span class=\"tocSkip\"></span></h1>\n",
    "<div class=\"toc\"><ul class=\"toc-item\"><li><span><a href=\"#Position-space\" data-toc-modified-id=\"Position-space-1\"><span class=\"toc-item-num\">1&nbsp;&nbsp;</span>Position space</a></span><ul class=\"toc-item\"><li><span><a href=\"#Translation-of-COM-instead-of-rotation-around-origin\" data-toc-modified-id=\"Translation-of-COM-instead-of-rotation-around-origin-1.1\"><span class=\"toc-item-num\">1.1&nbsp;&nbsp;</span>Translation of COM instead of rotation around origin</a></span></li><li><span><a href=\"#Determine-position-index\" data-toc-modified-id=\"Determine-position-index-1.2\"><span class=\"toc-item-num\">1.2&nbsp;&nbsp;</span>Determine position index</a></span></li></ul></li><li><span><a href=\"#Orientation-space\" data-toc-modified-id=\"Orientation-space-2\"><span class=\"toc-item-num\">2&nbsp;&nbsp;</span>Orientation space</a></span><ul class=\"toc-item\"><li><span><a href=\"#Determine-internal-coordinate-system-(principal-axes)\" data-toc-modified-id=\"Determine-internal-coordinate-system-(principal-axes)-2.1\"><span class=\"toc-item-num\">2.1&nbsp;&nbsp;</span>Determine internal coordinate system (principal axes)</a></span></li><li><span><a href=\"#Realize-that-determining-principal-axes-isn't-sufficient\" data-toc-modified-id=\"Realize-that-determining-principal-axes-isn't-sufficient-2.2\"><span class=\"toc-item-num\">2.2&nbsp;&nbsp;</span>Realize that determining principal axes isn't sufficient</a></span></li><li><span><a href=\"#Quaternion-index\" data-toc-modified-id=\"Quaternion-index-2.3\"><span class=\"toc-item-num\">2.3&nbsp;&nbsp;</span>Quaternion index</a></span></li></ul></li><li><span><a href=\"#Full-conversion-3N-coordinates-<->-7D-gridpoint\" data-toc-modified-id=\"Full-conversion-3N-coordinates-<->-7D-gridpoint-3\"><span class=\"toc-item-num\">3&nbsp;&nbsp;</span>Full conversion 3N coordinates &lt;-&gt; 7D gridpoint</a></span></li><li><span><a href=\"#MSM\" data-toc-modified-id=\"MSM-4\"><span class=\"toc-item-num\">4&nbsp;&nbsp;</span>MSM</a></span></li></ul></div>"
   ]
  },
  {
   "cell_type": "code",
   "execution_count": 1,
   "id": "f7c5ae2f",
   "metadata": {
    "ExecuteTime": {
     "end_time": "2024-02-12T14:28:03.617351Z",
     "start_time": "2024-02-12T14:28:03.601842Z"
    }
   },
   "outputs": [],
   "source": [
    "import sys\n",
    "import os\n",
    "\n",
    "try:\n",
    "    os.chdir(r\"/home/hanaz63/PAPER_MOLECULAR_ROTATIONS_2022/nobackup/molgri\")\n",
    "    sys.path.append(r\"/home/hanaz63/PAPER_MOLECULAR_ROTATIONS_2022/nobackup\")\n",
    "except FileNotFoundError:\n",
    "    os.chdir(r\"D:\\HANA\\phD\\PAPER_2022\\molecularRotationalGrids\")\n",
    "    sys.path.append(r\"D:\\HANA\\phD\\PAPER_2022\\molecularRotationalGrids\")\n",
    "    \n",
    "import warnings\n",
    "warnings.filterwarnings(\"ignore\")"
   ]
  },
  {
   "cell_type": "code",
   "execution_count": 2,
   "id": "0720fd04",
   "metadata": {
    "ExecuteTime": {
     "end_time": "2024-02-12T14:28:06.374781Z",
     "start_time": "2024-02-12T14:28:04.483399Z"
    }
   },
   "outputs": [
    {
     "data": {
      "application/vnd.jupyter.widget-view+json": {
       "model_id": "69bc1f441ca24e73b7790e6cba0705a8",
       "version_major": 2,
       "version_minor": 0
      },
      "text/plain": []
     },
     "metadata": {},
     "output_type": "display_data"
    }
   ],
   "source": [
    "import numpy as np\n",
    "import matplotlib.pyplot as plt\n",
    "from numpy.typing import NDArray\n",
    "import MDAnalysis as mda\n",
    "from scipy.spatial.distance import cdist\n",
    "from scipy.spatial.transform import Rotation\n",
    "from MDAnalysis.analysis.base import AnalysisFromFunction\n",
    "import seaborn as sns\n",
    "\n",
    "from molgri.plotting.widgets import ViewManager\n",
    "from molgri.paths import PATH_OUTPUT_PT, PATH_INPUT_BASEGRO\n",
    "from molgri.space.fullgrid import FullGrid\n",
    "from molgri.space.utils import normalise_vectors, k_argmax_in_array, distance_between_quaternions, q_in_upper_sphere\n",
    "from molgri.molecules.transitions import MSM, SimulationHistogram\n",
    "from molgri.plotting.transition_plots import TransitionPlot\n",
    "\n",
    "sns.set_context(\"notebook\")"
   ]
  },
  {
   "cell_type": "markdown",
   "id": "853fb606",
   "metadata": {},
   "source": [
    "## Position space\n"
   ]
  },
  {
   "cell_type": "markdown",
   "id": "e29acb48",
   "metadata": {},
   "source": [
    "\n",
    "### Translation of COM instead of rotation around origin"
   ]
  },
  {
   "cell_type": "code",
   "execution_count": 3,
   "id": "59caffb3",
   "metadata": {
    "ExecuteTime": {
     "end_time": "2024-02-12T11:51:03.995060Z",
     "start_time": "2024-02-12T11:51:02.912482Z"
    }
   },
   "outputs": [
    {
     "name": "stdout",
     "output_type": "stream",
     "text": [
      "[0, 8, 16, 24, 32, 40, 48, 56, 64, 72, 80, 88, 96, 104, 112, 120, 128, 136, 144, 152, 160, 168, 176, 184, 192, 200, 208, 216, 224, 232, 240, 248, 256, 264, 272, 280, 288, 296, 304, 312, 320, 328, 336, 344, 352, 360, 368, 376, 384, 392, 400, 408, 416, 424, 432, 440, 448, 456, 464, 472]\n"
     ]
    },
    {
     "data": {
      "application/vnd.jupyter.widget-view+json": {
       "model_id": "c37a27f1ca8f45139386b4e1b3b6510e",
       "version_major": 2,
       "version_minor": 0
      },
      "text/plain": [
       "NGLWidget()"
      ]
     },
     "metadata": {},
     "output_type": "display_data"
    }
   ],
   "source": [
    "# generated a file with\n",
    "# python -m molgri.scripts.generate_pt -m1 H2O -m2 H2O -o \"12\" -b \"8\" -t \"linspace(0.2, 1, 5)\" --recal\n",
    "pt_name = \"H2O_H2O_0528\"\n",
    "pt_universe = mda.Universe(f\"{PATH_OUTPUT_PT}{pt_name}.gro\",\n",
    "                           f\"{PATH_OUTPUT_PT}{pt_name}.trr\")\n",
    "len_pt = len(pt_universe.trajectory)\n",
    "\n",
    "vm = ViewManager(pt_universe)\n",
    "# plot every 8th frame\n",
    "# because we have 8 orientations, every 8th structure should be translated version of each other\n",
    "every_eighth_0 = np.arange(0, len_pt, 8)\n",
    "print(list(every_eighth_0))\n",
    "vm.plot_frames_overlapping(every_eighth_0[20:30])"
   ]
  },
  {
   "cell_type": "code",
   "execution_count": 6,
   "id": "f60f8e72",
   "metadata": {
    "ExecuteTime": {
     "end_time": "2024-02-12T11:51:34.560008Z",
     "start_time": "2024-02-12T11:51:33.461831Z"
    }
   },
   "outputs": [
    {
     "name": "stdout",
     "output_type": "stream",
     "text": [
      "[3, 11, 19, 27, 35, 43, 51, 59, 67, 75, 83, 91, 99, 107, 115, 123, 131, 139, 147, 155, 163, 171, 179, 187, 195, 203, 211, 219, 227, 235, 243, 251, 259, 267, 275, 283, 291, 299, 307, 315, 323, 331, 339, 347, 355, 363, 371, 379, 387, 395, 403, 411, 419, 427, 435, 443, 451, 459, 467, 475]\n"
     ]
    },
    {
     "data": {
      "application/vnd.jupyter.widget-view+json": {
       "model_id": "744010c2ad0147f6986f4207634860db",
       "version_major": 2,
       "version_minor": 0
      },
      "text/plain": [
       "NGLWidget()"
      ]
     },
     "metadata": {},
     "output_type": "display_data"
    }
   ],
   "source": [
    "vm.fresh_view()\n",
    "every_eighth_3 = np.arange(3, len_pt, 8)\n",
    "# similar thing for another class of identical orientations\n",
    "print(list(every_eighth_3))\n",
    "vm.plot_frames_overlapping(every_eighth_3[20:30])"
   ]
  },
  {
   "cell_type": "markdown",
   "id": "ce93c9c8",
   "metadata": {},
   "source": [
    "### Determine position index"
   ]
  },
  {
   "cell_type": "code",
   "execution_count": 7,
   "id": "c3de746a",
   "metadata": {
    "ExecuteTime": {
     "end_time": "2024-02-12T11:51:55.072017Z",
     "start_time": "2024-02-12T11:51:55.040757Z"
    }
   },
   "outputs": [],
   "source": [
    "# separately determine index in the radial direction and on the sphere, then combine\n",
    "\n",
    "def assign_2_t_grid(my_trajectory: mda.Universe, t_grid_points: NDArray,\n",
    "                         second_molecule: str) -> NDArray:\n",
    "    \"\"\"\n",
    "    Given a trajectoryand an array of available radial (t-grid) points, assign each frame of the trajectory\n",
    "    to the closest radial point.\n",
    "    \n",
    "    Args:\n",
    "        my_trajectory: a Universe of two molecules\n",
    "        radial_grid_points: a sorted array of available radial grid distances in A like [2, 4, 6]\n",
    "        second_molecule: a string that tdefines which part of the Universe is a moving molecule\n",
    "    \n",
    "    Returns:\n",
    "        an integer array as long as the trajectory, each element an index of the closest point of the radial grid\n",
    "        like [0, 0, 0, 1, 1, 1, 2 ...] (for a PT with 3 orientations)\n",
    "    \"\"\"\n",
    "    t_selection = AnalysisFromFunction(lambda ag: np.argmin(np.abs(t_grid_points-np.linalg.norm(ag.center_of_mass())), axis=0),\n",
    "                                     my_trajectory.trajectory,\n",
    "                                     my_trajectory.select_atoms(second_molecule))\n",
    "    t_selection.run()\n",
    "    t_indices = t_selection.results['timeseries'].flatten()\n",
    "    return t_indices\n",
    "\n",
    "def assign_2_o_grid(my_trajectory: mda.Universe, o_grid_points: NDArray, \n",
    "                           second_molecule: str) -> NDArray:\n",
    "    \"\"\"\n",
    "    Assign every frame of the trajectory (or PT) to the best fitting point of position grid\n",
    "\n",
    "    Returns:\n",
    "        an array of position grid indices\n",
    "    \"\"\"\n",
    "    # now using a normalized com and a metric on a sphere, determine which of o_grid_points is closest\n",
    "    o_selection = AnalysisFromFunction(lambda ag: np.argmin(cdist(o_grid_points, normalise_vectors(\n",
    "        ag.center_of_mass())[np.newaxis, :], metric=\"cos\"), axis=0),\n",
    "                                     my_trajectory.trajectory,\n",
    "                                     my_trajectory.select_atoms(second_molecule))\n",
    "    o_selection.run()\n",
    "    o_indices = o_selection.results['timeseries'].flatten()\n",
    "    return o_indices\n",
    "\n",
    "def assign_2_position_grid(my_trajectory: mda.Universe, o_grid_points: NDArray, t_grid_points: NDArray,\n",
    "                         second_molecule: str):\n",
    "    \"\"\"\n",
    "    Combine assigning to t_grid and o_grid.\n",
    "    \"\"\"\n",
    "    t_assignments = assign_2_t_grid(my_trajectory=my_trajectory, t_grid_points=t_grid_points, \n",
    "                                    second_molecule=second_molecule)\n",
    "    o_assignments = assign_2_o_grid(my_trajectory=my_trajectory, o_grid_points=o_grid_points,\n",
    "                                   second_molecule=second_molecule)\n",
    "    # sum up the layer index and o index correctly\n",
    "    return np.array(t_assignments * len(o_grid_points) + o_assignments, dtype=int)\n"
   ]
  },
  {
   "cell_type": "code",
   "execution_count": 8,
   "id": "dfda5825",
   "metadata": {
    "ExecuteTime": {
     "end_time": "2024-02-12T11:51:57.470931Z",
     "start_time": "2024-02-12T11:51:57.173400Z"
    }
   },
   "outputs": [
    {
     "name": "stdout",
     "output_type": "stream",
     "text": [
      "[ 0  0  0  0  0  0  0  0  1  1  1  1  1  1  1  1  2  2  2  2  2  2  2  2\n",
      "  3  3  3  3  3  3  3  3  4  4  4  4  4  4  4  4  5  5  5  5  5  5  5  5\n",
      "  6  6  6  6  6  6  6  6  7  7  7  7  7  7  7  7  8  8  8  8  8  8  8  8\n",
      "  9  9  9  9  9  9  9  9 10 10 10 10 10 10 10 10 11 11 11 11 11 11 11 11\n",
      " 12 12 12 12 12 12 12 12 13 13 13 13 13 13 13 13 14 14 14 14 14 14 14 14\n",
      " 15 15 15 15 15 15 15 15 16 16 16 16 16 16 16 16 17 17 17 17 17 17 17 17\n",
      " 18 18 18 18 18 18 18 18 19 19 19 19 19 19 19 19 20 20 20 20 20 20 20 20\n",
      " 21 21 21 21 21 21 21 21 22 22 22 22 22 22 22 22 23 23 23 23 23 23 23 23\n",
      " 24 24 24 24 24 24 24 24 25 25 25 25 25 25 25 25 26 26 26 26 26 26 26 26\n",
      " 27 27 27 27 27 27 27 27 28 28 28 28 28 28 28 28 29 29 29 29 29 29 29 29\n",
      " 30 30 30 30 30 30 30 30 31 31 31 31 31 31 31 31 32 32 32 32 32 32 32 32\n",
      " 33 33 33 33 33 33 33 33 34 34 34 34 34 34 34 34 35 35 35 35 35 35 35 35\n",
      " 36 36 36 36 36 36 36 36 37 37 37 37 37 37 37 37 38 38 38 38 38 38 38 38\n",
      " 39 39 39 39 39 39 39 39 40 40 40 40 40 40 40 40 41 41 41 41 41 41 41 41\n",
      " 42 42 42 42 42 42 42 42 43 43 43 43 43 43 43 43 44 44 44 44 44 44 44 44\n",
      " 45 45 45 45 45 45 45 45 46 46 46 46 46 46 46 46 47 47 47 47 47 47 47 47\n",
      " 48 48 48 48 48 48 48 48 49 49 49 49 49 49 49 49 50 50 50 50 50 50 50 50\n",
      " 51 51 51 51 51 51 51 51 52 52 52 52 52 52 52 52 53 53 53 53 53 53 53 53\n",
      " 54 54 54 54 54 54 54 54 55 55 55 55 55 55 55 55 56 56 56 56 56 56 56 56\n",
      " 57 57 57 57 57 57 57 57 58 58 58 58 58 58 58 58 59 59 59 59 59 59 59 59]\n"
     ]
    }
   ],
   "source": [
    "# test with a PT\n",
    "\n",
    "my_second_molecule = \"bynum 4:6\"\n",
    "my_full_grid = FullGrid(b_grid_name=\"8\", o_grid_name=\"12\", t_grid_name=\"linspace(0.2, 1, 5)\")\n",
    "position_assignments = assign_2_position_grid(pt_universe, my_full_grid.get_o_grid().get_grid_as_array(), \n",
    "                       my_full_grid.get_radii(), my_second_molecule)\n",
    "print(position_assignments)\n",
    "# test: a PT should have the first 8 elements in position 0, then 8 in position 1 ...\n",
    "expected_assignments = np.repeat(np.arange(12*5), 8)\n",
    "assert np.all(position_assignments == expected_assignments)"
   ]
  },
  {
   "cell_type": "code",
   "execution_count": 9,
   "id": "c43cea8a",
   "metadata": {
    "ExecuteTime": {
     "end_time": "2024-02-12T11:52:06.237730Z",
     "start_time": "2024-02-12T11:51:59.907162Z"
    }
   },
   "outputs": [
    {
     "name": "stdout",
     "output_type": "stream",
     "text": [
      "Assigning 25000 frames to 25x20=500 positions\n"
     ]
    }
   ],
   "source": [
    "# test with a real trajectory: see how long it takes\n",
    "gro_name = \"H2O_H2O_0095\"\n",
    "traj_name = \"H2O_H2O_0095_25000\"\n",
    "traj_universe = mda.Universe(f\"{PATH_OUTPUT_PT}{gro_name}.gro\", f\"{PATH_OUTPUT_PT}{traj_name}.xtc\")\n",
    "\n",
    "print(f\"Assigning 25000 frames to 25x20={25*20} positions\")\n",
    "traj_full_grid = FullGrid(b_grid_name=\"20\", o_grid_name=\"25\", t_grid_name=\"linspace(0.2, 1.5, 20)\")\n",
    "position_assignments = assign_2_position_grid(traj_universe, traj_full_grid.get_o_grid().get_grid_as_array(), \n",
    "                       traj_full_grid.get_radii(), my_second_molecule)"
   ]
  },
  {
   "cell_type": "code",
   "execution_count": 10,
   "id": "bf510e39",
   "metadata": {
    "ExecuteTime": {
     "end_time": "2024-02-12T11:52:18.818030Z",
     "start_time": "2024-02-12T11:52:17.986557Z"
    }
   },
   "outputs": [
    {
     "name": "stdout",
     "output_type": "stream",
     "text": [
      "Most popular assignments are [477  68  28  27  48  31  38  26  33  51] with population [328 336 350 384 350 407 392 457 344 350]\n"
     ]
    },
    {
     "data": {
      "image/png": "[encoded data removed]",
      "text/plain": [
       "<Figure size 640x480 with 1 Axes>"
      ]
     },
     "metadata": {},
     "output_type": "display_data"
    }
   ],
   "source": [
    "# make a histogram of most populated positions\n",
    "sns.histplot(position_assignments, stat=\"count\", bins=np.arange(501))\n",
    "\n",
    "popular, counts = np.unique(position_assignments, return_counts=True)\n",
    "max_counts = k_argmax_in_array(counts, 10)\n",
    "print(f\"Most popular assignments are {popular[max_counts]} with population {counts[max_counts]}\")"
   ]
  },
  {
   "cell_type": "code",
   "execution_count": 11,
   "id": "fd3b3022",
   "metadata": {
    "ExecuteTime": {
     "end_time": "2024-02-12T11:52:32.574770Z",
     "start_time": "2024-02-12T11:52:22.510228Z"
    }
   },
   "outputs": [
    {
     "name": "stdout",
     "output_type": "stream",
     "text": [
      "[854, 855, 856, 857, 858, 859, 860, 861, 862, 863, 864, 865, 866, 867, 868, 869, 870, 871, 872, 873, 874, 875, 876, 877, 878, 879, 880, 1962, 1963, 1964, 1965, 1966, 1967, 1968, 1969, 1970, 1971, 1972, 1973, 1974, 1975, 1976, 1977, 2265, 2266, 2267, 2268, 2269, 2270, 2271, 2272, 2273, 2274, 2275, 2276, 2277, 2278, 2279, 2280, 2281, 2282, 2283, 2284, 2285, 2286, 2287, 2312, 2313, 2314, 2315, 2316, 2317, 2318, 2319, 2320, 2321, 2632, 2650, 2651, 2652, 2653, 2654, 2655, 2656, 2657, 2658, 2659, 2660, 2661, 2662, 2663, 2664, 2665, 2666, 2667, 4032, 4033, 4034, 4035, 4036, 4037, 4038, 4039, 4040, 4041, 4042, 4043, 4044, 4045, 4046, 4047, 4048, 4049, 4050, 4051, 4602, 4603, 4604, 4605, 4606, 4971, 4972, 4973, 4974, 4975, 4976, 4977, 4978, 4979, 4980, 4981, 4982, 4983, 4984, 4985, 4986, 4987, 4988, 4989, 4990, 4991, 4992, 4993, 4994, 4995, 4996, 4997, 4998, 4999, 5000, 5001, 5002, 5003, 5004, 5005, 5006, 5007, 5008, 5009, 5010, 5011, 5012, 5013, 5014, 5015, 5016, 5017, 5018, 5019, 5020, 5021, 5022, 5023, 5024, 5025, 5026, 5027, 5028, 5029, 5030, 5031, 5032, 5033, 5034, 5035, 5036, 5037, 5038, 5039, 5040, 5041, 5042, 5043, 5044, 5045, 5046, 5047, 5048, 5049, 5050, 5051, 5052, 5053, 5054, 5055, 5056, 5057, 5058, 5059, 5060, 5061, 5062, 5063, 5064, 5065, 5066, 5067, 5068, 5069, 5070, 6046, 6047, 6048, 6049, 6050, 6051, 6052, 6053, 6198, 6199, 6200, 6201, 6202, 6203, 6204, 6205, 6206, 6207, 6208, 6209, 6210, 6211, 6212, 6213, 6214, 6215, 6216, 6217, 6218, 6219, 6220, 6221, 6222, 6223, 6224, 6225, 6226, 6227, 6228, 6229, 6230, 6231, 6232, 6233, 6234, 6235, 6318, 6319, 6320, 6321, 6322, 6323, 6324, 6325, 6326, 6327, 6328, 6329, 6330, 6331, 6332, 6333, 6334, 6335, 6336, 6337, 6338, 6339, 6340, 6341, 6342, 6343, 6344, 6345, 6346, 6347, 6348, 6349, 6350, 6351, 6352, 6353, 6354, 6355, 6356, 6357, 6358, 6359, 6360, 6361, 6362, 6363, 6364, 6365, 6366, 6367, 6368, 6369, 6370, 6371, 6372, 6373, 6374, 6375, 6376, 6377, 6378, 6379, 6380, 6381, 6382, 6383, 6384, 6385, 6386, 6387, 6388, 6389, 6390, 6391, 6392, 6393, 6394, 6395, 6396, 6397, 6398, 6399, 6400, 6401, 6402, 6403, 6404, 6405, 6406, 6407, 7209, 7210, 7211, 7212, 7213, 7214, 7215, 7216, 7217, 7218, 7219, 7220, 7221, 7222, 7223, 7315, 7316, 7317, 7318, 7319, 7320, 7321, 7322, 7323, 7324, 7325, 7326, 7327, 7328, 7329, 7330, 7331, 7332, 7333, 7334, 7335, 7336, 7337, 7338, 7339, 7340, 7341, 7342, 7343, 7344, 7345, 7346, 7347, 7348, 7349, 7350, 7351, 7352, 7353, 7354, 7355, 7356, 7357, 7358, 7856, 7857, 7858, 7859, 7860, 7861, 7862, 7863, 7864, 7865, 7866, 7867, 7868, 7869, 7870, 7871, 7872, 7873, 7874, 7875, 7876, 7877, 7878, 24402, 24403, 24404, 24405, 24406, 24407, 24408, 24409, 24410, 24411, 24412, 24413, 24414, 24415, 24416, 24417, 24418, 24419, 24420]\n"
     ]
    },
    {
     "data": {
      "application/vnd.jupyter.widget-view+json": {
       "model_id": "14d85dbdf96a43ecb1ac280f239009cb",
       "version_major": 2,
       "version_minor": 0
      },
      "text/plain": [
       "NGLWidget()"
      ]
     },
     "metadata": {},
     "output_type": "display_data"
    }
   ],
   "source": [
    "# plot some frames of a real trajectory that belong to the same position grid point\n",
    "vm = ViewManager(traj_universe)\n",
    "# plot a selection (because too many) that are all assigned to grid point 26\n",
    "assigned_to_26 = np.where(position_assignments == 26)[0]\n",
    "# show in VMD for a better view\n",
    "print(list(assigned_to_26))\n",
    "vm.plot_frames_overlapping(np.random.choice(assigned_to_26, 30))"
   ]
  },
  {
   "cell_type": "code",
   "execution_count": 13,
   "id": "68361aff",
   "metadata": {
    "ExecuteTime": {
     "end_time": "2024-02-12T11:53:30.747385Z",
     "start_time": "2024-02-12T11:53:20.998642Z"
    }
   },
   "outputs": [
    {
     "name": "stdout",
     "output_type": "stream",
     "text": [
      "[16795, 16796, 16797, 16798, 16799, 16800, 16801, 16802, 16803, 16804, 16805, 16806, 16807, 16808, 16809, 16810, 16811, 16812, 16813, 16814, 16815, 16816, 16817, 16818, 16819, 16820, 16821, 16822, 16823, 16824, 16825, 16826, 16827, 16828, 16829, 16830, 16831, 16832, 16833, 16834, 16835, 16836, 16837, 16838, 16839, 16840, 16841, 16842, 16843, 16844, 16845, 16846, 16847, 16848, 16849, 16850, 16851, 16852, 16853, 16854, 16855, 16856, 16857, 16858, 16859, 16860, 16861, 16862, 16863, 16864, 16865, 16866, 16867, 16868, 16869, 16870, 16871, 16872, 16873, 16874, 16875, 16876, 16877, 16878, 16879, 16880, 16881, 16882, 16883, 16884, 16885, 16886, 16887, 16888, 16889, 16890, 16891, 16892, 16893, 16894, 16895, 16896, 16897, 16898, 16899, 16900, 16901, 16902, 16903, 16904, 16905, 16906, 16907, 16908, 16909, 17106, 17107, 17108, 17109, 17110, 17111, 17112, 17113, 17114, 17115, 17116, 17117, 17118, 17119, 17120, 17121, 17122, 17123, 17124, 17342, 17343, 17344, 17345, 17346, 17347, 17348, 17349, 17350, 17351, 17352, 17353, 17354, 17355, 17356, 17357, 17358, 17359, 17360, 17361, 17362, 17363, 17364, 17365, 17366, 17367, 17368, 17369, 17370, 17371, 17372, 17373, 17374, 17375, 17376, 17377, 17378, 17379, 17380, 17381, 17382, 17383, 17384, 17385, 17386, 17387, 17388, 17389, 17390, 17391, 17392, 17393, 17394, 17395, 17396, 17397, 17398, 17399, 17400, 17401, 17402, 17403, 17404, 17405, 17406, 17407, 17408, 17409, 17410, 17411, 17412, 17413, 17414, 17415, 17416, 17417, 17418, 17419, 17420, 17421, 17422, 17423, 17424, 17425, 17426, 17745, 17746, 17747, 17748, 17749, 17750, 17751, 17752, 17753, 17754, 17755, 17756, 17757, 17758, 17759, 17760, 17761, 17762, 17763, 17764, 17765, 17766, 17767, 17768, 17769, 17770, 17771, 17772, 17773, 17774, 17775, 17776, 17777, 17778, 17779, 17780, 17781, 17782, 17783, 17784, 17785, 17786, 17787, 17788, 17789, 17790, 17791, 17792, 17793, 17794, 17795, 17796, 17797, 17798, 17799, 17800, 17801, 17802, 17803, 17804, 17805, 17806, 17807, 17808, 17809, 17810, 17811, 17812, 17813, 17814, 17815, 17816, 17817, 17818, 17819, 17820, 17821, 17822, 17823, 22515, 22516, 22517, 22518, 22519, 22520, 22521, 22522, 22523, 22524, 22525, 22526, 22527, 22528, 22529, 22530, 22531, 22532, 22533, 22534, 22535, 22536, 22537, 22538, 22539, 22540, 22541, 22542, 22543, 22544]\n"
     ]
    },
    {
     "data": {
      "application/vnd.jupyter.widget-view+json": {
       "model_id": "ec87b2c67cf44210b3ce70d428eceaa8",
       "version_major": 2,
       "version_minor": 0
      },
      "text/plain": [
       "NGLWidget()"
      ]
     },
     "metadata": {},
     "output_type": "display_data"
    }
   ],
   "source": [
    "# try another one\n",
    "vm.fresh_view()\n",
    "# plot a selection (because too many) that are all assigned to grid point 477\n",
    "assigned_to_477 = np.where(position_assignments == 477)[0]\n",
    "# show in VMD for a better view\n",
    "print(list(assigned_to_477))\n",
    "vm.plot_frames_overlapping(np.random.choice(assigned_to_477, 30))"
   ]
  },
  {
   "cell_type": "markdown",
   "id": "1cc65adf",
   "metadata": {},
   "source": [
    "## Orientation space"
   ]
  },
  {
   "cell_type": "markdown",
   "id": "86980c7a",
   "metadata": {},
   "source": [
    "### Determine internal coordinate system (principal axes)"
   ]
  },
  {
   "cell_type": "code",
   "execution_count": 15,
   "id": "4e26d72b",
   "metadata": {
    "ExecuteTime": {
     "end_time": "2024-02-12T11:53:59.143203Z",
     "start_time": "2024-02-12T11:53:59.064902Z"
    }
   },
   "outputs": [
    {
     "name": "stdout",
     "output_type": "stream",
     "text": [
      "[[ 0.     1.     0.   ]\n",
      " [-0.599  0.    -0.8  ]\n",
      " [-0.8    0.     0.599]]\n",
      "[-1.70130157  1.          1.0514622 ]\n"
     ]
    },
    {
     "data": {
      "application/vnd.jupyter.widget-view+json": {
       "model_id": "69438c6dd71f460b88344e8ca68bc2c1",
       "version_major": 2,
       "version_minor": 0
      },
      "text/plain": [
       "NGLWidget()"
      ]
     },
     "metadata": {},
     "output_type": "display_data"
    }
   ],
   "source": [
    "# determine principal axes\n",
    "second_molecule = \"bynum 4:6\"\n",
    "\n",
    "# principal axes of the first frame\n",
    "pa_zero = pt_universe.select_atoms(second_molecule).principal_axes()\n",
    "com_zero = pt_universe.select_atoms(second_molecule).center_of_mass()\n",
    "print(np.round(pa_zero, 3))\n",
    "print(com_zero+pa_zero[0])\n",
    "\n",
    "# display principal axes of first frame\n",
    "vm = ViewManager(pt_universe)\n",
    "vm.fresh_view()\n",
    "vm.plot_ith_frame(0)\n",
    "vm.add_principal_axes(com_zero, pa_zero)\n",
    "vm.view\n",
    "\n"
   ]
  },
  {
   "cell_type": "code",
   "execution_count": 17,
   "id": "0e085e9a",
   "metadata": {
    "ExecuteTime": {
     "end_time": "2024-02-12T11:54:40.630534Z",
     "start_time": "2024-02-12T11:54:40.338896Z"
    }
   },
   "outputs": [
    {
     "name": "stdout",
     "output_type": "stream",
     "text": [
      "[[-0.     0.     1.   ]\n",
      " [ 0.8   -0.599  0.   ]\n",
      " [ 0.599  0.8    0.   ]]\n",
      "[[-0.    -0.     1.   ]\n",
      " [ 0.8    0.599  0.   ]\n",
      " [-0.599  0.8    0.   ]]\n",
      "[[ 0.     0.     1.   ]\n",
      " [ 0.8   -0.599  0.   ]\n",
      " [ 0.599  0.8    0.   ]]\n"
     ]
    },
    {
     "data": {
      "application/vnd.jupyter.widget-view+json": {
       "model_id": "ced2ddac87f6476fb1fb68b050b1e754",
       "version_major": 2,
       "version_minor": 0
      },
      "text/plain": [
       "NGLWidget()"
      ]
     },
     "metadata": {},
     "output_type": "display_data"
    }
   ],
   "source": [
    "vm.fresh_view()\n",
    "\n",
    "# principal axes change in relation to the stationary coordinate system when the molecule is re-oriented\n",
    "# but they remain the same in relation to the molecule itself\n",
    "\n",
    "# using some selected PT frames for demonstration\n",
    "for i in [20, 63, 284]:\n",
    "    pt_universe.trajectory[i]\n",
    "    pa_current = pt_universe.select_atoms(second_molecule).principal_axes()\n",
    "    com_current = pt_universe.select_atoms(second_molecule).center_of_mass()\n",
    "    print(np.round(pa_current, 3))\n",
    "\n",
    "    # display this\n",
    "    vm.plot_ith_frame(i)\n",
    "    vm.add_principal_axes(com_current, pa_current)\n",
    "vm.view"
   ]
  },
  {
   "cell_type": "markdown",
   "id": "136402f2",
   "metadata": {},
   "source": [
    "... well, almost the same\n",
    "\n",
    "### Realize that determining principal axes isn't sufficient"
   ]
  },
  {
   "cell_type": "code",
   "execution_count": 18,
   "id": "1e0fbd7d",
   "metadata": {
    "ExecuteTime": {
     "end_time": "2024-02-12T11:55:05.558421Z",
     "start_time": "2024-02-12T11:55:04.460107Z"
    }
   },
   "outputs": [
    {
     "name": "stdout",
     "output_type": "stream",
     "text": [
      "my R @ ref [[ 0.     0.    -1.   ]\n",
      " [-0.599  0.8    0.   ]\n",
      " [ 0.8    0.599  0.   ]]\n",
      "end_pa [[ 0.    -0.     1.   ]\n",
      " [ 0.599 -0.8   -0.   ]\n",
      " [ 0.8    0.599 -0.   ]]\n"
     ]
    },
    {
     "data": {
      "application/vnd.jupyter.widget-view+json": {
       "model_id": "dc2bf598dda94dbfb76f8b844aec7503",
       "version_major": 2,
       "version_minor": 0
      },
      "text/plain": [
       "NGLWidget()"
      ]
     },
     "metadata": {},
     "output_type": "display_data"
    }
   ],
   "source": [
    "# LESSION LEARNED: principal axes are axes and NOT vectors - their direction is NOT clearly defined\n",
    "# see also: https://math.stackexchange.com/questions/145023/rotation-matrix-from-an-inertia-tensor\n",
    "\n",
    "# python -m molgri.scripts.generate_pt -m1 H2O -m2 H2O -o \"1\" -b \"20\" -t \"1\" --recal\n",
    "from molgri.space.rotobj import SphereGrid4DFactory\n",
    "b_selection = SphereGrid4DFactory().create(alg_name=\"cube4D\", N=20).get_grid_as_array()\n",
    "b_universe = mda.Universe(f\"{PATH_OUTPUT_PT}H2O_H2O_0407.gro\", f\"{PATH_OUTPUT_PT}H2O_H2O_0407.xtc\")\n",
    "\n",
    "vm = ViewManager(b_universe)\n",
    "vm.fresh_view()\n",
    "reference_structure = mda.Universe(f\"{PATH_INPUT_BASEGRO}H2O.gro\")\n",
    "reference_principal_axes = reference_structure.atoms.principal_axes()\n",
    "\n",
    "for i in range(17, 18):\n",
    "    b_universe.trajectory[i]\n",
    "    reference_structure = mda.Universe(f\"{PATH_INPUT_BASEGRO}H2O.gro\")\n",
    "    reference_principal_axes = reference_structure.atoms.principal_axes()\n",
    "    my_R = Rotation(b_selection[i]).as_matrix()\n",
    "    expected_pa = Rotation(b_selection[i]).apply(reference_principal_axes)\n",
    "    #expected_pa = (my_R @ reference_principal_axes.T).T\n",
    "\n",
    "    print(\"my R @ ref\", np.round(expected_pa, 3))\n",
    "\n",
    "    current_principal_axes = b_universe.select_atoms(second_molecule).principal_axes()\n",
    "    com_current = b_universe.select_atoms(second_molecule).center_of_mass()\n",
    "    print(\"end_pa\", np.round(current_principal_axes, 3))\n",
    "    vm.plot_ith_frame(i)\n",
    "    vm.add_principal_axes(com_current, expected_pa)\n",
    "    vm.add_principal_axes(com_current, current_principal_axes)\n",
    "vm.view"
   ]
  },
  {
   "cell_type": "code",
   "execution_count": 19,
   "id": "4020c891",
   "metadata": {
    "ExecuteTime": {
     "end_time": "2024-02-12T11:55:31.729627Z",
     "start_time": "2024-02-12T11:55:30.584831Z"
    }
   },
   "outputs": [
    {
     "name": "stdout",
     "output_type": "stream",
     "text": [
      "[-1.  1. -1.]\n",
      "True [ 0.5 -0.5 -0.5  0.5] [ 0.5 -0.5 -0.5  0.5]\n",
      "[1. 1. 1.]\n",
      "True [ 0.5 -0.5  0.5 -0.5] [ 0.5 -0.5  0.5 -0.5]\n",
      "[ 1. -1. -1.]\n",
      "True [0.5 0.5 0.5 0.5] [0.5 0.5 0.5 0.5]\n",
      "[1. 1. 1.]\n",
      "True [ 0.5  0.5 -0.5  0.5] [ 0.5  0.5 -0.5  0.5]\n",
      "[-1. -1.  1.]\n",
      "True [ 0.5 -0.5  0.5  0.5] [ 0.5 -0.5  0.5  0.5]\n",
      "[ 1. -1. -1.]\n",
      "True [ 0.5  0.5  0.5 -0.5] [ 0.5  0.5  0.5 -0.5]\n",
      "[-1. -1.  1.]\n",
      "True [ 0.5  0.5 -0.5 -0.5] [ 0.5  0.5 -0.5 -0.5]\n",
      "[-1.  1. -1.]\n",
      "True [ 0.5 -0.5 -0.5 -0.5] [ 0.5 -0.5 -0.5 -0.5]\n",
      "[ 1. -1. -1.]\n",
      "True [ 0.57735027 -0.57735027  0.          0.57735027] [ 0.57735 -0.57735  0.       0.57735]\n",
      "[1. 1. 1.]\n",
      "True [0.70710678 0.70710678 0.         0.        ] [ 0.707107  0.707107  0.       -0.      ]\n",
      "[-1. -1.  1.]\n",
      "True [0.         0.         0.70710678 0.70710678] [-0.        0.        0.707107  0.707107]\n",
      "[1. 1. 1.]\n",
      "True [0.70710678 0.         0.70710678 0.        ] [0.707107 0.       0.707107 0.      ]\n",
      "[1. 1. 1.]\n",
      "True [ 0.          0.57735027  0.57735027 -0.57735027] [ 0.       0.57735  0.57735 -0.57735]\n",
      "[-1. -1.  1.]\n",
      "True [ 0.70710678  0.          0.         -0.70710678] [ 0.707107 -0.       -0.       -0.707107]\n",
      "[-1.  1. -1.]\n",
      "True [ 0.57735027  0.          0.57735027 -0.57735027] [ 0.57735  0.       0.57735 -0.57735]\n",
      "[-1. -1.  1.]\n",
      "True [ 0.57735027  0.57735027  0.         -0.57735027] [ 0.57735  0.57735 -0.      -0.57735]\n",
      "[-1. -1.  1.]\n",
      "True [0.57735027 0.         0.57735027 0.57735027] [ 0.57735 -0.       0.57735  0.57735]\n",
      "[-1.  1. -1.]\n",
      "True [ 0.70710678  0.         -0.70710678  0.        ] [ 0.707107  0.       -0.707107 -0.      ]\n",
      "[ 1. -1. -1.]\n",
      "True [ 0.57735027  0.57735027 -0.57735027  0.        ] [ 0.57735  0.57735 -0.57735 -0.     ]\n",
      "[ 1. -1. -1.]\n",
      "True [0.         0.70710678 0.70710678 0.        ] [ 0.        0.707107  0.707107 -0.      ]\n"
     ]
    }
   ],
   "source": [
    "# LESSONS LEARNED\n",
    "# 1. symmetry of water is a problem\n",
    "# 2. need to save in a higher precision file trr\n",
    "# 3. need to round structures read from files otherwise values very close to zero can throw off \n",
    "#    quaternion projection to correct hemisphere\n",
    "\n",
    "def determine_positive_directions(current_universe, second_molecule):\n",
    "    pas = current_universe.select_atoms(second_molecule).principal_axes()\n",
    "    com = current_universe.select_atoms(second_molecule).center_of_mass()\n",
    "    directions = [0, 0, 0]\n",
    "    for atom_pos in current_universe.select_atoms(second_molecule).positions:\n",
    "        for i, pa in enumerate(pas):\n",
    "            # need to round to avoid problems - assigning direction with atoms very close to 0\n",
    "            cosalpha = np.round(pa.dot(atom_pos-com), 6)\n",
    "            directions[i] = np.sign(cosalpha)\n",
    "        if not np.any(np.isclose(directions,0)):\n",
    "            break\n",
    "    # TODO: if exactly one unknown use the other two and properties of righthanded systems to get third\n",
    "    if np.sum(np.isclose(directions,0)) == 1:\n",
    "        # only these combinations of directions are possible in righthanded coordinate systems\n",
    "        allowed_righthanded = [[1, 1, 1], [-1, 1, -1], [1, -1, -1], [-1, -1, 1]]\n",
    "        for ar in allowed_righthanded:\n",
    "            # exactly two identical (and the third is zero)\n",
    "            if np.sum(np.isclose(ar, directions)) == 2:\n",
    "                directions = ar\n",
    "                break\n",
    "    # if two (or three - that would just be an atom) unknowns raise an error\n",
    "    elif np.sum(np.isclose(directions,0)) > 1:\n",
    "        raise ValueError(\"All atoms perpendicular to at least one of principal axes, can´t determine direction.\")\n",
    "    return np.array(directions)\n",
    "\n",
    "# saved PT\n",
    "my_new_u = mda.Universe(f\"{PATH_OUTPUT_PT}glucose_glucose_0025.gro\", f\"{PATH_OUTPUT_PT}glucose_glucose_0025.trr\")\n",
    "b_selection = SphereGrid4DFactory().create(alg_name=\"cube4D\", N=20).get_grid_as_array()\n",
    "second_molecule_glu = \"bynum 13:24\"\n",
    "\n",
    "# reference structure\n",
    "reference_structure = mda.Universe(f\"{PATH_INPUT_BASEGRO}glucose.xyz\")\n",
    "second_molecule_ref = \"bynum 1:12\"\n",
    "reference_principal_axes = reference_structure.atoms.principal_axes().T\n",
    "inverse_pa = np.linalg.inv(reference_principal_axes)\n",
    "reference_direction = determine_positive_directions(reference_structure, second_molecule_ref)\n",
    "\n",
    "# frame 0: q3 in direction C-O, frame 1: q3 in direction O\n",
    "for i in range(20):\n",
    "    my_new_u.trajectory[i]\n",
    "    com_current = my_new_u.select_atoms(second_molecule_glu).center_of_mass()\n",
    "    current_principal_axes = my_new_u.select_atoms(second_molecule_glu).principal_axes().T\n",
    "    current_directions = determine_positive_directions(my_new_u, second_molecule_glu)\n",
    "    direction = current_directions * reference_direction\n",
    "    produkt = np.multiply(current_principal_axes, np.tile(direction, (3, 1))) @ inverse_pa\n",
    "    calc_quat = np.round(Rotation.from_matrix(produkt).as_quat(), 6) \n",
    "    if not q_in_upper_sphere(calc_quat):\n",
    "        calc_quat = -calc_quat\n",
    "    print(current_directions)\n",
    "    print(np.allclose(b_selection[i], calc_quat, atol=1e-5, rtol=1e-5), b_selection[i], calc_quat)"
   ]
  },
  {
   "cell_type": "code",
   "execution_count": 15,
   "id": "dfc9831f",
   "metadata": {
    "ExecuteTime": {
     "end_time": "2024-02-12T11:21:48.291508Z",
     "start_time": "2024-02-12T11:21:47.255477Z"
    }
   },
   "outputs": [
    {
     "name": "stdout",
     "output_type": "stream",
     "text": [
      "True [ 0.5 -0.5 -0.5  0.5] [ 0.5 -0.5 -0.5  0.5]\n",
      "True [ 0.5 -0.5  0.5 -0.5] [ 0.5 -0.5  0.5 -0.5]\n",
      "True [0.5 0.5 0.5 0.5] [0.5 0.5 0.5 0.5]\n",
      "True [ 0.5  0.5 -0.5  0.5] [ 0.5  0.5 -0.5  0.5]\n",
      "True [ 0.5 -0.5  0.5  0.5] [ 0.5 -0.5  0.5  0.5]\n",
      "True [ 0.5  0.5  0.5 -0.5] [ 0.5  0.5  0.5 -0.5]\n",
      "True [ 0.5  0.5 -0.5 -0.5] [ 0.5  0.5 -0.5 -0.5]\n",
      "True [ 0.5 -0.5 -0.5 -0.5] [ 0.5 -0.5 -0.5 -0.5]\n",
      "True [ 0.57735027 -0.57735027  0.          0.57735027] [ 0.57735 -0.57735  0.       0.57735]\n",
      "True [0.70710678 0.70710678 0.         0.        ] [ 0.707107  0.707107 -0.       -0.      ]\n",
      "True [0.         0.         0.70710678 0.70710678] [-0.       -0.        0.707107  0.707107]\n",
      "True [0.70710678 0.         0.70710678 0.        ] [ 0.707107 -0.        0.707107 -0.      ]\n",
      "True [ 0.          0.57735027  0.57735027 -0.57735027] [ 0.       0.57735  0.57735 -0.57735]\n",
      "True [ 0.70710678  0.          0.         -0.70710678] [ 0.707107 -0.       -0.       -0.707107]\n",
      "True [ 0.57735027  0.          0.57735027 -0.57735027] [ 0.57735  0.       0.57735 -0.57735]\n",
      "True [ 0.57735027  0.57735027  0.         -0.57735027] [ 0.57735  0.57735  0.      -0.57735]\n",
      "True [0.57735027 0.         0.57735027 0.57735027] [ 0.57735 -0.       0.57735  0.57735]\n",
      "True [ 0.70710678  0.         -0.70710678  0.        ] [ 0.707107 -0.       -0.707107  0.      ]\n",
      "True [ 0.57735027  0.57735027 -0.57735027  0.        ] [ 0.57735  0.57735 -0.57735  0.     ]\n",
      "True [0.         0.70710678 0.70710678 0.        ] [ 0.        0.707107  0.707107 -0.      ]\n"
     ]
    }
   ],
   "source": [
    "#python -m molgri.scripts.generate_pt -m1 H2O_a -m2 H2O_a -o \"1\" -b \"20\" -t \"0.3\" --recal --extension_structure gro --extension_trajectory trr\n",
    "\n",
    "\n",
    "# saved PT\n",
    "my_new_u = mda.Universe(f\"{PATH_OUTPUT_PT}H2O_a_H2O_a_0000.gro\", f\"{PATH_OUTPUT_PT}H2O_a_H2O_a_0000.trr\")\n",
    "b_selection = SphereGrid4DFactory().create(alg_name=\"cube4D\", N=20).get_grid_as_array()\n",
    "second_molecule_glu = \"bynum 4:6\"\n",
    "\n",
    "# reference structure\n",
    "reference_structure = mda.Universe(f\"{PATH_INPUT_BASEGRO}H2O_a.gro\")\n",
    "second_molecule_ref = \"bynum 1:3\"\n",
    "reference_principal_axes = reference_structure.atoms.principal_axes().T\n",
    "inverse_pa = np.linalg.inv(reference_principal_axes)\n",
    "reference_direction = determine_positive_directions(reference_structure, second_molecule_ref)\n",
    "\n",
    "# frame 0: q3 in direction C-O, frame 1: q3 in direction O\n",
    "for i in range(20):\n",
    "    my_new_u.trajectory[i]\n",
    "    com_current = my_new_u.select_atoms(second_molecule_glu).center_of_mass()\n",
    "    current_principal_axes = my_new_u.select_atoms(second_molecule_glu).principal_axes().T\n",
    "    current_directions = determine_positive_directions(my_new_u, second_molecule_glu)\n",
    "    direction = current_directions * reference_direction\n",
    "    produkt = np.multiply(current_principal_axes, np.tile(direction, (3, 1))) @ inverse_pa\n",
    "    calc_quat = np.round(Rotation.from_matrix(produkt).as_quat(), 6) \n",
    "    if not q_in_upper_sphere(calc_quat):\n",
    "        calc_quat = -calc_quat\n",
    "    print(np.allclose(b_selection[i], calc_quat, atol=1e-6, rtol=1e-5), b_selection[i], calc_quat)"
   ]
  },
  {
   "cell_type": "markdown",
   "id": "439a263c",
   "metadata": {},
   "source": [
    "In summary:\n",
    "- save and use (pseudo)trajectories in high-precision TRR format\n",
    "- determine principal axes of the reference structure and every frame of the PT\n",
    "- determine direction of each PA from the coordinates of the first atom that isn't perpendicular to it\n",
    "- if a molecule is planar, you can still determine directions from right-handedness of PAs\n",
    "- it doesn't make much sense to compare to PAs alone, since you'd need to make sure that the calculation of direction is defined the same way in both cases\n",
    "\n",
    "TODO:\n",
    "- need a better symmetry handling for linear molecules"
   ]
  },
  {
   "cell_type": "markdown",
   "id": "63dc1dae",
   "metadata": {},
   "source": [
    "### Quaternion index"
   ]
  },
  {
   "cell_type": "code",
   "execution_count": 20,
   "id": "c2be8800",
   "metadata": {
    "ExecuteTime": {
     "end_time": "2024-02-12T11:56:01.964960Z",
     "start_time": "2024-02-12T11:55:49.377893Z"
    },
    "scrolled": true
   },
   "outputs": [
    {
     "name": "stdout",
     "output_type": "stream",
     "text": [
      "[ 0  1  2  3  4  5  6  7  8  9 10 11 12 13 14 15 16 17 18 19 20 21 22 23\n",
      " 24  0  1  2  3  4  5  6  7  8  9 10 11 12 13 14 15 16 17 18 19 20 21 22\n",
      " 23 24  0  1  2  3  4  5  6  7  8  9 10 11 12 13 14 15 16 17 18 19 20 21\n",
      " 22 23 24  0  1  2  3  4  5  6  7  8  9 10 11 12 13 14 15 16 17 18 19 20\n",
      " 21 22 23 24  0  1  2  3  4  5  6  7  8  9 10 11 12 13 14 15 16 17 18 19\n",
      " 20 21 22 23 24  0  1  2  3  4  5  6  7  8  9 10 11 12 13 14 15 16 17 18\n",
      " 19 20 21 22 23 24  0  1  2  3  4  5  6  7  8  9 10 11 12 13 14 15 16 17\n",
      " 18 19 20 21 22 23 24  0  1  2  3  4  5  6  7  8  9 10 11 12 13 14 15 16\n",
      " 17 18 19 20 21 22 23 24  0  1  2  3  4  5  6  7  8  9 10 11 12 13 14 15\n",
      " 16 17 18 19 20 21 22 23 24  0  1  2  3  4  5  6  7  8  9 10 11 12 13 14\n",
      " 15 16 17 18 19 20 21 22 23 24  0  1  2  3  4  5  6  7  8  9 10 11 12 13\n",
      " 14 15 16 17 18 19 20 21 22 23 24  0  1  2  3  4  5  6  7  8  9 10 11 12\n",
      " 13 14 15 16 17 18 19 20 21 22 23 24  0  1  2  3  4  5  6  7  8  9 10 11\n",
      " 12 13 14 15 16 17 18 19 20 21 22 23 24  0  1  2  3  4  5  6  7  8  9 10\n",
      " 11 12 13 14 15 16 17 18 19 20 21 22 23 24  0  1  2  3  4  5  6  7  8  9\n",
      " 10 11 12 13 14 15 16 17 18 19 20 21 22 23 24  0  1  2  3  4  5  6  7  8\n",
      "  9 10 11 12 13 14 15 16 17 18 19 20 21 22 23 24  0  1  2  3  4  5  6  7\n",
      "  8  9 10 11 12 13 14 15 16 17 18 19 20 21 22 23 24  0  1  2  3  4  5  6\n",
      "  7  8  9 10 11 12 13 14 15 16 17 18 19 20 21 22 23 24  0  1  2  3  4  5\n",
      "  6  7  8  9 10 11 12 13 14 15 16 17 18 19 20 21 22 23 24  0  1  2  3  4\n",
      "  5  6  7  8  9 10 11 12 13 14 15 16 17 18 19 20 21 22 23 24  0  1  2  3\n",
      "  4  5  6  7  8  9 10 11 12 13 14 15 16 17 18 19 20 21 22 23 24  0  1  2\n",
      "  3  4  5  6  7  8  9 10 11 12 13 14 15 16 17 18 19 20 21 22 23 24  0  1\n",
      "  2  3  4  5  6  7  8  9 10 11 12 13 14 15 16 17 18 19 20 21 22 23 24  0\n",
      "  1  2  3  4  5  6  7  8  9 10 11 12 13 14 15 16 17 18 19 20 21 22 23 24\n",
      "  0  1  2  3  4  5  6  7  8  9 10 11 12 13 14 15 16 17 18 19 20 21 22 23\n",
      " 24  0  1  2  3  4  5  6  7  8  9 10 11 12 13 14 15 16 17 18 19 20 21 22\n",
      " 23 24  0  1  2  3  4  5  6  7  8  9 10 11 12 13 14 15 16 17 18 19 20 21\n",
      " 22 23 24  0  1  2  3  4  5  6  7  8  9 10 11 12 13 14 15 16 17 18 19 20\n",
      " 21 22 23 24  0  1  2  3  4  5  6  7  8  9 10 11 12 13 14 15 16 17 18 19\n",
      " 20 21 22 23 24  0  1  2  3  4  5  6  7  8  9 10 11 12 13 14 15 16 17 18\n",
      " 19 20 21 22 23 24]\n",
      "[1, 26, 51, 76, 101, 126, 151, 176, 201, 226, 251, 276, 301, 326, 351, 376, 401, 426, 451, 476, 501, 526, 551, 576, 601, 626, 651, 676, 701, 726]\n"
     ]
    },
    {
     "data": {
      "application/vnd.jupyter.widget-view+json": {
       "model_id": "a654df39f55f4d23ba89cc884082a455",
       "version_major": 2,
       "version_minor": 0
      },
      "text/plain": [
       "NGLWidget()"
      ]
     },
     "metadata": {},
     "output_type": "display_data"
    }
   ],
   "source": [
    "# example: glucose\n",
    "# python -m molgri.scripts.generate_pt -m1 glucose -m2 glucose -o 5 -t \"[1, 2]\" -b 25 --extension_traj trr --recal \n",
    "sh = SimulationHistogram(\"H2O_H2O_0493\", \"H2O\", is_pt=True, full_grid=None,\n",
    "                                 second_molecule_selection=\"bynum 4:6\")\n",
    "quat_assignents = sh.get_quaternion_assignments()\n",
    "print(quat_assignents)\n",
    "\n",
    "# assert assignments exactly 0, 1, 2 ...N_b, 0, 1, 2 ... N_b, 0, 1, ... \n",
    "assert np.all(quat_assignents == sh.full_grid.get_quaternion_index())\n",
    "\n",
    "# now let's view this\n",
    "vm = ViewManager(sh.trajectory_universe)\n",
    "# plot a selection (because too many) that are all assigned to grid point 1\n",
    "assigned_to_cell = np.where(quat_assignents == 1)[0]\n",
    "# show in VMD for a better view\n",
    "print(list(assigned_to_cell))\n",
    "vm.plot_frames_overlapping(np.random.choice(assigned_to_cell, 30))"
   ]
  },
  {
   "cell_type": "code",
   "execution_count": 26,
   "id": "42225443",
   "metadata": {
    "ExecuteTime": {
     "end_time": "2024-02-12T12:01:06.854404Z",
     "start_time": "2024-02-12T12:00:08.813540Z"
    }
   },
   "outputs": [
    {
     "name": "stderr",
     "output_type": "stream",
     "text": [
      "Exception ignored in: <function ReaderBase.__del__ at 0x00000207FFE1EC10>\n",
      "Traceback (most recent call last):\n",
      "  File \"C:\\Users\\Hana\\AppData\\Local\\Programs\\Python\\Python39\\lib\\site-packages\\MDAnalysis\\coordinates\\base.py\", line 1512, in __del__\n",
      "    self.close()\n",
      "  File \"C:\\Users\\Hana\\AppData\\Local\\Programs\\Python\\Python39\\lib\\site-packages\\MDAnalysis\\coordinates\\XDR.py\", line 187, in close\n",
      "    self._xdr.close()\n",
      "AttributeError: 'TRRReader' object has no attribute '_xdr'\n"
     ]
    },
    {
     "name": "stdout",
     "output_type": "stream",
     "text": [
      "Assigning 25000 frames to 40 quaternions\n"
     ]
    }
   ],
   "source": [
    "# test with a real trajectory: see how long it takes\n",
    "H2O_full_grid = FullGrid(b_grid_name=\"40\", o_grid_name=\"42\", t_grid_name=\"linspace(0.2, 1, 20)\")\n",
    "\n",
    "sh = SimulationHistogram(\"H2O_H2O_0095_25000\", \"H2O\", is_pt=False,\n",
    "                             full_grid=H2O_full_grid,\n",
    "                             second_molecule_selection=\"bynum 4:6\")\n",
    "\n",
    "print(f\"Assigning 25000 frames to 40 quaternions\")\n",
    "\n",
    "quaternion_assignments = sh.get_quaternion_assignments()"
   ]
  },
  {
   "cell_type": "code",
   "execution_count": 27,
   "id": "7fdeb8ee",
   "metadata": {
    "ExecuteTime": {
     "end_time": "2024-02-12T12:01:07.168203Z",
     "start_time": "2024-02-12T12:01:06.854404Z"
    }
   },
   "outputs": [
    {
     "name": "stdout",
     "output_type": "stream",
     "text": [
      "[21 21 21 ... 30 30 15]\n",
      "Most popular assignments are [32 21 37] with population [1044 1391 1243]\n"
     ]
    },
    {
     "data": {
      "image/png": "[encoded data removed]",
      "text/plain": [
       "<Figure size 640x480 with 1 Axes>"
      ]
     },
     "metadata": {},
     "output_type": "display_data"
    }
   ],
   "source": [
    "# make a histogram of most populated quaternions\n",
    "print(quaternion_assignments)\n",
    "sns.histplot(quaternion_assignments, stat=\"count\", bins=np.arange(41))\n",
    "\n",
    "popular, counts = np.unique(quaternion_assignments, return_counts=True)\n",
    "max_counts = k_argmax_in_array(counts, 3)\n",
    "print(f\"Most popular assignments are {popular[max_counts]} with population {counts[max_counts]}\")"
   ]
  },
  {
   "cell_type": "code",
   "execution_count": 31,
   "id": "1ed57e08",
   "metadata": {
    "ExecuteTime": {
     "end_time": "2024-02-12T12:04:42.566328Z",
     "start_time": "2024-02-12T12:04:42.519460Z"
    }
   },
   "outputs": [
    {
     "name": "stdout",
     "output_type": "stream",
     "text": [
      "[22951, 6966, 5337, 15235, 1711, 1591, 16836, 21522, 22220, 24125, 17577, 20460, 3870, 15736, 19976, 14616, 23700, 22202, 12212, 21260, 3892, 15243, 6963, 23619, 22214, 15846, 2951, 19978, 2324, 10943, 14481, 12296, 20651, 14504, 20641, 13991, 21146, 21123, 8381, 14942, 14917, 22685, 22708, 1595, 20641, 10943, 23702, 1789, 12225, 6050, 16835, 14489, 20460, 21506, 4039, 6078, 17150, 8391, 21514, 16836, 23088, 22949, 2951, 2316, 1783, 6069, 20470, 6059, 2324, 3868, 6065, 11014, 10924, 21509, 3875, 16821, 8390, 15846, 23621, 9647, 22199, 10939, 1785, 13444, 23705, 3877, 15231, 1608, 1598, 7204, 21130, 15231, 14914, 4039, 3879, 13095, 15241, 1767, 22207, 24708]\n"
     ]
    }
   ],
   "source": [
    "# plot some frames of a real trajectory that belong to the same quaternion grid point\n",
    "vm = ViewManager(traj_universe)\n",
    "# plot a selection (because too many) that are all assigned to grid point 21\n",
    "assigned_to_26 = np.where(quaternion_assignments == 37)[0]\n",
    "# show in VMD for a better view\n",
    "print(list(np.random.choice(assigned_to_26, 100)))"
   ]
  },
  {
   "cell_type": "code",
   "execution_count": 28,
   "id": "311a33be",
   "metadata": {
    "ExecuteTime": {
     "end_time": "2024-02-12T12:01:30.316744Z",
     "start_time": "2024-02-12T12:01:20.144944Z"
    },
    "scrolled": false
   },
   "outputs": [
    {
     "name": "stdout",
     "output_type": "stream",
     "text": [
      "[3512, 3513, 3514, 3515, 3516, 3517, 3518, 3519, 3520, 3521, 3522, 3523, 3524, 3525, 3526, 3527, 3528, 3529, 3657, 3658, 3659, 3660, 3661, 3662, 3663, 3664, 3665, 3666, 3667, 3668, 3669, 3670, 3671, 3672, 3673, 3674, 3675, 3676, 3677, 3678, 4880, 4881, 4882, 4883, 4884, 4885, 4886, 6172, 6173, 6174, 6175, 6176, 6177, 6178, 6179, 6180, 6181, 6182, 6183, 6184, 6185, 6186, 6187, 6188, 6189, 6211, 6212, 6501, 6502, 6503, 6504, 6505, 6506, 6507, 6508, 6509, 6510, 6511, 6512, 6513, 6514, 6515, 6516, 6517, 6518, 6519, 6520, 6521, 6522, 6523, 6551, 6552, 6553, 6554, 6555, 6556, 6557, 6558, 6559, 6560, 6561, 6562, 6563, 6564, 6565, 6566, 6567, 6568, 6569, 6570, 6571, 6572, 6573, 6574, 6575, 6576, 6577, 6578, 6579, 6580, 6581, 6582, 6583, 6584, 6585, 6586, 6587, 6588, 6589, 6590, 6591, 6592, 6593, 6594, 6595, 6596, 6597, 6598, 6599, 9098, 10181, 10182, 10183, 10184, 10185, 10186, 10187, 10188, 10189, 10190, 11107, 11108, 11109, 11110, 11111, 11112, 11167, 11168, 11169, 11170, 11171, 11172, 11173, 11174, 11175, 11176, 11177, 11178, 11179, 11180, 11181, 11182, 11183, 11184, 11185, 11332, 11333, 11334, 11335, 11336, 11337, 11338, 11339, 11340, 11341, 11342, 11343, 11344, 11345, 11346, 11347, 11348, 11349, 11350, 11351, 12138, 12139, 12140, 12141, 12142, 12143, 12144, 12145, 12146, 12147, 12148, 12149, 12150, 12151, 12599, 12600, 12601, 12602, 12603, 12604, 12605, 12606, 12607, 12608, 12609, 12610, 12611, 12612, 12975, 12976, 12977, 12978, 12979, 12980, 12981, 12982, 12983, 12984, 12985, 12986, 12987, 12988, 19794, 19795, 19796, 19797, 19798, 19799, 19800, 19930, 19931, 19932, 19933, 19934, 19935, 19936, 19937, 19938, 19939, 19940, 19941, 19942, 19943, 20006, 20007, 20008, 20009, 20010, 20011, 20012, 20013, 20014, 20015, 20016, 20017, 20018, 20019, 20020, 20021, 20022, 20023, 20109, 20110, 20111, 20112, 20113, 20114, 20115, 20116, 20117, 20118, 20119, 20120, 20121, 20122, 20123, 20124, 20125, 20126, 20127, 20128, 20129, 20130, 20131, 20132, 20133, 20134, 20135, 20136, 20137, 20138, 21746, 21747, 21748, 21749, 21750, 21751, 21752, 21753, 21754, 21755, 21756, 21757, 21758, 21759, 21760, 21761, 21762, 21763, 21764, 21765, 21766, 21767, 21768, 21769, 22625, 22626, 22627, 22628, 22629, 22630, 22631, 22632, 22633, 22634, 22635, 22636, 22637, 22638, 22639, 22640, 22641, 22642, 22643, 22644, 22645, 22646, 22647, 22648, 22649, 22650, 22651, 22881, 22882, 22883, 22884, 22885, 22886, 22887, 22888, 22889, 22890, 22891, 22892, 22893, 22894, 22895, 22896, 22897, 22898, 22899, 22900, 23162, 23163, 23164, 23165, 23166, 23167, 23168, 23169, 23170, 23171, 23172, 23173, 23174, 23175, 23470, 23471, 23472, 23473, 23474, 23475, 23476, 23477, 23478, 23479, 23480, 23481, 23482, 23483, 23484, 23485, 23486, 23487, 23488, 23489, 23490, 23491, 23492, 23493, 23494, 23495, 23496, 23497, 23498, 23499, 24460, 24461, 24462, 24463, 24464, 24465, 24466, 24467, 24468, 24469, 24470, 24471, 24472, 24473, 24474, 24475, 24476, 24477, 24583, 24584, 24585, 24586, 24587, 24588, 24589, 24590, 24591, 24592, 24593, 24594, 24595, 24596, 24597, 24598, 24599, 24600, 24601, 24602, 24603, 25000]\n"
     ]
    },
    {
     "data": {
      "application/vnd.jupyter.widget-view+json": {
       "model_id": "b1d3981d0b3e470bb2e9d26a895031d8",
       "version_major": 2,
       "version_minor": 0
      },
      "text/plain": [
       "NGLWidget()"
      ]
     },
     "metadata": {},
     "output_type": "display_data"
    }
   ],
   "source": [
    "# plot some frames of a real trajectory that belong to the same quaternion grid point\n",
    "vm = ViewManager(traj_universe)\n",
    "# plot a selection (because too many) that are all assigned to grid point 21\n",
    "assigned_to_26 = np.where(quaternion_assignments == 15)[0]\n",
    "# show in VMD for a better view\n",
    "print(list(assigned_to_26))\n",
    "vm.plot_frames_overlapping(np.random.choice(assigned_to_26, 30))"
   ]
  },
  {
   "cell_type": "markdown",
   "id": "f4e868f5",
   "metadata": {},
   "source": [
    "## Full conversion 3N coordinates <-> 7D gridpoint"
   ]
  },
  {
   "cell_type": "code",
   "execution_count": 34,
   "id": "b684550d",
   "metadata": {
    "ExecuteTime": {
     "end_time": "2024-02-12T12:06:12.972465Z",
     "start_time": "2024-02-12T12:06:07.372067Z"
    }
   },
   "outputs": [],
   "source": [
    "full_assignments = sh.get_full_assignments()"
   ]
  },
  {
   "cell_type": "code",
   "execution_count": 41,
   "id": "306ecd3a",
   "metadata": {
    "ExecuteTime": {
     "end_time": "2024-02-12T12:14:49.096051Z",
     "start_time": "2024-02-12T12:14:07.145733Z"
    }
   },
   "outputs": [
    {
     "name": "stdout",
     "output_type": "stream",
     "text": [
      "Most popular assignments are [ 3531  3714 32251  4461 32144 32149 32779 33177  4830 32789] with population [58 59 62 66 80 76 62 73 85 72]\n"
     ]
    },
    {
     "data": {
      "image/png": "[encoded data removed]",
      "text/plain": [
       "<Figure size 640x480 with 1 Axes>"
      ]
     },
     "metadata": {},
     "output_type": "display_data"
    }
   ],
   "source": [
    "# make a histogram of most populated full grid cells\n",
    "sns.histplot(full_assignments, stat=\"count\", bins=np.arange(len(H2O_full_grid)+1))\n",
    "\n",
    "popular, counts = np.unique(full_assignments, return_counts=True)\n",
    "max_counts = k_argmax_in_array(counts, 10)\n",
    "print(f\"Most popular assignments are {popular[max_counts]} with population {counts[max_counts]}\")"
   ]
  },
  {
   "cell_type": "code",
   "execution_count": 37,
   "id": "b51ca9ac",
   "metadata": {
    "ExecuteTime": {
     "end_time": "2024-02-12T12:08:33.683806Z",
     "start_time": "2024-02-12T12:08:19.538719Z"
    }
   },
   "outputs": [
    {
     "name": "stdout",
     "output_type": "stream",
     "text": [
      "[1568, 1569, 1570, 1571, 1572, 1573, 1574, 1575, 1576, 1577, 1578, 1579, 1580, 1581, 1582, 1583, 1584, 1585, 1586, 1587, 1588, 1589, 1727, 1728, 1729, 1730, 1731, 1732, 1733, 1734, 1735, 1736, 1737, 1738, 1739, 1740, 1741, 1742, 1743, 1744, 1745, 1746, 1747, 1748, 1749, 1750, 1751, 1752, 5352, 5353, 5354, 5355, 5356, 5357, 5358, 5359, 5360, 5361]\n"
     ]
    },
    {
     "data": {
      "application/vnd.jupyter.widget-view+json": {
       "model_id": "69454d5a116640d19bf1d435a599eed1",
       "version_major": 2,
       "version_minor": 0
      },
      "text/plain": [
       "NGLWidget()"
      ]
     },
     "metadata": {},
     "output_type": "display_data"
    }
   ],
   "source": [
    "vm = ViewManager(traj_universe)\n",
    "# plot a selection (because too many) that are all assigned to same grid point\n",
    "assigned_to_cell = np.where(full_assignments == 3531)[0]\n",
    "# show in VMD for a better view\n",
    "print(list(assigned_to_cell))\n",
    "vm.plot_frames_overlapping(np.random.choice(assigned_to_cell, 30))"
   ]
  },
  {
   "cell_type": "code",
   "execution_count": 42,
   "id": "0aadf343",
   "metadata": {
    "ExecuteTime": {
     "end_time": "2024-02-12T12:15:02.222312Z",
     "start_time": "2024-02-12T12:14:49.096051Z"
    }
   },
   "outputs": [
    {
     "name": "stdout",
     "output_type": "stream",
     "text": [
      "[4897, 4898, 4899, 4900, 4901, 6239, 6240, 6241, 6242, 6243, 6244, 6245, 6246, 6247, 6248, 6249, 8002, 8003, 8004, 8005, 8014, 8015, 8016, 8017, 8018, 8019, 8020, 8021, 8022, 8023, 8024, 8025, 8026, 8027, 8028, 8029, 8030, 8031, 8032, 8033, 8034, 8035, 8036, 8037, 8038, 8039, 8040, 8041, 8042, 8043, 8044, 8045, 8046]\n"
     ]
    },
    {
     "data": {
      "application/vnd.jupyter.widget-view+json": {
       "model_id": "cae6026cdcab44a388854743bd0a2aea",
       "version_major": 2,
       "version_minor": 0
      },
      "text/plain": [
       "NGLWidget()"
      ]
     },
     "metadata": {},
     "output_type": "display_data"
    }
   ],
   "source": [
    "vm = ViewManager(traj_universe)\n",
    "# plot a selection (because too many) that are all assigned to same grid point\n",
    "assigned_to_cell = np.where(full_assignments == 6232)[0]\n",
    "# show in VMD for a better view\n",
    "print(list(assigned_to_cell))\n",
    "vm.plot_frames_overlapping(np.random.choice(assigned_to_cell, 30))\n",
    "\n"
   ]
  },
  {
   "cell_type": "markdown",
   "id": "2cdf610c",
   "metadata": {},
   "source": [
    "## MSM"
   ]
  },
  {
   "cell_type": "code",
   "execution_count": null,
   "id": "5fca0ce7",
   "metadata": {
    "ExecuteTime": {
     "start_time": "2024-02-12T15:04:59.063Z"
    }
   },
   "outputs": [
    {
     "name": "stderr",
     "output_type": "stream",
     "text": [
      "Exception ignored in: <function ReaderBase.__del__ at 0x0000016D79247040>\n",
      "Traceback (most recent call last):\n",
      "  File \"C:\\Users\\Hana\\AppData\\Local\\Programs\\Python\\Python39\\lib\\site-packages\\MDAnalysis\\coordinates\\base.py\", line 1512, in __del__\n",
      "    self.close()\n",
      "  File \"C:\\Users\\Hana\\AppData\\Local\\Programs\\Python\\Python39\\lib\\site-packages\\MDAnalysis\\coordinates\\XDR.py\", line 187, in close\n",
      "    self._xdr.close()\n",
      "AttributeError: 'TRRReader' object has no attribute '_xdr'\n"
     ]
    }
   ],
   "source": [
    "fg = FullGrid(b_grid_name=\"20\", o_grid_name=\"15\", t_grid_name=\"linspace(0.2, 0.7, 10)\")\n",
    "water_sh = SimulationHistogram(trajectory_name=\"H2O_H2O_0095_25000\", is_pt=False,\n",
    "                               reference_name=\"H2O\",\n",
    "                               second_molecule_selection=\"bynum 4:6\",\n",
    "                               full_grid=fg, use_saved=False)\n",
    "water_MSM = MSM(water_sh)\n",
    "water_MSM.get_transitions_matrix(ignore_last_r=True)\n",
    "my_eval, my_evec = water_MSM.get_eigenval_eigenvec(8, which=\"LR\")\n",
    "print(my_eval)"
   ]
  },
  {
   "cell_type": "code",
   "execution_count": null,
   "id": "c73aff36",
   "metadata": {
    "ExecuteTime": {
     "end_time": "2024-02-12T14:42:54.024600Z",
     "start_time": "2024-02-12T14:42:54.024600Z"
    }
   },
   "outputs": [],
   "source": [
    "tp = TransitionPlot(water_sh)\n",
    "tp.transition_obj = water_MSM\n",
    "tp.transition_obj.use_saved = True\n",
    "fig, ax = plt.subplots(1, 2, sharex=False, sharey=False, figsize=(10, 5))\n",
    "tp.plot_eigenvalues(num_eigenv=5, index_tau=5, save=False, fig=fig, ax=ax[0])\n",
    "tp.plot_its(5, as_line=False, save=False, fig=fig, ax=ax[1])\n",
    "plt.show()"
   ]
  },
  {
   "cell_type": "code",
   "execution_count": null,
   "id": "44b92644",
   "metadata": {
    "ExecuteTime": {
     "end_time": "2024-02-12T14:42:54.024600Z",
     "start_time": "2024-02-12T14:42:54.024600Z"
    }
   },
   "outputs": [],
   "source": [
    "fig, ax = plt.subplots(3, sharex=True, sharey=True)\n",
    "for i in range(3):\n",
    "    tp.plot_one_eigenvector_flat(i, save=False, fig=fig, ax=ax[i], index_tau=12)\n",
    "plt.show()"
   ]
  },
  {
   "cell_type": "code",
   "execution_count": 15,
   "id": "ceed95c8",
   "metadata": {
    "ExecuteTime": {
     "end_time": "2024-02-12T14:41:03.362173Z",
     "start_time": "2024-02-12T14:40:36.799897Z"
    }
   },
   "outputs": [
    {
     "name": "stderr",
     "output_type": "stream",
     "text": [
      "100%|██████████████████████████████████████████████████████████████████████████████████████████████████████████████| 18/18 [00:10<00:00,  1.65it/s]\n",
      "100%|██████████████████████████████████████████████████████████████████████████████████████████████████████████████| 18/18 [00:01<00:00, 10.10it/s]\n"
     ]
    },
    {
     "name": "stdout",
     "output_type": "stream",
     "text": [
      "(2700,)\n",
      "2nd position eigenvector has most negative cell 2136 and most positive cell 637.\n",
      "[102, 103, 104, 105, 106, 107, 108, 109, 110, 111, 112, 113, 114, 115, 116, 117, 118, 119, 120, 121, 122, 123, 124, 125, 126, 127, 128, 129, 130, 131, 132, 133, 134, 135, 136, 137, 138, 139, 140, 141, 142, 143, 144, 145, 146, 147, 148, 149, 150, 151, 152, 153, 154, 155, 156, 157, 158, 159, 160, 161, 162, 163, 164, 165, 166, 167, 168, 169, 170, 2628, 2629, 2630, 2631, 2632, 2633, 2634, 2635, 2636, 2637, 2638, 2639, 2640, 2641, 2642, 2643, 2644, 2645, 2646, 2647, 2648, 2649, 2650, 2651, 2652, 2653, 2654, 2655, 2656, 2657, 2658, 2659, 2660, 2661, 2662, 2663, 4139, 4140, 4141, 4142, 4143, 4144, 4145, 4146, 4147, 4148, 4149, 4150, 4151, 4906, 4907, 4908, 4909, 4910, 4911, 4912, 4913, 4914, 4915, 4916, 4917, 4918, 4919, 4920, 4921, 4922, 4923, 4924, 4925, 4926, 4927, 4928, 4929, 4930, 4931, 4932, 4933, 4934, 4935, 4936, 4937, 6051, 6052, 6053, 6054, 6055, 6056, 6057, 6058, 6059, 6060, 6061, 6062, 6063, 6064, 6065, 6066, 6067, 6068, 6069, 6070, 6071, 6072, 6073, 6074, 6075, 6076, 6077, 6078, 6079, 6080, 6266, 6267, 6268, 6269, 6270, 6271, 6272, 6273, 6274, 6275, 6276, 6277, 6278, 6279, 6280, 6281, 6282, 6283, 6284, 6285, 6286, 6287, 6288, 6289, 6290, 6291, 6292, 6293, 6294, 6295, 6296, 6297, 6298, 6299, 6300, 6301, 6302, 6303, 6304, 6305, 7315, 7316, 7317, 7318, 7319, 7320, 7321, 7322, 7323, 7324, 7325, 7326, 7327, 7328, 7329, 7330, 7331, 7332, 7333, 7334, 7335, 7336, 7337, 7338, 7339, 7340, 7341, 7342, 7343, 7344]\n"
     ]
    },
    {
     "data": {
      "application/vnd.jupyter.widget-view+json": {
       "model_id": "4e178110f2484b0d9eca77bff55c0800",
       "version_major": 2,
       "version_minor": 0
      },
      "text/plain": [
       "NGLWidget()"
      ]
     },
     "metadata": {},
     "output_type": "display_data"
    }
   ],
   "source": [
    "vm = ViewManager(water_sh.trajectory_universe)\n",
    "vm.fresh_view()\n",
    "water_sh.use_saved = True\n",
    "magnitudes = water_sh.get_magnitude_ith_eigenvector(1)\n",
    "vm.set_color_magnitude(magnitudes, )\n",
    "print(magnitudes.shape)\n",
    "\n",
    "# \n",
    "num_extremes = 2\n",
    "most_positive = np.argmax(magnitudes)\n",
    "most_negative = np.argmin(magnitudes)\n",
    "print(f\"2nd position eigenvector has most negative cell {most_negative} and most positive cell {most_positive}.\")\n",
    "# now assign these to trajectory frames\n",
    "assigned_frames = []\n",
    "colors = []\n",
    "for one_argmax in [most_negative, most_positive]:\n",
    "    all_assigned = water_sh.get_indices_same_cell(one_argmax)\n",
    "    assigned_frames.extend(all_assigned)\n",
    "    colors.extend([vm.current_magnitudes[one_argmax]])\n",
    "vm.current_magnitudes = None\n",
    "print(assigned_frames)\n",
    "\n",
    "vm.plot_frames_overlapping(np.random.choice(assigned_frames, 30))\n",
    "vm.view"
   ]
  },
  {
   "cell_type": "code",
   "execution_count": 47,
   "id": "71b58888",
   "metadata": {
    "ExecuteTime": {
     "end_time": "2024-02-12T12:19:31.281759Z",
     "start_time": "2024-02-12T12:19:31.266104Z"
    }
   },
   "outputs": [],
   "source": [
    "# -> direction: INPUT start coordinates (3N), 7D gridpoint; OUTPUT end coordinates (3N)\n",
    "# <- direction: INPUT end coordinates (3N), start coordinates (3N); OUTPUT 7D gridpoint"
   ]
  },
  {
   "cell_type": "code",
   "execution_count": null,
   "id": "c26f6af6",
   "metadata": {},
   "outputs": [],
   "source": []
  },
  {
   "cell_type": "code",
   "execution_count": null,
   "id": "03355293",
   "metadata": {},
   "outputs": [],
   "source": []
  }
 ],
 "metadata": {
  "kernelspec": {
   "display_name": "Python 3 (ipykernel)",
   "language": "python",
   "name": "python3"
  },
  "language_info": {
   "codemirror_mode": {
    "name": "ipython",
    "version": 3
   },
   "file_extension": ".py",
   "mimetype": "text/x-python",
   "name": "python",
   "nbconvert_exporter": "python",
   "pygments_lexer": "ipython3",
   "version": "3.9.13"
  },
  "toc": {
   "base_numbering": 1,
   "nav_menu": {},
   "number_sections": true,
   "sideBar": true,
   "skip_h1_title": true,
   "title_cell": "Table of Contents",
   "title_sidebar": "Contents",
   "toc_cell": true,
   "toc_position": {
    "height": "698px",
    "left": "25px",
    "top": "161px",
    "width": "384px"
   },
   "toc_section_display": true,
   "toc_window_display": true
  }
 },
 "nbformat": 4,
 "nbformat_minor": 5
}
