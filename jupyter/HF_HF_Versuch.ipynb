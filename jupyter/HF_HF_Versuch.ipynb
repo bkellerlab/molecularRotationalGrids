{
 "cells": [
  {
   "cell_type": "markdown",
   "id": "89fba8f3",
   "metadata": {
    "toc": true
   },
   "source": [
    "<h1>Table of Contents<span class=\"tocSkip\"></span></h1>\n",
    "<div class=\"toc\"><ul class=\"toc-item\"><li><span><a href=\"#Kleines-Beispiel\" data-toc-modified-id=\"Kleines-Beispiel-1\"><span class=\"toc-item-num\">1&nbsp;&nbsp;</span>Kleines Beispiel</a></span></li></ul></div>"
   ]
  },
  {
   "cell_type": "code",
   "execution_count": 1,
   "id": "394ae1d3",
   "metadata": {
    "ExecuteTime": {
     "end_time": "2024-01-12T14:06:40.692625Z",
     "start_time": "2024-01-12T14:06:40.688166Z"
    }
   },
   "outputs": [],
   "source": [
    "import sys\n",
    "import os\n",
    "\n",
    "try:\n",
    "    os.chdir(r\"/home/hanaz63/PAPER_MOLECULAR_ROTATIONS_2022/nobackup/molgri\")\n",
    "    sys.path.append(r\"/home/hanaz63/PAPER_MOLECULAR_ROTATIONS_2022/nobackup\")\n",
    "except FileNotFoundError:\n",
    "    os.chdir(r\"D:\\HANA\\phD\\PAPER_2022\\molecularRotationalGrids\")\n",
    "    sys.path.append(r\"D:\\HANA\\phD\\PAPER_2022\\molecularRotationalGrids\")\n",
    "    \n",
    "import warnings\n",
    "warnings.filterwarnings(\"ignore\")"
   ]
  },
  {
   "cell_type": "code",
   "execution_count": 54,
   "id": "7a77f348",
   "metadata": {
    "ExecuteTime": {
     "end_time": "2024-01-12T15:04:49.363915Z",
     "start_time": "2024-01-12T15:04:49.357418Z"
    }
   },
   "outputs": [],
   "source": [
    "import nglview as nv\n",
    "import MDAnalysis as mda\n",
    "import numpy as np\n",
    "import time\n",
    "import ipywidgets as widgets\n",
    "from scipy.sparse import csr_array\n",
    "from numpy.typing import NDArray\n",
    "import matplotlib\n",
    "\n",
    "from molgri.molecules.transitions import SimulationHistogram, MSM, SQRA\n",
    "from molgri.plotting.molecule_plots import TrajectoryPlot\n",
    "import pandas as pd\n",
    "import matplotlib.pyplot as plt\n",
    "from molgri.molecules.parsers import FileParser, ParsedEnergy, XVGParser\n",
    "\n",
    "from molgri.paths import PATH_OUTPUT_PT, OUTPUT_PLOTTING_DATA, PATH_OUTPUT_LOGGING\n",
    "from molgri.space.fullgrid import FullGrid\n",
    "from molgri.space.utils import k_argmin_in_array, k_argmax_in_array"
   ]
  },
  {
   "cell_type": "markdown",
   "id": "faaa95c6",
   "metadata": {},
   "source": [
    "Erstmals: wir brauchen eine HF Monomer Datai."
   ]
  },
  {
   "cell_type": "code",
   "execution_count": 4,
   "id": "7eea6329",
   "metadata": {
    "ExecuteTime": {
     "end_time": "2024-01-09T10:21:19.340833Z",
     "start_time": "2024-01-09T10:21:19.336807Z"
    }
   },
   "outputs": [],
   "source": [
    "%pycat input/HF.xyz"
   ]
  },
  {
   "cell_type": "markdown",
   "id": "1e5fe1de",
   "metadata": {},
   "source": [
    "Nun lass zwei PTs (klein, groß) produzieren:\n",
    "- klein: -o 42 -t \"linspace(0.1, 0.4, 10)\" -b 8\n",
    "- groß: -o 162 -t \"linspace(0.1, 0.4, 20)\" -b 40"
   ]
  },
  {
   "cell_type": "markdown",
   "id": "b1867762",
   "metadata": {},
   "source": [
    "## Kleines Beispiel\n",
    "- obtain full grid\n",
    "- show full grid coordinates per frame in the corner"
   ]
  },
  {
   "cell_type": "code",
   "execution_count": 8,
   "id": "9068008b",
   "metadata": {
    "ExecuteTime": {
     "end_time": "2024-01-09T17:15:23.458476Z",
     "start_time": "2024-01-09T17:15:23.456050Z"
    }
   },
   "outputs": [],
   "source": [
    "small_name = \"HF_HF_0010\"\n",
    "b_grid = \"8\"\n",
    "o_grid = \"12\"\n",
    "t_grid = \"linspace(0.2, 0.4, 3)\""
   ]
  },
  {
   "cell_type": "code",
   "execution_count": 4,
   "id": "6f88f334",
   "metadata": {
    "ExecuteTime": {
     "end_time": "2024-01-09T10:37:20.054712Z",
     "start_time": "2024-01-09T10:37:19.428149Z"
    }
   },
   "outputs": [
    {
     "name": "stdout",
     "output_type": "stream",
     "text": [
      "Saved the log file to output/data/logging/HF_HF_0010.log\n",
      "Saved pseudo-trajectory to output/data/pt_files/HF_HF_0010.xtc and structure file to output/data/pt_files/HF_HF_0010.gro\n",
      "Timing the generation of Pt HF_HF_0010: 0:00:00.479715 hours:minutes:seconds\n"
     ]
    }
   ],
   "source": [
    "%run molgri/scripts/generate_pt.py -m1 HF -m2 HF --recalculate -o $o_grid -b $b_grid -t \"linspace(0.2, 0.4, 3)\""
   ]
  },
  {
   "cell_type": "code",
   "execution_count": 6,
   "id": "d995ea54",
   "metadata": {
    "ExecuteTime": {
     "end_time": "2024-01-11T09:36:28.948940Z",
     "start_time": "2024-01-11T09:36:28.942965Z"
    }
   },
   "outputs": [],
   "source": [
    "# großeres beispiel\n",
    "big_name = \"HF_HF_0011\"\n",
    "b_grid_b = \"272\"\n",
    "o_grid_b = \"162\"\n",
    "t_grid_b = \"linspace(0.1, 0.4, 20)\""
   ]
  },
  {
   "cell_type": "code",
   "execution_count": 4,
   "id": "847205f6",
   "metadata": {
    "ExecuteTime": {
     "end_time": "2024-01-09T16:07:25.994568Z",
     "start_time": "2024-01-09T15:41:35.292832Z"
    }
   },
   "outputs": [
    {
     "name": "stdout",
     "output_type": "stream",
     "text": [
      "Saved the log file to output/data/logging/HF_HF_0011.log\n",
      "Saved pseudo-trajectory to output/data/pt_files/HF_HF_0011.xtc and structure file to output/data/pt_files/HF_HF_0011.gro\n",
      "Timing the generation of Pt HF_HF_0011: 0:24:59.522670 hours:minutes:seconds\n"
     ]
    }
   ],
   "source": [
    "%run molgri/scripts/generate_pt.py -m1 HF -m2 HF --recalculate -o $o_grid_b -b $b_grid_b -t \"linspace(0.1, 0.4, 20)\""
   ]
  },
  {
   "cell_type": "code",
   "execution_count": 3,
   "id": "0b5b6596",
   "metadata": {
    "ExecuteTime": {
     "end_time": "2024-01-10T11:50:43.451407Z",
     "start_time": "2024-01-10T11:24:23.989780Z"
    }
   },
   "outputs": [
    {
     "name": "stdout",
     "output_type": "stream",
     "text": [
      "Saved the log file to output/data/logging/H2O_H2O_0092.log\n",
      "Saved pseudo-trajectory to output/data/pt_files/H2O_H2O_0092.xtc and structure file to output/data/pt_files/H2O_H2O_0092.gro\n",
      "Timing the generation of Pt H2O_H2O_0092: 0:25:25.037286 hours:minutes:seconds\n"
     ]
    }
   ],
   "source": [
    "%run molgri/scripts/generate_pt.py -m1 H2O -m2 H2O --recalculate -o \"162\" -b \"272\" -t \"linspace(0.1, 0.4, 20)\""
   ]
  },
  {
   "cell_type": "code",
   "execution_count": null,
   "id": "0cfd0b12",
   "metadata": {},
   "outputs": [],
   "source": [
    "#WATER"
   ]
  },
  {
   "cell_type": "code",
   "execution_count": 27,
   "id": "c9d6742d",
   "metadata": {
    "ExecuteTime": {
     "end_time": "2024-01-10T13:53:59.698617Z",
     "start_time": "2024-01-10T13:53:59.648790Z"
    }
   },
   "outputs": [
    {
     "data": {
      "application/vnd.jupyter.widget-view+json": {
       "model_id": "f161efeae7e24017bb80f3d09e8acf06",
       "version_major": 2,
       "version_minor": 0
      },
      "text/plain": [
       "NGLWidget(max_frame=10000)"
      ]
     },
     "metadata": {},
     "output_type": "display_data"
    }
   ],
   "source": [
    "from MDAnalysis import transformations\n",
    "\n",
    "u = mda.Universe(r\"/home/hanaz63/nobackup/gromacs/H2O_H2O_0095_10000/H2O_H2O_0095.gro\", \n",
    "                 r\"/home/hanaz63/nobackup/gromacs/H2O_H2O_0095_10000/output.xtc\")\n",
    "\n",
    "#reconnect molecules\n",
    "\n",
    "\n",
    "ag = u.atoms\n",
    "# we will use mass as weights for the center calculation\n",
    "workflow = (transformations.center_in_box(ag, center='mass'),)\n",
    "u.trajectory.add_transformations(*workflow)\n",
    "\n",
    "\n",
    "v = nv.show_mdanalysis(u)\n",
    "v.add_unitcell()\n",
    "v"
   ]
  },
  {
   "cell_type": "code",
   "execution_count": 5,
   "id": "26d49c49",
   "metadata": {
    "ExecuteTime": {
     "end_time": "2024-01-10T15:44:05.437268Z",
     "start_time": "2024-01-10T15:44:05.430887Z"
    }
   },
   "outputs": [],
   "source": [
    "%matplotlib notebook"
   ]
  },
  {
   "cell_type": "code",
   "execution_count": 86,
   "id": "acbd631f",
   "metadata": {
    "ExecuteTime": {
     "end_time": "2024-01-12T15:32:25.350014Z",
     "start_time": "2024-01-12T15:32:25.322662Z"
    },
    "code_folding": [
     13,
     19,
     85,
     118
    ]
   },
   "outputs": [],
   "source": [
    "class ViewManager:\n",
    "    \n",
    "    \"\"\"\n",
    "    NGLViewer is very useful but not very convinient for displaying particular frames of a trajectory together, \n",
    "    in particular color schemes etc. This class accepts a MDA Universe and knows how to extract frames from it.\n",
    "    The plotting functions then accept indices (one or several) for this trajectory and display them in a \n",
    "    particular way (overlapping, sequential ...)\n",
    "    \"\"\"\n",
    "    \n",
    "    def __init__(self, u: mda.Universe):\n",
    "        self.u = u\n",
    "        self.fresh_view()\n",
    "    \n",
    "    def fresh_view(self):\n",
    "        \"\"\"\n",
    "        Run this when you want to start a new view and discard an old one.\n",
    "        \"\"\"\n",
    "        self.view = nv.NGLWidget()\n",
    "    \n",
    "    def get_ith_frame(self, i: int) -> mda.Universe:\n",
    "        \"\"\"\n",
    "        The most important method acting on self.u. Get the Universe object containing of all the atoms \n",
    "        but only a single frame (i-th frame).\n",
    "        \n",
    "        Args:\n",
    "            i (int): the index of the frame wanted\n",
    "        \n",
    "        Returns:\n",
    "            a Universe containing the i-th frame of self.u\n",
    "        \"\"\"\n",
    "        self.u.trajectory[i]\n",
    "        all_atoms = self.u.select_atoms('all')\n",
    "        new_u = mda.Merge(self.u.atoms)\n",
    "        return new_u\n",
    "    \n",
    "    def _add_coordinate_axes(self):\n",
    "        \"\"\"\n",
    "        Helper method. Add the x, y and z axes at origin to a NGLView.\n",
    "        \"\"\"\n",
    "        \n",
    "        # arguments of add_arrow are: start position, end position, color (in RGB), radius of arrow head\n",
    "        # arguments of add_label are: position, color (in RGB), size, text\n",
    "        \n",
    "        # X-axis is red\n",
    "        self.view.shape.add_arrow([0, 0, 0], [1, 0, 0],[ 1, 0, 0 ], 0.1)\n",
    "        self.view.shape.add_label([1, 0, 0], [1, 0, 0], 1.5, 'x')\n",
    "        \n",
    "        # Y-axis is green\n",
    "        self.view.shape.add_arrow([0, 0, 0], [0, 1, 0],[0, 1, 0 ], 0.1)\n",
    "        self.view.shape.add_label([0, 1, 0], [0, 1, 0], 1.5, 'y')\n",
    "        \n",
    "        # Z-axis is blue\n",
    "        self.view.shape.add_arrow([0, 0, 0], [0, 0, 1],[0, 0, 1 ], 0.1)\n",
    "        self.view.shape.add_label([0, 0, 1], [0, 0, 1], 1.5, 'z')\n",
    "\n",
    "    def plot_ith_frame(self, frame_i: int, axes: bool = True, **kwargs):\n",
    "        \"\"\"\n",
    "        Plot i-th frame of self.u, adding to self.view.\n",
    "        \n",
    "        Args:\n",
    "            - i: index of the frame\n",
    "            - axes: if True, draw x, y and z axes\n",
    "        \"\"\"\n",
    "        ith_atoms = self.get_ith_frame(frame_i)\n",
    "        \n",
    "        self.view.add_component(ith_atoms, default_representation=False)\n",
    "        # the index is there in order to only affect the last added representation\n",
    "        self.view[-1].add_representation(\"ball+stick\", **kwargs)\n",
    "        if axes:\n",
    "            self._add_coordinate_axes()\n",
    "        return self.view\n",
    "    \n",
    "    def _add_optional_representation_parameters(self, my_index: int, colors: list, opacities: list):\n",
    "        \"\"\"\n",
    "        Helper method if you want to plot several view and pass arguments to them.\n",
    "        \"\"\"\n",
    "        kwargs = {}\n",
    "        if colors is not None:\n",
    "            kwargs[\"color\"] = colors[my_index]\n",
    "        if opacities is not None:\n",
    "            kwargs[\"opacity\"] = opacities[my_index]\n",
    "        return kwargs\n",
    "        \n",
    "    \n",
    "    def plot_frames_sequential(self, list_indices: list, colors: list = None, opacities: list = None):\n",
    "        \"\"\"\n",
    "        Plot several frames of the self.u next to each other. Automatically ngo to next now if you have too\n",
    "        many frames to display in one row.\n",
    "        \n",
    "        Args:\n",
    "            - list_indices: a list of integers, each an frame index to be displayed\n",
    "            - colors: a list of colors (must be same length as list_indices) or None (default)\n",
    "            - opacities: a list of opacities (must be same length as list_indices) or None (default)\n",
    "        \"\"\"\n",
    "        \n",
    "        # settings that are important so that rows with too many images nicely overflow in the next row\n",
    "        box = widgets.Box(layout=widgets.Layout(width='100%',display='inline-flex',flex_flow='row wrap'))\n",
    "        box.overflow_x = 'auto'\n",
    "\n",
    "        all_views = []\n",
    "        for li, list_i in enumerate(list_indices):\n",
    "            self.fresh_view()\n",
    "            # add optional parameters\n",
    "            kwargs = self._add_optional_representation_parameters(li, colors, opacities)\n",
    "            neig_view = self.plot_ith_frame(list_i, **kwargs)\n",
    "            # this is also important for nice arragement of figures\n",
    "            neig_view.layout.width = \"200px\"\n",
    "            all_views.append(neig_view)\n",
    "        \n",
    "        \n",
    "        # sync all views (so that all plots move if you move any)\n",
    "        for v in all_views:\n",
    "            v._set_sync_camera(all_views)\n",
    "        \n",
    "        box.children=[i for i in all_views]\n",
    "        display(box)\n",
    "    \n",
    "    def plot_frames_overlapping(self, list_indices: list, colors: list = None, opacities: list = None):\n",
    "        \"\"\"\n",
    "        Plot several frames of the self.u overlapping.\n",
    "        \n",
    "        Args:\n",
    "            - list_indices: a list of integers, each an frame index to be displayed\n",
    "            - colors: a list of colors (must be same length as list_indices) or None (default)\n",
    "            - opacities: a list of opacities (must be same length as list_indices) or None (default)\n",
    "        \n",
    "        \"\"\"\n",
    "        \n",
    "        for li, list_i in enumerate(list_indices):\n",
    "            # add optional parameters\n",
    "            kwargs = self._add_optional_representation_parameters(li, colors, opacities)\n",
    "                \n",
    "            self.plot_ith_frame(list_i, **kwargs)\n",
    "\n",
    "        return self.view\n",
    "\n",
    "\n"
   ]
  },
  {
   "cell_type": "code",
   "execution_count": 96,
   "id": "7305d248",
   "metadata": {
    "ExecuteTime": {
     "end_time": "2024-01-12T15:42:57.866605Z",
     "start_time": "2024-01-12T15:42:57.839884Z"
    },
    "code_folding": [
     47,
     54
    ]
   },
   "outputs": [],
   "source": [
    "\"\"\"\n",
    "Some important indices you may wanna plot:\n",
    "- eigenvectors of SQRA\n",
    "\"\"\"\n",
    "\n",
    "class PostCalculationEvaluator:\n",
    "    \n",
    "    \"\"\"\n",
    "    Combine the following (read or use saved if you have it available):\n",
    "        - trajectory or pseudotrajectory (in form of mda Universe)\n",
    "        - energies\n",
    "        - full grid (FullGrid object)\n",
    "        - transition model(MSM or SQRA object)\n",
    "        \n",
    "    \n",
    "    \"\"\"\n",
    "    \n",
    "    def __init__(self, name_pt, default_atom_selection):\n",
    "        self.name_pt = name_pt\n",
    "        self.default_atom_selection = default_atom_selection\n",
    "        self.u = self.read_u_PT()\n",
    "        self.parsed_trajectory = self.read_parsed_trajectory_PT()\n",
    "        self.fg = self.read_fg_PT()\n",
    "        self.energy = self.read_energy_PT()\n",
    "        self.transition_model = self.read_sqra_PT()\n",
    "        \n",
    "        # just to check if everything is sane\n",
    "        self._assert_consistent_len()\n",
    "    \n",
    "    def _assert_consistent_len(self):\n",
    "        traj_len = len(self.u.trajectory)\n",
    "        fg_len = len(self.fg.get_full_grid_as_array())\n",
    "        energy_len = len(self.energy.energies)\n",
    "        sqra_len = len(self.transition_model.get_transitions_matrix()[0])\n",
    "        assert traj_len == fg_len == energy_len == sqra_len\n",
    "        \n",
    "    \"\"\"\n",
    "    --------------------------------------------------------------------------------------------------\n",
    "                               Readers to set up all necessary structures.\n",
    "    --------------------------------------------------------------------------------------------------\n",
    "    \"\"\"\n",
    "    \n",
    "    def __len__(self):\n",
    "        traj_len = len(self.u.trajectory)\n",
    "        return traj_len\n",
    "    \n",
    "    def read_u_PT(self):\n",
    "        return mda.Universe(f\"{PATH_OUTPUT_PT}{self.name_pt}.gro\", f\"{PATH_OUTPUT_PT}{self.name_pt}.xtc\")\n",
    "\n",
    "    def read_parsed_trajectory_PT(self):\n",
    "        pt_parser = FileParser(f\"{PATH_OUTPUT_PT}{self.name_pt}.gro\", f\"{PATH_OUTPUT_PT}{self.name_pt}.xtc\")\n",
    "        pt = pt_parser.get_parsed_trajectory(default_atom_selection=self.default_atom_selection)\n",
    "        pt.energies = self.read_energy_PT()\n",
    "        return pt\n",
    "\n",
    "    def read_fg_PT(self):\n",
    "\n",
    "        input_names = None\n",
    "        full_grid_name = None\n",
    "\n",
    "        # first step: read the name of the full grid from the log file\n",
    "        with open(f\"{PATH_OUTPUT_LOGGING}{self.name_pt}.log\") as f:\n",
    "            while input_names is None or full_grid_name is None:\n",
    "                line = f.readline()\n",
    "                if line.startswith(\"INFO:PtLogger:input grid parameters:\"):\n",
    "                    input_names = line.strip().split(\": \")[-1]\n",
    "                elif line.startswith(\"INFO:PtLogger:full grid name:\"):\n",
    "                    full_grid_name = line.strip().split(\": \")[-1]\n",
    "                    \n",
    "        self.grid_name = full_grid_name\n",
    "        \n",
    "        input_names = input_names.split(\" \")\n",
    "        t_input = \" \".join(input_names[2:])\n",
    "        fg = FullGrid(o_grid_name=input_names[0], b_grid_name=input_names[1], t_grid_name=t_input,\n",
    "                      use_saved=True)\n",
    "\n",
    "        # second step: load the .npy file with the found name\n",
    "        used_grid = np.load(f\"{OUTPUT_PLOTTING_DATA}get_full_grid_as_array_{full_grid_name}.npy\")\n",
    "\n",
    "        # third step: assert that this is actually the grid that has been used\n",
    "        assert np.allclose(used_grid, fg.get_full_grid_as_array())\n",
    "\n",
    "        return fg\n",
    "\n",
    "    def read_energy_PT(self):\n",
    "        my_parser = XVGParser(f\"/home/hanaz63/nobackup/gromacs/{self.name_pt}/{self.name_pt}.xvg\")\n",
    "        return my_parser.get_parsed_energy()\n",
    "\n",
    "    def read_sqra_PT(self):\n",
    "        sh = SimulationHistogram(self.parsed_trajectory, self.fg)\n",
    "        return SQRA(sh, use_saved=True)\n",
    "    \n",
    "    \"\"\"\n",
    "    --------------------------------------------------------------------------------------------------\n",
    "                               Getters to obtain important indices.\n",
    "    --------------------------------------------------------------------------------------------------\n",
    "    \"\"\"    \n",
    "    \n",
    "    def get_indices_k_lowest_energies(self, k: int, energy_type: str):\n",
    "        all_energies = self.energy.get_energies(energy_type)\n",
    "        return k_argmin_in_array(all_energies, k)\n",
    "    \n",
    "    def get_indices_neighbours_of_cell_i(self, i: int):\n",
    "        adj_array = csr_array(self.fg.get_full_adjacency())[:, [i]].toarray().T[0]\n",
    "        neighbour_indices = np.nonzero(adj_array)[0]\n",
    "        return neighbour_indices\n",
    "    \n",
    "    def get_indices_same_orientation(self, quaternion_grid_index: int):\n",
    "        num_positions = self.fg.o_rotations.get_N() * self.fg.t_grid.get_N_trans()\n",
    "        num_quaternions = self.fg.b_rotations.get_N()\n",
    "        \n",
    "        return list(range(quaternion_grid_index, len(self), num_quaternions))\n",
    "    \n",
    "    def get_indices_same_position(self, position_grid_index: int):\n",
    "        num_quaternions = self.fg.b_rotations.get_N()\n",
    "\n",
    "        return list(range(position_grid_index*num_quaternions, (position_grid_index+1)*num_quaternions))\n",
    "\n",
    "    \"\"\"\n",
    "    --------------------------------------------------------------------------------------------------\n",
    "                               Getters to obtain a measure of magnitude.\n",
    "    --------------------------------------------------------------------------------------------------\n",
    "    \"\"\"\n",
    "    \n",
    "    def get_magnitude_energy(self, energy_type: str):\n",
    "        return self.energy.get_energies(energy_type)\n",
    "    \n",
    "    def get_magnitude_ith_eigenvector(self, i: int):\n",
    "        evalu, evec = self.transition_model.get_eigenval_eigenvec()\n",
    "        my_eigenvector = evec[0].T[i]\n",
    "        return my_eigenvector\n",
    "\n",
    "\n",
    "\n",
    "class MplColorHelper:\n",
    "\n",
    "    def __init__(self):\n",
    "        self.cmap = matplotlib.cm.get_cmap('bwr')\n",
    "        self.norm = matplotlib.colors.TwoSlopeNorm(vcenter=0)\n",
    "        self.scalarMap = matplotlib.cm.ScalarMappable(norm=self.norm, cmap=self.cmap)\n",
    "\n",
    "    def get_hex(self, val):\n",
    "        rgba = self.scalarMap.to_rgba(val)\n",
    "        return matplotlib.colors.rgb2hex(rgba)\n",
    "        "
   ]
  },
  {
   "cell_type": "code",
   "execution_count": null,
   "id": "3b909910",
   "metadata": {
    "ExecuteTime": {
     "start_time": "2024-01-12T15:46:47.546Z"
    },
    "code_folding": [
     13
    ]
   },
   "outputs": [],
   "source": [
    "# EXAMPLE - \n",
    "\n",
    "# changeable parameters\n",
    "my_name1 = \"H2O\"\n",
    "my_name2 = \"H2O\"\n",
    "my_num = \"0099\"\n",
    "\n",
    "my_name = f\"{my_name1}_{my_name2}_{my_num}\"\n",
    "my_selection = \"bynum 4:6\"\n",
    "\n",
    "\n",
    "# read everything from files \n",
    "pce = PostCalculationEvaluator(my_name, my_selection)\n",
    "\n",
    "\n",
    "# display\n",
    "vm = ViewManager(pce.u)\n",
    "vm.fresh_view()\n",
    "\n",
    "# magnitudes\n",
    "mch = MplColorHelper()\n",
    "magnitudes = pce.get_magnitude_energy(\"Potential\")\n",
    "\n",
    "\n",
    "same_ori = pce.get_indices_same_orientation(2)\n",
    "colors = np.array([mch.get_hex(mag) for mag in magnitudes[same_ori]])\n",
    "vm.plot_frames_overlapping(same_ori, colors=colors, opacities=[0.5]*len(same_ori))"
   ]
  },
  {
   "cell_type": "code",
   "execution_count": null,
   "id": "29473c11",
   "metadata": {
    "ExecuteTime": {
     "start_time": "2024-01-12T15:48:54.205Z"
    }
   },
   "outputs": [],
   "source": [
    "# EXAMPLE - eigenvector\n",
    "\n",
    "# display\n",
    "vm = ViewManager(pce.u)\n",
    "vm.fresh_view()\n",
    "\n",
    "# magnitudes\n",
    "mch = MplColorHelper()\n",
    "magnitudes = pce.get_magnitude_ith_eigenvector(0)\n",
    "\n",
    "same_ori = pce.get_indices_same_position(20)\n",
    "colors = np.array([mch.get_hex(mag) for mag in magnitudes[same_ori]])\n",
    "vm.plot_frames_overlapping(same_ori, colors=colors, opacities=[0.5]*len(same_ori))"
   ]
  },
  {
   "cell_type": "code",
   "execution_count": null,
   "id": "bb77dd2c",
   "metadata": {},
   "outputs": [],
   "source": []
  }
 ],
 "metadata": {
  "kernelspec": {
   "display_name": "Python 3 (ipykernel)",
   "language": "python",
   "name": "python3"
  },
  "language_info": {
   "codemirror_mode": {
    "name": "ipython",
    "version": 3
   },
   "file_extension": ".py",
   "mimetype": "text/x-python",
   "name": "python",
   "nbconvert_exporter": "python",
   "pygments_lexer": "ipython3",
   "version": "3.11.5"
  },
  "toc": {
   "base_numbering": 1,
   "nav_menu": {},
   "number_sections": true,
   "sideBar": true,
   "skip_h1_title": true,
   "title_cell": "Table of Contents",
   "title_sidebar": "Contents",
   "toc_cell": true,
   "toc_position": {
    "height": "calc(100% - 180px)",
    "left": "10px",
    "top": "150px",
    "width": "384px"
   },
   "toc_section_display": true,
   "toc_window_display": true
  }
 },
 "nbformat": 4,
 "nbformat_minor": 5
}
