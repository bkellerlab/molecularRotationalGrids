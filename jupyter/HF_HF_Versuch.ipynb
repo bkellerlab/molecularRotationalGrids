{
 "cells": [
  {
   "cell_type": "markdown",
   "id": "d8b24887",
   "metadata": {
    "toc": true
   },
   "source": [
    "<h1>Table of Contents<span class=\"tocSkip\"></span></h1>\n",
    "<div class=\"toc\"><ul class=\"toc-item\"><li><span><a href=\"#Kleines-Beispiel\" data-toc-modified-id=\"Kleines-Beispiel-1\"><span class=\"toc-item-num\">1&nbsp;&nbsp;</span>Kleines Beispiel</a></span><ul class=\"toc-item\"><li><span><a href=\"#Example---show-PT-structures-with-5-largest-and-5-smallest-potential-energies\" data-toc-modified-id=\"Example---show-PT-structures-with-5-largest-and-5-smallest-potential-energies-1.1\"><span class=\"toc-item-num\">1.1&nbsp;&nbsp;</span>Example - show PT structures with 5 largest and 5 smallest potential energies</a></span></li><li><span><a href=\"#Example---plot-an-eigenvector-of-SqRA\" data-toc-modified-id=\"Example---plot-an-eigenvector-of-SqRA-1.2\"><span class=\"toc-item-num\">1.2&nbsp;&nbsp;</span>Example - plot an eigenvector of SqRA</a></span></li></ul></li><li><span><a href=\"#Classify-full-trajectories-in-cells-of-FullGrid\" data-toc-modified-id=\"Classify-full-trajectories-in-cells-of-FullGrid-2\"><span class=\"toc-item-num\">2&nbsp;&nbsp;</span>Classify full trajectories in cells of FullGrid</a></span></li></ul></div>"
   ]
  },
  {
   "cell_type": "code",
   "execution_count": 1,
   "id": "8e3f4149",
   "metadata": {
    "ExecuteTime": {
     "end_time": "2024-01-18T11:49:54.288037Z",
     "start_time": "2024-01-18T11:49:54.284289Z"
    }
   },
   "outputs": [],
   "source": [
    "import sys\n",
    "import os\n",
    "\n",
    "try:\n",
    "    os.chdir(r\"/home/hanaz63/PAPER_MOLECULAR_ROTATIONS_2022/nobackup/molgri\")\n",
    "    sys.path.append(r\"/home/hanaz63/PAPER_MOLECULAR_ROTATIONS_2022/nobackup\")\n",
    "except FileNotFoundError:\n",
    "    os.chdir(r\"D:\\HANA\\phD\\PAPER_2022\\molecularRotationalGrids\")\n",
    "    sys.path.append(r\"D:\\HANA\\phD\\PAPER_2022\\molecularRotationalGrids\")\n",
    "    \n",
    "import warnings\n",
    "warnings.filterwarnings(\"ignore\")"
   ]
  },
  {
   "cell_type": "code",
   "execution_count": 2,
   "id": "215ae875",
   "metadata": {
    "ExecuteTime": {
     "end_time": "2024-01-18T11:49:57.724029Z",
     "start_time": "2024-01-18T11:49:54.742312Z"
    }
   },
   "outputs": [
    {
     "data": {
      "application/vnd.jupyter.widget-view+json": {
       "model_id": "9b1e403148034dcc95a0030c23cc7e17",
       "version_major": 2,
       "version_minor": 0
      },
      "text/plain": []
     },
     "metadata": {},
     "output_type": "display_data"
    }
   ],
   "source": [
    "import nglview as nv\n",
    "import MDAnalysis as mda\n",
    "import numpy as np\n",
    "import time\n",
    "\n",
    "from scipy.sparse import csr_array\n",
    "from numpy.typing import NDArray\n",
    "import matplotlib\n",
    "\n",
    "from molgri.molecules.transitions import SimulationHistogram, MSM, SQRA\n",
    "from molgri.plotting.molecule_plots import TrajectoryPlot\n",
    "import pandas as pd\n",
    "import matplotlib.pyplot as plt\n",
    "from molgri.molecules.parsers import FileParser, ParsedEnergy, XVGParser\n",
    "\n",
    "from molgri.paths import PATH_OUTPUT_PT, OUTPUT_PLOTTING_DATA, PATH_OUTPUT_LOGGING\n",
    "from molgri.space.fullgrid import FullGrid\n",
    "from molgri.space.utils import k_argmin_in_array, k_argmax_in_array\n",
    "from molgri.plotting.widgets import ViewManager"
   ]
  },
  {
   "cell_type": "markdown",
   "id": "3693d22c",
   "metadata": {},
   "source": [
    "Erstmals: wir brauchen eine HF Monomer Datai."
   ]
  },
  {
   "cell_type": "code",
   "execution_count": 3,
   "id": "a699aa51",
   "metadata": {
    "ExecuteTime": {
     "end_time": "2024-01-17T14:15:52.297252Z",
     "start_time": "2024-01-17T14:15:52.294795Z"
    }
   },
   "outputs": [],
   "source": [
    "%pycat input/HF.xyz"
   ]
  },
  {
   "cell_type": "markdown",
   "id": "b2b0bcd8",
   "metadata": {},
   "source": [
    "Nun lass zwei PTs (klein, groß) produzieren:\n",
    "- klein: -o 42 -t \"linspace(0.1, 0.4, 10)\" -b 8\n",
    "- groß: -o 162 -t \"linspace(0.1, 0.4, 20)\" -b 40"
   ]
  },
  {
   "cell_type": "markdown",
   "id": "0a88d404",
   "metadata": {},
   "source": [
    "## Kleines Beispiel\n",
    "- obtain full grid\n",
    "- show full grid coordinates per frame in the corner"
   ]
  },
  {
   "cell_type": "code",
   "execution_count": 4,
   "id": "cfea8fbc",
   "metadata": {
    "ExecuteTime": {
     "end_time": "2024-01-17T14:15:52.590978Z",
     "start_time": "2024-01-17T14:15:52.568318Z"
    }
   },
   "outputs": [],
   "source": [
    "%matplotlib notebook"
   ]
  },
  {
   "cell_type": "code",
   "execution_count": 3,
   "id": "c4ab8ea9",
   "metadata": {
    "ExecuteTime": {
     "end_time": "2024-01-18T10:14:16.237386Z",
     "start_time": "2024-01-18T10:14:16.226509Z"
    },
    "code_folding": [
     13
    ]
   },
   "outputs": [],
   "source": []
  },
  {
   "cell_type": "code",
   "execution_count": 4,
   "id": "761e7086",
   "metadata": {
    "ExecuteTime": {
     "end_time": "2024-01-18T10:14:16.253682Z",
     "start_time": "2024-01-18T10:14:16.241911Z"
    },
    "code_folding": [
     47,
     54
    ]
   },
   "outputs": [],
   "source": [
    "\"\"\"\n",
    "Some important indices you may wanna plot:\n",
    "- eigenvectors of SQRA\n",
    "\"\"\"\n",
    "\n",
    "class PostCalculationEvaluator:\n",
    "    \n",
    "    \"\"\"\n",
    "    Combine the following (read or use saved if you have it available):\n",
    "        - trajectory or pseudotrajectory (in form of mda Universe)\n",
    "        - energies\n",
    "        - full grid (FullGrid object)\n",
    "        - transition model(MSM or SQRA object)\n",
    "        \n",
    "    \n",
    "    \"\"\"\n",
    "    \n",
    "    def __init__(self, name_pt, default_atom_selection):\n",
    "        self.name_pt = name_pt\n",
    "        self.default_atom_selection = default_atom_selection\n",
    "        self.u = self.read_u_PT()\n",
    "        self.parsed_trajectory = self.read_parsed_trajectory_PT()\n",
    "        self.fg = self.read_fg_PT()\n",
    "        self.energy = self.read_energy_PT()\n",
    "        self.transition_model = self.read_sqra_PT()\n",
    "        \n",
    "        # just to check if everything is sane\n",
    "        self._assert_consistent_len()\n",
    "    \n",
    "    def _assert_consistent_len(self):\n",
    "        traj_len = len(self.u.trajectory)\n",
    "        fg_len = len(self.fg.get_full_grid_as_array())\n",
    "        energy_len = len(self.energy.energies)\n",
    "        sqra_len = len(self.transition_model.get_transitions_matrix()[0])\n",
    "        assert traj_len == fg_len == energy_len == sqra_len\n",
    "        \n",
    "    \"\"\"\n",
    "    --------------------------------------------------------------------------------------------------\n",
    "                               Readers to set up all necessary structures.\n",
    "    --------------------------------------------------------------------------------------------------\n",
    "    \"\"\"\n",
    "    \n",
    "    def __len__(self):\n",
    "        traj_len = len(self.u.trajectory)\n",
    "        return traj_len\n",
    "    \n",
    "    def read_u_PT(self):\n",
    "        return mda.Universe(f\"{PATH_OUTPUT_PT}{self.name_pt}.gro\", f\"{PATH_OUTPUT_PT}{self.name_pt}.xtc\")\n",
    "\n",
    "    def read_parsed_trajectory_PT(self):\n",
    "        pt_parser = FileParser(f\"{PATH_OUTPUT_PT}{self.name_pt}.gro\", f\"{PATH_OUTPUT_PT}{self.name_pt}.xtc\")\n",
    "        pt = pt_parser.get_parsed_trajectory(default_atom_selection=self.default_atom_selection)\n",
    "        pt.energies = self.read_energy_PT()\n",
    "        return pt\n",
    "\n",
    "    def read_fg_PT(self):\n",
    "\n",
    "        input_names = None\n",
    "        full_grid_name = None\n",
    "\n",
    "        # first step: read the name of the full grid from the log file\n",
    "        with open(f\"{PATH_OUTPUT_LOGGING}{self.name_pt}.log\") as f:\n",
    "            while input_names is None or full_grid_name is None:\n",
    "                line = f.readline()\n",
    "                if line.startswith(\"INFO:PtLogger:input grid parameters:\"):\n",
    "                    input_names = line.strip().split(\": \")[-1]\n",
    "                elif line.startswith(\"INFO:PtLogger:full grid name:\"):\n",
    "                    full_grid_name = line.strip().split(\": \")[-1]\n",
    "                    \n",
    "        self.grid_name = full_grid_name\n",
    "        \n",
    "        input_names = input_names.split(\" \")\n",
    "        t_input = \" \".join(input_names[2:])\n",
    "        fg = FullGrid(o_grid_name=input_names[0], b_grid_name=input_names[1], t_grid_name=t_input,\n",
    "                      use_saved=True)\n",
    "\n",
    "        # second step: load the .npy file with the found name\n",
    "        used_grid = np.load(f\"{OUTPUT_PLOTTING_DATA}get_full_grid_as_array_{full_grid_name}.npy\")\n",
    "\n",
    "        # third step: assert that this is actually the grid that has been used\n",
    "        assert np.allclose(used_grid, fg.get_full_grid_as_array())\n",
    "\n",
    "        return fg\n",
    "\n",
    "    def read_energy_PT(self):\n",
    "        my_parser = XVGParser(f\"/home/hanaz63/nobackup/gromacs/{self.name_pt}/{self.name_pt}.xvg\")\n",
    "        return my_parser.get_parsed_energy()\n",
    "\n",
    "    def read_sqra_PT(self):\n",
    "        sh = SimulationHistogram(self.parsed_trajectory, self.fg)\n",
    "        return SQRA(sh, use_saved=True)\n",
    "    \n",
    "    \"\"\"\n",
    "    --------------------------------------------------------------------------------------------------\n",
    "                               Getters to obtain important indices.\n",
    "    --------------------------------------------------------------------------------------------------\n",
    "    \"\"\"    \n",
    "    \n",
    "    def get_indices_k_lowest_energies(self, k: int, energy_type: str):\n",
    "        all_energies = self.energy.get_energies(energy_type)\n",
    "        return k_argmin_in_array(all_energies, k)\n",
    "    \n",
    "    def get_indices_neighbours_of_cell_i(self, i: int):\n",
    "        adj_array = csr_array(self.fg.get_full_adjacency())[:, [i]].toarray().T[0]\n",
    "        neighbour_indices = np.nonzero(adj_array)[0]\n",
    "        return neighbour_indices\n",
    "    \n",
    "    def get_indices_same_orientation(self, quaternion_grid_index: int):\n",
    "        num_positions = self.fg.o_rotations.get_N() * self.fg.t_grid.get_N_trans()\n",
    "        num_quaternions = self.fg.b_rotations.get_N()\n",
    "        \n",
    "        return list(range(quaternion_grid_index, len(self), num_quaternions))\n",
    "    \n",
    "    def get_indices_same_position(self, position_grid_index: int):\n",
    "        num_quaternions = self.fg.b_rotations.get_N()\n",
    "\n",
    "        return list(range(position_grid_index*num_quaternions, (position_grid_index+1)*num_quaternions))\n",
    "\n",
    "    \"\"\"\n",
    "    --------------------------------------------------------------------------------------------------\n",
    "                               Getters to obtain a measure of magnitude.\n",
    "    --------------------------------------------------------------------------------------------------\n",
    "    \"\"\"\n",
    "    \n",
    "    def get_magnitude_energy(self, energy_type: str):\n",
    "        return self.energy.get_energies(energy_type)\n",
    "    \n",
    "    def get_magnitude_ith_eigenvector(self, i: int):\n",
    "        evalu, evec = self.transition_model.get_eigenval_eigenvec()\n",
    "        my_eigenvector = evec[0].T[i]\n",
    "        return my_eigenvector\n",
    "\n",
    "\n",
    "\n",
    "class MplColorHelper:\n",
    "\n",
    "    def __init__(self):\n",
    "        self.cmap = matplotlib.cm.get_cmap('bwr')\n",
    "        self.norm = matplotlib.colors.TwoSlopeNorm(vcenter=0) #, vmax=5\n",
    "        self.scalarMap = matplotlib.cm.ScalarMappable(norm=self.norm, cmap=self.cmap)\n",
    "\n",
    "    def get_hex(self, val):\n",
    "        rgba = self.scalarMap.to_rgba(val)\n",
    "        return matplotlib.colors.rgb2hex(rgba)\n",
    "        "
   ]
  },
  {
   "cell_type": "markdown",
   "id": "aaf98765",
   "metadata": {},
   "source": [
    "### Example - show PT structures with 5 largest and 5 smallest potential energies"
   ]
  },
  {
   "cell_type": "code",
   "execution_count": 5,
   "id": "0fd47d3c",
   "metadata": {
    "ExecuteTime": {
     "end_time": "2024-01-18T10:14:16.898074Z",
     "start_time": "2024-01-18T10:14:16.255141Z"
    },
    "code_folding": [
     13
    ]
   },
   "outputs": [
    {
     "ename": "TypeError",
     "evalue": "SimulationHistogram.__init__() missing 3 required positional arguments: 'full_grid', 'energies', and 'second_molecule_selection'",
     "output_type": "error",
     "traceback": [
      "\u001b[0;31m---------------------------------------------------------------------------\u001b[0m",
      "\u001b[0;31mTypeError\u001b[0m                                 Traceback (most recent call last)",
      "Cell \u001b[0;32mIn[5], line 13\u001b[0m\n\u001b[1;32m      9\u001b[0m my_selection \u001b[38;5;241m=\u001b[39m \u001b[38;5;124m\"\u001b[39m\u001b[38;5;124mbynum 4:6\u001b[39m\u001b[38;5;124m\"\u001b[39m\n\u001b[1;32m     12\u001b[0m \u001b[38;5;66;03m# read everything from files \u001b[39;00m\n\u001b[0;32m---> 13\u001b[0m pce \u001b[38;5;241m=\u001b[39m \u001b[43mPostCalculationEvaluator\u001b[49m\u001b[43m(\u001b[49m\u001b[43mmy_name\u001b[49m\u001b[43m,\u001b[49m\u001b[43m \u001b[49m\u001b[43mmy_selection\u001b[49m\u001b[43m)\u001b[49m\n\u001b[1;32m     16\u001b[0m \u001b[38;5;66;03m# display\u001b[39;00m\n\u001b[1;32m     17\u001b[0m vm \u001b[38;5;241m=\u001b[39m ViewManager(pce\u001b[38;5;241m.\u001b[39mu)\n",
      "Cell \u001b[0;32mIn[4], line 25\u001b[0m, in \u001b[0;36mPostCalculationEvaluator.__init__\u001b[0;34m(self, name_pt, default_atom_selection)\u001b[0m\n\u001b[1;32m     23\u001b[0m \u001b[38;5;28mself\u001b[39m\u001b[38;5;241m.\u001b[39mfg \u001b[38;5;241m=\u001b[39m \u001b[38;5;28mself\u001b[39m\u001b[38;5;241m.\u001b[39mread_fg_PT()\n\u001b[1;32m     24\u001b[0m \u001b[38;5;28mself\u001b[39m\u001b[38;5;241m.\u001b[39menergy \u001b[38;5;241m=\u001b[39m \u001b[38;5;28mself\u001b[39m\u001b[38;5;241m.\u001b[39mread_energy_PT()\n\u001b[0;32m---> 25\u001b[0m \u001b[38;5;28mself\u001b[39m\u001b[38;5;241m.\u001b[39mtransition_model \u001b[38;5;241m=\u001b[39m \u001b[38;5;28;43mself\u001b[39;49m\u001b[38;5;241;43m.\u001b[39;49m\u001b[43mread_sqra_PT\u001b[49m\u001b[43m(\u001b[49m\u001b[43m)\u001b[49m\n\u001b[1;32m     27\u001b[0m \u001b[38;5;66;03m# just to check if everything is sane\u001b[39;00m\n\u001b[1;32m     28\u001b[0m \u001b[38;5;28mself\u001b[39m\u001b[38;5;241m.\u001b[39m_assert_consistent_len()\n",
      "Cell \u001b[0;32mIn[4], line 90\u001b[0m, in \u001b[0;36mPostCalculationEvaluator.read_sqra_PT\u001b[0;34m(self)\u001b[0m\n\u001b[1;32m     89\u001b[0m \u001b[38;5;28;01mdef\u001b[39;00m \u001b[38;5;21mread_sqra_PT\u001b[39m(\u001b[38;5;28mself\u001b[39m):\n\u001b[0;32m---> 90\u001b[0m     sh \u001b[38;5;241m=\u001b[39m \u001b[43mSimulationHistogram\u001b[49m\u001b[43m(\u001b[49m\u001b[38;5;28;43mself\u001b[39;49m\u001b[38;5;241;43m.\u001b[39;49m\u001b[43mparsed_trajectory\u001b[49m\u001b[43m,\u001b[49m\u001b[43m \u001b[49m\u001b[38;5;28;43mself\u001b[39;49m\u001b[38;5;241;43m.\u001b[39;49m\u001b[43mfg\u001b[49m\u001b[43m)\u001b[49m\n\u001b[1;32m     91\u001b[0m     \u001b[38;5;28;01mreturn\u001b[39;00m SQRA(sh, use_saved\u001b[38;5;241m=\u001b[39m\u001b[38;5;28;01mTrue\u001b[39;00m)\n",
      "\u001b[0;31mTypeError\u001b[0m: SimulationHistogram.__init__() missing 3 required positional arguments: 'full_grid', 'energies', and 'second_molecule_selection'"
     ]
    }
   ],
   "source": [
    "# EXAMPLE - \n",
    "\n",
    "# changeable parameters\n",
    "my_name1 = \"H2O\"\n",
    "my_name2 = \"H2O\"\n",
    "my_num = \"0099\"\n",
    "\n",
    "my_name = f\"{my_name1}_{my_name2}_{my_num}\"\n",
    "my_selection = \"bynum 4:6\"\n",
    "\n",
    "\n",
    "# read everything from files \n",
    "pce = PostCalculationEvaluator(my_name, my_selection)\n",
    "\n",
    "\n",
    "# display\n",
    "vm = ViewManager(pce.u)\n",
    "vm.fresh_view()\n",
    "\n",
    "# magnitudes\n",
    "mch = MplColorHelper()\n",
    "magnitudes = pce.get_magnitude_energy(\"Potential\")\n",
    "\n",
    "\n",
    "colors = np.array([mch.get_hex(mag) for mag in magnitudes])\n",
    "\n",
    "\n",
    "# 5 largest, 5 smallest\n",
    "num_extremes = 5\n",
    "argmin_index = k_argmin_in_array(magnitudes, num_extremes)\n",
    "argmax_index = k_argmax_in_array(magnitudes, num_extremes)\n",
    "both_index = [*argmax_index, *argmin_index]\n",
    "\n",
    "print(magnitudes[both_index])\n",
    "\n",
    "vm.plot_frames_overlapping(both_index, colors=colors[both_index], opacities=[0.5]*len(both_index))"
   ]
  },
  {
   "cell_type": "markdown",
   "id": "4ec0da0f",
   "metadata": {},
   "source": [
    "### Example - plot an eigenvector of SqRA"
   ]
  },
  {
   "cell_type": "code",
   "execution_count": 11,
   "id": "cb6839da",
   "metadata": {
    "ExecuteTime": {
     "end_time": "2024-01-16T09:19:01.768699Z",
     "start_time": "2024-01-16T09:18:47.529151Z"
    }
   },
   "outputs": [
    {
     "name": "stdout",
     "output_type": "stream",
     "text": [
      "[ 0.04037964  0.04410047  0.04660584  0.04643954  0.04623079  0.04595805\n",
      "  0.04513278  0.06340487  0.13230194  0.22122721  0.12195688  0.09654565\n",
      "  0.10670643  0.08554157  0.26173064  0.17983264  0.50564893  0.58696169\n",
      "  0.09340822  0.23770374 -0.16191115 -0.05852288 -0.05026359 -0.05038413\n",
      " -0.04650971 -0.05770409 -0.06182747 -0.04265221 -0.04951756 -0.04962655\n",
      " -0.04051547 -0.03982912 -0.03966136 -0.03870774 -0.03131237 -0.03124594\n",
      " -0.03849364 -0.03580822 -0.03108125 -0.03022683]\n"
     ]
    },
    {
     "data": {
      "application/vnd.jupyter.widget-view+json": {
       "model_id": "4789926cfb7c4656aff8bcb92ca0389e",
       "version_major": 2,
       "version_minor": 0
      },
      "text/plain": [
       "NGLWidget()"
      ]
     },
     "metadata": {},
     "output_type": "display_data"
    }
   ],
   "source": [
    "# EXAMPLE - eigenvector\n",
    "\n",
    "# display\n",
    "vm = ViewManager(pce.u)\n",
    "vm.fresh_view()\n",
    "\n",
    "# magnitudes\n",
    "mch = MplColorHelper()\n",
    "magnitudes = pce.get_magnitude_ith_eigenvector(2)\n",
    "\n",
    "colors = np.array([mch.get_hex(mag) for mag in magnitudes])\n",
    "\n",
    "\n",
    "# 5 largest, 5 smallest\n",
    "num_extremes = 20\n",
    "argmin_index = k_argmin_in_array(magnitudes, num_extremes)\n",
    "argmax_index = k_argmax_in_array(magnitudes, num_extremes)\n",
    "both_index = [*argmax_index, *argmin_index]\n",
    "\n",
    "print(magnitudes[both_index])\n",
    "\n",
    "vm.plot_frames_overlapping(both_index, colors=colors[both_index], opacities=[0.5]*len(both_index))\n",
    "vm.view"
   ]
  },
  {
   "cell_type": "code",
   "execution_count": 17,
   "id": "adfa3a35",
   "metadata": {
    "ExecuteTime": {
     "end_time": "2024-01-16T10:21:33.715688Z",
     "start_time": "2024-01-16T10:21:09.574135Z"
    },
    "scrolled": false
   },
   "outputs": [
    {
     "name": "stdout",
     "output_type": "stream",
     "text": [
      "[1573 1574 1575 1576 1577 1578 1579 1580 1581 1582 1583 1584 1585 1586\n",
      " 1587 1588 1589 1590 1591 1592 1593 1594 1595 1596 1597 1598 1599 1779\n",
      " 1780 1781 1782 1783 1784 1785 1786 1787 1788 1789 1790 1791 1792 1793\n",
      " 1794 1795 1796 1797 1798 1799 1800 1801]\n"
     ]
    },
    {
     "data": {
      "application/vnd.jupyter.widget-view+json": {
       "model_id": "2f296b149d1c45d09720c4b2a4ee0954",
       "version_major": 2,
       "version_minor": 0
      },
      "text/plain": [
       "NGLWidget()"
      ]
     },
     "metadata": {},
     "output_type": "display_data"
    }
   ],
   "source": [
    "# not PT\n",
    "my_path = \"/home/hanaz63/nobackup/gromacs/H2O_H2O_0095_2000/\"\n",
    "\n",
    "u_traj = mda.Universe(f\"{my_path}H2O_H2O_0095.gro\", f\"{my_path}fitted_output.xtc\")\n",
    "\n",
    "fg = FullGrid(o_grid_name=\"12\", b_grid_name=\"8\", t_grid_name=\"linspace(0.2, 1, 20)\", use_saved=True)\n",
    "\n",
    "\n",
    "\n",
    "my_path = \"/home/hanaz63/nobackup/gromacs/H2O_H2O_0095_2000/\"\n",
    "topology = f\"{my_path}H2O_H2O_0095.gro\"\n",
    "coordinates = f\"{my_path}fitted_output.xtc\"\n",
    "energy = f\"{my_path}full_energy.xvg\"\n",
    "\n",
    "# preparing the parsed trajectory\n",
    "my_parser = XVGParser(energy)\n",
    "pe = my_parser.get_parsed_energy()\n",
    "pt_parser = FileParser(\n",
    "    path_topology=topology,\n",
    "    path_trajectory=coordinates)\n",
    "parsed_trajectory = pt_parser.get_parsed_trajectory(default_atom_selection=\"bynum 4:6\")\n",
    "parsed_trajectory.energies = pe\n",
    "\n",
    "\n",
    "sm = SimulationHistogram(parsed_trajectory, fg)\n",
    "my_array1 = sm.get_all_assignments()\n",
    "\n",
    "cell_74 = np.where(my_array1==74)[0]\n",
    "print(cell_74)\n",
    "\n",
    "#view = nv.show_mdanalysis(u_traj)\n",
    "#view.add_unitcell()\n",
    "#view\n",
    "vm = ViewManager(u_traj)\n",
    "vm.fresh_view()\n",
    "vm.plot_frames_overlapping(cell_74)"
   ]
  },
  {
   "cell_type": "code",
   "execution_count": 19,
   "id": "0c7a739a",
   "metadata": {
    "ExecuteTime": {
     "end_time": "2024-01-16T10:21:44.697905Z",
     "start_time": "2024-01-16T10:21:40.967835Z"
    }
   },
   "outputs": [
    {
     "name": "stdout",
     "output_type": "stream",
     "text": [
      "[1059 1065 1064 1063 1298 1297 1296 1295 1294 1293 1292 1062 1061 1060\n",
      " 1056 1057 1058 1291 1299 1066]\n"
     ]
    },
    {
     "data": {
      "application/vnd.jupyter.widget-view+json": {
       "model_id": "b64cf0435daa4578b0934acc270118b7",
       "version_major": 2,
       "version_minor": 0
      },
      "text/plain": [
       "NGLWidget()"
      ]
     },
     "metadata": {},
     "output_type": "display_data"
    }
   ],
   "source": [
    "all_energies = parsed_trajectory.energies.get_energies(\"Potential\")\n",
    "lowest_E = k_argmin_in_array(all_energies, 20)\n",
    "print(lowest_E)\n",
    "vm.fresh_view()\n",
    "vm.plot_frames_overlapping(lowest_E)"
   ]
  },
  {
   "cell_type": "markdown",
   "id": "2a204108",
   "metadata": {},
   "source": [
    "## Classify full trajectories in cells of FullGrid"
   ]
  },
  {
   "cell_type": "code",
   "execution_count": 105,
   "id": "7532b992",
   "metadata": {
    "ExecuteTime": {
     "end_time": "2024-01-16T14:08:24.730467Z",
     "start_time": "2024-01-16T14:08:21.418624Z"
    }
   },
   "outputs": [
    {
     "name": "stdout",
     "output_type": "stream",
     "text": [
      "Warning! Voronoi objects can only be created for >=4 points\n",
      "(array([0, 1, 2, 3, 4, 5, 6, 7]), array([362, 108, 341, 279,  94, 298, 168, 351]))\n"
     ]
    }
   ],
   "source": [
    "from molgri.molecules.writers import PtIOManager\n",
    "\n",
    "from MDAnalysis.coordinates.memory import MemoryReader\n",
    "from MDAnalysis.analysis.base import AnalysisFromFunction\n",
    "\n",
    "def _extract_universe_second_molecule(original_universe, selection_criteria):\n",
    "    m2 = original_universe.select_atoms(selection_criteria)\n",
    "\n",
    "    coordinates = AnalysisFromFunction(lambda ag: ag.positions.copy(), m2).run().results['timeseries']\n",
    "    u2 = mda.Merge(m2)\n",
    "    u2.load_new(coordinates, format=MemoryReader)\n",
    "    return u2\n",
    "\n",
    "\n",
    "def assign_trajectory_2_quaternion_grid(trajectory_universe: mda.Universe, m1_name, m2_name, b_grid_name,\n",
    "                                       second_molecule_selection):\n",
    "    \n",
    "    # create PT on quaternion-only grid\n",
    "    manager = PtIOManager(m1_name, m2_name, o_grid_name=\"1\", b_grid_name=b_grid_name, \n",
    "                          t_grid_name=\"[0.1]\")\n",
    "    my_pt = manager.construct_pt()\n",
    "    my_pt_name = manager.get_name()\n",
    "    pt_sec_mol_universe = mda.Universe(f\"{PATH_OUTPUT_PT}{my_pt_name}.gro\", f\"{PATH_OUTPUT_PT}{my_pt_name}.xtc\")\n",
    "    \n",
    "    # in the real and pt trajectory, extract the second molecule and center it without rotating\n",
    "    trajectory_universe_m2 = _extract_universe_second_molecule(trajectory_universe, second_molecule_selection)\n",
    "    pt_universe_m2 = _extract_universe_second_molecule(pt_sec_mol_universe, second_molecule_selection)\n",
    "    # move them to center - curently doing that later\n",
    "    #workflow = [mda.transformations.center_in_box(real_traj_sec_mol.atoms, center=\"mass\", point=(0, 0, 0))]\n",
    "    #real_traj_sec_mol.trajectory.add_transformations(*workflow)\n",
    "    \n",
    "    # calculate RMSD between both\n",
    "    total_results = []\n",
    "    for i, ts in enumerate(pt_universe_m2.trajectory):\n",
    "        results = []\n",
    "        for j, ts2 in enumerate(trajectory_universe_m2.trajectory):\n",
    "            results.append(mda.analysis.rms.rmsd(real_traj_sec_mol.trajectory[j].positions, \n",
    "                                                 pt_sec_mol.trajectory[i].positions,\n",
    "                                                center=True, weights=real_traj_sec_mol.atoms.masses))\n",
    "        total_results.append(results)\n",
    "    total_results = np.array(total_results)\n",
    "    clases = np.argmin(total_results, axis=0)\n",
    "    return clases\n",
    "\n",
    "    \n",
    "\n",
    "my_cl = assign_trajectory_2_quaternion_grid(u_traj, \"H2O\", \"H2O\", \"8\", \"bynum 4:6\")\n",
    "print(np.unique(my_cl, return_counts=True))"
   ]
  },
  {
   "cell_type": "code",
   "execution_count": 99,
   "id": "724b9cb7",
   "metadata": {
    "ExecuteTime": {
     "end_time": "2024-01-16T13:41:15.672480Z",
     "start_time": "2024-01-16T13:41:15.615896Z"
    }
   },
   "outputs": [
    {
     "data": {
      "application/vnd.jupyter.widget-view+json": {
       "model_id": "a62f15776d614571ab26007c9a595574",
       "version_major": 2,
       "version_minor": 0
      },
      "text/plain": [
       "NGLWidget()"
      ]
     },
     "metadata": {},
     "output_type": "display_data"
    }
   ],
   "source": [
    "selected_class = 4\n",
    "\n",
    "vm = ViewManager(pt_sec_mol)\n",
    "vm.fresh_view()\n",
    "vm.plot_ith_frame(selected_class)\n"
   ]
  },
  {
   "cell_type": "code",
   "execution_count": 109,
   "id": "e42db939",
   "metadata": {
    "ExecuteTime": {
     "end_time": "2024-01-17T11:20:36.152707Z",
     "start_time": "2024-01-17T11:20:21.228638Z"
    }
   },
   "outputs": [
    {
     "data": {
      "application/vnd.jupyter.widget-view+json": {
       "model_id": "d8094022ff5c4ebaa76b0652b1ce9cb2",
       "version_major": 2,
       "version_minor": 0
      },
      "text/plain": [
       "NGLWidget()"
      ]
     },
     "metadata": {},
     "output_type": "display_data"
    },
    {
     "data": {
      "application/vnd.jupyter.widget-view+json": {
       "model_id": "abd4465b4061480ebea46779f139d442",
       "version_major": 2,
       "version_minor": 0
      },
      "text/plain": [
       "NGLWidget()"
      ]
     },
     "metadata": {},
     "output_type": "display_data"
    },
    {
     "data": {
      "application/vnd.jupyter.widget-view+json": {
       "model_id": "3c1bcd991af043de976f3f7720075493",
       "version_major": 2,
       "version_minor": 0
      },
      "text/plain": [
       "NGLWidget()"
      ]
     },
     "metadata": {},
     "output_type": "display_data"
    },
    {
     "name": "stderr",
     "output_type": "stream",
     "text": [
      "No such comm: d8094022ff5c4ebaa76b0652b1ce9cb2\n",
      "No such comm: d8094022ff5c4ebaa76b0652b1ce9cb2\n",
      "No such comm: d8094022ff5c4ebaa76b0652b1ce9cb2\n",
      "No such comm: d8094022ff5c4ebaa76b0652b1ce9cb2\n",
      "No such comm: abd4465b4061480ebea46779f139d442\n",
      "No such comm: abd4465b4061480ebea46779f139d442\n",
      "No such comm: abd4465b4061480ebea46779f139d442\n",
      "No such comm: abd4465b4061480ebea46779f139d442\n",
      "No such comm: abd4465b4061480ebea46779f139d442\n",
      "No such comm: abd4465b4061480ebea46779f139d442\n",
      "No such comm: abd4465b4061480ebea46779f139d442\n",
      "No such comm: 3c1bcd991af043de976f3f7720075493\n",
      "No such comm: 3c1bcd991af043de976f3f7720075493\n",
      "No such comm: 3c1bcd991af043de976f3f7720075493\n",
      "No such comm: 3c1bcd991af043de976f3f7720075493\n",
      "No such comm: 3c1bcd991af043de976f3f7720075493\n",
      "No such comm: 3c1bcd991af043de976f3f7720075493\n",
      "No such comm: 3c1bcd991af043de976f3f7720075493\n",
      "No such comm: d8094022ff5c4ebaa76b0652b1ce9cb2\n",
      "No such comm: abd4465b4061480ebea46779f139d442\n",
      "No such comm: 3c1bcd991af043de976f3f7720075493\n"
     ]
    }
   ],
   "source": [
    "for selected_class in range(8):\n",
    "    vm = ViewManager(real_traj_sec_mol)\n",
    "    vm.fresh_view()\n",
    "    vm.plot_frames_overlapping(np.where(clases==selected_class)[0][::20])\n",
    "    display(vm.view)"
   ]
  },
  {
   "cell_type": "code",
   "execution_count": null,
   "id": "29fb0587",
   "metadata": {
    "ExecuteTime": {
     "end_time": "2024-01-16T09:18:22.992938Z",
     "start_time": "2024-01-16T09:18:22.992917Z"
    }
   },
   "outputs": [],
   "source": [
    "# TODO: enable different colormaps\n",
    "# TODO: enable expressing magnitude as opacity\n",
    "# TODO: enable plotting only the most extrem values (most + and - for eigenvector)\n",
    "# TODO: plot eigenvectors and see if they are sensible\n",
    "# TODO: also plot 1D eigenvectors sorted by orientation/position\n",
    "# TODO: network flow plot for strongest rates?\n",
    "\n",
    "# TODO: make transition matrix determination faster and try it for a large matrix\n",
    "# TODO: HF forcefield and calculations\n",
    "# TODO: enable the same for plotting for simulations (real trajectories)"
   ]
  },
  {
   "cell_type": "code",
   "execution_count": null,
   "id": "9ec842f1",
   "metadata": {},
   "outputs": [],
   "source": [
    "# test: trying this for a pt\n"
   ]
  },
  {
   "cell_type": "code",
   "execution_count": 3,
   "id": "35c98acc",
   "metadata": {
    "ExecuteTime": {
     "end_time": "2024-01-17T14:32:26.676543Z",
     "start_time": "2024-01-17T14:32:16.181850Z"
    }
   },
   "outputs": [
    {
     "name": "stdout",
     "output_type": "stream",
     "text": [
      "Warning! Voronoi objects can only be created for >=4 points\n",
      "Warning! Simulation boxes of both molecules are different. Selecting the box of central molecule with dimensions [107.6529 107.6529 107.6529  90.      90.      90.    ]\n"
     ]
    }
   ],
   "source": [
    "my_fg = FullGrid(\"40\", \"42\", \"[1, 2, 3, 4]\")\n",
    "sh = SimulationHistogram(trajectory_path=PATH_OUTPUT_PT, trajectory_name=\"TRYP_NH3_0000\", full_grid=my_fg, \n",
    "                         energies=\"None\",\n",
    "                 second_molecule_selection=\"resname SOL\")\n",
    "assignments = sh.assign_trajectory_2_full_grid()"
   ]
  },
  {
   "cell_type": "code",
   "execution_count": 3,
   "id": "f729e881",
   "metadata": {
    "ExecuteTime": {
     "end_time": "2024-01-18T11:50:06.005610Z",
     "start_time": "2024-01-18T11:50:04.528163Z"
    },
    "scrolled": false
   },
   "outputs": [
    {
     "name": "stderr",
     "output_type": "stream",
     "text": [
      "No such comm: d4807c99056140798ada406c0d1efcb0\n",
      "No such comm: d4807c99056140798ada406c0d1efcb0\n",
      "No such comm: d4807c99056140798ada406c0d1efcb0\n",
      "No such comm: 8083121ab7a641c18f864b9be96aa6fd\n",
      "No such comm: 8083121ab7a641c18f864b9be96aa6fd\n",
      "No such comm: 8083121ab7a641c18f864b9be96aa6fd\n",
      "No such comm: 8083121ab7a641c18f864b9be96aa6fd\n",
      "No such comm: 8083121ab7a641c18f864b9be96aa6fd\n",
      "No such comm: 8083121ab7a641c18f864b9be96aa6fd\n",
      "No such comm: 8083121ab7a641c18f864b9be96aa6fd\n",
      "No such comm: 47578dbcf86f493184cfd5e801d52435\n",
      "No such comm: 47578dbcf86f493184cfd5e801d52435\n",
      "No such comm: 47578dbcf86f493184cfd5e801d52435\n",
      "No such comm: 47578dbcf86f493184cfd5e801d52435\n",
      "No such comm: 47578dbcf86f493184cfd5e801d52435\n",
      "No such comm: 47578dbcf86f493184cfd5e801d52435\n",
      "No such comm: 47578dbcf86f493184cfd5e801d52435\n",
      "No such comm: 5aef6b4fab224245b598630ce3d0d9e6\n",
      "No such comm: 5aef6b4fab224245b598630ce3d0d9e6\n",
      "No such comm: 5aef6b4fab224245b598630ce3d0d9e6\n",
      "No such comm: 5aef6b4fab224245b598630ce3d0d9e6\n",
      "No such comm: 5aef6b4fab224245b598630ce3d0d9e6\n",
      "No such comm: 5aef6b4fab224245b598630ce3d0d9e6\n",
      "No such comm: 5aef6b4fab224245b598630ce3d0d9e6\n",
      "No such comm: 5af2fdb87f6e42098eacefca06e46a57\n",
      "No such comm: 5af2fdb87f6e42098eacefca06e46a57\n",
      "No such comm: 5af2fdb87f6e42098eacefca06e46a57\n",
      "No such comm: 5af2fdb87f6e42098eacefca06e46a57\n",
      "No such comm: 5af2fdb87f6e42098eacefca06e46a57\n",
      "No such comm: 5af2fdb87f6e42098eacefca06e46a57\n",
      "No such comm: 5af2fdb87f6e42098eacefca06e46a57\n",
      "No such comm: 2e9dd2f330fb4ecea2c655509ba31117\n",
      "No such comm: 2e9dd2f330fb4ecea2c655509ba31117\n",
      "No such comm: 2e9dd2f330fb4ecea2c655509ba31117\n",
      "No such comm: 2e9dd2f330fb4ecea2c655509ba31117\n",
      "No such comm: 2e9dd2f330fb4ecea2c655509ba31117\n",
      "No such comm: 2e9dd2f330fb4ecea2c655509ba31117\n",
      "No such comm: 2e9dd2f330fb4ecea2c655509ba31117\n",
      "No such comm: 2337e286d96f49b9b522a018ce2cdd79\n",
      "No such comm: 2337e286d96f49b9b522a018ce2cdd79\n",
      "No such comm: 2337e286d96f49b9b522a018ce2cdd79\n",
      "No such comm: 2337e286d96f49b9b522a018ce2cdd79\n",
      "No such comm: 2337e286d96f49b9b522a018ce2cdd79\n",
      "No such comm: 2337e286d96f49b9b522a018ce2cdd79\n",
      "No such comm: 2337e286d96f49b9b522a018ce2cdd79\n",
      "No such comm: f24260274e0b42f79ce0919b0111dcab\n",
      "No such comm: f24260274e0b42f79ce0919b0111dcab\n",
      "No such comm: f24260274e0b42f79ce0919b0111dcab\n",
      "No such comm: f24260274e0b42f79ce0919b0111dcab\n",
      "No such comm: f24260274e0b42f79ce0919b0111dcab\n",
      "No such comm: f24260274e0b42f79ce0919b0111dcab\n",
      "No such comm: f24260274e0b42f79ce0919b0111dcab\n"
     ]
    },
    {
     "name": "stdout",
     "output_type": "stream",
     "text": [
      "[[ 0.5 -0.5 -0.5  0.5]\n",
      " [ 0.5 -0.5  0.5 -0.5]\n",
      " [ 0.5  0.5  0.5  0.5]\n",
      " [ 0.5  0.5 -0.5  0.5]\n",
      " [ 0.5 -0.5  0.5  0.5]]\n"
     ]
    },
    {
     "data": {
      "application/vnd.jupyter.widget-view+json": {
       "model_id": "3c45c8eabc8642a1b513de4d610f8992",
       "version_major": 2,
       "version_minor": 0
      },
      "text/plain": [
       "NGLWidget()"
      ]
     },
     "metadata": {},
     "output_type": "display_data"
    },
    {
     "data": {
      "application/vnd.jupyter.widget-view+json": {
       "model_id": "6f44e811716d4bb6a55fa73011f6c36c",
       "version_major": 2,
       "version_minor": 0
      },
      "text/plain": [
       "NGLWidget()"
      ]
     },
     "metadata": {},
     "output_type": "display_data"
    },
    {
     "data": {
      "application/vnd.jupyter.widget-view+json": {
       "model_id": "743e95e3927b4a8d820bf574438ec870",
       "version_major": 2,
       "version_minor": 0
      },
      "text/plain": [
       "NGLWidget()"
      ]
     },
     "metadata": {},
     "output_type": "display_data"
    },
    {
     "data": {
      "application/vnd.jupyter.widget-view+json": {
       "model_id": "589e4ae043c84ebdb302962d61b74abf",
       "version_major": 2,
       "version_minor": 0
      },
      "text/plain": [
       "NGLWidget()"
      ]
     },
     "metadata": {},
     "output_type": "display_data"
    },
    {
     "data": {
      "application/vnd.jupyter.widget-view+json": {
       "model_id": "81bc098608a342b5bc1483efb7cf8451",
       "version_major": 2,
       "version_minor": 0
      },
      "text/plain": [
       "NGLWidget()"
      ]
     },
     "metadata": {},
     "output_type": "display_data"
    },
    {
     "data": {
      "application/vnd.jupyter.widget-view+json": {
       "model_id": "56efe3aff82143099430312b6f9afbcf",
       "version_major": 2,
       "version_minor": 0
      },
      "text/plain": [
       "NGLWidget()"
      ]
     },
     "metadata": {},
     "output_type": "display_data"
    },
    {
     "data": {
      "application/vnd.jupyter.widget-view+json": {
       "model_id": "c4361515a1c34867993ea3492b084fda",
       "version_major": 2,
       "version_minor": 0
      },
      "text/plain": [
       "NGLWidget()"
      ]
     },
     "metadata": {},
     "output_type": "display_data"
    },
    {
     "data": {
      "application/vnd.jupyter.widget-view+json": {
       "model_id": "b1808988bcde4651b85a92da07aa677f",
       "version_major": 2,
       "version_minor": 0
      },
      "text/plain": [
       "NGLWidget()"
      ]
     },
     "metadata": {},
     "output_type": "display_data"
    },
    {
     "data": {
      "application/vnd.jupyter.widget-view+json": {
       "model_id": "8238ab1a2b6d497fbf8ee227b1c78381",
       "version_major": 2,
       "version_minor": 0
      },
      "text/plain": [
       "NGLWidget()"
      ]
     },
     "metadata": {},
     "output_type": "display_data"
    },
    {
     "data": {
      "application/vnd.jupyter.widget-view+json": {
       "model_id": "4bd52182a4af406883194faf3fa7ab91",
       "version_major": 2,
       "version_minor": 0
      },
      "text/plain": [
       "NGLWidget()"
      ]
     },
     "metadata": {},
     "output_type": "display_data"
    },
    {
     "data": {
      "application/vnd.jupyter.widget-view+json": {
       "model_id": "11cb097692594ebcabb4dd1e49ecac7f",
       "version_major": 2,
       "version_minor": 0
      },
      "text/plain": [
       "NGLWidget()"
      ]
     },
     "metadata": {},
     "output_type": "display_data"
    },
    {
     "data": {
      "application/vnd.jupyter.widget-view+json": {
       "model_id": "5d463a274d2c4d60847d011f95f32d56",
       "version_major": 2,
       "version_minor": 0
      },
      "text/plain": [
       "NGLWidget()"
      ]
     },
     "metadata": {},
     "output_type": "display_data"
    },
    {
     "data": {
      "application/vnd.jupyter.widget-view+json": {
       "model_id": "7718a30cd05d4b22b7d7891801a6100e",
       "version_major": 2,
       "version_minor": 0
      },
      "text/plain": [
       "NGLWidget()"
      ]
     },
     "metadata": {},
     "output_type": "display_data"
    },
    {
     "data": {
      "application/vnd.jupyter.widget-view+json": {
       "model_id": "4495269da64d4400ba47e3af3a53302e",
       "version_major": 2,
       "version_minor": 0
      },
      "text/plain": [
       "NGLWidget()"
      ]
     },
     "metadata": {},
     "output_type": "display_data"
    },
    {
     "data": {
      "application/vnd.jupyter.widget-view+json": {
       "model_id": "209663c1248b49dfa762df7f1ca5ab0d",
       "version_major": 2,
       "version_minor": 0
      },
      "text/plain": [
       "NGLWidget()"
      ]
     },
     "metadata": {},
     "output_type": "display_data"
    },
    {
     "data": {
      "application/vnd.jupyter.widget-view+json": {
       "model_id": "a9a23ff1714a41e3bc4af75446593226",
       "version_major": 2,
       "version_minor": 0
      },
      "text/plain": [
       "NGLWidget()"
      ]
     },
     "metadata": {},
     "output_type": "display_data"
    },
    {
     "data": {
      "application/vnd.jupyter.widget-view+json": {
       "model_id": "7fb8a6c9da704657841981e35f7f49c3",
       "version_major": 2,
       "version_minor": 0
      },
      "text/plain": [
       "NGLWidget()"
      ]
     },
     "metadata": {},
     "output_type": "display_data"
    },
    {
     "data": {
      "application/vnd.jupyter.widget-view+json": {
       "model_id": "8605f1437a814d52aecaae731d67bb49",
       "version_major": 2,
       "version_minor": 0
      },
      "text/plain": [
       "NGLWidget()"
      ]
     },
     "metadata": {},
     "output_type": "display_data"
    },
    {
     "data": {
      "application/vnd.jupyter.widget-view+json": {
       "model_id": "6ed7744e2ca34284b553937752ea3562",
       "version_major": 2,
       "version_minor": 0
      },
      "text/plain": [
       "NGLWidget()"
      ]
     },
     "metadata": {},
     "output_type": "display_data"
    },
    {
     "data": {
      "application/vnd.jupyter.widget-view+json": {
       "model_id": "f19e0c0d90ee4da08c2bf5e49d3aa4a3",
       "version_major": 2,
       "version_minor": 0
      },
      "text/plain": [
       "NGLWidget()"
      ]
     },
     "metadata": {},
     "output_type": "display_data"
    },
    {
     "data": {
      "application/vnd.jupyter.widget-view+json": {
       "model_id": "195a7dfbe78e4b1da635dfbefada4f9d",
       "version_major": 2,
       "version_minor": 0
      },
      "text/plain": [
       "NGLWidget()"
      ]
     },
     "metadata": {},
     "output_type": "display_data"
    },
    {
     "data": {
      "application/vnd.jupyter.widget-view+json": {
       "model_id": "ed723af646594fe2a8067efb5a151210",
       "version_major": 2,
       "version_minor": 0
      },
      "text/plain": [
       "NGLWidget()"
      ]
     },
     "metadata": {},
     "output_type": "display_data"
    },
    {
     "data": {
      "application/vnd.jupyter.widget-view+json": {
       "model_id": "88c4939e4960494eb7c53fb40eac4746",
       "version_major": 2,
       "version_minor": 0
      },
      "text/plain": [
       "NGLWidget()"
      ]
     },
     "metadata": {},
     "output_type": "display_data"
    },
    {
     "data": {
      "application/vnd.jupyter.widget-view+json": {
       "model_id": "bf8032533f064e9e90563299041c9d63",
       "version_major": 2,
       "version_minor": 0
      },
      "text/plain": [
       "NGLWidget()"
      ]
     },
     "metadata": {},
     "output_type": "display_data"
    },
    {
     "data": {
      "application/vnd.jupyter.widget-view+json": {
       "model_id": "ebe621ed2f85429ebd536ddfc1badf56",
       "version_major": 2,
       "version_minor": 0
      },
      "text/plain": [
       "NGLWidget()"
      ]
     },
     "metadata": {},
     "output_type": "display_data"
    },
    {
     "data": {
      "application/vnd.jupyter.widget-view+json": {
       "model_id": "e83c8a7ffb8e4334a05269e6e5c339b9",
       "version_major": 2,
       "version_minor": 0
      },
      "text/plain": [
       "NGLWidget()"
      ]
     },
     "metadata": {},
     "output_type": "display_data"
    },
    {
     "data": {
      "application/vnd.jupyter.widget-view+json": {
       "model_id": "b8e40f91d2c64d37b1447992ec69e8b7",
       "version_major": 2,
       "version_minor": 0
      },
      "text/plain": [
       "NGLWidget()"
      ]
     },
     "metadata": {},
     "output_type": "display_data"
    },
    {
     "data": {
      "application/vnd.jupyter.widget-view+json": {
       "model_id": "0e4ed10d4fab4dc59e3dba9ae17931d1",
       "version_major": 2,
       "version_minor": 0
      },
      "text/plain": [
       "NGLWidget()"
      ]
     },
     "metadata": {},
     "output_type": "display_data"
    },
    {
     "data": {
      "application/vnd.jupyter.widget-view+json": {
       "model_id": "34e45b11791f4c27b2f2beb82cb2d9f7",
       "version_major": 2,
       "version_minor": 0
      },
      "text/plain": [
       "NGLWidget()"
      ]
     },
     "metadata": {},
     "output_type": "display_data"
    },
    {
     "data": {
      "application/vnd.jupyter.widget-view+json": {
       "model_id": "a229ada58b2f4727b089a7b33a42b1e8",
       "version_major": 2,
       "version_minor": 0
      },
      "text/plain": [
       "NGLWidget()"
      ]
     },
     "metadata": {},
     "output_type": "display_data"
    },
    {
     "data": {
      "application/vnd.jupyter.widget-view+json": {
       "model_id": "23e5f2f954a7458d9bb41242c731fa1e",
       "version_major": 2,
       "version_minor": 0
      },
      "text/plain": [
       "NGLWidget()"
      ]
     },
     "metadata": {},
     "output_type": "display_data"
    },
    {
     "data": {
      "application/vnd.jupyter.widget-view+json": {
       "model_id": "8d1c47c763fc4e6c9c28e3b9f28f7362",
       "version_major": 2,
       "version_minor": 0
      },
      "text/plain": [
       "NGLWidget()"
      ]
     },
     "metadata": {},
     "output_type": "display_data"
    },
    {
     "data": {
      "application/vnd.jupyter.widget-view+json": {
       "model_id": "48a16647e09740d4974634107e636068",
       "version_major": 2,
       "version_minor": 0
      },
      "text/plain": [
       "NGLWidget()"
      ]
     },
     "metadata": {},
     "output_type": "display_data"
    },
    {
     "data": {
      "application/vnd.jupyter.widget-view+json": {
       "model_id": "784d9c965d434879becdffa69218e6f3",
       "version_major": 2,
       "version_minor": 0
      },
      "text/plain": [
       "NGLWidget()"
      ]
     },
     "metadata": {},
     "output_type": "display_data"
    },
    {
     "data": {
      "application/vnd.jupyter.widget-view+json": {
       "model_id": "f5fc2df13d5e4c77aa5b76d4f1a65301",
       "version_major": 2,
       "version_minor": 0
      },
      "text/plain": [
       "NGLWidget()"
      ]
     },
     "metadata": {},
     "output_type": "display_data"
    },
    {
     "data": {
      "application/vnd.jupyter.widget-view+json": {
       "model_id": "9140a49dc99c4a10955dab9607f8e6b0",
       "version_major": 2,
       "version_minor": 0
      },
      "text/plain": [
       "NGLWidget()"
      ]
     },
     "metadata": {},
     "output_type": "display_data"
    },
    {
     "name": "stdout",
     "output_type": "stream",
     "text": [
      "[ 1.20550284e-09  4.46962586e-08 -5.45609328e-08  1.00000000e+00]\n",
      "[1.04719754 1.04719749 1.04719756 1.04719749 1.04719761 1.04719755\n",
      " 1.04719761 1.04719756]\n",
      "[3 7 7 0 0 2 2 7 0 5 5 5 7 7 2 2 2 2 2 7 7 7 5 5 7 7 2 5 2 0 7 7 7 2 2 7]\n",
      "(array([0, 2, 3, 5, 7]), array([62, 74,  1, 58, 93]))\n"
     ]
    }
   ],
   "source": [
    "my_fg = FullGrid(\"8\", \"12\", \"[0.2, 0.3, 0.4]\")\n",
    "sh = SimulationHistogram(trajectory_path=PATH_OUTPUT_PT, trajectory_name=\"NH3_H2O_0000\", full_grid=my_fg,\n",
    "                         energies=\"None\",\n",
    "                         second_molecule_selection=\"bynum 5:7\")\n",
    "assignments = sh.get_quaternion_assignments()\n",
    "np.set_printoptions(threshold=sys.maxsize)\n",
    "print(assignments.astype(int)[::8])\n",
    "print(np.unique(assignments.astype(int), return_counts=True))"
   ]
  },
  {
   "cell_type": "code",
   "execution_count": null,
   "id": "a12a305d",
   "metadata": {},
   "outputs": [],
   "source": []
  }
 ],
 "metadata": {
  "kernelspec": {
   "display_name": "Python 3 (ipykernel)",
   "language": "python",
   "name": "python3"
  },
  "language_info": {
   "codemirror_mode": {
    "name": "ipython",
    "version": 3
   },
   "file_extension": ".py",
   "mimetype": "text/x-python",
   "name": "python",
   "nbconvert_exporter": "python",
   "pygments_lexer": "ipython3",
   "version": "3.11.5"
  },
  "toc": {
   "base_numbering": 1,
   "nav_menu": {},
   "number_sections": true,
   "sideBar": true,
   "skip_h1_title": true,
   "title_cell": "Table of Contents",
   "title_sidebar": "Contents",
   "toc_cell": true,
   "toc_position": {
    "height": "calc(100% - 180px)",
    "left": "10px",
    "top": "150px",
    "width": "384px"
   },
   "toc_section_display": true,
   "toc_window_display": true
  }
 },
 "nbformat": 4,
 "nbformat_minor": 5
}
