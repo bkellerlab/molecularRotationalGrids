{
 "cells": [
  {
   "cell_type": "markdown",
   "id": "0c87d6fb",
   "metadata": {
    "toc": true
   },
   "source": [
    "<h1>Table of Contents<span class=\"tocSkip\"></span></h1>\n",
    "<div class=\"toc\"><ul class=\"toc-item\"><li><span><a href=\"#Kleines-Beispiel\" data-toc-modified-id=\"Kleines-Beispiel-1\"><span class=\"toc-item-num\">1&nbsp;&nbsp;</span>Kleines Beispiel</a></span></li></ul></div>"
   ]
  },
  {
   "cell_type": "code",
   "execution_count": 1,
   "id": "18199c31",
   "metadata": {
    "ExecuteTime": {
     "end_time": "2024-01-09T10:37:15.533130Z",
     "start_time": "2024-01-09T10:37:15.529599Z"
    }
   },
   "outputs": [],
   "source": [
    "import sys\n",
    "import os\n",
    "\n",
    "try:\n",
    "    os.chdir(r\"/home/hanaz63/PAPER_MOLECULAR_ROTATIONS_2022/nobackup/molgri\")\n",
    "    sys.path.append(r\"/home/hanaz63/PAPER_MOLECULAR_ROTATIONS_2022/nobackup\")\n",
    "except FileNotFoundError:\n",
    "    os.chdir(r\"D:\\HANA\\phD\\PAPER_2022\\molecularRotationalGrids\")\n",
    "    sys.path.append(r\"D:\\HANA\\phD\\PAPER_2022\\molecularRotationalGrids\")\n",
    "    \n",
    "import warnings\n",
    "warnings.filterwarnings(\"ignore\")"
   ]
  },
  {
   "cell_type": "code",
   "execution_count": 6,
   "id": "1db27c89",
   "metadata": {
    "ExecuteTime": {
     "end_time": "2024-01-09T10:46:23.374974Z",
     "start_time": "2024-01-09T10:46:23.369280Z"
    }
   },
   "outputs": [],
   "source": [
    "import nglview as nv\n",
    "import MDAnalysis as mda\n",
    "import numpy as np\n",
    "import time\n",
    "import ipywidgets as widgets\n",
    "from scipy.sparse import csr_array\n",
    "from numpy.typing import NDArray\n",
    "\n",
    "from molgri.paths import PATH_OUTPUT_PT, OUTPUT_PLOTTING_DATA, PATH_OUTPUT_LOGGING\n",
    "from molgri.space.fullgrid import FullGrid"
   ]
  },
  {
   "cell_type": "markdown",
   "id": "bce4f5dc",
   "metadata": {},
   "source": [
    "Erstmals: wir brauchen eine HF Monomer Datai."
   ]
  },
  {
   "cell_type": "code",
   "execution_count": 4,
   "id": "ddbd786a",
   "metadata": {
    "ExecuteTime": {
     "end_time": "2024-01-09T10:21:19.340833Z",
     "start_time": "2024-01-09T10:21:19.336807Z"
    }
   },
   "outputs": [],
   "source": [
    "%pycat input/HF.xyz"
   ]
  },
  {
   "cell_type": "markdown",
   "id": "878db759",
   "metadata": {},
   "source": [
    "Nun lass zwei PTs (klein, groß) produzieren:\n",
    "- klein: -o 42 -t \"linspace(0.1, 0.4, 10)\" -b 8\n",
    "- groß: -o 162 -t \"linspace(0.1, 0.4, 20)\" -b 40"
   ]
  },
  {
   "cell_type": "markdown",
   "id": "13158cd0",
   "metadata": {},
   "source": [
    "## Kleines Beispiel\n",
    "- obtain full grid\n",
    "- show full grid coordinates per frame in the corner"
   ]
  },
  {
   "cell_type": "code",
   "execution_count": 3,
   "id": "9e0cb62c",
   "metadata": {
    "ExecuteTime": {
     "end_time": "2024-01-09T10:37:18.970585Z",
     "start_time": "2024-01-09T10:37:18.963601Z"
    }
   },
   "outputs": [],
   "source": [
    "small_name = \"HF_HF_0010\"\n",
    "b_grid = \"8\"\n",
    "o_grid = \"12\"\n",
    "t_grid = \"linspace(0.2, 0.4, 3)\""
   ]
  },
  {
   "cell_type": "code",
   "execution_count": 4,
   "id": "38cc018a",
   "metadata": {
    "ExecuteTime": {
     "end_time": "2024-01-09T10:37:20.054712Z",
     "start_time": "2024-01-09T10:37:19.428149Z"
    }
   },
   "outputs": [
    {
     "name": "stdout",
     "output_type": "stream",
     "text": [
      "Saved the log file to output/data/logging/HF_HF_0010.log\n",
      "Saved pseudo-trajectory to output/data/pt_files/HF_HF_0010.xtc and structure file to output/data/pt_files/HF_HF_0010.gro\n",
      "Timing the generation of Pt HF_HF_0010: 0:00:00.479715 hours:minutes:seconds\n"
     ]
    }
   ],
   "source": [
    "%run molgri/scripts/generate_pt.py -m1 HF -m2 HF --recalculate -o $o_grid -b $b_grid -t \"linspace(0.2, 0.4, 3)\""
   ]
  },
  {
   "cell_type": "code",
   "execution_count": 7,
   "id": "c70d3f97",
   "metadata": {
    "ExecuteTime": {
     "end_time": "2024-01-09T11:03:24.526239Z",
     "start_time": "2024-01-09T11:03:23.957432Z"
    },
    "code_folding": [
     21,
     41
    ]
   },
   "outputs": [
    {
     "name": "stdout",
     "output_type": "stream",
     "text": [
      "Frame 5\n",
      "FullGrid coordinates [-1.7 , 0.  , 1.05, 0.5 , 0.5 , 0.5 ,-0.5 ]\n",
      "The point 5 has 10 neighbours, here is the list:\n",
      "[-1.7 , 0.  , 1.05, 0.5 ,-0.5 ,-0.5 , 0.5 ]\n",
      "[-1.7 , 0.  , 1.05, 0.5 ,-0.5 , 0.5 ,-0.5 ]\n",
      "[-1.7 , 0.  , 1.05, 0.5 , 0.5 , 0.5 , 0.5 ]\n",
      "[-1.7 , 0.  , 1.05, 0.5 , 0.5 ,-0.5 ,-0.5 ]\n",
      "[-1.05,-1.7 , 0.  , 0.5 , 0.5 , 0.5 ,-0.5 ]\n",
      "[ 0.  ,-1.05, 1.7 , 0.5 , 0.5 , 0.5 ,-0.5 ]\n",
      "[-1.05, 1.7 , 0.  , 0.5 , 0.5 , 0.5 ,-0.5 ]\n",
      "[-1.7 , 0.  ,-1.05, 0.5 , 0.5 , 0.5 ,-0.5 ]\n",
      "[ 0.  , 1.05, 1.7 , 0.5 , 0.5 , 0.5 ,-0.5 ]\n",
      "[-2.55, 0.  , 1.58, 0.5 , 0.5 , 0.5 ,-0.5 ]\n"
     ]
    },
    {
     "data": {
      "application/vnd.jupyter.widget-view+json": {
       "model_id": "72510b2729c6470386d43ec50de3ad25",
       "version_major": 2,
       "version_minor": 0
      },
      "text/plain": [
       "HBox(children=(NGLWidget(layout=Layout(width='200px')), NGLWidget(layout=Layout(width='200px')), NGLWidget(lay…"
      ]
     },
     "metadata": {},
     "output_type": "display_data"
    }
   ],
   "source": [
    "class PTFrameAnalyser:\n",
    "    \n",
    "    \"\"\"\n",
    "    Visualise frames and important information from PT using NGLView. Reads PTs from saved files.\n",
    "    \"\"\"\n",
    "    \n",
    "    def __init__(self, name_pt: str, o_input: str, b_input: str, t_input: str):\n",
    "        \"\"\"\n",
    "        Args:\n",
    "            - name_pt: Name that is given to the PT files, usually in the form <molecule 1>_<molecule 2>_<4-number index>\n",
    "                       or selected by the user\n",
    "            - o_input: a string given as user input to create rotations around origin, e.g. \"15\" or \"ico_15\"\n",
    "            - b_input: a string given as user input to create rotations around body, e.g. \"42\" or \"cube4D_42\"\n",
    "            - t_input: a string given as user input to create translations, e.g. \"[0.1, 0.2]\" or \"range(1, 5, 3)\"\n",
    "        \"\"\"\n",
    "        \n",
    "        self.name_pt = name_pt\n",
    "        self.u = mda.Universe(f\"{PATH_OUTPUT_PT}{self.name_pt}.gro\", f\"{PATH_OUTPUT_PT}{self.name_pt}.xtc\")\n",
    "        self.fg = FullGrid(o_grid_name=o_input, b_grid_name=b_input, t_grid_name=t_input, use_saved=True)\n",
    "        self._check_grid_correct()\n",
    "    \n",
    "    def _check_grid_correct(self):\n",
    "        \"\"\"\n",
    "        Since we re-construct the FullGrid object to access all of its methods, we perform a quick check that the\n",
    "        newly constructed grid actually has the same coordinates as the grid that has been saved during construction\n",
    "        of the pseudotrajectory.\n",
    "        \"\"\"\n",
    "        # first step: read the name of the full grid from a PT log file\n",
    "        with open(f\"{PATH_OUTPUT_LOGGING}{self.name_pt}.log\") as f:\n",
    "            while True:\n",
    "                line = f.readline()\n",
    "                if line.startswith(\"INFO:PtLogger:full grid name:\"):\n",
    "                    full_grid_name = line.strip().split(\": \")[-1]\n",
    "                    break\n",
    "                    \n",
    "        # second step: load the .npy file with the found name\n",
    "        used_grid = np.load(f\"{OUTPUT_PLOTTING_DATA}get_full_grid_as_array_{full_grid_name}.npy\")\n",
    "        \n",
    "        # third step: assert that this is actually the grid that has been used\n",
    "        assert np.allclose(used_grid, self.fg.get_full_grid_as_array())\n",
    "        \n",
    "    def _get_neig_indices(self, i: int) -> NDArray:\n",
    "        \"\"\"\n",
    "        Given an index from full grid, get indices of points that are neighbours.\n",
    "        \n",
    "        Args:\n",
    "            - i: index of the point (row in full grid array)\n",
    "        \"\"\"\n",
    "        adj_array = csr_array(self.fg.get_full_adjacency())[:, [i]].toarray().T[0]\n",
    "        neighbour_indices = np.nonzero(adj_array)[0]\n",
    "        return neighbour_indices\n",
    "        \n",
    "    \n",
    "    def plot_all_neighours_of_i(self, i: int):\n",
    "        \"\"\"\n",
    "        Given an index from full grid, plot the PT frames corresponding to the neighbouring points.\n",
    "        \n",
    "        Args:\n",
    "            - i: index of the point (row in full grid array)\n",
    "        \"\"\"\n",
    "        neighbour_indices = self._get_neig_indices(i)\n",
    "        \n",
    "        # settings that are important so that rows with too many images nicely overflow in the next row\n",
    "        box = widgets.HBox(layout=widgets.Layout(width='100%',display='inline-flex',flex_flow='row wrap'))\n",
    "        box.overflow_x = 'auto'\n",
    "        \n",
    "        all_views = []\n",
    "        for neig_i in neighbour_indices:\n",
    "            # opaque plot of the original structure (point i)\n",
    "            neig_view = self.plot_ith_frame(i, opacity=0.5)\n",
    "            # full coverage plot of the neighbour structure\n",
    "            neig_view = self.plot_ith_frame(neig_i, view=neig_view)\n",
    "            # this is also important for nice arragement of figures\n",
    "            neig_view.layout.width = \"200px\"\n",
    "            all_views.append(neig_view)\n",
    "        \n",
    "        # sync all views (so that all plots move if you move any)\n",
    "        for v in all_views:\n",
    "            v._set_sync_camera(all_views)\n",
    "        \n",
    "        box.children=[i for i in all_views]\n",
    "        display(box)\n",
    "        \n",
    "                \n",
    "    def _get_fullgrid_name(self):\n",
    "        \"\"\"\n",
    "        NOT IN USE CURRENTLY\n",
    "        Read from the .log file to obtain the name of the used FullGrid.\n",
    "        \"\"\"\n",
    "        with open(f\"{PATH_OUTPUT_LOGGING}{self.name_pt}.log\") as f:\n",
    "            while True:\n",
    "                line = f.readline()\n",
    "                if line.startswith(\"INFO:PtLogger:full grid name:\"):\n",
    "                    return line.strip().split(\": \")[-1]\n",
    "        \n",
    "    \n",
    "    def get_ith_frame(self, i: int) -> mda.Universe:\n",
    "        \"\"\"\n",
    "        Get the Universe object containing of all the atoms in the PT but only a single frame (i-th frame).\n",
    "        \"\"\"\n",
    "        self.u.trajectory[i]\n",
    "        all_atoms = self.u.select_atoms('all')\n",
    "        new_u = mda.Merge(self.u.atoms)\n",
    "        return new_u\n",
    "\n",
    "    \n",
    "    def plot_side_by_side(self, view1, view2):\n",
    "        \"\"\"\n",
    "        Plot two NGLView views side by side.\n",
    "        \n",
    "        \"\"\"\n",
    "        # Adjust layout to center both molecules\n",
    "        view1.layout.width = 'auto'\n",
    "        view2.layout.width = 'auto'\n",
    "        view1._set_sync_camera([view2])\n",
    "        view2._set_sync_camera([view1])\n",
    "\n",
    "\n",
    "        hbox = widgets.HBox([view1, view2])\n",
    "        \n",
    "                \n",
    "        # TODO: link cameras of both views\n",
    "        mylink = widgets.jslink((view1, 'frame'), (view2, 'frame'))\n",
    "\n",
    "        # Display the HBox\n",
    "        display(hbox)\n",
    "\n",
    "    \n",
    "    def _add_coordinate_axes(self, view):\n",
    "        \"\"\"\n",
    "        Add the x, y and z axes at origin to a NGLView.\n",
    "        \"\"\"\n",
    "        \n",
    "        # arguments of add_arrow are: start position, end position, color (in RGB), radius of arrow head\n",
    "        # arguments of add_label are: position, color (in RGB), size, text\n",
    "        \n",
    "        # X-axis is red\n",
    "        view.shape.add_arrow([0, 0, 0], [1, 0, 0],[ 1, 0, 0 ], 0.1)\n",
    "        view.shape.add_label([1, 0, 0], [1, 0, 0], 1.5, 'x')\n",
    "        \n",
    "        # Y-axis is green\n",
    "        view.shape.add_arrow([0, 0, 0], [0, 1, 0],[0, 1, 0 ], 0.1)\n",
    "        view.shape.add_label([0, 1, 0], [0, 1, 0], 1.5, 'y')\n",
    "        \n",
    "        # Z-axis is blue\n",
    "        view.shape.add_arrow([0, 0, 0], [0, 0, 1],[0, 0, 1 ], 0.1)\n",
    "        view.shape.add_label([0, 0, 1], [0, 0, 1], 1.5, 'z')\n",
    "\n",
    "    def plot_ith_frame(self, i: int, view=None, axes: bool = True, **kwargs):\n",
    "        \"\"\"\n",
    "        Plot i-th frame of PT\n",
    "        \n",
    "        Args:\n",
    "            - i: index of the point (row in full grid array)\n",
    "            - view: if NGLView is given, a new figure will be added to it; else a new view is created\n",
    "            - axes: if True, draw x, y and z axes\n",
    "        \"\"\"\n",
    "        ith_atoms = self.get_ith_frame(i)\n",
    "        \n",
    "        if view is None:\n",
    "            view = nv.show_mdanalysis(ith_atoms, default_representation=False)\n",
    "            view.add_ball_and_stick(**kwargs)\n",
    "        else:\n",
    "            view.add_component(ith_atoms, **kwargs)\n",
    "        if axes:\n",
    "            self._add_coordinate_axes(view)\n",
    "        \n",
    "        return view\n",
    "    \n",
    "    def print_ith_information(self, i):\n",
    "        \"\"\"\n",
    "        Print out important information about the i-th point of PT\n",
    "        \"\"\"\n",
    "        all_points = self.fg.get_full_grid_as_array()\n",
    "        ith_fg_coo = np.array2string(all_points[i], precision=2, suppress_small=True, separator=\",\")\n",
    "        print(f\"Frame {i}\")\n",
    "        print(f\"FullGrid coordinates {ith_fg_coo}\")\n",
    "        \n",
    "        neighbours = self._get_neig_indices(i)\n",
    "        print(f\"The point {i} has {len(neighbours)} neighbours, here is the list:\")\n",
    "        for n_index in neighbours:\n",
    "            print(np.array2string(all_points[n_index], precision=2, suppress_small=True, separator=\",\"))\n",
    "        \n",
    "\n",
    "pta = PTFrameAnalyser(small_name, b_input=b_grid, o_input=o_grid, t_input=t_grid)\n",
    "#view1 = pta.plot_ith_frame(15)\n",
    "#view2 = pta.plot_ith_frame(75)\n",
    "#pta.plot_side_by_side(view1, view2)\n",
    "pta.print_ith_information(5)\n",
    "pta.plot_all_neighours_of_i(5)"
   ]
  },
  {
   "cell_type": "code",
   "execution_count": null,
   "id": "334e65ca",
   "metadata": {
    "ExecuteTime": {
     "end_time": "2024-01-08T11:35:06.014418Z",
     "start_time": "2024-01-08T11:35:06.014418Z"
    }
   },
   "outputs": [],
   "source": [
    "view1 = pta.plot_ith_frame(15)\n",
    "view2 = pta.plot_ith_frame(75)"
   ]
  },
  {
   "cell_type": "code",
   "execution_count": null,
   "id": "a326b285",
   "metadata": {
    "ExecuteTime": {
     "end_time": "2024-01-08T11:35:06.016412Z",
     "start_time": "2024-01-08T11:35:06.016412Z"
    }
   },
   "outputs": [],
   "source": [
    "pta.plot_side_by_side(view1, view2)"
   ]
  },
  {
   "cell_type": "markdown",
   "id": "d9e65850",
   "metadata": {},
   "source": [
    "- plot neighbours\n",
    "- plot structures with largest phasespace volumes"
   ]
  },
  {
   "cell_type": "code",
   "execution_count": 89,
   "id": "948a4d8d",
   "metadata": {
    "ExecuteTime": {
     "end_time": "2024-01-08T13:39:48.271236Z",
     "start_time": "2024-01-08T13:39:48.185472Z"
    }
   },
   "outputs": [
    {
     "data": {
      "application/vnd.jupyter.widget-view+json": {
       "model_id": "7ae3dcd0add144f5ad80154ee0154740",
       "version_major": 2,
       "version_minor": 0
      },
      "text/plain": [
       "HBox(children=(Checkbox(value=False, description='Checkbox [0]'), Checkbox(value=False, description='Checkbox …"
      ]
     },
     "metadata": {},
     "output_type": "display_data"
    }
   ],
   "source": [
    "import ipywidgets as widgets\n",
    "from ipywidgets import *\n",
    "from IPython.display import display\n",
    "\n",
    "num_checks = 50\n",
    "\n",
    "cb_cont = HBox(layout=Layout(width='100%',display='inline-flex',flex_flow='row wrap'))\n",
    "#cb_cont.overflow_x = 'scroll'\n",
    "\n",
    "checkboxes = []\n",
    "for f in range(num_checks):\n",
    "    checkboxes.append(\\\n",
    "        widgets.Checkbox(description = 'Checkbox [%d]'%(f), \\\n",
    "                     value=False, width=50))\n",
    "\n",
    "cb_cont.children=[i for i in checkboxes]\n",
    "display(cb_cont)\n"
   ]
  },
  {
   "cell_type": "code",
   "execution_count": null,
   "id": "b6ccf651",
   "metadata": {},
   "outputs": [],
   "source": []
  }
 ],
 "metadata": {
  "kernelspec": {
   "display_name": "Python 3 (ipykernel)",
   "language": "python",
   "name": "python3"
  },
  "language_info": {
   "codemirror_mode": {
    "name": "ipython",
    "version": 3
   },
   "file_extension": ".py",
   "mimetype": "text/x-python",
   "name": "python",
   "nbconvert_exporter": "python",
   "pygments_lexer": "ipython3",
   "version": "3.11.5"
  },
  "toc": {
   "base_numbering": 1,
   "nav_menu": {},
   "number_sections": true,
   "sideBar": true,
   "skip_h1_title": true,
   "title_cell": "Table of Contents",
   "title_sidebar": "Contents",
   "toc_cell": true,
   "toc_position": {
    "height": "calc(100% - 180px)",
    "left": "10px",
    "top": "150px",
    "width": "384px"
   },
   "toc_section_display": true,
   "toc_window_display": true
  }
 },
 "nbformat": 4,
 "nbformat_minor": 5
}
