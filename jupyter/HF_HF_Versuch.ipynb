{
 "cells": [
  {
   "cell_type": "markdown",
   "id": "71cf9fbf",
   "metadata": {
    "toc": true
   },
   "source": [
    "<h1>Table of Contents<span class=\"tocSkip\"></span></h1>\n",
    "<div class=\"toc\"><ul class=\"toc-item\"><li><span><a href=\"#A-tool-to-visualize-trajectory-frames:-ViewManager\" data-toc-modified-id=\"A-tool-to-visualize-trajectory-frames:-ViewManager-1\"><span class=\"toc-item-num\">1&nbsp;&nbsp;</span>A tool to visualize trajectory frames: ViewManager</a></span><ul class=\"toc-item\"><li><span><a href=\"#Example---show-all-neighbours-of-a-structure\" data-toc-modified-id=\"Example---show-all-neighbours-of-a-structure-1.1\"><span class=\"toc-item-num\">1.1&nbsp;&nbsp;</span>Example - show all neighbours of a structure</a></span></li><li><span><a href=\"#Example---show-PT-structures-with-5-largest-and-5-smallest-potential-energies\" data-toc-modified-id=\"Example---show-PT-structures-with-5-largest-and-5-smallest-potential-energies-1.2\"><span class=\"toc-item-num\">1.2&nbsp;&nbsp;</span>Example - show PT structures with 5 largest and 5 smallest potential energies</a></span></li><li><span><a href=\"#Example---plot-an-eigenvector-of-SqRA\" data-toc-modified-id=\"Example---plot-an-eigenvector-of-SqRA-1.3\"><span class=\"toc-item-num\">1.3&nbsp;&nbsp;</span>Example - plot an eigenvector of SqRA</a></span></li></ul></li><li><span><a href=\"#Classify-full-trajectories-in-cells-of-FullGrid\" data-toc-modified-id=\"Classify-full-trajectories-in-cells-of-FullGrid-2\"><span class=\"toc-item-num\">2&nbsp;&nbsp;</span>Classify full trajectories in cells of FullGrid</a></span></li><li><span><a href=\"#Assigning-trajectories-to-a-FullGrid-cell\" data-toc-modified-id=\"Assigning-trajectories-to-a-FullGrid-cell-3\"><span class=\"toc-item-num\">3&nbsp;&nbsp;</span>Assigning trajectories to a FullGrid cell</a></span><ul class=\"toc-item\"><li><span><a href=\"#Test:-assigning-PT-to-a-FullGrid\" data-toc-modified-id=\"Test:-assigning-PT-to-a-FullGrid-3.1\"><span class=\"toc-item-num\">3.1&nbsp;&nbsp;</span>Test: assigning PT to a FullGrid</a></span></li><li><span><a href=\"#Assigning-a-real-trajectory-fo-a-FullGrid\" data-toc-modified-id=\"Assigning-a-real-trajectory-fo-a-FullGrid-3.2\"><span class=\"toc-item-num\">3.2&nbsp;&nbsp;</span>Assigning a real trajectory fo a FullGrid</a></span></li></ul></li></ul></div>"
   ]
  },
  {
   "cell_type": "code",
   "execution_count": 1,
   "id": "8eae7ada",
   "metadata": {
    "ExecuteTime": {
     "end_time": "2024-01-22T14:53:33.623030Z",
     "start_time": "2024-01-22T14:53:33.607374Z"
    }
   },
   "outputs": [],
   "source": [
    "import sys\n",
    "import os\n",
    "\n",
    "try:\n",
    "    os.chdir(r\"/home/hanaz63/PAPER_MOLECULAR_ROTATIONS_2022/nobackup/molgri\")\n",
    "    sys.path.append(r\"/home/hanaz63/PAPER_MOLECULAR_ROTATIONS_2022/nobackup\")\n",
    "except FileNotFoundError:\n",
    "    os.chdir(r\"D:\\HANA\\phD\\PAPER_2022\\molecularRotationalGrids\")\n",
    "    sys.path.append(r\"D:\\HANA\\phD\\PAPER_2022\\molecularRotationalGrids\")\n",
    "    \n",
    "import warnings\n",
    "warnings.filterwarnings(\"ignore\")"
   ]
  },
  {
   "cell_type": "code",
   "execution_count": 2,
   "id": "80a3c641",
   "metadata": {
    "ExecuteTime": {
     "end_time": "2024-01-22T14:53:36.263299Z",
     "start_time": "2024-01-22T14:53:34.473462Z"
    }
   },
   "outputs": [
    {
     "data": {
      "application/vnd.jupyter.widget-view+json": {
       "model_id": "8118aa6883e94a199a295b46400c554f",
       "version_major": 2,
       "version_minor": 0
      },
      "text/plain": []
     },
     "metadata": {},
     "output_type": "display_data"
    }
   ],
   "source": [
    "import nglview as nv\n",
    "import MDAnalysis as mda\n",
    "import numpy as np\n",
    "import time\n",
    "from scipy.sparse import csr_array\n",
    "from numpy.typing import NDArray\n",
    "import matplotlib\n",
    "import pandas as pd\n",
    "import matplotlib.pyplot as plt\n",
    "from IPython.core.display import display\n",
    "\n",
    "from molgri.molecules.transitions import SimulationHistogram, MSM, SQRA\n",
    "from molgri.plotting.molecule_plots import TrajectoryPlot\n",
    "from molgri.molecules.parsers import FileParser, ParsedEnergy, XVGParser\n",
    "from molgri.paths import PATH_OUTPUT_PT, PATH_OUTPUT_LOGGING, PATH_OUTPUT_ENERGIES\n",
    "from molgri.space.fullgrid import FullGrid\n",
    "from molgri.space.utils import k_argmin_in_array, k_argmax_in_array\n",
    "from molgri.plotting.widgets import ViewManager, sync_all_views, display_all_views"
   ]
  },
  {
   "cell_type": "markdown",
   "id": "e1a60585",
   "metadata": {},
   "source": [
    "## A tool to visualize trajectory frames: ViewManager\n",
    "\n",
    "- in Jupyter, using nglview\n",
    "- input: mda.Universe and one or more indices along the trajectory\n",
    "- output: frames plotted sequentially or overlapping, color/opacity indicating a property, moving simutanously"
   ]
  },
  {
   "cell_type": "code",
   "execution_count": 3,
   "id": "7973a587",
   "metadata": {
    "ExecuteTime": {
     "end_time": "2024-01-22T14:53:42.163347Z",
     "start_time": "2024-01-22T14:53:41.958311Z"
    }
   },
   "outputs": [],
   "source": [
    "fg_assigning = FullGrid(\"8\", \"12\", \"linspace(0.2, 1, 5)\")\n",
    "sh_pt = SimulationHistogram(\"H2O_H2O_0179\", is_pt=True, second_molecule_selection=\"bynum 4:6\",\n",
    "                           full_grid=fg_assigning)\n",
    "\n",
    "sh_traj = SimulationHistogram(\"H2O_H2O_0095_2000\", is_pt=False, second_molecule_selection=\"bynum 4:6\",\n",
    "                             full_grid=fg_assigning)"
   ]
  },
  {
   "cell_type": "markdown",
   "id": "e04c6df8",
   "metadata": {},
   "source": [
    "### Example - show all neighbours of a structure"
   ]
  },
  {
   "cell_type": "code",
   "execution_count": 12,
   "id": "4592f1f7",
   "metadata": {
    "ExecuteTime": {
     "end_time": "2024-01-22T14:13:35.441128Z",
     "start_time": "2024-01-22T14:11:59.957121Z"
    },
    "scrolled": true
   },
   "outputs": [
    {
     "data": {
      "application/vnd.jupyter.widget-view+json": {
       "model_id": "1ef9d3e7fe71483ea6a29594cbc7738c",
       "version_major": 2,
       "version_minor": 0
      },
      "text/plain": [
       "Box(children=(NGLWidget(layout=Layout(width='200px')), NGLWidget(layout=Layout(width='200px')), NGLWidget(layo…"
      ]
     },
     "metadata": {},
     "output_type": "display_data"
    },
    {
     "name": "stdout",
     "output_type": "stream",
     "text": [
      "[  40   52   59   61   70   79  996 1167 1177 1195 1280 1292 1297 1299\n",
      " 1368 1372 1390   84  100  103  113  118 1004 1022 1028 1029 1033 1038\n",
      " 1138 1140 1142 1143 1158 1206 1393  165  172  181  186  645 1245 1253\n",
      " 1254 1270 1645 1648 1652 1665 1679  200  230  233  235  518  528  540\n",
      "  543  550 1310 1313  201  214  221  222  519  541  542  545  547 1266\n",
      " 1279 1308  206  217  223  237  517  526  537  539  555  556  557 1263\n",
      " 1286 1317  202  211  227  232  531  533  534  544 1264 1305 1312  241\n",
      "  254  262  274  521  554  654  661  666  674 1100 1102 1107 1114 1121\n",
      "  444  448  456  463  470  486  490  495  503  510  924 1324 1330 1335\n",
      " 1343 1350 1404 1408 1425 1430 1887 1893 1908 1909 1911 1916 2182 2196\n",
      " 2207 2229 2927 2933 2948 2967 2991 2995 3567 3573 3588 3589 3591 3596\n",
      " 3876 3887 3909 3911 4607 4622 4647 4669 4671 4675]\n"
     ]
    },
    {
     "data": {
      "application/vnd.jupyter.widget-view+json": {
       "model_id": "396b80fa36ea4817a31550c5de4aa1d0",
       "version_major": 2,
       "version_minor": 0
      },
      "text/plain": [
       "NGLWidget(layout=Layout(width='400px'))"
      ]
     },
     "metadata": {},
     "output_type": "display_data"
    },
    {
     "data": {
      "text/plain": [
       "None"
      ]
     },
     "metadata": {},
     "output_type": "display_data"
    }
   ],
   "source": [
    "# EXAMPLE - neighbours\n",
    "\n",
    "# display the structure assigned to cell 42\n",
    "vm = ViewManager(sh_pt.trajectory_universe)\n",
    "view1 = vm.plot_frames_overlapping(np.where(sh_pt.get_full_assignments==42))\n",
    "\n",
    "\n",
    "\n",
    "# display its neighbours\n",
    "vm.fresh_view()\n",
    "view2 = vm.plot_frames_sequential(sh_pt.get_indices_neighbours_of_cell_i(42))\n",
    "\n",
    "display(view1)\n",
    "display(view2)"
   ]
  },
  {
   "cell_type": "markdown",
   "id": "cd8c08f7",
   "metadata": {},
   "source": [
    "### Example - show PT structures with 5 largest and 5 smallest potential energies"
   ]
  },
  {
   "cell_type": "code",
   "execution_count": 8,
   "id": "42d62459",
   "metadata": {
    "ExecuteTime": {
     "end_time": "2024-01-22T12:06:53.070830Z",
     "start_time": "2024-01-22T12:06:43.950238Z"
    },
    "code_folding": [
     13
    ]
   },
   "outputs": [
    {
     "data": {
      "application/vnd.jupyter.widget-view+json": {
       "model_id": "560c406b00874d718fb41bdc9ee3b880",
       "version_major": 2,
       "version_minor": 0
      },
      "text/plain": [
       "Box(children=(NGLWidget(), NGLWidget()), layout=Layout(display='inline-flex', flex_flow='row wrap', width='100…"
      ]
     },
     "metadata": {},
     "output_type": "display_data"
    }
   ],
   "source": [
    "# EXAMPLE - \n",
    "\n",
    "\n",
    "# display\n",
    "vm = ViewManager(sh_pt.trajectory_universe)\n",
    "vm.fresh_view()\n",
    "\n",
    "# magnitudes\n",
    "magnitudes = sh_pt.get_magnitude_energy(\"Potential\")\n",
    "\n",
    "\n",
    "# 5 structures with largest energies\n",
    "num_extremes = 5\n",
    "argmax_index = k_argmax_in_array(magnitudes, num_extremes)\n",
    "vm.set_color_magnitude(magnitudes)\n",
    "view1 = vm.plot_frames_overlapping(argmax_index, opacities=0.5)\n",
    "\n",
    "# 5 structures with smallest energies\n",
    "vm.fresh_view()\n",
    "argmin_index = k_argmin_in_array(magnitudes, num_extremes)\n",
    "vm.set_color_magnitude(magnitudes)\n",
    "view2 = vm.plot_frames_overlapping(argmin_index, opacities=0.5)\n",
    "\n",
    "# show both\n",
    "sync_all_views([view1, view2])\n",
    "display_all_views([view1, view2])"
   ]
  },
  {
   "cell_type": "markdown",
   "id": "65d7071f",
   "metadata": {},
   "source": [
    "### Example - plot an eigenvector of SqRA"
   ]
  },
  {
   "cell_type": "code",
   "execution_count": 9,
   "id": "0a2e2183",
   "metadata": {
    "ExecuteTime": {
     "end_time": "2024-01-22T14:59:39.803275Z",
     "start_time": "2024-01-22T14:59:35.103654Z"
    }
   },
   "outputs": [
    {
     "name": "stdout",
     "output_type": "stream",
     "text": [
      "[0.32088194 0.31841515 0.30690529 0.23430171 0.22326534 0.22977829\n",
      " 0.2529025  0.28965793 0.22184255 0.19105415 0.20871622 0.21656429\n",
      " 0.         0.21658457 0.21239331 0.15860029 0.01809449 0.20813282\n",
      " 0.19099017 0.0256329 ] 1.0842021724855044e-19 -0.12393969050971629 -0.035308544757159464\n"
     ]
    },
    {
     "data": {
      "application/vnd.jupyter.widget-view+json": {
       "model_id": "a3682dbb895942a69869138085652fbf",
       "version_major": 2,
       "version_minor": 0
      },
      "text/plain": [
       "NGLWidget()"
      ]
     },
     "metadata": {},
     "output_type": "display_data"
    }
   ],
   "source": [
    "# EXAMPLE - eigenvector 0\n",
    "\n",
    "# display\n",
    "vm = ViewManager(sh_pt.trajectory_universe)\n",
    "vm.fresh_view()\n",
    "\n",
    "# magnitudes\n",
    "#mch = MplColorHelper()\n",
    "magnitudes = sh_pt.get_magnitude_ith_eigenvector(0)\n",
    "vm.set_opacity_magnitude(magnitudes)\n",
    "\n",
    "\n",
    "\n",
    "# 5 largest, 5 smallest\n",
    "num_extremes = 20\n",
    "argmax_index = k_argmax_in_array(np.abs(magnitudes), num_extremes)\n",
    "\n",
    "print(vm.current_opacities[argmax_index], np.max(magnitudes), np.min(magnitudes), np.average(magnitudes))\n",
    "\n",
    "vm.plot_frames_overlapping(argmax_index)\n",
    "vm.view"
   ]
  },
  {
   "cell_type": "markdown",
   "id": "320ef94e",
   "metadata": {},
   "source": [
    "## Classify full trajectories in cells of FullGrid"
   ]
  },
  {
   "cell_type": "code",
   "execution_count": 11,
   "id": "ef43b26a",
   "metadata": {
    "ExecuteTime": {
     "end_time": "2024-01-22T15:02:39.573123Z",
     "start_time": "2024-01-22T15:02:31.479646Z"
    }
   },
   "outputs": [
    {
     "name": "stdout",
     "output_type": "stream",
     "text": [
      "There are 26 frames in this position class.\n"
     ]
    },
    {
     "data": {
      "application/vnd.jupyter.widget-view+json": {
       "model_id": "96201424e9054a3999cfbdb18bbf1eff",
       "version_major": 2,
       "version_minor": 0
      },
      "text/plain": [
       "NGLWidget()"
      ]
     },
     "metadata": {},
     "output_type": "display_data"
    }
   ],
   "source": [
    "# find assignments to particular position class\n",
    "selected_class = 4\n",
    "in_this_position_class = sh_traj.get_indices_same_position(selected_class)\n",
    "print(f\"There are {len(in_this_position_class )} frames in this position class.\")\n",
    "\n",
    "vm = ViewManager(sh_traj.trajectory_universe)\n",
    "vm.fresh_view()\n",
    "\n",
    "vm.plot_frames_overlapping(sh_traj.get_indices_same_position(selected_class))\n",
    "vm.view"
   ]
  },
  {
   "cell_type": "code",
   "execution_count": 20,
   "id": "f8ecc176",
   "metadata": {
    "ExecuteTime": {
     "end_time": "2024-01-22T15:11:15.041253Z",
     "start_time": "2024-01-22T15:11:10.287255Z"
    }
   },
   "outputs": [
    {
     "name": "stdout",
     "output_type": "stream",
     "text": [
      "There are 2090 frames in this orientation class (only plotting a subset).\n"
     ]
    },
    {
     "data": {
      "application/vnd.jupyter.widget-view+json": {
       "model_id": "01ebbe16be084aaf99b8bff20cc2a349",
       "version_major": 2,
       "version_minor": 0
      },
      "text/plain": [
       "NGLWidget()"
      ]
     },
     "metadata": {},
     "output_type": "display_data"
    }
   ],
   "source": [
    "# find assignments to particular orientation class\n",
    "selected_class = 2\n",
    "in_this_position_class = sh_pt.get_indices_same_orientation(selected_class)\n",
    "print(f\"There are {len(in_this_position_class )} frames in this orientation class (only plotting a subset).\")\n",
    "\n",
    "vm = ViewManager(sh_pt.trajectory_universe)\n",
    "vm.fresh_view()\n",
    "vm.plot_frames_overlapping(np.random.choice(in_this_position_class, 20), opacities=0.8)\n",
    "vm.view"
   ]
  },
  {
   "cell_type": "code",
   "execution_count": 22,
   "id": "c3877335",
   "metadata": {
    "ExecuteTime": {
     "end_time": "2024-01-22T15:12:31.001645Z",
     "start_time": "2024-01-22T15:12:28.632596Z"
    }
   },
   "outputs": [
    {
     "name": "stdout",
     "output_type": "stream",
     "text": [
      "There are 14 frames in this cell.\n"
     ]
    },
    {
     "data": {
      "application/vnd.jupyter.widget-view+json": {
       "model_id": "4e1d53f89d954135b633eaedb6b37086",
       "version_major": 2,
       "version_minor": 0
      },
      "text/plain": [
       "NGLWidget()"
      ]
     },
     "metadata": {},
     "output_type": "display_data"
    }
   ],
   "source": [
    "# find assignments to one cell of full grid\n",
    "selected_class = 250\n",
    "in_this_class = sh_pt.get_indices_same_cell(selected_class)\n",
    "print(f\"There are {len(in_this_class )} frames in this cell.\")\n",
    "\n",
    "vm = ViewManager(sh_pt.trajectory_universe)\n",
    "vm.fresh_view()\n",
    "vm.plot_frames_overlapping(in_this_class, opacities=0.8)\n",
    "vm.view"
   ]
  },
  {
   "cell_type": "code",
   "execution_count": null,
   "id": "10e30247",
   "metadata": {
    "ExecuteTime": {
     "end_time": "2024-01-19T16:17:09.436488Z",
     "start_time": "2024-01-19T16:17:09.436481Z"
    }
   },
   "outputs": [],
   "source": [
    "\n",
    "# TODO: enable expressing magnitude as opacity\n",
    "# TODO: enable plotting only the most extrem values (most + and - for eigenvector)\n",
    "# TODO: plot eigenvectors and see if they are sensible\n",
    "# TODO: also plot 1D eigenvectors sorted by orientation/position\n",
    "# TODO: network flow plot for strongest rates?\n",
    "\n",
    "# TODO: make transition matrix determination faster and try it for a large matrix\n",
    "# TODO: HF forcefield and calculations\n",
    "# TODO: enable the same for plotting for simulations (real trajectories)"
   ]
  },
  {
   "cell_type": "markdown",
   "id": "33f2b76b",
   "metadata": {},
   "source": [
    "## Assigning trajectories to a FullGrid cell\n",
    "- input: (pseudo)trajectory and a FullGrid of choice\n",
    "- assign structures to position, orientation or full classes (cells of FullGrid) \n"
   ]
  },
  {
   "cell_type": "markdown",
   "id": "5a3ddb8c",
   "metadata": {},
   "source": [
    "### Test: assigning PT to a FullGrid\n",
    "\n",
    "- if assigning to its own fg, assignments should be 1:1\n",
    "- if assigning to a smaller fg, an uniform number per cell is expected"
   ]
  },
  {
   "cell_type": "code",
   "execution_count": null,
   "id": "fd221f6f",
   "metadata": {
    "ExecuteTime": {
     "end_time": "2024-01-19T16:17:09.437182Z",
     "start_time": "2024-01-19T16:17:09.437173Z"
    }
   },
   "outputs": [],
   "source": [
    "evaluation_fg = FullGrid(\"40\", \"42\", \"linspace(0.2, 1.5, 10)\")\n",
    "\n",
    "# this pt was generated with fg = FullGrid(\"40\", \"42\", \"linspace(0.2, 1.5, 10)\")\n",
    "my_pt_name = \"H2O_H2O_0179\"\n",
    "\n",
    "sh = SimulationHistogram(my_pt_name, full_grid=evaluation_fg, second_molecule_selection=\"bynum 4:6\")\n",
    "np.set_printoptions(threshold=sys.maxsize)"
   ]
  },
  {
   "cell_type": "code",
   "execution_count": null,
   "id": "fbbdb587",
   "metadata": {
    "ExecuteTime": {
     "end_time": "2024-01-19T16:17:09.437925Z",
     "start_time": "2024-01-19T16:17:09.437917Z"
    }
   },
   "outputs": [],
   "source": [
    "assignments = sh.get_position_assignments()\n",
    "natural_numbers = np.array(range(len(sh.full_grid.get_position_grid_as_array())))\n",
    "natural_numbers = np.repeat(natural_numbers, sh.full_grid.b_rotations.get_N())\n",
    "\n",
    "assert np.all(assignments == natural_numbers)\n",
    "\n",
    "assignments = sh.get_quaternion_assignments()\n",
    "natural_numbers = np.array(range(sh.full_grid.b_rotations.get_N()))\n",
    "natural_numbers = np.tile(natural_numbers, len(sh.full_grid.get_position_grid_as_array()))\n",
    "\n",
    "for el1, el2 in zip(assignments, natural_numbers):\n",
    "    print(el1, el2)\n",
    "    #pass\n",
    "\n",
    "#assignments = sh.get_full_assignments()\n",
    "#natural_numbers = np.array(range(len(assignments)))\n",
    "\n",
    "#for el1, el2 in zip(assignments, natural_numbers):\n",
    "#    print(el1, el2)"
   ]
  },
  {
   "cell_type": "markdown",
   "id": "cff6e5f5",
   "metadata": {},
   "source": [
    "### Assigning a real trajectory fo a FullGrid"
   ]
  },
  {
   "cell_type": "code",
   "execution_count": null,
   "id": "0c34f929",
   "metadata": {
    "ExecuteTime": {
     "end_time": "2024-01-19T16:17:09.438575Z",
     "start_time": "2024-01-19T16:17:09.438567Z"
    },
    "scrolled": false
   },
   "outputs": [],
   "source": [
    "my_fg = FullGrid(\"8\", \"12\", \"[0.3, 0.6, 0.9, 1.2]\")\n",
    "sh_traj = SimulationHistogram(\"H2O_H2O_0095_2000\", full_grid=my_fg, second_molecule_selection=\"bynum 4:6\")\n"
   ]
  },
  {
   "cell_type": "code",
   "execution_count": null,
   "id": "ca1acbba",
   "metadata": {
    "ExecuteTime": {
     "end_time": "2024-01-19T16:17:09.439111Z",
     "start_time": "2024-01-19T16:17:09.439103Z"
    },
    "scrolled": false
   },
   "outputs": [],
   "source": [
    "# most populated cells \n",
    "assignments = sh_traj.get_full_assignments()\n",
    "my_indices, my_counts = np.unique(assignments.astype(int), return_counts=True)\n",
    "most_populated_cells = my_indices[k_argmax_in_array(my_counts, 5)]\n",
    "vm = ViewManager(sh.trajectory_universe)\n",
    "for selected_class in most_populated_cells:\n",
    "    vm.fresh_view()\n",
    "    vm.plot_frames_overlapping(np.where(assignments==selected_class)[0][::10])\n",
    "    display(vm.view)"
   ]
  },
  {
   "cell_type": "code",
   "execution_count": null,
   "id": "de1e60f6",
   "metadata": {
    "ExecuteTime": {
     "end_time": "2024-01-19T16:17:09.445501Z",
     "start_time": "2024-01-19T16:17:09.445485Z"
    }
   },
   "outputs": [],
   "source": [
    "# are the most populated cells also the ones with lowest average energy?\n",
    "# maybe not because the size of the cell strongly affects the population\n",
    "all_popular_frames = []\n",
    "full_assignments = sh_traj.get_full_assignments().astype(int)\n",
    "my_indices, my_counts = np.unique(full_assignments, return_counts=True)\n",
    "most_populated_cells = my_indices[k_argmax_in_array(my_counts, 3)]\n",
    "for populated_cell in most_populated_cells:\n",
    "    belongs_to_this = np.where(sh_traj.get_full_assignments()==populated_cell)[0]\n",
    "    all_popular_frames.extend(belongs_to_this)\n",
    "\n",
    "cell_volumes = np.array(sh_traj.full_grid.get_total_volumes())\n",
    "volume_per_assignment = cell_volumes[full_assignments]\n",
    "\n",
    "pot_energy = energies.get_energies(\"Potential\")/volume_per_assignment\n",
    "print(\"Popular frames energy\", np.min(pot_energy[all_popular_frames]), np.average(pot_energy[all_popular_frames]),\n",
    "     np.max(pot_energy[all_popular_frames]))\n",
    "print(\"All frames energy\", np.min(pot_energy), np.average(pot_energy),\n",
    "     np.max(pot_energy))"
   ]
  },
  {
   "cell_type": "code",
   "execution_count": null,
   "id": "06c24c2f",
   "metadata": {
    "ExecuteTime": {
     "end_time": "2024-01-19T16:17:09.446464Z",
     "start_time": "2024-01-19T16:17:09.446455Z"
    },
    "scrolled": false
   },
   "outputs": [],
   "source": [
    "from molgri.plotting.transition_plots import TransitionPlot\n",
    "my_msm = MSM(sh, energies)\n",
    "my_tp = TransitionPlot(my_msm)\n",
    "my_tp.plot_heatmap(save=False)"
   ]
  },
  {
   "cell_type": "code",
   "execution_count": null,
   "id": "6c972b8a",
   "metadata": {
    "ExecuteTime": {
     "end_time": "2024-01-19T16:17:09.447208Z",
     "start_time": "2024-01-19T16:17:09.447200Z"
    }
   },
   "outputs": [],
   "source": [
    "my_tp.plot_its(save=False)"
   ]
  },
  {
   "cell_type": "code",
   "execution_count": null,
   "id": "8546409c",
   "metadata": {},
   "outputs": [],
   "source": []
  }
 ],
 "metadata": {
  "kernelspec": {
   "display_name": "Python 3 (ipykernel)",
   "language": "python",
   "name": "python3"
  },
  "language_info": {
   "codemirror_mode": {
    "name": "ipython",
    "version": 3
   },
   "file_extension": ".py",
   "mimetype": "text/x-python",
   "name": "python",
   "nbconvert_exporter": "python",
   "pygments_lexer": "ipython3",
   "version": "3.9.13"
  },
  "toc": {
   "base_numbering": 1,
   "nav_menu": {},
   "number_sections": true,
   "sideBar": true,
   "skip_h1_title": true,
   "title_cell": "Table of Contents",
   "title_sidebar": "Contents",
   "toc_cell": true,
   "toc_position": {
    "height": "calc(100% - 180px)",
    "left": "10px",
    "top": "150px",
    "width": "384px"
   },
   "toc_section_display": true,
   "toc_window_display": true
  }
 },
 "nbformat": 4,
 "nbformat_minor": 5
}
