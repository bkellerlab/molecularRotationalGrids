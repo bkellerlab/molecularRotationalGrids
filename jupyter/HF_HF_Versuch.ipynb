{
 "cells": [
  {
   "cell_type": "markdown",
   "id": "8b594e0d",
   "metadata": {
    "toc": true
   },
   "source": [
    "<h1>Table of Contents<span class=\"tocSkip\"></span></h1>\n",
    "<div class=\"toc\"><ul class=\"toc-item\"><li><span><a href=\"#A-tool-to-visualize-trajectory-frames:-ViewManager\" data-toc-modified-id=\"A-tool-to-visualize-trajectory-frames:-ViewManager-1\"><span class=\"toc-item-num\">1&nbsp;&nbsp;</span>A tool to visualize trajectory frames: ViewManager</a></span><ul class=\"toc-item\"><li><span><a href=\"#Example---show-all-neighbours-of-a-structure\" data-toc-modified-id=\"Example---show-all-neighbours-of-a-structure-1.1\"><span class=\"toc-item-num\">1.1&nbsp;&nbsp;</span>Example - show all neighbours of a structure</a></span></li><li><span><a href=\"#Example---show-PT-structures-with-5-largest-and-5-smallest-potential-energies\" data-toc-modified-id=\"Example---show-PT-structures-with-5-largest-and-5-smallest-potential-energies-1.2\"><span class=\"toc-item-num\">1.2&nbsp;&nbsp;</span>Example - show PT structures with 5 largest and 5 smallest potential energies</a></span></li><li><span><a href=\"#Example---plot-an-eigenvector-of-SqRA\" data-toc-modified-id=\"Example---plot-an-eigenvector-of-SqRA-1.3\"><span class=\"toc-item-num\">1.3&nbsp;&nbsp;</span>Example - plot an eigenvector of SqRA</a></span></li></ul></li><li><span><a href=\"#Classify-full-trajectories-in-cells-of-FullGrid\" data-toc-modified-id=\"Classify-full-trajectories-in-cells-of-FullGrid-2\"><span class=\"toc-item-num\">2&nbsp;&nbsp;</span>Classify full trajectories in cells of FullGrid</a></span></li><li><span><a href=\"#Assigning-trajectories-to-a-FullGrid-cell\" data-toc-modified-id=\"Assigning-trajectories-to-a-FullGrid-cell-3\"><span class=\"toc-item-num\">3&nbsp;&nbsp;</span>Assigning trajectories to a FullGrid cell</a></span><ul class=\"toc-item\"><li><span><a href=\"#Test:-assigning-PT-to-a-FullGrid\" data-toc-modified-id=\"Test:-assigning-PT-to-a-FullGrid-3.1\"><span class=\"toc-item-num\">3.1&nbsp;&nbsp;</span>Test: assigning PT to a FullGrid</a></span></li><li><span><a href=\"#Assigning-a-real-trajectory-fo-a-FullGrid\" data-toc-modified-id=\"Assigning-a-real-trajectory-fo-a-FullGrid-3.2\"><span class=\"toc-item-num\">3.2&nbsp;&nbsp;</span>Assigning a real trajectory fo a FullGrid</a></span></li></ul></li></ul></div>"
   ]
  },
  {
   "cell_type": "code",
   "execution_count": 1,
   "id": "6924ee40",
   "metadata": {
    "ExecuteTime": {
     "end_time": "2024-02-21T09:55:47.976384Z",
     "start_time": "2024-02-21T09:55:47.972608Z"
    }
   },
   "outputs": [],
   "source": [
    "import sys\n",
    "import os\n",
    "\n",
    "try:\n",
    "    os.chdir(r\"/home/hanaz63/PAPER_MOLECULAR_ROTATIONS_2022/nobackup/molgri\")\n",
    "    sys.path.append(r\"/home/hanaz63/PAPER_MOLECULAR_ROTATIONS_2022/nobackup\")\n",
    "except FileNotFoundError:\n",
    "    os.chdir(r\"D:\\HANA\\phD\\PAPER_2022\\molecularRotationalGrids\")\n",
    "    sys.path.append(r\"D:\\HANA\\phD\\PAPER_2022\\molecularRotationalGrids\")\n",
    "    \n",
    "import warnings\n",
    "warnings.filterwarnings(\"ignore\")"
   ]
  },
  {
   "cell_type": "code",
   "execution_count": 2,
   "id": "689606f6",
   "metadata": {
    "ExecuteTime": {
     "end_time": "2024-02-21T09:55:51.641663Z",
     "start_time": "2024-02-21T09:55:48.588628Z"
    }
   },
   "outputs": [
    {
     "data": {
      "application/vnd.jupyter.widget-view+json": {
       "model_id": "d466825cccbf4ffbbe469b7fa715b3ad",
       "version_major": 2,
       "version_minor": 0
      },
      "text/plain": []
     },
     "metadata": {},
     "output_type": "display_data"
    }
   ],
   "source": [
    "import nglview as nv\n",
    "import MDAnalysis as mda\n",
    "import numpy as np\n",
    "import time\n",
    "from scipy.sparse import csr_array\n",
    "from numpy.typing import NDArray\n",
    "import matplotlib\n",
    "import pandas as pd\n",
    "import matplotlib.pyplot as plt\n",
    "from IPython.core.display import display\n",
    "\n",
    "from molgri.molecules.transitions import SimulationHistogram, MSM, SQRA\n",
    "from molgri.plotting.molecule_plots import TrajectoryPlot\n",
    "from molgri.molecules.parsers import FileParser, ParsedEnergy, XVGParser\n",
    "from molgri.paths import PATH_OUTPUT_PT, PATH_OUTPUT_LOGGING, PATH_OUTPUT_ENERGIES\n",
    "from molgri.space.fullgrid import FullGrid\n",
    "from molgri.space.utils import k_argmin_in_array, k_argmax_in_array\n",
    "from molgri.plotting.widgets import ViewManager, sync_all_views, display_all_views"
   ]
  },
  {
   "cell_type": "markdown",
   "id": "5964f929",
   "metadata": {},
   "source": [
    "## A tool to visualize trajectory frames: ViewManager\n",
    "\n",
    "- in Jupyter, using nglview\n",
    "- input: mda.Universe and one or more indices along the trajectory\n",
    "- output: frames plotted sequentially or overlapping, color/opacity indicating a property, moving simutanously"
   ]
  },
  {
   "cell_type": "code",
   "execution_count": 3,
   "id": "2a5dfd19",
   "metadata": {
    "ExecuteTime": {
     "end_time": "2024-02-21T09:55:51.907251Z",
     "start_time": "2024-02-21T09:55:51.648854Z"
    }
   },
   "outputs": [
    {
     "ename": "TypeError",
     "evalue": "SimulationHistogram.__init__() missing 1 required positional argument: 'reference_name'",
     "output_type": "error",
     "traceback": [
      "\u001b[0;31m---------------------------------------------------------------------------\u001b[0m",
      "\u001b[0;31mTypeError\u001b[0m                                 Traceback (most recent call last)",
      "Cell \u001b[0;32mIn[3], line 2\u001b[0m\n\u001b[1;32m      1\u001b[0m fg_assigning \u001b[38;5;241m=\u001b[39m FullGrid(\u001b[38;5;124m\"\u001b[39m\u001b[38;5;124m8\u001b[39m\u001b[38;5;124m\"\u001b[39m, \u001b[38;5;124m\"\u001b[39m\u001b[38;5;124m12\u001b[39m\u001b[38;5;124m\"\u001b[39m, \u001b[38;5;124m\"\u001b[39m\u001b[38;5;124mlinspace(0.2, 1, 5)\u001b[39m\u001b[38;5;124m\"\u001b[39m)\n\u001b[0;32m----> 2\u001b[0m sh_pt \u001b[38;5;241m=\u001b[39m \u001b[43mSimulationHistogram\u001b[49m\u001b[43m(\u001b[49m\u001b[38;5;124;43m\"\u001b[39;49m\u001b[38;5;124;43mH2O_H2O_0179\u001b[39;49m\u001b[38;5;124;43m\"\u001b[39;49m\u001b[43m,\u001b[49m\u001b[43m \u001b[49m\u001b[43mis_pt\u001b[49m\u001b[38;5;241;43m=\u001b[39;49m\u001b[38;5;28;43;01mTrue\u001b[39;49;00m\u001b[43m,\u001b[49m\u001b[43m \u001b[49m\u001b[43msecond_molecule_selection\u001b[49m\u001b[38;5;241;43m=\u001b[39;49m\u001b[38;5;124;43m\"\u001b[39;49m\u001b[38;5;124;43mbynum 4:6\u001b[39;49m\u001b[38;5;124;43m\"\u001b[39;49m\u001b[43m,\u001b[49m\n\u001b[1;32m      3\u001b[0m \u001b[43m                           \u001b[49m\u001b[43muse_saved\u001b[49m\u001b[38;5;241;43m=\u001b[39;49m\u001b[38;5;28;43;01mFalse\u001b[39;49;00m\u001b[43m)\u001b[49m\n\u001b[1;32m      5\u001b[0m sh_traj \u001b[38;5;241m=\u001b[39m SimulationHistogram(\u001b[38;5;124m\"\u001b[39m\u001b[38;5;124mH2O_H2O_0095_2000\u001b[39m\u001b[38;5;124m\"\u001b[39m, is_pt\u001b[38;5;241m=\u001b[39m\u001b[38;5;28;01mFalse\u001b[39;00m, second_molecule_selection\u001b[38;5;241m=\u001b[39m\u001b[38;5;124m\"\u001b[39m\u001b[38;5;124mbynum 4:6\u001b[39m\u001b[38;5;124m\"\u001b[39m,\n\u001b[1;32m      6\u001b[0m                              full_grid\u001b[38;5;241m=\u001b[39mfg_assigning, use_saved\u001b[38;5;241m=\u001b[39m\u001b[38;5;28;01mFalse\u001b[39;00m)\n",
      "\u001b[0;31mTypeError\u001b[0m: SimulationHistogram.__init__() missing 1 required positional argument: 'reference_name'"
     ]
    }
   ],
   "source": [
    "fg_assigning = FullGrid(\"8\", \"12\", \"linspace(0.2, 1, 5)\")\n",
    "sh_pt = SimulationHistogram(\"H2O_H2O_0179\", is_pt=True, second_molecule_selection=\"bynum 4:6\",\n",
    "                           use_saved=False)\n",
    "\n",
    "sh_traj = SimulationHistogram(\"H2O_H2O_0095_2000\", is_pt=False, second_molecule_selection=\"bynum 4:6\",\n",
    "                             full_grid=fg_assigning, use_saved=False)"
   ]
  },
  {
   "cell_type": "markdown",
   "id": "29d856be",
   "metadata": {},
   "source": [
    "### Example - show all neighbours of a structure"
   ]
  },
  {
   "cell_type": "code",
   "execution_count": 4,
   "id": "0cefc746",
   "metadata": {
    "ExecuteTime": {
     "end_time": "2024-02-01T04:50:17.310113Z",
     "start_time": "2024-01-31T15:08:54.712424Z"
    },
    "scrolled": false
   },
   "outputs": [
    {
     "name": "stdout",
     "output_type": "stream",
     "text": [
      "Our chosen cell is 17 with position index 0 and quaternion_index 17\n"
     ]
    },
    {
     "data": {
      "application/vnd.jupyter.widget-view+json": {
       "model_id": "b0c9f3e40674497c86f8bcd750b38aa9",
       "version_major": 2,
       "version_minor": 0
      },
      "text/plain": [
       "NGLWidget()"
      ]
     },
     "metadata": {},
     "output_type": "display_data"
    },
    {
     "name": "stdout",
     "output_type": "stream",
     "text": [
      "Neighbours\n",
      "Pindex [ 0  0  0  0  0  0  0  0  0  0 20 26 26 30 42]\n",
      "Qindex [31 28 34  2  1 33  3 27 21  7 22  3 27  7 22]\n",
      "There are 15 neighbours of cell 17: [  31   28   34    2    1   33    3   27   21    7  822 1043 1067 1207\n",
      " 1702]\n"
     ]
    },
    {
     "data": {
      "application/vnd.jupyter.widget-view+json": {
       "model_id": "7afc872590004712927c3be6fbe1fd1a",
       "version_major": 2,
       "version_minor": 0
      },
      "text/plain": [
       "Box(children=(NGLWidget(layout=Layout(width='200px')), NGLWidget(layout=Layout(width='200px')), NGLWidget(layo…"
      ]
     },
     "metadata": {},
     "output_type": "display_data"
    }
   ],
   "source": [
    "# EXAMPLE - neighbours\n",
    "chosen_cell = 17\n",
    "print(f\"Our chosen cell is {chosen_cell} with position index {sh_pt.full_grid.get_position_index(chosen_cell)}\",\n",
    "f\"and quaternion_index {sh_pt.full_grid.get_quaternion_index(chosen_cell)}\")\n",
    "\n",
    "\n",
    "# display the structure assigned the chosen_cell\n",
    "vm = ViewManager(sh_pt.trajectory_universe)\n",
    "view1 = vm.plot_frames_overlapping(np.where(sh_pt.get_full_assignments==chosen_cell))\n",
    "display(view1)\n",
    "\n",
    "\n",
    "# display its neighbours - limiting here to 20 structures to not overwhelm the program\n",
    "# if they are neighbours in position grid, they should have the same quaternion index\n",
    "vm.fresh_view()\n",
    "neighbouring_frames = sh_pt.get_indices_neighbours_of_cell_i(chosen_cell)\n",
    "print(\"Neighbours\")\n",
    "print(\"Pindex\", sh_pt.full_grid.get_position_index(neighbouring_frames))\n",
    "print(\"Qindex\", sh_pt.full_grid.get_quaternion_index(neighbouring_frames))\n",
    "print(f\"There are {len(neighbouring_frames)} neighbours of cell {chosen_cell}: {neighbouring_frames}\")\n",
    "\n",
    "vm.plot_frames_sequential(neighbouring_frames)"
   ]
  },
  {
   "cell_type": "markdown",
   "id": "9eb9458e",
   "metadata": {},
   "source": [
    "### Example - show PT structures with 5 largest and 5 smallest potential energies"
   ]
  },
  {
   "cell_type": "code",
   "execution_count": 12,
   "id": "8d00539b",
   "metadata": {
    "ExecuteTime": {
     "end_time": "2024-01-29T08:37:02.573591Z",
     "start_time": "2024-01-29T08:36:43.408061Z"
    },
    "code_folding": [
     13
    ]
   },
   "outputs": [
    {
     "data": {
      "application/vnd.jupyter.widget-view+json": {
       "model_id": "5fb43cf810864185979643b8b2eb2d36",
       "version_major": 2,
       "version_minor": 0
      },
      "text/plain": [
       "Box(children=(NGLWidget(), NGLWidget()), layout=Layout(display='inline-flex', flex_flow='row wrap', width='100…"
      ]
     },
     "metadata": {},
     "output_type": "display_data"
    }
   ],
   "source": [
    "# EXAMPLE - \n",
    "\n",
    "\n",
    "# display\n",
    "vm = ViewManager(sh_pt.trajectory_universe)\n",
    "vm.fresh_view()\n",
    "\n",
    "# magnitudes\n",
    "magnitudes = sh_pt.get_magnitude_energy(\"Potential\")\n",
    "\n",
    "\n",
    "# 5 structures with largest energies\n",
    "num_extremes = 20\n",
    "argmax_index = k_argmax_in_array(magnitudes, num_extremes)\n",
    "vm.set_color_magnitude(magnitudes)\n",
    "view1 = vm.plot_frames_overlapping(argmax_index, opacities=0.8)\n",
    "\n",
    "# 5 structures with smallest energies\n",
    "vm.fresh_view()\n",
    "argmin_index = k_argmin_in_array(magnitudes, num_extremes)\n",
    "vm.set_color_magnitude(magnitudes)\n",
    "view2 = vm.plot_frames_overlapping(argmin_index, opacities=0.8)\n",
    "\n",
    "# show both\n",
    "sync_all_views([view1, view2])\n",
    "display_all_views([view1, view2])"
   ]
  },
  {
   "cell_type": "markdown",
   "id": "7cc99c16",
   "metadata": {},
   "source": [
    "### Example - plot an eigenvector of SqRA"
   ]
  },
  {
   "cell_type": "code",
   "execution_count": 13,
   "id": "c9f20ee3",
   "metadata": {
    "ExecuteTime": {
     "end_time": "2024-01-29T14:21:20.789787Z",
     "start_time": "2024-01-29T14:21:16.687386Z"
    }
   },
   "outputs": [
    {
     "name": "stdout",
     "output_type": "stream",
     "text": [
      "Unexpected exception formatting exception. Falling back to standard exception\n"
     ]
    },
    {
     "name": "stderr",
     "output_type": "stream",
     "text": [
      "Traceback (most recent call last):\n",
      "  File \"C:\\Users\\Hana\\AppData\\Local\\Programs\\Python\\Python39\\lib\\site-packages\\IPython\\core\\interactiveshell.py\", line 3508, in run_code\n",
      "    exec(code_obj, self.user_global_ns, self.user_ns)\n",
      "  File \"C:\\Users\\Hana\\AppData\\Local\\Temp\\ipykernel_15616\\3854418558.py\", line 8, in <module>\n",
      "    magnitudes = sh_pt.get_magnitude_ith_eigenvector(0)\n",
      "  File \"D:\\HANA\\phD\\PAPER_2022\\molecularRotationalGrids\\molgri\\molecules\\transitions.py\", line 165, in get_magnitude_ith_eigenvector\n",
      "    my_eigenvector = evec[0].T[i]\n",
      "  File \"D:\\HANA\\phD\\PAPER_2022\\molecularRotationalGrids\\molgri\\molecules\\transitions.py\", line 187, in get_transition_model\n",
      "    else:\n",
      "  File \"D:\\HANA\\phD\\PAPER_2022\\molecularRotationalGrids\\molgri\\molecules\\transitions.py\", line 441, in __init__\n",
      "  File \"D:\\HANA\\phD\\PAPER_2022\\molecularRotationalGrids\\molgri\\molecules\\transitions.py\", line 286, in __init__\n",
      "    self.num_cells = len(self.sim_hist.full_grid.get_full_grid_as_array())\n",
      "  File \"D:\\HANA\\phD\\PAPER_2022\\molecularRotationalGrids\\molgri\\molecules\\transitions.py\", line 181, in get_full_assignments\n",
      "    return self.full_assignments\n",
      "  File \"D:\\HANA\\phD\\PAPER_2022\\molecularRotationalGrids\\molgri\\molecules\\transitions.py\", line 270, in _assign_trajectory_2_full_grid\n",
      "  File \"D:\\HANA\\phD\\PAPER_2022\\molecularRotationalGrids\\molgri\\molecules\\transitions.py\", line 176, in get_quaternion_assignments\n",
      "    return self.quaternion_assignments\n",
      "  File \"D:\\HANA\\phD\\PAPER_2022\\molecularRotationalGrids\\molgri\\molecules\\transitions.py\", line 209, in _assign_trajectory_2_quaternion_grid\n",
      "    my_pt_name = my_pt.get_name()\n",
      "  File \"D:\\HANA\\phD\\PAPER_2022\\molecularRotationalGrids\\molgri\\molecules\\writers.py\", line 136, in construct_pt\n",
      "    selected_function(self.pt, path_t, path_s)\n",
      "  File \"D:\\HANA\\phD\\PAPER_2022\\molecularRotationalGrids\\molgri\\molecules\\writers.py\", line 229, in write_full_pt\n",
      "    self._merge_and_write(trajectory_writer, pt)\n",
      "  File \"D:\\HANA\\phD\\PAPER_2022\\molecularRotationalGrids\\molgri\\molecules\\writers.py\", line 196, in _merge_and_write\n",
      "    merged_universe = Merge(self.central_molecule.get_atoms(), pt.get_molecule().get_atoms())\n",
      "  File \"C:\\Users\\Hana\\AppData\\Local\\Programs\\Python\\Python39\\lib\\site-packages\\MDAnalysis\\core\\universe.py\", line 1625, in Merge\n",
      "    u = Universe(top, coords[None, :, :],\n",
      "  File \"C:\\Users\\Hana\\AppData\\Local\\Programs\\Python\\Python39\\lib\\site-packages\\MDAnalysis\\core\\universe.py\", line 358, in __init__\n",
      "    _generate_from_topology(self)  # make real atoms, res, segments\n",
      "  File \"C:\\Users\\Hana\\AppData\\Local\\Programs\\Python\\Python39\\lib\\site-packages\\MDAnalysis\\core\\universe.py\", line 168, in _generate_from_topology\n",
      "    universe.atoms = AtomGroup(np.arange(universe._topology.n_atoms), universe)\n",
      "KeyboardInterrupt\n",
      "\n",
      "During handling of the above exception, another exception occurred:\n",
      "\n",
      "Traceback (most recent call last):\n",
      "  File \"C:\\Users\\Hana\\AppData\\Local\\Programs\\Python\\Python39\\lib\\site-packages\\IPython\\core\\interactiveshell.py\", line 2105, in showtraceback\n",
      "    stb = self.InteractiveTB.structured_traceback(\n",
      "  File \"C:\\Users\\Hana\\AppData\\Local\\Programs\\Python\\Python39\\lib\\site-packages\\IPython\\core\\ultratb.py\", line 1396, in structured_traceback\n",
      "    return FormattedTB.structured_traceback(\n",
      "  File \"C:\\Users\\Hana\\AppData\\Local\\Programs\\Python\\Python39\\lib\\site-packages\\IPython\\core\\ultratb.py\", line 1287, in structured_traceback\n",
      "    return VerboseTB.structured_traceback(\n",
      "  File \"C:\\Users\\Hana\\AppData\\Local\\Programs\\Python\\Python39\\lib\\site-packages\\IPython\\core\\ultratb.py\", line 1140, in structured_traceback\n",
      "    formatted_exception = self.format_exception_as_a_whole(etype, evalue, etb, number_of_lines_of_context,\n",
      "  File \"C:\\Users\\Hana\\AppData\\Local\\Programs\\Python\\Python39\\lib\\site-packages\\IPython\\core\\ultratb.py\", line 1055, in format_exception_as_a_whole\n",
      "    frames.append(self.format_record(record))\n",
      "  File \"C:\\Users\\Hana\\AppData\\Local\\Programs\\Python\\Python39\\lib\\site-packages\\IPython\\core\\ultratb.py\", line 955, in format_record\n",
      "    frame_info.lines, Colors, self.has_colors, lvals\n",
      "  File \"C:\\Users\\Hana\\AppData\\Local\\Programs\\Python\\Python39\\lib\\site-packages\\IPython\\core\\ultratb.py\", line 778, in lines\n",
      "    return self._sd.lines\n",
      "  File \"C:\\Users\\Hana\\AppData\\Local\\Programs\\Python\\Python39\\lib\\site-packages\\stack_data\\utils.py\", line 144, in cached_property_wrapper\n",
      "    value = obj.__dict__[self.func.__name__] = self.func(obj)\n",
      "  File \"C:\\Users\\Hana\\AppData\\Local\\Programs\\Python\\Python39\\lib\\site-packages\\stack_data\\core.py\", line 734, in lines\n",
      "    pieces = self.included_pieces\n",
      "  File \"C:\\Users\\Hana\\AppData\\Local\\Programs\\Python\\Python39\\lib\\site-packages\\stack_data\\utils.py\", line 144, in cached_property_wrapper\n",
      "    value = obj.__dict__[self.func.__name__] = self.func(obj)\n",
      "  File \"C:\\Users\\Hana\\AppData\\Local\\Programs\\Python\\Python39\\lib\\site-packages\\stack_data\\core.py\", line 681, in included_pieces\n",
      "    pos = scope_pieces.index(self.executing_piece)\n",
      "  File \"C:\\Users\\Hana\\AppData\\Local\\Programs\\Python\\Python39\\lib\\site-packages\\stack_data\\utils.py\", line 144, in cached_property_wrapper\n",
      "    value = obj.__dict__[self.func.__name__] = self.func(obj)\n",
      "  File \"C:\\Users\\Hana\\AppData\\Local\\Programs\\Python\\Python39\\lib\\site-packages\\stack_data\\core.py\", line 660, in executing_piece\n",
      "    return only(\n",
      "  File \"C:\\Users\\Hana\\AppData\\Local\\Programs\\Python\\Python39\\lib\\site-packages\\executing\\executing.py\", line 190, in only\n",
      "    raise NotOneValueFound('Expected one value, found 0')\n",
      "executing.executing.NotOneValueFound: Expected one value, found 0\n"
     ]
    }
   ],
   "source": [
    "# EXAMPLE - eigenvector 0\n",
    "\n",
    "# display\n",
    "vm = ViewManager(sh_pt.trajectory_universe)\n",
    "vm.fresh_view()\n",
    "\n",
    "# magnitudes\n",
    "magnitudes = sh_pt.get_magnitude_ith_eigenvector(0)\n",
    "vm.set_opacity_magnitude(magnitudes)\n",
    "\n",
    "\n",
    "\n",
    "# largest absolute values\n",
    "num_extremes = 20\n",
    "argmax_index = k_argmax_in_array(np.abs(magnitudes), num_extremes)\n",
    "\n",
    "vm.plot_frames_overlapping(argmax_index)\n",
    "vm.view"
   ]
  },
  {
   "cell_type": "markdown",
   "id": "b98e1c4d",
   "metadata": {},
   "source": [
    "## Classify full trajectories in cells of FullGrid"
   ]
  },
  {
   "cell_type": "code",
   "execution_count": 10,
   "id": "59f9a51e",
   "metadata": {
    "ExecuteTime": {
     "end_time": "2024-01-29T12:20:11.065880Z",
     "start_time": "2024-01-29T12:19:59.749379Z"
    }
   },
   "outputs": [
    {
     "name": "stdout",
     "output_type": "stream",
     "text": [
      "There are 26 frames in this position class.\n",
      "[1494 1495 1496 1497 1498 1499 1500 1501 1751 1752 1753 1754 1755 1756\n",
      " 1757 1758 1759 1760 1761 1762 1763 1764 1765 1766 1767 1768]\n"
     ]
    },
    {
     "data": {
      "application/vnd.jupyter.widget-view+json": {
       "model_id": "6df30032a4764d5786480a06f0c7a8fc",
       "version_major": 2,
       "version_minor": 0
      },
      "text/plain": [
       "NGLWidget()"
      ]
     },
     "metadata": {},
     "output_type": "display_data"
    }
   ],
   "source": [
    "# find assignments to particular position class\n",
    "selected_class = 4\n",
    "in_this_position_class = sh_traj.get_indices_same_position(selected_class)\n",
    "print(f\"There are {len(in_this_position_class )} frames in this position class.\")\n",
    "# you can use the indices in VMD to visualise all\n",
    "print(in_this_position_class)\n",
    "\n",
    "vm = ViewManager(sh_traj.trajectory_universe)\n",
    "vm.fresh_view()\n",
    "\n",
    "vm.plot_frames_overlapping(np.random.choice(in_this_position_class, 30))\n",
    "vm.view"
   ]
  },
  {
   "cell_type": "code",
   "execution_count": 11,
   "id": "a786b61e",
   "metadata": {
    "ExecuteTime": {
     "end_time": "2024-01-29T12:30:55.802259Z",
     "start_time": "2024-01-29T12:26:16.663465Z"
    }
   },
   "outputs": [
    {
     "name": "stdout",
     "output_type": "stream",
     "text": [
      "There are 227 frames in this orientation class.\n",
      "[ 437  438  439  440  441  442  443  463  464  465  466  467  468  469\n",
      "  470  471  472  473  474  475  476  477  478  479  480  481  482  483\n",
      "  484  485  486  487  488  489  490  491  492  493  494  495  553  554\n",
      "  555  556  557  558  559  560  561  562  563  564  565  566  567  568\n",
      "  569  570  571  572  573  574  575  752  769  770  771  772  773  774\n",
      "  775  776  777  778  779  780  781  782  783  784  785  786  787  788\n",
      "  789  790  791  792  793 1050 1051 1052 1053 1054 1055 1056 1057 1058\n",
      " 1059 1060 1061 1062 1063 1064 1065 1066 1067 1068 1069 1070 1071 1072\n",
      " 1073 1074 1080 1081 1082 1083 1084 1085 1086 1087 1088 1089 1090 1091\n",
      " 1092 1093 1094 1095 1096 1097 1098 1099 1100 1101 1102 1103 1104 1105\n",
      " 1190 1191 1192 1193 1194 1195 1591 1592 1593 1594 1595 1596 1597 1598\n",
      " 1599 1600 1601 1602 1603 1604 1605 1606 1607 1608 1609 1610 1611 1612\n",
      " 1613 1614 1615 1616 1617 1618 1619 1620 1621 1622 1623 1624 1625 1626\n",
      " 1627 1733 1734 1735 1736 1737 1738 1739 1740 1741 1742 1743 1744 1745\n",
      " 1746 1747 1748 1749 1750 1839 1840 1841 1842 1843 1844 1845 1846 1847\n",
      " 1964 1965 1966 1967 1968 1969 1970 1971 1972 1973 1974 1975 1976 1977\n",
      " 1978 1979 1980]\n"
     ]
    },
    {
     "data": {
      "application/vnd.jupyter.widget-view+json": {
       "model_id": "c964da4920444689b751abf62518ced6",
       "version_major": 2,
       "version_minor": 0
      },
      "text/plain": [
       "NGLWidget()"
      ]
     },
     "metadata": {},
     "output_type": "display_data"
    }
   ],
   "source": [
    "# find assignments to particular orientation class\n",
    "\n",
    "selected_class = 3\n",
    "in_this_orientation_class = sh_traj.get_indices_same_orientation(selected_class)\n",
    "print(f\"There are {len(in_this_orientation_class )} frames in this orientation class.\")\n",
    "print(in_this_orientation_class)\n",
    "\n",
    "vm.fresh_view()\n",
    "vm.plot_frames_overlapping(np.random.choice(in_this_orientation_class, 30))\n",
    "vm.view\n"
   ]
  },
  {
   "cell_type": "code",
   "execution_count": 12,
   "id": "4187936f",
   "metadata": {
    "ExecuteTime": {
     "end_time": "2024-01-29T13:43:12.670488Z",
     "start_time": "2024-01-29T12:32:13.334682Z"
    }
   },
   "outputs": [
    {
     "name": "stdout",
     "output_type": "stream",
     "text": [
      "Unexpected exception formatting exception. Falling back to standard exception\n"
     ]
    },
    {
     "name": "stderr",
     "output_type": "stream",
     "text": [
      "Traceback (most recent call last):\n",
      "  File \"C:\\Users\\Hana\\AppData\\Local\\Programs\\Python\\Python39\\lib\\site-packages\\IPython\\core\\interactiveshell.py\", line 3508, in run_code\n",
      "    exec(code_obj, self.user_global_ns, self.user_ns)\n",
      "  File \"C:\\Users\\Hana\\AppData\\Local\\Temp\\ipykernel_15616\\1528756530.py\", line 3, in <module>\n",
      "    in_this_class = sh_pt.get_indices_same_cell(selected_class)\n",
      "  File \"D:\\HANA\\phD\\PAPER_2022\\molecularRotationalGrids\\molgri\\molecules\\transitions.py\", line 151, in get_indices_same_cell\n",
      "  File \"D:\\HANA\\phD\\PAPER_2022\\molecularRotationalGrids\\molgri\\molecules\\transitions.py\", line 181, in get_full_assignments\n",
      "    return self.full_assignments\n",
      "  File \"D:\\HANA\\phD\\PAPER_2022\\molecularRotationalGrids\\molgri\\molecules\\transitions.py\", line 270, in _assign_trajectory_2_full_grid\n",
      "  File \"D:\\HANA\\phD\\PAPER_2022\\molecularRotationalGrids\\molgri\\molecules\\transitions.py\", line 176, in get_quaternion_assignments\n",
      "    return self.quaternion_assignments\n",
      "  File \"D:\\HANA\\phD\\PAPER_2022\\molecularRotationalGrids\\molgri\\molecules\\transitions.py\", line 220, in _assign_trajectory_2_quaternion_grid\n",
      "    rmsd_every_referecnce.append(nonalign_rmsd.results[\"timeseries\"])\n",
      "  File \"C:\\Users\\Hana\\AppData\\Local\\Programs\\Python\\Python39\\lib\\site-packages\\MDAnalysis\\analysis\\base.py\", line 439, in run\n",
      "    self._single_frame()\n",
      "  File \"C:\\Users\\Hana\\AppData\\Local\\Programs\\Python\\Python39\\lib\\site-packages\\MDAnalysis\\analysis\\base.py\", line 523, in _single_frame\n",
      "    self.results.timeseries.append(self.function(*self.args,\n",
      "  File \"D:\\HANA\\phD\\PAPER_2022\\molecularRotationalGrids\\molgri\\molecules\\transitions.py\", line 218, in <lambda>\n",
      "    self.trajectory_universe.trajectory, self.trajectory_universe.select_atoms(self.second_molecule_selection))\n",
      "  File \"C:\\Users\\Hana\\AppData\\Local\\Programs\\Python\\Python39\\lib\\site-packages\\MDAnalysis\\core\\groups.py\", line 2775, in positions\n",
      "    return self.universe.trajectory.ts.positions[self.ix]\n",
      "KeyboardInterrupt\n",
      "\n",
      "During handling of the above exception, another exception occurred:\n",
      "\n",
      "Traceback (most recent call last):\n",
      "  File \"C:\\Users\\Hana\\AppData\\Local\\Programs\\Python\\Python39\\lib\\site-packages\\IPython\\core\\interactiveshell.py\", line 2105, in showtraceback\n",
      "    stb = self.InteractiveTB.structured_traceback(\n",
      "  File \"C:\\Users\\Hana\\AppData\\Local\\Programs\\Python\\Python39\\lib\\site-packages\\IPython\\core\\ultratb.py\", line 1396, in structured_traceback\n",
      "    return FormattedTB.structured_traceback(\n",
      "  File \"C:\\Users\\Hana\\AppData\\Local\\Programs\\Python\\Python39\\lib\\site-packages\\IPython\\core\\ultratb.py\", line 1287, in structured_traceback\n",
      "    return VerboseTB.structured_traceback(\n",
      "  File \"C:\\Users\\Hana\\AppData\\Local\\Programs\\Python\\Python39\\lib\\site-packages\\IPython\\core\\ultratb.py\", line 1140, in structured_traceback\n",
      "    formatted_exception = self.format_exception_as_a_whole(etype, evalue, etb, number_of_lines_of_context,\n",
      "  File \"C:\\Users\\Hana\\AppData\\Local\\Programs\\Python\\Python39\\lib\\site-packages\\IPython\\core\\ultratb.py\", line 1055, in format_exception_as_a_whole\n",
      "    frames.append(self.format_record(record))\n",
      "  File \"C:\\Users\\Hana\\AppData\\Local\\Programs\\Python\\Python39\\lib\\site-packages\\IPython\\core\\ultratb.py\", line 955, in format_record\n",
      "    frame_info.lines, Colors, self.has_colors, lvals\n",
      "  File \"C:\\Users\\Hana\\AppData\\Local\\Programs\\Python\\Python39\\lib\\site-packages\\IPython\\core\\ultratb.py\", line 778, in lines\n",
      "    return self._sd.lines\n",
      "  File \"C:\\Users\\Hana\\AppData\\Local\\Programs\\Python\\Python39\\lib\\site-packages\\stack_data\\utils.py\", line 144, in cached_property_wrapper\n",
      "    value = obj.__dict__[self.func.__name__] = self.func(obj)\n",
      "  File \"C:\\Users\\Hana\\AppData\\Local\\Programs\\Python\\Python39\\lib\\site-packages\\stack_data\\core.py\", line 734, in lines\n",
      "    pieces = self.included_pieces\n",
      "  File \"C:\\Users\\Hana\\AppData\\Local\\Programs\\Python\\Python39\\lib\\site-packages\\stack_data\\utils.py\", line 144, in cached_property_wrapper\n",
      "    value = obj.__dict__[self.func.__name__] = self.func(obj)\n",
      "  File \"C:\\Users\\Hana\\AppData\\Local\\Programs\\Python\\Python39\\lib\\site-packages\\stack_data\\core.py\", line 681, in included_pieces\n",
      "    pos = scope_pieces.index(self.executing_piece)\n",
      "  File \"C:\\Users\\Hana\\AppData\\Local\\Programs\\Python\\Python39\\lib\\site-packages\\stack_data\\utils.py\", line 144, in cached_property_wrapper\n",
      "    value = obj.__dict__[self.func.__name__] = self.func(obj)\n",
      "  File \"C:\\Users\\Hana\\AppData\\Local\\Programs\\Python\\Python39\\lib\\site-packages\\stack_data\\core.py\", line 660, in executing_piece\n",
      "    return only(\n",
      "  File \"C:\\Users\\Hana\\AppData\\Local\\Programs\\Python\\Python39\\lib\\site-packages\\executing\\executing.py\", line 190, in only\n",
      "    raise NotOneValueFound('Expected one value, found 0')\n",
      "executing.executing.NotOneValueFound: Expected one value, found 0\n"
     ]
    }
   ],
   "source": [
    "# find assignments to one cell of full grid\n",
    "selected_class = 4*8+3\n",
    "in_this_class = sh_pt.get_indices_same_cell(selected_class)\n",
    "print(f\"There are {len(in_this_class )} frames in this cell.\")\n",
    "print(in_this_class)\n",
    "\n",
    "vm.fresh_view()\n",
    "vm.plot_frames_overlapping(in_this_class, opacities=0.8)\n",
    "vm.view"
   ]
  },
  {
   "cell_type": "code",
   "execution_count": null,
   "id": "c20826b5",
   "metadata": {
    "ExecuteTime": {
     "end_time": "2024-01-19T16:17:09.436488Z",
     "start_time": "2024-01-19T16:17:09.436481Z"
    }
   },
   "outputs": [],
   "source": [
    "\n",
    "# TODO: plot eigenvectors and see if they are sensible\n",
    "# TODO: network flow plot for strongest rates?\n",
    "\n",
    "# TODO: make transition matrix determination faster and try it for a large matrix\n",
    "# TODO: HF forcefield and calculations"
   ]
  },
  {
   "cell_type": "markdown",
   "id": "c9b3b7e7",
   "metadata": {},
   "source": [
    "## Assigning trajectories to a FullGrid cell\n",
    "- input: (pseudo)trajectory and a FullGrid of choice\n",
    "- assign structures to position, orientation or full classes (cells of FullGrid) \n"
   ]
  },
  {
   "cell_type": "markdown",
   "id": "d354ca93",
   "metadata": {},
   "source": [
    "### Test: assigning PT to a FullGrid\n",
    "\n",
    "- if assigning to its own fg, assignments should be 1:1\n",
    "- if assigning to a smaller fg, an uniform number per cell is expected"
   ]
  },
  {
   "cell_type": "code",
   "execution_count": null,
   "id": "e9feb7d5",
   "metadata": {
    "ExecuteTime": {
     "end_time": "2024-01-19T16:17:09.437182Z",
     "start_time": "2024-01-19T16:17:09.437173Z"
    }
   },
   "outputs": [],
   "source": [
    "evaluation_fg = FullGrid(\"40\", \"42\", \"linspace(0.2, 1.5, 10)\")\n",
    "\n",
    "# this pt was generated with fg = FullGrid(\"40\", \"42\", \"linspace(0.2, 1.5, 10)\")\n",
    "my_pt_name = \"H2O_H2O_0179\"\n",
    "\n",
    "sh = SimulationHistogram(my_pt_name, full_grid=evaluation_fg, second_molecule_selection=\"bynum 4:6\")\n",
    "np.set_printoptions(threshold=sys.maxsize)"
   ]
  },
  {
   "cell_type": "code",
   "execution_count": null,
   "id": "56bfc1dc",
   "metadata": {
    "ExecuteTime": {
     "end_time": "2024-01-19T16:17:09.437925Z",
     "start_time": "2024-01-19T16:17:09.437917Z"
    }
   },
   "outputs": [],
   "source": [
    "assignments = sh.get_position_assignments()\n",
    "natural_numbers = np.array(range(len(sh.full_grid.get_position_grid_as_array())))\n",
    "natural_numbers = np.repeat(natural_numbers, sh.full_grid.b_rotations.get_N())\n",
    "\n",
    "assert np.all(assignments == natural_numbers)\n",
    "\n",
    "assignments = sh.get_quaternion_assignments()\n",
    "natural_numbers = np.array(range(sh.full_grid.b_rotations.get_N()))\n",
    "natural_numbers = np.tile(natural_numbers, len(sh.full_grid.get_position_grid_as_array()))\n",
    "\n",
    "for el1, el2 in zip(assignments, natural_numbers):\n",
    "    print(el1, el2)\n",
    "    #pass\n",
    "\n",
    "#assignments = sh.get_full_assignments()\n",
    "#natural_numbers = np.array(range(len(assignments)))\n",
    "\n",
    "#for el1, el2 in zip(assignments, natural_numbers):\n",
    "#    print(el1, el2)"
   ]
  },
  {
   "cell_type": "markdown",
   "id": "8decfd7a",
   "metadata": {},
   "source": [
    "### Assigning a real trajectory fo a FullGrid"
   ]
  },
  {
   "cell_type": "code",
   "execution_count": null,
   "id": "a553c31c",
   "metadata": {
    "ExecuteTime": {
     "end_time": "2024-01-19T16:17:09.438575Z",
     "start_time": "2024-01-19T16:17:09.438567Z"
    },
    "scrolled": false
   },
   "outputs": [],
   "source": [
    "my_fg = FullGrid(\"8\", \"12\", \"[0.3, 0.6, 0.9, 1.2]\")\n",
    "sh_traj = SimulationHistogram(\"H2O_H2O_0095_2000\", full_grid=my_fg, second_molecule_selection=\"bynum 4:6\")\n"
   ]
  },
  {
   "cell_type": "code",
   "execution_count": null,
   "id": "aab74f58",
   "metadata": {
    "ExecuteTime": {
     "end_time": "2024-01-19T16:17:09.439111Z",
     "start_time": "2024-01-19T16:17:09.439103Z"
    },
    "scrolled": false
   },
   "outputs": [],
   "source": [
    "# most populated cells \n",
    "assignments = sh_traj.get_full_assignments()\n",
    "my_indices, my_counts = np.unique(assignments.astype(int), return_counts=True)\n",
    "most_populated_cells = my_indices[k_argmax_in_array(my_counts, 5)]\n",
    "vm = ViewManager(sh.trajectory_universe)\n",
    "for selected_class in most_populated_cells:\n",
    "    vm.fresh_view()\n",
    "    vm.plot_frames_overlapping(np.where(assignments==selected_class)[0][::10])\n",
    "    display(vm.view)"
   ]
  },
  {
   "cell_type": "code",
   "execution_count": null,
   "id": "9ee1436b",
   "metadata": {
    "ExecuteTime": {
     "end_time": "2024-01-19T16:17:09.445501Z",
     "start_time": "2024-01-19T16:17:09.445485Z"
    }
   },
   "outputs": [],
   "source": [
    "# are the most populated cells also the ones with lowest average energy?\n",
    "# maybe not because the size of the cell strongly affects the population\n",
    "all_popular_frames = []\n",
    "full_assignments = sh_traj.get_full_assignments().astype(int)\n",
    "my_indices, my_counts = np.unique(full_assignments, return_counts=True)\n",
    "most_populated_cells = my_indices[k_argmax_in_array(my_counts, 3)]\n",
    "for populated_cell in most_populated_cells:\n",
    "    belongs_to_this = np.where(sh_traj.get_full_assignments()==populated_cell)[0]\n",
    "    all_popular_frames.extend(belongs_to_this)\n",
    "\n",
    "cell_volumes = np.array(sh_traj.full_grid.get_total_volumes())\n",
    "volume_per_assignment = cell_volumes[full_assignments]\n",
    "\n",
    "pot_energy = energies.get_energies(\"Potential\")/volume_per_assignment\n",
    "print(\"Popular frames energy\", np.min(pot_energy[all_popular_frames]), np.average(pot_energy[all_popular_frames]),\n",
    "     np.max(pot_energy[all_popular_frames]))\n",
    "print(\"All frames energy\", np.min(pot_energy), np.average(pot_energy),\n",
    "     np.max(pot_energy))"
   ]
  },
  {
   "cell_type": "code",
   "execution_count": null,
   "id": "7018f955",
   "metadata": {
    "ExecuteTime": {
     "end_time": "2024-01-19T16:17:09.446464Z",
     "start_time": "2024-01-19T16:17:09.446455Z"
    },
    "scrolled": false
   },
   "outputs": [],
   "source": [
    "from molgri.plotting.transition_plots import TransitionPlot\n",
    "my_msm = MSM(sh, energies)\n",
    "my_tp = TransitionPlot(my_msm)\n",
    "my_tp.plot_heatmap(save=False)"
   ]
  },
  {
   "cell_type": "code",
   "execution_count": null,
   "id": "ac033360",
   "metadata": {
    "ExecuteTime": {
     "end_time": "2024-01-19T16:17:09.447208Z",
     "start_time": "2024-01-19T16:17:09.447200Z"
    }
   },
   "outputs": [],
   "source": [
    "my_tp.plot_its(save=False)"
   ]
  },
  {
   "cell_type": "code",
   "execution_count": null,
   "id": "5120b8b4",
   "metadata": {},
   "outputs": [],
   "source": []
  }
 ],
 "metadata": {
  "kernelspec": {
   "display_name": "Python 3 (ipykernel)",
   "language": "python",
   "name": "python3"
  },
  "language_info": {
   "codemirror_mode": {
    "name": "ipython",
    "version": 3
   },
   "file_extension": ".py",
   "mimetype": "text/x-python",
   "name": "python",
   "nbconvert_exporter": "python",
   "pygments_lexer": "ipython3",
   "version": "3.11.5"
  },
  "toc": {
   "base_numbering": 1,
   "nav_menu": {},
   "number_sections": true,
   "sideBar": true,
   "skip_h1_title": true,
   "title_cell": "Table of Contents",
   "title_sidebar": "Contents",
   "toc_cell": true,
   "toc_position": {
    "height": "calc(100% - 180px)",
    "left": "10px",
    "top": "150px",
    "width": "384px"
   },
   "toc_section_display": true,
   "toc_window_display": true
  }
 },
 "nbformat": 4,
 "nbformat_minor": 5
}
