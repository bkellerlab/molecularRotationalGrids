{
 "cells": [
  {
   "cell_type": "markdown",
   "id": "32b34f8a",
   "metadata": {
    "toc": true
   },
   "source": [
    "<h1>Table of Contents<span class=\"tocSkip\"></span></h1>\n",
    "<div class=\"toc\"><ul class=\"toc-item\"><li><span><a href=\"#Kleines-Beispiel\" data-toc-modified-id=\"Kleines-Beispiel-1\"><span class=\"toc-item-num\">1&nbsp;&nbsp;</span>Kleines Beispiel</a></span></li></ul></div>"
   ]
  },
  {
   "cell_type": "code",
   "execution_count": 1,
   "id": "2a53d22f",
   "metadata": {
    "ExecuteTime": {
     "end_time": "2024-01-15T13:10:25.672550Z",
     "start_time": "2024-01-15T13:10:25.663575Z"
    }
   },
   "outputs": [],
   "source": [
    "import sys\n",
    "import os\n",
    "\n",
    "try:\n",
    "    os.chdir(r\"/home/hanaz63/PAPER_MOLECULAR_ROTATIONS_2022/nobackup/molgri\")\n",
    "    sys.path.append(r\"/home/hanaz63/PAPER_MOLECULAR_ROTATIONS_2022/nobackup\")\n",
    "except FileNotFoundError:\n",
    "    os.chdir(r\"D:\\HANA\\phD\\PAPER_2022\\molecularRotationalGrids\")\n",
    "    sys.path.append(r\"D:\\HANA\\phD\\PAPER_2022\\molecularRotationalGrids\")\n",
    "    \n",
    "import warnings\n",
    "warnings.filterwarnings(\"ignore\")"
   ]
  },
  {
   "cell_type": "code",
   "execution_count": 2,
   "id": "c34810b1",
   "metadata": {
    "ExecuteTime": {
     "end_time": "2024-01-15T13:10:29.686745Z",
     "start_time": "2024-01-15T13:10:27.803292Z"
    }
   },
   "outputs": [
    {
     "data": {
      "application/vnd.jupyter.widget-view+json": {
       "model_id": "70a721f16c9542f582c503eea407c81c",
       "version_major": 2,
       "version_minor": 0
      },
      "text/plain": []
     },
     "metadata": {},
     "output_type": "display_data"
    }
   ],
   "source": [
    "import nglview as nv\n",
    "import MDAnalysis as mda\n",
    "import numpy as np\n",
    "import time\n",
    "import ipywidgets as widgets\n",
    "from scipy.sparse import csr_array\n",
    "from numpy.typing import NDArray\n",
    "import matplotlib\n",
    "\n",
    "from molgri.molecules.transitions import SimulationHistogram, MSM, SQRA\n",
    "from molgri.plotting.molecule_plots import TrajectoryPlot\n",
    "import pandas as pd\n",
    "import matplotlib.pyplot as plt\n",
    "from molgri.molecules.parsers import FileParser, ParsedEnergy, XVGParser\n",
    "\n",
    "from molgri.paths import PATH_OUTPUT_PT, OUTPUT_PLOTTING_DATA, PATH_OUTPUT_LOGGING\n",
    "from molgri.space.fullgrid import FullGrid\n",
    "from molgri.space.utils import k_argmin_in_array, k_argmax_in_array"
   ]
  },
  {
   "cell_type": "markdown",
   "id": "5c233c8d",
   "metadata": {},
   "source": [
    "Erstmals: wir brauchen eine HF Monomer Datai."
   ]
  },
  {
   "cell_type": "code",
   "execution_count": 4,
   "id": "959b0eaa",
   "metadata": {
    "ExecuteTime": {
     "end_time": "2024-01-09T10:21:19.340833Z",
     "start_time": "2024-01-09T10:21:19.336807Z"
    }
   },
   "outputs": [],
   "source": [
    "%pycat input/HF.xyz"
   ]
  },
  {
   "cell_type": "markdown",
   "id": "7aa42d63",
   "metadata": {},
   "source": [
    "Nun lass zwei PTs (klein, groß) produzieren:\n",
    "- klein: -o 42 -t \"linspace(0.1, 0.4, 10)\" -b 8\n",
    "- groß: -o 162 -t \"linspace(0.1, 0.4, 20)\" -b 40"
   ]
  },
  {
   "cell_type": "markdown",
   "id": "23252ca0",
   "metadata": {},
   "source": [
    "## Kleines Beispiel\n",
    "- obtain full grid\n",
    "- show full grid coordinates per frame in the corner"
   ]
  },
  {
   "cell_type": "code",
   "execution_count": 8,
   "id": "d00e3297",
   "metadata": {
    "ExecuteTime": {
     "end_time": "2024-01-09T17:15:23.458476Z",
     "start_time": "2024-01-09T17:15:23.456050Z"
    }
   },
   "outputs": [],
   "source": [
    "small_name = \"HF_HF_0010\"\n",
    "b_grid = \"8\"\n",
    "o_grid = \"12\"\n",
    "t_grid = \"linspace(0.2, 0.4, 3)\""
   ]
  },
  {
   "cell_type": "code",
   "execution_count": 4,
   "id": "2c02c7e7",
   "metadata": {
    "ExecuteTime": {
     "end_time": "2024-01-09T10:37:20.054712Z",
     "start_time": "2024-01-09T10:37:19.428149Z"
    }
   },
   "outputs": [
    {
     "name": "stdout",
     "output_type": "stream",
     "text": [
      "Saved the log file to output/data/logging/HF_HF_0010.log\n",
      "Saved pseudo-trajectory to output/data/pt_files/HF_HF_0010.xtc and structure file to output/data/pt_files/HF_HF_0010.gro\n",
      "Timing the generation of Pt HF_HF_0010: 0:00:00.479715 hours:minutes:seconds\n"
     ]
    }
   ],
   "source": [
    "%run molgri/scripts/generate_pt.py -m1 HF -m2 HF --recalculate -o $o_grid -b $b_grid -t \"linspace(0.2, 0.4, 3)\""
   ]
  },
  {
   "cell_type": "code",
   "execution_count": 6,
   "id": "c409ff31",
   "metadata": {
    "ExecuteTime": {
     "end_time": "2024-01-11T09:36:28.948940Z",
     "start_time": "2024-01-11T09:36:28.942965Z"
    }
   },
   "outputs": [],
   "source": [
    "# großeres beispiel\n",
    "big_name = \"HF_HF_0011\"\n",
    "b_grid_b = \"272\"\n",
    "o_grid_b = \"162\"\n",
    "t_grid_b = \"linspace(0.1, 0.4, 20)\""
   ]
  },
  {
   "cell_type": "code",
   "execution_count": 4,
   "id": "85bf1903",
   "metadata": {
    "ExecuteTime": {
     "end_time": "2024-01-09T16:07:25.994568Z",
     "start_time": "2024-01-09T15:41:35.292832Z"
    }
   },
   "outputs": [
    {
     "name": "stdout",
     "output_type": "stream",
     "text": [
      "Saved the log file to output/data/logging/HF_HF_0011.log\n",
      "Saved pseudo-trajectory to output/data/pt_files/HF_HF_0011.xtc and structure file to output/data/pt_files/HF_HF_0011.gro\n",
      "Timing the generation of Pt HF_HF_0011: 0:24:59.522670 hours:minutes:seconds\n"
     ]
    }
   ],
   "source": [
    "%run molgri/scripts/generate_pt.py -m1 HF -m2 HF --recalculate -o $o_grid_b -b $b_grid_b -t \"linspace(0.1, 0.4, 20)\""
   ]
  },
  {
   "cell_type": "code",
   "execution_count": 3,
   "id": "e29ac42d",
   "metadata": {
    "ExecuteTime": {
     "end_time": "2024-01-10T11:50:43.451407Z",
     "start_time": "2024-01-10T11:24:23.989780Z"
    }
   },
   "outputs": [
    {
     "name": "stdout",
     "output_type": "stream",
     "text": [
      "Saved the log file to output/data/logging/H2O_H2O_0092.log\n",
      "Saved pseudo-trajectory to output/data/pt_files/H2O_H2O_0092.xtc and structure file to output/data/pt_files/H2O_H2O_0092.gro\n",
      "Timing the generation of Pt H2O_H2O_0092: 0:25:25.037286 hours:minutes:seconds\n"
     ]
    }
   ],
   "source": [
    "%run molgri/scripts/generate_pt.py -m1 H2O -m2 H2O --recalculate -o \"162\" -b \"272\" -t \"linspace(0.1, 0.4, 20)\""
   ]
  },
  {
   "cell_type": "code",
   "execution_count": null,
   "id": "4510416d",
   "metadata": {},
   "outputs": [],
   "source": [
    "#WATER"
   ]
  },
  {
   "cell_type": "code",
   "execution_count": 27,
   "id": "9c097054",
   "metadata": {
    "ExecuteTime": {
     "end_time": "2024-01-10T13:53:59.698617Z",
     "start_time": "2024-01-10T13:53:59.648790Z"
    }
   },
   "outputs": [
    {
     "data": {
      "application/vnd.jupyter.widget-view+json": {
       "model_id": "f161efeae7e24017bb80f3d09e8acf06",
       "version_major": 2,
       "version_minor": 0
      },
      "text/plain": [
       "NGLWidget(max_frame=10000)"
      ]
     },
     "metadata": {},
     "output_type": "display_data"
    }
   ],
   "source": [
    "from MDAnalysis import transformations\n",
    "\n",
    "u = mda.Universe(r\"/home/hanaz63/nobackup/gromacs/H2O_H2O_0095_10000/H2O_H2O_0095.gro\", \n",
    "                 r\"/home/hanaz63/nobackup/gromacs/H2O_H2O_0095_10000/output.xtc\")\n",
    "\n",
    "#reconnect molecules\n",
    "\n",
    "\n",
    "ag = u.atoms\n",
    "# we will use mass as weights for the center calculation\n",
    "workflow = (transformations.center_in_box(ag, center='mass'),)\n",
    "u.trajectory.add_transformations(*workflow)\n",
    "\n",
    "\n",
    "v = nv.show_mdanalysis(u)\n",
    "v.add_unitcell()\n",
    "v"
   ]
  },
  {
   "cell_type": "code",
   "execution_count": 5,
   "id": "16722a25",
   "metadata": {
    "ExecuteTime": {
     "end_time": "2024-01-10T15:44:05.437268Z",
     "start_time": "2024-01-10T15:44:05.430887Z"
    }
   },
   "outputs": [],
   "source": [
    "%matplotlib notebook"
   ]
  },
  {
   "cell_type": "code",
   "execution_count": 23,
   "id": "404022df",
   "metadata": {
    "ExecuteTime": {
     "end_time": "2024-01-15T14:14:16.010496Z",
     "start_time": "2024-01-15T14:14:15.984567Z"
    },
    "code_folding": [
     13,
     19,
     85,
     118
    ]
   },
   "outputs": [],
   "source": [
    "class ViewManager:\n",
    "    \n",
    "    \"\"\"\n",
    "    NGLViewer is very useful but not very convinient for displaying particular frames of a trajectory together, \n",
    "    in particular color schemes etc. This class accepts a MDA Universe and knows how to extract frames from it.\n",
    "    The plotting functions then accept indices (one or several) for this trajectory and display them in a \n",
    "    particular way (overlapping, sequential ...)\n",
    "    \"\"\"\n",
    "    \n",
    "    def __init__(self, u: mda.Universe):\n",
    "        self.u = u\n",
    "        self.fresh_view()\n",
    "    \n",
    "    def fresh_view(self):\n",
    "        \"\"\"\n",
    "        Run this when you want to start a new view and discard an old one.\n",
    "        \"\"\"\n",
    "        self.view = nv.NGLWidget()\n",
    "    \n",
    "    def get_ith_frame(self, i: int) -> mda.Universe:\n",
    "        \"\"\"\n",
    "        The most important method acting on self.u. Get the Universe object containing of all the atoms \n",
    "        but only a single frame (i-th frame).\n",
    "        \n",
    "        Args:\n",
    "            i (int): the index of the frame wanted\n",
    "        \n",
    "        Returns:\n",
    "            a Universe containing the i-th frame of self.u\n",
    "        \"\"\"\n",
    "        self.u.trajectory[i]\n",
    "        all_atoms = self.u.select_atoms('all')\n",
    "        new_u = mda.Merge(self.u.atoms)\n",
    "        return new_u\n",
    "    \n",
    "    def _add_coordinate_axes(self):\n",
    "        \"\"\"\n",
    "        Helper method. Add the x, y and z axes at origin to a NGLView.\n",
    "        \"\"\"\n",
    "        \n",
    "        # arguments of add_arrow are: start position, end position, color (in RGB), radius of arrow head\n",
    "        # arguments of add_label are: position, color (in RGB), size, text\n",
    "        \n",
    "        # X-axis is red\n",
    "        self.view.shape.add_arrow([0, 0, 0], [1, 0, 0],[ 1, 0, 0 ], 0.1)\n",
    "        self.view.shape.add_label([1, 0, 0], [1, 0, 0], 1.5, 'x')\n",
    "        \n",
    "        # Y-axis is green\n",
    "        self.view.shape.add_arrow([0, 0, 0], [0, 1, 0],[0, 1, 0 ], 0.1)\n",
    "        self.view.shape.add_label([0, 1, 0], [0, 1, 0], 1.5, 'y')\n",
    "        \n",
    "        # Z-axis is blue\n",
    "        self.view.shape.add_arrow([0, 0, 0], [0, 0, 1],[0, 0, 1 ], 0.1)\n",
    "        self.view.shape.add_label([0, 0, 1], [0, 0, 1], 1.5, 'z')\n",
    "\n",
    "    def plot_ith_frame(self, frame_i: int, axes: bool = True, **kwargs):\n",
    "        \"\"\"\n",
    "        Plot i-th frame of self.u, adding to self.view.\n",
    "        \n",
    "        Args:\n",
    "            - i: index of the frame\n",
    "            - axes: if True, draw x, y and z axes\n",
    "        \"\"\"\n",
    "        ith_atoms = self.get_ith_frame(frame_i)\n",
    "        \n",
    "        self.view.add_component(ith_atoms, default_representation=False)\n",
    "        # the index is there in order to only affect the last added representation\n",
    "        self.view[-1].add_representation(\"ball+stick\", **kwargs)\n",
    "        if axes:\n",
    "            self._add_coordinate_axes()\n",
    "        return self.view\n",
    "    \n",
    "    def _add_optional_representation_parameters(self, my_index: int, colors: list, opacities: list):\n",
    "        \"\"\"\n",
    "        Helper method if you want to plot several view and pass arguments to them.\n",
    "        \"\"\"\n",
    "        kwargs = {}\n",
    "        if colors is not None:\n",
    "            kwargs[\"color\"] = colors[my_index]\n",
    "        if opacities is not None:\n",
    "            kwargs[\"opacity\"] = opacities[my_index]\n",
    "        return kwargs\n",
    "        \n",
    "    \n",
    "    def plot_frames_sequential(self, list_indices: list, colors: list = None, opacities: list = None):\n",
    "        \"\"\"\n",
    "        Plot several frames of the self.u next to each other. Automatically ngo to next now if you have too\n",
    "        many frames to display in one row.\n",
    "        \n",
    "        Args:\n",
    "            - list_indices: a list of integers, each an frame index to be displayed\n",
    "            - colors: a list of colors (must be same length as list_indices) or None (default)\n",
    "            - opacities: a list of opacities (must be same length as list_indices) or None (default)\n",
    "        \"\"\"\n",
    "        \n",
    "        # settings that are important so that rows with too many images nicely overflow in the next row\n",
    "        box = widgets.Box(layout=widgets.Layout(width='100%',display='inline-flex',flex_flow='row wrap'))\n",
    "        box.overflow_x = 'auto'\n",
    "\n",
    "        all_views = []\n",
    "        for li, list_i in enumerate(list_indices):\n",
    "            self.fresh_view()\n",
    "            # add optional parameters\n",
    "            kwargs = self._add_optional_representation_parameters(li, colors, opacities)\n",
    "            neig_view = self.plot_ith_frame(list_i, **kwargs)\n",
    "            # this is also important for nice arragement of figures\n",
    "            neig_view.layout.width = \"200px\"\n",
    "            all_views.append(neig_view)\n",
    "        \n",
    "        \n",
    "        # sync all views (so that all plots move if you move any)\n",
    "        for v in all_views:\n",
    "            v._set_sync_camera(all_views)\n",
    "        \n",
    "        box.children=[i for i in all_views]\n",
    "        display(box)\n",
    "    \n",
    "    def plot_frames_overlapping(self, list_indices: list, colors: list = None, opacities: list = None):\n",
    "        \"\"\"\n",
    "        Plot several frames of the self.u overlapping.\n",
    "        \n",
    "        Args:\n",
    "            - list_indices: a list of integers, each an frame index to be displayed\n",
    "            - colors: a list of colors (must be same length as list_indices) or None (default)\n",
    "            - opacities: a list of opacities (must be same length as list_indices) or None (default)\n",
    "        \n",
    "        \"\"\"\n",
    "        \n",
    "        for li, list_i in enumerate(list_indices):\n",
    "            # add optional parameters\n",
    "            kwargs = self._add_optional_representation_parameters(li, colors, opacities)\n",
    "                \n",
    "            self.plot_ith_frame(list_i, **kwargs)\n",
    "\n",
    "        return self.view\n",
    "\n",
    "\n"
   ]
  },
  {
   "cell_type": "code",
   "execution_count": 27,
   "id": "1d0d140d",
   "metadata": {
    "ExecuteTime": {
     "end_time": "2024-01-15T14:15:54.353097Z",
     "start_time": "2024-01-15T14:15:54.331157Z"
    },
    "code_folding": [
     47,
     54
    ]
   },
   "outputs": [],
   "source": [
    "\"\"\"\n",
    "Some important indices you may wanna plot:\n",
    "- eigenvectors of SQRA\n",
    "\"\"\"\n",
    "\n",
    "class PostCalculationEvaluator:\n",
    "    \n",
    "    \"\"\"\n",
    "    Combine the following (read or use saved if you have it available):\n",
    "        - trajectory or pseudotrajectory (in form of mda Universe)\n",
    "        - energies\n",
    "        - full grid (FullGrid object)\n",
    "        - transition model(MSM or SQRA object)\n",
    "        \n",
    "    \n",
    "    \"\"\"\n",
    "    \n",
    "    def __init__(self, name_pt, default_atom_selection):\n",
    "        self.name_pt = name_pt\n",
    "        self.default_atom_selection = default_atom_selection\n",
    "        self.u = self.read_u_PT()\n",
    "        self.parsed_trajectory = self.read_parsed_trajectory_PT()\n",
    "        self.fg = self.read_fg_PT()\n",
    "        self.energy = self.read_energy_PT()\n",
    "        self.transition_model = self.read_sqra_PT()\n",
    "        \n",
    "        # just to check if everything is sane\n",
    "        self._assert_consistent_len()\n",
    "    \n",
    "    def _assert_consistent_len(self):\n",
    "        traj_len = len(self.u.trajectory)\n",
    "        fg_len = len(self.fg.get_full_grid_as_array())\n",
    "        energy_len = len(self.energy.energies)\n",
    "        sqra_len = len(self.transition_model.get_transitions_matrix()[0])\n",
    "        assert traj_len == fg_len == energy_len == sqra_len\n",
    "        \n",
    "    \"\"\"\n",
    "    --------------------------------------------------------------------------------------------------\n",
    "                               Readers to set up all necessary structures.\n",
    "    --------------------------------------------------------------------------------------------------\n",
    "    \"\"\"\n",
    "    \n",
    "    def __len__(self):\n",
    "        traj_len = len(self.u.trajectory)\n",
    "        return traj_len\n",
    "    \n",
    "    def read_u_PT(self):\n",
    "        return mda.Universe(f\"{PATH_OUTPUT_PT}{self.name_pt}.gro\", f\"{PATH_OUTPUT_PT}{self.name_pt}.xtc\")\n",
    "\n",
    "    def read_parsed_trajectory_PT(self):\n",
    "        pt_parser = FileParser(f\"{PATH_OUTPUT_PT}{self.name_pt}.gro\", f\"{PATH_OUTPUT_PT}{self.name_pt}.xtc\")\n",
    "        pt = pt_parser.get_parsed_trajectory(default_atom_selection=self.default_atom_selection)\n",
    "        pt.energies = self.read_energy_PT()\n",
    "        return pt\n",
    "\n",
    "    def read_fg_PT(self):\n",
    "\n",
    "        input_names = None\n",
    "        full_grid_name = None\n",
    "\n",
    "        # first step: read the name of the full grid from the log file\n",
    "        with open(f\"{PATH_OUTPUT_LOGGING}{self.name_pt}.log\") as f:\n",
    "            while input_names is None or full_grid_name is None:\n",
    "                line = f.readline()\n",
    "                if line.startswith(\"INFO:PtLogger:input grid parameters:\"):\n",
    "                    input_names = line.strip().split(\": \")[-1]\n",
    "                elif line.startswith(\"INFO:PtLogger:full grid name:\"):\n",
    "                    full_grid_name = line.strip().split(\": \")[-1]\n",
    "                    \n",
    "        self.grid_name = full_grid_name\n",
    "        \n",
    "        input_names = input_names.split(\" \")\n",
    "        t_input = \" \".join(input_names[2:])\n",
    "        fg = FullGrid(o_grid_name=input_names[0], b_grid_name=input_names[1], t_grid_name=t_input,\n",
    "                      use_saved=True)\n",
    "\n",
    "        # second step: load the .npy file with the found name\n",
    "        used_grid = np.load(f\"{OUTPUT_PLOTTING_DATA}get_full_grid_as_array_{full_grid_name}.npy\")\n",
    "\n",
    "        # third step: assert that this is actually the grid that has been used\n",
    "        assert np.allclose(used_grid, fg.get_full_grid_as_array())\n",
    "\n",
    "        return fg\n",
    "\n",
    "    def read_energy_PT(self):\n",
    "        my_parser = XVGParser(f\"/home/hanaz63/nobackup/gromacs/{self.name_pt}/{self.name_pt}.xvg\")\n",
    "        return my_parser.get_parsed_energy()\n",
    "\n",
    "    def read_sqra_PT(self):\n",
    "        sh = SimulationHistogram(self.parsed_trajectory, self.fg)\n",
    "        return SQRA(sh, use_saved=True)\n",
    "    \n",
    "    \"\"\"\n",
    "    --------------------------------------------------------------------------------------------------\n",
    "                               Getters to obtain important indices.\n",
    "    --------------------------------------------------------------------------------------------------\n",
    "    \"\"\"    \n",
    "    \n",
    "    def get_indices_k_lowest_energies(self, k: int, energy_type: str):\n",
    "        all_energies = self.energy.get_energies(energy_type)\n",
    "        return k_argmin_in_array(all_energies, k)\n",
    "    \n",
    "    def get_indices_neighbours_of_cell_i(self, i: int):\n",
    "        adj_array = csr_array(self.fg.get_full_adjacency())[:, [i]].toarray().T[0]\n",
    "        neighbour_indices = np.nonzero(adj_array)[0]\n",
    "        return neighbour_indices\n",
    "    \n",
    "    def get_indices_same_orientation(self, quaternion_grid_index: int):\n",
    "        num_positions = self.fg.o_rotations.get_N() * self.fg.t_grid.get_N_trans()\n",
    "        num_quaternions = self.fg.b_rotations.get_N()\n",
    "        \n",
    "        return list(range(quaternion_grid_index, len(self), num_quaternions))\n",
    "    \n",
    "    def get_indices_same_position(self, position_grid_index: int):\n",
    "        num_quaternions = self.fg.b_rotations.get_N()\n",
    "\n",
    "        return list(range(position_grid_index*num_quaternions, (position_grid_index+1)*num_quaternions))\n",
    "\n",
    "    \"\"\"\n",
    "    --------------------------------------------------------------------------------------------------\n",
    "                               Getters to obtain a measure of magnitude.\n",
    "    --------------------------------------------------------------------------------------------------\n",
    "    \"\"\"\n",
    "    \n",
    "    def get_magnitude_energy(self, energy_type: str):\n",
    "        return self.energy.get_energies(energy_type)\n",
    "    \n",
    "    def get_magnitude_ith_eigenvector(self, i: int):\n",
    "        evalu, evec = self.transition_model.get_eigenval_eigenvec()\n",
    "        my_eigenvector = evec[0].T[i]\n",
    "        return my_eigenvector\n",
    "\n",
    "\n",
    "\n",
    "class MplColorHelper:\n",
    "\n",
    "    def __init__(self):\n",
    "        self.cmap = matplotlib.cm.get_cmap('bwr')\n",
    "        self.norm = matplotlib.colors.TwoSlopeNorm(vcenter=0) #, vmax=5\n",
    "        self.scalarMap = matplotlib.cm.ScalarMappable(norm=self.norm, cmap=self.cmap)\n",
    "\n",
    "    def get_hex(self, val):\n",
    "        rgba = self.scalarMap.to_rgba(val)\n",
    "        return matplotlib.colors.rgb2hex(rgba)\n",
    "        "
   ]
  },
  {
   "cell_type": "code",
   "execution_count": 25,
   "id": "7a1ff9d0",
   "metadata": {
    "ExecuteTime": {
     "end_time": "2024-01-15T14:14:17.508881Z",
     "start_time": "2024-01-15T14:14:17.180128Z"
    },
    "code_folding": [
     13
    ]
   },
   "outputs": [
    {
     "ename": "FileNotFoundError",
     "evalue": "[Errno 2] No such file or directory: '/home/hanaz63/nobackup/gromacs/H2O_H2O_0009/H2O_H2O_0009.xvg'",
     "output_type": "error",
     "traceback": [
      "\u001b[1;31m---------------------------------------------------------------------------\u001b[0m",
      "\u001b[1;31mFileNotFoundError\u001b[0m                         Traceback (most recent call last)",
      "    \u001b[1;31m[... skipping hidden 1 frame]\u001b[0m\n",
      "Cell \u001b[1;32mIn[25], line 13\u001b[0m\n\u001b[0;32m     12\u001b[0m \u001b[38;5;66;03m# read everything from files \u001b[39;00m\n\u001b[1;32m---> 13\u001b[0m pce \u001b[38;5;241m=\u001b[39m \u001b[43mPostCalculationEvaluator\u001b[49m\u001b[43m(\u001b[49m\u001b[43mmy_name\u001b[49m\u001b[43m,\u001b[49m\u001b[43m \u001b[49m\u001b[43mmy_selection\u001b[49m\u001b[43m)\u001b[49m\n\u001b[0;32m     16\u001b[0m \u001b[38;5;66;03m# display\u001b[39;00m\n",
      "Cell \u001b[1;32mIn[24], line 22\u001b[0m, in \u001b[0;36mPostCalculationEvaluator.__init__\u001b[1;34m(self, name_pt, default_atom_selection)\u001b[0m\n\u001b[0;32m     21\u001b[0m \u001b[38;5;28mself\u001b[39m\u001b[38;5;241m.\u001b[39mu \u001b[38;5;241m=\u001b[39m \u001b[38;5;28mself\u001b[39m\u001b[38;5;241m.\u001b[39mread_u_PT()\n\u001b[1;32m---> 22\u001b[0m \u001b[38;5;28mself\u001b[39m\u001b[38;5;241m.\u001b[39mparsed_trajectory \u001b[38;5;241m=\u001b[39m \u001b[38;5;28;43mself\u001b[39;49m\u001b[38;5;241;43m.\u001b[39;49m\u001b[43mread_parsed_trajectory_PT\u001b[49m\u001b[43m(\u001b[49m\u001b[43m)\u001b[49m\n\u001b[0;32m     23\u001b[0m \u001b[38;5;28mself\u001b[39m\u001b[38;5;241m.\u001b[39mfg \u001b[38;5;241m=\u001b[39m \u001b[38;5;28mself\u001b[39m\u001b[38;5;241m.\u001b[39mread_fg_PT()\n",
      "Cell \u001b[1;32mIn[24], line 57\u001b[0m, in \u001b[0;36mPostCalculationEvaluator.read_parsed_trajectory_PT\u001b[1;34m(self)\u001b[0m\n\u001b[0;32m     56\u001b[0m pt \u001b[38;5;241m=\u001b[39m pt_parser\u001b[38;5;241m.\u001b[39mget_parsed_trajectory(default_atom_selection\u001b[38;5;241m=\u001b[39m\u001b[38;5;28mself\u001b[39m\u001b[38;5;241m.\u001b[39mdefault_atom_selection)\n\u001b[1;32m---> 57\u001b[0m pt\u001b[38;5;241m.\u001b[39menergies \u001b[38;5;241m=\u001b[39m \u001b[38;5;28;43mself\u001b[39;49m\u001b[38;5;241;43m.\u001b[39;49m\u001b[43mread_energy_PT\u001b[49m\u001b[43m(\u001b[49m\u001b[43m)\u001b[49m\n\u001b[0;32m     58\u001b[0m \u001b[38;5;28;01mreturn\u001b[39;00m pt\n",
      "Cell \u001b[1;32mIn[24], line 90\u001b[0m, in \u001b[0;36mPostCalculationEvaluator.read_energy_PT\u001b[1;34m(self)\u001b[0m\n\u001b[0;32m     89\u001b[0m \u001b[38;5;28;01mdef\u001b[39;00m \u001b[38;5;21mread_energy_PT\u001b[39m(\u001b[38;5;28mself\u001b[39m):\n\u001b[1;32m---> 90\u001b[0m     my_parser \u001b[38;5;241m=\u001b[39m \u001b[43mXVGParser\u001b[49m\u001b[43m(\u001b[49m\u001b[38;5;124;43mf\u001b[39;49m\u001b[38;5;124;43m\"\u001b[39;49m\u001b[38;5;124;43m/home/hanaz63/nobackup/gromacs/\u001b[39;49m\u001b[38;5;132;43;01m{\u001b[39;49;00m\u001b[38;5;28;43mself\u001b[39;49m\u001b[38;5;241;43m.\u001b[39;49m\u001b[43mname_pt\u001b[49m\u001b[38;5;132;43;01m}\u001b[39;49;00m\u001b[38;5;124;43m/\u001b[39;49m\u001b[38;5;132;43;01m{\u001b[39;49;00m\u001b[38;5;28;43mself\u001b[39;49m\u001b[38;5;241;43m.\u001b[39;49m\u001b[43mname_pt\u001b[49m\u001b[38;5;132;43;01m}\u001b[39;49;00m\u001b[38;5;124;43m.xvg\u001b[39;49m\u001b[38;5;124;43m\"\u001b[39;49m\u001b[43m)\u001b[49m\n\u001b[0;32m     91\u001b[0m     \u001b[38;5;28;01mreturn\u001b[39;00m my_parser\u001b[38;5;241m.\u001b[39mget_parsed_energy()\n",
      "File \u001b[1;32mD:\\HANA\\phD\\PAPER_2022\\molecularRotationalGrids\\molgri\\molecules\\parsers.py:319\u001b[0m, in \u001b[0;36m__init__\u001b[1;34m(self, path_xvg)\u001b[0m\n\u001b[0;32m    318\u001b[0m \u001b[38;5;28;01melse\u001b[39;00m:\n\u001b[1;32m--> 319\u001b[0m     \u001b[38;5;28mself\u001b[39m\u001b[38;5;241m.\u001b[39mpath_name \u001b[38;5;241m=\u001b[39m path_xvg\n\u001b[0;32m    320\u001b[0m reader \u001b[38;5;241m=\u001b[39m XVGReader(\u001b[38;5;28mself\u001b[39m\u001b[38;5;241m.\u001b[39mpath_name)\n",
      "File \u001b[1;32m~\\AppData\\Local\\Programs\\Python\\Python39\\lib\\site-packages\\MDAnalysis\\auxiliary\\XVG.py:186\u001b[0m, in \u001b[0;36mXVGReader.__init__\u001b[1;34m(self, filename, **kwargs)\u001b[0m\n\u001b[0;32m    185\u001b[0m \u001b[38;5;28mself\u001b[39m\u001b[38;5;241m.\u001b[39m_auxdata \u001b[38;5;241m=\u001b[39m os\u001b[38;5;241m.\u001b[39mpath\u001b[38;5;241m.\u001b[39mabspath(filename)\n\u001b[1;32m--> 186\u001b[0m \u001b[38;5;28;01mwith\u001b[39;00m \u001b[43manyopen\u001b[49m\u001b[43m(\u001b[49m\u001b[43mfilename\u001b[49m\u001b[43m)\u001b[49m \u001b[38;5;28;01mas\u001b[39;00m xvg_file:\n\u001b[0;32m    187\u001b[0m     lines \u001b[38;5;241m=\u001b[39m xvg_file\u001b[38;5;241m.\u001b[39mreadlines()\n",
      "File \u001b[1;32m~\\AppData\\Local\\Programs\\Python\\Python39\\lib\\site-packages\\MDAnalysis\\lib\\util.py:397\u001b[0m, in \u001b[0;36manyopen\u001b[1;34m(datasource, mode, reset)\u001b[0m\n\u001b[0;32m    396\u001b[0m openfunc \u001b[38;5;241m=\u001b[39m read_handlers[ext]\n\u001b[1;32m--> 397\u001b[0m stream \u001b[38;5;241m=\u001b[39m \u001b[43m_get_stream\u001b[49m\u001b[43m(\u001b[49m\u001b[43mdatasource\u001b[49m\u001b[43m,\u001b[49m\u001b[43m \u001b[49m\u001b[43mopenfunc\u001b[49m\u001b[43m,\u001b[49m\u001b[43m \u001b[49m\u001b[43mmode\u001b[49m\u001b[38;5;241;43m=\u001b[39;49m\u001b[43mmode\u001b[49m\u001b[43m)\u001b[49m\n\u001b[0;32m    398\u001b[0m \u001b[38;5;28;01mif\u001b[39;00m stream \u001b[38;5;129;01mis\u001b[39;00m \u001b[38;5;129;01mnot\u001b[39;00m \u001b[38;5;28;01mNone\u001b[39;00m:\n",
      "File \u001b[1;32m~\\AppData\\Local\\Programs\\Python\\Python39\\lib\\site-packages\\MDAnalysis\\lib\\util.py:439\u001b[0m, in \u001b[0;36m_get_stream\u001b[1;34m(filename, openfunction, mode)\u001b[0m\n\u001b[0;32m    438\u001b[0m \u001b[38;5;28;01mif\u001b[39;00m errno\u001b[38;5;241m.\u001b[39merrorcode[err\u001b[38;5;241m.\u001b[39merrno] \u001b[38;5;129;01min\u001b[39;00m [\u001b[38;5;124m'\u001b[39m\u001b[38;5;124mENOENT\u001b[39m\u001b[38;5;124m'\u001b[39m, \u001b[38;5;124m'\u001b[39m\u001b[38;5;124mEACCES\u001b[39m\u001b[38;5;124m'\u001b[39m]:\n\u001b[1;32m--> 439\u001b[0m     \u001b[38;5;28;01mraise\u001b[39;00m sys\u001b[38;5;241m.\u001b[39mexc_info()[\u001b[38;5;241m1\u001b[39m] \u001b[38;5;28;01mfrom\u001b[39;00m \u001b[38;5;21;01merr\u001b[39;00m\n\u001b[0;32m    440\u001b[0m \u001b[38;5;28;01mreturn\u001b[39;00m \u001b[38;5;28;01mNone\u001b[39;00m\n",
      "File \u001b[1;32m~\\AppData\\Local\\Programs\\Python\\Python39\\lib\\site-packages\\MDAnalysis\\lib\\util.py:433\u001b[0m, in \u001b[0;36m_get_stream\u001b[1;34m(filename, openfunction, mode)\u001b[0m\n\u001b[0;32m    432\u001b[0m \u001b[38;5;28;01mtry\u001b[39;00m:\n\u001b[1;32m--> 433\u001b[0m     stream \u001b[38;5;241m=\u001b[39m \u001b[43mopenfunction\u001b[49m\u001b[43m(\u001b[49m\u001b[43mfilename\u001b[49m\u001b[43m,\u001b[49m\u001b[43m \u001b[49m\u001b[43mmode\u001b[49m\u001b[38;5;241;43m=\u001b[39;49m\u001b[43mmode\u001b[49m\u001b[43m)\u001b[49m\n\u001b[0;32m    434\u001b[0m \u001b[38;5;28;01mexcept\u001b[39;00m (\u001b[38;5;167;01mIOError\u001b[39;00m, \u001b[38;5;167;01mOSError\u001b[39;00m) \u001b[38;5;28;01mas\u001b[39;00m err:\n\u001b[0;32m    435\u001b[0m     \u001b[38;5;66;03m# An exception might be raised due to two reasons, first the openfunction is unable to open the file, in this\u001b[39;00m\n\u001b[0;32m    436\u001b[0m     \u001b[38;5;66;03m# case we have to ignore the error and return None. Second is when openfunction can't open the file because\u001b[39;00m\n\u001b[0;32m    437\u001b[0m     \u001b[38;5;66;03m# either the file isn't there or the permissions don't allow access.\u001b[39;00m\n",
      "File \u001b[1;32m~\\AppData\\Local\\Programs\\Python\\Python39\\lib\\site-packages\\MDAnalysis\\lib\\picklable_file_io.py:478\u001b[0m, in \u001b[0;36mbz2_pickle_open\u001b[1;34m(name, mode)\u001b[0m\n\u001b[0;32m    477\u001b[0m bz_mode \u001b[38;5;241m=\u001b[39m mode\u001b[38;5;241m.\u001b[39mreplace(\u001b[38;5;124m\"\u001b[39m\u001b[38;5;124mt\u001b[39m\u001b[38;5;124m\"\u001b[39m, \u001b[38;5;124m\"\u001b[39m\u001b[38;5;124m\"\u001b[39m)\n\u001b[1;32m--> 478\u001b[0m binary_file \u001b[38;5;241m=\u001b[39m \u001b[43mBZ2Picklable\u001b[49m\u001b[43m(\u001b[49m\u001b[43mname\u001b[49m\u001b[43m,\u001b[49m\u001b[43m \u001b[49m\u001b[43mbz_mode\u001b[49m\u001b[43m)\u001b[49m\n\u001b[0;32m    479\u001b[0m \u001b[38;5;28;01mif\u001b[39;00m \u001b[38;5;124m\"\u001b[39m\u001b[38;5;124mt\u001b[39m\u001b[38;5;124m\"\u001b[39m \u001b[38;5;129;01min\u001b[39;00m mode:\n",
      "File \u001b[1;32m~\\AppData\\Local\\Programs\\Python\\Python39\\lib\\site-packages\\MDAnalysis\\lib\\picklable_file_io.py:266\u001b[0m, in \u001b[0;36mBZ2Picklable.__init__\u001b[1;34m(self, name, mode)\u001b[0m\n\u001b[0;32m    265\u001b[0m \u001b[38;5;28mself\u001b[39m\u001b[38;5;241m.\u001b[39m_bz_mode \u001b[38;5;241m=\u001b[39m mode\n\u001b[1;32m--> 266\u001b[0m \u001b[38;5;28;43msuper\u001b[39;49m\u001b[43m(\u001b[49m\u001b[43m)\u001b[49m\u001b[38;5;241;43m.\u001b[39;49m\u001b[38;5;21;43m__init__\u001b[39;49m\u001b[43m(\u001b[49m\u001b[43mname\u001b[49m\u001b[43m,\u001b[49m\u001b[43m \u001b[49m\u001b[43mmode\u001b[49m\u001b[43m)\u001b[49m\n",
      "File \u001b[1;32m~\\AppData\\Local\\Programs\\Python\\Python39\\lib\\bz2.py:85\u001b[0m, in \u001b[0;36mBZ2File.__init__\u001b[1;34m(self, filename, mode, compresslevel)\u001b[0m\n\u001b[0;32m     84\u001b[0m \u001b[38;5;28;01mif\u001b[39;00m \u001b[38;5;28misinstance\u001b[39m(filename, (\u001b[38;5;28mstr\u001b[39m, \u001b[38;5;28mbytes\u001b[39m, os\u001b[38;5;241m.\u001b[39mPathLike)):\n\u001b[1;32m---> 85\u001b[0m     \u001b[38;5;28mself\u001b[39m\u001b[38;5;241m.\u001b[39m_fp \u001b[38;5;241m=\u001b[39m \u001b[43m_builtin_open\u001b[49m\u001b[43m(\u001b[49m\u001b[43mfilename\u001b[49m\u001b[43m,\u001b[49m\u001b[43m \u001b[49m\u001b[43mmode\u001b[49m\u001b[43m)\u001b[49m\n\u001b[0;32m     86\u001b[0m     \u001b[38;5;28mself\u001b[39m\u001b[38;5;241m.\u001b[39m_closefp \u001b[38;5;241m=\u001b[39m \u001b[38;5;28;01mTrue\u001b[39;00m\n",
      "\u001b[1;31mFileNotFoundError\u001b[0m: [Errno 2] No such file or directory: '/home/hanaz63/nobackup/gromacs/H2O_H2O_0009/H2O_H2O_0009.xvg'",
      "\nThe above exception was the direct cause of the following exception:\n",
      "\u001b[1;31mFileNotFoundError\u001b[0m                         Traceback (most recent call last)",
      "    \u001b[1;31m[... skipping hidden 1 frame]\u001b[0m\n",
      "Cell \u001b[1;32mIn[25], line 13\u001b[0m\n\u001b[0;32m     12\u001b[0m \u001b[38;5;66;03m# read everything from files \u001b[39;00m\n\u001b[1;32m---> 13\u001b[0m pce \u001b[38;5;241m=\u001b[39m \u001b[43mPostCalculationEvaluator\u001b[49m\u001b[43m(\u001b[49m\u001b[43mmy_name\u001b[49m\u001b[43m,\u001b[49m\u001b[43m \u001b[49m\u001b[43mmy_selection\u001b[49m\u001b[43m)\u001b[49m\n\u001b[0;32m     16\u001b[0m \u001b[38;5;66;03m# display\u001b[39;00m\n",
      "Cell \u001b[1;32mIn[24], line 22\u001b[0m, in \u001b[0;36mPostCalculationEvaluator.__init__\u001b[1;34m(self, name_pt, default_atom_selection)\u001b[0m\n\u001b[0;32m     21\u001b[0m \u001b[38;5;28mself\u001b[39m\u001b[38;5;241m.\u001b[39mu \u001b[38;5;241m=\u001b[39m \u001b[38;5;28mself\u001b[39m\u001b[38;5;241m.\u001b[39mread_u_PT()\n\u001b[1;32m---> 22\u001b[0m \u001b[38;5;28mself\u001b[39m\u001b[38;5;241m.\u001b[39mparsed_trajectory \u001b[38;5;241m=\u001b[39m \u001b[38;5;28;43mself\u001b[39;49m\u001b[38;5;241;43m.\u001b[39;49m\u001b[43mread_parsed_trajectory_PT\u001b[49m\u001b[43m(\u001b[49m\u001b[43m)\u001b[49m\n\u001b[0;32m     23\u001b[0m \u001b[38;5;28mself\u001b[39m\u001b[38;5;241m.\u001b[39mfg \u001b[38;5;241m=\u001b[39m \u001b[38;5;28mself\u001b[39m\u001b[38;5;241m.\u001b[39mread_fg_PT()\n",
      "Cell \u001b[1;32mIn[24], line 57\u001b[0m, in \u001b[0;36mPostCalculationEvaluator.read_parsed_trajectory_PT\u001b[1;34m(self)\u001b[0m\n\u001b[0;32m     56\u001b[0m pt \u001b[38;5;241m=\u001b[39m pt_parser\u001b[38;5;241m.\u001b[39mget_parsed_trajectory(default_atom_selection\u001b[38;5;241m=\u001b[39m\u001b[38;5;28mself\u001b[39m\u001b[38;5;241m.\u001b[39mdefault_atom_selection)\n\u001b[1;32m---> 57\u001b[0m pt\u001b[38;5;241m.\u001b[39menergies \u001b[38;5;241m=\u001b[39m \u001b[38;5;28;43mself\u001b[39;49m\u001b[38;5;241;43m.\u001b[39;49m\u001b[43mread_energy_PT\u001b[49m\u001b[43m(\u001b[49m\u001b[43m)\u001b[49m\n\u001b[0;32m     58\u001b[0m \u001b[38;5;28;01mreturn\u001b[39;00m pt\n",
      "Cell \u001b[1;32mIn[24], line 90\u001b[0m, in \u001b[0;36mPostCalculationEvaluator.read_energy_PT\u001b[1;34m(self)\u001b[0m\n\u001b[0;32m     89\u001b[0m \u001b[38;5;28;01mdef\u001b[39;00m \u001b[38;5;21mread_energy_PT\u001b[39m(\u001b[38;5;28mself\u001b[39m):\n\u001b[1;32m---> 90\u001b[0m     my_parser \u001b[38;5;241m=\u001b[39m \u001b[43mXVGParser\u001b[49m\u001b[43m(\u001b[49m\u001b[38;5;124;43mf\u001b[39;49m\u001b[38;5;124;43m\"\u001b[39;49m\u001b[38;5;124;43m/home/hanaz63/nobackup/gromacs/\u001b[39;49m\u001b[38;5;132;43;01m{\u001b[39;49;00m\u001b[38;5;28;43mself\u001b[39;49m\u001b[38;5;241;43m.\u001b[39;49m\u001b[43mname_pt\u001b[49m\u001b[38;5;132;43;01m}\u001b[39;49;00m\u001b[38;5;124;43m/\u001b[39;49m\u001b[38;5;132;43;01m{\u001b[39;49;00m\u001b[38;5;28;43mself\u001b[39;49m\u001b[38;5;241;43m.\u001b[39;49m\u001b[43mname_pt\u001b[49m\u001b[38;5;132;43;01m}\u001b[39;49;00m\u001b[38;5;124;43m.xvg\u001b[39;49m\u001b[38;5;124;43m\"\u001b[39;49m\u001b[43m)\u001b[49m\n\u001b[0;32m     91\u001b[0m     \u001b[38;5;28;01mreturn\u001b[39;00m my_parser\u001b[38;5;241m.\u001b[39mget_parsed_energy()\n",
      "File \u001b[1;32mD:\\HANA\\phD\\PAPER_2022\\molecularRotationalGrids\\molgri\\molecules\\parsers.py:319\u001b[0m, in \u001b[0;36m__init__\u001b[1;34m(self, path_xvg)\u001b[0m\n\u001b[0;32m    318\u001b[0m \u001b[38;5;28;01melse\u001b[39;00m:\n\u001b[1;32m--> 319\u001b[0m     \u001b[38;5;28mself\u001b[39m\u001b[38;5;241m.\u001b[39mpath_name \u001b[38;5;241m=\u001b[39m path_xvg\n\u001b[0;32m    320\u001b[0m reader \u001b[38;5;241m=\u001b[39m XVGReader(\u001b[38;5;28mself\u001b[39m\u001b[38;5;241m.\u001b[39mpath_name)\n",
      "File \u001b[1;32m~\\AppData\\Local\\Programs\\Python\\Python39\\lib\\site-packages\\MDAnalysis\\auxiliary\\XVG.py:186\u001b[0m, in \u001b[0;36mXVGReader.__init__\u001b[1;34m(self, filename, **kwargs)\u001b[0m\n\u001b[0;32m    185\u001b[0m \u001b[38;5;28mself\u001b[39m\u001b[38;5;241m.\u001b[39m_auxdata \u001b[38;5;241m=\u001b[39m os\u001b[38;5;241m.\u001b[39mpath\u001b[38;5;241m.\u001b[39mabspath(filename)\n\u001b[1;32m--> 186\u001b[0m \u001b[38;5;28;01mwith\u001b[39;00m \u001b[43manyopen\u001b[49m\u001b[43m(\u001b[49m\u001b[43mfilename\u001b[49m\u001b[43m)\u001b[49m \u001b[38;5;28;01mas\u001b[39;00m xvg_file:\n\u001b[0;32m    187\u001b[0m     lines \u001b[38;5;241m=\u001b[39m xvg_file\u001b[38;5;241m.\u001b[39mreadlines()\n",
      "File \u001b[1;32m~\\AppData\\Local\\Programs\\Python\\Python39\\lib\\site-packages\\MDAnalysis\\lib\\util.py:397\u001b[0m, in \u001b[0;36manyopen\u001b[1;34m(datasource, mode, reset)\u001b[0m\n\u001b[0;32m    396\u001b[0m openfunc \u001b[38;5;241m=\u001b[39m read_handlers[ext]\n\u001b[1;32m--> 397\u001b[0m stream \u001b[38;5;241m=\u001b[39m \u001b[43m_get_stream\u001b[49m\u001b[43m(\u001b[49m\u001b[43mdatasource\u001b[49m\u001b[43m,\u001b[49m\u001b[43m \u001b[49m\u001b[43mopenfunc\u001b[49m\u001b[43m,\u001b[49m\u001b[43m \u001b[49m\u001b[43mmode\u001b[49m\u001b[38;5;241;43m=\u001b[39;49m\u001b[43mmode\u001b[49m\u001b[43m)\u001b[49m\n\u001b[0;32m    398\u001b[0m \u001b[38;5;28;01mif\u001b[39;00m stream \u001b[38;5;129;01mis\u001b[39;00m \u001b[38;5;129;01mnot\u001b[39;00m \u001b[38;5;28;01mNone\u001b[39;00m:\n",
      "File \u001b[1;32m~\\AppData\\Local\\Programs\\Python\\Python39\\lib\\site-packages\\MDAnalysis\\lib\\util.py:439\u001b[0m, in \u001b[0;36m_get_stream\u001b[1;34m(filename, openfunction, mode)\u001b[0m\n\u001b[0;32m    438\u001b[0m \u001b[38;5;28;01mif\u001b[39;00m errno\u001b[38;5;241m.\u001b[39merrorcode[err\u001b[38;5;241m.\u001b[39merrno] \u001b[38;5;129;01min\u001b[39;00m [\u001b[38;5;124m'\u001b[39m\u001b[38;5;124mENOENT\u001b[39m\u001b[38;5;124m'\u001b[39m, \u001b[38;5;124m'\u001b[39m\u001b[38;5;124mEACCES\u001b[39m\u001b[38;5;124m'\u001b[39m]:\n\u001b[1;32m--> 439\u001b[0m     \u001b[38;5;28;01mraise\u001b[39;00m sys\u001b[38;5;241m.\u001b[39mexc_info()[\u001b[38;5;241m1\u001b[39m] \u001b[38;5;28;01mfrom\u001b[39;00m \u001b[38;5;21;01merr\u001b[39;00m\n\u001b[0;32m    440\u001b[0m \u001b[38;5;28;01mreturn\u001b[39;00m \u001b[38;5;28;01mNone\u001b[39;00m\n",
      "File \u001b[1;32m~\\AppData\\Local\\Programs\\Python\\Python39\\lib\\site-packages\\MDAnalysis\\lib\\util.py:433\u001b[0m, in \u001b[0;36m_get_stream\u001b[1;34m(filename, openfunction, mode)\u001b[0m\n\u001b[0;32m    432\u001b[0m \u001b[38;5;28;01mtry\u001b[39;00m:\n\u001b[1;32m--> 433\u001b[0m     stream \u001b[38;5;241m=\u001b[39m \u001b[43mopenfunction\u001b[49m\u001b[43m(\u001b[49m\u001b[43mfilename\u001b[49m\u001b[43m,\u001b[49m\u001b[43m \u001b[49m\u001b[43mmode\u001b[49m\u001b[38;5;241;43m=\u001b[39;49m\u001b[43mmode\u001b[49m\u001b[43m)\u001b[49m\n\u001b[0;32m    434\u001b[0m \u001b[38;5;28;01mexcept\u001b[39;00m (\u001b[38;5;167;01mIOError\u001b[39;00m, \u001b[38;5;167;01mOSError\u001b[39;00m) \u001b[38;5;28;01mas\u001b[39;00m err:\n\u001b[0;32m    435\u001b[0m     \u001b[38;5;66;03m# An exception might be raised due to two reasons, first the openfunction is unable to open the file, in this\u001b[39;00m\n\u001b[0;32m    436\u001b[0m     \u001b[38;5;66;03m# case we have to ignore the error and return None. Second is when openfunction can't open the file because\u001b[39;00m\n\u001b[0;32m    437\u001b[0m     \u001b[38;5;66;03m# either the file isn't there or the permissions don't allow access.\u001b[39;00m\n",
      "File \u001b[1;32m~\\AppData\\Local\\Programs\\Python\\Python39\\lib\\site-packages\\MDAnalysis\\lib\\picklable_file_io.py:478\u001b[0m, in \u001b[0;36mbz2_pickle_open\u001b[1;34m(name, mode)\u001b[0m\n\u001b[0;32m    477\u001b[0m bz_mode \u001b[38;5;241m=\u001b[39m mode\u001b[38;5;241m.\u001b[39mreplace(\u001b[38;5;124m\"\u001b[39m\u001b[38;5;124mt\u001b[39m\u001b[38;5;124m\"\u001b[39m, \u001b[38;5;124m\"\u001b[39m\u001b[38;5;124m\"\u001b[39m)\n\u001b[1;32m--> 478\u001b[0m binary_file \u001b[38;5;241m=\u001b[39m \u001b[43mBZ2Picklable\u001b[49m\u001b[43m(\u001b[49m\u001b[43mname\u001b[49m\u001b[43m,\u001b[49m\u001b[43m \u001b[49m\u001b[43mbz_mode\u001b[49m\u001b[43m)\u001b[49m\n\u001b[0;32m    479\u001b[0m \u001b[38;5;28;01mif\u001b[39;00m \u001b[38;5;124m\"\u001b[39m\u001b[38;5;124mt\u001b[39m\u001b[38;5;124m\"\u001b[39m \u001b[38;5;129;01min\u001b[39;00m mode:\n",
      "File \u001b[1;32m~\\AppData\\Local\\Programs\\Python\\Python39\\lib\\site-packages\\MDAnalysis\\lib\\picklable_file_io.py:266\u001b[0m, in \u001b[0;36mBZ2Picklable.__init__\u001b[1;34m(self, name, mode)\u001b[0m\n\u001b[0;32m    265\u001b[0m \u001b[38;5;28mself\u001b[39m\u001b[38;5;241m.\u001b[39m_bz_mode \u001b[38;5;241m=\u001b[39m mode\n\u001b[1;32m--> 266\u001b[0m \u001b[38;5;28;43msuper\u001b[39;49m\u001b[43m(\u001b[49m\u001b[43m)\u001b[49m\u001b[38;5;241;43m.\u001b[39;49m\u001b[38;5;21;43m__init__\u001b[39;49m\u001b[43m(\u001b[49m\u001b[43mname\u001b[49m\u001b[43m,\u001b[49m\u001b[43m \u001b[49m\u001b[43mmode\u001b[49m\u001b[43m)\u001b[49m\n",
      "File \u001b[1;32m~\\AppData\\Local\\Programs\\Python\\Python39\\lib\\bz2.py:85\u001b[0m, in \u001b[0;36mBZ2File.__init__\u001b[1;34m(self, filename, mode, compresslevel)\u001b[0m\n\u001b[0;32m     84\u001b[0m \u001b[38;5;28;01mif\u001b[39;00m \u001b[38;5;28misinstance\u001b[39m(filename, (\u001b[38;5;28mstr\u001b[39m, \u001b[38;5;28mbytes\u001b[39m, os\u001b[38;5;241m.\u001b[39mPathLike)):\n\u001b[1;32m---> 85\u001b[0m     \u001b[38;5;28mself\u001b[39m\u001b[38;5;241m.\u001b[39m_fp \u001b[38;5;241m=\u001b[39m \u001b[43m_builtin_open\u001b[49m\u001b[43m(\u001b[49m\u001b[43mfilename\u001b[49m\u001b[43m,\u001b[49m\u001b[43m \u001b[49m\u001b[43mmode\u001b[49m\u001b[43m)\u001b[49m\n\u001b[0;32m     86\u001b[0m     \u001b[38;5;28mself\u001b[39m\u001b[38;5;241m.\u001b[39m_closefp \u001b[38;5;241m=\u001b[39m \u001b[38;5;28;01mTrue\u001b[39;00m\n",
      "\u001b[1;31mFileNotFoundError\u001b[0m: [Errno 2] No such file or directory: '/home/hanaz63/nobackup/gromacs/H2O_H2O_0009/H2O_H2O_0009.xvg'",
      "\nThe above exception was the direct cause of the following exception:\n",
      "\u001b[1;31mFileNotFoundError\u001b[0m                         Traceback (most recent call last)",
      "Cell \u001b[1;32mIn[25], line 13\u001b[0m\n\u001b[0;32m      9\u001b[0m my_selection \u001b[38;5;241m=\u001b[39m \u001b[38;5;124m\"\u001b[39m\u001b[38;5;124mbynum 4:6\u001b[39m\u001b[38;5;124m\"\u001b[39m\n\u001b[0;32m     12\u001b[0m \u001b[38;5;66;03m# read everything from files \u001b[39;00m\n\u001b[1;32m---> 13\u001b[0m pce \u001b[38;5;241m=\u001b[39m \u001b[43mPostCalculationEvaluator\u001b[49m\u001b[43m(\u001b[49m\u001b[43mmy_name\u001b[49m\u001b[43m,\u001b[49m\u001b[43m \u001b[49m\u001b[43mmy_selection\u001b[49m\u001b[43m)\u001b[49m\n\u001b[0;32m     16\u001b[0m \u001b[38;5;66;03m# display\u001b[39;00m\n\u001b[0;32m     17\u001b[0m vm \u001b[38;5;241m=\u001b[39m ViewManager(pce\u001b[38;5;241m.\u001b[39mu)\n",
      "Cell \u001b[1;32mIn[24], line 22\u001b[0m, in \u001b[0;36mPostCalculationEvaluator.__init__\u001b[1;34m(self, name_pt, default_atom_selection)\u001b[0m\n\u001b[0;32m     20\u001b[0m \u001b[38;5;28mself\u001b[39m\u001b[38;5;241m.\u001b[39mdefault_atom_selection \u001b[38;5;241m=\u001b[39m default_atom_selection\n\u001b[0;32m     21\u001b[0m \u001b[38;5;28mself\u001b[39m\u001b[38;5;241m.\u001b[39mu \u001b[38;5;241m=\u001b[39m \u001b[38;5;28mself\u001b[39m\u001b[38;5;241m.\u001b[39mread_u_PT()\n\u001b[1;32m---> 22\u001b[0m \u001b[38;5;28mself\u001b[39m\u001b[38;5;241m.\u001b[39mparsed_trajectory \u001b[38;5;241m=\u001b[39m \u001b[38;5;28;43mself\u001b[39;49m\u001b[38;5;241;43m.\u001b[39;49m\u001b[43mread_parsed_trajectory_PT\u001b[49m\u001b[43m(\u001b[49m\u001b[43m)\u001b[49m\n\u001b[0;32m     23\u001b[0m \u001b[38;5;28mself\u001b[39m\u001b[38;5;241m.\u001b[39mfg \u001b[38;5;241m=\u001b[39m \u001b[38;5;28mself\u001b[39m\u001b[38;5;241m.\u001b[39mread_fg_PT()\n\u001b[0;32m     24\u001b[0m \u001b[38;5;28;01mtry\u001b[39;00m:\n",
      "Cell \u001b[1;32mIn[24], line 57\u001b[0m, in \u001b[0;36mPostCalculationEvaluator.read_parsed_trajectory_PT\u001b[1;34m(self)\u001b[0m\n\u001b[0;32m     55\u001b[0m pt_parser \u001b[38;5;241m=\u001b[39m FileParser(\u001b[38;5;124mf\u001b[39m\u001b[38;5;124m\"\u001b[39m\u001b[38;5;132;01m{\u001b[39;00mPATH_OUTPUT_PT\u001b[38;5;132;01m}\u001b[39;00m\u001b[38;5;132;01m{\u001b[39;00m\u001b[38;5;28mself\u001b[39m\u001b[38;5;241m.\u001b[39mname_pt\u001b[38;5;132;01m}\u001b[39;00m\u001b[38;5;124m.gro\u001b[39m\u001b[38;5;124m\"\u001b[39m, \u001b[38;5;124mf\u001b[39m\u001b[38;5;124m\"\u001b[39m\u001b[38;5;132;01m{\u001b[39;00mPATH_OUTPUT_PT\u001b[38;5;132;01m}\u001b[39;00m\u001b[38;5;132;01m{\u001b[39;00m\u001b[38;5;28mself\u001b[39m\u001b[38;5;241m.\u001b[39mname_pt\u001b[38;5;132;01m}\u001b[39;00m\u001b[38;5;124m.xtc\u001b[39m\u001b[38;5;124m\"\u001b[39m)\n\u001b[0;32m     56\u001b[0m pt \u001b[38;5;241m=\u001b[39m pt_parser\u001b[38;5;241m.\u001b[39mget_parsed_trajectory(default_atom_selection\u001b[38;5;241m=\u001b[39m\u001b[38;5;28mself\u001b[39m\u001b[38;5;241m.\u001b[39mdefault_atom_selection)\n\u001b[1;32m---> 57\u001b[0m pt\u001b[38;5;241m.\u001b[39menergies \u001b[38;5;241m=\u001b[39m \u001b[38;5;28;43mself\u001b[39;49m\u001b[38;5;241;43m.\u001b[39;49m\u001b[43mread_energy_PT\u001b[49m\u001b[43m(\u001b[49m\u001b[43m)\u001b[49m\n\u001b[0;32m     58\u001b[0m \u001b[38;5;28;01mreturn\u001b[39;00m pt\n",
      "Cell \u001b[1;32mIn[24], line 90\u001b[0m, in \u001b[0;36mPostCalculationEvaluator.read_energy_PT\u001b[1;34m(self)\u001b[0m\n\u001b[0;32m     89\u001b[0m \u001b[38;5;28;01mdef\u001b[39;00m \u001b[38;5;21mread_energy_PT\u001b[39m(\u001b[38;5;28mself\u001b[39m):\n\u001b[1;32m---> 90\u001b[0m     my_parser \u001b[38;5;241m=\u001b[39m \u001b[43mXVGParser\u001b[49m\u001b[43m(\u001b[49m\u001b[38;5;124;43mf\u001b[39;49m\u001b[38;5;124;43m\"\u001b[39;49m\u001b[38;5;124;43m/home/hanaz63/nobackup/gromacs/\u001b[39;49m\u001b[38;5;132;43;01m{\u001b[39;49;00m\u001b[38;5;28;43mself\u001b[39;49m\u001b[38;5;241;43m.\u001b[39;49m\u001b[43mname_pt\u001b[49m\u001b[38;5;132;43;01m}\u001b[39;49;00m\u001b[38;5;124;43m/\u001b[39;49m\u001b[38;5;132;43;01m{\u001b[39;49;00m\u001b[38;5;28;43mself\u001b[39;49m\u001b[38;5;241;43m.\u001b[39;49m\u001b[43mname_pt\u001b[49m\u001b[38;5;132;43;01m}\u001b[39;49;00m\u001b[38;5;124;43m.xvg\u001b[39;49m\u001b[38;5;124;43m\"\u001b[39;49m\u001b[43m)\u001b[49m\n\u001b[0;32m     91\u001b[0m     \u001b[38;5;28;01mreturn\u001b[39;00m my_parser\u001b[38;5;241m.\u001b[39mget_parsed_energy()\n",
      "File \u001b[1;32mD:\\HANA\\phD\\PAPER_2022\\molecularRotationalGrids\\molgri\\molecules\\parsers.py:319\u001b[0m, in \u001b[0;36m__init__\u001b[1;34m(self, path_xvg)\u001b[0m\n\u001b[0;32m    317\u001b[0m     \u001b[38;5;28mself\u001b[39m\u001b[38;5;241m.\u001b[39mpath_name \u001b[38;5;241m=\u001b[39m \u001b[38;5;124mf\u001b[39m\u001b[38;5;124m\"\u001b[39m\u001b[38;5;132;01m{\u001b[39;00mpath_xvg\u001b[38;5;132;01m}\u001b[39;00m\u001b[38;5;124m.xvg\u001b[39m\u001b[38;5;124m\"\u001b[39m\n\u001b[0;32m    318\u001b[0m \u001b[38;5;28;01melse\u001b[39;00m:\n\u001b[1;32m--> 319\u001b[0m     \u001b[38;5;28mself\u001b[39m\u001b[38;5;241m.\u001b[39mpath_name \u001b[38;5;241m=\u001b[39m path_xvg\n\u001b[0;32m    320\u001b[0m reader \u001b[38;5;241m=\u001b[39m XVGReader(\u001b[38;5;28mself\u001b[39m\u001b[38;5;241m.\u001b[39mpath_name)\n\u001b[0;32m    321\u001b[0m \u001b[38;5;28mself\u001b[39m\u001b[38;5;241m.\u001b[39mall_values \u001b[38;5;241m=\u001b[39m reader\u001b[38;5;241m.\u001b[39m_auxdata_values\n",
      "File \u001b[1;32m~\\AppData\\Local\\Programs\\Python\\Python39\\lib\\site-packages\\MDAnalysis\\auxiliary\\XVG.py:186\u001b[0m, in \u001b[0;36mXVGReader.__init__\u001b[1;34m(self, filename, **kwargs)\u001b[0m\n\u001b[0;32m    184\u001b[0m \u001b[38;5;28;01mdef\u001b[39;00m \u001b[38;5;21m__init__\u001b[39m(\u001b[38;5;28mself\u001b[39m, filename, \u001b[38;5;241m*\u001b[39m\u001b[38;5;241m*\u001b[39mkwargs):\n\u001b[0;32m    185\u001b[0m     \u001b[38;5;28mself\u001b[39m\u001b[38;5;241m.\u001b[39m_auxdata \u001b[38;5;241m=\u001b[39m os\u001b[38;5;241m.\u001b[39mpath\u001b[38;5;241m.\u001b[39mabspath(filename)\n\u001b[1;32m--> 186\u001b[0m     \u001b[38;5;28;01mwith\u001b[39;00m \u001b[43manyopen\u001b[49m\u001b[43m(\u001b[49m\u001b[43mfilename\u001b[49m\u001b[43m)\u001b[49m \u001b[38;5;28;01mas\u001b[39;00m xvg_file:\n\u001b[0;32m    187\u001b[0m         lines \u001b[38;5;241m=\u001b[39m xvg_file\u001b[38;5;241m.\u001b[39mreadlines()\n\u001b[0;32m    188\u001b[0m     auxdata_values \u001b[38;5;241m=\u001b[39m []\n",
      "File \u001b[1;32m~\\AppData\\Local\\Programs\\Python\\Python39\\lib\\site-packages\\MDAnalysis\\lib\\util.py:397\u001b[0m, in \u001b[0;36manyopen\u001b[1;34m(datasource, mode, reset)\u001b[0m\n\u001b[0;32m    395\u001b[0m \u001b[38;5;28;01mfor\u001b[39;00m ext \u001b[38;5;129;01min\u001b[39;00m (\u001b[38;5;124m'\u001b[39m\u001b[38;5;124mbz2\u001b[39m\u001b[38;5;124m'\u001b[39m, \u001b[38;5;124m'\u001b[39m\u001b[38;5;124mgz\u001b[39m\u001b[38;5;124m'\u001b[39m, \u001b[38;5;124m'\u001b[39m\u001b[38;5;124m'\u001b[39m):  \u001b[38;5;66;03m# file == '' should be last\u001b[39;00m\n\u001b[0;32m    396\u001b[0m     openfunc \u001b[38;5;241m=\u001b[39m read_handlers[ext]\n\u001b[1;32m--> 397\u001b[0m     stream \u001b[38;5;241m=\u001b[39m \u001b[43m_get_stream\u001b[49m\u001b[43m(\u001b[49m\u001b[43mdatasource\u001b[49m\u001b[43m,\u001b[49m\u001b[43m \u001b[49m\u001b[43mopenfunc\u001b[49m\u001b[43m,\u001b[49m\u001b[43m \u001b[49m\u001b[43mmode\u001b[49m\u001b[38;5;241;43m=\u001b[39;49m\u001b[43mmode\u001b[49m\u001b[43m)\u001b[49m\n\u001b[0;32m    398\u001b[0m     \u001b[38;5;28;01mif\u001b[39;00m stream \u001b[38;5;129;01mis\u001b[39;00m \u001b[38;5;129;01mnot\u001b[39;00m \u001b[38;5;28;01mNone\u001b[39;00m:\n\u001b[0;32m    399\u001b[0m         \u001b[38;5;28;01mbreak\u001b[39;00m\n",
      "File \u001b[1;32m~\\AppData\\Local\\Programs\\Python\\Python39\\lib\\site-packages\\MDAnalysis\\lib\\util.py:439\u001b[0m, in \u001b[0;36m_get_stream\u001b[1;34m(filename, openfunction, mode)\u001b[0m\n\u001b[0;32m    434\u001b[0m \u001b[38;5;28;01mexcept\u001b[39;00m (\u001b[38;5;167;01mIOError\u001b[39;00m, \u001b[38;5;167;01mOSError\u001b[39;00m) \u001b[38;5;28;01mas\u001b[39;00m err:\n\u001b[0;32m    435\u001b[0m     \u001b[38;5;66;03m# An exception might be raised due to two reasons, first the openfunction is unable to open the file, in this\u001b[39;00m\n\u001b[0;32m    436\u001b[0m     \u001b[38;5;66;03m# case we have to ignore the error and return None. Second is when openfunction can't open the file because\u001b[39;00m\n\u001b[0;32m    437\u001b[0m     \u001b[38;5;66;03m# either the file isn't there or the permissions don't allow access.\u001b[39;00m\n\u001b[0;32m    438\u001b[0m     \u001b[38;5;28;01mif\u001b[39;00m errno\u001b[38;5;241m.\u001b[39merrorcode[err\u001b[38;5;241m.\u001b[39merrno] \u001b[38;5;129;01min\u001b[39;00m [\u001b[38;5;124m'\u001b[39m\u001b[38;5;124mENOENT\u001b[39m\u001b[38;5;124m'\u001b[39m, \u001b[38;5;124m'\u001b[39m\u001b[38;5;124mEACCES\u001b[39m\u001b[38;5;124m'\u001b[39m]:\n\u001b[1;32m--> 439\u001b[0m         \u001b[38;5;28;01mraise\u001b[39;00m sys\u001b[38;5;241m.\u001b[39mexc_info()[\u001b[38;5;241m1\u001b[39m] \u001b[38;5;28;01mfrom\u001b[39;00m \u001b[38;5;21;01merr\u001b[39;00m\n\u001b[0;32m    440\u001b[0m     \u001b[38;5;28;01mreturn\u001b[39;00m \u001b[38;5;28;01mNone\u001b[39;00m\n\u001b[0;32m    441\u001b[0m \u001b[38;5;28;01mif\u001b[39;00m mode\u001b[38;5;241m.\u001b[39mstartswith(\u001b[38;5;124m'\u001b[39m\u001b[38;5;124mr\u001b[39m\u001b[38;5;124m'\u001b[39m):\n\u001b[0;32m    442\u001b[0m     \u001b[38;5;66;03m# additional check for reading (eg can we uncompress) --- is this needed?\u001b[39;00m\n",
      "File \u001b[1;32m~\\AppData\\Local\\Programs\\Python\\Python39\\lib\\site-packages\\MDAnalysis\\lib\\util.py:433\u001b[0m, in \u001b[0;36m_get_stream\u001b[1;34m(filename, openfunction, mode)\u001b[0m\n\u001b[0;32m    431\u001b[0m \u001b[38;5;250m\u001b[39m\u001b[38;5;124;03m\"\"\"Return open stream if *filename* can be opened with *openfunction* or else ``None``.\"\"\"\u001b[39;00m\n\u001b[0;32m    432\u001b[0m \u001b[38;5;28;01mtry\u001b[39;00m:\n\u001b[1;32m--> 433\u001b[0m     stream \u001b[38;5;241m=\u001b[39m \u001b[43mopenfunction\u001b[49m\u001b[43m(\u001b[49m\u001b[43mfilename\u001b[49m\u001b[43m,\u001b[49m\u001b[43m \u001b[49m\u001b[43mmode\u001b[49m\u001b[38;5;241;43m=\u001b[39;49m\u001b[43mmode\u001b[49m\u001b[43m)\u001b[49m\n\u001b[0;32m    434\u001b[0m \u001b[38;5;28;01mexcept\u001b[39;00m (\u001b[38;5;167;01mIOError\u001b[39;00m, \u001b[38;5;167;01mOSError\u001b[39;00m) \u001b[38;5;28;01mas\u001b[39;00m err:\n\u001b[0;32m    435\u001b[0m     \u001b[38;5;66;03m# An exception might be raised due to two reasons, first the openfunction is unable to open the file, in this\u001b[39;00m\n\u001b[0;32m    436\u001b[0m     \u001b[38;5;66;03m# case we have to ignore the error and return None. Second is when openfunction can't open the file because\u001b[39;00m\n\u001b[0;32m    437\u001b[0m     \u001b[38;5;66;03m# either the file isn't there or the permissions don't allow access.\u001b[39;00m\n\u001b[0;32m    438\u001b[0m     \u001b[38;5;28;01mif\u001b[39;00m errno\u001b[38;5;241m.\u001b[39merrorcode[err\u001b[38;5;241m.\u001b[39merrno] \u001b[38;5;129;01min\u001b[39;00m [\u001b[38;5;124m'\u001b[39m\u001b[38;5;124mENOENT\u001b[39m\u001b[38;5;124m'\u001b[39m, \u001b[38;5;124m'\u001b[39m\u001b[38;5;124mEACCES\u001b[39m\u001b[38;5;124m'\u001b[39m]:\n",
      "File \u001b[1;32m~\\AppData\\Local\\Programs\\Python\\Python39\\lib\\site-packages\\MDAnalysis\\lib\\picklable_file_io.py:478\u001b[0m, in \u001b[0;36mbz2_pickle_open\u001b[1;34m(name, mode)\u001b[0m\n\u001b[0;32m    475\u001b[0m     \u001b[38;5;28;01mraise\u001b[39;00m \u001b[38;5;167;01mValueError\u001b[39;00m(\u001b[38;5;124m\"\u001b[39m\u001b[38;5;124mOnly read mode (\u001b[39m\u001b[38;5;124m'\u001b[39m\u001b[38;5;124mr\u001b[39m\u001b[38;5;124m'\u001b[39m\u001b[38;5;124m, \u001b[39m\u001b[38;5;124m'\u001b[39m\u001b[38;5;124mrt\u001b[39m\u001b[38;5;124m'\u001b[39m\u001b[38;5;124m, \u001b[39m\u001b[38;5;124m'\u001b[39m\u001b[38;5;124mrb\u001b[39m\u001b[38;5;124m'\u001b[39m\u001b[38;5;124m) \u001b[39m\u001b[38;5;124m\"\u001b[39m\n\u001b[0;32m    476\u001b[0m                      \u001b[38;5;124m\"\u001b[39m\u001b[38;5;124mfiles can be pickled.\u001b[39m\u001b[38;5;124m\"\u001b[39m)\n\u001b[0;32m    477\u001b[0m bz_mode \u001b[38;5;241m=\u001b[39m mode\u001b[38;5;241m.\u001b[39mreplace(\u001b[38;5;124m\"\u001b[39m\u001b[38;5;124mt\u001b[39m\u001b[38;5;124m\"\u001b[39m, \u001b[38;5;124m\"\u001b[39m\u001b[38;5;124m\"\u001b[39m)\n\u001b[1;32m--> 478\u001b[0m binary_file \u001b[38;5;241m=\u001b[39m \u001b[43mBZ2Picklable\u001b[49m\u001b[43m(\u001b[49m\u001b[43mname\u001b[49m\u001b[43m,\u001b[49m\u001b[43m \u001b[49m\u001b[43mbz_mode\u001b[49m\u001b[43m)\u001b[49m\n\u001b[0;32m    479\u001b[0m \u001b[38;5;28;01mif\u001b[39;00m \u001b[38;5;124m\"\u001b[39m\u001b[38;5;124mt\u001b[39m\u001b[38;5;124m\"\u001b[39m \u001b[38;5;129;01min\u001b[39;00m mode:\n\u001b[0;32m    480\u001b[0m     \u001b[38;5;28;01mreturn\u001b[39;00m TextIOPicklable(binary_file)\n",
      "File \u001b[1;32m~\\AppData\\Local\\Programs\\Python\\Python39\\lib\\site-packages\\MDAnalysis\\lib\\picklable_file_io.py:266\u001b[0m, in \u001b[0;36mBZ2Picklable.__init__\u001b[1;34m(self, name, mode)\u001b[0m\n\u001b[0;32m    264\u001b[0m \u001b[38;5;28;01mdef\u001b[39;00m \u001b[38;5;21m__init__\u001b[39m(\u001b[38;5;28mself\u001b[39m, name, mode\u001b[38;5;241m=\u001b[39m\u001b[38;5;124m'\u001b[39m\u001b[38;5;124mrb\u001b[39m\u001b[38;5;124m'\u001b[39m):\n\u001b[0;32m    265\u001b[0m     \u001b[38;5;28mself\u001b[39m\u001b[38;5;241m.\u001b[39m_bz_mode \u001b[38;5;241m=\u001b[39m mode\n\u001b[1;32m--> 266\u001b[0m     \u001b[38;5;28;43msuper\u001b[39;49m\u001b[43m(\u001b[49m\u001b[43m)\u001b[49m\u001b[38;5;241;43m.\u001b[39;49m\u001b[38;5;21;43m__init__\u001b[39;49m\u001b[43m(\u001b[49m\u001b[43mname\u001b[49m\u001b[43m,\u001b[49m\u001b[43m \u001b[49m\u001b[43mmode\u001b[49m\u001b[43m)\u001b[49m\n",
      "File \u001b[1;32m~\\AppData\\Local\\Programs\\Python\\Python39\\lib\\bz2.py:85\u001b[0m, in \u001b[0;36mBZ2File.__init__\u001b[1;34m(self, filename, mode, compresslevel)\u001b[0m\n\u001b[0;32m     82\u001b[0m     \u001b[38;5;28;01mraise\u001b[39;00m \u001b[38;5;167;01mValueError\u001b[39;00m(\u001b[38;5;124m\"\u001b[39m\u001b[38;5;124mInvalid mode: \u001b[39m\u001b[38;5;132;01m%r\u001b[39;00m\u001b[38;5;124m\"\u001b[39m \u001b[38;5;241m%\u001b[39m (mode,))\n\u001b[0;32m     84\u001b[0m \u001b[38;5;28;01mif\u001b[39;00m \u001b[38;5;28misinstance\u001b[39m(filename, (\u001b[38;5;28mstr\u001b[39m, \u001b[38;5;28mbytes\u001b[39m, os\u001b[38;5;241m.\u001b[39mPathLike)):\n\u001b[1;32m---> 85\u001b[0m     \u001b[38;5;28mself\u001b[39m\u001b[38;5;241m.\u001b[39m_fp \u001b[38;5;241m=\u001b[39m \u001b[43m_builtin_open\u001b[49m\u001b[43m(\u001b[49m\u001b[43mfilename\u001b[49m\u001b[43m,\u001b[49m\u001b[43m \u001b[49m\u001b[43mmode\u001b[49m\u001b[43m)\u001b[49m\n\u001b[0;32m     86\u001b[0m     \u001b[38;5;28mself\u001b[39m\u001b[38;5;241m.\u001b[39m_closefp \u001b[38;5;241m=\u001b[39m \u001b[38;5;28;01mTrue\u001b[39;00m\n\u001b[0;32m     87\u001b[0m     \u001b[38;5;28mself\u001b[39m\u001b[38;5;241m.\u001b[39m_mode \u001b[38;5;241m=\u001b[39m mode_code\n",
      "\u001b[1;31mFileNotFoundError\u001b[0m: [Errno 2] No such file or directory: '/home/hanaz63/nobackup/gromacs/H2O_H2O_0009/H2O_H2O_0009.xvg'"
     ]
    }
   ],
   "source": [
    "# EXAMPLE - \n",
    "\n",
    "# changeable parameters\n",
    "my_name1 = \"H2O\"\n",
    "my_name2 = \"H2O\"\n",
    "my_num = \"0099\"\n",
    "\n",
    "my_name = f\"{my_name1}_{my_name2}_{my_num}\"\n",
    "my_selection = \"bynum 4:6\"\n",
    "\n",
    "\n",
    "# read everything from files \n",
    "pce = PostCalculationEvaluator(my_name, my_selection)\n",
    "\n",
    "\n",
    "# display\n",
    "vm = ViewManager(pce.u)\n",
    "vm.fresh_view()\n",
    "\n",
    "# magnitudes\n",
    "mch = MplColorHelper()\n",
    "magnitudes = pce.get_magnitude_energy(\"Potential\")\n",
    "\n",
    "\n",
    "colors = np.array([mch.get_hex(mag) for mag in magnitudes])\n",
    "\n",
    "\n",
    "# 5 largest, 5 smallest\n",
    "num_extremes = 5\n",
    "argmin_index = k_argmin_in_array(magnitudes, num_extremes)\n",
    "argmax_index = k_argmax_in_array(magnitudes, num_extremes)\n",
    "both_index = [*argmax_index, *argmin_index]\n",
    "\n",
    "print(magnitudes[both_index])\n",
    "\n",
    "vm.plot_frames_overlapping(both_index, colors=colors[both_index], opacities=[0.5]*len(both_index))"
   ]
  },
  {
   "cell_type": "code",
   "execution_count": null,
   "id": "a2751284",
   "metadata": {
    "ExecuteTime": {
     "end_time": "2024-01-15T13:10:37.029096Z",
     "start_time": "2024-01-15T13:10:37.029096Z"
    }
   },
   "outputs": [],
   "source": [
    "# EXAMPLE - eigenvector\n",
    "\n",
    "# display\n",
    "vm = ViewManager(pce.u)\n",
    "vm.fresh_view()\n",
    "\n",
    "# magnitudes\n",
    "mch = MplColorHelper()\n",
    "magnitudes = pce.get_magnitude_ith_eigenvector(2)\n",
    "\n",
    "colors = np.array([mch.get_hex(mag) for mag in magnitudes])\n",
    "\n",
    "\n",
    "# 5 largest, 5 smallest\n",
    "num_extremes = 20\n",
    "argmin_index = k_argmin_in_array(magnitudes, num_extremes)\n",
    "argmax_index = k_argmax_in_array(magnitudes, num_extremes)\n",
    "both_index = [*argmax_index, *argmin_index]\n",
    "\n",
    "print(magnitudes[both_index])\n",
    "\n",
    "vm.plot_frames_overlapping(both_index, colors=colors[both_index], opacities=[0.5]*len(both_index))\n",
    "vm.view"
   ]
  },
  {
   "cell_type": "code",
   "execution_count": 14,
   "id": "61acfc01",
   "metadata": {
    "ExecuteTime": {
     "end_time": "2024-01-15T13:18:12.781115Z",
     "start_time": "2024-01-15T13:17:38.318030Z"
    },
    "scrolled": false
   },
   "outputs": [
    {
     "name": "stdout",
     "output_type": "stream",
     "text": [
      "[1573 1574 1575 1576 1577 1578 1579 1580 1581 1582 1583 1584 1585 1586\n",
      " 1587 1588 1589 1590 1591 1592 1593 1594 1595 1596 1597 1598 1599 1779\n",
      " 1780 1781 1782 1783 1784 1785 1786 1787 1788 1789 1790 1791 1792 1793\n",
      " 1794 1795 1796 1797 1798 1799 1800 1801]\n"
     ]
    },
    {
     "data": {
      "application/vnd.jupyter.widget-view+json": {
       "model_id": "4532624d674e4d938bd3b37d3e022307",
       "version_major": 2,
       "version_minor": 0
      },
      "text/plain": [
       "NGLWidget()"
      ]
     },
     "metadata": {},
     "output_type": "display_data"
    }
   ],
   "source": [
    "# not PT\n",
    "my_path = \"D:\\HANA\\phD\\PAPER_2022\\molecularRotationalGrids\\output\\H2O_H2O_0095_2000\\\\\"\n",
    "\n",
    "u_traj = mda.Universe(f\"{my_path}H2O_H2O_0095.gro\", f\"{my_path}fitted_output.xtc\")\n",
    "\n",
    "fg = FullGrid(o_grid_name=\"12\", b_grid_name=\"8\", t_grid_name=\"linspace(0.2, 1, 20)\", use_saved=True)\n",
    "\n",
    "\n",
    "\n",
    "my_path = \"D:\\HANA\\phD\\PAPER_2022\\molecularRotationalGrids\\output\\H2O_H2O_0095_2000\\\\\"\n",
    "topology = f\"{my_path}H2O_H2O_0095.gro\"\n",
    "coordinates = f\"{my_path}fitted_output.xtc\"\n",
    "energy = f\"{my_path}full_energy.xvg\"\n",
    "\n",
    "# preparing the parsed trajectory\n",
    "my_parser = XVGParser(energy)\n",
    "pe = my_parser.get_parsed_energy()\n",
    "pt_parser = FileParser(\n",
    "    path_topology=topology,\n",
    "    path_trajectory=coordinates)\n",
    "parsed_trajectory = pt_parser.get_parsed_trajectory(default_atom_selection=\"bynum 4:6\")\n",
    "parsed_trajectory.energies = pe\n",
    "\n",
    "\n",
    "sm = SimulationHistogram(parsed_trajectory, fg)\n",
    "my_array1 = sm.get_all_assignments()\n",
    "\n",
    "cell_74 = np.where(my_array1==74)[0]\n",
    "print(cell_74)\n",
    "\n",
    "#view = nv.show_mdanalysis(u_traj)\n",
    "#view.add_unitcell()\n",
    "#view\n",
    "vm = ViewManager(u_traj)\n",
    "vm.fresh_view()\n",
    "vm.plot_frames_overlapping(cell_74)"
   ]
  },
  {
   "cell_type": "code",
   "execution_count": 16,
   "id": "9db6ecf7",
   "metadata": {
    "ExecuteTime": {
     "end_time": "2024-01-15T13:21:44.859569Z",
     "start_time": "2024-01-15T13:21:40.291269Z"
    }
   },
   "outputs": [
    {
     "name": "stdout",
     "output_type": "stream",
     "text": [
      "[1059 1065 1064 1063 1298 1297 1296 1295 1294 1293 1292 1062 1061 1060\n",
      " 1056 1057 1058 1291 1299 1066]\n"
     ]
    },
    {
     "data": {
      "application/vnd.jupyter.widget-view+json": {
       "model_id": "251eb5b056044bb5bce31f0683c4c063",
       "version_major": 2,
       "version_minor": 0
      },
      "text/plain": [
       "NGLWidget()"
      ]
     },
     "metadata": {},
     "output_type": "display_data"
    }
   ],
   "source": [
    "all_energies = parsed_trajectory.energies.get_energies(\"Potential\")\n",
    "lowest_E = k_argmin_in_array(all_energies, 20)\n",
    "print(lowest_E)\n",
    "vm.fresh_view()\n",
    "vm.plot_frames_overlapping(lowest_E)"
   ]
  },
  {
   "cell_type": "code",
   "execution_count": 29,
   "id": "47932c22",
   "metadata": {
    "ExecuteTime": {
     "end_time": "2024-01-15T14:17:19.592170Z",
     "start_time": "2024-01-15T14:17:15.061072Z"
    }
   },
   "outputs": [
    {
     "data": {
      "application/vnd.jupyter.widget-view+json": {
       "model_id": "f5127ce6731f45459ba837faf14c3cb2",
       "version_major": 2,
       "version_minor": 0
      },
      "text/plain": [
       "NGLWidget()"
      ]
     },
     "metadata": {},
     "output_type": "display_data"
    }
   ],
   "source": [
    "# create PT that belongs to the full grid\n",
    "from molgri.molecules.writers import PtIOManager\n",
    "manager = PtIOManager(\"H2O\", \"H2O\", o_grid_name=\"12\", b_grid_name=\"8\", t_grid_name=\"linspace(0.2, 1, 20)\")\n",
    "my_pt = manager.construct_pt()\n",
    "\n",
    "my_name = f\"H2O_H2O_0009\"\n",
    "my_selection = \"bynum 4:6\"\n",
    "\n",
    "\n",
    "# read everything from files \n",
    "u_pt = mda.Universe(f\"{PATH_OUTPUT_PT}H2O_H2O_0009.gro\", f\"{PATH_OUTPUT_PT}H2O_H2O_0009.xtc\")\n",
    "vm = ViewManager(u_pt)\n",
    "vm.fresh_view()\n",
    "vm.plot_ith_frame(74)"
   ]
  },
  {
   "cell_type": "code",
   "execution_count": null,
   "id": "9ebcf8b6",
   "metadata": {},
   "outputs": [],
   "source": [
    "# TODO: enable different colormaps\n",
    "# TODO: enable expressing magnitude as opacity\n",
    "# TODO: enable plotting only the most extrem values (most + and - for eigenvector)\n",
    "# TODO: plot eigenvectors and see if they are sensible\n",
    "# TODO: also plot 1D eigenvectors sorted by orientation/position\n",
    "# TODO: network flow plot for strongest rates?\n",
    "\n",
    "# TODO: make transition matrix determination faster and try it for a large matrix\n",
    "# TODO: HF forcefield and calculations\n",
    "# TODO: enable the same for plotting for simulations (real trajectories)"
   ]
  }
 ],
 "metadata": {
  "kernelspec": {
   "display_name": "Python 3 (ipykernel)",
   "language": "python",
   "name": "python3"
  },
  "language_info": {
   "codemirror_mode": {
    "name": "ipython",
    "version": 3
   },
   "file_extension": ".py",
   "mimetype": "text/x-python",
   "name": "python",
   "nbconvert_exporter": "python",
   "pygments_lexer": "ipython3",
   "version": "3.9.13"
  },
  "toc": {
   "base_numbering": 1,
   "nav_menu": {},
   "number_sections": true,
   "sideBar": true,
   "skip_h1_title": true,
   "title_cell": "Table of Contents",
   "title_sidebar": "Contents",
   "toc_cell": true,
   "toc_position": {
    "height": "calc(100% - 180px)",
    "left": "10px",
    "top": "150px",
    "width": "384px"
   },
   "toc_section_display": true,
   "toc_window_display": true
  }
 },
 "nbformat": 4,
 "nbformat_minor": 5
}
