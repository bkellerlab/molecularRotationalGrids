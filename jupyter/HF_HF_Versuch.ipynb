{
 "cells": [
  {
   "cell_type": "markdown",
   "id": "1e6e880d",
   "metadata": {
    "toc": true
   },
   "source": [
    "<h1>Table of Contents<span class=\"tocSkip\"></span></h1>\n",
    "<div class=\"toc\"><ul class=\"toc-item\"><li><span><a href=\"#Kleines-Beispiel\" data-toc-modified-id=\"Kleines-Beispiel-1\"><span class=\"toc-item-num\">1&nbsp;&nbsp;</span>Kleines Beispiel</a></span><ul class=\"toc-item\"><li><span><a href=\"#Example---show-PT-structures-with-5-largest-and-5-smallest-potential-energies\" data-toc-modified-id=\"Example---show-PT-structures-with-5-largest-and-5-smallest-potential-energies-1.1\"><span class=\"toc-item-num\">1.1&nbsp;&nbsp;</span>Example - show PT structures with 5 largest and 5 smallest potential energies</a></span></li><li><span><a href=\"#Example---plot-an-eigenvector-of-SqRA\" data-toc-modified-id=\"Example---plot-an-eigenvector-of-SqRA-1.2\"><span class=\"toc-item-num\">1.2&nbsp;&nbsp;</span>Example - plot an eigenvector of SqRA</a></span></li></ul></li><li><span><a href=\"#Classify-full-trajectories-in-cells-of-FullGrid\" data-toc-modified-id=\"Classify-full-trajectories-in-cells-of-FullGrid-2\"><span class=\"toc-item-num\">2&nbsp;&nbsp;</span>Classify full trajectories in cells of FullGrid</a></span></li></ul></div>"
   ]
  },
  {
   "cell_type": "code",
   "execution_count": 1,
   "id": "c651e28c",
   "metadata": {
    "ExecuteTime": {
     "end_time": "2024-01-16T09:18:04.263364Z",
     "start_time": "2024-01-16T09:18:04.260663Z"
    }
   },
   "outputs": [],
   "source": [
    "import sys\n",
    "import os\n",
    "\n",
    "try:\n",
    "    os.chdir(r\"/home/hanaz63/PAPER_MOLECULAR_ROTATIONS_2022/nobackup/molgri\")\n",
    "    sys.path.append(r\"/home/hanaz63/PAPER_MOLECULAR_ROTATIONS_2022/nobackup\")\n",
    "except FileNotFoundError:\n",
    "    os.chdir(r\"D:\\HANA\\phD\\PAPER_2022\\molecularRotationalGrids\")\n",
    "    sys.path.append(r\"D:\\HANA\\phD\\PAPER_2022\\molecularRotationalGrids\")\n",
    "    \n",
    "import warnings\n",
    "warnings.filterwarnings(\"ignore\")"
   ]
  },
  {
   "cell_type": "code",
   "execution_count": 2,
   "id": "50cd4f01",
   "metadata": {
    "ExecuteTime": {
     "end_time": "2024-01-16T09:18:07.665862Z",
     "start_time": "2024-01-16T09:18:04.639826Z"
    }
   },
   "outputs": [
    {
     "data": {
      "application/vnd.jupyter.widget-view+json": {
       "model_id": "2909ee26d0de4c748b0196659843a804",
       "version_major": 2,
       "version_minor": 0
      },
      "text/plain": []
     },
     "metadata": {},
     "output_type": "display_data"
    }
   ],
   "source": [
    "import nglview as nv\n",
    "import MDAnalysis as mda\n",
    "import numpy as np\n",
    "import time\n",
    "import ipywidgets as widgets\n",
    "from scipy.sparse import csr_array\n",
    "from numpy.typing import NDArray\n",
    "import matplotlib\n",
    "\n",
    "from molgri.molecules.transitions import SimulationHistogram, MSM, SQRA\n",
    "from molgri.plotting.molecule_plots import TrajectoryPlot\n",
    "import pandas as pd\n",
    "import matplotlib.pyplot as plt\n",
    "from molgri.molecules.parsers import FileParser, ParsedEnergy, XVGParser\n",
    "\n",
    "from molgri.paths import PATH_OUTPUT_PT, OUTPUT_PLOTTING_DATA, PATH_OUTPUT_LOGGING\n",
    "from molgri.space.fullgrid import FullGrid\n",
    "from molgri.space.utils import k_argmin_in_array, k_argmax_in_array"
   ]
  },
  {
   "cell_type": "markdown",
   "id": "2f47f8cd",
   "metadata": {},
   "source": [
    "Erstmals: wir brauchen eine HF Monomer Datai."
   ]
  },
  {
   "cell_type": "code",
   "execution_count": 3,
   "id": "cd5297fa",
   "metadata": {
    "ExecuteTime": {
     "end_time": "2024-01-16T09:18:07.674299Z",
     "start_time": "2024-01-16T09:18:07.669241Z"
    }
   },
   "outputs": [],
   "source": [
    "%pycat input/HF.xyz"
   ]
  },
  {
   "cell_type": "markdown",
   "id": "00706c27",
   "metadata": {},
   "source": [
    "Nun lass zwei PTs (klein, groß) produzieren:\n",
    "- klein: -o 42 -t \"linspace(0.1, 0.4, 10)\" -b 8\n",
    "- groß: -o 162 -t \"linspace(0.1, 0.4, 20)\" -b 40"
   ]
  },
  {
   "cell_type": "markdown",
   "id": "4ea159de",
   "metadata": {},
   "source": [
    "## Kleines Beispiel\n",
    "- obtain full grid\n",
    "- show full grid coordinates per frame in the corner"
   ]
  },
  {
   "cell_type": "code",
   "execution_count": 4,
   "id": "47955f19",
   "metadata": {
    "ExecuteTime": {
     "end_time": "2024-01-16T09:18:07.696594Z",
     "start_time": "2024-01-16T09:18:07.675547Z"
    }
   },
   "outputs": [],
   "source": [
    "%matplotlib notebook"
   ]
  },
  {
   "cell_type": "code",
   "execution_count": 93,
   "id": "cb164881",
   "metadata": {
    "ExecuteTime": {
     "end_time": "2024-01-16T13:35:02.425162Z",
     "start_time": "2024-01-16T13:35:02.414851Z"
    },
    "code_folding": [
     13
    ]
   },
   "outputs": [],
   "source": [
    "class ViewManager:\n",
    "    \n",
    "    \"\"\"\n",
    "    NGLViewer is very useful but not very convinient for displaying particular frames of a trajectory together, \n",
    "    in particular color schemes etc. This class accepts a MDA Universe and knows how to extract frames from it.\n",
    "    The plotting functions then accept indices (one or several) for this trajectory and display them in a \n",
    "    particular way (overlapping, sequential ...)\n",
    "    \"\"\"\n",
    "    \n",
    "    def __init__(self, u: mda.Universe):\n",
    "        self.u = u\n",
    "        self.fresh_view()\n",
    "    \n",
    "    def fresh_view(self):\n",
    "        \"\"\"\n",
    "        Run this when you want to start a new view and discard an old one.\n",
    "        \"\"\"\n",
    "        self.view = nv.NGLWidget()\n",
    "    \n",
    "    def get_ith_frame(self, i: int) -> mda.Universe:\n",
    "        \"\"\"\n",
    "        The most important method acting on self.u. Get the Universe object containing of all the atoms \n",
    "        but only a single frame (i-th frame).\n",
    "        \n",
    "        Args:\n",
    "            i (int): the index of the frame wanted\n",
    "        \n",
    "        Returns:\n",
    "            a Universe containing the i-th frame of self.u\n",
    "        \"\"\"\n",
    "        self.u.trajectory[i]\n",
    "        all_atoms = self.u.select_atoms('all')\n",
    "        new_u = mda.Merge(self.u.atoms)\n",
    "        return new_u\n",
    "    \n",
    "    def _add_coordinate_axes(self):\n",
    "        \"\"\"\n",
    "        Helper method. Add the x, y and z axes at origin to a NGLView.\n",
    "        \"\"\"\n",
    "        \n",
    "        # arguments of add_arrow are: start position, end position, color (in RGB), radius of arrow head\n",
    "        # arguments of add_label are: position, color (in RGB), size, text\n",
    "        \n",
    "        # X-axis is red\n",
    "        self.view.shape.add_arrow([0, 0, 0], [1, 0, 0],[ 1, 0, 0 ], 0.1)\n",
    "        self.view.shape.add_label([1, 0, 0], [1, 0, 0], 1.5, 'x')\n",
    "        \n",
    "        # Y-axis is green\n",
    "        self.view.shape.add_arrow([0, 0, 0], [0, 1, 0],[0, 1, 0 ], 0.1)\n",
    "        self.view.shape.add_label([0, 1, 0], [0, 1, 0], 1.5, 'y')\n",
    "        \n",
    "        # Z-axis is blue\n",
    "        self.view.shape.add_arrow([0, 0, 0], [0, 0, 1],[0, 0, 1 ], 0.1)\n",
    "        self.view.shape.add_label([0, 0, 1], [0, 0, 1], 1.5, 'z')\n",
    "\n",
    "    def plot_ith_frame(self, frame_i: int, axes: bool = True, **kwargs):\n",
    "        \"\"\"\n",
    "        Plot i-th frame of self.u, adding to self.view.\n",
    "        \n",
    "        Args:\n",
    "            - i: index of the frame\n",
    "            - axes: if True, draw x, y and z axes\n",
    "        \"\"\"\n",
    "        ith_atoms = self.get_ith_frame(frame_i)\n",
    "        \n",
    "        self.view.add_component(ith_atoms, default_representation=False)\n",
    "        # the index is there in order to only affect the last added representation\n",
    "        self.view[-1].add_representation(\"ball+stick\", **kwargs)\n",
    "        if axes:\n",
    "            self._add_coordinate_axes()\n",
    "        return self.view\n",
    "    \n",
    "    def _add_optional_representation_parameters(self, my_index: int, colors: list, opacities: list):\n",
    "        \"\"\"\n",
    "        Helper method if you want to plot several view and pass arguments to them.\n",
    "        \"\"\"\n",
    "        kwargs = {}\n",
    "        if colors is not None:\n",
    "            kwargs[\"color\"] = colors[my_index]\n",
    "        if opacities is not None:\n",
    "            kwargs[\"opacity\"] = opacities[my_index]\n",
    "        return kwargs\n",
    "        \n",
    "    \n",
    "    def plot_frames_sequential(self, list_indices: list, colors: list = None, opacities: list = None):\n",
    "        \"\"\"\n",
    "        Plot several frames of the self.u next to each other. Automatically ngo to next now if you have too\n",
    "        many frames to display in one row.\n",
    "        \n",
    "        Args:\n",
    "            - list_indices: a list of integers, each an frame index to be displayed\n",
    "            - colors: a list of colors (must be same length as list_indices) or None (default)\n",
    "            - opacities: a list of opacities (must be same length as list_indices) or None (default)\n",
    "        \"\"\"\n",
    "        \n",
    "        # settings that are important so that rows with too many images nicely overflow in the next row\n",
    "        box = widgets.Box(layout=widgets.Layout(width='100%',display='inline-flex',flex_flow='row wrap'))\n",
    "        box.overflow_x = 'auto'\n",
    "\n",
    "        all_views = []\n",
    "        for li, list_i in enumerate(list_indices):\n",
    "            self.fresh_view()\n",
    "            # add optional parameters\n",
    "            kwargs = self._add_optional_representation_parameters(li, colors, opacities)\n",
    "            neig_view = self.plot_ith_frame(list_i, **kwargs)\n",
    "            # this is also important for nice arragement of figures\n",
    "            neig_view.layout.width = \"200px\"\n",
    "            all_views.append(neig_view)\n",
    "        \n",
    "        \n",
    "        # sync all views (so that all plots move if you move any)\n",
    "        for v in all_views:\n",
    "            v._set_sync_camera(all_views)\n",
    "        \n",
    "        box.children=[i for i in all_views]\n",
    "        display(box)\n",
    "    \n",
    "    def plot_frames_overlapping(self, list_indices: list, colors: list = None, opacities: list = None):\n",
    "        \"\"\"\n",
    "        Plot several frames of the self.u overlapping.\n",
    "        \n",
    "        Args:\n",
    "            - list_indices: a list of integers, each an frame index to be displayed\n",
    "            - colors: a list of colors (must be same length as list_indices) or None (default)\n",
    "            - opacities: a list of opacities (must be same length as list_indices) or None (default)\n",
    "        \n",
    "        \"\"\"\n",
    "        \n",
    "        for li, list_i in enumerate(list_indices):\n",
    "            # add optional parameters\n",
    "            kwargs = self._add_optional_representation_parameters(li, colors, opacities)\n",
    "                \n",
    "            self.plot_ith_frame(list_i, **kwargs)\n",
    "\n",
    "        return self.view\n",
    "\n",
    "\n"
   ]
  },
  {
   "cell_type": "code",
   "execution_count": 6,
   "id": "08f3879d",
   "metadata": {
    "ExecuteTime": {
     "end_time": "2024-01-16T09:18:07.726680Z",
     "start_time": "2024-01-16T09:18:07.709158Z"
    },
    "code_folding": [
     47,
     54
    ]
   },
   "outputs": [],
   "source": [
    "\"\"\"\n",
    "Some important indices you may wanna plot:\n",
    "- eigenvectors of SQRA\n",
    "\"\"\"\n",
    "\n",
    "class PostCalculationEvaluator:\n",
    "    \n",
    "    \"\"\"\n",
    "    Combine the following (read or use saved if you have it available):\n",
    "        - trajectory or pseudotrajectory (in form of mda Universe)\n",
    "        - energies\n",
    "        - full grid (FullGrid object)\n",
    "        - transition model(MSM or SQRA object)\n",
    "        \n",
    "    \n",
    "    \"\"\"\n",
    "    \n",
    "    def __init__(self, name_pt, default_atom_selection):\n",
    "        self.name_pt = name_pt\n",
    "        self.default_atom_selection = default_atom_selection\n",
    "        self.u = self.read_u_PT()\n",
    "        self.parsed_trajectory = self.read_parsed_trajectory_PT()\n",
    "        self.fg = self.read_fg_PT()\n",
    "        self.energy = self.read_energy_PT()\n",
    "        self.transition_model = self.read_sqra_PT()\n",
    "        \n",
    "        # just to check if everything is sane\n",
    "        self._assert_consistent_len()\n",
    "    \n",
    "    def _assert_consistent_len(self):\n",
    "        traj_len = len(self.u.trajectory)\n",
    "        fg_len = len(self.fg.get_full_grid_as_array())\n",
    "        energy_len = len(self.energy.energies)\n",
    "        sqra_len = len(self.transition_model.get_transitions_matrix()[0])\n",
    "        assert traj_len == fg_len == energy_len == sqra_len\n",
    "        \n",
    "    \"\"\"\n",
    "    --------------------------------------------------------------------------------------------------\n",
    "                               Readers to set up all necessary structures.\n",
    "    --------------------------------------------------------------------------------------------------\n",
    "    \"\"\"\n",
    "    \n",
    "    def __len__(self):\n",
    "        traj_len = len(self.u.trajectory)\n",
    "        return traj_len\n",
    "    \n",
    "    def read_u_PT(self):\n",
    "        return mda.Universe(f\"{PATH_OUTPUT_PT}{self.name_pt}.gro\", f\"{PATH_OUTPUT_PT}{self.name_pt}.xtc\")\n",
    "\n",
    "    def read_parsed_trajectory_PT(self):\n",
    "        pt_parser = FileParser(f\"{PATH_OUTPUT_PT}{self.name_pt}.gro\", f\"{PATH_OUTPUT_PT}{self.name_pt}.xtc\")\n",
    "        pt = pt_parser.get_parsed_trajectory(default_atom_selection=self.default_atom_selection)\n",
    "        pt.energies = self.read_energy_PT()\n",
    "        return pt\n",
    "\n",
    "    def read_fg_PT(self):\n",
    "\n",
    "        input_names = None\n",
    "        full_grid_name = None\n",
    "\n",
    "        # first step: read the name of the full grid from the log file\n",
    "        with open(f\"{PATH_OUTPUT_LOGGING}{self.name_pt}.log\") as f:\n",
    "            while input_names is None or full_grid_name is None:\n",
    "                line = f.readline()\n",
    "                if line.startswith(\"INFO:PtLogger:input grid parameters:\"):\n",
    "                    input_names = line.strip().split(\": \")[-1]\n",
    "                elif line.startswith(\"INFO:PtLogger:full grid name:\"):\n",
    "                    full_grid_name = line.strip().split(\": \")[-1]\n",
    "                    \n",
    "        self.grid_name = full_grid_name\n",
    "        \n",
    "        input_names = input_names.split(\" \")\n",
    "        t_input = \" \".join(input_names[2:])\n",
    "        fg = FullGrid(o_grid_name=input_names[0], b_grid_name=input_names[1], t_grid_name=t_input,\n",
    "                      use_saved=True)\n",
    "\n",
    "        # second step: load the .npy file with the found name\n",
    "        used_grid = np.load(f\"{OUTPUT_PLOTTING_DATA}get_full_grid_as_array_{full_grid_name}.npy\")\n",
    "\n",
    "        # third step: assert that this is actually the grid that has been used\n",
    "        assert np.allclose(used_grid, fg.get_full_grid_as_array())\n",
    "\n",
    "        return fg\n",
    "\n",
    "    def read_energy_PT(self):\n",
    "        my_parser = XVGParser(f\"/home/hanaz63/nobackup/gromacs/{self.name_pt}/{self.name_pt}.xvg\")\n",
    "        return my_parser.get_parsed_energy()\n",
    "\n",
    "    def read_sqra_PT(self):\n",
    "        sh = SimulationHistogram(self.parsed_trajectory, self.fg)\n",
    "        return SQRA(sh, use_saved=True)\n",
    "    \n",
    "    \"\"\"\n",
    "    --------------------------------------------------------------------------------------------------\n",
    "                               Getters to obtain important indices.\n",
    "    --------------------------------------------------------------------------------------------------\n",
    "    \"\"\"    \n",
    "    \n",
    "    def get_indices_k_lowest_energies(self, k: int, energy_type: str):\n",
    "        all_energies = self.energy.get_energies(energy_type)\n",
    "        return k_argmin_in_array(all_energies, k)\n",
    "    \n",
    "    def get_indices_neighbours_of_cell_i(self, i: int):\n",
    "        adj_array = csr_array(self.fg.get_full_adjacency())[:, [i]].toarray().T[0]\n",
    "        neighbour_indices = np.nonzero(adj_array)[0]\n",
    "        return neighbour_indices\n",
    "    \n",
    "    def get_indices_same_orientation(self, quaternion_grid_index: int):\n",
    "        num_positions = self.fg.o_rotations.get_N() * self.fg.t_grid.get_N_trans()\n",
    "        num_quaternions = self.fg.b_rotations.get_N()\n",
    "        \n",
    "        return list(range(quaternion_grid_index, len(self), num_quaternions))\n",
    "    \n",
    "    def get_indices_same_position(self, position_grid_index: int):\n",
    "        num_quaternions = self.fg.b_rotations.get_N()\n",
    "\n",
    "        return list(range(position_grid_index*num_quaternions, (position_grid_index+1)*num_quaternions))\n",
    "\n",
    "    \"\"\"\n",
    "    --------------------------------------------------------------------------------------------------\n",
    "                               Getters to obtain a measure of magnitude.\n",
    "    --------------------------------------------------------------------------------------------------\n",
    "    \"\"\"\n",
    "    \n",
    "    def get_magnitude_energy(self, energy_type: str):\n",
    "        return self.energy.get_energies(energy_type)\n",
    "    \n",
    "    def get_magnitude_ith_eigenvector(self, i: int):\n",
    "        evalu, evec = self.transition_model.get_eigenval_eigenvec()\n",
    "        my_eigenvector = evec[0].T[i]\n",
    "        return my_eigenvector\n",
    "\n",
    "\n",
    "\n",
    "class MplColorHelper:\n",
    "\n",
    "    def __init__(self):\n",
    "        self.cmap = matplotlib.cm.get_cmap('bwr')\n",
    "        self.norm = matplotlib.colors.TwoSlopeNorm(vcenter=0) #, vmax=5\n",
    "        self.scalarMap = matplotlib.cm.ScalarMappable(norm=self.norm, cmap=self.cmap)\n",
    "\n",
    "    def get_hex(self, val):\n",
    "        rgba = self.scalarMap.to_rgba(val)\n",
    "        return matplotlib.colors.rgb2hex(rgba)\n",
    "        "
   ]
  },
  {
   "cell_type": "markdown",
   "id": "7953210f",
   "metadata": {},
   "source": [
    "### Example - show PT structures with 5 largest and 5 smallest potential energies"
   ]
  },
  {
   "cell_type": "code",
   "execution_count": 10,
   "id": "06c032fa",
   "metadata": {
    "ExecuteTime": {
     "end_time": "2024-01-16T09:18:38.900131Z",
     "start_time": "2024-01-16T09:18:37.631307Z"
    },
    "code_folding": [
     13
    ]
   },
   "outputs": [
    {
     "name": "stdout",
     "output_type": "stream",
     "text": [
      "[ 978.4646   1139.811523 1139.813599 1226.625488 1226.640991  -19.245655\n",
      "  -19.247295  -16.837755  -16.837139  -15.785943]\n"
     ]
    },
    {
     "data": {
      "application/vnd.jupyter.widget-view+json": {
       "model_id": "86d11c8f0ee44cbeae01ec2443924733",
       "version_major": 2,
       "version_minor": 0
      },
      "text/plain": [
       "NGLWidget()"
      ]
     },
     "metadata": {},
     "output_type": "display_data"
    }
   ],
   "source": [
    "# EXAMPLE - \n",
    "\n",
    "# changeable parameters\n",
    "my_name1 = \"H2O\"\n",
    "my_name2 = \"H2O\"\n",
    "my_num = \"0099\"\n",
    "\n",
    "my_name = f\"{my_name1}_{my_name2}_{my_num}\"\n",
    "my_selection = \"bynum 4:6\"\n",
    "\n",
    "\n",
    "# read everything from files \n",
    "pce = PostCalculationEvaluator(my_name, my_selection)\n",
    "\n",
    "\n",
    "# display\n",
    "vm = ViewManager(pce.u)\n",
    "vm.fresh_view()\n",
    "\n",
    "# magnitudes\n",
    "mch = MplColorHelper()\n",
    "magnitudes = pce.get_magnitude_energy(\"Potential\")\n",
    "\n",
    "\n",
    "colors = np.array([mch.get_hex(mag) for mag in magnitudes])\n",
    "\n",
    "\n",
    "# 5 largest, 5 smallest\n",
    "num_extremes = 5\n",
    "argmin_index = k_argmin_in_array(magnitudes, num_extremes)\n",
    "argmax_index = k_argmax_in_array(magnitudes, num_extremes)\n",
    "both_index = [*argmax_index, *argmin_index]\n",
    "\n",
    "print(magnitudes[both_index])\n",
    "\n",
    "vm.plot_frames_overlapping(both_index, colors=colors[both_index], opacities=[0.5]*len(both_index))"
   ]
  },
  {
   "cell_type": "markdown",
   "id": "053c3b6c",
   "metadata": {},
   "source": [
    "### Example - plot an eigenvector of SqRA"
   ]
  },
  {
   "cell_type": "code",
   "execution_count": 11,
   "id": "6af90ad8",
   "metadata": {
    "ExecuteTime": {
     "end_time": "2024-01-16T09:19:01.768699Z",
     "start_time": "2024-01-16T09:18:47.529151Z"
    }
   },
   "outputs": [
    {
     "name": "stdout",
     "output_type": "stream",
     "text": [
      "[ 0.04037964  0.04410047  0.04660584  0.04643954  0.04623079  0.04595805\n",
      "  0.04513278  0.06340487  0.13230194  0.22122721  0.12195688  0.09654565\n",
      "  0.10670643  0.08554157  0.26173064  0.17983264  0.50564893  0.58696169\n",
      "  0.09340822  0.23770374 -0.16191115 -0.05852288 -0.05026359 -0.05038413\n",
      " -0.04650971 -0.05770409 -0.06182747 -0.04265221 -0.04951756 -0.04962655\n",
      " -0.04051547 -0.03982912 -0.03966136 -0.03870774 -0.03131237 -0.03124594\n",
      " -0.03849364 -0.03580822 -0.03108125 -0.03022683]\n"
     ]
    },
    {
     "data": {
      "application/vnd.jupyter.widget-view+json": {
       "model_id": "4789926cfb7c4656aff8bcb92ca0389e",
       "version_major": 2,
       "version_minor": 0
      },
      "text/plain": [
       "NGLWidget()"
      ]
     },
     "metadata": {},
     "output_type": "display_data"
    }
   ],
   "source": [
    "# EXAMPLE - eigenvector\n",
    "\n",
    "# display\n",
    "vm = ViewManager(pce.u)\n",
    "vm.fresh_view()\n",
    "\n",
    "# magnitudes\n",
    "mch = MplColorHelper()\n",
    "magnitudes = pce.get_magnitude_ith_eigenvector(2)\n",
    "\n",
    "colors = np.array([mch.get_hex(mag) for mag in magnitudes])\n",
    "\n",
    "\n",
    "# 5 largest, 5 smallest\n",
    "num_extremes = 20\n",
    "argmin_index = k_argmin_in_array(magnitudes, num_extremes)\n",
    "argmax_index = k_argmax_in_array(magnitudes, num_extremes)\n",
    "both_index = [*argmax_index, *argmin_index]\n",
    "\n",
    "print(magnitudes[both_index])\n",
    "\n",
    "vm.plot_frames_overlapping(both_index, colors=colors[both_index], opacities=[0.5]*len(both_index))\n",
    "vm.view"
   ]
  },
  {
   "cell_type": "code",
   "execution_count": 17,
   "id": "40cdd58a",
   "metadata": {
    "ExecuteTime": {
     "end_time": "2024-01-16T10:21:33.715688Z",
     "start_time": "2024-01-16T10:21:09.574135Z"
    },
    "scrolled": false
   },
   "outputs": [
    {
     "name": "stdout",
     "output_type": "stream",
     "text": [
      "[1573 1574 1575 1576 1577 1578 1579 1580 1581 1582 1583 1584 1585 1586\n",
      " 1587 1588 1589 1590 1591 1592 1593 1594 1595 1596 1597 1598 1599 1779\n",
      " 1780 1781 1782 1783 1784 1785 1786 1787 1788 1789 1790 1791 1792 1793\n",
      " 1794 1795 1796 1797 1798 1799 1800 1801]\n"
     ]
    },
    {
     "data": {
      "application/vnd.jupyter.widget-view+json": {
       "model_id": "2f296b149d1c45d09720c4b2a4ee0954",
       "version_major": 2,
       "version_minor": 0
      },
      "text/plain": [
       "NGLWidget()"
      ]
     },
     "metadata": {},
     "output_type": "display_data"
    }
   ],
   "source": [
    "# not PT\n",
    "my_path = \"/home/hanaz63/nobackup/gromacs/H2O_H2O_0095_2000/\"\n",
    "\n",
    "u_traj = mda.Universe(f\"{my_path}H2O_H2O_0095.gro\", f\"{my_path}fitted_output.xtc\")\n",
    "\n",
    "fg = FullGrid(o_grid_name=\"12\", b_grid_name=\"8\", t_grid_name=\"linspace(0.2, 1, 20)\", use_saved=True)\n",
    "\n",
    "\n",
    "\n",
    "my_path = \"/home/hanaz63/nobackup/gromacs/H2O_H2O_0095_2000/\"\n",
    "topology = f\"{my_path}H2O_H2O_0095.gro\"\n",
    "coordinates = f\"{my_path}fitted_output.xtc\"\n",
    "energy = f\"{my_path}full_energy.xvg\"\n",
    "\n",
    "# preparing the parsed trajectory\n",
    "my_parser = XVGParser(energy)\n",
    "pe = my_parser.get_parsed_energy()\n",
    "pt_parser = FileParser(\n",
    "    path_topology=topology,\n",
    "    path_trajectory=coordinates)\n",
    "parsed_trajectory = pt_parser.get_parsed_trajectory(default_atom_selection=\"bynum 4:6\")\n",
    "parsed_trajectory.energies = pe\n",
    "\n",
    "\n",
    "sm = SimulationHistogram(parsed_trajectory, fg)\n",
    "my_array1 = sm.get_all_assignments()\n",
    "\n",
    "cell_74 = np.where(my_array1==74)[0]\n",
    "print(cell_74)\n",
    "\n",
    "#view = nv.show_mdanalysis(u_traj)\n",
    "#view.add_unitcell()\n",
    "#view\n",
    "vm = ViewManager(u_traj)\n",
    "vm.fresh_view()\n",
    "vm.plot_frames_overlapping(cell_74)"
   ]
  },
  {
   "cell_type": "code",
   "execution_count": 19,
   "id": "a0a0e4b8",
   "metadata": {
    "ExecuteTime": {
     "end_time": "2024-01-16T10:21:44.697905Z",
     "start_time": "2024-01-16T10:21:40.967835Z"
    }
   },
   "outputs": [
    {
     "name": "stdout",
     "output_type": "stream",
     "text": [
      "[1059 1065 1064 1063 1298 1297 1296 1295 1294 1293 1292 1062 1061 1060\n",
      " 1056 1057 1058 1291 1299 1066]\n"
     ]
    },
    {
     "data": {
      "application/vnd.jupyter.widget-view+json": {
       "model_id": "b64cf0435daa4578b0934acc270118b7",
       "version_major": 2,
       "version_minor": 0
      },
      "text/plain": [
       "NGLWidget()"
      ]
     },
     "metadata": {},
     "output_type": "display_data"
    }
   ],
   "source": [
    "all_energies = parsed_trajectory.energies.get_energies(\"Potential\")\n",
    "lowest_E = k_argmin_in_array(all_energies, 20)\n",
    "print(lowest_E)\n",
    "vm.fresh_view()\n",
    "vm.plot_frames_overlapping(lowest_E)"
   ]
  },
  {
   "cell_type": "markdown",
   "id": "54c85fdb",
   "metadata": {},
   "source": [
    "## Classify full trajectories in cells of FullGrid"
   ]
  },
  {
   "cell_type": "code",
   "execution_count": 105,
   "id": "9e4d5a5d",
   "metadata": {
    "ExecuteTime": {
     "end_time": "2024-01-16T14:08:24.730467Z",
     "start_time": "2024-01-16T14:08:21.418624Z"
    }
   },
   "outputs": [
    {
     "name": "stdout",
     "output_type": "stream",
     "text": [
      "Warning! Voronoi objects can only be created for >=4 points\n",
      "(array([0, 1, 2, 3, 4, 5, 6, 7]), array([362, 108, 341, 279,  94, 298, 168, 351]))\n"
     ]
    }
   ],
   "source": [
    "from molgri.molecules.writers import PtIOManager\n",
    "\n",
    "from MDAnalysis.coordinates.memory import MemoryReader\n",
    "from MDAnalysis.analysis.base import AnalysisFromFunction\n",
    "\n",
    "def _extract_universe_second_molecule(original_universe, selection_criteria):\n",
    "    m2 = original_universe.select_atoms(selection_criteria)\n",
    "\n",
    "    coordinates = AnalysisFromFunction(lambda ag: ag.positions.copy(), m2).run().results['timeseries']\n",
    "    u2 = mda.Merge(m2)\n",
    "    u2.load_new(coordinates, format=MemoryReader)\n",
    "    return u2\n",
    "\n",
    "\n",
    "def assign_trajectory_2_quaternion_grid(trajectory_universe: mda.Universe, m1_name, m2_name, b_grid_name,\n",
    "                                       second_molecule_selection):\n",
    "    \n",
    "    # create PT on quaternion-only grid\n",
    "    manager = PtIOManager(m1_name, m2_name, o_grid_name=\"1\", b_grid_name=b_grid_name, \n",
    "                          t_grid_name=\"[0.1]\")\n",
    "    my_pt = manager.construct_pt()\n",
    "    my_pt_name = manager.get_name()\n",
    "    pt_sec_mol_universe = mda.Universe(f\"{PATH_OUTPUT_PT}{my_pt_name}.gro\", f\"{PATH_OUTPUT_PT}{my_pt_name}.xtc\")\n",
    "    \n",
    "    # in the real and pt trajectory, extract the second molecule and center it without rotating\n",
    "    trajectory_universe_m2 = _extract_universe_second_molecule(trajectory_universe, second_molecule_selection)\n",
    "    pt_universe_m2 = _extract_universe_second_molecule(pt_sec_mol_universe, second_molecule_selection)\n",
    "    # move them to center - curently doing that later\n",
    "    #workflow = [mda.transformations.center_in_box(real_traj_sec_mol.atoms, center=\"mass\", point=(0, 0, 0))]\n",
    "    #real_traj_sec_mol.trajectory.add_transformations(*workflow)\n",
    "    \n",
    "    # calculate RMSD between both\n",
    "    total_results = []\n",
    "    for i, ts in enumerate(pt_universe_m2.trajectory):\n",
    "        results = []\n",
    "        for j, ts2 in enumerate(trajectory_universe_m2.trajectory):\n",
    "            results.append(mda.analysis.rms.rmsd(real_traj_sec_mol.trajectory[j].positions, \n",
    "                                                 pt_sec_mol.trajectory[i].positions,\n",
    "                                                center=True, weights=real_traj_sec_mol.atoms.masses))\n",
    "        total_results.append(results)\n",
    "    total_results = np.array(total_results)\n",
    "    clases = np.argmin(total_results, axis=0)\n",
    "    return clases\n",
    "\n",
    "    \n",
    "\n",
    "my_cl = assign_trajectory_2_quaternion_grid(u_traj, \"H2O\", \"H2O\", \"8\", \"bynum 4:6\")\n",
    "print(np.unique(my_cl, return_counts=True))"
   ]
  },
  {
   "cell_type": "code",
   "execution_count": 99,
   "id": "4f159984",
   "metadata": {
    "ExecuteTime": {
     "end_time": "2024-01-16T13:41:15.672480Z",
     "start_time": "2024-01-16T13:41:15.615896Z"
    }
   },
   "outputs": [
    {
     "data": {
      "application/vnd.jupyter.widget-view+json": {
       "model_id": "a62f15776d614571ab26007c9a595574",
       "version_major": 2,
       "version_minor": 0
      },
      "text/plain": [
       "NGLWidget()"
      ]
     },
     "metadata": {},
     "output_type": "display_data"
    }
   ],
   "source": [
    "selected_class = 4\n",
    "\n",
    "vm = ViewManager(pt_sec_mol)\n",
    "vm.fresh_view()\n",
    "vm.plot_ith_frame(selected_class)\n"
   ]
  },
  {
   "cell_type": "code",
   "execution_count": 108,
   "id": "a14697c2",
   "metadata": {
    "ExecuteTime": {
     "end_time": "2024-01-16T14:11:04.599101Z",
     "start_time": "2024-01-16T14:10:49.572817Z"
    }
   },
   "outputs": [],
   "source": [
    "for selected_class in range(8):\n",
    "    vm = ViewManager(real_traj_sec_mol)\n",
    "    vm.fresh_view()\n",
    "    vm.plot_frames_overlapping(np.where(clases==selected_class)[0][::20])\n",
    "    display(vm.view)"
   ]
  },
  {
   "cell_type": "code",
   "execution_count": null,
   "id": "b07ee97c",
   "metadata": {
    "ExecuteTime": {
     "end_time": "2024-01-16T09:18:22.992938Z",
     "start_time": "2024-01-16T09:18:22.992917Z"
    }
   },
   "outputs": [],
   "source": [
    "# TODO: enable different colormaps\n",
    "# TODO: enable expressing magnitude as opacity\n",
    "# TODO: enable plotting only the most extrem values (most + and - for eigenvector)\n",
    "# TODO: plot eigenvectors and see if they are sensible\n",
    "# TODO: also plot 1D eigenvectors sorted by orientation/position\n",
    "# TODO: network flow plot for strongest rates?\n",
    "\n",
    "# TODO: make transition matrix determination faster and try it for a large matrix\n",
    "# TODO: HF forcefield and calculations\n",
    "# TODO: enable the same for plotting for simulations (real trajectories)"
   ]
  },
  {
   "cell_type": "code",
   "execution_count": null,
   "id": "837c1e04",
   "metadata": {},
   "outputs": [],
   "source": []
  },
  {
   "cell_type": "code",
   "execution_count": null,
   "id": "68533882",
   "metadata": {},
   "outputs": [],
   "source": []
  }
 ],
 "metadata": {
  "kernelspec": {
   "display_name": "Python 3 (ipykernel)",
   "language": "python",
   "name": "python3"
  },
  "language_info": {
   "codemirror_mode": {
    "name": "ipython",
    "version": 3
   },
   "file_extension": ".py",
   "mimetype": "text/x-python",
   "name": "python",
   "nbconvert_exporter": "python",
   "pygments_lexer": "ipython3",
   "version": "3.11.5"
  },
  "toc": {
   "base_numbering": 1,
   "nav_menu": {},
   "number_sections": true,
   "sideBar": true,
   "skip_h1_title": true,
   "title_cell": "Table of Contents",
   "title_sidebar": "Contents",
   "toc_cell": true,
   "toc_position": {
    "height": "calc(100% - 180px)",
    "left": "10px",
    "top": "150px",
    "width": "384px"
   },
   "toc_section_display": true,
   "toc_window_display": true
  }
 },
 "nbformat": 4,
 "nbformat_minor": 5
}
