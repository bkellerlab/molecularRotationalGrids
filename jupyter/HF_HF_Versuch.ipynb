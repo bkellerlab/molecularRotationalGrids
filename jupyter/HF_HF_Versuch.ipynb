{
 "cells": [
  {
   "cell_type": "markdown",
   "id": "c879e394",
   "metadata": {
    "toc": true
   },
   "source": [
    "<h1>Table of Contents<span class=\"tocSkip\"></span></h1>\n",
    "<div class=\"toc\"><ul class=\"toc-item\"><li><span><a href=\"#A-tool-to-visualize-trajectory-frames:-ViewManager\" data-toc-modified-id=\"A-tool-to-visualize-trajectory-frames:-ViewManager-1\"><span class=\"toc-item-num\">1&nbsp;&nbsp;</span>A tool to visualize trajectory frames: ViewManager</a></span><ul class=\"toc-item\"><li><span><a href=\"#Example---show-PT-structures-with-5-largest-and-5-smallest-potential-energies\" data-toc-modified-id=\"Example---show-PT-structures-with-5-largest-and-5-smallest-potential-energies-1.1\"><span class=\"toc-item-num\">1.1&nbsp;&nbsp;</span>Example - show PT structures with 5 largest and 5 smallest potential energies</a></span></li><li><span><a href=\"#Example---plot-an-eigenvector-of-SqRA\" data-toc-modified-id=\"Example---plot-an-eigenvector-of-SqRA-1.2\"><span class=\"toc-item-num\">1.2&nbsp;&nbsp;</span>Example - plot an eigenvector of SqRA</a></span></li></ul></li><li><span><a href=\"#Classify-full-trajectories-in-cells-of-FullGrid\" data-toc-modified-id=\"Classify-full-trajectories-in-cells-of-FullGrid-2\"><span class=\"toc-item-num\">2&nbsp;&nbsp;</span>Classify full trajectories in cells of FullGrid</a></span></li><li><span><a href=\"#Assigning-trajectories-to-a-FullGrid-cell\" data-toc-modified-id=\"Assigning-trajectories-to-a-FullGrid-cell-3\"><span class=\"toc-item-num\">3&nbsp;&nbsp;</span>Assigning trajectories to a FullGrid cell</a></span><ul class=\"toc-item\"><li><span><a href=\"#Test:-assigning-PT-to-a-FullGrid\" data-toc-modified-id=\"Test:-assigning-PT-to-a-FullGrid-3.1\"><span class=\"toc-item-num\">3.1&nbsp;&nbsp;</span>Test: assigning PT to a FullGrid</a></span></li><li><span><a href=\"#Assigning-a-real-trajectory-fo-a-FullGrid\" data-toc-modified-id=\"Assigning-a-real-trajectory-fo-a-FullGrid-3.2\"><span class=\"toc-item-num\">3.2&nbsp;&nbsp;</span>Assigning a real trajectory fo a FullGrid</a></span></li></ul></li></ul></div>"
   ]
  },
  {
   "cell_type": "code",
   "execution_count": 1,
   "id": "164098a4",
   "metadata": {
    "ExecuteTime": {
     "end_time": "2024-01-19T17:23:52.997428Z",
     "start_time": "2024-01-19T17:23:52.994630Z"
    }
   },
   "outputs": [],
   "source": [
    "import sys\n",
    "import os\n",
    "\n",
    "try:\n",
    "    os.chdir(r\"/home/hanaz63/PAPER_MOLECULAR_ROTATIONS_2022/nobackup/molgri\")\n",
    "    sys.path.append(r\"/home/hanaz63/PAPER_MOLECULAR_ROTATIONS_2022/nobackup\")\n",
    "except FileNotFoundError:\n",
    "    os.chdir(r\"D:\\HANA\\phD\\PAPER_2022\\molecularRotationalGrids\")\n",
    "    sys.path.append(r\"D:\\HANA\\phD\\PAPER_2022\\molecularRotationalGrids\")\n",
    "    \n",
    "import warnings\n",
    "warnings.filterwarnings(\"ignore\")"
   ]
  },
  {
   "cell_type": "code",
   "execution_count": 2,
   "id": "ef8ed97c",
   "metadata": {
    "ExecuteTime": {
     "end_time": "2024-01-19T17:23:56.090705Z",
     "start_time": "2024-01-19T17:23:53.265654Z"
    }
   },
   "outputs": [
    {
     "data": {
      "application/vnd.jupyter.widget-view+json": {
       "model_id": "90dac1b05ccd40ad840245d3b77828bd",
       "version_major": 2,
       "version_minor": 0
      },
      "text/plain": []
     },
     "metadata": {},
     "output_type": "display_data"
    }
   ],
   "source": [
    "import nglview as nv\n",
    "import MDAnalysis as mda\n",
    "import numpy as np\n",
    "import time\n",
    "\n",
    "from scipy.sparse import csr_array\n",
    "from numpy.typing import NDArray\n",
    "import matplotlib\n",
    "\n",
    "from molgri.molecules.transitions import SimulationHistogram, MSM, SQRA\n",
    "from molgri.plotting.molecule_plots import TrajectoryPlot\n",
    "import pandas as pd\n",
    "import matplotlib.pyplot as plt\n",
    "from molgri.molecules.parsers import FileParser, ParsedEnergy, XVGParser\n",
    "\n",
    "from molgri.paths import PATH_OUTPUT_PT, PATH_OUTPUT_LOGGING, PATH_OUTPUT_ENERGIES\n",
    "from molgri.space.fullgrid import FullGrid\n",
    "from molgri.space.utils import k_argmin_in_array, k_argmax_in_array\n",
    "from molgri.plotting.widgets import ViewManager, sync_all_views, display_all_views"
   ]
  },
  {
   "cell_type": "markdown",
   "id": "8de5f2cc",
   "metadata": {},
   "source": [
    "## A tool to visualize trajectory frames: ViewManager\n",
    "\n",
    "- in Jupyter, using nglview\n",
    "- input: mda.Universe and one or more indices along the trajectory\n",
    "- output: frames plotted sequentially or overlapping, color/opacity indicating a property"
   ]
  },
  {
   "cell_type": "markdown",
   "id": "0fca1205",
   "metadata": {},
   "source": [
    "### Example - show PT structures with 5 largest and 5 smallest potential energies"
   ]
  },
  {
   "cell_type": "code",
   "execution_count": 3,
   "id": "fd01d148",
   "metadata": {
    "ExecuteTime": {
     "end_time": "2024-01-19T17:24:17.301826Z",
     "start_time": "2024-01-19T17:23:56.093657Z"
    },
    "code_folding": [
     13
    ]
   },
   "outputs": [
    {
     "data": {
      "application/vnd.jupyter.widget-view+json": {
       "model_id": "84144def1f644231ae72632b4782928a",
       "version_major": 2,
       "version_minor": 0
      },
      "text/plain": [
       "Box(children=(NGLWidget(), NGLWidget()), layout=Layout(display='inline-flex', flex_flow='row wrap', width='100…"
      ]
     },
     "metadata": {},
     "output_type": "display_data"
    }
   ],
   "source": [
    "# EXAMPLE - \n",
    "sh_pt = SimulationHistogram(\"H2O_H2O_0179\", is_pt=True, second_molecule_selection=\"bynum 4:6\")\n",
    "\n",
    "\n",
    "# display\n",
    "vm = ViewManager(sh_pt.trajectory_universe)\n",
    "vm.fresh_view()\n",
    "\n",
    "# magnitudes\n",
    "\n",
    "magnitudes = sh_pt.get_magnitude_energy(\"Potential\")\n",
    "\n",
    "\n",
    "# 5 structures with largest energies\n",
    "num_extremes = 5\n",
    "argmax_index = k_argmax_in_array(magnitudes, num_extremes)\n",
    "view1 = vm.plot_frames_overlapping(argmax_index, color_magnitudes=magnitudes, opacities=0.5)\n",
    "\n",
    "# 5 structures with smallest energies\n",
    "vm.fresh_view()\n",
    "argmin_index = k_argmin_in_array(magnitudes, num_extremes)\n",
    "view2 = vm.plot_frames_overlapping(argmin_index, color_magnitudes=magnitudes, opacities=0.5)\n",
    "\n",
    "# show both\n",
    "sync_all_views([view1, view2])\n",
    "display_all_views([view1, view2])"
   ]
  },
  {
   "cell_type": "markdown",
   "id": "53311e50",
   "metadata": {},
   "source": [
    "### Example - plot an eigenvector of SqRA"
   ]
  },
  {
   "cell_type": "code",
   "execution_count": null,
   "id": "ea373864",
   "metadata": {
    "ExecuteTime": {
     "end_time": "2024-01-19T16:17:09.432134Z",
     "start_time": "2024-01-19T16:17:09.432125Z"
    }
   },
   "outputs": [],
   "source": [
    "# EXAMPLE - eigenvector\n",
    "\n",
    "# display\n",
    "vm = ViewManager(pce.u)\n",
    "vm.fresh_view()\n",
    "\n",
    "# magnitudes\n",
    "mch = MplColorHelper()\n",
    "magnitudes = pce.get_magnitude_ith_eigenvector(2)\n",
    "\n",
    "colors = np.array([mch.get_hex(mag) for mag in magnitudes])\n",
    "\n",
    "\n",
    "# 5 largest, 5 smallest\n",
    "num_extremes = 20\n",
    "argmin_index = k_argmin_in_array(magnitudes, num_extremes)\n",
    "argmax_index = k_argmax_in_array(magnitudes, num_extremes)\n",
    "both_index = [*argmax_index, *argmin_index]\n",
    "\n",
    "print(magnitudes[both_index])\n",
    "\n",
    "vm.plot_frames_overlapping(both_index, colors=colors[both_index], opacities=[0.5]*len(both_index))\n",
    "vm.view"
   ]
  },
  {
   "cell_type": "code",
   "execution_count": null,
   "id": "220f27d6",
   "metadata": {
    "ExecuteTime": {
     "end_time": "2024-01-19T16:17:09.432728Z",
     "start_time": "2024-01-19T16:17:09.432720Z"
    },
    "scrolled": false
   },
   "outputs": [],
   "source": [
    "# not PT\n",
    "my_path = \"/home/hanaz63/nobackup/gromacs/H2O_H2O_0095_2000/\"\n",
    "\n",
    "u_traj = mda.Universe(f\"{my_path}H2O_H2O_0095.gro\", f\"{my_path}fitted_output.xtc\")\n",
    "\n",
    "fg = FullGrid(o_grid_name=\"12\", b_grid_name=\"8\", t_grid_name=\"linspace(0.2, 1, 20)\", use_saved=True)\n",
    "\n",
    "\n",
    "\n",
    "my_path = \"/home/hanaz63/nobackup/gromacs/H2O_H2O_0095_2000/\"\n",
    "topology = f\"{my_path}H2O_H2O_0095.gro\"\n",
    "coordinates = f\"{my_path}fitted_output.xtc\"\n",
    "energy = f\"{my_path}full_energy.xvg\"\n",
    "\n",
    "# preparing the parsed trajectory\n",
    "my_parser = XVGParser(energy)\n",
    "pe = my_parser.get_parsed_energy()\n",
    "pt_parser = FileParser(\n",
    "    path_topology=topology,\n",
    "    path_trajectory=coordinates)\n",
    "parsed_trajectory = pt_parser.get_parsed_trajectory(default_atom_selection=\"bynum 4:6\")\n",
    "parsed_trajectory.energies = pe\n",
    "\n",
    "\n",
    "sm = SimulationHistogram(parsed_trajectory, fg)\n",
    "my_array1 = sm.get_all_assignments()\n",
    "\n",
    "cell_74 = np.where(my_array1==74)[0]\n",
    "print(cell_74)\n",
    "\n",
    "#view = nv.show_mdanalysis(u_traj)\n",
    "#view.add_unitcell()\n",
    "#view\n",
    "vm = ViewManager(u_traj)\n",
    "vm.fresh_view()\n",
    "vm.plot_frames_overlapping(cell_74)"
   ]
  },
  {
   "cell_type": "code",
   "execution_count": null,
   "id": "9739c50f",
   "metadata": {
    "ExecuteTime": {
     "end_time": "2024-01-19T16:17:09.433486Z",
     "start_time": "2024-01-19T16:17:09.433478Z"
    }
   },
   "outputs": [],
   "source": [
    "all_energies = parsed_trajectory.energies.get_energies(\"Potential\")\n",
    "lowest_E = k_argmin_in_array(all_energies, 20)\n",
    "print(lowest_E)\n",
    "vm.fresh_view()\n",
    "vm.plot_frames_overlapping(lowest_E)"
   ]
  },
  {
   "cell_type": "markdown",
   "id": "81d2b34e",
   "metadata": {},
   "source": [
    "## Classify full trajectories in cells of FullGrid"
   ]
  },
  {
   "cell_type": "code",
   "execution_count": null,
   "id": "74f17258",
   "metadata": {
    "ExecuteTime": {
     "end_time": "2024-01-19T16:17:09.434621Z",
     "start_time": "2024-01-19T16:17:09.434612Z"
    }
   },
   "outputs": [],
   "source": [
    "from molgri.molecules.writers import PtIOManager\n",
    "\n",
    "from MDAnalysis.coordinates.memory import MemoryReader\n",
    "from MDAnalysis.analysis.base import AnalysisFromFunction\n",
    "\n",
    "def _extract_universe_second_molecule(original_universe, selection_criteria):\n",
    "    m2 = original_universe.select_atoms(selection_criteria)\n",
    "\n",
    "    coordinates = AnalysisFromFunction(lambda ag: ag.positions.copy(), m2).run().results['timeseries']\n",
    "    u2 = mda.Merge(m2)\n",
    "    u2.load_new(coordinates, format=MemoryReader)\n",
    "    return u2\n",
    "\n",
    "\n",
    "def assign_trajectory_2_quaternion_grid(trajectory_universe: mda.Universe, m1_name, m2_name, b_grid_name,\n",
    "                                       second_molecule_selection):\n",
    "    \n",
    "    # create PT on quaternion-only grid\n",
    "    manager = PtIOManager(m1_name, m2_name, o_grid_name=\"1\", b_grid_name=b_grid_name, \n",
    "                          t_grid_name=\"[0.1]\")\n",
    "    my_pt = manager.construct_pt()\n",
    "    my_pt_name = manager.get_name()\n",
    "    pt_sec_mol_universe = mda.Universe(f\"{PATH_OUTPUT_PT}{my_pt_name}.gro\", f\"{PATH_OUTPUT_PT}{my_pt_name}.xtc\")\n",
    "    \n",
    "    # in the real and pt trajectory, extract the second molecule and center it without rotating\n",
    "    trajectory_universe_m2 = _extract_universe_second_molecule(trajectory_universe, second_molecule_selection)\n",
    "    pt_universe_m2 = _extract_universe_second_molecule(pt_sec_mol_universe, second_molecule_selection)\n",
    "    # move them to center - curently doing that later\n",
    "    #workflow = [mda.transformations.center_in_box(real_traj_sec_mol.atoms, center=\"mass\", point=(0, 0, 0))]\n",
    "    #real_traj_sec_mol.trajectory.add_transformations(*workflow)\n",
    "    \n",
    "    # calculate RMSD between both\n",
    "    total_results = []\n",
    "    for i, ts in enumerate(pt_universe_m2.trajectory):\n",
    "        results = []\n",
    "        for j, ts2 in enumerate(trajectory_universe_m2.trajectory):\n",
    "            results.append(mda.analysis.rms.rmsd(real_traj_sec_mol.trajectory[j].positions, \n",
    "                                                 pt_sec_mol.trajectory[i].positions,\n",
    "                                                center=True, weights=real_traj_sec_mol.atoms.masses))\n",
    "        total_results.append(results)\n",
    "    total_results = np.array(total_results)\n",
    "    clases = np.argmin(total_results, axis=0)\n",
    "    return clases\n",
    "\n",
    "    \n",
    "\n",
    "my_cl = assign_trajectory_2_quaternion_grid(u_traj, \"H2O\", \"H2O\", \"8\", \"bynum 4:6\")\n",
    "print(np.unique(my_cl, return_counts=True))"
   ]
  },
  {
   "cell_type": "code",
   "execution_count": null,
   "id": "bae581cf",
   "metadata": {
    "ExecuteTime": {
     "end_time": "2024-01-19T16:17:09.435169Z",
     "start_time": "2024-01-19T16:17:09.435161Z"
    }
   },
   "outputs": [],
   "source": [
    "selected_class = 4\n",
    "\n",
    "vm = ViewManager(pt_sec_mol)\n",
    "vm.fresh_view()\n",
    "vm.plot_ith_frame(selected_class)\n"
   ]
  },
  {
   "cell_type": "code",
   "execution_count": null,
   "id": "9681af73",
   "metadata": {
    "ExecuteTime": {
     "end_time": "2024-01-19T16:17:09.435786Z",
     "start_time": "2024-01-19T16:17:09.435778Z"
    }
   },
   "outputs": [],
   "source": [
    "for selected_class in range(8):\n",
    "    vm = ViewManager(real_traj_sec_mol)\n",
    "    vm.fresh_view()\n",
    "    vm.plot_frames_overlapping(np.where(clases==selected_class)[0][::20])\n",
    "    display(vm.view)"
   ]
  },
  {
   "cell_type": "code",
   "execution_count": null,
   "id": "c4b73ff6",
   "metadata": {
    "ExecuteTime": {
     "end_time": "2024-01-19T16:17:09.436488Z",
     "start_time": "2024-01-19T16:17:09.436481Z"
    }
   },
   "outputs": [],
   "source": [
    "# TODO: enable different colormaps\n",
    "# TODO: enable expressing magnitude as opacity\n",
    "# TODO: enable plotting only the most extrem values (most + and - for eigenvector)\n",
    "# TODO: plot eigenvectors and see if they are sensible\n",
    "# TODO: also plot 1D eigenvectors sorted by orientation/position\n",
    "# TODO: network flow plot for strongest rates?\n",
    "\n",
    "# TODO: make transition matrix determination faster and try it for a large matrix\n",
    "# TODO: HF forcefield and calculations\n",
    "# TODO: enable the same for plotting for simulations (real trajectories)"
   ]
  },
  {
   "cell_type": "markdown",
   "id": "f3308c1f",
   "metadata": {},
   "source": [
    "## Assigning trajectories to a FullGrid cell\n",
    "- input: (pseudo)trajectory and a FullGrid of choice\n",
    "- assign structures to position, orientation or full classes (cells of FullGrid) \n"
   ]
  },
  {
   "cell_type": "markdown",
   "id": "45f5f661",
   "metadata": {},
   "source": [
    "### Test: assigning PT to a FullGrid\n",
    "\n",
    "- if assigning to its own fg, assignments should be 1:1\n",
    "- if assigning to a smaller fg, an uniform number per cell is expected"
   ]
  },
  {
   "cell_type": "code",
   "execution_count": null,
   "id": "395af262",
   "metadata": {
    "ExecuteTime": {
     "end_time": "2024-01-19T16:17:09.437182Z",
     "start_time": "2024-01-19T16:17:09.437173Z"
    }
   },
   "outputs": [],
   "source": [
    "evaluation_fg = FullGrid(\"40\", \"42\", \"linspace(0.2, 1.5, 10)\")\n",
    "\n",
    "# this pt was generated with fg = FullGrid(\"40\", \"42\", \"linspace(0.2, 1.5, 10)\")\n",
    "my_pt_name = \"H2O_H2O_0179\"\n",
    "\n",
    "sh = SimulationHistogram(my_pt_name, full_grid=evaluation_fg, second_molecule_selection=\"bynum 4:6\")\n",
    "np.set_printoptions(threshold=sys.maxsize)"
   ]
  },
  {
   "cell_type": "code",
   "execution_count": null,
   "id": "0b2fae7d",
   "metadata": {
    "ExecuteTime": {
     "end_time": "2024-01-19T16:17:09.437925Z",
     "start_time": "2024-01-19T16:17:09.437917Z"
    }
   },
   "outputs": [],
   "source": [
    "assignments = sh.get_position_assignments()\n",
    "natural_numbers = np.array(range(len(sh.full_grid.get_position_grid_as_array())))\n",
    "natural_numbers = np.repeat(natural_numbers, sh.full_grid.b_rotations.get_N())\n",
    "\n",
    "assert np.all(assignments == natural_numbers)\n",
    "\n",
    "assignments = sh.get_quaternion_assignments()\n",
    "natural_numbers = np.array(range(sh.full_grid.b_rotations.get_N()))\n",
    "natural_numbers = np.tile(natural_numbers, len(sh.full_grid.get_position_grid_as_array()))\n",
    "\n",
    "for el1, el2 in zip(assignments, natural_numbers):\n",
    "    print(el1, el2)\n",
    "    #pass\n",
    "\n",
    "#assignments = sh.get_full_assignments()\n",
    "#natural_numbers = np.array(range(len(assignments)))\n",
    "\n",
    "#for el1, el2 in zip(assignments, natural_numbers):\n",
    "#    print(el1, el2)"
   ]
  },
  {
   "cell_type": "markdown",
   "id": "8d2e5f56",
   "metadata": {},
   "source": [
    "### Assigning a real trajectory fo a FullGrid"
   ]
  },
  {
   "cell_type": "code",
   "execution_count": null,
   "id": "84599cb4",
   "metadata": {
    "ExecuteTime": {
     "end_time": "2024-01-19T16:17:09.438575Z",
     "start_time": "2024-01-19T16:17:09.438567Z"
    },
    "scrolled": false
   },
   "outputs": [],
   "source": [
    "my_fg = FullGrid(\"8\", \"12\", \"[0.3, 0.6, 0.9, 1.2]\")\n",
    "sh_traj = SimulationHistogram(\"H2O_H2O_0095_2000\", full_grid=my_fg, second_molecule_selection=\"bynum 4:6\")\n"
   ]
  },
  {
   "cell_type": "code",
   "execution_count": null,
   "id": "5f5536d1",
   "metadata": {
    "ExecuteTime": {
     "end_time": "2024-01-19T16:17:09.439111Z",
     "start_time": "2024-01-19T16:17:09.439103Z"
    },
    "scrolled": false
   },
   "outputs": [],
   "source": [
    "# most populated cells \n",
    "assignments = sh_traj.get_full_assignments()\n",
    "my_indices, my_counts = np.unique(assignments.astype(int), return_counts=True)\n",
    "most_populated_cells = my_indices[k_argmax_in_array(my_counts, 5)]\n",
    "vm = ViewManager(sh.trajectory_universe)\n",
    "for selected_class in most_populated_cells:\n",
    "    vm.fresh_view()\n",
    "    vm.plot_frames_overlapping(np.where(assignments==selected_class)[0][::10])\n",
    "    display(vm.view)"
   ]
  },
  {
   "cell_type": "code",
   "execution_count": null,
   "id": "66447aa4",
   "metadata": {
    "ExecuteTime": {
     "end_time": "2024-01-19T16:17:09.445501Z",
     "start_time": "2024-01-19T16:17:09.445485Z"
    }
   },
   "outputs": [],
   "source": [
    "# are the most populated cells also the ones with lowest average energy?\n",
    "# maybe not because the size of the cell strongly affects the population\n",
    "all_popular_frames = []\n",
    "full_assignments = sh_traj.get_full_assignments().astype(int)\n",
    "my_indices, my_counts = np.unique(full_assignments, return_counts=True)\n",
    "most_populated_cells = my_indices[k_argmax_in_array(my_counts, 3)]\n",
    "for populated_cell in most_populated_cells:\n",
    "    belongs_to_this = np.where(sh_traj.get_full_assignments()==populated_cell)[0]\n",
    "    all_popular_frames.extend(belongs_to_this)\n",
    "\n",
    "cell_volumes = np.array(sh_traj.full_grid.get_total_volumes())\n",
    "volume_per_assignment = cell_volumes[full_assignments]\n",
    "\n",
    "pot_energy = energies.get_energies(\"Potential\")/volume_per_assignment\n",
    "print(\"Popular frames energy\", np.min(pot_energy[all_popular_frames]), np.average(pot_energy[all_popular_frames]),\n",
    "     np.max(pot_energy[all_popular_frames]))\n",
    "print(\"All frames energy\", np.min(pot_energy), np.average(pot_energy),\n",
    "     np.max(pot_energy))"
   ]
  },
  {
   "cell_type": "code",
   "execution_count": null,
   "id": "073411bd",
   "metadata": {
    "ExecuteTime": {
     "end_time": "2024-01-19T16:17:09.446464Z",
     "start_time": "2024-01-19T16:17:09.446455Z"
    },
    "scrolled": false
   },
   "outputs": [],
   "source": [
    "from molgri.plotting.transition_plots import TransitionPlot\n",
    "my_msm = MSM(sh, energies)\n",
    "my_tp = TransitionPlot(my_msm)\n",
    "my_tp.plot_heatmap(save=False)"
   ]
  },
  {
   "cell_type": "code",
   "execution_count": null,
   "id": "d2414343",
   "metadata": {
    "ExecuteTime": {
     "end_time": "2024-01-19T16:17:09.447208Z",
     "start_time": "2024-01-19T16:17:09.447200Z"
    }
   },
   "outputs": [],
   "source": [
    "my_tp.plot_its(save=False)"
   ]
  },
  {
   "cell_type": "code",
   "execution_count": null,
   "id": "15024f78",
   "metadata": {},
   "outputs": [],
   "source": []
  }
 ],
 "metadata": {
  "kernelspec": {
   "display_name": "Python 3 (ipykernel)",
   "language": "python",
   "name": "python3"
  },
  "language_info": {
   "codemirror_mode": {
    "name": "ipython",
    "version": 3
   },
   "file_extension": ".py",
   "mimetype": "text/x-python",
   "name": "python",
   "nbconvert_exporter": "python",
   "pygments_lexer": "ipython3",
   "version": "3.11.5"
  },
  "toc": {
   "base_numbering": 1,
   "nav_menu": {},
   "number_sections": true,
   "sideBar": true,
   "skip_h1_title": true,
   "title_cell": "Table of Contents",
   "title_sidebar": "Contents",
   "toc_cell": true,
   "toc_position": {
    "height": "calc(100% - 180px)",
    "left": "10px",
    "top": "150px",
    "width": "384px"
   },
   "toc_section_display": true,
   "toc_window_display": true
  }
 },
 "nbformat": 4,
 "nbformat_minor": 5
}
