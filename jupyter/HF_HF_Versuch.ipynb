{
 "cells": [
  {
   "cell_type": "markdown",
   "id": "da65559c",
   "metadata": {
    "toc": true
   },
   "source": [
    "<h1>Table of Contents<span class=\"tocSkip\"></span></h1>\n",
    "<div class=\"toc\"><ul class=\"toc-item\"><li><span><a href=\"#Kleines-Beispiel\" data-toc-modified-id=\"Kleines-Beispiel-1\"><span class=\"toc-item-num\">1&nbsp;&nbsp;</span>Kleines Beispiel</a></span></li></ul></div>"
   ]
  },
  {
   "cell_type": "code",
   "execution_count": 1,
   "id": "23717fa5",
   "metadata": {
    "ExecuteTime": {
     "end_time": "2024-01-11T14:51:07.081152Z",
     "start_time": "2024-01-11T14:51:07.074863Z"
    }
   },
   "outputs": [],
   "source": [
    "import sys\n",
    "import os\n",
    "\n",
    "try:\n",
    "    os.chdir(r\"/home/hanaz63/PAPER_MOLECULAR_ROTATIONS_2022/nobackup/molgri\")\n",
    "    sys.path.append(r\"/home/hanaz63/PAPER_MOLECULAR_ROTATIONS_2022/nobackup\")\n",
    "except FileNotFoundError:\n",
    "    os.chdir(r\"D:\\HANA\\phD\\PAPER_2022\\molecularRotationalGrids\")\n",
    "    sys.path.append(r\"D:\\HANA\\phD\\PAPER_2022\\molecularRotationalGrids\")\n",
    "    \n",
    "import warnings\n",
    "warnings.filterwarnings(\"ignore\")"
   ]
  },
  {
   "cell_type": "code",
   "execution_count": 2,
   "id": "b8b63a89",
   "metadata": {
    "ExecuteTime": {
     "end_time": "2024-01-11T14:51:11.759576Z",
     "start_time": "2024-01-11T14:51:09.368711Z"
    }
   },
   "outputs": [
    {
     "data": {
      "application/vnd.jupyter.widget-view+json": {
       "model_id": "1d0bee9397e348ac86338c91da34a9a7",
       "version_major": 2,
       "version_minor": 0
      },
      "text/plain": []
     },
     "metadata": {},
     "output_type": "display_data"
    }
   ],
   "source": [
    "import nglview as nv\n",
    "import MDAnalysis as mda\n",
    "import numpy as np\n",
    "import time\n",
    "import ipywidgets as widgets\n",
    "from scipy.sparse import csr_array\n",
    "from numpy.typing import NDArray\n",
    "\n",
    "from molgri.molecules.transitions import SimulationHistogram, MSM, SQRA\n",
    "from molgri.plotting.molecule_plots import TrajectoryPlot\n",
    "import pandas as pd\n",
    "import matplotlib.pyplot as plt\n",
    "from molgri.molecules.parsers import FileParser, ParsedEnergy, XVGParser\n",
    "\n",
    "from molgri.paths import PATH_OUTPUT_PT, OUTPUT_PLOTTING_DATA, PATH_OUTPUT_LOGGING\n",
    "from molgri.space.fullgrid import FullGrid\n",
    "from molgri.space.utils import k_argmin_in_array, k_argmax_in_array"
   ]
  },
  {
   "cell_type": "markdown",
   "id": "c96652a8",
   "metadata": {},
   "source": [
    "Erstmals: wir brauchen eine HF Monomer Datai."
   ]
  },
  {
   "cell_type": "code",
   "execution_count": 4,
   "id": "c578193c",
   "metadata": {
    "ExecuteTime": {
     "end_time": "2024-01-09T10:21:19.340833Z",
     "start_time": "2024-01-09T10:21:19.336807Z"
    }
   },
   "outputs": [],
   "source": [
    "%pycat input/HF.xyz"
   ]
  },
  {
   "cell_type": "markdown",
   "id": "4252fca7",
   "metadata": {},
   "source": [
    "Nun lass zwei PTs (klein, groß) produzieren:\n",
    "- klein: -o 42 -t \"linspace(0.1, 0.4, 10)\" -b 8\n",
    "- groß: -o 162 -t \"linspace(0.1, 0.4, 20)\" -b 40"
   ]
  },
  {
   "cell_type": "markdown",
   "id": "6679f847",
   "metadata": {},
   "source": [
    "## Kleines Beispiel\n",
    "- obtain full grid\n",
    "- show full grid coordinates per frame in the corner"
   ]
  },
  {
   "cell_type": "code",
   "execution_count": 8,
   "id": "a9761d38",
   "metadata": {
    "ExecuteTime": {
     "end_time": "2024-01-09T17:15:23.458476Z",
     "start_time": "2024-01-09T17:15:23.456050Z"
    }
   },
   "outputs": [],
   "source": [
    "small_name = \"HF_HF_0010\"\n",
    "b_grid = \"8\"\n",
    "o_grid = \"12\"\n",
    "t_grid = \"linspace(0.2, 0.4, 3)\""
   ]
  },
  {
   "cell_type": "code",
   "execution_count": 4,
   "id": "72d1992c",
   "metadata": {
    "ExecuteTime": {
     "end_time": "2024-01-09T10:37:20.054712Z",
     "start_time": "2024-01-09T10:37:19.428149Z"
    }
   },
   "outputs": [
    {
     "name": "stdout",
     "output_type": "stream",
     "text": [
      "Saved the log file to output/data/logging/HF_HF_0010.log\n",
      "Saved pseudo-trajectory to output/data/pt_files/HF_HF_0010.xtc and structure file to output/data/pt_files/HF_HF_0010.gro\n",
      "Timing the generation of Pt HF_HF_0010: 0:00:00.479715 hours:minutes:seconds\n"
     ]
    }
   ],
   "source": [
    "%run molgri/scripts/generate_pt.py -m1 HF -m2 HF --recalculate -o $o_grid -b $b_grid -t \"linspace(0.2, 0.4, 3)\""
   ]
  },
  {
   "cell_type": "code",
   "execution_count": 110,
   "id": "a6d6c0f0",
   "metadata": {
    "ExecuteTime": {
     "end_time": "2024-01-12T10:12:54.093834Z",
     "start_time": "2024-01-12T10:12:54.063440Z"
    },
    "code_folding": [
     21,
     41
    ]
   },
   "outputs": [],
   "source": [
    "class PTFrameAnalyser:\n",
    "    \n",
    "    \"\"\"\n",
    "    Visualise frames and important information from PT using NGLView. Reads PTs from saved files.\n",
    "    \"\"\"\n",
    "    \n",
    "    def __init__(self, u, fg=None):\n",
    "        \"\"\"\n",
    "        Args:\n",
    "            - name_pt: Name that is given to the PT files, usually in the form <molecule 1>_<molecule 2>_<4-number index>\n",
    "                       or selected by the user\n",
    "            - o_input: a string given as user input to create rotations around origin, e.g. \"15\" or \"ico_15\"\n",
    "            - b_input: a string given as user input to create rotations around body, e.g. \"42\" or \"cube4D_42\"\n",
    "            - t_input: a string given as user input to create translations, e.g. \"[0.1, 0.2]\" or \"range(1, 5, 3)\"\n",
    "        \"\"\"\n",
    "        self.u = u\n",
    "        self.fg = fg\n",
    "        \n",
    "        \n",
    "                \n",
    "    def _get_fullgrid_name(self):\n",
    "        \"\"\"\n",
    "        NOT IN USE CURRENTLY\n",
    "        Read from the .log file to obtain the name of the used FullGrid.\n",
    "        \"\"\"\n",
    "        with open(f\"{PATH_OUTPUT_LOGGING}{self.name_pt}.log\") as f:\n",
    "            while True:\n",
    "                line = f.readline()\n",
    "                if line.startswith(\"INFO:PtLogger:full grid name:\"):\n",
    "                    return line.strip().split(\": \")[-1]\n",
    "        \n",
    "    \n",
    "    def print_ith_information(self, i):\n",
    "        \"\"\"\n",
    "        Print out important information about the i-th point of PT\n",
    "        \"\"\"\n",
    "        all_points = self.fg.get_full_grid_as_array()\n",
    "        ith_fg_coo = np.array2string(all_points[i], precision=2, suppress_small=True, separator=\",\")\n",
    "        print(f\"Frame {i}\")\n",
    "        print(f\"FullGrid coordinates {ith_fg_coo}\")\n",
    "        \n",
    "        neighbours = self._get_neig_indices(i)\n",
    "        print(f\"The point {i} has {len(neighbours)} neighbours, here is the list:\")\n",
    "        for n_index in neighbours:\n",
    "            print(np.array2string(all_points[n_index], precision=2, suppress_small=True, separator=\",\"))\n",
    "\n",
    "def create_u_for_PT(name_pt: str, o_input: str, b_input: str, t_input: str):\n",
    "    u = mda.Universe(f\"{PATH_OUTPUT_PT}{self.name_pt}.gro\", f\"{PATH_OUTPUT_PT}{self.name_pt}.xtc\")\n",
    "    fg = FullGrid(o_grid_name=o_input, b_grid_name=b_input, t_grid_name=t_input, use_saved=True)\n",
    "    _check_grid_correct(name_pt, fg)\n",
    "    return u, fg\n",
    "\n",
    "def _check_grid_correct(self, name_pt, fg):\n",
    "    \"\"\"\n",
    "    Since we re-construct the FullGrid object to access all of its methods, we perform a quick check that the\n",
    "    newly constructed grid actually has the same coordinates as the grid that has been saved during construction\n",
    "    of the pseudotrajectory.\n",
    "    \"\"\"\n",
    "    # first step: read the name of the full grid from a PT log file\n",
    "    with open(f\"{PATH_OUTPUT_LOGGING}{name_pt}.log\") as f:\n",
    "        while True:\n",
    "            line = f.readline()\n",
    "            if line.startswith(\"INFO:PtLogger:full grid name:\"):\n",
    "                full_grid_name = line.strip().split(\": \")[-1]\n",
    "                break\n",
    "\n",
    "    # second step: load the .npy file with the found name\n",
    "    used_grid = np.load(f\"{OUTPUT_PLOTTING_DATA}get_full_grid_as_array_{full_grid_name}.npy\")\n",
    "\n",
    "    # third step: assert that this is actually the grid that has been used\n",
    "    assert np.allclose(used_grid, fg.get_full_grid_as_array())\n",
    "    \n",
    "\n"
   ]
  },
  {
   "cell_type": "code",
   "execution_count": null,
   "id": "eb4a683d",
   "metadata": {},
   "outputs": [],
   "source": []
  },
  {
   "cell_type": "code",
   "execution_count": 4,
   "id": "e7b0d4dd",
   "metadata": {
    "ExecuteTime": {
     "end_time": "2024-01-11T09:36:15.983359Z",
     "start_time": "2024-01-11T09:36:15.968246Z"
    }
   },
   "outputs": [
    {
     "ename": "NameError",
     "evalue": "name 'small_name' is not defined",
     "output_type": "error",
     "traceback": [
      "\u001b[0;31m---------------------------------------------------------------------------\u001b[0m",
      "\u001b[0;31mNameError\u001b[0m                                 Traceback (most recent call last)",
      "Cell \u001b[0;32mIn[4], line 1\u001b[0m\n\u001b[0;32m----> 1\u001b[0m pta \u001b[38;5;241m=\u001b[39m PTFrameAnalyser(\u001b[38;5;241m*\u001b[39mcreate_u_for_PT(\u001b[43msmall_name\u001b[49m, b_input\u001b[38;5;241m=\u001b[39mb_grid, o_input\u001b[38;5;241m=\u001b[39mo_grid, t_input\u001b[38;5;241m=\u001b[39mt_grid))\n\u001b[1;32m      2\u001b[0m \u001b[38;5;66;03m#view1 = pta.plot_ith_frame(15)\u001b[39;00m\n\u001b[1;32m      3\u001b[0m \u001b[38;5;66;03m#view2 = pta.plot_ith_frame(75)\u001b[39;00m\n\u001b[1;32m      4\u001b[0m \u001b[38;5;66;03m#pta.plot_side_by_side(view1, view2)\u001b[39;00m\n\u001b[1;32m      5\u001b[0m pta\u001b[38;5;241m.\u001b[39mprint_ith_information(\u001b[38;5;241m5\u001b[39m)\n",
      "\u001b[0;31mNameError\u001b[0m: name 'small_name' is not defined"
     ]
    }
   ],
   "source": [
    "pta = PTFrameAnalyser(*create_u_for_PT(small_name, b_input=b_grid, o_input=o_grid, t_input=t_grid))\n",
    "#view1 = pta.plot_ith_frame(15)\n",
    "#view2 = pta.plot_ith_frame(75)\n",
    "#pta.plot_side_by_side(view1, view2)\n",
    "pta.print_ith_information(5)\n",
    "pta.plot_all_neighours_of_i(5)"
   ]
  },
  {
   "cell_type": "code",
   "execution_count": null,
   "id": "e5e33136",
   "metadata": {
    "ExecuteTime": {
     "end_time": "2024-01-08T11:35:06.014418Z",
     "start_time": "2024-01-08T11:35:06.014418Z"
    }
   },
   "outputs": [],
   "source": [
    "view1 = pta.plot_ith_frame(15)\n",
    "view2 = pta.plot_ith_frame(75)"
   ]
  },
  {
   "cell_type": "code",
   "execution_count": null,
   "id": "a9b5fffb",
   "metadata": {
    "ExecuteTime": {
     "end_time": "2024-01-08T11:35:06.016412Z",
     "start_time": "2024-01-08T11:35:06.016412Z"
    }
   },
   "outputs": [],
   "source": [
    "pta.plot_side_by_side(view1, view2)"
   ]
  },
  {
   "cell_type": "markdown",
   "id": "c61a23fb",
   "metadata": {},
   "source": [
    "- plot neighbours\n",
    "- plot structures with largest phasespace volumes"
   ]
  },
  {
   "cell_type": "code",
   "execution_count": 6,
   "id": "a507285e",
   "metadata": {
    "ExecuteTime": {
     "end_time": "2024-01-11T09:36:28.948940Z",
     "start_time": "2024-01-11T09:36:28.942965Z"
    }
   },
   "outputs": [],
   "source": [
    "# großeres beispiel\n",
    "big_name = \"HF_HF_0011\"\n",
    "b_grid_b = \"272\"\n",
    "o_grid_b = \"162\"\n",
    "t_grid_b = \"linspace(0.1, 0.4, 20)\""
   ]
  },
  {
   "cell_type": "code",
   "execution_count": 4,
   "id": "b21d2ce2",
   "metadata": {
    "ExecuteTime": {
     "end_time": "2024-01-09T16:07:25.994568Z",
     "start_time": "2024-01-09T15:41:35.292832Z"
    }
   },
   "outputs": [
    {
     "name": "stdout",
     "output_type": "stream",
     "text": [
      "Saved the log file to output/data/logging/HF_HF_0011.log\n",
      "Saved pseudo-trajectory to output/data/pt_files/HF_HF_0011.xtc and structure file to output/data/pt_files/HF_HF_0011.gro\n",
      "Timing the generation of Pt HF_HF_0011: 0:24:59.522670 hours:minutes:seconds\n"
     ]
    }
   ],
   "source": [
    "%run molgri/scripts/generate_pt.py -m1 HF -m2 HF --recalculate -o $o_grid_b -b $b_grid_b -t \"linspace(0.1, 0.4, 20)\""
   ]
  },
  {
   "cell_type": "code",
   "execution_count": 7,
   "id": "6e330006",
   "metadata": {
    "ExecuteTime": {
     "end_time": "2024-01-11T09:36:31.160816Z",
     "start_time": "2024-01-11T09:36:31.141248Z"
    }
   },
   "outputs": [
    {
     "ename": "TypeError",
     "evalue": "PTFrameAnalyser.__init__() got an unexpected keyword argument 'b_input'",
     "output_type": "error",
     "traceback": [
      "\u001b[0;31m---------------------------------------------------------------------------\u001b[0m",
      "\u001b[0;31mTypeError\u001b[0m                                 Traceback (most recent call last)",
      "Cell \u001b[0;32mIn[7], line 1\u001b[0m\n\u001b[0;32m----> 1\u001b[0m pta \u001b[38;5;241m=\u001b[39m \u001b[43mPTFrameAnalyser\u001b[49m\u001b[43m(\u001b[49m\u001b[43mbig_name\u001b[49m\u001b[43m,\u001b[49m\u001b[43m \u001b[49m\u001b[43mb_input\u001b[49m\u001b[38;5;241;43m=\u001b[39;49m\u001b[43mb_grid_b\u001b[49m\u001b[43m,\u001b[49m\u001b[43m \u001b[49m\u001b[43mo_input\u001b[49m\u001b[38;5;241;43m=\u001b[39;49m\u001b[43mo_grid_b\u001b[49m\u001b[43m,\u001b[49m\u001b[43m \u001b[49m\u001b[43mt_input\u001b[49m\u001b[38;5;241;43m=\u001b[39;49m\u001b[43mt_grid_b\u001b[49m\u001b[43m)\u001b[49m\n\u001b[1;32m      3\u001b[0m pta\u001b[38;5;241m.\u001b[39mprint_ith_information(\u001b[38;5;241m500\u001b[39m)\n\u001b[1;32m      4\u001b[0m pta\u001b[38;5;241m.\u001b[39mplot_all_neighours_of_i(\u001b[38;5;241m500\u001b[39m)\n",
      "\u001b[0;31mTypeError\u001b[0m: PTFrameAnalyser.__init__() got an unexpected keyword argument 'b_input'"
     ]
    }
   ],
   "source": [
    "pta = PTFrameAnalyser(big_name, b_input=b_grid_b, o_input=o_grid_b, t_input=t_grid_b)\n",
    "\n",
    "pta.print_ith_information(500)\n",
    "pta.plot_all_neighours_of_i(500)"
   ]
  },
  {
   "cell_type": "code",
   "execution_count": 3,
   "id": "1b51fe18",
   "metadata": {
    "ExecuteTime": {
     "end_time": "2024-01-10T11:50:43.451407Z",
     "start_time": "2024-01-10T11:24:23.989780Z"
    }
   },
   "outputs": [
    {
     "name": "stdout",
     "output_type": "stream",
     "text": [
      "Saved the log file to output/data/logging/H2O_H2O_0092.log\n",
      "Saved pseudo-trajectory to output/data/pt_files/H2O_H2O_0092.xtc and structure file to output/data/pt_files/H2O_H2O_0092.gro\n",
      "Timing the generation of Pt H2O_H2O_0092: 0:25:25.037286 hours:minutes:seconds\n"
     ]
    }
   ],
   "source": [
    "%run molgri/scripts/generate_pt.py -m1 H2O -m2 H2O --recalculate -o \"162\" -b \"272\" -t \"linspace(0.1, 0.4, 20)\""
   ]
  },
  {
   "cell_type": "code",
   "execution_count": null,
   "id": "d9ee74fc",
   "metadata": {},
   "outputs": [],
   "source": [
    "#WATER"
   ]
  },
  {
   "cell_type": "code",
   "execution_count": 27,
   "id": "79079c26",
   "metadata": {
    "ExecuteTime": {
     "end_time": "2024-01-10T13:53:59.698617Z",
     "start_time": "2024-01-10T13:53:59.648790Z"
    }
   },
   "outputs": [
    {
     "data": {
      "application/vnd.jupyter.widget-view+json": {
       "model_id": "f161efeae7e24017bb80f3d09e8acf06",
       "version_major": 2,
       "version_minor": 0
      },
      "text/plain": [
       "NGLWidget(max_frame=10000)"
      ]
     },
     "metadata": {},
     "output_type": "display_data"
    }
   ],
   "source": [
    "from MDAnalysis import transformations\n",
    "\n",
    "u = mda.Universe(r\"/home/hanaz63/nobackup/gromacs/H2O_H2O_0095_10000/H2O_H2O_0095.gro\", \n",
    "                 r\"/home/hanaz63/nobackup/gromacs/H2O_H2O_0095_10000/output.xtc\")\n",
    "\n",
    "#reconnect molecules\n",
    "\n",
    "\n",
    "ag = u.atoms\n",
    "# we will use mass as weights for the center calculation\n",
    "workflow = (transformations.center_in_box(ag, center='mass'),)\n",
    "u.trajectory.add_transformations(*workflow)\n",
    "\n",
    "\n",
    "v = nv.show_mdanalysis(u)\n",
    "v.add_unitcell()\n",
    "v"
   ]
  },
  {
   "cell_type": "code",
   "execution_count": 3,
   "id": "aa5f4585",
   "metadata": {
    "ExecuteTime": {
     "end_time": "2024-01-10T15:42:13.645976Z",
     "start_time": "2024-01-10T15:42:13.594116Z"
    }
   },
   "outputs": [
    {
     "name": "stdout",
     "output_type": "stream",
     "text": [
      "('None', 'LJ (SR)', 'Disper. corr.', 'Coulomb (SR)', 'Potential')\n"
     ]
    }
   ],
   "source": [
    "from molgri.molecules.parsers import XVGParser\n",
    "\n",
    "        \n",
    "\n",
    "my_parser = XVGParser(r\"/home/hanaz63/nobackup/gromacs/H2O_H2O_0095_10000/full_energy.xvg\")\n",
    "potentials = my_parser.get_parsed_energy()\n",
    "\n",
    "print(potentials.labels)\n"
   ]
  },
  {
   "cell_type": "code",
   "execution_count": 30,
   "id": "69936b9d",
   "metadata": {
    "ExecuteTime": {
     "end_time": "2024-01-10T13:54:19.705168Z",
     "start_time": "2024-01-10T13:54:19.683248Z"
    }
   },
   "outputs": [
    {
     "data": {
      "application/vnd.jupyter.widget-view+json": {
       "model_id": "6cab099db4784a88b7d95fda48f548e6",
       "version_major": 2,
       "version_minor": 0
      },
      "text/plain": [
       "NGLWidget()"
      ]
     },
     "metadata": {},
     "output_type": "display_data"
    }
   ],
   "source": [
    "pta = PTFrameAnalyser(u)\n",
    "pta.plot_ith_frame(min_frame)"
   ]
  },
  {
   "cell_type": "code",
   "execution_count": 37,
   "id": "9713d608",
   "metadata": {
    "ExecuteTime": {
     "end_time": "2024-01-10T14:45:30.963051Z",
     "start_time": "2024-01-10T14:45:30.956763Z"
    }
   },
   "outputs": [
    {
     "data": {
      "text/plain": [
       "432"
      ]
     },
     "execution_count": 37,
     "metadata": {},
     "output_type": "execute_result"
    }
   ],
   "source": [
    "my_parser = XVGParser(r\"/home/hanaz63/nobackup/gromacs/H2O_H2O_0096/H2O_H2O_0096.xvg\")\n",
    "potentials = my_parser.get_parsed_energy().get_energies(\"Disper. corr.\")\n",
    "min_frame = np.argmin(potentials)\n",
    "min_frame"
   ]
  },
  {
   "cell_type": "code",
   "execution_count": 5,
   "id": "e7ad4eb3",
   "metadata": {
    "ExecuteTime": {
     "end_time": "2024-01-10T15:44:05.437268Z",
     "start_time": "2024-01-10T15:44:05.430887Z"
    }
   },
   "outputs": [],
   "source": [
    "%matplotlib notebook"
   ]
  },
  {
   "cell_type": "code",
   "execution_count": 183,
   "id": "8aea235e",
   "metadata": {
    "ExecuteTime": {
     "end_time": "2024-01-12T11:58:35.772073Z",
     "start_time": "2024-01-12T11:58:35.750497Z"
    },
    "code_folding": [
     13,
     19,
     35,
     55,
     72,
     84,
     117
    ]
   },
   "outputs": [],
   "source": [
    "class ViewManager:\n",
    "    \n",
    "    \"\"\"\n",
    "    NGLViewer is very useful but not very convinient for displaying particular frames of a trajectory together, \n",
    "    in particular color schemes etc. This class accepts a MDA Universe and knows how to extract frames from it.\n",
    "    The plotting functions then accept indices (one or several) for this trajectory and display them in a \n",
    "    particular way (overlapping, sequential ...)\n",
    "    \"\"\"\n",
    "    \n",
    "    def __init__(self, u: mda.Universe):\n",
    "        self.u = u\n",
    "        self.fresh_view()\n",
    "    \n",
    "    def fresh_view(self):\n",
    "        \"\"\"\n",
    "        Run this when you want to start a new view and discard an old one.\n",
    "        \"\"\"\n",
    "        self.view = nv.NGLWidget()\n",
    "    \n",
    "    def get_ith_frame(self, i: int) -> mda.Universe:\n",
    "        \"\"\"\n",
    "        The most important method acting on self.u. Get the Universe object containing of all the atoms \n",
    "        but only a single frame (i-th frame).\n",
    "        \n",
    "        Args:\n",
    "            i (int): the index of the frame wanted\n",
    "        \n",
    "        Returns:\n",
    "            a Universe containing the i-th frame of self.u\n",
    "        \"\"\"\n",
    "        self.u.trajectory[i]\n",
    "        all_atoms = self.u.select_atoms('all')\n",
    "        new_u = mda.Merge(self.u.atoms)\n",
    "        return new_u\n",
    "    \n",
    "    def _add_coordinate_axes(self):\n",
    "        \"\"\"\n",
    "        Helper method. Add the x, y and z axes at origin to a NGLView.\n",
    "        \"\"\"\n",
    "        \n",
    "        # arguments of add_arrow are: start position, end position, color (in RGB), radius of arrow head\n",
    "        # arguments of add_label are: position, color (in RGB), size, text\n",
    "        \n",
    "        # X-axis is red\n",
    "        self.view.shape.add_arrow([0, 0, 0], [1, 0, 0],[ 1, 0, 0 ], 0.1)\n",
    "        view.shape.add_label([1, 0, 0], [1, 0, 0], 1.5, 'x')\n",
    "        \n",
    "        # Y-axis is green\n",
    "        self.view.shape.add_arrow([0, 0, 0], [0, 1, 0],[0, 1, 0 ], 0.1)\n",
    "        self.view.shape.add_label([0, 1, 0], [0, 1, 0], 1.5, 'y')\n",
    "        \n",
    "        # Z-axis is blue\n",
    "        self.view.shape.add_arrow([0, 0, 0], [0, 0, 1],[0, 0, 1 ], 0.1)\n",
    "        self.view.shape.add_label([0, 0, 1], [0, 0, 1], 1.5, 'z')\n",
    "\n",
    "    def plot_ith_frame(self, frame_i: int, axes: bool = True, **kwargs):\n",
    "        \"\"\"\n",
    "        Plot i-th frame of self.u, adding to self.view.\n",
    "        \n",
    "        Args:\n",
    "            - i: index of the frame\n",
    "            - axes: if True, draw x, y and z axes\n",
    "        \"\"\"\n",
    "        ith_atoms = self.get_ith_frame(frame_i)\n",
    "        \n",
    "        self.view.add_component(ith_atoms, default_representation=False)\n",
    "        # the index is there in order to only affect the last added representation\n",
    "        self.view[-1].add_representation(\"ball+stick\", **kwargs)\n",
    "        if axes:\n",
    "            self._add_coordinate_axes()\n",
    "        return self.view\n",
    "    \n",
    "    def _add_optional_representation_parameters(self, my_index: int, colors: list, opacities: list):\n",
    "        \"\"\"\n",
    "        Helper method if you want to plot several view and pass arguments to them.\n",
    "        \"\"\"\n",
    "        kwargs = {}\n",
    "        if colors is not None:\n",
    "            kwargs[\"color\"] = colors[my_index]\n",
    "        if opacities is not None:\n",
    "            kwargs[\"opacity\"] = opacities[my_index]\n",
    "        return kwargs\n",
    "        \n",
    "    \n",
    "    def plot_frames_sequential(self, list_indices: list, colors: list = None, opacities: list = None):\n",
    "        \"\"\"\n",
    "        Plot several frames of the self.u next to each other. Automatically ngo to next now if you have too\n",
    "        many frames to display in one row.\n",
    "        \n",
    "        Args:\n",
    "            - list_indices: a list of integers, each an frame index to be displayed\n",
    "            - colors: a list of colors (must be same length as list_indices) or None (default)\n",
    "            - opacities: a list of opacities (must be same length as list_indices) or None (default)\n",
    "        \"\"\"\n",
    "        \n",
    "        # settings that are important so that rows with too many images nicely overflow in the next row\n",
    "        box = widgets.Box(layout=widgets.Layout(width='100%',display='inline-flex',flex_flow='row wrap'))\n",
    "        box.overflow_x = 'auto'\n",
    "\n",
    "        all_views = []\n",
    "        for li, list_i in enumerate(list_indices):\n",
    "            self.fresh_view()\n",
    "            # add optional parameters\n",
    "            kwargs = self._add_optional_representation_parameters(li, colors, opacities)\n",
    "            neig_view = self.plot_ith_frame(list_i, **kwargs)\n",
    "            # this is also important for nice arragement of figures\n",
    "            neig_view.layout.width = \"200px\"\n",
    "            all_views.append(neig_view)\n",
    "        \n",
    "        \n",
    "        # sync all views (so that all plots move if you move any)\n",
    "        for v in all_views:\n",
    "            v._set_sync_camera(all_views)\n",
    "        \n",
    "        box.children=[i for i in all_views]\n",
    "        display(box)\n",
    "    \n",
    "    def plot_frames_overlapping(self, list_indices: list, colors: list = None, opacities: list = None):\n",
    "        \"\"\"\n",
    "        Plot several frames of the self.u overlapping.\n",
    "        \n",
    "        Args:\n",
    "            - list_indices: a list of integers, each an frame index to be displayed\n",
    "            - colors: a list of colors (must be same length as list_indices) or None (default)\n",
    "            - opacities: a list of opacities (must be same length as list_indices) or None (default)\n",
    "        \n",
    "        \"\"\"\n",
    "        \n",
    "        for li, list_i in enumerate(list_indices):\n",
    "            # add optional parameters\n",
    "            kwargs = self._add_optional_representation_parameters(li, colors, opacities)\n",
    "                \n",
    "            self.plot_ith_frame(list_i, **kwargs)\n",
    "\n",
    "        return self.view\n",
    "\n",
    "\n"
   ]
  },
  {
   "cell_type": "code",
   "execution_count": null,
   "id": "5b2eb643",
   "metadata": {
    "code_folding": [
     34,
     63
    ]
   },
   "outputs": [],
   "source": [
    "\"\"\"\n",
    "Some important indices you may wanna plot:\n",
    "- lowest energy structures\n",
    "- neighbours\n",
    "- all with same orientation\n",
    "- all with same position\n",
    "- eigenvectors of SQRA\n",
    "\"\"\"\n",
    "\n",
    "class PostCalculationEvaluator:\n",
    "    \n",
    "    \"\"\"\n",
    "    Combine the following (if you have it available):\n",
    "        - trajectory or pseudotrajectory (in form of mda Universe)\n",
    "        - emnergies\n",
    "        - full grid (FullGrid object)\n",
    "        - transition model(MSM or SQRA object)\n",
    "        \n",
    "    \n",
    "    \"\"\"\n",
    "    \n",
    "    def __init__(self, name_pt):\n",
    "        self.name_pt = name_pt\n",
    "        self.u = self.read_u_PT()\n",
    "        self.parsed_trajectory = self.read_parsed_trajectory_PT()\n",
    "        self.fg = self.read_fg_PT()\n",
    "        self.transition_model = self.read_sqra_PT()\n",
    "    \n",
    "    def read_u_PT(self):\n",
    "        return mda.Universe(f\"{PATH_OUTPUT_PT}{self.name_pt}.gro\", f\"{PATH_OUTPUT_PT}{self.name_pt}.xtc\")\n",
    "\n",
    "    def read_parsed_trajectory_PT(self):\n",
    "        pass\n",
    "\n",
    "    def read_fg_PT(self):\n",
    "\n",
    "        input_names = None\n",
    "        full_grid_name = None\n",
    "\n",
    "        # first step: read the name of the full grid from the log file\n",
    "        with open(f\"{PATH_OUTPUT_LOGGING}{self.name_pt}.log\") as f:\n",
    "            while input_names is None or full_grid_name is None:\n",
    "                line = f.readline()\n",
    "                if line.startswith(\"INFO:PtLogger:input grid parameters:\"):\n",
    "                    input_names = line.strip().split(\": \")[-1]\n",
    "                elif line.startswith(\"INFO:PtLogger:full grid name:\"):\n",
    "                    full_grid_name = line.strip().split(\": \")[-1]\n",
    "                    \n",
    "        self.grid_name = full_grid_name\n",
    "        \n",
    "        input_names = input_names.split(\" \")\n",
    "        t_input = \" \".join(input_names[2:])\n",
    "        fg = FullGrid(o_grid_name=input_names[0], b_grid_name=input_names[1], t_grid_name=t_input,\n",
    "                      use_saved=True)\n",
    "\n",
    "        # second step: load the .npy file with the found name\n",
    "        used_grid = np.load(f\"{OUTPUT_PLOTTING_DATA}get_full_grid_as_array_{full_grid_name}.npy\")\n",
    "\n",
    "        # third step: assert that this is actually the grid that has been used\n",
    "        assert np.allclose(used_grid, fg.get_full_grid_as_array())\n",
    "\n",
    "        return fg\n",
    "\n",
    "    def read_energy_PT(self):\n",
    "        my_parser = XVGParser(f\"/home/hanaz63/nobackup/gromacs/{self.name_pt}/{self.name_pt}.xvg\")\n",
    "        return my_parser.get_parsed_energy()\n",
    "\n",
    "    def read_sqra_PT(self):\n",
    "        sh = SimulationHistogram(self.parsed_trajectory, self.fg)\n",
    "        return SQRA(sh, use_saved=True)\n",
    "    \n",
    "    \n",
    "    \n",
    "    def get_indices_k_lowest_energies(self, k: int, energy_type: str):\n",
    "        pass\n",
    "    \n",
    "    def get_indices_neighbours_of_cell_i(self, i: int):\n",
    "        adj_array = csr_array(self.fg.get_full_adjacency())[:, [i]].toarray().T[0]\n",
    "        neighbour_indices = np.nonzero(adj_array)[0]\n",
    "        return neighbour_indices"
   ]
  },
  {
   "cell_type": "code",
   "execution_count": 196,
   "id": "85d0c754",
   "metadata": {
    "ExecuteTime": {
     "end_time": "2024-01-12T12:43:58.897777Z",
     "start_time": "2024-01-12T12:43:58.651859Z"
    },
    "code_folding": [
     13
    ]
   },
   "outputs": [
    {
     "name": "stdout",
     "output_type": "stream",
     "text": [
      "<Universe with 6 atoms>\n",
      "<molgri.space.fullgrid.FullGrid object at 0x7f6bdeef2bd0>\n",
      "[ 6.35023376e+02  5.95563599e+02  8.76023682e+02  4.06369202e+02\n",
      "  9.78464600e+02  4.69440369e+02  5.05195984e+02  7.44091675e+02\n",
      "  5.47452637e+02  3.93801086e+02  5.47453552e+02  5.63864197e+02\n",
      "  5.63694763e+02  4.85781067e+02  3.93757812e+02  4.85815552e+02\n",
      "  8.51343933e+02  5.61660339e+02  6.06557251e+02  7.93638184e+02\n",
      "  1.13981360e+03  4.63972809e+02  9.07294678e+02  6.58014221e+02\n",
      "  5.63553528e+02  4.62818573e+02  4.05159271e+02  5.44712036e+02\n",
      "  5.29479187e+02  3.15578369e+02  3.38468872e+02  4.27176880e+02\n",
      "  8.76219360e+02  5.05194458e+02  6.35103699e+02  9.78455811e+02\n",
      "  4.06359924e+02  7.44108704e+02  5.95600708e+02  4.69474854e+02\n",
      "  6.06474487e+02  9.07261230e+02  8.51097046e+02  1.13981152e+03\n",
      "  7.93704651e+02  6.58120117e+02  5.61739685e+02  4.63926758e+02\n",
      "  1.22662549e+03  5.32233582e+02  1.22664099e+03  8.14526672e+02\n",
      "  8.14530457e+02  8.55376160e+02  5.32306458e+02  8.55387268e+02\n",
      "  4.05206238e+02  3.38479736e+02  5.63511047e+02  5.29479492e+02\n",
      "  5.44697205e+02  4.27215363e+02  4.62771851e+02  3.15545776e+02\n",
      "  4.71207642e+02  2.60552856e+02  4.71196503e+02  3.81332214e+02\n",
      "  3.81376831e+02  3.77240112e+02  2.60555450e+02  3.77269226e+02\n",
      "  4.02807312e+02  5.12195251e+02  3.60334839e+02  4.51377930e+02\n",
      "  5.09922516e+02  3.88249756e+02  6.66164917e+02  7.22958679e+02\n",
      "  6.42397705e+02  6.49024963e+02  6.42488525e+02  7.22183533e+02\n",
      "  7.22260925e+02  4.00483398e+02  6.49062317e+02  4.00564575e+02\n",
      "  3.60346222e+02  6.66153748e+02  4.02963104e+02  5.09797272e+02\n",
      "  4.51255310e+02  7.22914124e+02  5.12208801e+02  3.88240540e+02\n",
      "  7.61046300e+01  8.43988340e+01  1.37899139e+02  4.61583670e+01\n",
      "  1.52430847e+02  4.22439650e+01  8.20087810e+01  1.03638977e+02\n",
      "  6.09244960e+01  3.71883930e+01  6.09244000e+01  4.67952580e+01\n",
      "  4.68372120e+01  9.59046780e+01  3.71815760e+01  9.58779370e+01\n",
      "  1.26485756e+02  5.46696400e+01  7.14115220e+01  1.16097359e+02\n",
      "  1.75600998e+02  4.85821380e+01  1.47742050e+02  8.21416700e+01\n",
      "  5.28800770e+01  6.77984160e+01  9.81965870e+01  9.04287030e+01\n",
      "  5.49053080e+01  5.25978660e+01  3.08741110e+01  9.05869670e+01\n",
      "  1.37921738e+02  8.19983830e+01  7.61240540e+01  1.52435089e+02\n",
      "  4.61465990e+01  1.03648010e+02  8.44037700e+01  4.22172050e+01\n",
      "  7.14107740e+01  1.47740082e+02  1.26483597e+02  1.75603531e+02\n",
      "  1.16110001e+02  8.21533740e+01  5.46720010e+01  4.85876160e+01\n",
      "  1.91838974e+02  4.98756600e+01  1.91835526e+02  1.20287216e+02\n",
      "  1.20242691e+02  1.27002037e+02  4.98731610e+01  1.26964409e+02\n",
      "  9.82119060e+01  3.08855930e+01  5.28920140e+01  5.49040680e+01\n",
      "  9.04205090e+01  9.05593950e+01  6.77839280e+01  5.25935330e+01\n",
      "  3.43506010e+01  4.51168480e+01  3.43562930e+01  5.73276750e+01\n",
      "  5.73041190e+01  4.90151820e+01  4.51156460e+01  4.90056800e+01\n",
      "  3.46631010e+01  7.35530170e+01  5.01707460e+01  8.61341020e+01\n",
      "  4.61023060e+01  7.53873600e+01  1.01448181e+02  1.01506844e+02\n",
      "  8.93464130e+01  1.32209869e+02  8.93288880e+01  1.06109100e+02\n",
      "  1.06116226e+02  2.81862640e+01  1.32219254e+02  2.81713810e+01\n",
      "  5.01752850e+01  1.01441063e+02  3.46440320e+01  4.60837550e+01\n",
      "  8.61265490e+01  1.01515770e+02  7.35486220e+01  7.54057920e+01\n",
      "  3.03955800e+00  1.34010910e+01  3.37505040e+01 -1.05512000e+00\n",
      "  3.75196800e+01 -8.49689700e+00  1.83332880e+01  1.69829690e+01\n",
      "  1.10080600e+00 -3.26606200e+00  1.10419600e+00 -1.24678310e+01\n",
      " -1.24703090e+01  3.19228270e+01 -3.26592300e+00  3.19189240e+01\n",
      "  2.63311460e+01 -5.16379200e+00  1.10933300e+00  2.22647650e+01\n",
      "  4.40385860e+01 -5.52634600e+00  3.90690230e+01  7.11525000e+00\n",
      " -8.83688500e+00  1.14262960e+01  3.84454880e+01  1.92665900e+01\n",
      " -4.17910100e+00  1.44463390e+01 -6.90108600e+00  2.75447710e+01\n",
      "  3.37595600e+01  1.83255960e+01  3.04461300e+00  3.75260660e+01\n",
      " -1.06374400e+00  1.69894920e+01  1.34036050e+01 -8.50631500e+00\n",
      "  1.11005900e+00  3.90692290e+01  2.63312570e+01  4.40387840e+01\n",
      "  2.22613350e+01  7.11449200e+00 -5.16849900e+00 -5.52659300e+00\n",
      "  5.07653080e+01 -1.02691710e+01  5.07648160e+01  2.39685210e+01\n",
      "  2.39629080e+01  2.62661460e+01 -1.02723540e+01  2.62578050e+01\n",
      "  3.84510420e+01 -6.89602500e+00 -8.85190200e+00 -4.17943500e+00\n",
      "  1.92732110e+01  2.75296340e+01  1.14137910e+01  1.44432450e+01\n",
      " -1.68371390e+01  1.52428190e+01 -1.68377550e+01  8.75277900e+00\n",
      "  8.74575800e+00  3.26451700e+00  1.52391010e+01  3.25370400e+00\n",
      " -9.74229400e+00  1.15284670e+01  6.73352500e+00  2.65590320e+01\n",
      " -1.00141480e+01  2.23073810e+01  2.10085070e+01  1.62647760e+01\n",
      "  1.39198160e+01  4.11626210e+01  1.39272440e+01  2.14740890e+01\n",
      "  2.14795400e+01 -1.38196060e+01  4.11541750e+01 -1.38186730e+01\n",
      "  6.73355400e+00  2.10111270e+01 -9.74292800e+00 -1.00122770e+01\n",
      "  2.65419450e+01  1.62636070e+01  1.15294720e+01  2.22995610e+01\n",
      " -6.59068400e+00  1.63582900e+00  1.34327790e+01 -6.42661300e+00\n",
      "  1.52196920e+01 -1.20670400e+01  5.84854600e+00  2.82847200e+00\n",
      " -5.27843800e+00 -5.99934300e+00 -5.28362800e+00 -1.57854750e+01\n",
      " -1.57859430e+01  1.63589780e+01 -5.99583100e+00  1.63636320e+01\n",
      "  8.13790900e+00 -1.00215300e+01 -8.04437400e+00  5.55641400e+00\n",
      "  1.86390440e+01 -1.13730930e+01  1.69509560e+01 -3.14718100e+00\n",
      " -1.40004820e+01  1.83435600e+00  2.11299550e+01  4.63018600e+00\n",
      " -1.00150470e+01  7.50821200e+00 -9.48300400e+00  1.12088140e+01\n",
      "  1.34273190e+01  5.85432800e+00 -6.59628800e+00  1.52147030e+01\n",
      " -6.41920300e+00  2.82603900e+00  1.63536400e+00 -1.20566560e+01\n",
      " -8.04413100e+00  1.69509620e+01  8.13901300e+00  1.86388660e+01\n",
      "  5.56135200e+00 -3.15051500e+00 -1.00220740e+01 -1.13736250e+01\n",
      "  2.29032570e+01 -1.56775360e+01  2.29040790e+01  6.57762500e+00\n",
      "  6.58966100e+00  7.92475200e+00 -1.56764810e+01  7.93239200e+00\n",
      "  2.11245820e+01 -9.48930700e+00 -1.39914150e+01 -1.00113670e+01\n",
      "  4.62177100e+00  1.12068880e+01  1.84191600e+00  7.51208000e+00\n",
      " -1.92456550e+01  9.89167600e+00 -1.92472950e+01  2.83750000e-01\n",
      "  2.95027000e-01 -3.20676600e+00  9.89145000e+00 -3.19897100e+00\n",
      " -1.24355940e+01  1.15800900e+00  2.72790000e-01  1.25653500e+01\n",
      " -1.41840650e+01  9.93429900e+00  6.19979900e+00  1.94942500e+00\n",
      "  1.65734400e+00  1.79220940e+01  1.65391600e+00  6.76952000e+00\n",
      "  6.77696500e+00 -1.48406790e+01  1.79250370e+01 -1.48408040e+01\n",
      "  2.72326000e-01  6.19371100e+00 -1.24333330e+01 -1.41871400e+01\n",
      "  1.25638670e+01  1.94469000e+00  1.15752100e+00  9.93913800e+00\n",
      " -6.60086000e+00 -3.63705000e-01  7.73545600e+00 -5.68499200e+00\n",
      "  8.92193600e+00 -9.71570400e+00  2.68919800e+00  3.97261000e-01\n",
      " -4.49326900e+00 -4.48314400e+00 -4.49442700e+00 -1.24429130e+01\n",
      " -1.24401200e+01  1.06101530e+01 -4.48621900e+00  1.06099570e+01\n",
      "  3.80891000e+00 -7.97417800e+00 -7.85885400e+00  1.88672800e+00\n",
      "  1.13525110e+01 -1.00706620e+01  1.02857610e+01 -3.65563800e+00\n",
      " -1.16482150e+01  1.03106000e-01  1.39295640e+01  8.64316000e-01\n",
      " -8.51365300e+00  5.65097500e+00 -7.56070200e+00  5.61376300e+00\n",
      "  7.73544100e+00  2.68564400e+00 -6.59986200e+00  8.92412000e+00\n",
      " -5.68793800e+00  3.95724000e-01 -3.62871000e-01 -9.71716800e+00\n",
      " -7.86148000e+00  1.02874570e+01  3.80800800e+00  1.13508300e+01\n",
      "  1.88845500e+00 -3.66131800e+00 -7.97004000e+00 -1.00677350e+01\n",
      "  1.44754300e+01 -1.34302160e+01  1.44751970e+01  2.59610100e+00\n",
      "  2.59205400e+00  3.56693000e+00 -1.34288230e+01  3.56523800e+00\n",
      "  1.39312340e+01 -7.56155900e+00 -1.16537430e+01 -8.51383700e+00\n",
      "  8.63512000e-01  5.60427200e+00  9.96770000e-02  5.65071700e+00\n",
      " -1.56120950e+01  8.10751900e+00 -1.56120740e+01 -1.09295100e+00\n",
      " -1.09247200e+00 -3.40693600e+00  8.11212700e+00 -3.40350800e+00\n",
      " -9.88279800e+00 -5.81213000e-01 -3.41420000e-01  7.71630500e+00\n",
      " -1.15741790e+01  5.93682400e+00  2.72354100e+00 -6.33116000e-01\n",
      " -3.84959000e-01  9.71453500e+00 -3.82514000e-01  3.59261200e+00\n",
      "  3.58834800e+00 -1.13589930e+01  9.71464900e+00 -1.13586420e+01\n",
      " -3.41315000e-01  2.72718500e+00 -9.88367600e+00 -1.15715820e+01\n",
      "  7.72087800e+00 -6.32331000e-01 -5.81218000e-01  5.93430700e+00\n",
      " -5.33010600e+00 -5.80441000e-01  5.37513400e+00 -4.37341400e+00\n",
      "  6.27559500e+00 -7.31503200e+00  1.61523700e+00  7.71770000e-02\n",
      " -3.17083900e+00 -3.05854600e+00 -3.17036700e+00 -9.23448800e+00\n",
      " -9.23536600e+00  7.64181000e+00 -3.06003500e+00  7.64077200e+00\n",
      "  2.38810700e+00 -5.75724200e+00 -6.43066700e+00  8.78785000e-01\n",
      "  8.18608900e+00 -8.08089400e+00  7.31126600e+00 -2.83454800e+00\n",
      " -8.97230300e+00 -1.65350000e-01  1.00603520e+01 -2.64653000e-01\n",
      " -6.49612900e+00  4.72152800e+00 -5.59815500e+00  3.20095700e+00\n",
      "  5.37472000e+00  1.61575000e+00 -5.32994200e+00  6.27476300e+00\n",
      " -4.37263100e+00  7.67690000e-02 -5.81633000e-01 -7.31495700e+00\n",
      " -6.43039200e+00  7.31041000e+00  2.38863400e+00  8.18650800e+00\n",
      "  8.80291000e-01 -2.83269600e+00 -5.75789000e+00 -8.08132400e+00\n",
      "  1.05905500e+01 -1.06661740e+01  1.05906180e+01  1.38897200e+00\n",
      "  1.38805600e+00  2.14486700e+00 -1.06677270e+01  2.14501800e+00\n",
      "  1.00602150e+01 -5.59841500e+00 -8.97011500e+00 -6.49733500e+00\n",
      " -2.64899000e-01  3.20085900e+00 -1.67435000e-01  4.72172400e+00\n",
      " -1.20876300e+01  6.90490100e+00 -1.20868770e+01 -1.11429600e+00\n",
      " -1.11264300e+00 -2.71982000e+00  6.90430800e+00 -2.71831200e+00\n",
      " -7.37752200e+00 -7.33805000e-01 -1.10545000e-01  5.37561500e+00\n",
      " -8.79044600e+00  4.15289400e+00  1.63892200e+00 -9.80782000e-01\n",
      " -5.95361000e-01  5.98764100e+00 -5.95670000e-01  2.62762200e+00\n",
      "  2.62852300e+00 -8.32928000e+00  5.99055500e+00 -8.33108300e+00\n",
      " -1.10591000e-01  1.63867700e+00 -7.37738500e+00 -8.79147800e+00\n",
      "  5.37536000e+00 -9.80845000e-01 -7.33884000e-01  4.15503400e+00\n",
      " -4.16333800e+00 -4.92238000e-01  4.04584700e+00 -3.30621800e+00\n",
      "  4.76257300e+00 -5.52162600e+00  1.12354000e+00  1.15199000e-01\n",
      " -2.18004100e+00 -2.09973200e+00 -2.18118000e+00 -6.88087900e+00\n",
      " -6.88112400e+00  5.77994600e+00 -2.09931400e+00  5.77983500e+00\n",
      "  1.72442500e+00 -4.14684900e+00 -5.12128200e+00  5.12887000e-01\n",
      "  6.32095100e+00 -6.41173900e+00  5.56101000e+00 -2.05428500e+00\n",
      " -6.88812700e+00 -1.66453000e-01  7.63415900e+00 -6.25318000e-01\n",
      " -4.91049400e+00  4.02040300e+00 -4.13759300e+00  1.99103500e+00\n",
      "  4.04533900e+00  1.12410700e+00 -4.16327000e+00  4.76218200e+00\n",
      " -3.30587200e+00  1.15438000e-01 -4.92719000e-01 -5.52100800e+00\n",
      " -5.12108300e+00  5.56078300e+00  1.72469700e+00  6.32101100e+00\n",
      "  5.12617000e-01 -2.05518700e+00 -4.14711900e+00 -6.41198600e+00\n",
      "  8.22044800e+00 -8.42565800e+00  8.22061700e+00  8.91580000e-01\n",
      "  8.93685000e-01  1.49653100e+00 -8.42535000e+00  1.49779400e+00\n",
      "  7.63443800e+00 -4.13890000e+00 -6.88840900e+00 -4.91049700e+00\n",
      " -6.24700000e-01  1.98933600e+00 -1.67430000e-01  4.02058600e+00\n",
      " -9.38917900e+00  5.87327800e+00 -9.38853800e+00 -9.06375000e-01\n",
      " -9.03152000e-01 -2.06885500e+00  5.87278700e+00 -2.06607200e+00\n",
      " -5.51686400e+00 -6.17319000e-01  1.31406000e-01  3.97298600e+00\n",
      " -6.66718600e+00  3.15001200e+00  1.16324300e+00 -9.11993000e-01\n",
      " -5.03822000e-01  3.98676000e+00 -5.03876000e-01  2.15553300e+00\n",
      "  2.15682600e+00 -6.16467500e+00  3.98706200e+00 -6.16489200e+00\n",
      "  1.31396000e-01  1.16283300e+00 -5.51667000e+00 -6.66736900e+00\n",
      "  3.97275500e+00 -9.12121000e-01 -6.17242000e-01  3.15033900e+00\n",
      " -3.26434800e+00 -3.81536000e-01  3.15963800e+00 -2.52662900e+00\n",
      "  3.74215100e+00 -4.24302800e+00  8.40196000e-01  1.78250000e-01\n",
      " -1.52018100e+00 -1.47832800e+00 -1.51967300e+00 -5.22183100e+00\n",
      " -5.22155300e+00  4.49599000e+00 -1.47953300e+00  4.49567200e+00\n",
      "  1.32198500e+00 -3.04135700e+00 -4.09598400e+00  3.36913000e-01\n",
      "  5.03435400e+00 -5.12791700e+00  4.37390100e+00 -1.48500400e+00\n",
      " -5.36491200e+00 -1.31753000e-01  5.97414800e+00 -7.29628000e-01\n",
      " -3.76262700e+00  3.43092300e+00 -3.10637200e+00  1.30964800e+00\n",
      "  3.15993800e+00  8.38809000e-01 -3.26359300e+00  3.74264800e+00\n",
      " -2.52758300e+00  1.78963000e-01 -3.80792000e-01 -4.24371600e+00\n",
      " -4.09586600e+00  4.37387300e+00  1.32205600e+00  5.03424600e+00\n",
      "  3.36817000e-01 -1.48518300e+00 -3.04168800e+00 -5.12790400e+00\n",
      "  6.56169500e+00 -6.72206800e+00  6.56177400e+00  6.26204000e-01\n",
      "  6.26621000e-01  1.11775700e+00 -6.72183600e+00  1.11821700e+00\n",
      "  5.97391200e+00 -3.10656000e+00 -5.36539800e+00 -3.76189200e+00\n",
      " -7.27399000e-01  1.31114500e+00 -1.34012000e-01  3.43064400e+00\n",
      " -7.40154500e+00  4.98158400e+00 -7.40155500e+00 -7.00346000e-01\n",
      " -7.01403000e-01 -1.57222100e+00  4.98111300e+00 -1.57334700e+00\n",
      " -4.19654900e+00 -4.87346000e-01  2.80049000e-01  3.03559600e+00\n",
      " -5.13341100e+00  2.49156200e+00  8.84902000e-01 -7.83270000e-01\n",
      " -3.93665000e-01  2.78643800e+00 -3.93895000e-01  1.82672200e+00\n",
      "  1.82647400e+00 -4.65826200e+00  2.78738500e+00 -4.65834300e+00\n",
      "  2.79716000e-01  8.86223000e-01 -4.19682300e+00 -5.13315200e+00\n",
      "  3.03509900e+00 -7.82026000e-01 -4.87363000e-01  2.49092100e+00\n",
      " -2.59375200e+00 -2.94626000e-01  2.51918800e+00 -1.96485700e+00\n",
      "  2.99970200e+00 -3.32610100e+00  6.50226000e-01  2.15058000e-01\n",
      " -1.08533300e+00 -1.07604600e+00 -1.08610400e+00 -4.04454900e+00\n",
      " -4.04514700e+00  3.56508000e+00 -1.07451900e+00  3.56513400e+00\n",
      "  1.04472600e+00 -2.28358400e+00 -3.31191700e+00  2.32338000e-01\n",
      "  4.08517000e+00 -4.15519800e+00  3.51062800e+00 -1.08825100e+00\n",
      " -4.25757700e+00 -1.08427000e-01  4.77496100e+00 -7.34694000e-01\n",
      " -2.93876800e+00  2.92661200e+00 -2.37800900e+00  8.96671000e-01\n",
      "  2.51899800e+00  6.49610000e-01 -2.59351000e+00  3.00012900e+00\n",
      " -1.96564600e+00  2.14860000e-01 -2.94430000e-01 -3.32642200e+00\n",
      " -3.31216400e+00  3.51093000e+00  1.04431400e+00  4.08484500e+00\n",
      "  2.32283000e-01 -1.08805000e+00 -2.28300900e+00 -4.15474400e+00\n",
      "  5.32678900e+00 -5.43676800e+00  5.32686300e+00  4.57710000e-01\n",
      "  4.57830000e-01  8.62758000e-01 -5.43614600e+00  8.63478000e-01\n",
      "  4.77517400e+00 -2.37730200e+00 -4.25652700e+00 -2.93900100e+00\n",
      " -7.33138000e-01  8.97358000e-01 -1.08155000e-01  2.92641300e+00\n",
      " -5.93383900e+00  4.22106300e+00 -5.93362800e+00 -5.41250000e-01\n",
      " -5.39655000e-01 -1.21423900e+00  4.22072600e+00 -1.21293100e+00\n",
      " -3.25672800e+00 -3.85369000e-01  3.53287000e-01  2.37047900e+00\n",
      " -4.02380200e+00  2.01969600e+00  6.95018000e-01 -6.65715000e-01\n",
      " -3.06183000e-01  2.01993800e+00 -3.06058000e-01  1.55603000e+00\n",
      "  1.55662300e+00 -3.59839400e+00  2.01925200e+00 -3.59869000e+00\n",
      "  3.53146000e-01  6.94711000e-01 -3.25667400e+00 -4.02378400e+00\n",
      "  2.37157300e+00 -6.64810000e-01 -3.85428000e-01  2.01870300e+00\n",
      " -2.09106200e+00 -2.33574000e-01  2.03824400e+00 -1.55830400e+00\n",
      "  2.44101100e+00 -2.65804600e+00  5.12119000e-01  2.29571000e-01\n",
      " -7.96092000e-01 -8.07348000e-01 -7.95421000e-01 -3.19333200e+00\n",
      " -3.19341700e+00  2.86865100e+00 -8.07359000e-01  2.86863600e+00\n",
      "  8.40171000e-01 -1.75287500e+00 -2.71212400e+00  1.63213000e-01\n",
      "  3.36133400e+00 -3.41250000e+00  2.86135900e+00 -8.13694000e-01\n",
      " -3.43725000e+00 -9.72390000e-02  3.87951900e+00 -7.00881000e-01\n",
      " -2.33954100e+00  2.49829600e+00 -1.85537300e+00  6.30669000e-01\n",
      "  2.03895600e+00  5.12424000e-01 -2.09098800e+00  2.44107000e+00\n",
      " -1.55850600e+00  2.29822000e-01 -2.33854000e-01 -2.65805100e+00\n",
      " -2.71176600e+00  2.86109500e+00  8.40260000e-01  3.36161200e+00\n",
      "  1.63307000e-01 -8.13312000e-01 -1.75303500e+00 -3.41275600e+00\n",
      "  4.38140900e+00 -4.46016800e+00  4.38147600e+00  3.41418000e-01\n",
      "  3.42300000e-01  6.79269000e-01 -4.46020700e+00  6.79855000e-01\n",
      "  3.87981200e+00 -1.85471000e+00 -3.43731000e+00 -2.33959100e+00\n",
      " -7.00182000e-01  6.30957000e-01 -9.60450000e-02  2.49838800e+00\n",
      " -4.83238600e+00  3.58100400e+00 -4.83233900e+00 -4.21576000e-01\n",
      " -4.20570000e-01 -9.52845000e-01  3.58057700e+00 -9.52130000e-01\n",
      " -2.57564500e+00 -3.10587000e-01  3.77740000e-01  1.88275500e+00\n",
      " -3.20819300e+00  1.66329100e+00  5.52217000e-01 -5.69310000e-01\n",
      " -2.40957000e-01  1.50441300e+00 -2.41461000e-01  1.32940600e+00\n",
      "  1.32989300e+00 -2.83857100e+00  1.50464900e+00 -2.83863700e+00\n",
      "  3.77451000e-01  5.52500000e-01 -2.57585800e+00 -3.20809000e+00\n",
      "  1.88255000e+00 -5.69540000e-01 -3.10574000e-01  1.66339200e+00]\n"
     ]
    },
    {
     "data": {
      "application/vnd.jupyter.widget-view+json": {
       "model_id": "c4c8f80ef94a49f79738cbcb3ca0c57c",
       "version_major": 2,
       "version_minor": 0
      },
      "text/plain": [
       "Box(children=(NGLWidget(layout=Layout(width='200px')), NGLWidget(layout=Layout(width='200px')), NGLWidget(layo…"
      ]
     },
     "metadata": {},
     "output_type": "display_data"
    }
   ],
   "source": [
    "# EXAMPLE\n",
    "\n",
    "# changeable parameters\n",
    "my_name1 = \"H2O\"\n",
    "my_name2 = \"H2O\"\n",
    "my_num = \"0099\"\n",
    "my_name = f\"{my_name1}_{my_name2}_{my_num}\"\n",
    "\n",
    "\n",
    "# read everything from files \n",
    "def read_u_PT(name_pt):\n",
    "    return mda.Universe(f\"{PATH_OUTPUT_PT}{name_pt}.gro\", f\"{PATH_OUTPUT_PT}{name_pt}.xtc\")\n",
    "\n",
    "def read_parsed_trajectory_PT(name_pt):\n",
    "    pass\n",
    "\n",
    "def read_fg_PT(name_pt):\n",
    "\n",
    "    input_names = None\n",
    "    full_grid_name = None\n",
    "    \n",
    "    # first step: read the name of the full grid from the log file\n",
    "    with open(f\"{PATH_OUTPUT_LOGGING}{name_pt}.log\") as f:\n",
    "        while input_names is None or full_grid_name is None:\n",
    "            line = f.readline()\n",
    "            if line.startswith(\"INFO:PtLogger:input grid parameters:\"):\n",
    "                input_names = line.strip().split(\": \")[-1]\n",
    "            elif line.startswith(\"INFO:PtLogger:full grid name:\"):\n",
    "                full_grid_name = line.strip().split(\": \")[-1]\n",
    "    input_names = input_names.split(\" \")\n",
    "    t_input = \" \".join(input_names[2:])\n",
    "    fg = FullGrid(o_grid_name=input_names[0], b_grid_name=input_names[1], t_grid_name=t_input,\n",
    "                  use_saved=True)\n",
    "    \n",
    "    # second step: load the .npy file with the found name\n",
    "    used_grid = np.load(f\"{OUTPUT_PLOTTING_DATA}get_full_grid_as_array_{full_grid_name}.npy\")\n",
    "\n",
    "    # third step: assert that this is actually the grid that has been used\n",
    "    assert np.allclose(used_grid, fg.get_full_grid_as_array())\n",
    "    \n",
    "    return fg\n",
    "\n",
    "def read_energy_PT(name_pt):\n",
    "    my_parser = XVGParser(f\"/home/hanaz63/nobackup/gromacs/{name_pt}/{name_pt}.xvg\")\n",
    "    return my_parser.get_parsed_energy()\n",
    "\n",
    "def read_sqra_PT(name_pt, name_grid):\n",
    "    SimulationHistogram()\n",
    "    pass\n",
    "    \n",
    "print(read_u_PT(my_name))\n",
    "print(read_fg_PT(my_name))\n",
    "print(read_energy_PT(my_name))\n",
    "    \n",
    "# preparing the parsed trajectory\n",
    " #.get_energies(\"Disper. corr.\")\n",
    "pt_parser = FileParser(\n",
    "    path_topology=f\"/home/hanaz63/nobackup/gromacs/H2O_H2O_{my_num}/H2O_H2O_{my_num}.gro\",\n",
    "    path_trajectory=f\"/home/hanaz63/nobackup/gromacs/H2O_H2O_{my_num}/H2O_H2O_{my_num}.xtc\")\n",
    "parsed_trajectory = pt_parser.get_parsed_trajectory(default_atom_selection=\"bynum 4:6\")\n",
    "parsed_trajectory.energies = pe\n",
    "\n",
    "\n",
    "# example universe and fg\n",
    "example_universe = pt_parser.universe\n",
    "\n",
    "\n",
    "# display\n",
    "vm = ViewManager(example_universe)\n",
    "vm.fresh_view()\n",
    "colors = [\"red\", \"green\", \"blue\"]\n",
    "opacities = [0.5, 0.5, 0.5]\n",
    "vm.plot_frames_sequential([5, 70, 200])\n",
    "\n",
    "\n",
    "#print(pe.get_energies(\"Potential\"))\n",
    "# preparing the grid\n",
    "#fg = FullGrid(t_grid_name=\"[0.1, 0.2, 0.3]\", o_grid_name=\"ico_42\", b_grid_name=\"cube4D_16\")\n",
    "\n",
    "#sh = SimulationHistogram(parsed_trajectory, fg)\n",
    "#my_msm = MSM(sh, tau_array=np.array([10, 50, 100]), use_saved=False)"
   ]
  },
  {
   "cell_type": "code",
   "execution_count": 111,
   "id": "27dc13c5",
   "metadata": {
    "ExecuteTime": {
     "end_time": "2024-01-12T10:13:18.951360Z",
     "start_time": "2024-01-12T10:13:00.654165Z"
    }
   },
   "outputs": [
    {
     "name": "stdout",
     "output_type": "stream",
     "text": [
      "In 4D, only approximate calculation of Voronoi cells is possible. Proceeding numerically.\n"
     ]
    },
    {
     "data": {
      "application/vnd.jupyter.widget-view+json": {
       "model_id": "f5fc71dc97354795941017d05e7cd070",
       "version_major": 2,
       "version_minor": 0
      },
      "text/plain": [
       "NGLWidget()"
      ]
     },
     "metadata": {},
     "output_type": "display_data"
    }
   ],
   "source": [
    "pta = PTFrameAnalyser(pt_parser.universe)\n",
    "\n",
    "# zeroth eigenvector\n",
    "fg = FullGrid(o_grid_name=\"12\", b_grid_name=\"8\", t_grid_name=\"linspace(0.2, 0.5, 10)\", use_saved=True)\n",
    "#fg = FullGrid(o_grid_name=\"42\", b_grid_name=\"40\", t_grid_name=\"linspace(0.2, 0.5, 20)\", use_saved=True)\n",
    "\n",
    "sim_hist = SimulationHistogram(parsed_trajectory, full_grid=fg)\n",
    "\n",
    "sqra = SQRA(sim_hist)\n",
    "evalu, evec = sqra.get_eigenval_eigenvec()\n",
    "\n",
    "my_eigenvector = evec[0].T[1]\n",
    "\n",
    "\n",
    "import matplotlib\n",
    "\n",
    "class MplColorHelper:\n",
    "\n",
    "  def __init__(self):\n",
    "    self.cmap = matplotlib.cm.get_cmap('bwr')\n",
    "    self.norm = matplotlib.colors.TwoSlopeNorm(vcenter=0)\n",
    "    self.scalarMap = matplotlib.cm.ScalarMappable(norm=self.norm, cmap=self.cmap)\n",
    "\n",
    "  def get_rgb(self, val):\n",
    "    return self.scalarMap.to_rgba(val)\n",
    "\n",
    "\n",
    "helper = MplColorHelper()\n",
    "\n",
    "\n",
    "rgba = np.array([helper.get_rgb(val) for val in my_eigenvector])\n",
    "\n",
    "used_is = list(k_argmin_in_array(my_eigenvector, 15))\n",
    "used_is.extend(list(k_argmax_in_array(evec[0].T[1], 15)))\n",
    "\n",
    "colors = [\"blue\"]*15\n",
    "colors.extend([\"red\"]*15)\n",
    "\n",
    "view = None\n",
    "for i, comp in enumerate(used_is):\n",
    "    view = pta.plot_ith_frame(used_is, colors=colors[i], opacity=0.2, view=view, ij=i)\n",
    "view"
   ]
  },
  {
   "cell_type": "code",
   "execution_count": 163,
   "id": "8b559092",
   "metadata": {
    "ExecuteTime": {
     "end_time": "2024-01-12T11:13:10.450132Z",
     "start_time": "2024-01-12T11:13:10.326511Z"
    }
   },
   "outputs": [
    {
     "data": {
      "application/vnd.jupyter.widget-view+json": {
       "model_id": "7c25492d3daa4736ba4228799ceeb387",
       "version_major": 2,
       "version_minor": 0
      },
      "text/plain": [
       "NGLWidget()"
      ]
     },
     "metadata": {},
     "output_type": "display_data"
    }
   ],
   "source": [
    "\"\"\"\n",
    "HOW-TO: plotting different components in the same view with various properties\n",
    "\"\"\"\n",
    "\n",
    "used_is = list(k_argmin_in_array(my_eigenvector, 5))\n",
    "used_is.extend(list(k_argmax_in_array(my_eigenvector, 5)))\n",
    "\n",
    "\n",
    "colors = [\"blue\"]*5\n",
    "colors.extend([\"red\"]*5)\n",
    "\n",
    "view = nv.NGLWidget()\n",
    "for i, comp in enumerate(used_is):\n",
    "    view.add_component(pta.get_ith_frame(comp), default_representation=False)\n",
    "    view[i].add_representation(\"ball+stick\", color=colors[i], opacity=0.2)\n",
    "view"
   ]
  },
  {
   "cell_type": "code",
   "execution_count": 17,
   "id": "c3bee635",
   "metadata": {
    "ExecuteTime": {
     "end_time": "2024-01-11T10:01:05.035388Z",
     "start_time": "2024-01-11T10:01:05.003141Z"
    }
   },
   "outputs": [
    {
     "name": "stdout",
     "output_type": "stream",
     "text": [
      "Smallest indices: [ 9907  9421  7861  9541  8499 11221  7261  8941  8227 11587 11585  9888\n",
      "  8208 11568  9905 10621  8619 11101  8653  7741]\n",
      "Smallest energies: [-26.530365 -25.242062 -23.816832 -25.970745 -23.493708 -24.348461\n",
      " -23.811672 -25.971127 -24.993198 -24.678345 -23.690573 -26.53035\n",
      " -24.993174 -24.678284 -25.250351 -24.346889 -23.492529 -23.687481\n",
      " -23.432158 -23.270643]\n",
      "9907\n",
      "-26.530365\n",
      "5.883503\n",
      "-34.884674\n"
     ]
    }
   ],
   "source": [
    "energ = pe.get_energies(\"Potential\")\n",
    "smallest_i = k_argmin_in_array(energ, 20)\n",
    "print(\"Smallest indices:\", smallest_i)\n",
    "print(\"Smallest energies:\", energ[smallest_i])\n",
    "\n",
    "print(np.argmin(pe.get_energies(\"Potential\")))\n",
    "print(pe.get_energies(\"Potential\")[9907])\n",
    "print(pe.get_energies(\"LJ (SR)\")[9907])\n",
    "print(pe.get_energies(\"Coulomb (SR)\")[9907])\n"
   ]
  },
  {
   "cell_type": "code",
   "execution_count": 18,
   "id": "05b55720",
   "metadata": {
    "ExecuteTime": {
     "end_time": "2024-01-11T10:01:06.152314Z",
     "start_time": "2024-01-11T10:01:05.646075Z"
    }
   },
   "outputs": [
    {
     "data": {
      "application/vnd.jupyter.widget-view+json": {
       "model_id": "7a9057c8660b4853b67aa7922830f78f",
       "version_major": 2,
       "version_minor": 0
      },
      "text/plain": [
       "HBox(children=(NGLWidget(layout=Layout(width='200px')), NGLWidget(layout=Layout(width='200px')), NGLWidget(lay…"
      ]
     },
     "metadata": {},
     "output_type": "display_data"
    }
   ],
   "source": [
    "u=mda.Universe(f\"/home/hanaz63/nobackup/gromacs/H2O_H2O_{my_num}/H2O_H2O_{my_num}.gro\",\n",
    "                                    f\"/home/hanaz63/nobackup/gromacs/H2O_H2O_{my_num}/H2O_H2O_{my_num}.xtc\")\n",
    "pta = PTFrameAnalyser(u)\n",
    "pta.plot_frames(smallest_i)"
   ]
  },
  {
   "cell_type": "code",
   "execution_count": 5,
   "id": "a29576e4",
   "metadata": {
    "ExecuteTime": {
     "end_time": "2024-01-11T14:51:33.136444Z",
     "start_time": "2024-01-11T14:51:32.912768Z"
    }
   },
   "outputs": [
    {
     "ename": "ModuleNotFoundError",
     "evalue": "No module named 'ipywidget'",
     "output_type": "error",
     "traceback": [
      "\u001b[0;31m---------------------------------------------------------------------------\u001b[0m",
      "\u001b[0;31mModuleNotFoundError\u001b[0m                       Traceback (most recent call last)",
      "Cell \u001b[0;32mIn[5], line 2\u001b[0m\n\u001b[1;32m      1\u001b[0m \u001b[38;5;28;01mfrom\u001b[39;00m \u001b[38;5;21;01mipyleaflet\u001b[39;00m \u001b[38;5;28;01mimport\u001b[39;00m WidgetControl, Map\n\u001b[0;32m----> 2\u001b[0m \u001b[38;5;28;01mfrom\u001b[39;00m \u001b[38;5;21;01mipywidget\u001b[39;00m \u001b[38;5;28;01mimport\u001b[39;00m Text\n\u001b[1;32m      4\u001b[0m m \u001b[38;5;241m=\u001b[39m Map(center\u001b[38;5;241m=\u001b[39m(\u001b[38;5;241m18\u001b[39m, \u001b[38;5;241m77\u001b[39m), zoom\u001b[38;5;241m=\u001b[39m\u001b[38;5;241m5\u001b[39m)\n\u001b[1;32m      5\u001b[0m address_box \u001b[38;5;241m=\u001b[39m Text(description \u001b[38;5;241m=\u001b[39m \u001b[38;5;124m'\u001b[39m\u001b[38;5;124mEnter Address\u001b[39m\u001b[38;5;124m'\u001b[39m)\n",
      "\u001b[0;31mModuleNotFoundError\u001b[0m: No module named 'ipywidget'"
     ]
    }
   ],
   "source": [
    "from ipyleaflet import WidgetControl, Map\n",
    "from ipywidget import Text\n",
    "\n",
    "m = Map(center=(18, 77), zoom=5)\n",
    "address_box = Text(description = 'Enter Address')\n",
    "\n",
    "widget_control = WidgetControl(widget=address_box, position='topright')\n",
    "m.add_control(widget_control)\n"
   ]
  },
  {
   "cell_type": "code",
   "execution_count": null,
   "id": "064b0d85",
   "metadata": {},
   "outputs": [],
   "source": []
  }
 ],
 "metadata": {
  "kernelspec": {
   "display_name": "Python 3 (ipykernel)",
   "language": "python",
   "name": "python3"
  },
  "language_info": {
   "codemirror_mode": {
    "name": "ipython",
    "version": 3
   },
   "file_extension": ".py",
   "mimetype": "text/x-python",
   "name": "python",
   "nbconvert_exporter": "python",
   "pygments_lexer": "ipython3",
   "version": "3.11.5"
  },
  "toc": {
   "base_numbering": 1,
   "nav_menu": {},
   "number_sections": true,
   "sideBar": true,
   "skip_h1_title": true,
   "title_cell": "Table of Contents",
   "title_sidebar": "Contents",
   "toc_cell": true,
   "toc_position": {
    "height": "calc(100% - 180px)",
    "left": "10px",
    "top": "150px",
    "width": "384px"
   },
   "toc_section_display": true,
   "toc_window_display": true
  }
 },
 "nbformat": 4,
 "nbformat_minor": 5
}
