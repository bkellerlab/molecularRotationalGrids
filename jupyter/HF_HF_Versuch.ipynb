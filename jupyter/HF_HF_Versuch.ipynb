{
 "cells": [
  {
   "cell_type": "code",
   "execution_count": 1,
   "id": "ccc00ae7-ed6a-4023-8cd6-b6512e203eb8",
   "metadata": {},
   "outputs": [],
   "source": [
    "import sys\n",
    "import os\n",
    "\n",
    "try:\n",
    "    os.chdir(r\"/home/hanaz63/PAPER_MOLECULAR_ROTATIONS_2022/nobackup/molgri\")\n",
    "    sys.path.append(r\"/home/hanaz63/PAPER_MOLECULAR_ROTATIONS_2022/nobackup\")\n",
    "except FileNotFoundError:\n",
    "    os.chdir(r\"D:\\HANA\\phD\\PAPER_2022\\molecularRotationalGrids\")\n",
    "    sys.path.append(r\"D:\\HANA\\phD\\PAPER_2022\\molecularRotationalGrids\")\n",
    "    \n",
    "import warnings\n",
    "warnings.filterwarnings(\"ignore\")"
   ]
  },
  {
   "cell_type": "code",
   "execution_count": null,
   "id": "7da668c2-94d6-426a-86e0-5a68a91f0b01",
   "metadata": {},
   "outputs": [],
   "source": []
  },
  {
   "cell_type": "code",
   "execution_count": null,
   "id": "776743d5-2977-4f11-99fe-cdefcf37101e",
   "metadata": {},
   "outputs": [],
   "source": []
  },
  {
   "cell_type": "markdown",
   "id": "d6308c46-765d-45cb-9ea5-7c5c00940c21",
   "metadata": {},
   "source": [
    "Erstmals: wir brauchen eine HF Monomer Datai."
   ]
  },
  {
   "cell_type": "code",
   "execution_count": 5,
   "id": "d3a37169-fc6c-41d4-9f7f-1b65fdb5da7d",
   "metadata": {},
   "outputs": [
    {
     "data": {
      "text/plain": [
       "\u001b[0;36m2\u001b[0m\u001b[0;34m\u001b[0m\n",
       "\u001b[0;34m\u001b[0m\u001b[0ma\u001b[0m \u001b[0msimple\u001b[0m \u001b[0mHF\u001b[0m \u001b[0mmolecule\u001b[0m \u001b[0;32min\u001b[0m \u001b[0mgas\u001b[0m \u001b[0mphase\u001b[0m\u001b[0;34m,\u001b[0m \u001b[0munits\u001b[0m \u001b[0mA\u001b[0m\u001b[0;34m\u001b[0m\n",
       "\u001b[0;34m\u001b[0m\u001b[0mH\u001b[0m  \u001b[0;36m0\u001b[0m  \u001b[0;36m0\u001b[0m  \u001b[0;36m0\u001b[0m\u001b[0;34m\u001b[0m\n",
       "\u001b[0;34m\u001b[0m\u001b[0mF\u001b[0m  \u001b[0;36m0.92\u001b[0m  \u001b[0;36m0\u001b[0m  \u001b[0;36m0\u001b[0m\u001b[0;34m\u001b[0m\u001b[0;34m\u001b[0m\u001b[0m\n"
      ]
     },
     "metadata": {},
     "output_type": "display_data"
    }
   ],
   "source": [
    "%pycat input/HF.xyz"
   ]
  },
  {
   "cell_type": "markdown",
   "id": "cd94d36c-90f9-446f-bc48-09d67f6c70ad",
   "metadata": {},
   "source": [
    "Nun lass zwei PTs (klein, groß) produzieren:\n",
    "- klein: -o 42 -t \"linspace(0.1, 0.4, 10)\" -b 8\n",
    "- groß: -o 162 -t \"linspace(0.1, 0.4, 20)\" -b 40"
   ]
  },
  {
   "cell_type": "code",
   "execution_count": 17,
   "id": "960870dc-6eb5-417b-b502-6b8845e56eeb",
   "metadata": {},
   "outputs": [
    {
     "name": "stdout",
     "output_type": "stream",
     "text": [
      "Saved the log file to output/data/logging/HF_HF_0000.log\n",
      "Saved pseudo-trajectory to output/data/pt_files/HF_HF_0000.xtc and structure file to output/data/pt_files/HF_HF_0000.gro\n",
      "Timing the generation of Pt HF_HF_b_cube4D_8_o_ico_42_t_965211660: 0:00:05.554178 hours:minutes:seconds\n"
     ]
    }
   ],
   "source": [
    "%run molgri/scripts/generate_pt.py -m1 HF -m2 HF -o 42 -t \"linspace(0.1, 0.4, 10)\" -b 8"
   ]
  },
  {
   "cell_type": "code",
   "execution_count": 18,
   "id": "ab8a2e32-4ed2-4ead-9f2a-c4424b851aeb",
   "metadata": {},
   "outputs": [
    {
     "name": "stdout",
     "output_type": "stream",
     "text": [
      "Saved the log file to output/data/logging/HF_HF_0001.log\n",
      "Saved pseudo-trajectory to output/data/pt_files/HF_HF_0001.xtc and structure file to output/data/pt_files/HF_HF_0001.gro\n",
      "Timing the generation of Pt HF_HF_b_cube4D_40_o_ico_162_t_4038933404: 0:03:41.259992 hours:minutes:seconds\n"
     ]
    }
   ],
   "source": [
    "%run molgri/scripts/generate_pt.py -m1 HF -m2 HF -o 162 -t \"linspace(0.1, 0.4, 20)\" -b 40"
   ]
  },
  {
   "cell_type": "code",
   "execution_count": 2,
   "id": "d8863470-7e30-46c5-a494-6f09da0d284e",
   "metadata": {},
   "outputs": [
    {
     "data": {
      "application/vnd.jupyter.widget-view+json": {
       "model_id": "8dc5ddd314d149e7a46fbb9e27a010b1",
       "version_major": 2,
       "version_minor": 0
      },
      "text/plain": []
     },
     "metadata": {},
     "output_type": "display_data"
    }
   ],
   "source": [
    "import nglview as nv\n",
    "import MDAnalysis as mda"
   ]
  },
  {
   "cell_type": "code",
   "execution_count": 5,
   "id": "56127fdc-992f-4e7a-8f95-4c3ca2a07910",
   "metadata": {},
   "outputs": [
    {
     "data": {
      "application/vnd.jupyter.widget-view+json": {
       "model_id": "fcfc0b39cea548e6a2d0227631f0cacd",
       "version_major": 2,
       "version_minor": 0
      },
      "text/plain": [
       "NGLWidget(max_frame=3359)"
      ]
     },
     "metadata": {},
     "output_type": "display_data"
    }
   ],
   "source": [
    "u = mda.Universe(\"output/data/pt_files/HF_HF_0000.gro\", \"output/data/pt_files/HF_HF_0000.xtc\")\n",
    "\n",
    "protein = u.select_atoms('all')\n",
    "w = nv.show_mdanalysis(protein)\n",
    "w"
   ]
  },
  {
   "cell_type": "code",
   "execution_count": 3,
   "id": "1fa762b4-4196-4049-8054-50ab23378e96",
   "metadata": {},
   "outputs": [
    {
     "data": {
      "application/vnd.jupyter.widget-view+json": {
       "model_id": "85710cb92d4e49148fecbdcf2d78a86b",
       "version_major": 2,
       "version_minor": 0
      },
      "text/plain": [
       "NGLWidget()"
      ]
     },
     "metadata": {},
     "output_type": "display_data"
    }
   ],
   "source": [
    "nv.demo()"
   ]
  },
  {
   "cell_type": "code",
   "execution_count": 4,
   "id": "f680e6e9-f99b-46c4-abf4-544b012a3703",
   "metadata": {},
   "outputs": [
    {
     "data": {
      "application/vnd.jupyter.widget-view+json": {
       "model_id": "9f1c290839f047bb9f197cad0cd96fd2",
       "version_major": 2,
       "version_minor": 0
      },
      "text/plain": [
       "Text(value='hello')"
      ]
     },
     "execution_count": 4,
     "metadata": {},
     "output_type": "execute_result"
    }
   ],
   "source": [
    "import ipywidgets \n",
    "ipywidgets.Text(\"hello\")"
   ]
  },
  {
   "cell_type": "code",
   "execution_count": null,
   "id": "819ba5a8-500c-4b3d-b3d4-156ef15d32f6",
   "metadata": {},
   "outputs": [],
   "source": []
  }
 ],
 "metadata": {
  "kernelspec": {
   "display_name": "Python 3 (ipykernel)",
   "language": "python",
   "name": "python3"
  },
  "language_info": {
   "codemirror_mode": {
    "name": "ipython",
    "version": 3
   },
   "file_extension": ".py",
   "mimetype": "text/x-python",
   "name": "python",
   "nbconvert_exporter": "python",
   "pygments_lexer": "ipython3",
   "version": "3.11.5"
  }
 },
 "nbformat": 4,
 "nbformat_minor": 5
}
