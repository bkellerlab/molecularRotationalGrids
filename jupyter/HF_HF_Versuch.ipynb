{
 "cells": [
  {
   "cell_type": "markdown",
   "id": "5c544c54",
   "metadata": {
    "toc": true
   },
   "source": [
    "<h1>Table of Contents<span class=\"tocSkip\"></span></h1>\n",
    "<div class=\"toc\"><ul class=\"toc-item\"><li><span><a href=\"#Kleines-Beispiel\" data-toc-modified-id=\"Kleines-Beispiel-1\"><span class=\"toc-item-num\">1&nbsp;&nbsp;</span>Kleines Beispiel</a></span></li></ul></div>"
   ]
  },
  {
   "cell_type": "code",
   "execution_count": 1,
   "id": "3798560a",
   "metadata": {
    "ExecuteTime": {
     "end_time": "2024-01-08T11:35:12.752784Z",
     "start_time": "2024-01-08T11:35:12.733225Z"
    }
   },
   "outputs": [],
   "source": [
    "import sys\n",
    "import os\n",
    "\n",
    "try:\n",
    "    os.chdir(r\"/home/hanaz63/PAPER_MOLECULAR_ROTATIONS_2022/nobackup/molgri\")\n",
    "    sys.path.append(r\"/home/hanaz63/PAPER_MOLECULAR_ROTATIONS_2022/nobackup\")\n",
    "except FileNotFoundError:\n",
    "    os.chdir(r\"D:\\HANA\\phD\\PAPER_2022\\molecularRotationalGrids\")\n",
    "    sys.path.append(r\"D:\\HANA\\phD\\PAPER_2022\\molecularRotationalGrids\")\n",
    "    \n",
    "import warnings\n",
    "warnings.filterwarnings(\"ignore\")"
   ]
  },
  {
   "cell_type": "code",
   "execution_count": 80,
   "id": "e5afbbf5",
   "metadata": {
    "ExecuteTime": {
     "end_time": "2024-01-08T13:24:04.231243Z",
     "start_time": "2024-01-08T13:24:04.218961Z"
    }
   },
   "outputs": [],
   "source": [
    "from copy import copy\n",
    "import nglview as nv\n",
    "import MDAnalysis as mda\n",
    "import numpy as np\n",
    "import time\n",
    "import ipywidgets as widgets\n",
    "from scipy.sparse import csr_array\n",
    "\n",
    "from molgri.paths import PATH_OUTPUT_PT, OUTPUT_PLOTTING_DATA, PATH_OUTPUT_LOGGING\n",
    "from molgri.space.fullgrid import FullGrid"
   ]
  },
  {
   "cell_type": "code",
   "execution_count": null,
   "id": "89f509d5",
   "metadata": {},
   "outputs": [],
   "source": []
  },
  {
   "cell_type": "markdown",
   "id": "15d5a7c1",
   "metadata": {},
   "source": [
    "Erstmals: wir brauchen eine HF Monomer Datai."
   ]
  },
  {
   "cell_type": "code",
   "execution_count": 3,
   "id": "1889058f",
   "metadata": {
    "ExecuteTime": {
     "end_time": "2024-01-08T11:35:15.950928Z",
     "start_time": "2024-01-08T11:35:15.941919Z"
    }
   },
   "outputs": [],
   "source": [
    "%pycat input/HF.xyz"
   ]
  },
  {
   "cell_type": "markdown",
   "id": "1bd32ded",
   "metadata": {},
   "source": [
    "Nun lass zwei PTs (klein, groß) produzieren:\n",
    "- klein: -o 42 -t \"linspace(0.1, 0.4, 10)\" -b 8\n",
    "- groß: -o 162 -t \"linspace(0.1, 0.4, 20)\" -b 40"
   ]
  },
  {
   "cell_type": "markdown",
   "id": "b18933f2",
   "metadata": {},
   "source": [
    "## Kleines Beispiel\n",
    "- obtain full grid\n",
    "- show full grid coordinates per frame in the corner"
   ]
  },
  {
   "cell_type": "code",
   "execution_count": 46,
   "id": "d6fcd328",
   "metadata": {
    "ExecuteTime": {
     "end_time": "2024-01-08T11:59:18.716896Z",
     "start_time": "2024-01-08T11:59:18.702818Z"
    }
   },
   "outputs": [],
   "source": [
    "small_name = \"HF_HF_0010\"\n",
    "b_grid = \"8\"\n",
    "o_grid = \"12\"\n",
    "t_grid = \"linspace(0.2, 0.4, 3)\""
   ]
  },
  {
   "cell_type": "code",
   "execution_count": 47,
   "id": "0a617d61",
   "metadata": {
    "ExecuteTime": {
     "end_time": "2024-01-08T11:59:19.908486Z",
     "start_time": "2024-01-08T11:59:19.147539Z"
    }
   },
   "outputs": [
    {
     "name": "stdout",
     "output_type": "stream",
     "text": [
      "Saved the log file to output/data/logging/HF_HF_0013.log\n",
      "Saved pseudo-trajectory to output/data/pt_files/HF_HF_0013.xtc and structure file to output/data/pt_files/HF_HF_0013.gro\n",
      "Timing the generation of Pt HF_HF_0013: 0:00:00.589081 hours:minutes:seconds\n"
     ]
    }
   ],
   "source": [
    "%run molgri/scripts/generate_pt.py -m1 HF -m2 HF --recalculate -o $o_grid -b $b_grid -t \"linspace(0.2, 0.4, 3)\""
   ]
  },
  {
   "cell_type": "code",
   "execution_count": null,
   "id": "bb9248b2",
   "metadata": {
    "ExecuteTime": {
     "end_time": "2024-01-08T11:35:06.005441Z",
     "start_time": "2024-01-08T11:35:06.005441Z"
    }
   },
   "outputs": [],
   "source": [
    "u = mda.Universe(f\"output/data/pt_files/{small_name}.gro\", f\"output/data/pt_files/{small_name}.xtc\")\n",
    "\n",
    "w = nv.show_mdanalysis(u, gui=True)\n",
    "for frame in range(15):\n",
    "    w.shape.add('text', [0, 4, -1], [0.2, 0.5, 0.8], 2.5, np.array2string(full_coordinates[frame], precision=2, \n",
    "                                                                          suppress_small=True, separator=\",\"))"
   ]
  },
  {
   "cell_type": "code",
   "execution_count": null,
   "id": "41242bf9",
   "metadata": {
    "ExecuteTime": {
     "end_time": "2024-01-08T11:35:06.008434Z",
     "start_time": "2024-01-08T11:35:06.008434Z"
    }
   },
   "outputs": [],
   "source": [
    "w"
   ]
  },
  {
   "cell_type": "code",
   "execution_count": null,
   "id": "6b4c45b9",
   "metadata": {
    "ExecuteTime": {
     "end_time": "2024-01-08T11:35:06.010428Z",
     "start_time": "2024-01-08T11:35:06.010428Z"
    }
   },
   "outputs": [],
   "source": [
    "for frame in range(15):\n",
    "    #w.clear_representations()\n",
    "    w.add_representation(repr_type=\"label\", name = \"label\", showBackground = True, labelType = \"atomname\", color = \"black\", \n",
    "                    xOffset = 0.5 , zOffset =5 )\n",
    "    view.shape.add_label(\"HelloWorld\")\n",
    "    w.update_representation(repr_index=-1)\n",
    "    time.sleep(1)\n",
    "    \n",
    "    w.frame = frame\n",
    "w"
   ]
  },
  {
   "cell_type": "code",
   "execution_count": 114,
   "id": "928cea5c",
   "metadata": {
    "ExecuteTime": {
     "end_time": "2024-01-08T14:38:09.477642Z",
     "start_time": "2024-01-08T14:38:08.092538Z"
    },
    "code_folding": [
     101
    ],
    "scrolled": false
   },
   "outputs": [
    {
     "name": "stdout",
     "output_type": "stream",
     "text": [
      "Frame 5\n",
      "FullGrid coordinates [-1.7 , 0.  , 1.05, 0.5 , 0.5 , 0.5 ,-0.5 ]\n",
      "The point 5 has 10 neighbours, here is the list:\n",
      "[-1.7 , 0.  , 1.05, 0.5 ,-0.5 ,-0.5 , 0.5 ]\n",
      "[-1.7 , 0.  , 1.05, 0.5 ,-0.5 , 0.5 ,-0.5 ]\n",
      "[-1.7 , 0.  , 1.05, 0.5 , 0.5 , 0.5 , 0.5 ]\n",
      "[-1.7 , 0.  , 1.05, 0.5 , 0.5 ,-0.5 ,-0.5 ]\n",
      "[-1.05,-1.7 , 0.  , 0.5 , 0.5 , 0.5 ,-0.5 ]\n",
      "[ 0.  ,-1.05, 1.7 , 0.5 , 0.5 , 0.5 ,-0.5 ]\n",
      "[-1.05, 1.7 , 0.  , 0.5 , 0.5 , 0.5 ,-0.5 ]\n",
      "[-1.7 , 0.  ,-1.05, 0.5 , 0.5 , 0.5 ,-0.5 ]\n",
      "[ 0.  , 1.05, 1.7 , 0.5 , 0.5 , 0.5 ,-0.5 ]\n",
      "[-2.55, 0.  , 1.58, 0.5 , 0.5 , 0.5 ,-0.5 ]\n",
      "{'opacity': 0.5}\n",
      "{'opacity': 0.5}\n",
      "{'opacity': 0.5}\n",
      "{'opacity': 0.5}\n",
      "{'opacity': 0.5}\n",
      "{'opacity': 0.5}\n",
      "{'opacity': 0.5}\n",
      "{'opacity': 0.5}\n",
      "{'opacity': 0.5}\n",
      "{'opacity': 0.5}\n"
     ]
    },
    {
     "data": {
      "application/vnd.jupyter.widget-view+json": {
       "model_id": "35c812ce1fb94279898732d2dc5a1b90",
       "version_major": 2,
       "version_minor": 0
      },
      "text/plain": [
       "HBox(children=(NGLWidget(layout=Layout(width='200px')), NGLWidget(layout=Layout(width='200px')), NGLWidget(lay…"
      ]
     },
     "metadata": {},
     "output_type": "display_data"
    }
   ],
   "source": [
    "class PTFrameAnalyser:\n",
    "    \n",
    "    \"\"\"\n",
    "    Visualise frames and important information from PT using NGLView. Reads exclusively from saved files.\n",
    "    \"\"\"\n",
    "    \n",
    "    def __init__(self, name_pt: str, o_input, b_input, t_input: str):\n",
    "        \"\"\"\n",
    "        Args:\n",
    "            - name_pt: Name that is given to the PT files, usually in the form <molecule 1>_<molecule 2>_<4-number index>\n",
    "                       or selected by the user\n",
    "            - name_grid: Automatically generated name of the full grid in the form like\n",
    "                         b_cube4D_<number>_o_ico_<number>_t_<hash>\n",
    "        \"\"\"\n",
    "        \n",
    "        self.name_pt = name_pt\n",
    "\n",
    "        \n",
    "        self.u = mda.Universe(f\"{PATH_OUTPUT_PT}{self.name_pt}.gro\", f\"{PATH_OUTPUT_PT}{self.name_pt}.xtc\")\n",
    "        self.fg = FullGrid(o_grid_name=o_input, b_grid_name=b_input, t_grid_name=t_input, use_saved=True)\n",
    "    \n",
    "    def _get_neig_indices(self, i):\n",
    "        adj_array = csr_array(self.fg.get_full_adjacency())[:, [i]].toarray().T[0]\n",
    "        neighbour_indices = np.nonzero(adj_array)[0]\n",
    "        return neighbour_indices\n",
    "        \n",
    "    \n",
    "    def plot_all_neighours_of_i(self, i: int):\n",
    "        neighbour_indices = self._get_neig_indices(i)\n",
    "        \n",
    "        box = HBox(layout=Layout(width='100%',display='inline-flex',flex_flow='row wrap'))\n",
    "        box.overflow_x = 'auto'\n",
    "        \n",
    "        all_views = []\n",
    "        for neig_i in neighbour_indices:\n",
    "            neig_view = copy(self.plot_ith_frame(neig_i))\n",
    "            # lightly plot the original structure\n",
    "            neig_view = copy(self.plot_ith_frame(i, opacity=0.5, view=neig_view))\n",
    "            neig_view.layout.width = \"200px\"\n",
    "            \n",
    "            all_views.append(neig_view)\n",
    "        \n",
    "        # sync all views\n",
    "        for v in all_views:\n",
    "            v._set_sync_camera(all_views)\n",
    "        \n",
    "        box.children=[i for i in all_views]\n",
    "        display(box)\n",
    "        \n",
    "                \n",
    "    def _get_fullgrid_name(self):\n",
    "        \"\"\"\n",
    "        NOT IN USE CURRENTLY\n",
    "        Read from the .log file to obtain the name of the used FullGrid.\n",
    "        \"\"\"\n",
    "        with open(f\"{PATH_OUTPUT_LOGGING}{self.name_pt}.log\") as f:\n",
    "            while True:\n",
    "                line = f.readline()\n",
    "                if line.startswith(\"INFO:PtLogger:full grid name:\"):\n",
    "                    return line.strip().split(\": \")[-1]\n",
    "        \n",
    "    \n",
    "    def get_ith_frame(self, i: int) -> mda.Universe:\n",
    "        \"\"\"\n",
    "        Get the Universe object containing of all the atoms in the PT but only a single frame (i-th frame).\n",
    "        \"\"\"\n",
    "        self.u.trajectory[i]\n",
    "        all_atoms = self.u.select_atoms('all')\n",
    "        new_u = mda.Merge(self.u.atoms)\n",
    "        return new_u\n",
    "    \n",
    "    def plot_all(self, views: list, n_columns: int = 2):\n",
    "        \"\"\"\n",
    "        Plot a list of NGLView Views in several columns and rows.\n",
    "        \"\"\"\n",
    "        #num_rows=len(views)//n_columns\n",
    "        \n",
    "        #hwidgets = []\n",
    "        #for row in range(num_rows):\n",
    "            \n",
    "        #    hwidgets.append(widgets.HBox(views[row:row+n_columns]))\n",
    "        \n",
    "        #vbox = widgets.VBox(hwidgets)\n",
    "        print(type(views), views)\n",
    "        gridbox = widgets.GridBox(views)\n",
    "        display(gridbox)\n",
    "    \n",
    "    def plot_side_by_side(self, view1, view2):\n",
    "        \"\"\"\n",
    "        Plot two NGLView views side by side.\n",
    "        \n",
    "        \"\"\"\n",
    "        # Adjust layout to center both molecules\n",
    "        view1.layout.width = 'auto'\n",
    "        view2.layout.width = 'auto'\n",
    "        view1._set_sync_camera([view2])\n",
    "        view2._set_sync_camera([view1])\n",
    "\n",
    "\n",
    "        hbox = widgets.HBox([view1, view2])\n",
    "        \n",
    "                \n",
    "        # TODO: link cameras of both views\n",
    "        mylink = widgets.jslink((view1, 'frame'), (view2, 'frame'))\n",
    "\n",
    "        # Display the HBox\n",
    "        display(hbox)\n",
    "\n",
    "    \n",
    "    def _add_coordinate_axes(self, view):\n",
    "        \"\"\"\n",
    "        Add the x, y and z axes at origin to a NGLView.\n",
    "        \"\"\"\n",
    "        \n",
    "        # arguments of add_arrow are: start position, end position, color (in RGB), radius of arrow head\n",
    "        # arguments of add_label are: position, color (in RGB), size, text\n",
    "        \n",
    "        # X-axis is red\n",
    "        view.shape.add_arrow([0, 0, 0], [1, 0, 0],[ 1, 0, 0 ], 0.1)\n",
    "        view.shape.add_label([1, 0, 0], [1, 0, 0], 1.5, 'x')\n",
    "        \n",
    "        # Y-axis is green\n",
    "        view.shape.add_arrow([0, 0, 0], [0, 1, 0],[0, 1, 0 ], 0.1)\n",
    "        view.shape.add_label([0, 1, 0], [0, 1, 0], 1.5, 'y')\n",
    "        \n",
    "        # Z-axis is blue\n",
    "        view.shape.add_arrow([0, 0, 0], [0, 0, 1],[0, 0, 1 ], 0.1)\n",
    "        view.shape.add_label([0, 0, 1], [0, 0, 1], 1.5, 'z')\n",
    "\n",
    "    def plot_ith_frame(self, i: int, view=None, axes=True, **kwargs):\n",
    "        \"\"\"\n",
    "        Plot i-th frame of PT including the frame index, 7D coordinates\n",
    "        \"\"\"\n",
    "        ith_atoms = self.get_ith_frame(i)\n",
    "        \n",
    "        if view is None:\n",
    "            view = nv.show_mdanalysis(ith_atoms, **kwargs)\n",
    "        else:\n",
    "            view.add_trajectory(ith_atoms, **kwargs)\n",
    "        if axes:\n",
    "            self._add_coordinate_axes(view)\n",
    "        \n",
    "        return view\n",
    "    \n",
    "    def print_ith_information(self, i):\n",
    "        all_points = self.fg.get_full_grid_as_array()\n",
    "        ith_fg_coo = np.array2string(all_points[i], precision=2, suppress_small=True, separator=\",\")\n",
    "        print(f\"Frame {i}\")\n",
    "        print(f\"FullGrid coordinates {ith_fg_coo}\")\n",
    "        \n",
    "        neighbours = self._get_neig_indices(i)\n",
    "        print(f\"The point {i} has {len(neighbours)} neighbours, here is the list:\")\n",
    "        for n_index in neighbours:\n",
    "            print(np.array2string(all_points[n_index], precision=2, suppress_small=True, separator=\",\"))\n",
    "        \n",
    "\n",
    "pta = PTFrameAnalyser(small_name, b_input=b_grid, o_input=o_grid, t_input=t_grid)\n",
    "#view1 = pta.plot_ith_frame(15)\n",
    "#view2 = pta.plot_ith_frame(75)\n",
    "#pta.plot_side_by_side(view1, view2)\n",
    "pta.print_ith_information(5)\n",
    "pta.plot_all_neighours_of_i(5)"
   ]
  },
  {
   "cell_type": "code",
   "execution_count": null,
   "id": "2e4c6791",
   "metadata": {
    "ExecuteTime": {
     "end_time": "2024-01-08T11:35:06.014418Z",
     "start_time": "2024-01-08T11:35:06.014418Z"
    }
   },
   "outputs": [],
   "source": [
    "view1 = pta.plot_ith_frame(15)\n",
    "view2 = pta.plot_ith_frame(75)"
   ]
  },
  {
   "cell_type": "code",
   "execution_count": null,
   "id": "0bd6d71d",
   "metadata": {
    "ExecuteTime": {
     "end_time": "2024-01-08T11:35:06.016412Z",
     "start_time": "2024-01-08T11:35:06.016412Z"
    },
    "scrolled": false
   },
   "outputs": [],
   "source": [
    "pta.plot_side_by_side(view1, view2)"
   ]
  },
  {
   "cell_type": "code",
   "execution_count": null,
   "id": "6fe46b23",
   "metadata": {
    "ExecuteTime": {
     "end_time": "2024-01-08T11:35:06.018407Z",
     "start_time": "2024-01-08T11:35:06.018407Z"
    }
   },
   "outputs": [],
   "source": [
    "pta.plot_all([view1, view2], 1)"
   ]
  },
  {
   "cell_type": "markdown",
   "id": "ce20a37e",
   "metadata": {},
   "source": [
    "- plot neighbours\n",
    "- plot structures with largest phasespace volumes"
   ]
  },
  {
   "cell_type": "code",
   "execution_count": 89,
   "id": "3cdd998b",
   "metadata": {
    "ExecuteTime": {
     "end_time": "2024-01-08T13:39:48.271236Z",
     "start_time": "2024-01-08T13:39:48.185472Z"
    }
   },
   "outputs": [
    {
     "data": {
      "application/vnd.jupyter.widget-view+json": {
       "model_id": "7ae3dcd0add144f5ad80154ee0154740",
       "version_major": 2,
       "version_minor": 0
      },
      "text/plain": [
       "HBox(children=(Checkbox(value=False, description='Checkbox [0]'), Checkbox(value=False, description='Checkbox …"
      ]
     },
     "metadata": {},
     "output_type": "display_data"
    }
   ],
   "source": [
    "import ipywidgets as widgets\n",
    "from ipywidgets import *\n",
    "from IPython.display import display\n",
    "\n",
    "num_checks = 50\n",
    "\n",
    "cb_cont = HBox(layout=Layout(width='100%',display='inline-flex',flex_flow='row wrap'))\n",
    "#cb_cont.overflow_x = 'scroll'\n",
    "\n",
    "checkboxes = []\n",
    "for f in range(num_checks):\n",
    "    checkboxes.append(\\\n",
    "        widgets.Checkbox(description = 'Checkbox [%d]'%(f), \\\n",
    "                     value=False, width=50))\n",
    "\n",
    "cb_cont.children=[i for i in checkboxes]\n",
    "display(cb_cont)\n"
   ]
  },
  {
   "cell_type": "code",
   "execution_count": null,
   "id": "9dd98fe7",
   "metadata": {},
   "outputs": [],
   "source": []
  }
 ],
 "metadata": {
  "kernelspec": {
   "display_name": "Python 3 (ipykernel)",
   "language": "python",
   "name": "python3"
  },
  "language_info": {
   "codemirror_mode": {
    "name": "ipython",
    "version": 3
   },
   "file_extension": ".py",
   "mimetype": "text/x-python",
   "name": "python",
   "nbconvert_exporter": "python",
   "pygments_lexer": "ipython3",
   "version": "3.9.13"
  },
  "toc": {
   "base_numbering": 1,
   "nav_menu": {},
   "number_sections": true,
   "sideBar": true,
   "skip_h1_title": true,
   "title_cell": "Table of Contents",
   "title_sidebar": "Contents",
   "toc_cell": true,
   "toc_position": {
    "height": "calc(100% - 180px)",
    "left": "10px",
    "top": "150px",
    "width": "384px"
   },
   "toc_section_display": true,
   "toc_window_display": true
  }
 },
 "nbformat": 4,
 "nbformat_minor": 5
}
