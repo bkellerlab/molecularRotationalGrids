{
 "cells": [
  {
   "cell_type": "markdown",
   "id": "bad8a304",
   "metadata": {
    "toc": true
   },
   "source": [
    "<h1>Table of Contents<span class=\"tocSkip\"></span></h1>\n",
    "<div class=\"toc\"><ul class=\"toc-item\"></ul></div>"
   ]
  },
  {
   "cell_type": "code",
   "execution_count": 1,
   "id": "717ebdba",
   "metadata": {
    "ExecuteTime": {
     "end_time": "2024-01-24T11:08:22.869851Z",
     "start_time": "2024-01-24T11:08:22.854227Z"
    }
   },
   "outputs": [],
   "source": [
    "import sys\n",
    "import os\n",
    "\n",
    "try:\n",
    "    os.chdir(r\"/home/hanaz63/PAPER_MOLECULAR_ROTATIONS_2022/nobackup/molgri\")\n",
    "    sys.path.append(r\"/home/hanaz63/PAPER_MOLECULAR_ROTATIONS_2022/nobackup\")\n",
    "except FileNotFoundError:\n",
    "    os.chdir(r\"D:\\HANA\\phD\\PAPER_2022\\molecularRotationalGrids\")\n",
    "    sys.path.append(r\"D:\\HANA\\phD\\PAPER_2022\\molecularRotationalGrids\")\n",
    "    \n",
    "import warnings\n",
    "warnings.filterwarnings(\"ignore\")"
   ]
  },
  {
   "cell_type": "code",
   "execution_count": 17,
   "id": "aed15d59",
   "metadata": {
    "ExecuteTime": {
     "end_time": "2024-01-24T13:10:00.639065Z",
     "start_time": "2024-01-24T13:10:00.607993Z"
    }
   },
   "outputs": [],
   "source": [
    "import numpy as np\n",
    "from scipy.spatial.transform import Rotation\n",
    "import MDAnalysis as mda\n",
    "from IPython.core.display import display\n",
    "import matplotlib.pyplot as plt\n",
    "\n",
    "from molgri.molecules.parsers import FileParser\n",
    "from molgri.molecules.writers import PtIOManager\n",
    "from molgri.molecules.transitions import SimulationHistogram\n",
    "from molgri.space.fullgrid import FullGrid\n",
    "from molgri.paths import PATH_INPUT_BASEGRO\n",
    "from molgri.plotting.widgets import ViewManager, display_all_views, sync_all_views\n",
    "from molgri.space.rotations import two_vectors2rot\n",
    "from molgri.space.utils import k_argmax_in_array\n",
    "from molgri.plotting.transition_plots import TransitionPlot"
   ]
  },
  {
   "cell_type": "code",
   "execution_count": 3,
   "id": "7e28057d",
   "metadata": {
    "ExecuteTime": {
     "end_time": "2024-01-24T11:08:25.226971Z",
     "start_time": "2024-01-24T11:08:25.211016Z"
    }
   },
   "outputs": [],
   "source": [
    "def plot_current_molecule(my_molecule):\n",
    "    one_universe = mda.Merge(my_molecule.atoms)\n",
    "    vm = ViewManager(one_universe)\n",
    "    vm.plot_ith_frame(0)\n",
    "    return vm.view"
   ]
  },
  {
   "cell_type": "code",
   "execution_count": null,
   "id": "e356f6e1",
   "metadata": {
    "ExecuteTime": {
     "start_time": "2024-01-24T10:06:25.445Z"
    },
    "scrolled": false
   },
   "outputs": [],
   "source": [
    "file_path = f\"{PATH_INPUT_BASEGRO}H2O\"\n",
    "file_parser = FileParser(file_path)\n",
    "one_molecule = file_parser.as_parsed_molecule()\n",
    "# now start doing translations and rotations\n",
    "fg = FullGrid(b_grid_name=\"3\", o_grid_name=\"15\", t_grid_name=\"[0.2, 0.4]\")\n",
    "my_array = fg.get_full_grid_as_array()\n",
    "\n",
    "#view0 = plot_current_molecule(one_molecule)\n",
    "\n",
    "one_molecule.translate_to_origin()\n",
    "\n",
    "def my_generator():\n",
    "    for i, se3_coo in enumerate(my_array):\n",
    "        position = se3_coo[:3]\n",
    "        orientation = se3_coo[3:]\n",
    "        z_vector = np.array([0, 0, np.linalg.norm(position)])\n",
    "        rotation_body = Rotation.from_quat(orientation)\n",
    "        rotation_origin = Rotation.from_matrix(two_vectors2rot(z_vector, position))\n",
    "\n",
    "        # first position in original orientation and z-direction at radius\n",
    "        one_molecule.rotate_about_body(rotation_body)\n",
    "        one_molecule.translate_radially(np.linalg.norm(position))\n",
    "        one_molecule.double_rotate(position/np.linalg.norm(position))\n",
    "\n",
    "        \n",
    "        assert np.allclose(one_molecule.get_center_of_mass(), position, atol=1e-3), f\"{i} {np.round(one_molecule.get_center_of_mass(), 4)} {np.round(position, 4)}\"\n",
    "        yield one_molecule.atoms.positions\n",
    "    #\n",
    "\n",
    "\n",
    "        one_molecule.double_rotate(position/np.linalg.norm(position), inverse=True)\n",
    "        one_molecule.translate_radially(-np.linalg.norm(position))\n",
    "        one_molecule.rotate_about_body(rotation_body, inverse=True)\n",
    "        \n",
    "#    \n",
    "\n",
    "all_positions = []\n",
    "for i, frame in enumerate(my_generator()):\n",
    "    all_positions.append(frame)\n",
    "all_positions = np.array(all_positions)\n",
    "\n",
    "file_path = f\"{PATH_INPUT_BASEGRO}H2O\"\n",
    "file_parser = FileParser(file_path)\n",
    "fresh_molecule = file_parser.as_parsed_molecule()\n",
    "u2 = mda.Merge(fresh_molecule.atoms)\n",
    "from MDAnalysis.coordinates.memory import MemoryReader\n",
    "u2.load_new(all_positions, format=MemoryReader)\n",
    "vm = ViewManager(u2)\n",
    "\n",
    "vm.fresh_view()\n",
    "vm.plot_frames_overlapping(np.arange(1, 30*3, 3))\n",
    "display(vm.view)\n",
    "\n",
    "vm.fresh_view()\n",
    "vm.plot_frames_overlapping(np.arange(0, 30*3, 3))\n",
    "display(vm.view)"
   ]
  },
  {
   "cell_type": "code",
   "execution_count": 4,
   "id": "cb238420",
   "metadata": {
    "ExecuteTime": {
     "end_time": "2024-01-24T11:08:27.649816Z",
     "start_time": "2024-01-24T11:08:27.634194Z"
    }
   },
   "outputs": [],
   "source": [
    "def _create_sim_hist(m1=\"H2O\", m2=\"H2O\", o=\"15\", b=\"9\", t=\"[0.2, 0.3, 0.4]\", second_molecule_selection=\"bynum 4:6\",\n",
    "                     full_grid=None):\n",
    "    my_pt_generator = PtIOManager(m1, m2, o_grid_name=o, b_grid_name=b, t_grid_name=t)\n",
    "    my_pt_generator.construct_pt()\n",
    "    my_pt_name = my_pt_generator.get_name()\n",
    "\n",
    "    my_sh = SimulationHistogram(my_pt_name, is_pt=True, second_molecule_selection=second_molecule_selection,\n",
    "                                full_grid=full_grid, use_saved = False)\n",
    "    return my_sh"
   ]
  },
  {
   "cell_type": "code",
   "execution_count": 5,
   "id": "dcffddda",
   "metadata": {
    "ExecuteTime": {
     "end_time": "2024-01-24T11:09:05.813598Z",
     "start_time": "2024-01-24T11:08:28.105096Z"
    }
   },
   "outputs": [
    {
     "name": "stdout",
     "output_type": "stream",
     "text": [
      "(array([0, 1, 2, 3, 4, 5, 6, 7]), array([858, 875, 849, 630, 644, 629, 866, 649], dtype=int64))\n"
     ]
    }
   ],
   "source": [
    "sh_same_fg = _create_sim_hist(b=\"8\", o=\"250\",\n",
    "                                  full_grid=FullGrid(b_grid_name=\"8\", o_grid_name=\"15\", t_grid_name=\"[0.2, 0.3, 0.4]\"))\n",
    "len_traj = len(sh_same_fg)\n",
    "#print(np.all(sh_same_fg.get_full_assignments() == np.arange(len_traj)))\n",
    "print(np.unique(sh_same_fg.get_quaternion_assignments(), return_counts=True))"
   ]
  },
  {
   "cell_type": "code",
   "execution_count": 18,
   "id": "a5855b43",
   "metadata": {
    "ExecuteTime": {
     "end_time": "2024-01-24T13:11:01.912409Z",
     "start_time": "2024-01-24T13:10:21.221389Z"
    }
   },
   "outputs": [
    {
     "name": "stdout",
     "output_type": "stream",
     "text": [
      "[176 201 272 214 123]\n",
      "51 belong here.\n"
     ]
    },
    {
     "data": {
      "application/vnd.jupyter.widget-view+json": {
       "model_id": "abb20d4094704e50b12ace0b1898cbef",
       "version_major": 2,
       "version_minor": 0
      },
      "text/plain": [
       "NGLWidget()"
      ]
     },
     "metadata": {},
     "output_type": "display_data"
    }
   ],
   "source": [
    "fg_assigning = FullGrid(\"8\", \"12\", \"linspace(0.2, 1, 5)\")\n",
    "sh_pt = SimulationHistogram(\"H2O_H2O_0010\", is_pt=True, second_molecule_selection=\"bynum 4:6\",\n",
    "                           full_grid=fg_assigning)\n",
    "\n",
    "sh_traj = SimulationHistogram(\"H2O_H2O_0095_2000\", is_pt=False, second_molecule_selection=\"bynum 4:6\",\n",
    "                             full_grid=fg_assigning)\n",
    "\n",
    "cells, counts = np.unique(sh_traj.get_full_assignments(), return_counts=True)\n",
    "most_popular = cells[k_argmax_in_array(counts, 5)]\n",
    "print(most_popular)\n",
    "vm = ViewManager(sh_traj.trajectory_universe)\n",
    "belongs_here = sh_traj.get_indices_same_cell(176)\n",
    "print(f\"{len(belongs_here)} belong here.\")\n",
    "vm.plot_frames_overlapping(belongs_here)\n",
    "vm.view"
   ]
  },
  {
   "cell_type": "code",
   "execution_count": 21,
   "id": "67f906c0",
   "metadata": {
    "ExecuteTime": {
     "end_time": "2024-01-24T13:34:56.103122Z",
     "start_time": "2024-01-24T13:34:55.694522Z"
    }
   },
   "outputs": [
    {
     "data": {
      "image/png": "[encoded data removed]",
      "text/plain": [
       "<Figure size 445x445 with 2 Axes>"
      ]
     },
     "metadata": {},
     "output_type": "display_data"
    }
   ],
   "source": [
    "my_msm = sh_traj.get_transition_model()\n",
    "tp = TransitionPlot(my_msm)\n",
    "tp.plot_heatmap(0, save=False)\n",
    "plt.show()"
   ]
  },
  {
   "cell_type": "code",
   "execution_count": null,
   "id": "59a110f7",
   "metadata": {},
   "outputs": [],
   "source": []
  }
 ],
 "metadata": {
  "kernelspec": {
   "display_name": "Python 3 (ipykernel)",
   "language": "python",
   "name": "python3"
  },
  "language_info": {
   "codemirror_mode": {
    "name": "ipython",
    "version": 3
   },
   "file_extension": ".py",
   "mimetype": "text/x-python",
   "name": "python",
   "nbconvert_exporter": "python",
   "pygments_lexer": "ipython3",
   "version": "3.11.5"
  },
  "toc": {
   "base_numbering": 1,
   "nav_menu": {},
   "number_sections": true,
   "sideBar": false,
   "skip_h1_title": true,
   "title_cell": "Table of Contents",
   "title_sidebar": "Contents",
   "toc_cell": true,
   "toc_position": {},
   "toc_section_display": true,
   "toc_window_display": true
  }
 },
 "nbformat": 4,
 "nbformat_minor": 5
}
