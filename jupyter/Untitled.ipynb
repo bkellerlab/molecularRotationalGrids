{
 "cells": [
  {
   "cell_type": "markdown",
   "id": "56755556",
   "metadata": {
    "toc": true
   },
   "source": [
    "<h1>Table of Contents<span class=\"tocSkip\"></span></h1>\n",
    "<div class=\"toc\"><ul class=\"toc-item\"></ul></div>"
   ]
  },
  {
   "cell_type": "code",
   "execution_count": 1,
   "id": "5a5583fa",
   "metadata": {
    "ExecuteTime": {
     "end_time": "2024-01-24T09:11:50.500550Z",
     "start_time": "2024-01-24T09:11:50.484509Z"
    }
   },
   "outputs": [],
   "source": [
    "import sys\n",
    "import os\n",
    "\n",
    "try:\n",
    "    os.chdir(r\"/home/hanaz63/PAPER_MOLECULAR_ROTATIONS_2022/nobackup/molgri\")\n",
    "    sys.path.append(r\"/home/hanaz63/PAPER_MOLECULAR_ROTATIONS_2022/nobackup\")\n",
    "except FileNotFoundError:\n",
    "    os.chdir(r\"D:\\HANA\\phD\\PAPER_2022\\molecularRotationalGrids\")\n",
    "    sys.path.append(r\"D:\\HANA\\phD\\PAPER_2022\\molecularRotationalGrids\")\n",
    "    \n",
    "import warnings\n",
    "warnings.filterwarnings(\"ignore\")"
   ]
  },
  {
   "cell_type": "code",
   "execution_count": 2,
   "id": "ea3c88b6",
   "metadata": {
    "ExecuteTime": {
     "end_time": "2024-01-24T09:11:57.696290Z",
     "start_time": "2024-01-24T09:11:51.206277Z"
    }
   },
   "outputs": [
    {
     "data": {
      "application/vnd.jupyter.widget-view+json": {
       "model_id": "9264d012c3a241f097e1d60e3cd37b4a",
       "version_major": 2,
       "version_minor": 0
      },
      "text/plain": []
     },
     "metadata": {},
     "output_type": "display_data"
    }
   ],
   "source": [
    "import numpy as np\n",
    "from scipy.spatial.transform import Rotation\n",
    "import MDAnalysis as mda\n",
    "from IPython.core.display import display\n",
    "\n",
    "from molgri.molecules.parsers import FileParser\n",
    "from molgri.space.fullgrid import FullGrid\n",
    "from molgri.paths import PATH_INPUT_BASEGRO\n",
    "from molgri.plotting.widgets import ViewManager, display_all_views, sync_all_views\n",
    "from molgri.space.rotations import two_vectors2rot"
   ]
  },
  {
   "cell_type": "code",
   "execution_count": 3,
   "id": "36f0ceaf",
   "metadata": {
    "ExecuteTime": {
     "end_time": "2024-01-24T09:11:57.708305Z",
     "start_time": "2024-01-24T09:11:57.696290Z"
    }
   },
   "outputs": [],
   "source": [
    "def plot_current_molecule(my_molecule):\n",
    "    one_universe = mda.Merge(my_molecule.atoms)\n",
    "    vm = ViewManager(one_universe)\n",
    "    vm.plot_ith_frame(0)\n",
    "    return vm.view"
   ]
  },
  {
   "cell_type": "code",
   "execution_count": 5,
   "id": "3c40c5e1",
   "metadata": {
    "ExecuteTime": {
     "end_time": "2024-01-24T09:13:58.385383Z",
     "start_time": "2024-01-24T09:13:38.803871Z"
    },
    "scrolled": false
   },
   "outputs": [
    {
     "name": "stdout",
     "output_type": "stream",
     "text": [
      "Warning! Voronoi objects can only be created for >=4 points\n"
     ]
    },
    {
     "data": {
      "application/vnd.jupyter.widget-view+json": {
       "model_id": "295f44cd67c24d0a82f653183ce1de9e",
       "version_major": 2,
       "version_minor": 0
      },
      "text/plain": [
       "NGLWidget()"
      ]
     },
     "metadata": {},
     "output_type": "display_data"
    },
    {
     "data": {
      "application/vnd.jupyter.widget-view+json": {
       "model_id": "910f3a7e7f45415194a24481127359fc",
       "version_major": 2,
       "version_minor": 0
      },
      "text/plain": [
       "NGLWidget()"
      ]
     },
     "metadata": {},
     "output_type": "display_data"
    }
   ],
   "source": [
    "file_path = f\"{PATH_INPUT_BASEGRO}H2O\"\n",
    "file_parser = FileParser(file_path)\n",
    "one_molecule = file_parser.as_parsed_molecule()\n",
    "# now start doing translations and rotations\n",
    "fg = FullGrid(b_grid_name=\"3\", o_grid_name=\"15\", t_grid_name=\"[0.2, 0.4]\")\n",
    "my_array = fg.get_full_grid_as_array()\n",
    "\n",
    "#view0 = plot_current_molecule(one_molecule)\n",
    "\n",
    "one_molecule.translate_to_origin()\n",
    "\n",
    "def my_generator():\n",
    "    for i, se3_coo in enumerate(my_array):\n",
    "        position = se3_coo[:3]\n",
    "        orientation = se3_coo[3:]\n",
    "        z_vector = np.array([0, 0, np.linalg.norm(position)])\n",
    "        rotation_body = Rotation.from_quat(orientation)\n",
    "        rotation_origin = Rotation.from_matrix(two_vectors2rot(z_vector, position))\n",
    "\n",
    "        # first position in original orientation and z-direction at radius\n",
    "        one_molecule.rotate_about_body(rotation_body)\n",
    "        one_molecule.translate_radially(np.linalg.norm(position))\n",
    "        one_molecule.double_rotate(position/np.linalg.norm(position))\n",
    "\n",
    "        \n",
    "        assert np.allclose(one_molecule.get_center_of_mass(), position, atol=1e-3), f\"{i} {np.round(one_molecule.get_center_of_mass(), 4)} {np.round(position, 4)}\"\n",
    "        yield one_molecule.atoms.positions\n",
    "    #\n",
    "\n",
    "\n",
    "        one_molecule.double_rotate(position/np.linalg.norm(position), inverse=True)\n",
    "        one_molecule.translate_radially(-np.linalg.norm(position))\n",
    "        one_molecule.rotate_about_body(rotation_body, inverse=True)\n",
    "        \n",
    "#    \n",
    "\n",
    "all_positions = []\n",
    "for i, frame in enumerate(my_generator()):\n",
    "    all_positions.append(frame)\n",
    "all_positions = np.array(all_positions)\n",
    "\n",
    "file_path = f\"{PATH_INPUT_BASEGRO}H2O\"\n",
    "file_parser = FileParser(file_path)\n",
    "fresh_molecule = file_parser.as_parsed_molecule()\n",
    "u2 = mda.Merge(fresh_molecule.atoms)\n",
    "from MDAnalysis.coordinates.memory import MemoryReader\n",
    "u2.load_new(all_positions, format=MemoryReader)\n",
    "vm = ViewManager(u2)\n",
    "\n",
    "vm.fresh_view()\n",
    "vm.plot_frames_overlapping(np.arange(1, 30*3, 3))\n",
    "display(vm.view)\n",
    "\n",
    "vm.fresh_view()\n",
    "vm.plot_frames_overlapping(np.arange(0, 30*3, 3))\n",
    "display(vm.view)"
   ]
  },
  {
   "cell_type": "code",
   "execution_count": null,
   "id": "a827b008",
   "metadata": {},
   "outputs": [],
   "source": []
  },
  {
   "cell_type": "code",
   "execution_count": null,
   "id": "0e02840e",
   "metadata": {},
   "outputs": [],
   "source": []
  }
 ],
 "metadata": {
  "kernelspec": {
   "display_name": "Python 3 (ipykernel)",
   "language": "python",
   "name": "python3"
  },
  "language_info": {
   "codemirror_mode": {
    "name": "ipython",
    "version": 3
   },
   "file_extension": ".py",
   "mimetype": "text/x-python",
   "name": "python",
   "nbconvert_exporter": "python",
   "pygments_lexer": "ipython3",
   "version": "3.9.13"
  },
  "toc": {
   "base_numbering": 1,
   "nav_menu": {},
   "number_sections": true,
   "sideBar": false,
   "skip_h1_title": true,
   "title_cell": "Table of Contents",
   "title_sidebar": "Contents",
   "toc_cell": true,
   "toc_position": {},
   "toc_section_display": true,
   "toc_window_display": true
  }
 },
 "nbformat": 4,
 "nbformat_minor": 5
}
