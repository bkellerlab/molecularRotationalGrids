{
 "cells": [
  {
   "cell_type": "markdown",
   "id": "ffc1327f",
   "metadata": {
    "toc": true
   },
   "source": [
    "<h1>Table of Contents<span class=\"tocSkip\"></span></h1>\n",
    "<div class=\"toc\"><ul class=\"toc-item\"></ul></div>"
   ]
  },
  {
   "cell_type": "code",
   "execution_count": 1,
   "id": "923470c1",
   "metadata": {
    "ExecuteTime": {
     "end_time": "2024-01-26T14:32:26.958686Z",
     "start_time": "2024-01-26T14:32:26.948688Z"
    }
   },
   "outputs": [],
   "source": [
    "import sys\n",
    "import os\n",
    "\n",
    "try:\n",
    "    os.chdir(r\"/home/hanaz63/PAPER_MOLECULAR_ROTATIONS_2022/nobackup/molgri\")\n",
    "    sys.path.append(r\"/home/hanaz63/PAPER_MOLECULAR_ROTATIONS_2022/nobackup\")\n",
    "except FileNotFoundError:\n",
    "    os.chdir(r\"D:\\HANA\\phD\\PAPER_2022\\molecularRotationalGrids\")\n",
    "    sys.path.append(r\"D:\\HANA\\phD\\PAPER_2022\\molecularRotationalGrids\")\n",
    "    \n",
    "import warnings\n",
    "warnings.filterwarnings(\"ignore\")"
   ]
  },
  {
   "cell_type": "code",
   "execution_count": 2,
   "id": "0396bb4f",
   "metadata": {
    "ExecuteTime": {
     "end_time": "2024-01-26T14:32:29.791804Z",
     "start_time": "2024-01-26T14:32:27.347896Z"
    }
   },
   "outputs": [
    {
     "data": {
      "application/vnd.jupyter.widget-view+json": {
       "model_id": "45fbb31a66d144e6a166323c727757ce",
       "version_major": 2,
       "version_minor": 0
      },
      "text/plain": []
     },
     "metadata": {},
     "output_type": "display_data"
    }
   ],
   "source": [
    "import numpy as np\n",
    "from scipy.spatial.transform import Rotation\n",
    "import MDAnalysis as mda\n",
    "from IPython.core.display import display\n",
    "import matplotlib.pyplot as plt\n",
    "\n",
    "from molgri.molecules.parsers import FileParser\n",
    "from molgri.molecules.writers import PtIOManager\n",
    "from molgri.molecules.transitions import SimulationHistogram\n",
    "from molgri.space.fullgrid import FullGrid\n",
    "from molgri.paths import PATH_INPUT_BASEGRO\n",
    "from molgri.plotting.widgets import ViewManager, display_all_views, sync_all_views\n",
    "from molgri.space.rotations import two_vectors2rot\n",
    "from molgri.space.utils import k_argmax_in_array\n",
    "from molgri.plotting.transition_plots import TransitionPlot"
   ]
  },
  {
   "cell_type": "code",
   "execution_count": 3,
   "id": "d2093bba",
   "metadata": {
    "ExecuteTime": {
     "end_time": "2024-01-26T14:32:29.805775Z",
     "start_time": "2024-01-26T14:32:29.791804Z"
    }
   },
   "outputs": [],
   "source": [
    "def plot_current_molecule(my_molecule):\n",
    "    one_universe = mda.Merge(my_molecule.atoms)\n",
    "    vm = ViewManager(one_universe)\n",
    "    vm.plot_ith_frame(0)\n",
    "    return vm.view"
   ]
  },
  {
   "cell_type": "code",
   "execution_count": 4,
   "id": "d2b0788c",
   "metadata": {
    "ExecuteTime": {
     "end_time": "2024-01-26T14:32:52.491338Z",
     "start_time": "2024-01-26T14:32:29.805775Z"
    },
    "scrolled": false
   },
   "outputs": [
    {
     "name": "stdout",
     "output_type": "stream",
     "text": [
      "Warning! Voronoi objects can only be created for >=4 points\n"
     ]
    },
    {
     "data": {
      "application/vnd.jupyter.widget-view+json": {
       "model_id": "05b1a4a8f0744fefbf92570bb48ac368",
       "version_major": 2,
       "version_minor": 0
      },
      "text/plain": [
       "NGLWidget()"
      ]
     },
     "metadata": {},
     "output_type": "display_data"
    },
    {
     "data": {
      "application/vnd.jupyter.widget-view+json": {
       "model_id": "172d038004704c269c73efdb1b8c8c34",
       "version_major": 2,
       "version_minor": 0
      },
      "text/plain": [
       "NGLWidget()"
      ]
     },
     "metadata": {},
     "output_type": "display_data"
    }
   ],
   "source": [
    "file_path = f\"{PATH_INPUT_BASEGRO}H2O\"\n",
    "file_parser = FileParser(file_path)\n",
    "one_molecule = file_parser.as_parsed_molecule()\n",
    "# now start doing translations and rotations\n",
    "fg = FullGrid(b_grid_name=\"3\", o_grid_name=\"15\", t_grid_name=\"[0.2, 0.4]\")\n",
    "my_array = fg.get_full_grid_as_array()\n",
    "\n",
    "#view0 = plot_current_molecule(one_molecule)\n",
    "\n",
    "one_molecule.translate_to_origin()\n",
    "\n",
    "def my_generator():\n",
    "    for i, se3_coo in enumerate(my_array):\n",
    "        position = se3_coo[:3]\n",
    "        orientation = se3_coo[3:]\n",
    "        z_vector = np.array([0, 0, np.linalg.norm(position)])\n",
    "        rotation_body = Rotation.from_quat(orientation)\n",
    "        rotation_origin = Rotation.from_matrix(two_vectors2rot(z_vector, position))\n",
    "\n",
    "        # first position in original orientation and z-direction at radius\n",
    "        one_molecule.rotate_about_body(rotation_body)\n",
    "        one_molecule.translate_radially(np.linalg.norm(position))\n",
    "        one_molecule.double_rotate(position/np.linalg.norm(position))\n",
    "\n",
    "        \n",
    "        assert np.allclose(one_molecule.get_center_of_mass(), position, atol=1e-3), f\"{i} {np.round(one_molecule.get_center_of_mass(), 4)} {np.round(position, 4)}\"\n",
    "        yield one_molecule.atoms.positions\n",
    "    #\n",
    "\n",
    "\n",
    "        one_molecule.double_rotate(position/np.linalg.norm(position), inverse=True)\n",
    "        one_molecule.translate_radially(-np.linalg.norm(position))\n",
    "        one_molecule.rotate_about_body(rotation_body, inverse=True)\n",
    "        \n",
    "#    \n",
    "\n",
    "all_positions = []\n",
    "for i, frame in enumerate(my_generator()):\n",
    "    all_positions.append(frame)\n",
    "all_positions = np.array(all_positions)\n",
    "\n",
    "file_path = f\"{PATH_INPUT_BASEGRO}H2O\"\n",
    "file_parser = FileParser(file_path)\n",
    "fresh_molecule = file_parser.as_parsed_molecule()\n",
    "u2 = mda.Merge(fresh_molecule.atoms)\n",
    "from MDAnalysis.coordinates.memory import MemoryReader\n",
    "u2.load_new(all_positions, format=MemoryReader)\n",
    "vm = ViewManager(u2)\n",
    "\n",
    "vm.fresh_view()\n",
    "vm.plot_frames_overlapping(np.arange(1, 30*3, 3))\n",
    "display(vm.view)\n",
    "\n",
    "vm.fresh_view()\n",
    "vm.plot_frames_overlapping(np.arange(0, 30*3, 3))\n",
    "display(vm.view)"
   ]
  },
  {
   "cell_type": "code",
   "execution_count": 5,
   "id": "978baa84",
   "metadata": {
    "ExecuteTime": {
     "end_time": "2024-01-26T14:32:52.506963Z",
     "start_time": "2024-01-26T14:32:52.491338Z"
    }
   },
   "outputs": [],
   "source": [
    "def _create_sim_hist(m1=\"H2O\", m2=\"H2O\", o=\"15\", b=\"9\", t=\"[0.2, 0.3, 0.4]\", second_molecule_selection=\"bynum 4:6\",\n",
    "                     full_grid=None):\n",
    "    my_pt_generator = PtIOManager(m1, m2, o_grid_name=o, b_grid_name=b, t_grid_name=t)\n",
    "    my_pt_generator.construct_pt()\n",
    "    my_pt_name = my_pt_generator.get_name()\n",
    "\n",
    "    my_sh = SimulationHistogram(my_pt_name, is_pt=True, second_molecule_selection=second_molecule_selection,\n",
    "                                full_grid=full_grid, use_saved = False)\n",
    "    return my_sh"
   ]
  },
  {
   "cell_type": "code",
   "execution_count": 6,
   "id": "3f26d9cb",
   "metadata": {
    "ExecuteTime": {
     "end_time": "2024-01-26T14:39:52.526770Z",
     "start_time": "2024-01-26T14:32:52.506963Z"
    }
   },
   "outputs": [
    {
     "name": "stdout",
     "output_type": "stream",
     "text": [
      "(array([0, 1, 2, 3, 4, 5, 6, 7], dtype=int64), array([586, 784, 574, 858, 848, 793, 777, 780], dtype=int64))\n"
     ]
    }
   ],
   "source": [
    "sh_same_fg = _create_sim_hist(b=\"8\", o=\"250\",\n",
    "                                  full_grid=FullGrid(b_grid_name=\"8\", o_grid_name=\"15\", t_grid_name=\"[0.2, 0.3, 0.4]\"))\n",
    "len_traj = len(sh_same_fg)\n",
    "#print(np.all(sh_same_fg.get_full_assignments() == np.arange(len_traj)))\n",
    "print(np.unique(sh_same_fg.get_quaternion_assignments(), return_counts=True))"
   ]
  },
  {
   "cell_type": "code",
   "execution_count": 7,
   "id": "d17639ca",
   "metadata": {
    "ExecuteTime": {
     "end_time": "2024-01-26T14:42:33.712166Z",
     "start_time": "2024-01-26T14:39:52.526770Z"
    }
   },
   "outputs": [
    {
     "name": "stdout",
     "output_type": "stream",
     "text": [
      "[247 121  12 190 166]\n",
      "6 belong here.\n"
     ]
    },
    {
     "data": {
      "application/vnd.jupyter.widget-view+json": {
       "model_id": "7a6f9afecf7d4775819d5e675157a155",
       "version_major": 2,
       "version_minor": 0
      },
      "text/plain": [
       "NGLWidget()"
      ]
     },
     "metadata": {},
     "output_type": "display_data"
    }
   ],
   "source": [
    "fg_assigning = FullGrid(\"8\", \"12\", \"linspace(0.2, 1, 5)\")\n",
    "sh_pt = SimulationHistogram(\"H2O_H2O_0010\", is_pt=True, second_molecule_selection=\"bynum 4:6\",\n",
    "                           full_grid=fg_assigning)\n",
    "\n",
    "sh_traj = SimulationHistogram(\"H2O_H2O_0095_2000\", is_pt=False, second_molecule_selection=\"bynum 4:6\",\n",
    "                             full_grid=fg_assigning)\n",
    "\n",
    "cells, counts = np.unique(sh_traj.get_full_assignments(), return_counts=True)\n",
    "most_popular = cells[k_argmax_in_array(counts, 5)]\n",
    "print(most_popular)\n",
    "vm = ViewManager(sh_traj.trajectory_universe)\n",
    "belongs_here = sh_traj.get_indices_same_cell(176)\n",
    "print(f\"{len(belongs_here)} belong here.\")\n",
    "vm.plot_frames_overlapping(belongs_here)\n",
    "vm.view"
   ]
  },
  {
   "cell_type": "code",
   "execution_count": 8,
   "id": "8e980f04",
   "metadata": {
    "ExecuteTime": {
     "end_time": "2024-01-26T14:42:34.217200Z",
     "start_time": "2024-01-26T14:42:33.712166Z"
    }
   },
   "outputs": [
    {
     "ename": "AttributeError",
     "evalue": "'MSM' object has no attribute 'get_transition_model'",
     "output_type": "error",
     "traceback": [
      "\u001b[1;31m---------------------------------------------------------------------------\u001b[0m",
      "\u001b[1;31mAttributeError\u001b[0m                            Traceback (most recent call last)",
      "Cell \u001b[1;32mIn[8], line 2\u001b[0m\n\u001b[0;32m      1\u001b[0m my_msm \u001b[38;5;241m=\u001b[39m sh_traj\u001b[38;5;241m.\u001b[39mget_transition_model()\n\u001b[1;32m----> 2\u001b[0m tp \u001b[38;5;241m=\u001b[39m \u001b[43mTransitionPlot\u001b[49m\u001b[43m(\u001b[49m\u001b[43mmy_msm\u001b[49m\u001b[43m)\u001b[49m\n\u001b[0;32m      3\u001b[0m tp\u001b[38;5;241m.\u001b[39mplot_heatmap(\u001b[38;5;241m0\u001b[39m, save\u001b[38;5;241m=\u001b[39m\u001b[38;5;28;01mFalse\u001b[39;00m)\n\u001b[0;32m      4\u001b[0m plt\u001b[38;5;241m.\u001b[39mshow()\n",
      "File \u001b[1;32mD:\\HANA\\phD\\PAPER_2022\\molecularRotationalGrids\\molgri\\plotting\\transition_plots.py:21\u001b[0m, in \u001b[0;36mTransitionPlot.__init__\u001b[1;34m(self, transition_obj, tau_array, *args, **kwargs)\u001b[0m\n\u001b[0;32m     19\u001b[0m \u001b[38;5;28;01mdef\u001b[39;00m \u001b[38;5;21m__init__\u001b[39m(\u001b[38;5;28mself\u001b[39m, transition_obj: SimulationHistogram, tau_array\u001b[38;5;241m=\u001b[39m\u001b[38;5;28;01mNone\u001b[39;00m, \u001b[38;5;241m*\u001b[39margs, \u001b[38;5;241m*\u001b[39m\u001b[38;5;241m*\u001b[39mkwargs):\n\u001b[0;32m     20\u001b[0m     \u001b[38;5;28mself\u001b[39m\u001b[38;5;241m.\u001b[39msimulation_histogram \u001b[38;5;241m=\u001b[39m transition_obj\n\u001b[1;32m---> 21\u001b[0m     \u001b[38;5;28mself\u001b[39m\u001b[38;5;241m.\u001b[39mtransition_obj \u001b[38;5;241m=\u001b[39m \u001b[43mtransition_obj\u001b[49m\u001b[38;5;241;43m.\u001b[39;49m\u001b[43mget_transition_model\u001b[49m(tau_array\u001b[38;5;241m=\u001b[39mtau_array)\n\u001b[0;32m     22\u001b[0m     data_name \u001b[38;5;241m=\u001b[39m \u001b[38;5;28mself\u001b[39m\u001b[38;5;241m.\u001b[39mtransition_obj\u001b[38;5;241m.\u001b[39mget_name()\n\u001b[0;32m     23\u001b[0m     \u001b[38;5;28msuper\u001b[39m()\u001b[38;5;241m.\u001b[39m\u001b[38;5;21m__init__\u001b[39m(data_name, \u001b[38;5;241m*\u001b[39margs, \u001b[38;5;241m*\u001b[39m\u001b[38;5;241m*\u001b[39mkwargs)\n",
      "\u001b[1;31mAttributeError\u001b[0m: 'MSM' object has no attribute 'get_transition_model'"
     ]
    }
   ],
   "source": [
    "my_msm = sh_traj.get_transition_model()\n",
    "tp = TransitionPlot(my_msm)\n",
    "tp.plot_heatmap(0, save=False)\n",
    "plt.show()"
   ]
  },
  {
   "cell_type": "code",
   "execution_count": null,
   "id": "302a9d16",
   "metadata": {
    "ExecuteTime": {
     "end_time": "2024-01-26T14:42:34.221200Z",
     "start_time": "2024-01-26T14:42:34.221200Z"
    }
   },
   "outputs": [],
   "source": [
    "# the question of assigning PTs to grids that are not their own - lots of points on the borders\n",
    "\n",
    "from molgri.space.rotobj import SphereGrid3DFactory\n",
    "from molgri.plotting.spheregrid_plots import SphereGridPlot\n",
    "from molgri.plotting.voronoi_plots import VoronoiPlot\n",
    "import matplotlib.pyplot as plt\n",
    "sphere1 = SphereGrid3DFactory.create(\"ico\", 12, use_saved=False)\n",
    "sphere2 = SphereGrid3DFactory.create(\"ico\", 500, use_saved=False)\n",
    "sg1 = VoronoiPlot(sphere1.get_spherical_voronoi())\n",
    "sg2 = SphereGridPlot(sphere2)\n",
    "sg1.plot_borders(save=False)\n",
    "sg1.plot_centers(save=False, ax=sg1.ax, fig=sg1.fig)\n",
    "sg2.plot_grid(save=False, ax=sg1.ax, fig=sg1.fig)\n",
    "plt.show()"
   ]
  },
  {
   "cell_type": "code",
   "execution_count": null,
   "id": "c614b125",
   "metadata": {},
   "outputs": [],
   "source": []
  },
  {
   "cell_type": "code",
   "execution_count": null,
   "id": "b5dc9191",
   "metadata": {},
   "outputs": [],
   "source": []
  },
  {
   "cell_type": "code",
   "execution_count": null,
   "id": "739077dd",
   "metadata": {},
   "outputs": [],
   "source": []
  }
 ],
 "metadata": {
  "kernelspec": {
   "display_name": "Python 3 (ipykernel)",
   "language": "python",
   "name": "python3"
  },
  "language_info": {
   "codemirror_mode": {
    "name": "ipython",
    "version": 3
   },
   "file_extension": ".py",
   "mimetype": "text/x-python",
   "name": "python",
   "nbconvert_exporter": "python",
   "pygments_lexer": "ipython3",
   "version": "3.9.13"
  },
  "toc": {
   "base_numbering": 1,
   "nav_menu": {},
   "number_sections": true,
   "sideBar": false,
   "skip_h1_title": true,
   "title_cell": "Table of Contents",
   "title_sidebar": "Contents",
   "toc_cell": true,
   "toc_position": {},
   "toc_section_display": true,
   "toc_window_display": true
  }
 },
 "nbformat": 4,
 "nbformat_minor": 5
}
