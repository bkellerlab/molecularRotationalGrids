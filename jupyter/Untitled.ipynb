{
 "cells": [
  {
   "cell_type": "markdown",
   "id": "19c42c61",
   "metadata": {
    "toc": true
   },
   "source": [
    "<h1>Table of Contents<span class=\"tocSkip\"></span></h1>\n",
    "<div class=\"toc\"><ul class=\"toc-item\"></ul></div>"
   ]
  },
  {
   "cell_type": "code",
   "execution_count": 7,
   "id": "fc23d7f6",
   "metadata": {
    "ExecuteTime": {
     "end_time": "2024-01-23T17:01:51.880146Z",
     "start_time": "2024-01-23T17:01:51.872386Z"
    }
   },
   "outputs": [],
   "source": [
    "import sys\n",
    "import os\n",
    "\n",
    "try:\n",
    "    os.chdir(r\"/home/hanaz63/PAPER_MOLECULAR_ROTATIONS_2022/nobackup/molgri\")\n",
    "    sys.path.append(r\"/home/hanaz63/PAPER_MOLECULAR_ROTATIONS_2022/nobackup\")\n",
    "except FileNotFoundError:\n",
    "    os.chdir(r\"D:\\HANA\\phD\\PAPER_2022\\molecularRotationalGrids\")\n",
    "    sys.path.append(r\"D:\\HANA\\phD\\PAPER_2022\\molecularRotationalGrids\")\n",
    "    \n",
    "import warnings\n",
    "warnings.filterwarnings(\"ignore\")"
   ]
  },
  {
   "cell_type": "code",
   "execution_count": 8,
   "id": "bdc07935",
   "metadata": {
    "ExecuteTime": {
     "end_time": "2024-01-23T17:01:52.429187Z",
     "start_time": "2024-01-23T17:01:52.423911Z"
    }
   },
   "outputs": [],
   "source": [
    "import numpy as np\n",
    "from scipy.spatial.transform import Rotation\n",
    "import MDAnalysis as mda\n",
    "from IPython.core.display import display\n",
    "\n",
    "from molgri.molecules.parsers import FileParser\n",
    "from molgri.space.fullgrid import FullGrid\n",
    "from molgri.paths import PATH_INPUT_BASEGRO\n",
    "from molgri.plotting.widgets import ViewManager, display_all_views, sync_all_views\n",
    "from molgri.space.rotations import two_vectors2rot"
   ]
  },
  {
   "cell_type": "code",
   "execution_count": 9,
   "id": "e42c6b49",
   "metadata": {
    "ExecuteTime": {
     "end_time": "2024-01-23T17:01:52.917628Z",
     "start_time": "2024-01-23T17:01:52.911497Z"
    }
   },
   "outputs": [],
   "source": [
    "def plot_current_molecule(my_molecule):\n",
    "    one_universe = mda.Merge(my_molecule.atoms)\n",
    "    vm = ViewManager(one_universe)\n",
    "    vm.plot_ith_frame(0)\n",
    "    return vm.view"
   ]
  },
  {
   "cell_type": "code",
   "execution_count": 17,
   "id": "16b0a032",
   "metadata": {
    "ExecuteTime": {
     "end_time": "2024-01-23T17:16:39.477884Z",
     "start_time": "2024-01-23T17:16:15.981087Z"
    },
    "scrolled": false
   },
   "outputs": [
    {
     "name": "stdout",
     "output_type": "stream",
     "text": [
      "Warning! Voronoi objects can only be created for >=4 points\n"
     ]
    },
    {
     "data": {
      "application/vnd.jupyter.widget-view+json": {
       "model_id": "d001b71e6d774bcf8f38e8bc555ebf12",
       "version_major": 2,
       "version_minor": 0
      },
      "text/plain": [
       "NGLWidget()"
      ]
     },
     "metadata": {},
     "output_type": "display_data"
    },
    {
     "data": {
      "application/vnd.jupyter.widget-view+json": {
       "model_id": "a607411c7ec746568bbc1359cf082b21",
       "version_major": 2,
       "version_minor": 0
      },
      "text/plain": [
       "NGLWidget()"
      ]
     },
     "metadata": {},
     "output_type": "display_data"
    }
   ],
   "source": [
    "file_path = f\"{PATH_INPUT_BASEGRO}H2O\"\n",
    "file_parser = FileParser(file_path)\n",
    "one_molecule = file_parser.as_parsed_molecule()\n",
    "# now start doing translations and rotations\n",
    "fg = FullGrid(b_grid_name=\"3\", o_grid_name=\"15\", t_grid_name=\"[0.2, 0.4]\")\n",
    "my_array = fg.get_full_grid_as_array()\n",
    "\n",
    "#view0 = plot_current_molecule(one_molecule)\n",
    "\n",
    "one_molecule.translate_to_origin()\n",
    "\n",
    "def my_generator():\n",
    "    for i, se3_coo in enumerate(my_array):\n",
    "        position = se3_coo[:3]\n",
    "        orientation = se3_coo[3:]\n",
    "        z_vector = np.array([0, 0, np.linalg.norm(position)])\n",
    "        rotation_body = Rotation.from_quat(orientation)\n",
    "        rotation_origin = Rotation.from_matrix(two_vectors2rot(z_vector, position))\n",
    "\n",
    "        # first position in original orientation and z-direction at radius\n",
    "\n",
    "        one_molecule.translate_radially(np.linalg.norm(position))\n",
    "        one_molecule.double_rotate(position/np.linalg.norm(position))\n",
    "        one_molecule.rotate_about_body(rotation_body)\n",
    "        \n",
    "        assert np.allclose(one_molecule.get_center_of_mass(), position, atol=1e-3), f\"{i} {np.round(one_molecule.get_center_of_mass(), 4)} {np.round(position, 4)}\"\n",
    "        yield one_molecule.atoms.positions\n",
    "    #\n",
    "\n",
    "        one_molecule.rotate_about_body(rotation_body, inverse=True)\n",
    "        one_molecule.double_rotate(position/np.linalg.norm(position), inverse=True)\n",
    "        one_molecule.translate_radially(-np.linalg.norm(position))\n",
    "        \n",
    "#    \n",
    "\n",
    "all_positions = []\n",
    "for i, frame in enumerate(my_generator()):\n",
    "    all_positions.append(frame)\n",
    "all_positions = np.array(all_positions)\n",
    "\n",
    "file_path = f\"{PATH_INPUT_BASEGRO}H2O\"\n",
    "file_parser = FileParser(file_path)\n",
    "fresh_molecule = file_parser.as_parsed_molecule()\n",
    "u2 = mda.Merge(fresh_molecule.atoms)\n",
    "from MDAnalysis.coordinates.memory import MemoryReader\n",
    "u2.load_new(all_positions, format=MemoryReader)\n",
    "vm = ViewManager(u2)\n",
    "\n",
    "vm.plot_frames_overlapping([0, 1, 3, 4])\n",
    "display(vm.view)\n",
    "\n",
    "vm.fresh_view()\n",
    "vm.plot_frames_overlapping(np.arange(0, 30*3, 3))\n",
    "display(vm.view)"
   ]
  },
  {
   "cell_type": "code",
   "execution_count": null,
   "id": "118c3845",
   "metadata": {},
   "outputs": [],
   "source": []
  },
  {
   "cell_type": "code",
   "execution_count": null,
   "id": "c1139d8c",
   "metadata": {},
   "outputs": [],
   "source": []
  }
 ],
 "metadata": {
  "kernelspec": {
   "display_name": "Python 3 (ipykernel)",
   "language": "python",
   "name": "python3"
  },
  "language_info": {
   "codemirror_mode": {
    "name": "ipython",
    "version": 3
   },
   "file_extension": ".py",
   "mimetype": "text/x-python",
   "name": "python",
   "nbconvert_exporter": "python",
   "pygments_lexer": "ipython3",
   "version": "3.11.5"
  },
  "toc": {
   "base_numbering": 1,
   "nav_menu": {},
   "number_sections": true,
   "sideBar": false,
   "skip_h1_title": true,
   "title_cell": "Table of Contents",
   "title_sidebar": "Contents",
   "toc_cell": true,
   "toc_position": {},
   "toc_section_display": true,
   "toc_window_display": true
  }
 },
 "nbformat": 4,
 "nbformat_minor": 5
}
