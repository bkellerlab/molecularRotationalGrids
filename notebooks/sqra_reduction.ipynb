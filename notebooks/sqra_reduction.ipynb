{
 "cells": [
  {
   "cell_type": "markdown",
   "id": "d5f49575-329f-4208-8c11-34eb7fb60be7",
   "metadata": {},
   "source": [
    "Goal: SQRA try differet merge and cut marks and visualize resulting differences."
   ]
  },
  {
   "cell_type": "markdown",
   "id": "cf1e06ef-5f7a-4dc1-a860-d1be2a7e0fb8",
   "metadata": {},
   "source": [
    "Basic set up:\n",
    "- PT with FullGrid "
   ]
  },
  {
   "cell_type": "code",
   "execution_count": 1,
   "id": "ed74e277-556c-4de6-85af-c636eecfc92b",
   "metadata": {},
   "outputs": [],
   "source": [
    "import sys\n",
    "import os\n",
    "from time import time\n",
    "\n",
    "try:\n",
    "    os.chdir(r\"/home/zupanhana/PAPER_MOLECULAR_ROTATIONS_2022/nobackup/molgri\")\n",
    "    sys.path.append(r\"/home/zupanhana/PAPER_MOLECULAR_ROTATIONS_2022/nobackup\")\n",
    "except FileNotFoundError:\n",
    "    os.chdir(r\"D:\\\\HANA\\\\phD\\\\PAPER_2022\\\\molecularRotationalGrids\")\n",
    "    sys.path.append(r\"D:\\\\HANA\\\\phD\\\\PAPER_2022\\\\molecularRotationalGrids\")\n"
   ]
  },
  {
   "cell_type": "code",
   "execution_count": 2,
   "id": "b5d3a745-2946-40f0-8883-178707c449de",
   "metadata": {},
   "outputs": [],
   "source": [
    "import numpy as np\n",
    "from scipy import sparse\n",
    "from plotly.subplots import make_subplots\n",
    "import plotly.graph_objects as go\n",
    "\n",
    "from molgri.molecules.parsers import XVGParser\n",
    "from molgri.molecules.transitions import SQRA\n",
    "from molgri.molecules.transitions import DecompositionTool\n",
    "from molgri.paths import PATH_OUTPUT_AUTOSAVE, PATH_OUTPUT_ENERGIES, PATH_OUTPUT_AUTOSAVE\n",
    "from molgri.plotting.transition_plots import PlotlyTransitions"
   ]
  },
  {
   "cell_type": "code",
   "execution_count": 11,
   "id": "ed81ab15-3add-4da9-bbbf-381c8e466c9e",
   "metadata": {},
   "outputs": [],
   "source": [
    "def run_base_sqra(pt_identifier, grid_identifier, output_path):\n",
    "    t1 = time()\n",
    "    # load input files\n",
    "    all_volumes = np.load(f\"{PATH_OUTPUT_AUTOSAVE}{grid_identifier}_volumes.npy\")\n",
    "    all_surfaces = sparse.load_npz(f\"{PATH_OUTPUT_AUTOSAVE}{grid_identifier}_borders_array.npz\")\n",
    "    all_distances = sparse.load_npz(f\"{PATH_OUTPUT_AUTOSAVE}{grid_identifier}_distances_array.npz\")\n",
    "    \n",
    "    my_parsed = XVGParser(f\"{PATH_OUTPUT_ENERGIES}{pt_identifier}-{grid_identifier}_energy.xvg\")\n",
    "    energies = my_parsed.get_parsed_energy().get_energies(\"Potential\")\n",
    "    \n",
    "    sqra = SQRA(energies=energies, volumes=all_volumes, distances=all_distances, surfaces=all_surfaces)\n",
    "    rate_matrix = sqra.get_rate_matrix(D =1, T=273)\n",
    "    sparse.save_npz(output_path, rate_matrix)\n",
    "\n",
    "    t2 = time()\n",
    "    return rate_matrix.shape, t2-t1\n",
    "\n",
    "def run_cut_merge(grid_identifier, pt_identifier, rate_matrix_path, lower_limit, upper_limit, output_path, output_index, T=273):\n",
    "    t1 = time()\n",
    "    my_matrix = sparse.load_npz(rate_matrix_path)\n",
    "    all_volumes = np.load(f\"{PATH_OUTPUT_AUTOSAVE}{grid_identifier}_volumes.npy\")\n",
    "    all_surfaces = sparse.load_npz(f\"{PATH_OUTPUT_AUTOSAVE}{grid_identifier}_borders_array.npz\")\n",
    "    all_distances = sparse.load_npz(f\"{PATH_OUTPUT_AUTOSAVE}{grid_identifier}_distances_array.npz\")\n",
    "    \n",
    "    my_parsed = XVGParser(f\"{PATH_OUTPUT_ENERGIES}{pt_identifier}-{grid_identifier}_energy.xvg\")\n",
    "    energies = my_parsed.get_parsed_energy().get_energies(\"Potential\")\n",
    "\n",
    "    sqra = SQRA(energies=energies, volumes=all_volumes, distances=all_distances, surfaces=all_surfaces)\n",
    "    rate_matrix, index_list = sqra.cut_and_merge(my_matrix, T=T, lower_limit=lower_limit,\n",
    "        upper_limit=upper_limit)\n",
    "\n",
    "    # saving to file\n",
    "    sparse.save_npz(output_path, rate_matrix)\n",
    "    np.save(output_index, np.array(index_list, dtype=object))\n",
    "    t2 = time()\n",
    "    print(t2-t1)\n",
    "\n",
    "def run_get_eigenval_eigenvec(rate_matrix_path, output_eigenval, output_eigenvec):\n",
    "    t1 = time()\n",
    "    # loading\n",
    "    my_matrix = sparse.load_npz(rate_matrix_path)\n",
    "\n",
    "    # calculation\n",
    "    dt = DecompositionTool(my_matrix,is_msm=False)\n",
    "    all_eigenval, all_eigenvec = dt.get_decomposition(sigma = 0, which = \"LM\", tol = 1e-5, maxiter = 100000)\n",
    "\n",
    "    # saving to file\n",
    "    np.save(output_eigenval,np.array(all_eigenval))\n",
    "    np.save(output_eigenvec,np.array(all_eigenvec))\n",
    "    t2 = time()\n",
    "    return t2-t1\n",
    "\n",
    "def plots_eigenval_eigenvec(input_eigenval, input_eigenvec, output_plot_eigenval, output_plot_eigenvec):\n",
    "    pt = PlotlyTransitions(is_msm=False,path_eigenvalues=input_eigenval,path_eigenvectors=input_eigenvec)\n",
    "    # eigenvectors\n",
    "    pt.plot_eigenvectors_flat()\n",
    "    pt.save_to(output_plot_eigenvec,height=1200)\n",
    "    # eigenvalues\n",
    "    pt.plot_eigenvalues()\n",
    "    pt.save_to(output_plot_eigenval)"
   ]
  },
  {
   "cell_type": "code",
   "execution_count": 12,
   "id": "b8b251ec-3238-4a19-b4fa-cc60bf6cf92d",
   "metadata": {},
   "outputs": [],
   "source": [
    "pt_identifier = \"water_water\"\n",
    "grid_identifier = \"bigger_ideal\""
   ]
  },
  {
   "cell_type": "code",
   "execution_count": 13,
   "id": "baf38a52-edf6-4c55-85bc-bedbb4012196",
   "metadata": {},
   "outputs": [],
   "source": [
    "my_shape, my_time = run_base_sqra(pt_identifier, grid_identifier, output_path=f\"{PATH_OUTPUT_AUTOSAVE}{pt_identifier}-{grid_identifier}_pure_rate_matrix.npz\")"
   ]
  },
  {
   "cell_type": "code",
   "execution_count": 14,
   "id": "04384e47-fa16-4f05-a8cd-4c24b37935b8",
   "metadata": {},
   "outputs": [
    {
     "name": "stdout",
     "output_type": "stream",
     "text": [
      "(50400, 50400) 0.9223246574401855\n"
     ]
    }
   ],
   "source": [
    "print(my_shape, my_time)"
   ]
  },
  {
   "cell_type": "code",
   "execution_count": 15,
   "id": "8f848342-3a70-416e-9826-92aaec878079",
   "metadata": {},
   "outputs": [],
   "source": [
    "dec_time = run_get_eigenval_eigenvec(f\"{PATH_OUTPUT_AUTOSAVE}{pt_identifier}-{grid_identifier}_pure_rate_matrix.npz\", \n",
    "                          f\"{PATH_OUTPUT_AUTOSAVE}{pt_identifier}-{grid_identifier}_pure_eigenval.npy\", f\"{PATH_OUTPUT_AUTOSAVE}{pt_identifier}-{grid_identifier}_pure_eigenvec.npy\")"
   ]
  },
  {
   "cell_type": "code",
   "execution_count": 16,
   "id": "251a15c8-e8a5-4b64-a2f2-0bc49150d389",
   "metadata": {},
   "outputs": [
    {
     "name": "stdout",
     "output_type": "stream",
     "text": [
      "114.57811141014099\n"
     ]
    }
   ],
   "source": [
    "print(dec_time)"
   ]
  },
  {
   "cell_type": "code",
   "execution_count": 17,
   "id": "f9da0abd-1267-4c97-8095-571ef8520a45",
   "metadata": {},
   "outputs": [
    {
     "ename": "MemoryError",
     "evalue": "Unable to allocate 18.4 GiB for an array with shape (50400, 49019) and data type float64",
     "output_type": "error",
     "traceback": [
      "\u001b[1;31m---------------------------------------------------------------------------\u001b[0m",
      "\u001b[1;31mMemoryError\u001b[0m                               Traceback (most recent call last)",
      "Cell \u001b[1;32mIn[17], line 4\u001b[0m\n\u001b[0;32m      2\u001b[0m fig \u001b[38;5;241m=\u001b[39m make_subplots(rows\u001b[38;5;241m=\u001b[39m\u001b[38;5;28mlen\u001b[39m(LOWER_LIMS), cols\u001b[38;5;241m=\u001b[39m\u001b[38;5;241m1\u001b[39m, subplot_titles\u001b[38;5;241m=\u001b[39m[\u001b[38;5;124mf\u001b[39m\u001b[38;5;124m\"\u001b[39m\u001b[38;5;124mLower_lim = \u001b[39m\u001b[38;5;132;01m{\u001b[39;00mlower\u001b[38;5;132;01m}\u001b[39;00m\u001b[38;5;124m\"\u001b[39m \u001b[38;5;28;01mfor\u001b[39;00m lower \u001b[38;5;129;01min\u001b[39;00m LOWER_LIMS])\n\u001b[0;32m      3\u001b[0m \u001b[38;5;28;01mfor\u001b[39;00m i, lower_lim \u001b[38;5;129;01min\u001b[39;00m \u001b[38;5;28menumerate\u001b[39m(LOWER_LIMS):\n\u001b[1;32m----> 4\u001b[0m     \u001b[43mrun_cut_merge\u001b[49m\u001b[43m(\u001b[49m\u001b[43mgrid_identifier\u001b[49m\u001b[43m,\u001b[49m\u001b[43m \u001b[49m\u001b[43mpt_identifier\u001b[49m\u001b[43m,\u001b[49m\u001b[43m \u001b[49m\u001b[38;5;124;43mf\u001b[39;49m\u001b[38;5;124;43m\"\u001b[39;49m\u001b[38;5;132;43;01m{\u001b[39;49;00m\u001b[43mPATH_OUTPUT_AUTOSAVE\u001b[49m\u001b[38;5;132;43;01m}\u001b[39;49;00m\u001b[38;5;132;43;01m{\u001b[39;49;00m\u001b[43mpt_identifier\u001b[49m\u001b[38;5;132;43;01m}\u001b[39;49;00m\u001b[38;5;124;43m-\u001b[39;49m\u001b[38;5;132;43;01m{\u001b[39;49;00m\u001b[43mgrid_identifier\u001b[49m\u001b[38;5;132;43;01m}\u001b[39;49;00m\u001b[38;5;124;43m_pure_rate_matrix.npz\u001b[39;49m\u001b[38;5;124;43m\"\u001b[39;49m\u001b[43m,\u001b[49m\u001b[43m \u001b[49m\u001b[43mlower_lim\u001b[49m\u001b[43m,\u001b[49m\u001b[43m \u001b[49m\u001b[38;5;28;43;01mNone\u001b[39;49;00m\u001b[43m,\u001b[49m\n\u001b[0;32m      5\u001b[0m \u001b[43m                  \u001b[49m\u001b[38;5;124;43mf\u001b[39;49m\u001b[38;5;124;43m\"\u001b[39;49m\u001b[38;5;132;43;01m{\u001b[39;49;00m\u001b[43mPATH_OUTPUT_AUTOSAVE\u001b[49m\u001b[38;5;132;43;01m}\u001b[39;49;00m\u001b[38;5;132;43;01m{\u001b[39;49;00m\u001b[43mpt_identifier\u001b[49m\u001b[38;5;132;43;01m}\u001b[39;49;00m\u001b[38;5;124;43m-\u001b[39;49m\u001b[38;5;132;43;01m{\u001b[39;49;00m\u001b[43mgrid_identifier\u001b[49m\u001b[38;5;132;43;01m}\u001b[39;49;00m\u001b[38;5;124;43m_rate_matrix_lower_\u001b[39;49m\u001b[38;5;132;43;01m{\u001b[39;49;00m\u001b[43mi\u001b[49m\u001b[38;5;132;43;01m}\u001b[39;49;00m\u001b[38;5;124;43m.npz\u001b[39;49m\u001b[38;5;124;43m\"\u001b[39;49m\u001b[43m,\u001b[49m\n\u001b[0;32m      6\u001b[0m \u001b[43m                 \u001b[49m\u001b[38;5;124;43mf\u001b[39;49m\u001b[38;5;124;43m\"\u001b[39;49m\u001b[38;5;132;43;01m{\u001b[39;49;00m\u001b[43mPATH_OUTPUT_AUTOSAVE\u001b[49m\u001b[38;5;132;43;01m}\u001b[39;49;00m\u001b[38;5;132;43;01m{\u001b[39;49;00m\u001b[43mpt_identifier\u001b[49m\u001b[38;5;132;43;01m}\u001b[39;49;00m\u001b[38;5;124;43m-\u001b[39;49m\u001b[38;5;132;43;01m{\u001b[39;49;00m\u001b[43mgrid_identifier\u001b[49m\u001b[38;5;132;43;01m}\u001b[39;49;00m\u001b[38;5;124;43m_index_list_lower_\u001b[39;49m\u001b[38;5;132;43;01m{\u001b[39;49;00m\u001b[43mi\u001b[49m\u001b[38;5;132;43;01m}\u001b[39;49;00m\u001b[38;5;124;43m.npy\u001b[39;49m\u001b[38;5;124;43m\"\u001b[39;49m\u001b[43m)\u001b[49m\n\u001b[0;32m      7\u001b[0m     run_get_eigenval_eigenvec(\u001b[38;5;124mf\u001b[39m\u001b[38;5;124m\"\u001b[39m\u001b[38;5;132;01m{\u001b[39;00mPATH_OUTPUT_AUTOSAVE\u001b[38;5;132;01m}\u001b[39;00m\u001b[38;5;132;01m{\u001b[39;00mpt_identifier\u001b[38;5;132;01m}\u001b[39;00m\u001b[38;5;124m-\u001b[39m\u001b[38;5;132;01m{\u001b[39;00mgrid_identifier\u001b[38;5;132;01m}\u001b[39;00m\u001b[38;5;124m_rate_matrix_lower_\u001b[39m\u001b[38;5;132;01m{\u001b[39;00mi\u001b[38;5;132;01m}\u001b[39;00m\u001b[38;5;124m.npz\u001b[39m\u001b[38;5;124m\"\u001b[39m, \n\u001b[0;32m      8\u001b[0m                               \u001b[38;5;124mf\u001b[39m\u001b[38;5;124m\"\u001b[39m\u001b[38;5;132;01m{\u001b[39;00mPATH_OUTPUT_AUTOSAVE\u001b[38;5;132;01m}\u001b[39;00m\u001b[38;5;132;01m{\u001b[39;00mpt_identifier\u001b[38;5;132;01m}\u001b[39;00m\u001b[38;5;124m-\u001b[39m\u001b[38;5;132;01m{\u001b[39;00mgrid_identifier\u001b[38;5;132;01m}\u001b[39;00m\u001b[38;5;124m_eigenval_lower_\u001b[39m\u001b[38;5;132;01m{\u001b[39;00mi\u001b[38;5;132;01m}\u001b[39;00m\u001b[38;5;124m.npy\u001b[39m\u001b[38;5;124m\"\u001b[39m, \n\u001b[0;32m      9\u001b[0m                               \u001b[38;5;124mf\u001b[39m\u001b[38;5;124m\"\u001b[39m\u001b[38;5;132;01m{\u001b[39;00mPATH_OUTPUT_AUTOSAVE\u001b[38;5;132;01m}\u001b[39;00m\u001b[38;5;132;01m{\u001b[39;00mpt_identifier\u001b[38;5;132;01m}\u001b[39;00m\u001b[38;5;124m-\u001b[39m\u001b[38;5;132;01m{\u001b[39;00mgrid_identifier\u001b[38;5;132;01m}\u001b[39;00m\u001b[38;5;124m_eigenvec_lower_\u001b[39m\u001b[38;5;132;01m{\u001b[39;00mi\u001b[38;5;132;01m}\u001b[39;00m\u001b[38;5;124m.npy\u001b[39m\u001b[38;5;124m\"\u001b[39m)\n\u001b[0;32m     10\u001b[0m     pt \u001b[38;5;241m=\u001b[39m PlotlyTransitions(is_msm\u001b[38;5;241m=\u001b[39m\u001b[38;5;28;01mFalse\u001b[39;00m,path_eigenvalues\u001b[38;5;241m=\u001b[39minput_eigenval,path_eigenvectors\u001b[38;5;241m=\u001b[39minput_eigenvec)\n",
      "Cell \u001b[1;32mIn[11], line 29\u001b[0m, in \u001b[0;36mrun_cut_merge\u001b[1;34m(grid_identifier, pt_identifier, rate_matrix_path, lower_limit, upper_limit, output_path, output_index, T)\u001b[0m\n\u001b[0;32m     26\u001b[0m energies \u001b[38;5;241m=\u001b[39m my_parsed\u001b[38;5;241m.\u001b[39mget_parsed_energy()\u001b[38;5;241m.\u001b[39mget_energies(\u001b[38;5;124m\"\u001b[39m\u001b[38;5;124mPotential\u001b[39m\u001b[38;5;124m\"\u001b[39m)\n\u001b[0;32m     28\u001b[0m sqra \u001b[38;5;241m=\u001b[39m SQRA(energies\u001b[38;5;241m=\u001b[39menergies, volumes\u001b[38;5;241m=\u001b[39mall_volumes, distances\u001b[38;5;241m=\u001b[39mall_distances, surfaces\u001b[38;5;241m=\u001b[39mall_surfaces)\n\u001b[1;32m---> 29\u001b[0m rate_matrix, index_list \u001b[38;5;241m=\u001b[39m \u001b[43msqra\u001b[49m\u001b[38;5;241;43m.\u001b[39;49m\u001b[43mcut_and_merge\u001b[49m\u001b[43m(\u001b[49m\u001b[43mmy_matrix\u001b[49m\u001b[43m,\u001b[49m\u001b[43m \u001b[49m\u001b[43mT\u001b[49m\u001b[38;5;241;43m=\u001b[39;49m\u001b[43mT\u001b[49m\u001b[43m,\u001b[49m\u001b[43m \u001b[49m\u001b[43mlower_limit\u001b[49m\u001b[38;5;241;43m=\u001b[39;49m\u001b[43mlower_limit\u001b[49m\u001b[43m,\u001b[49m\n\u001b[0;32m     30\u001b[0m \u001b[43m    \u001b[49m\u001b[43mupper_limit\u001b[49m\u001b[38;5;241;43m=\u001b[39;49m\u001b[43mupper_limit\u001b[49m\u001b[43m)\u001b[49m\n\u001b[0;32m     32\u001b[0m \u001b[38;5;66;03m# saving to file\u001b[39;00m\n\u001b[0;32m     33\u001b[0m sparse\u001b[38;5;241m.\u001b[39msave_npz(output_path, rate_matrix)\n",
      "File \u001b[1;32mD:\\HANA\\phD\\PAPER_2022\\molecularRotationalGrids\\molgri\\molecules\\transitions.py:370\u001b[0m, in \u001b[0;36mSQRA.cut_and_merge\u001b[1;34m(self, transition_matrix, T, lower_limit, upper_limit)\u001b[0m\n\u001b[0;32m    367\u001b[0m \u001b[38;5;28;01mif\u001b[39;00m lower_limit \u001b[38;5;129;01mis\u001b[39;00m \u001b[38;5;129;01mnot\u001b[39;00m \u001b[38;5;28;01mNone\u001b[39;00m:\n\u001b[0;32m    368\u001b[0m     rate_to_join \u001b[38;5;241m=\u001b[39m determine_rate_cells_to_join(\u001b[38;5;28mself\u001b[39m\u001b[38;5;241m.\u001b[39mdistances, \u001b[38;5;28mself\u001b[39m\u001b[38;5;241m.\u001b[39menergies,\n\u001b[0;32m    369\u001b[0m         bottom_treshold\u001b[38;5;241m=\u001b[39mlower_limit, T\u001b[38;5;241m=\u001b[39mT)\n\u001b[1;32m--> 370\u001b[0m     transition_matrix, current_index_list \u001b[38;5;241m=\u001b[39m \u001b[43mmerge_matrix_cells\u001b[49m\u001b[43m(\u001b[49m\u001b[43mmy_matrix\u001b[49m\u001b[38;5;241;43m=\u001b[39;49m\u001b[43mtransition_matrix\u001b[49m\u001b[43m,\u001b[49m\n\u001b[0;32m    371\u001b[0m \u001b[43m        \u001b[49m\u001b[43mall_to_join\u001b[49m\u001b[38;5;241;43m=\u001b[39;49m\u001b[43mrate_to_join\u001b[49m\u001b[43m,\u001b[49m\u001b[43m \u001b[49m\u001b[43mindex_list\u001b[49m\u001b[38;5;241;43m=\u001b[39;49m\u001b[38;5;28;43;01mNone\u001b[39;49;00m\u001b[43m)\u001b[49m\n\u001b[0;32m    372\u001b[0m \u001b[38;5;28;01melse\u001b[39;00m:\n\u001b[0;32m    373\u001b[0m     current_index_list \u001b[38;5;241m=\u001b[39m \u001b[38;5;28;01mNone\u001b[39;00m\n",
      "File \u001b[1;32mD:\\HANA\\phD\\PAPER_2022\\molecularRotationalGrids\\molgri\\molecules\\rate_merger.py:158\u001b[0m, in \u001b[0;36mmerge_matrix_cells\u001b[1;34m(my_matrix, all_to_join, index_list)\u001b[0m\n\u001b[0;32m    155\u001b[0m     merge_matrix \u001b[38;5;241m=\u001b[39m merge_matrix\u001b[38;5;241m.\u001b[39mtodense()\n\u001b[0;32m    157\u001b[0m \u001b[38;5;66;03m# now apply merge_matrix^T @ my_matrix @ merge_matrix -> this is a fast operation\u001b[39;00m\n\u001b[1;32m--> 158\u001b[0m result \u001b[38;5;241m=\u001b[39m \u001b[43mmy_matrix\u001b[49m\u001b[38;5;241;43m.\u001b[39;49m\u001b[43mdot\u001b[49m\u001b[43m(\u001b[49m\u001b[43mmerge_matrix\u001b[49m\u001b[43m)\u001b[49m\n\u001b[0;32m    159\u001b[0m result \u001b[38;5;241m=\u001b[39m merge_matrix\u001b[38;5;241m.\u001b[39mT\u001b[38;5;241m.\u001b[39mdot(result)\n\u001b[0;32m    161\u001b[0m \u001b[38;5;66;03m# expand the collective index\u001b[39;00m\n",
      "File \u001b[1;32m~\\anaconda3\\lib\\site-packages\\scipy\\sparse\\_base.py:416\u001b[0m, in \u001b[0;36mspmatrix.dot\u001b[1;34m(self, other)\u001b[0m\n\u001b[0;32m    414\u001b[0m     \u001b[38;5;28;01mreturn\u001b[39;00m \u001b[38;5;28mself\u001b[39m \u001b[38;5;241m*\u001b[39m other\n\u001b[0;32m    415\u001b[0m \u001b[38;5;28;01melse\u001b[39;00m:\n\u001b[1;32m--> 416\u001b[0m     \u001b[38;5;28;01mreturn\u001b[39;00m \u001b[38;5;28;43mself\u001b[39;49m\u001b[43m \u001b[49m\u001b[38;5;241;43m@\u001b[39;49m\u001b[43m \u001b[49m\u001b[43mother\u001b[49m\n",
      "File \u001b[1;32m~\\anaconda3\\lib\\site-packages\\scipy\\sparse\\_base.py:630\u001b[0m, in \u001b[0;36mspmatrix.__matmul__\u001b[1;34m(self, other)\u001b[0m\n\u001b[0;32m    627\u001b[0m \u001b[38;5;28;01mif\u001b[39;00m isscalarlike(other):\n\u001b[0;32m    628\u001b[0m     \u001b[38;5;28;01mraise\u001b[39;00m \u001b[38;5;167;01mValueError\u001b[39;00m(\u001b[38;5;124m\"\u001b[39m\u001b[38;5;124mScalar operands are not allowed, \u001b[39m\u001b[38;5;124m\"\u001b[39m\n\u001b[0;32m    629\u001b[0m                      \u001b[38;5;124m\"\u001b[39m\u001b[38;5;124muse \u001b[39m\u001b[38;5;124m'\u001b[39m\u001b[38;5;124m*\u001b[39m\u001b[38;5;124m'\u001b[39m\u001b[38;5;124m instead\u001b[39m\u001b[38;5;124m\"\u001b[39m)\n\u001b[1;32m--> 630\u001b[0m \u001b[38;5;28;01mreturn\u001b[39;00m \u001b[38;5;28;43mself\u001b[39;49m\u001b[38;5;241;43m.\u001b[39;49m\u001b[43m_mul_dispatch\u001b[49m\u001b[43m(\u001b[49m\u001b[43mother\u001b[49m\u001b[43m)\u001b[49m\n",
      "File \u001b[1;32m~\\anaconda3\\lib\\site-packages\\scipy\\sparse\\_base.py:532\u001b[0m, in \u001b[0;36mspmatrix._mul_dispatch\u001b[1;34m(self, other)\u001b[0m\n\u001b[0;32m    530\u001b[0m         \u001b[38;5;28;01mreturn\u001b[39;00m \u001b[38;5;28mself\u001b[39m\u001b[38;5;241m.\u001b[39m_mul_vector(other\u001b[38;5;241m.\u001b[39mravel())\u001b[38;5;241m.\u001b[39mreshape(M, \u001b[38;5;241m1\u001b[39m)\n\u001b[0;32m    531\u001b[0m     \u001b[38;5;28;01melif\u001b[39;00m other\u001b[38;5;241m.\u001b[39mndim \u001b[38;5;241m==\u001b[39m \u001b[38;5;241m2\u001b[39m \u001b[38;5;129;01mand\u001b[39;00m other\u001b[38;5;241m.\u001b[39mshape[\u001b[38;5;241m0\u001b[39m] \u001b[38;5;241m==\u001b[39m N:\n\u001b[1;32m--> 532\u001b[0m         \u001b[38;5;28;01mreturn\u001b[39;00m \u001b[38;5;28;43mself\u001b[39;49m\u001b[38;5;241;43m.\u001b[39;49m\u001b[43m_mul_multivector\u001b[49m\u001b[43m(\u001b[49m\u001b[43mother\u001b[49m\u001b[43m)\u001b[49m\n\u001b[0;32m    534\u001b[0m \u001b[38;5;28;01mif\u001b[39;00m isscalarlike(other):\n\u001b[0;32m    535\u001b[0m     \u001b[38;5;66;03m# scalar value\u001b[39;00m\n\u001b[0;32m    536\u001b[0m     \u001b[38;5;28;01mreturn\u001b[39;00m \u001b[38;5;28mself\u001b[39m\u001b[38;5;241m.\u001b[39m_mul_scalar(other)\n",
      "File \u001b[1;32m~\\anaconda3\\lib\\site-packages\\scipy\\sparse\\_compressed.py:497\u001b[0m, in \u001b[0;36m_cs_matrix._mul_multivector\u001b[1;34m(self, other)\u001b[0m\n\u001b[0;32m    494\u001b[0m M, N \u001b[38;5;241m=\u001b[39m \u001b[38;5;28mself\u001b[39m\u001b[38;5;241m.\u001b[39mshape\n\u001b[0;32m    495\u001b[0m n_vecs \u001b[38;5;241m=\u001b[39m other\u001b[38;5;241m.\u001b[39mshape[\u001b[38;5;241m1\u001b[39m]  \u001b[38;5;66;03m# number of column vectors\u001b[39;00m\n\u001b[1;32m--> 497\u001b[0m result \u001b[38;5;241m=\u001b[39m \u001b[43mnp\u001b[49m\u001b[38;5;241;43m.\u001b[39;49m\u001b[43mzeros\u001b[49m\u001b[43m(\u001b[49m\u001b[43m(\u001b[49m\u001b[43mM\u001b[49m\u001b[43m,\u001b[49m\u001b[43m \u001b[49m\u001b[43mn_vecs\u001b[49m\u001b[43m)\u001b[49m\u001b[43m,\u001b[49m\n\u001b[0;32m    498\u001b[0m \u001b[43m                  \u001b[49m\u001b[43mdtype\u001b[49m\u001b[38;5;241;43m=\u001b[39;49m\u001b[43mupcast_char\u001b[49m\u001b[43m(\u001b[49m\u001b[38;5;28;43mself\u001b[39;49m\u001b[38;5;241;43m.\u001b[39;49m\u001b[43mdtype\u001b[49m\u001b[38;5;241;43m.\u001b[39;49m\u001b[43mchar\u001b[49m\u001b[43m,\u001b[49m\u001b[43m \u001b[49m\u001b[43mother\u001b[49m\u001b[38;5;241;43m.\u001b[39;49m\u001b[43mdtype\u001b[49m\u001b[38;5;241;43m.\u001b[39;49m\u001b[43mchar\u001b[49m\u001b[43m)\u001b[49m\u001b[43m)\u001b[49m\n\u001b[0;32m    500\u001b[0m \u001b[38;5;66;03m# csr_matvecs or csc_matvecs\u001b[39;00m\n\u001b[0;32m    501\u001b[0m fn \u001b[38;5;241m=\u001b[39m \u001b[38;5;28mgetattr\u001b[39m(_sparsetools, \u001b[38;5;28mself\u001b[39m\u001b[38;5;241m.\u001b[39mformat \u001b[38;5;241m+\u001b[39m \u001b[38;5;124m'\u001b[39m\u001b[38;5;124m_matvecs\u001b[39m\u001b[38;5;124m'\u001b[39m)\n",
      "\u001b[1;31mMemoryError\u001b[0m: Unable to allocate 18.4 GiB for an array with shape (50400, 49019) and data type float64"
     ]
    }
   ],
   "source": [
    "LOWER_LIMS = [0.001, 0.01, 0.05, 0.1, 0.2, 0.3, 0.5]\n",
    "fig = make_subplots(rows=len(LOWER_LIMS), cols=1, subplot_titles=[f\"Lower_lim = {lower}\" for lower in LOWER_LIMS])\n",
    "for i, lower_lim in enumerate(LOWER_LIMS):\n",
    "    run_cut_merge(grid_identifier, pt_identifier, f\"{PATH_OUTPUT_AUTOSAVE}{pt_identifier}-{grid_identifier}_pure_rate_matrix.npz\", lower_lim, None,\n",
    "                  f\"{PATH_OUTPUT_AUTOSAVE}{pt_identifier}-{grid_identifier}_rate_matrix_lower_{i}.npz\",\n",
    "                 f\"{PATH_OUTPUT_AUTOSAVE}{pt_identifier}-{grid_identifier}_index_list_lower_{i}.npy\")\n",
    "    run_get_eigenval_eigenvec(f\"{PATH_OUTPUT_AUTOSAVE}{pt_identifier}-{grid_identifier}_rate_matrix_lower_{i}.npz\", \n",
    "                              f\"{PATH_OUTPUT_AUTOSAVE}{pt_identifier}-{grid_identifier}_eigenval_lower_{i}.npy\", \n",
    "                              f\"{PATH_OUTPUT_AUTOSAVE}{pt_identifier}-{grid_identifier}_eigenvec_lower_{i}.npy\")\n",
    "    pt = PlotlyTransitions(is_msm=False,path_eigenvalues=input_eigenval,path_eigenvectors=input_eigenvec)\n",
    "    pt.fig = fig\n",
    "    pt.plot_eigenvectors_flat()\n",
    "fig.show()"
   ]
  },
  {
   "cell_type": "code",
   "execution_count": null,
   "id": "4c0b5322-873a-41e4-8c7f-2cf81818bb9c",
   "metadata": {},
   "outputs": [],
   "source": []
  },
  {
   "cell_type": "code",
   "execution_count": null,
   "id": "15f65165-13d8-41ee-9288-b990b2ad08f6",
   "metadata": {},
   "outputs": [],
   "source": []
  }
 ],
 "metadata": {
  "kernelspec": {
   "display_name": "Python 3 (ipykernel)",
   "language": "python",
   "name": "python3"
  },
  "language_info": {
   "codemirror_mode": {
    "name": "ipython",
    "version": 3
   },
   "file_extension": ".py",
   "mimetype": "text/x-python",
   "name": "python",
   "nbconvert_exporter": "python",
   "pygments_lexer": "ipython3",
   "version": "3.8.18"
  }
 },
 "nbformat": 4,
 "nbformat_minor": 5
}
